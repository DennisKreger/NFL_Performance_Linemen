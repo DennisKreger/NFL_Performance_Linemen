{
 "cells": [
  {
   "cell_type": "code",
   "execution_count": 1,
   "id": "3a36789c",
   "metadata": {},
   "outputs": [],
   "source": [
    "import pandas as pd\n",
    "import numpy as np\n",
    "import matplotlib.pyplot as plt\n",
    "from sklearn.linear_model import LinearRegression\n",
    "import re\n",
    "import plotly.express as px\n",
    "\n",
    "import warnings\n",
    "warnings.filterwarnings('ignore')"
   ]
  },
  {
   "cell_type": "code",
   "execution_count": 2,
   "id": "8676f9e6",
   "metadata": {},
   "outputs": [],
   "source": [
    "games = pd.read_csv('./Resources/games.csv')\n",
    "pff_scouting_data = pd.read_csv('./Resources/pffScoutingData.csv')\n",
    "players = pd.read_csv('./Resources/players.csv')\n",
    "plays = pd.read_csv('./Resources/plays.csv')\n",
    "\n",
    "week_1 = pd.read_csv('./Resources/week1.csv')\n",
    "week_2 = pd.read_csv('./Resources/week2.csv')\n",
    "week_3 = pd.read_csv('./Resources/week3.csv')\n",
    "week_4 = pd.read_csv('./Resources/week4.csv')\n",
    "week_5 = pd.read_csv('./Resources/week5.csv')\n",
    "week_6 = pd.read_csv('./Resources/week6.csv')\n",
    "week_7 = pd.read_csv('./Resources/week7.csv')\n",
    "week_8 = pd.read_csv('./Resources/week8.csv')"
   ]
  },
  {
   "cell_type": "code",
   "execution_count": 3,
   "id": "2d27019b",
   "metadata": {},
   "outputs": [],
   "source": [
    "tracking = week_1.append([\n",
    "    week_2,\n",
    "    week_3,\n",
    "    week_4,\n",
    "    week_5,\n",
    "    week_6,\n",
    "    week_7,\n",
    "    week_8,\n",
    "])"
   ]
  },
  {
   "cell_type": "code",
   "execution_count": 4,
   "id": "9d36db13",
   "metadata": {
    "scrolled": true
   },
   "outputs": [
    {
     "data": {
      "text/html": [
       "<div>\n",
       "<style scoped>\n",
       "    .dataframe tbody tr th:only-of-type {\n",
       "        vertical-align: middle;\n",
       "    }\n",
       "\n",
       "    .dataframe tbody tr th {\n",
       "        vertical-align: top;\n",
       "    }\n",
       "\n",
       "    .dataframe thead th {\n",
       "        text-align: right;\n",
       "    }\n",
       "</style>\n",
       "<table border=\"1\" class=\"dataframe\">\n",
       "  <thead>\n",
       "    <tr style=\"text-align: right;\">\n",
       "      <th></th>\n",
       "      <th>gameId</th>\n",
       "      <th>playId</th>\n",
       "      <th>nflId</th>\n",
       "      <th>pff_role</th>\n",
       "      <th>pff_positionLinedUp</th>\n",
       "      <th>pff_hit</th>\n",
       "      <th>pff_hurry</th>\n",
       "      <th>pff_sack</th>\n",
       "      <th>pff_beatenByDefender</th>\n",
       "      <th>pff_hitAllowed</th>\n",
       "      <th>pff_hurryAllowed</th>\n",
       "      <th>pff_sackAllowed</th>\n",
       "      <th>pff_nflIdBlockedPlayer</th>\n",
       "      <th>pff_blockType</th>\n",
       "      <th>pff_backFieldBlock</th>\n",
       "    </tr>\n",
       "  </thead>\n",
       "  <tbody>\n",
       "    <tr>\n",
       "      <th>4</th>\n",
       "      <td>2021090900</td>\n",
       "      <td>97</td>\n",
       "      <td>40151</td>\n",
       "      <td>Pass Block</td>\n",
       "      <td>C</td>\n",
       "      <td>NaN</td>\n",
       "      <td>NaN</td>\n",
       "      <td>NaN</td>\n",
       "      <td>0.0</td>\n",
       "      <td>0.0</td>\n",
       "      <td>0.0</td>\n",
       "      <td>0.0</td>\n",
       "      <td>44955.0</td>\n",
       "      <td>SW</td>\n",
       "      <td>0.0</td>\n",
       "    </tr>\n",
       "    <tr>\n",
       "      <th>7</th>\n",
       "      <td>2021090900</td>\n",
       "      <td>97</td>\n",
       "      <td>42377</td>\n",
       "      <td>Pass Block</td>\n",
       "      <td>LT</td>\n",
       "      <td>NaN</td>\n",
       "      <td>NaN</td>\n",
       "      <td>NaN</td>\n",
       "      <td>0.0</td>\n",
       "      <td>0.0</td>\n",
       "      <td>1.0</td>\n",
       "      <td>0.0</td>\n",
       "      <td>42403.0</td>\n",
       "      <td>PP</td>\n",
       "      <td>0.0</td>\n",
       "    </tr>\n",
       "    <tr>\n",
       "      <th>9</th>\n",
       "      <td>2021090900</td>\n",
       "      <td>97</td>\n",
       "      <td>42404</td>\n",
       "      <td>Pass Block</td>\n",
       "      <td>LG</td>\n",
       "      <td>NaN</td>\n",
       "      <td>NaN</td>\n",
       "      <td>NaN</td>\n",
       "      <td>0.0</td>\n",
       "      <td>0.0</td>\n",
       "      <td>0.0</td>\n",
       "      <td>0.0</td>\n",
       "      <td>44955.0</td>\n",
       "      <td>PP</td>\n",
       "      <td>0.0</td>\n",
       "    </tr>\n",
       "    <tr>\n",
       "      <th>16</th>\n",
       "      <td>2021090900</td>\n",
       "      <td>97</td>\n",
       "      <td>46163</td>\n",
       "      <td>Pass Block</td>\n",
       "      <td>RG</td>\n",
       "      <td>NaN</td>\n",
       "      <td>NaN</td>\n",
       "      <td>NaN</td>\n",
       "      <td>0.0</td>\n",
       "      <td>0.0</td>\n",
       "      <td>1.0</td>\n",
       "      <td>0.0</td>\n",
       "      <td>53441.0</td>\n",
       "      <td>SW</td>\n",
       "      <td>0.0</td>\n",
       "    </tr>\n",
       "    <tr>\n",
       "      <th>18</th>\n",
       "      <td>2021090900</td>\n",
       "      <td>97</td>\n",
       "      <td>52421</td>\n",
       "      <td>Pass Block</td>\n",
       "      <td>RT</td>\n",
       "      <td>NaN</td>\n",
       "      <td>NaN</td>\n",
       "      <td>NaN</td>\n",
       "      <td>0.0</td>\n",
       "      <td>0.0</td>\n",
       "      <td>1.0</td>\n",
       "      <td>0.0</td>\n",
       "      <td>53441.0</td>\n",
       "      <td>PP</td>\n",
       "      <td>0.0</td>\n",
       "    </tr>\n",
       "    <tr>\n",
       "      <th>...</th>\n",
       "      <td>...</td>\n",
       "      <td>...</td>\n",
       "      <td>...</td>\n",
       "      <td>...</td>\n",
       "      <td>...</td>\n",
       "      <td>...</td>\n",
       "      <td>...</td>\n",
       "      <td>...</td>\n",
       "      <td>...</td>\n",
       "      <td>...</td>\n",
       "      <td>...</td>\n",
       "      <td>...</td>\n",
       "      <td>...</td>\n",
       "      <td>...</td>\n",
       "      <td>...</td>\n",
       "    </tr>\n",
       "    <tr>\n",
       "      <th>188238</th>\n",
       "      <td>2021110100</td>\n",
       "      <td>4433</td>\n",
       "      <td>43425</td>\n",
       "      <td>Pass Route</td>\n",
       "      <td>HB-R</td>\n",
       "      <td>NaN</td>\n",
       "      <td>NaN</td>\n",
       "      <td>NaN</td>\n",
       "      <td>0.0</td>\n",
       "      <td>0.0</td>\n",
       "      <td>0.0</td>\n",
       "      <td>0.0</td>\n",
       "      <td>43326.0</td>\n",
       "      <td>CH</td>\n",
       "      <td>1.0</td>\n",
       "    </tr>\n",
       "    <tr>\n",
       "      <th>188239</th>\n",
       "      <td>2021110100</td>\n",
       "      <td>4433</td>\n",
       "      <td>43695</td>\n",
       "      <td>Pass Block</td>\n",
       "      <td>LG</td>\n",
       "      <td>NaN</td>\n",
       "      <td>NaN</td>\n",
       "      <td>NaN</td>\n",
       "      <td>0.0</td>\n",
       "      <td>0.0</td>\n",
       "      <td>0.0</td>\n",
       "      <td>1.0</td>\n",
       "      <td>43338.0</td>\n",
       "      <td>SW</td>\n",
       "      <td>0.0</td>\n",
       "    </tr>\n",
       "    <tr>\n",
       "      <th>188240</th>\n",
       "      <td>2021110100</td>\n",
       "      <td>4433</td>\n",
       "      <td>44835</td>\n",
       "      <td>Pass Route</td>\n",
       "      <td>SLiWR</td>\n",
       "      <td>NaN</td>\n",
       "      <td>NaN</td>\n",
       "      <td>NaN</td>\n",
       "      <td>0.0</td>\n",
       "      <td>0.0</td>\n",
       "      <td>0.0</td>\n",
       "      <td>0.0</td>\n",
       "      <td>42406.0</td>\n",
       "      <td>CH</td>\n",
       "      <td>0.0</td>\n",
       "    </tr>\n",
       "    <tr>\n",
       "      <th>188242</th>\n",
       "      <td>2021110100</td>\n",
       "      <td>4433</td>\n",
       "      <td>46103</td>\n",
       "      <td>Pass Block</td>\n",
       "      <td>RG</td>\n",
       "      <td>NaN</td>\n",
       "      <td>NaN</td>\n",
       "      <td>NaN</td>\n",
       "      <td>0.0</td>\n",
       "      <td>0.0</td>\n",
       "      <td>0.0</td>\n",
       "      <td>0.0</td>\n",
       "      <td>43326.0</td>\n",
       "      <td>PP</td>\n",
       "      <td>0.0</td>\n",
       "    </tr>\n",
       "    <tr>\n",
       "      <th>188249</th>\n",
       "      <td>2021110100</td>\n",
       "      <td>4433</td>\n",
       "      <td>52507</td>\n",
       "      <td>Pass Block</td>\n",
       "      <td>LT</td>\n",
       "      <td>NaN</td>\n",
       "      <td>NaN</td>\n",
       "      <td>NaN</td>\n",
       "      <td>0.0</td>\n",
       "      <td>0.0</td>\n",
       "      <td>1.0</td>\n",
       "      <td>0.0</td>\n",
       "      <td>43338.0</td>\n",
       "      <td>PP</td>\n",
       "      <td>0.0</td>\n",
       "    </tr>\n",
       "  </tbody>\n",
       "</table>\n",
       "<p>46526 rows × 15 columns</p>\n",
       "</div>"
      ],
      "text/plain": [
       "            gameId  playId  nflId    pff_role pff_positionLinedUp  pff_hit  \\\n",
       "4       2021090900      97  40151  Pass Block                   C      NaN   \n",
       "7       2021090900      97  42377  Pass Block                  LT      NaN   \n",
       "9       2021090900      97  42404  Pass Block                  LG      NaN   \n",
       "16      2021090900      97  46163  Pass Block                  RG      NaN   \n",
       "18      2021090900      97  52421  Pass Block                  RT      NaN   \n",
       "...            ...     ...    ...         ...                 ...      ...   \n",
       "188238  2021110100    4433  43425  Pass Route                HB-R      NaN   \n",
       "188239  2021110100    4433  43695  Pass Block                  LG      NaN   \n",
       "188240  2021110100    4433  44835  Pass Route               SLiWR      NaN   \n",
       "188242  2021110100    4433  46103  Pass Block                  RG      NaN   \n",
       "188249  2021110100    4433  52507  Pass Block                  LT      NaN   \n",
       "\n",
       "        pff_hurry  pff_sack  pff_beatenByDefender  pff_hitAllowed  \\\n",
       "4             NaN       NaN                   0.0             0.0   \n",
       "7             NaN       NaN                   0.0             0.0   \n",
       "9             NaN       NaN                   0.0             0.0   \n",
       "16            NaN       NaN                   0.0             0.0   \n",
       "18            NaN       NaN                   0.0             0.0   \n",
       "...           ...       ...                   ...             ...   \n",
       "188238        NaN       NaN                   0.0             0.0   \n",
       "188239        NaN       NaN                   0.0             0.0   \n",
       "188240        NaN       NaN                   0.0             0.0   \n",
       "188242        NaN       NaN                   0.0             0.0   \n",
       "188249        NaN       NaN                   0.0             0.0   \n",
       "\n",
       "        pff_hurryAllowed  pff_sackAllowed  pff_nflIdBlockedPlayer  \\\n",
       "4                    0.0              0.0                 44955.0   \n",
       "7                    1.0              0.0                 42403.0   \n",
       "9                    0.0              0.0                 44955.0   \n",
       "16                   1.0              0.0                 53441.0   \n",
       "18                   1.0              0.0                 53441.0   \n",
       "...                  ...              ...                     ...   \n",
       "188238               0.0              0.0                 43326.0   \n",
       "188239               0.0              1.0                 43338.0   \n",
       "188240               0.0              0.0                 42406.0   \n",
       "188242               0.0              0.0                 43326.0   \n",
       "188249               1.0              0.0                 43338.0   \n",
       "\n",
       "       pff_blockType  pff_backFieldBlock  \n",
       "4                 SW                 0.0  \n",
       "7                 PP                 0.0  \n",
       "9                 PP                 0.0  \n",
       "16                SW                 0.0  \n",
       "18                PP                 0.0  \n",
       "...              ...                 ...  \n",
       "188238            CH                 1.0  \n",
       "188239            SW                 0.0  \n",
       "188240            CH                 0.0  \n",
       "188242            PP                 0.0  \n",
       "188249            PP                 0.0  \n",
       "\n",
       "[46526 rows x 15 columns]"
      ]
     },
     "execution_count": 4,
     "metadata": {},
     "output_type": "execute_result"
    }
   ],
   "source": [
    "# Filter for blocking linemen\n",
    "blocker_pff_scouting_data = pff_scouting_data[pff_scouting_data['pff_nflIdBlockedPlayer'].notna()]\n",
    "blocker_pff_scouting_data"
   ]
  },
  {
   "cell_type": "code",
   "execution_count": 5,
   "id": "ce3d09a0",
   "metadata": {},
   "outputs": [
    {
     "data": {
      "text/html": [
       "<div>\n",
       "<style scoped>\n",
       "    .dataframe tbody tr th:only-of-type {\n",
       "        vertical-align: middle;\n",
       "    }\n",
       "\n",
       "    .dataframe tbody tr th {\n",
       "        vertical-align: top;\n",
       "    }\n",
       "\n",
       "    .dataframe thead th {\n",
       "        text-align: right;\n",
       "    }\n",
       "</style>\n",
       "<table border=\"1\" class=\"dataframe\">\n",
       "  <thead>\n",
       "    <tr style=\"text-align: right;\">\n",
       "      <th></th>\n",
       "      <th>gameId</th>\n",
       "      <th>playId</th>\n",
       "      <th>nflIdBlocker</th>\n",
       "      <th>frameId</th>\n",
       "      <th>timeBlocker</th>\n",
       "      <th>jerseyNumberBlocker</th>\n",
       "      <th>teamBlocker</th>\n",
       "      <th>playDirectionBlocker</th>\n",
       "      <th>xBlocker</th>\n",
       "      <th>yBlocker</th>\n",
       "      <th>...</th>\n",
       "      <th>teamBlocked</th>\n",
       "      <th>playDirectionBlocked</th>\n",
       "      <th>xBlocked</th>\n",
       "      <th>yBlocked</th>\n",
       "      <th>sBlocked</th>\n",
       "      <th>aBlocked</th>\n",
       "      <th>disBlocked</th>\n",
       "      <th>oBlocked</th>\n",
       "      <th>dirBlocked</th>\n",
       "      <th>eventBlocked</th>\n",
       "    </tr>\n",
       "  </thead>\n",
       "  <tbody>\n",
       "    <tr>\n",
       "      <th>0</th>\n",
       "      <td>2021090900</td>\n",
       "      <td>97</td>\n",
       "      <td>40151.0</td>\n",
       "      <td>1</td>\n",
       "      <td>2021-09-10T00:26:31.100</td>\n",
       "      <td>66.0</td>\n",
       "      <td>TB</td>\n",
       "      <td>right</td>\n",
       "      <td>42.18</td>\n",
       "      <td>23.97</td>\n",
       "      <td>...</td>\n",
       "      <td>DAL</td>\n",
       "      <td>right</td>\n",
       "      <td>43.47</td>\n",
       "      <td>25.14</td>\n",
       "      <td>0.00</td>\n",
       "      <td>0.00</td>\n",
       "      <td>0.01</td>\n",
       "      <td>43.02</td>\n",
       "      <td>104.69</td>\n",
       "      <td>None</td>\n",
       "    </tr>\n",
       "    <tr>\n",
       "      <th>1</th>\n",
       "      <td>2021090900</td>\n",
       "      <td>97</td>\n",
       "      <td>40151.0</td>\n",
       "      <td>2</td>\n",
       "      <td>2021-09-10T00:26:31.200</td>\n",
       "      <td>66.0</td>\n",
       "      <td>TB</td>\n",
       "      <td>right</td>\n",
       "      <td>42.16</td>\n",
       "      <td>23.97</td>\n",
       "      <td>...</td>\n",
       "      <td>DAL</td>\n",
       "      <td>right</td>\n",
       "      <td>43.46</td>\n",
       "      <td>25.14</td>\n",
       "      <td>0.00</td>\n",
       "      <td>0.00</td>\n",
       "      <td>0.00</td>\n",
       "      <td>39.18</td>\n",
       "      <td>102.97</td>\n",
       "      <td>None</td>\n",
       "    </tr>\n",
       "    <tr>\n",
       "      <th>2</th>\n",
       "      <td>2021090900</td>\n",
       "      <td>97</td>\n",
       "      <td>40151.0</td>\n",
       "      <td>3</td>\n",
       "      <td>2021-09-10T00:26:31.300</td>\n",
       "      <td>66.0</td>\n",
       "      <td>TB</td>\n",
       "      <td>right</td>\n",
       "      <td>42.15</td>\n",
       "      <td>23.97</td>\n",
       "      <td>...</td>\n",
       "      <td>DAL</td>\n",
       "      <td>right</td>\n",
       "      <td>43.46</td>\n",
       "      <td>25.15</td>\n",
       "      <td>0.00</td>\n",
       "      <td>0.01</td>\n",
       "      <td>0.01</td>\n",
       "      <td>231.69</td>\n",
       "      <td>65.37</td>\n",
       "      <td>None</td>\n",
       "    </tr>\n",
       "    <tr>\n",
       "      <th>3</th>\n",
       "      <td>2021090900</td>\n",
       "      <td>97</td>\n",
       "      <td>40151.0</td>\n",
       "      <td>4</td>\n",
       "      <td>2021-09-10T00:26:31.400</td>\n",
       "      <td>66.0</td>\n",
       "      <td>TB</td>\n",
       "      <td>right</td>\n",
       "      <td>42.15</td>\n",
       "      <td>23.98</td>\n",
       "      <td>...</td>\n",
       "      <td>DAL</td>\n",
       "      <td>right</td>\n",
       "      <td>43.44</td>\n",
       "      <td>25.14</td>\n",
       "      <td>0.04</td>\n",
       "      <td>0.49</td>\n",
       "      <td>0.01</td>\n",
       "      <td>311.12</td>\n",
       "      <td>274.26</td>\n",
       "      <td>None</td>\n",
       "    </tr>\n",
       "    <tr>\n",
       "      <th>4</th>\n",
       "      <td>2021090900</td>\n",
       "      <td>97</td>\n",
       "      <td>40151.0</td>\n",
       "      <td>5</td>\n",
       "      <td>2021-09-10T00:26:31.500</td>\n",
       "      <td>66.0</td>\n",
       "      <td>TB</td>\n",
       "      <td>right</td>\n",
       "      <td>42.14</td>\n",
       "      <td>23.99</td>\n",
       "      <td>...</td>\n",
       "      <td>DAL</td>\n",
       "      <td>right</td>\n",
       "      <td>43.41</td>\n",
       "      <td>25.16</td>\n",
       "      <td>0.21</td>\n",
       "      <td>1.38</td>\n",
       "      <td>0.03</td>\n",
       "      <td>278.27</td>\n",
       "      <td>285.44</td>\n",
       "      <td>None</td>\n",
       "    </tr>\n",
       "    <tr>\n",
       "      <th>...</th>\n",
       "      <td>...</td>\n",
       "      <td>...</td>\n",
       "      <td>...</td>\n",
       "      <td>...</td>\n",
       "      <td>...</td>\n",
       "      <td>...</td>\n",
       "      <td>...</td>\n",
       "      <td>...</td>\n",
       "      <td>...</td>\n",
       "      <td>...</td>\n",
       "      <td>...</td>\n",
       "      <td>...</td>\n",
       "      <td>...</td>\n",
       "      <td>...</td>\n",
       "      <td>...</td>\n",
       "      <td>...</td>\n",
       "      <td>...</td>\n",
       "      <td>...</td>\n",
       "      <td>...</td>\n",
       "      <td>...</td>\n",
       "      <td>...</td>\n",
       "    </tr>\n",
       "    <tr>\n",
       "      <th>1982415</th>\n",
       "      <td>2021110100</td>\n",
       "      <td>4433</td>\n",
       "      <td>52507.0</td>\n",
       "      <td>54</td>\n",
       "      <td>2021-11-02T03:20:26.500</td>\n",
       "      <td>74.0</td>\n",
       "      <td>NYG</td>\n",
       "      <td>right</td>\n",
       "      <td>21.51</td>\n",
       "      <td>26.75</td>\n",
       "      <td>...</td>\n",
       "      <td>KC</td>\n",
       "      <td>right</td>\n",
       "      <td>21.02</td>\n",
       "      <td>24.96</td>\n",
       "      <td>0.80</td>\n",
       "      <td>0.87</td>\n",
       "      <td>0.08</td>\n",
       "      <td>58.08</td>\n",
       "      <td>254.58</td>\n",
       "      <td>None</td>\n",
       "    </tr>\n",
       "    <tr>\n",
       "      <th>1982416</th>\n",
       "      <td>2021110100</td>\n",
       "      <td>4433</td>\n",
       "      <td>52507.0</td>\n",
       "      <td>55</td>\n",
       "      <td>2021-11-02T03:20:26.600</td>\n",
       "      <td>74.0</td>\n",
       "      <td>NYG</td>\n",
       "      <td>right</td>\n",
       "      <td>21.63</td>\n",
       "      <td>26.97</td>\n",
       "      <td>...</td>\n",
       "      <td>KC</td>\n",
       "      <td>right</td>\n",
       "      <td>20.94</td>\n",
       "      <td>24.95</td>\n",
       "      <td>0.86</td>\n",
       "      <td>1.05</td>\n",
       "      <td>0.08</td>\n",
       "      <td>51.95</td>\n",
       "      <td>263.47</td>\n",
       "      <td>None</td>\n",
       "    </tr>\n",
       "    <tr>\n",
       "      <th>1982417</th>\n",
       "      <td>2021110100</td>\n",
       "      <td>4433</td>\n",
       "      <td>52507.0</td>\n",
       "      <td>56</td>\n",
       "      <td>2021-11-02T03:20:26.700</td>\n",
       "      <td>74.0</td>\n",
       "      <td>NYG</td>\n",
       "      <td>right</td>\n",
       "      <td>21.75</td>\n",
       "      <td>27.19</td>\n",
       "      <td>...</td>\n",
       "      <td>KC</td>\n",
       "      <td>right</td>\n",
       "      <td>20.85</td>\n",
       "      <td>24.95</td>\n",
       "      <td>0.89</td>\n",
       "      <td>0.83</td>\n",
       "      <td>0.09</td>\n",
       "      <td>46.71</td>\n",
       "      <td>270.02</td>\n",
       "      <td>None</td>\n",
       "    </tr>\n",
       "    <tr>\n",
       "      <th>1982418</th>\n",
       "      <td>2021110100</td>\n",
       "      <td>4433</td>\n",
       "      <td>52507.0</td>\n",
       "      <td>57</td>\n",
       "      <td>2021-11-02T03:20:26.800</td>\n",
       "      <td>74.0</td>\n",
       "      <td>NYG</td>\n",
       "      <td>right</td>\n",
       "      <td>21.88</td>\n",
       "      <td>27.45</td>\n",
       "      <td>...</td>\n",
       "      <td>KC</td>\n",
       "      <td>right</td>\n",
       "      <td>20.76</td>\n",
       "      <td>24.96</td>\n",
       "      <td>0.94</td>\n",
       "      <td>0.79</td>\n",
       "      <td>0.09</td>\n",
       "      <td>41.73</td>\n",
       "      <td>278.43</td>\n",
       "      <td>None</td>\n",
       "    </tr>\n",
       "    <tr>\n",
       "      <th>1982419</th>\n",
       "      <td>2021110100</td>\n",
       "      <td>4433</td>\n",
       "      <td>52507.0</td>\n",
       "      <td>58</td>\n",
       "      <td>2021-11-02T03:20:26.900</td>\n",
       "      <td>74.0</td>\n",
       "      <td>NYG</td>\n",
       "      <td>right</td>\n",
       "      <td>22.01</td>\n",
       "      <td>27.70</td>\n",
       "      <td>...</td>\n",
       "      <td>KC</td>\n",
       "      <td>right</td>\n",
       "      <td>20.67</td>\n",
       "      <td>24.98</td>\n",
       "      <td>0.93</td>\n",
       "      <td>0.68</td>\n",
       "      <td>0.09</td>\n",
       "      <td>37.69</td>\n",
       "      <td>283.96</td>\n",
       "      <td>None</td>\n",
       "    </tr>\n",
       "  </tbody>\n",
       "</table>\n",
       "<p>1982420 rows × 31 columns</p>\n",
       "</div>"
      ],
      "text/plain": [
       "             gameId  playId  nflIdBlocker  frameId              timeBlocker  \\\n",
       "0        2021090900      97       40151.0        1  2021-09-10T00:26:31.100   \n",
       "1        2021090900      97       40151.0        2  2021-09-10T00:26:31.200   \n",
       "2        2021090900      97       40151.0        3  2021-09-10T00:26:31.300   \n",
       "3        2021090900      97       40151.0        4  2021-09-10T00:26:31.400   \n",
       "4        2021090900      97       40151.0        5  2021-09-10T00:26:31.500   \n",
       "...             ...     ...           ...      ...                      ...   \n",
       "1982415  2021110100    4433       52507.0       54  2021-11-02T03:20:26.500   \n",
       "1982416  2021110100    4433       52507.0       55  2021-11-02T03:20:26.600   \n",
       "1982417  2021110100    4433       52507.0       56  2021-11-02T03:20:26.700   \n",
       "1982418  2021110100    4433       52507.0       57  2021-11-02T03:20:26.800   \n",
       "1982419  2021110100    4433       52507.0       58  2021-11-02T03:20:26.900   \n",
       "\n",
       "         jerseyNumberBlocker teamBlocker playDirectionBlocker  xBlocker  \\\n",
       "0                       66.0          TB                right     42.18   \n",
       "1                       66.0          TB                right     42.16   \n",
       "2                       66.0          TB                right     42.15   \n",
       "3                       66.0          TB                right     42.15   \n",
       "4                       66.0          TB                right     42.14   \n",
       "...                      ...         ...                  ...       ...   \n",
       "1982415                 74.0         NYG                right     21.51   \n",
       "1982416                 74.0         NYG                right     21.63   \n",
       "1982417                 74.0         NYG                right     21.75   \n",
       "1982418                 74.0         NYG                right     21.88   \n",
       "1982419                 74.0         NYG                right     22.01   \n",
       "\n",
       "         yBlocker  ...  teamBlocked  playDirectionBlocked  xBlocked  yBlocked  \\\n",
       "0           23.97  ...          DAL                 right     43.47     25.14   \n",
       "1           23.97  ...          DAL                 right     43.46     25.14   \n",
       "2           23.97  ...          DAL                 right     43.46     25.15   \n",
       "3           23.98  ...          DAL                 right     43.44     25.14   \n",
       "4           23.99  ...          DAL                 right     43.41     25.16   \n",
       "...           ...  ...          ...                   ...       ...       ...   \n",
       "1982415     26.75  ...           KC                 right     21.02     24.96   \n",
       "1982416     26.97  ...           KC                 right     20.94     24.95   \n",
       "1982417     27.19  ...           KC                 right     20.85     24.95   \n",
       "1982418     27.45  ...           KC                 right     20.76     24.96   \n",
       "1982419     27.70  ...           KC                 right     20.67     24.98   \n",
       "\n",
       "         sBlocked aBlocked  disBlocked  oBlocked  dirBlocked eventBlocked  \n",
       "0            0.00     0.00        0.01     43.02      104.69         None  \n",
       "1            0.00     0.00        0.00     39.18      102.97         None  \n",
       "2            0.00     0.01        0.01    231.69       65.37         None  \n",
       "3            0.04     0.49        0.01    311.12      274.26         None  \n",
       "4            0.21     1.38        0.03    278.27      285.44         None  \n",
       "...           ...      ...         ...       ...         ...          ...  \n",
       "1982415      0.80     0.87        0.08     58.08      254.58         None  \n",
       "1982416      0.86     1.05        0.08     51.95      263.47         None  \n",
       "1982417      0.89     0.83        0.09     46.71      270.02         None  \n",
       "1982418      0.94     0.79        0.09     41.73      278.43         None  \n",
       "1982419      0.93     0.68        0.09     37.69      283.96         None  \n",
       "\n",
       "[1982420 rows x 31 columns]"
      ]
     },
     "execution_count": 5,
     "metadata": {},
     "output_type": "execute_result"
    }
   ],
   "source": [
    "tracking_with_blocker_id = tracking.merge(\n",
    "    blocker_pff_scouting_data[['gameId', 'playId', 'nflId', 'pff_nflIdBlockedPlayer', 'pff_sackAllowed']],\n",
    "    on=['gameId', 'playId', 'nflId'], how='inner')\n",
    "\n",
    "block_tracking = tracking_with_blocker_id.merge(\n",
    "    tracking,\n",
    "    left_on=['gameId', 'playId', 'frameId', 'pff_nflIdBlockedPlayer'],\n",
    "    right_on=['gameId', 'playId', 'frameId', 'nflId'],\n",
    "    suffixes=('Blocker', 'Blocked'),\n",
    "    how='left')\n",
    "\n",
    "block_tracking"
   ]
  },
  {
   "cell_type": "code",
   "execution_count": 6,
   "id": "fabb4fa4",
   "metadata": {
    "scrolled": false
   },
   "outputs": [],
   "source": [
    "def generate_plot(tracking_slice):\n",
    "    gameId_vis = tracking_slice['gameId'].iloc[0]\n",
    "    playId_vis = tracking_slice['playId'].iloc[0]\n",
    "    nflIdBlocker_vis = tracking_slice['nflIdBlocker'].iloc[0]\n",
    "\n",
    "    vis_data = block_tracking[\n",
    "        (block_tracking['gameId'] == gameId_vis) &\n",
    "        (block_tracking['playId'] == playId_vis) &\n",
    "        (block_tracking['nflIdBlocker'] == nflIdBlocker_vis)\n",
    "    ]\n",
    "\n",
    "    blocker_coords = vis_data[['xBlocker', 'yBlocker', 'frameId']]\n",
    "    blocker_coords = blocker_coords.rename(columns={'xBlocker': 'x', 'yBlocker': 'y'})\n",
    "    blocker_coords['team'] = \"Offense\"\n",
    "\n",
    "    blocked_coords = vis_data[['xBlocked', 'yBlocked', 'frameId']]\n",
    "    blocked_coords = blocked_coords.rename(columns={'xBlocked': 'x', 'yBlocked': 'y'})\n",
    "    blocked_coords['team'] = \"Defense\"\n",
    "\n",
    "    formation_data = block_tracking[\n",
    "        (block_tracking['gameId'] == gameId_vis) &\n",
    "        (block_tracking['playId'] == playId_vis) &\n",
    "        (block_tracking['frameId'] == 1)\n",
    "    ]\n",
    "\n",
    "    blocker_form = formation_data[['xBlocker', 'yBlocker']]\n",
    "    blocker_form = blocker_form.rename(columns={'xBlocker': 'x', 'yBlocker': 'y'})\n",
    "    blocker_form['team'] = \"Offense\"\n",
    "    blocker_form['frameId'] = 20\n",
    "\n",
    "    blocked_form = formation_data[['xBlocked', 'yBlocked']]\n",
    "    blocked_form = blocked_form.rename(columns={'xBlocked': 'x', 'yBlocked': 'y'})\n",
    "    blocked_form['team'] = \"Defense\"\n",
    "    blocked_form['frameId'] = 20\n",
    "\n",
    "    block_coords = blocker_coords.append(blocked_coords, ignore_index=True)\n",
    "    block_coords = block_coords.append(blocker_form, ignore_index=True)\n",
    "    block_coords = block_coords.append(blocked_form, ignore_index=True)\n",
    "\n",
    "    fig = px.scatter(block_coords, x=\"y\", y=\"x\", color=\"team\", size='frameId')\n",
    "    fig.show()"
   ]
  },
  {
   "cell_type": "code",
   "execution_count": 8,
   "id": "65da04af",
   "metadata": {},
   "outputs": [
    {
     "data": {
      "application/vnd.plotly.v1+json": {
       "config": {
        "plotlyServerURL": "https://plot.ly"
       },
       "data": [
        {
         "hovertemplate": "team=Offense<br>y=%{x}<br>x=%{y}<br>frameId=%{marker.size}<extra></extra>",
         "legendgroup": "Offense",
         "marker": {
          "color": "#636efa",
          "size": [
           1,
           2,
           3,
           4,
           5,
           6,
           7,
           8,
           9,
           10,
           11,
           12,
           13,
           14,
           15,
           16,
           17,
           18,
           19,
           20,
           21,
           22,
           23,
           24,
           25,
           26,
           27,
           28,
           29,
           30,
           31,
           32,
           33,
           34,
           35,
           36,
           37,
           38,
           39,
           40,
           41,
           42,
           43,
           44,
           45,
           46,
           47,
           48,
           49,
           50,
           51,
           52,
           53,
           20,
           20,
           20,
           20,
           20,
           20
          ],
          "sizemode": "area",
          "sizeref": 0.1325,
          "symbol": "circle"
         },
         "mode": "markers",
         "name": "Offense",
         "orientation": "v",
         "showlegend": true,
         "type": "scatter",
         "x": [
          32.85,
          32.85,
          32.85,
          32.85,
          32.85,
          32.86,
          32.86,
          32.86,
          32.87,
          32.87,
          32.88,
          32.9,
          32.9,
          32.91,
          32.92,
          32.93,
          32.93,
          32.92,
          32.92,
          32.9,
          32.88,
          32.87,
          32.85,
          32.81,
          32.79,
          32.78,
          32.78,
          32.78,
          32.79,
          32.81,
          32.83,
          32.82,
          32.8,
          32.78,
          32.76,
          32.72,
          32.69,
          32.64,
          32.6,
          32.57,
          32.58,
          32.6,
          32.66,
          32.76,
          32.89,
          33.05,
          33.25,
          33.48,
          33.73,
          34.01,
          34.3,
          34.6,
          34.91,
          26.8,
          31.34,
          29.53,
          26.6,
          28.12,
          32.85
         ],
         "xaxis": "x",
         "y": [
          52.95,
          52.95,
          52.95,
          52.95,
          52.96,
          52.96,
          52.97,
          52.98,
          53.01,
          53.06,
          53.14,
          53.26,
          53.38,
          53.54,
          53.71,
          53.94,
          54.18,
          54.44,
          54.72,
          55.02,
          55.33,
          55.64,
          55.95,
          56.25,
          56.54,
          56.82,
          57.09,
          57.34,
          57.56,
          57.76,
          57.92,
          58.05,
          58.14,
          58.22,
          58.27,
          58.3,
          58.32,
          58.32,
          58.33,
          58.35,
          58.39,
          58.43,
          58.49,
          58.56,
          58.64,
          58.72,
          58.8,
          58.87,
          58.95,
          59,
          59.03,
          59.06,
          59.07,
          55.98,
          52.9,
          52.25,
          52.88,
          52.72,
          52.95
         ],
         "yaxis": "y"
        },
        {
         "hovertemplate": "team=Defense<br>y=%{x}<br>x=%{y}<br>frameId=%{marker.size}<extra></extra>",
         "legendgroup": "Defense",
         "marker": {
          "color": "#EF553B",
          "size": [
           1,
           2,
           3,
           4,
           5,
           6,
           7,
           8,
           9,
           10,
           11,
           12,
           13,
           14,
           15,
           16,
           17,
           18,
           19,
           20,
           21,
           22,
           23,
           24,
           25,
           26,
           27,
           28,
           29,
           30,
           31,
           32,
           33,
           34,
           35,
           36,
           37,
           38,
           39,
           40,
           41,
           42,
           43,
           44,
           45,
           46,
           47,
           48,
           49,
           50,
           51,
           52,
           53,
           20,
           20,
           20,
           20,
           20,
           20
          ],
          "sizemode": "area",
          "sizeref": 0.1325,
          "symbol": "circle"
         },
         "mode": "markers",
         "name": "Defense",
         "orientation": "v",
         "showlegend": true,
         "type": "scatter",
         "x": [
          33.44,
          33.44,
          33.45,
          33.43,
          33.43,
          33.44,
          33.46,
          33.47,
          33.49,
          33.5,
          33.51,
          33.53,
          33.55,
          33.57,
          33.6,
          33.63,
          33.66,
          33.68,
          33.7,
          33.7,
          33.68,
          33.67,
          33.64,
          33.61,
          33.57,
          33.53,
          33.51,
          33.5,
          33.47,
          33.44,
          33.4,
          33.36,
          33.32,
          33.28,
          33.23,
          33.19,
          33.18,
          33.18,
          33.19,
          33.24,
          33.31,
          33.42,
          33.58,
          33.78,
          34.05,
          34.34,
          34.67,
          35.02,
          35.42,
          35.87,
          36.35,
          36.85,
          37.38,
          19.67,
          29.93,
          29.93,
          26.04,
          26.04,
          33.44
         ],
         "xaxis": "x",
         "y": [
          50.81,
          50.81,
          50.8,
          50.8,
          50.81,
          50.81,
          50.83,
          50.87,
          50.92,
          51.05,
          51.24,
          51.46,
          51.72,
          52.03,
          52.36,
          52.71,
          53.07,
          53.45,
          53.83,
          54.22,
          54.59,
          54.96,
          55.31,
          55.66,
          55.98,
          56.28,
          56.56,
          56.81,
          57.04,
          57.24,
          57.41,
          57.54,
          57.65,
          57.73,
          57.78,
          57.82,
          57.83,
          57.84,
          57.84,
          57.84,
          57.84,
          57.84,
          57.86,
          57.89,
          57.94,
          57.99,
          58.03,
          58.08,
          58.12,
          58.16,
          58.19,
          58.21,
          58.22,
          48.62,
          50.62,
          50.62,
          50.93,
          50.93,
          50.81
         ],
         "yaxis": "y"
        }
       ],
       "layout": {
        "legend": {
         "itemsizing": "constant",
         "title": {
          "text": "team"
         },
         "tracegroupgap": 0
        },
        "margin": {
         "t": 60
        },
        "template": {
         "data": {
          "bar": [
           {
            "error_x": {
             "color": "#2a3f5f"
            },
            "error_y": {
             "color": "#2a3f5f"
            },
            "marker": {
             "line": {
              "color": "#E5ECF6",
              "width": 0.5
             },
             "pattern": {
              "fillmode": "overlay",
              "size": 10,
              "solidity": 0.2
             }
            },
            "type": "bar"
           }
          ],
          "barpolar": [
           {
            "marker": {
             "line": {
              "color": "#E5ECF6",
              "width": 0.5
             },
             "pattern": {
              "fillmode": "overlay",
              "size": 10,
              "solidity": 0.2
             }
            },
            "type": "barpolar"
           }
          ],
          "carpet": [
           {
            "aaxis": {
             "endlinecolor": "#2a3f5f",
             "gridcolor": "white",
             "linecolor": "white",
             "minorgridcolor": "white",
             "startlinecolor": "#2a3f5f"
            },
            "baxis": {
             "endlinecolor": "#2a3f5f",
             "gridcolor": "white",
             "linecolor": "white",
             "minorgridcolor": "white",
             "startlinecolor": "#2a3f5f"
            },
            "type": "carpet"
           }
          ],
          "choropleth": [
           {
            "colorbar": {
             "outlinewidth": 0,
             "ticks": ""
            },
            "type": "choropleth"
           }
          ],
          "contour": [
           {
            "colorbar": {
             "outlinewidth": 0,
             "ticks": ""
            },
            "colorscale": [
             [
              0,
              "#0d0887"
             ],
             [
              0.1111111111111111,
              "#46039f"
             ],
             [
              0.2222222222222222,
              "#7201a8"
             ],
             [
              0.3333333333333333,
              "#9c179e"
             ],
             [
              0.4444444444444444,
              "#bd3786"
             ],
             [
              0.5555555555555556,
              "#d8576b"
             ],
             [
              0.6666666666666666,
              "#ed7953"
             ],
             [
              0.7777777777777778,
              "#fb9f3a"
             ],
             [
              0.8888888888888888,
              "#fdca26"
             ],
             [
              1,
              "#f0f921"
             ]
            ],
            "type": "contour"
           }
          ],
          "contourcarpet": [
           {
            "colorbar": {
             "outlinewidth": 0,
             "ticks": ""
            },
            "type": "contourcarpet"
           }
          ],
          "heatmap": [
           {
            "colorbar": {
             "outlinewidth": 0,
             "ticks": ""
            },
            "colorscale": [
             [
              0,
              "#0d0887"
             ],
             [
              0.1111111111111111,
              "#46039f"
             ],
             [
              0.2222222222222222,
              "#7201a8"
             ],
             [
              0.3333333333333333,
              "#9c179e"
             ],
             [
              0.4444444444444444,
              "#bd3786"
             ],
             [
              0.5555555555555556,
              "#d8576b"
             ],
             [
              0.6666666666666666,
              "#ed7953"
             ],
             [
              0.7777777777777778,
              "#fb9f3a"
             ],
             [
              0.8888888888888888,
              "#fdca26"
             ],
             [
              1,
              "#f0f921"
             ]
            ],
            "type": "heatmap"
           }
          ],
          "heatmapgl": [
           {
            "colorbar": {
             "outlinewidth": 0,
             "ticks": ""
            },
            "colorscale": [
             [
              0,
              "#0d0887"
             ],
             [
              0.1111111111111111,
              "#46039f"
             ],
             [
              0.2222222222222222,
              "#7201a8"
             ],
             [
              0.3333333333333333,
              "#9c179e"
             ],
             [
              0.4444444444444444,
              "#bd3786"
             ],
             [
              0.5555555555555556,
              "#d8576b"
             ],
             [
              0.6666666666666666,
              "#ed7953"
             ],
             [
              0.7777777777777778,
              "#fb9f3a"
             ],
             [
              0.8888888888888888,
              "#fdca26"
             ],
             [
              1,
              "#f0f921"
             ]
            ],
            "type": "heatmapgl"
           }
          ],
          "histogram": [
           {
            "marker": {
             "pattern": {
              "fillmode": "overlay",
              "size": 10,
              "solidity": 0.2
             }
            },
            "type": "histogram"
           }
          ],
          "histogram2d": [
           {
            "colorbar": {
             "outlinewidth": 0,
             "ticks": ""
            },
            "colorscale": [
             [
              0,
              "#0d0887"
             ],
             [
              0.1111111111111111,
              "#46039f"
             ],
             [
              0.2222222222222222,
              "#7201a8"
             ],
             [
              0.3333333333333333,
              "#9c179e"
             ],
             [
              0.4444444444444444,
              "#bd3786"
             ],
             [
              0.5555555555555556,
              "#d8576b"
             ],
             [
              0.6666666666666666,
              "#ed7953"
             ],
             [
              0.7777777777777778,
              "#fb9f3a"
             ],
             [
              0.8888888888888888,
              "#fdca26"
             ],
             [
              1,
              "#f0f921"
             ]
            ],
            "type": "histogram2d"
           }
          ],
          "histogram2dcontour": [
           {
            "colorbar": {
             "outlinewidth": 0,
             "ticks": ""
            },
            "colorscale": [
             [
              0,
              "#0d0887"
             ],
             [
              0.1111111111111111,
              "#46039f"
             ],
             [
              0.2222222222222222,
              "#7201a8"
             ],
             [
              0.3333333333333333,
              "#9c179e"
             ],
             [
              0.4444444444444444,
              "#bd3786"
             ],
             [
              0.5555555555555556,
              "#d8576b"
             ],
             [
              0.6666666666666666,
              "#ed7953"
             ],
             [
              0.7777777777777778,
              "#fb9f3a"
             ],
             [
              0.8888888888888888,
              "#fdca26"
             ],
             [
              1,
              "#f0f921"
             ]
            ],
            "type": "histogram2dcontour"
           }
          ],
          "mesh3d": [
           {
            "colorbar": {
             "outlinewidth": 0,
             "ticks": ""
            },
            "type": "mesh3d"
           }
          ],
          "parcoords": [
           {
            "line": {
             "colorbar": {
              "outlinewidth": 0,
              "ticks": ""
             }
            },
            "type": "parcoords"
           }
          ],
          "pie": [
           {
            "automargin": true,
            "type": "pie"
           }
          ],
          "scatter": [
           {
            "fillpattern": {
             "fillmode": "overlay",
             "size": 10,
             "solidity": 0.2
            },
            "type": "scatter"
           }
          ],
          "scatter3d": [
           {
            "line": {
             "colorbar": {
              "outlinewidth": 0,
              "ticks": ""
             }
            },
            "marker": {
             "colorbar": {
              "outlinewidth": 0,
              "ticks": ""
             }
            },
            "type": "scatter3d"
           }
          ],
          "scattercarpet": [
           {
            "marker": {
             "colorbar": {
              "outlinewidth": 0,
              "ticks": ""
             }
            },
            "type": "scattercarpet"
           }
          ],
          "scattergeo": [
           {
            "marker": {
             "colorbar": {
              "outlinewidth": 0,
              "ticks": ""
             }
            },
            "type": "scattergeo"
           }
          ],
          "scattergl": [
           {
            "marker": {
             "colorbar": {
              "outlinewidth": 0,
              "ticks": ""
             }
            },
            "type": "scattergl"
           }
          ],
          "scattermapbox": [
           {
            "marker": {
             "colorbar": {
              "outlinewidth": 0,
              "ticks": ""
             }
            },
            "type": "scattermapbox"
           }
          ],
          "scatterpolar": [
           {
            "marker": {
             "colorbar": {
              "outlinewidth": 0,
              "ticks": ""
             }
            },
            "type": "scatterpolar"
           }
          ],
          "scatterpolargl": [
           {
            "marker": {
             "colorbar": {
              "outlinewidth": 0,
              "ticks": ""
             }
            },
            "type": "scatterpolargl"
           }
          ],
          "scatterternary": [
           {
            "marker": {
             "colorbar": {
              "outlinewidth": 0,
              "ticks": ""
             }
            },
            "type": "scatterternary"
           }
          ],
          "surface": [
           {
            "colorbar": {
             "outlinewidth": 0,
             "ticks": ""
            },
            "colorscale": [
             [
              0,
              "#0d0887"
             ],
             [
              0.1111111111111111,
              "#46039f"
             ],
             [
              0.2222222222222222,
              "#7201a8"
             ],
             [
              0.3333333333333333,
              "#9c179e"
             ],
             [
              0.4444444444444444,
              "#bd3786"
             ],
             [
              0.5555555555555556,
              "#d8576b"
             ],
             [
              0.6666666666666666,
              "#ed7953"
             ],
             [
              0.7777777777777778,
              "#fb9f3a"
             ],
             [
              0.8888888888888888,
              "#fdca26"
             ],
             [
              1,
              "#f0f921"
             ]
            ],
            "type": "surface"
           }
          ],
          "table": [
           {
            "cells": {
             "fill": {
              "color": "#EBF0F8"
             },
             "line": {
              "color": "white"
             }
            },
            "header": {
             "fill": {
              "color": "#C8D4E3"
             },
             "line": {
              "color": "white"
             }
            },
            "type": "table"
           }
          ]
         },
         "layout": {
          "annotationdefaults": {
           "arrowcolor": "#2a3f5f",
           "arrowhead": 0,
           "arrowwidth": 1
          },
          "autotypenumbers": "strict",
          "coloraxis": {
           "colorbar": {
            "outlinewidth": 0,
            "ticks": ""
           }
          },
          "colorscale": {
           "diverging": [
            [
             0,
             "#8e0152"
            ],
            [
             0.1,
             "#c51b7d"
            ],
            [
             0.2,
             "#de77ae"
            ],
            [
             0.3,
             "#f1b6da"
            ],
            [
             0.4,
             "#fde0ef"
            ],
            [
             0.5,
             "#f7f7f7"
            ],
            [
             0.6,
             "#e6f5d0"
            ],
            [
             0.7,
             "#b8e186"
            ],
            [
             0.8,
             "#7fbc41"
            ],
            [
             0.9,
             "#4d9221"
            ],
            [
             1,
             "#276419"
            ]
           ],
           "sequential": [
            [
             0,
             "#0d0887"
            ],
            [
             0.1111111111111111,
             "#46039f"
            ],
            [
             0.2222222222222222,
             "#7201a8"
            ],
            [
             0.3333333333333333,
             "#9c179e"
            ],
            [
             0.4444444444444444,
             "#bd3786"
            ],
            [
             0.5555555555555556,
             "#d8576b"
            ],
            [
             0.6666666666666666,
             "#ed7953"
            ],
            [
             0.7777777777777778,
             "#fb9f3a"
            ],
            [
             0.8888888888888888,
             "#fdca26"
            ],
            [
             1,
             "#f0f921"
            ]
           ],
           "sequentialminus": [
            [
             0,
             "#0d0887"
            ],
            [
             0.1111111111111111,
             "#46039f"
            ],
            [
             0.2222222222222222,
             "#7201a8"
            ],
            [
             0.3333333333333333,
             "#9c179e"
            ],
            [
             0.4444444444444444,
             "#bd3786"
            ],
            [
             0.5555555555555556,
             "#d8576b"
            ],
            [
             0.6666666666666666,
             "#ed7953"
            ],
            [
             0.7777777777777778,
             "#fb9f3a"
            ],
            [
             0.8888888888888888,
             "#fdca26"
            ],
            [
             1,
             "#f0f921"
            ]
           ]
          },
          "colorway": [
           "#636efa",
           "#EF553B",
           "#00cc96",
           "#ab63fa",
           "#FFA15A",
           "#19d3f3",
           "#FF6692",
           "#B6E880",
           "#FF97FF",
           "#FECB52"
          ],
          "font": {
           "color": "#2a3f5f"
          },
          "geo": {
           "bgcolor": "white",
           "lakecolor": "white",
           "landcolor": "#E5ECF6",
           "showlakes": true,
           "showland": true,
           "subunitcolor": "white"
          },
          "hoverlabel": {
           "align": "left"
          },
          "hovermode": "closest",
          "mapbox": {
           "style": "light"
          },
          "paper_bgcolor": "white",
          "plot_bgcolor": "#E5ECF6",
          "polar": {
           "angularaxis": {
            "gridcolor": "white",
            "linecolor": "white",
            "ticks": ""
           },
           "bgcolor": "#E5ECF6",
           "radialaxis": {
            "gridcolor": "white",
            "linecolor": "white",
            "ticks": ""
           }
          },
          "scene": {
           "xaxis": {
            "backgroundcolor": "#E5ECF6",
            "gridcolor": "white",
            "gridwidth": 2,
            "linecolor": "white",
            "showbackground": true,
            "ticks": "",
            "zerolinecolor": "white"
           },
           "yaxis": {
            "backgroundcolor": "#E5ECF6",
            "gridcolor": "white",
            "gridwidth": 2,
            "linecolor": "white",
            "showbackground": true,
            "ticks": "",
            "zerolinecolor": "white"
           },
           "zaxis": {
            "backgroundcolor": "#E5ECF6",
            "gridcolor": "white",
            "gridwidth": 2,
            "linecolor": "white",
            "showbackground": true,
            "ticks": "",
            "zerolinecolor": "white"
           }
          },
          "shapedefaults": {
           "line": {
            "color": "#2a3f5f"
           }
          },
          "ternary": {
           "aaxis": {
            "gridcolor": "white",
            "linecolor": "white",
            "ticks": ""
           },
           "baxis": {
            "gridcolor": "white",
            "linecolor": "white",
            "ticks": ""
           },
           "bgcolor": "#E5ECF6",
           "caxis": {
            "gridcolor": "white",
            "linecolor": "white",
            "ticks": ""
           }
          },
          "title": {
           "x": 0.05
          },
          "xaxis": {
           "automargin": true,
           "gridcolor": "white",
           "linecolor": "white",
           "ticks": "",
           "title": {
            "standoff": 15
           },
           "zerolinecolor": "white",
           "zerolinewidth": 2
          },
          "yaxis": {
           "automargin": true,
           "gridcolor": "white",
           "linecolor": "white",
           "ticks": "",
           "title": {
            "standoff": 15
           },
           "zerolinecolor": "white",
           "zerolinewidth": 2
          }
         }
        },
        "xaxis": {
         "anchor": "y",
         "domain": [
          0,
          1
         ],
         "title": {
          "text": "y"
         }
        },
        "yaxis": {
         "anchor": "x",
         "domain": [
          0,
          1
         ],
         "title": {
          "text": "x"
         }
        }
       }
      },
      "text/html": [
       "<div>                            <div id=\"b1947881-6d17-4c0a-9465-a20197b0003c\" class=\"plotly-graph-div\" style=\"height:525px; width:100%;\"></div>            <script type=\"text/javascript\">                require([\"plotly\"], function(Plotly) {                    window.PLOTLYENV=window.PLOTLYENV || {};                                    if (document.getElementById(\"b1947881-6d17-4c0a-9465-a20197b0003c\")) {                    Plotly.newPlot(                        \"b1947881-6d17-4c0a-9465-a20197b0003c\",                        [{\"hovertemplate\":\"team=Offense<br>y=%{x}<br>x=%{y}<br>frameId=%{marker.size}<extra></extra>\",\"legendgroup\":\"Offense\",\"marker\":{\"color\":\"#636efa\",\"size\":[1,2,3,4,5,6,7,8,9,10,11,12,13,14,15,16,17,18,19,20,21,22,23,24,25,26,27,28,29,30,31,32,33,34,35,36,37,38,39,40,41,42,43,44,45,46,47,48,49,50,51,52,53,20,20,20,20,20,20],\"sizemode\":\"area\",\"sizeref\":0.1325,\"symbol\":\"circle\"},\"mode\":\"markers\",\"name\":\"Offense\",\"orientation\":\"v\",\"showlegend\":true,\"x\":[32.85,32.85,32.85,32.85,32.85,32.86,32.86,32.86,32.87,32.87,32.88,32.9,32.9,32.91,32.92,32.93,32.93,32.92,32.92,32.9,32.88,32.87,32.85,32.81,32.79,32.78,32.78,32.78,32.79,32.81,32.83,32.82,32.8,32.78,32.76,32.72,32.69,32.64,32.6,32.57,32.58,32.6,32.66,32.76,32.89,33.05,33.25,33.48,33.73,34.01,34.3,34.6,34.91,26.8,31.34,29.53,26.6,28.12,32.85],\"xaxis\":\"x\",\"y\":[52.95,52.95,52.95,52.95,52.96,52.96,52.97,52.98,53.01,53.06,53.14,53.26,53.38,53.54,53.71,53.94,54.18,54.44,54.72,55.02,55.33,55.64,55.95,56.25,56.54,56.82,57.09,57.34,57.56,57.76,57.92,58.05,58.14,58.22,58.27,58.3,58.32,58.32,58.33,58.35,58.39,58.43,58.49,58.56,58.64,58.72,58.8,58.87,58.95,59.0,59.03,59.06,59.07,55.98,52.9,52.25,52.88,52.72,52.95],\"yaxis\":\"y\",\"type\":\"scatter\"},{\"hovertemplate\":\"team=Defense<br>y=%{x}<br>x=%{y}<br>frameId=%{marker.size}<extra></extra>\",\"legendgroup\":\"Defense\",\"marker\":{\"color\":\"#EF553B\",\"size\":[1,2,3,4,5,6,7,8,9,10,11,12,13,14,15,16,17,18,19,20,21,22,23,24,25,26,27,28,29,30,31,32,33,34,35,36,37,38,39,40,41,42,43,44,45,46,47,48,49,50,51,52,53,20,20,20,20,20,20],\"sizemode\":\"area\",\"sizeref\":0.1325,\"symbol\":\"circle\"},\"mode\":\"markers\",\"name\":\"Defense\",\"orientation\":\"v\",\"showlegend\":true,\"x\":[33.44,33.44,33.45,33.43,33.43,33.44,33.46,33.47,33.49,33.5,33.51,33.53,33.55,33.57,33.6,33.63,33.66,33.68,33.7,33.7,33.68,33.67,33.64,33.61,33.57,33.53,33.51,33.5,33.47,33.44,33.4,33.36,33.32,33.28,33.23,33.19,33.18,33.18,33.19,33.24,33.31,33.42,33.58,33.78,34.05,34.34,34.67,35.02,35.42,35.87,36.35,36.85,37.38,19.67,29.93,29.93,26.04,26.04,33.44],\"xaxis\":\"x\",\"y\":[50.81,50.81,50.8,50.8,50.81,50.81,50.83,50.87,50.92,51.05,51.24,51.46,51.72,52.03,52.36,52.71,53.07,53.45,53.83,54.22,54.59,54.96,55.31,55.66,55.98,56.28,56.56,56.81,57.04,57.24,57.41,57.54,57.65,57.73,57.78,57.82,57.83,57.84,57.84,57.84,57.84,57.84,57.86,57.89,57.94,57.99,58.03,58.08,58.12,58.16,58.19,58.21,58.22,48.62,50.62,50.62,50.93,50.93,50.81],\"yaxis\":\"y\",\"type\":\"scatter\"}],                        {\"template\":{\"data\":{\"histogram2dcontour\":[{\"type\":\"histogram2dcontour\",\"colorbar\":{\"outlinewidth\":0,\"ticks\":\"\"},\"colorscale\":[[0.0,\"#0d0887\"],[0.1111111111111111,\"#46039f\"],[0.2222222222222222,\"#7201a8\"],[0.3333333333333333,\"#9c179e\"],[0.4444444444444444,\"#bd3786\"],[0.5555555555555556,\"#d8576b\"],[0.6666666666666666,\"#ed7953\"],[0.7777777777777778,\"#fb9f3a\"],[0.8888888888888888,\"#fdca26\"],[1.0,\"#f0f921\"]]}],\"choropleth\":[{\"type\":\"choropleth\",\"colorbar\":{\"outlinewidth\":0,\"ticks\":\"\"}}],\"histogram2d\":[{\"type\":\"histogram2d\",\"colorbar\":{\"outlinewidth\":0,\"ticks\":\"\"},\"colorscale\":[[0.0,\"#0d0887\"],[0.1111111111111111,\"#46039f\"],[0.2222222222222222,\"#7201a8\"],[0.3333333333333333,\"#9c179e\"],[0.4444444444444444,\"#bd3786\"],[0.5555555555555556,\"#d8576b\"],[0.6666666666666666,\"#ed7953\"],[0.7777777777777778,\"#fb9f3a\"],[0.8888888888888888,\"#fdca26\"],[1.0,\"#f0f921\"]]}],\"heatmap\":[{\"type\":\"heatmap\",\"colorbar\":{\"outlinewidth\":0,\"ticks\":\"\"},\"colorscale\":[[0.0,\"#0d0887\"],[0.1111111111111111,\"#46039f\"],[0.2222222222222222,\"#7201a8\"],[0.3333333333333333,\"#9c179e\"],[0.4444444444444444,\"#bd3786\"],[0.5555555555555556,\"#d8576b\"],[0.6666666666666666,\"#ed7953\"],[0.7777777777777778,\"#fb9f3a\"],[0.8888888888888888,\"#fdca26\"],[1.0,\"#f0f921\"]]}],\"heatmapgl\":[{\"type\":\"heatmapgl\",\"colorbar\":{\"outlinewidth\":0,\"ticks\":\"\"},\"colorscale\":[[0.0,\"#0d0887\"],[0.1111111111111111,\"#46039f\"],[0.2222222222222222,\"#7201a8\"],[0.3333333333333333,\"#9c179e\"],[0.4444444444444444,\"#bd3786\"],[0.5555555555555556,\"#d8576b\"],[0.6666666666666666,\"#ed7953\"],[0.7777777777777778,\"#fb9f3a\"],[0.8888888888888888,\"#fdca26\"],[1.0,\"#f0f921\"]]}],\"contourcarpet\":[{\"type\":\"contourcarpet\",\"colorbar\":{\"outlinewidth\":0,\"ticks\":\"\"}}],\"contour\":[{\"type\":\"contour\",\"colorbar\":{\"outlinewidth\":0,\"ticks\":\"\"},\"colorscale\":[[0.0,\"#0d0887\"],[0.1111111111111111,\"#46039f\"],[0.2222222222222222,\"#7201a8\"],[0.3333333333333333,\"#9c179e\"],[0.4444444444444444,\"#bd3786\"],[0.5555555555555556,\"#d8576b\"],[0.6666666666666666,\"#ed7953\"],[0.7777777777777778,\"#fb9f3a\"],[0.8888888888888888,\"#fdca26\"],[1.0,\"#f0f921\"]]}],\"surface\":[{\"type\":\"surface\",\"colorbar\":{\"outlinewidth\":0,\"ticks\":\"\"},\"colorscale\":[[0.0,\"#0d0887\"],[0.1111111111111111,\"#46039f\"],[0.2222222222222222,\"#7201a8\"],[0.3333333333333333,\"#9c179e\"],[0.4444444444444444,\"#bd3786\"],[0.5555555555555556,\"#d8576b\"],[0.6666666666666666,\"#ed7953\"],[0.7777777777777778,\"#fb9f3a\"],[0.8888888888888888,\"#fdca26\"],[1.0,\"#f0f921\"]]}],\"mesh3d\":[{\"type\":\"mesh3d\",\"colorbar\":{\"outlinewidth\":0,\"ticks\":\"\"}}],\"scatter\":[{\"fillpattern\":{\"fillmode\":\"overlay\",\"size\":10,\"solidity\":0.2},\"type\":\"scatter\"}],\"parcoords\":[{\"type\":\"parcoords\",\"line\":{\"colorbar\":{\"outlinewidth\":0,\"ticks\":\"\"}}}],\"scatterpolargl\":[{\"type\":\"scatterpolargl\",\"marker\":{\"colorbar\":{\"outlinewidth\":0,\"ticks\":\"\"}}}],\"bar\":[{\"error_x\":{\"color\":\"#2a3f5f\"},\"error_y\":{\"color\":\"#2a3f5f\"},\"marker\":{\"line\":{\"color\":\"#E5ECF6\",\"width\":0.5},\"pattern\":{\"fillmode\":\"overlay\",\"size\":10,\"solidity\":0.2}},\"type\":\"bar\"}],\"scattergeo\":[{\"type\":\"scattergeo\",\"marker\":{\"colorbar\":{\"outlinewidth\":0,\"ticks\":\"\"}}}],\"scatterpolar\":[{\"type\":\"scatterpolar\",\"marker\":{\"colorbar\":{\"outlinewidth\":0,\"ticks\":\"\"}}}],\"histogram\":[{\"marker\":{\"pattern\":{\"fillmode\":\"overlay\",\"size\":10,\"solidity\":0.2}},\"type\":\"histogram\"}],\"scattergl\":[{\"type\":\"scattergl\",\"marker\":{\"colorbar\":{\"outlinewidth\":0,\"ticks\":\"\"}}}],\"scatter3d\":[{\"type\":\"scatter3d\",\"line\":{\"colorbar\":{\"outlinewidth\":0,\"ticks\":\"\"}},\"marker\":{\"colorbar\":{\"outlinewidth\":0,\"ticks\":\"\"}}}],\"scattermapbox\":[{\"type\":\"scattermapbox\",\"marker\":{\"colorbar\":{\"outlinewidth\":0,\"ticks\":\"\"}}}],\"scatterternary\":[{\"type\":\"scatterternary\",\"marker\":{\"colorbar\":{\"outlinewidth\":0,\"ticks\":\"\"}}}],\"scattercarpet\":[{\"type\":\"scattercarpet\",\"marker\":{\"colorbar\":{\"outlinewidth\":0,\"ticks\":\"\"}}}],\"carpet\":[{\"aaxis\":{\"endlinecolor\":\"#2a3f5f\",\"gridcolor\":\"white\",\"linecolor\":\"white\",\"minorgridcolor\":\"white\",\"startlinecolor\":\"#2a3f5f\"},\"baxis\":{\"endlinecolor\":\"#2a3f5f\",\"gridcolor\":\"white\",\"linecolor\":\"white\",\"minorgridcolor\":\"white\",\"startlinecolor\":\"#2a3f5f\"},\"type\":\"carpet\"}],\"table\":[{\"cells\":{\"fill\":{\"color\":\"#EBF0F8\"},\"line\":{\"color\":\"white\"}},\"header\":{\"fill\":{\"color\":\"#C8D4E3\"},\"line\":{\"color\":\"white\"}},\"type\":\"table\"}],\"barpolar\":[{\"marker\":{\"line\":{\"color\":\"#E5ECF6\",\"width\":0.5},\"pattern\":{\"fillmode\":\"overlay\",\"size\":10,\"solidity\":0.2}},\"type\":\"barpolar\"}],\"pie\":[{\"automargin\":true,\"type\":\"pie\"}]},\"layout\":{\"autotypenumbers\":\"strict\",\"colorway\":[\"#636efa\",\"#EF553B\",\"#00cc96\",\"#ab63fa\",\"#FFA15A\",\"#19d3f3\",\"#FF6692\",\"#B6E880\",\"#FF97FF\",\"#FECB52\"],\"font\":{\"color\":\"#2a3f5f\"},\"hovermode\":\"closest\",\"hoverlabel\":{\"align\":\"left\"},\"paper_bgcolor\":\"white\",\"plot_bgcolor\":\"#E5ECF6\",\"polar\":{\"bgcolor\":\"#E5ECF6\",\"angularaxis\":{\"gridcolor\":\"white\",\"linecolor\":\"white\",\"ticks\":\"\"},\"radialaxis\":{\"gridcolor\":\"white\",\"linecolor\":\"white\",\"ticks\":\"\"}},\"ternary\":{\"bgcolor\":\"#E5ECF6\",\"aaxis\":{\"gridcolor\":\"white\",\"linecolor\":\"white\",\"ticks\":\"\"},\"baxis\":{\"gridcolor\":\"white\",\"linecolor\":\"white\",\"ticks\":\"\"},\"caxis\":{\"gridcolor\":\"white\",\"linecolor\":\"white\",\"ticks\":\"\"}},\"coloraxis\":{\"colorbar\":{\"outlinewidth\":0,\"ticks\":\"\"}},\"colorscale\":{\"sequential\":[[0.0,\"#0d0887\"],[0.1111111111111111,\"#46039f\"],[0.2222222222222222,\"#7201a8\"],[0.3333333333333333,\"#9c179e\"],[0.4444444444444444,\"#bd3786\"],[0.5555555555555556,\"#d8576b\"],[0.6666666666666666,\"#ed7953\"],[0.7777777777777778,\"#fb9f3a\"],[0.8888888888888888,\"#fdca26\"],[1.0,\"#f0f921\"]],\"sequentialminus\":[[0.0,\"#0d0887\"],[0.1111111111111111,\"#46039f\"],[0.2222222222222222,\"#7201a8\"],[0.3333333333333333,\"#9c179e\"],[0.4444444444444444,\"#bd3786\"],[0.5555555555555556,\"#d8576b\"],[0.6666666666666666,\"#ed7953\"],[0.7777777777777778,\"#fb9f3a\"],[0.8888888888888888,\"#fdca26\"],[1.0,\"#f0f921\"]],\"diverging\":[[0,\"#8e0152\"],[0.1,\"#c51b7d\"],[0.2,\"#de77ae\"],[0.3,\"#f1b6da\"],[0.4,\"#fde0ef\"],[0.5,\"#f7f7f7\"],[0.6,\"#e6f5d0\"],[0.7,\"#b8e186\"],[0.8,\"#7fbc41\"],[0.9,\"#4d9221\"],[1,\"#276419\"]]},\"xaxis\":{\"gridcolor\":\"white\",\"linecolor\":\"white\",\"ticks\":\"\",\"title\":{\"standoff\":15},\"zerolinecolor\":\"white\",\"automargin\":true,\"zerolinewidth\":2},\"yaxis\":{\"gridcolor\":\"white\",\"linecolor\":\"white\",\"ticks\":\"\",\"title\":{\"standoff\":15},\"zerolinecolor\":\"white\",\"automargin\":true,\"zerolinewidth\":2},\"scene\":{\"xaxis\":{\"backgroundcolor\":\"#E5ECF6\",\"gridcolor\":\"white\",\"linecolor\":\"white\",\"showbackground\":true,\"ticks\":\"\",\"zerolinecolor\":\"white\",\"gridwidth\":2},\"yaxis\":{\"backgroundcolor\":\"#E5ECF6\",\"gridcolor\":\"white\",\"linecolor\":\"white\",\"showbackground\":true,\"ticks\":\"\",\"zerolinecolor\":\"white\",\"gridwidth\":2},\"zaxis\":{\"backgroundcolor\":\"#E5ECF6\",\"gridcolor\":\"white\",\"linecolor\":\"white\",\"showbackground\":true,\"ticks\":\"\",\"zerolinecolor\":\"white\",\"gridwidth\":2}},\"shapedefaults\":{\"line\":{\"color\":\"#2a3f5f\"}},\"annotationdefaults\":{\"arrowcolor\":\"#2a3f5f\",\"arrowhead\":0,\"arrowwidth\":1},\"geo\":{\"bgcolor\":\"white\",\"landcolor\":\"#E5ECF6\",\"subunitcolor\":\"white\",\"showland\":true,\"showlakes\":true,\"lakecolor\":\"white\"},\"title\":{\"x\":0.05},\"mapbox\":{\"style\":\"light\"}}},\"xaxis\":{\"anchor\":\"y\",\"domain\":[0.0,1.0],\"title\":{\"text\":\"y\"}},\"yaxis\":{\"anchor\":\"x\",\"domain\":[0.0,1.0],\"title\":{\"text\":\"x\"}},\"legend\":{\"title\":{\"text\":\"team\"},\"tracegroupgap\":0,\"itemsizing\":\"constant\"},\"margin\":{\"t\":60}},                        {\"responsive\": true}                    ).then(function(){\n",
       "                            \n",
       "var gd = document.getElementById('b1947881-6d17-4c0a-9465-a20197b0003c');\n",
       "var x = new MutationObserver(function (mutations, observer) {{\n",
       "        var display = window.getComputedStyle(gd).display;\n",
       "        if (!display || display === 'none') {{\n",
       "            console.log([gd, 'removed!']);\n",
       "            Plotly.purge(gd);\n",
       "            observer.disconnect();\n",
       "        }}\n",
       "}});\n",
       "\n",
       "// Listen for the removal of the full notebook cells\n",
       "var notebookContainer = gd.closest('#notebook-container');\n",
       "if (notebookContainer) {{\n",
       "    x.observe(notebookContainer, {childList: true});\n",
       "}}\n",
       "\n",
       "// Listen for the clearing of the current output cell\n",
       "var outputEl = gd.closest('.output');\n",
       "if (outputEl) {{\n",
       "    x.observe(outputEl, {childList: true});\n",
       "}}\n",
       "\n",
       "                        })                };                });            </script>        </div>"
      ]
     },
     "metadata": {},
     "output_type": "display_data"
    }
   ],
   "source": [
    "tracking_slice = block_tracking.sample(n=1, frac=None, replace=False)\n",
    "generate_plot(tracking_slice)"
   ]
  }
 ],
 "metadata": {
  "kernelspec": {
   "display_name": "PythonData",
   "language": "python",
   "name": "pythondata"
  },
  "language_info": {
   "codemirror_mode": {
    "name": "ipython",
    "version": 3
   },
   "file_extension": ".py",
   "mimetype": "text/x-python",
   "name": "python",
   "nbconvert_exporter": "python",
   "pygments_lexer": "ipython3",
   "version": "3.7.13"
  }
 },
 "nbformat": 4,
 "nbformat_minor": 5
}
