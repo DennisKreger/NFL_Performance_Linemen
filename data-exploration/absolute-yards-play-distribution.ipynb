{
 "cells": [
  {
   "cell_type": "code",
   "execution_count": 22,
   "id": "395b1f11",
   "metadata": {},
   "outputs": [],
   "source": [
    "# Import dependencies\n",
    "import pandas as pd\n",
    "import math\n",
    "import matplotlib.pyplot as plt"
   ]
  },
  {
   "cell_type": "code",
   "execution_count": 23,
   "id": "fddd79d3",
   "metadata": {},
   "outputs": [],
   "source": [
    "# Read data\n",
    "plays = pd.read_csv('../Resources/plays.csv')"
   ]
  },
  {
   "cell_type": "code",
   "execution_count": 24,
   "id": "ddffbcdb",
   "metadata": {},
   "outputs": [],
   "source": [
    "# Drop NaN from absoluteYardlineNumber column\n",
    "plays.dropna(subset=['absoluteYardlineNumber'], inplace=True)"
   ]
  },
  {
   "cell_type": "code",
   "execution_count": 25,
   "id": "297dea5f",
   "metadata": {},
   "outputs": [],
   "source": [
    "# Bucket plays by 10yd increments\n",
    "plays['yardlineBin'] = plays['absoluteYardlineNumber'].apply(lambda x: math.floor(x / 10) * 10)\n",
    "yardline_data = plays[['yardlineBin', 'playId']].groupby('yardlineBin').count()\n",
    "yardline_data = yardline_data.rename(columns={'playId': 'plays'}).reset_index()"
   ]
  },
  {
   "cell_type": "code",
   "execution_count": 26,
   "id": "ff0bda23",
   "metadata": {},
   "outputs": [],
   "source": [
    "# Define red zone plays\n",
    "yardline_data['redZone'] = yardline_data['yardlineBin'] <= 30"
   ]
  },
  {
   "cell_type": "code",
   "execution_count": 27,
   "id": "9dd65875",
   "metadata": {},
   "outputs": [],
   "source": [
    "# Translate red zone boolean to color map\n",
    "color_dict = {1: 'red', 0: 'green'}\n",
    "yardline_data['redZone'] = yardline_data['redZone'].apply(lambda x: color_dict[int(x)])"
   ]
  },
  {
   "cell_type": "code",
   "execution_count": 28,
   "id": "ffb29301",
   "metadata": {},
   "outputs": [
    {
     "name": "stdout",
     "output_type": "stream",
     "text": [
      "8556\n"
     ]
    }
   ],
   "source": [
    "# Define play frequency\n",
    "total_plays = len(plays)\n",
    "print(total_plays)\n",
    "yardline_data['playFrequency'] = yardline_data['plays'].apply(lambda x: x / total_plays)"
   ]
  },
  {
   "cell_type": "code",
   "execution_count": 29,
   "id": "3fa39943",
   "metadata": {},
   "outputs": [
    {
     "data": {
      "image/png": "[encoded data removed]",
      "text/plain": [
       "<Figure size 432x288 with 1 Axes>"
      ]
     },
     "metadata": {
      "needs_background": "light"
     },
     "output_type": "display_data"
    }
   ],
   "source": [
    "# Create bar chart\n",
    "yardline_data.sort_values(by=['yardlineBin'], inplace=True, ascending=False)\n",
    "plt.bar(\n",
    "    range(len(yardline_data)),\n",
    "    yardline_data['playFrequency'],\n",
    "    color=yardline_data['redZone']\n",
    ")\n",
    "plt.xticks(range(len(yardline_data)), yardline_data['yardlineBin'])\n",
    "plt.xlabel('Yards to go')\n",
    "plt.ylabel('Play frequency')\n",
    "plt.title('Play frequency by yard line')\n",
    "plt.show()"
   ]
  },
  {
   "cell_type": "code",
   "execution_count": 30,
   "id": "f3aa9039",
   "metadata": {},
   "outputs": [],
   "source": [
    "yardline_data[['yardlineBin', 'plays', 'playFrequency']].to_csv('./Export/play-frequency-by-yardline.csv', index=False)"
   ]
  },
  {
   "cell_type": "code",
   "execution_count": null,
   "id": "220e2073",
   "metadata": {},
   "outputs": [],
   "source": []
  }
 ],
 "metadata": {
  "kernelspec": {
   "display_name": "PythonData",
   "language": "python",
   "name": "pythondata"
  },
  "language_info": {
   "codemirror_mode": {
    "name": "ipython",
    "version": 3
   },
   "file_extension": ".py",
   "mimetype": "text/x-python",
   "name": "python",
   "nbconvert_exporter": "python",
   "pygments_lexer": "ipython3",
   "version": "3.7.13"
  }
 },
 "nbformat": 4,
 "nbformat_minor": 5
}
