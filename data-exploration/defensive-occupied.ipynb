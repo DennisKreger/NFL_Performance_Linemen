{
 "cells": [
  {
   "cell_type": "code",
   "execution_count": 1,
   "id": "35e293a1",
   "metadata": {},
   "outputs": [],
   "source": [
    "# Import dependencies\n",
    "import pandas as pd"
   ]
  },
  {
   "cell_type": "code",
   "execution_count": 2,
   "id": "4980d900",
   "metadata": {},
   "outputs": [],
   "source": [
    "# Read data\n",
    "plays = pd.read_csv('../Resources/plays.csv')\n",
    "\n",
    "week1 = pd.read_csv('../Resources/week1.csv')\n",
    "week2 = pd.read_csv('../Resources/week2.csv')\n",
    "week3 = pd.read_csv('../Resources/week3.csv')\n",
    "week4 = pd.read_csv('../Resources/week4.csv')\n",
    "week5 = pd.read_csv('../Resources/week5.csv')\n",
    "week6 = pd.read_csv('../Resources/week6.csv')\n",
    "week7 = pd.read_csv('../Resources/week7.csv')\n",
    "week8 = pd.read_csv('../Resources/week8.csv')\n",
    "\n",
    "tracking = week1.append([\n",
    "    week2,\n",
    "    week3,\n",
    "    week4,\n",
    "    week5,\n",
    "    week6,\n",
    "    week7,\n",
    "    week8,\n",
    "])"
   ]
  },
  {
   "cell_type": "code",
   "execution_count": 3,
   "id": "d75ce296",
   "metadata": {},
   "outputs": [],
   "source": [
    "# Find tracking possession\n",
    "player_tracking = tracking[tracking['team'] != 'football']\n",
    "player_tracking = player_tracking.merge(plays[['gameId', 'playId', 'possessionTeam']])\n",
    "player_tracking['possession'] = player_tracking['team'] == player_tracking['possessionTeam']"
   ]
  },
  {
   "cell_type": "code",
   "execution_count": 4,
   "id": "01341862",
   "metadata": {},
   "outputs": [],
   "source": [
    "# Slice for possession\n",
    "offensive_players = player_tracking[player_tracking['possession']]\n",
    "defensive_players = player_tracking[~player_tracking['possession']]"
   ]
  },
  {
   "cell_type": "code",
   "execution_count": null,
   "id": "f4734bf1",
   "metadata": {},
   "outputs": [],
   "source": [
    "# Count occupiers\n",
    "occupation_threshold = 1\n",
    "occupier_counts = pd.DataFrame(columns=['gameId', 'playId', 'nflId', 'frameId', 'occupierCount'])\n",
    "for i, r in defensive_players.iterrows():\n",
    "    occupiers = offensive_players.loc[\n",
    "        (offensive_players['gameId'] == r['gameId']) & \\\n",
    "        (offensive_players['playId'] == r['playId']) & \\\n",
    "        (offensive_players['frameId'] == r['frameId']) & \\\n",
    "        (offensive_players['x'] >= r['x'] - occupation_threshold/2) & \\\n",
    "        (offensive_players['x'] <= r['x'] + occupation_threshold/2) & \\\n",
    "        (offensive_players['y'] >= r['y'] - occupation_threshold/2) & \\\n",
    "        (offensive_players['y'] <= r['y'] + occupation_threshold/2)\n",
    "    ]\n",
    "    occupier_counts.append(pd.DataFrame({\n",
    "        'gameId': r['gameId'],\n",
    "        'playId': r['playId'],\n",
    "        'nflId': r['nflId'],\n",
    "        'frameId': r['frameId'],\n",
    "        'occupierCount': len(occupiers)\n",
    "    }, index=[0]))\n",
    "occupier_counts    "
   ]
  },
  {
   "cell_type": "code",
   "execution_count": null,
   "id": "687abdf5",
   "metadata": {},
   "outputs": [],
   "source": []
  }
 ],
 "metadata": {
  "kernelspec": {
   "display_name": "PythonData",
   "language": "python",
   "name": "pythondata"
  },
  "language_info": {
   "codemirror_mode": {
    "name": "ipython",
    "version": 3
   },
   "file_extension": ".py",
   "mimetype": "text/x-python",
   "name": "python",
   "nbconvert_exporter": "python",
   "pygments_lexer": "ipython3",
   "version": "3.7.13"
  }
 },
 "nbformat": 4,
 "nbformat_minor": 5
}
