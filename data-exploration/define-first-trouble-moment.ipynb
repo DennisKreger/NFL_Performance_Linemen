{
 "cells": [
  {
   "cell_type": "code",
   "execution_count": 1,
   "id": "1e00ebda",
   "metadata": {},
   "outputs": [],
   "source": [
    "# Import dependencies\n",
    "import pandas as pd\n",
    "import math\n",
    "\n",
    "import warnings\n",
    "warnings.filterwarnings('ignore')"
   ]
  },
  {
   "cell_type": "code",
   "execution_count": 2,
   "id": "43316442",
   "metadata": {},
   "outputs": [],
   "source": [
    "# Read data\n",
    "players = pd.read_csv('../Resources/players.csv')\n",
    "plays = pd.read_csv('../Resources/plays.csv')\n",
    "\n",
    "week1 = pd.read_csv('../Resources/week1.csv')\n",
    "week2 = pd.read_csv('../Resources/week2.csv')\n",
    "week3 = pd.read_csv('../Resources/week3.csv')\n",
    "week4 = pd.read_csv('../Resources/week4.csv')\n",
    "week5 = pd.read_csv('../Resources/week5.csv')\n",
    "week6 = pd.read_csv('../Resources/week6.csv')\n",
    "week7 = pd.read_csv('../Resources/week7.csv')\n",
    "week8 = pd.read_csv('../Resources/week8.csv')\n",
    "\n",
    "tracking = week1.append([\n",
    "    week2,\n",
    "    week3,\n",
    "    week4,\n",
    "    week5,\n",
    "    week6,\n",
    "    week7,\n",
    "    week8,\n",
    "])"
   ]
  },
  {
   "cell_type": "code",
   "execution_count": 3,
   "id": "80658fdc",
   "metadata": {},
   "outputs": [],
   "source": [
    "# Find tracking possession\n",
    "player_tracking = tracking[tracking['team'] != 'football']\n",
    "player_tracking = player_tracking.merge(plays[['gameId', 'playId', 'possessionTeam']])\n",
    "player_tracking['possession'] = player_tracking['team'] == player_tracking['possessionTeam']"
   ]
  },
  {
   "cell_type": "code",
   "execution_count": 4,
   "id": "50f6a8eb",
   "metadata": {},
   "outputs": [],
   "source": [
    "# Merge in position\n",
    "player_tracking = player_tracking.copy().merge(players[['nflId', 'officialPosition']])"
   ]
  },
  {
   "cell_type": "code",
   "execution_count": 5,
   "id": "a3c343de",
   "metadata": {},
   "outputs": [],
   "source": [
    "# Slice for QB \n",
    "qb_tracking = player_tracking[player_tracking['officialPosition'] == 'QB']"
   ]
  },
  {
   "cell_type": "code",
   "execution_count": 8,
   "id": "bbd3cffd",
   "metadata": {},
   "outputs": [
    {
     "data": {
      "text/html": [
       "<div>\n",
       "<style scoped>\n",
       "    .dataframe tbody tr th:only-of-type {\n",
       "        vertical-align: middle;\n",
       "    }\n",
       "\n",
       "    .dataframe tbody tr th {\n",
       "        vertical-align: top;\n",
       "    }\n",
       "\n",
       "    .dataframe thead th {\n",
       "        text-align: right;\n",
       "    }\n",
       "</style>\n",
       "<table border=\"1\" class=\"dataframe\">\n",
       "  <thead>\n",
       "    <tr style=\"text-align: right;\">\n",
       "      <th></th>\n",
       "      <th>gameId</th>\n",
       "      <th>playId</th>\n",
       "      <th>frameId</th>\n",
       "      <th>nflId</th>\n",
       "      <th>oppId</th>\n",
       "      <th>oppPossession</th>\n",
       "    </tr>\n",
       "  </thead>\n",
       "  <tbody>\n",
       "    <tr>\n",
       "      <th>0</th>\n",
       "      <td>2021090900</td>\n",
       "      <td>137</td>\n",
       "      <td>1</td>\n",
       "      <td>43424.0</td>\n",
       "      <td>35441.0</td>\n",
       "      <td>False</td>\n",
       "    </tr>\n",
       "  </tbody>\n",
       "</table>\n",
       "</div>"
      ],
      "text/plain": [
       "       gameId playId frameId    nflId    oppId oppPossession\n",
       "0  2021090900    137       1  43424.0  35441.0         False"
      ]
     },
     "execution_count": 8,
     "metadata": {},
     "output_type": "execute_result"
    }
   ],
   "source": [
    "# Get nearest player\n",
    "trouble_df = pd.DataFrame(columns=['gameId', 'playId', 'frameId', 'nflId', 'oppId'])\n",
    "for i, r in qb_tracking.iterrows():\n",
    "    # Check if play trouble moment is defined\n",
    "    opp_df[\n",
    "        (opp_df['gameId'] == r['gameId']) & \\\n",
    "        (opp_df['playId'] == r['playId'])\n",
    "    ]\n",
    "    if len(opp_df) == 0:\n",
    "        # Get opposition data\n",
    "        if r['possession']:\n",
    "            players = player_tracking.loc[\n",
    "                (player_tracking['gameId'] == r['gameId']) & \\\n",
    "                (player_tracking['playId'] == r['playId']) & \\\n",
    "                (player_tracking['frameId'] == r['frameId'])\n",
    "            ]\n",
    "        else:\n",
    "            players = player_tracking.loc[\n",
    "                (player_tracking['gameId'] == r['gameId']) & \\\n",
    "                (player_tracking['playId'] == r['playId']) & \\\n",
    "                (player_tracking['frameId'] == r['frameId'])\n",
    "            ]\n",
    "\n",
    "        # Find distance to each opposing player\n",
    "        players['x_diff'] = r['x'] - players['x']\n",
    "        players['x_diff'] = players['x_diff']**2\n",
    "\n",
    "        players['y_diff'] = r['y'] - players['y']\n",
    "        players['y_diff'] = players['y_diff']**2\n",
    "\n",
    "        players['diff_sum'] = players['x_diff'] = players['y_diff']\n",
    "        players['distance_opp'] = players['diff_sum'].apply(lambda x: math.sqrt(x))\n",
    "\n",
    "        # Append nearest player\n",
    "        players.sort_values(by=['distance_opp'])\n",
    "        if not players['possession'].iloc[0]:\n",
    "            opp_df = opp_df.append(pd.DataFrame({\n",
    "                'gameId': players['gameId'].iloc[0],\n",
    "                'playId': players['playId'].iloc[0],\n",
    "                'frameId': players['frameId'].iloc[0],\n",
    "                'troubleOppId': players['nflId'].iloc[0],\n",
    "            }, index=[0]))\n",
    "trouble_df"
   ]
  },
  {
   "cell_type": "code",
   "execution_count": 9,
   "id": "d787602a",
   "metadata": {},
   "outputs": [],
   "source": [
    "# Slice for football data\n",
    "football_tracking = tracking.copy().loc[tracking['team'] == 'football']\n",
    "football_tracking.drop(['nflId', 'jerseyNumber', 'team', 'o', 'dir'], axis=1, inplace=True)"
   ]
  },
  {
   "cell_type": "code",
   "execution_count": 12,
   "id": "af2380f2",
   "metadata": {},
   "outputs": [],
   "source": [
    "# Join in first trouble frame\n",
    "football_trouble_tracking = football_tracking.merge(trouble_df[['gameId', 'playId', 'frameId', 'troubleOppId']], how='left')\n",
    "football_trouble_tracking['firstTroubleFrame'] = football_trouble_tracking['troubleOppId'].notna()"
   ]
  },
  {
   "cell_type": "code",
   "execution_count": null,
   "id": "1e5a21a6",
   "metadata": {},
   "outputs": [],
   "source": [
    "football_trouble_tracking.to_csv('football_trouble_event')"
   ]
  },
  {
   "cell_type": "code",
   "execution_count": 13,
   "id": "0feec995",
   "metadata": {},
   "outputs": [
    {
     "data": {
      "text/plain": [
       "2.7663588631371616e-06"
      ]
     },
     "execution_count": 13,
     "metadata": {},
     "output_type": "execute_result"
    }
   ],
   "source": [
    "# Get trouble event frequency\n",
    "football_trouble_tracking['firstTroubleFrame'].mean()"
   ]
  }
 ],
 "metadata": {
  "kernelspec": {
   "display_name": "PythonData",
   "language": "python",
   "name": "pythondata"
  },
  "language_info": {
   "codemirror_mode": {
    "name": "ipython",
    "version": 3
   },
   "file_extension": ".py",
   "mimetype": "text/x-python",
   "name": "python",
   "nbconvert_exporter": "python",
   "pygments_lexer": "ipython3",
   "version": "3.7.13"
  }
 },
 "nbformat": 4,
 "nbformat_minor": 5
}
