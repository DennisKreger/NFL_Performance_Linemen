{
 "cells": [
  {
   "cell_type": "code",
   "execution_count": 1,
   "id": "11a5d1bf",
   "metadata": {},
   "outputs": [],
   "source": [
    "# Import dependencies\n",
    "import pandas as pd\n",
    "from matplotlib import pyplot as plt"
   ]
  },
  {
   "cell_type": "code",
   "execution_count": 2,
   "id": "1f4ef354",
   "metadata": {},
   "outputs": [],
   "source": [
    "# Read data\n",
    "players = pd.read_csv('https://storage.googleapis.com/big-data-bowl/players.csv')\n",
    "plays = pd.read_csv('https://storage.googleapis.com/big-data-bowl/plays.csv')\n",
    "\n",
    "week1 = pd.read_csv('https://storage.googleapis.com/big-data-bowl/week1.csv')\n",
    "week2 = pd.read_csv('https://storage.googleapis.com/big-data-bowl/week2.csv')\n",
    "week3 = pd.read_csv('https://storage.googleapis.com/big-data-bowl/week3.csv')\n",
    "week4 = pd.read_csv('https://storage.googleapis.com/big-data-bowl/week4.csv')\n",
    "week5 = pd.read_csv('https://storage.googleapis.com/big-data-bowl/week5.csv')\n",
    "week6 = pd.read_csv('https://storage.googleapis.com/big-data-bowl/week6.csv')\n",
    "week7 = pd.read_csv('https://storage.googleapis.com/big-data-bowl/week7.csv')\n",
    "week8 = pd.read_csv('https://storage.googleapis.com/big-data-bowl/week8.csv')\n",
    "\n",
    "tracking = week1.append([\n",
    "    week2,\n",
    "    week3,\n",
    "    week4,\n",
    "    week5,\n",
    "    week6,\n",
    "    week7,\n",
    "    week8,\n",
    "])"
   ]
  },
  {
   "cell_type": "code",
   "execution_count": 53,
   "id": "899329b0",
   "metadata": {},
   "outputs": [],
   "source": [
    "# Slice tracking data for football position\n",
    "football_tracking = tracking[tracking['team'] == 'football']"
   ]
  },
  {
   "cell_type": "code",
   "execution_count": 54,
   "id": "ebf4f552",
   "metadata": {},
   "outputs": [],
   "source": [
    "# Slice football tracking data for first frame\n",
    "football_start_tracking = football_tracking[football_tracking['frameId'] == 1]"
   ]
  },
  {
   "cell_type": "code",
   "execution_count": 55,
   "id": "0fb12b58",
   "metadata": {},
   "outputs": [],
   "source": [
    "# Get QB tracking data\n",
    "position_tracking = tracking.merge(players[['nflId', 'officialPosition']], how='inner')\n",
    "qb_tracking = position_tracking[position_tracking['officialPosition'] == 'QB']"
   ]
  },
  {
   "cell_type": "code",
   "execution_count": 57,
   "id": "872f143a",
   "metadata": {},
   "outputs": [],
   "source": [
    "# Slice for QB possession frames\n",
    "\n",
    "# Set football possession threshold\n",
    "fb_possession_threshold = 1\n",
    "\n",
    "# Merge football position by frame\n",
    "fb_rel = qb_tracking[['gameId', 'playId', 'frameId', 'nflId', 'x', 'y']].merge(\n",
    "    football_tracking[['gameId', 'playId', 'frameId', 'x', 'y']],\n",
    "    on=['gameId', 'playId', 'frameId'],\n",
    "    suffixes=('', '_fb')\n",
    ")\n",
    "\n",
    "# Normalize player coordinates\n",
    "fb_rel['x_rel'] = fb_rel['x_fb'] - fb_rel['x']\n",
    "fb_rel['y_rel'] = fb_rel['y_fb'] - fb_rel['y']\n",
    "\n",
    "# Get QB tracking data\n",
    "fb_rel = fb_rel.merge(players[['nflId', 'officialPosition']], how='inner')\n",
    "qb_fb_rel = fb_rel[fb_rel['officialPosition'] == 'QB']\n",
    "\n",
    "# Normalize X distance\n",
    "qb_fb_rel['x_rel'] = qb_fb_rel['x_rel'].apply(lambda x: abs(x))\n",
    "\n",
    "qb_tracking_possession = qb_fb_rel[qb_fb_rel['x_rel'] <= fb_possession_threshold]\n"
   ]
  },
  {
   "cell_type": "code",
   "execution_count": 58,
   "id": "b6e17b63",
   "metadata": {},
   "outputs": [],
   "source": [
    "# Merge in Football start position\n",
    "qb_coords = qb_tracking_possession[['gameId', 'playId', 'frameId', 'x', 'y']].merge(\n",
    "    football_start_tracking[['gameId', 'playId', 'x', 'y']],\n",
    "    on=['gameId', 'playId'],\n",
    "    suffixes=('', '_start')\n",
    ")"
   ]
  },
  {
   "cell_type": "code",
   "execution_count": 60,
   "id": "3ba4a8bb",
   "metadata": {},
   "outputs": [],
   "source": [
    "# Normalize position data to football start\n",
    "qb_coords['x_rel'] = qb_coords['x_start'] - qb_coords['x']\n",
    "qb_coords['y_rel'] = qb_coords['y_start'] - qb_coords['y']\n",
    "\n",
    "qb_coords['x_rel'] = qb_coords['x_rel'].apply(lambda x: abs(x))"
   ]
  },
  {
   "cell_type": "code",
   "execution_count": 72,
   "id": "92581a37",
   "metadata": {},
   "outputs": [
    {
     "data": {
      "image/png": "[encoded data removed]",
      "text/plain": [
       "<Figure size 288x720 with 1 Axes>"
      ]
     },
     "metadata": {
      "needs_background": "light"
     },
     "output_type": "display_data"
    }
   ],
   "source": [
    "# Plot X position distributions\n",
    "plt.figure(figsize=(4, 10))\n",
    "plt.boxplot(qb_coords['x_rel'], labels=['X Position']) \n",
    "plt.ylabel('Yards')\n",
    "plt.title('QB X Pocket')\n",
    "plt.show()"
   ]
  },
  {
   "cell_type": "code",
   "execution_count": 70,
   "id": "fe5481a7",
   "metadata": {},
   "outputs": [
    {
     "data": {
      "image/png": "[encoded data removed]",
      "text/plain": [
       "<Figure size 1152x288 with 1 Axes>"
      ]
     },
     "metadata": {
      "needs_background": "light"
     },
     "output_type": "display_data"
    }
   ],
   "source": [
    "# Plot X position distributions\n",
    "plt.figure(figsize=(16, 4))\n",
    "plt.boxplot(qb_coords['y_rel'], labels=['Y Position'], vert = 0)\n",
    "\n",
    "plt.xlabel('Yards')\n",
    "plt.title('QB Y Pocket')\n",
    "plt.show()"
   ]
  },
  {
   "cell_type": "code",
   "execution_count": null,
   "id": "c879c871",
   "metadata": {},
   "outputs": [],
   "source": []
  }
 ],
 "metadata": {
  "kernelspec": {
   "display_name": "Python 3 (ipykernel)",
   "language": "python",
   "name": "python3"
  },
  "language_info": {
   "codemirror_mode": {
    "name": "ipython",
    "version": 3
   },
   "file_extension": ".py",
   "mimetype": "text/x-python",
   "name": "python",
   "nbconvert_exporter": "python",
   "pygments_lexer": "ipython3",
   "version": "3.7.13"
  }
 },
 "nbformat": 4,
 "nbformat_minor": 5
}
