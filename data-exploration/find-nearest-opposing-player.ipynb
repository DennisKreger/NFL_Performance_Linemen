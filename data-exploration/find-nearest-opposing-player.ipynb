{
 "cells": [
  {
   "cell_type": "code",
   "execution_count": 1,
   "id": "1e00ebda",
   "metadata": {},
   "outputs": [],
   "source": [
    "# Import dependencies\n",
    "import pandas as pd\n",
    "import math\n",
    "\n",
    "import warnings\n",
    "warnings.filterwarnings('ignore')"
   ]
  },
  {
   "cell_type": "code",
   "execution_count": 2,
   "id": "43316442",
   "metadata": {},
   "outputs": [],
   "source": [
    "# Read data\n",
    "plays = pd.read_csv('../Resources/plays.csv')\n",
    "\n",
    "week1 = pd.read_csv('../Resources/week1.csv')\n",
    "week2 = pd.read_csv('../Resources/week2.csv')\n",
    "week3 = pd.read_csv('../Resources/week3.csv')\n",
    "week4 = pd.read_csv('../Resources/week4.csv')\n",
    "week5 = pd.read_csv('../Resources/week5.csv')\n",
    "week6 = pd.read_csv('../Resources/week6.csv')\n",
    "week7 = pd.read_csv('../Resources/week7.csv')\n",
    "week8 = pd.read_csv('../Resources/week8.csv')\n",
    "\n",
    "tracking = week1.append([\n",
    "    week2,\n",
    "    week3,\n",
    "    week4,\n",
    "    week5,\n",
    "    week6,\n",
    "    week7,\n",
    "    week8,\n",
    "])"
   ]
  },
  {
   "cell_type": "code",
   "execution_count": 3,
   "id": "b9a4be22",
   "metadata": {},
   "outputs": [],
   "source": [
    "# Find tracking possession\n",
    "player_tracking = tracking[tracking['team'] != 'football']\n",
    "player_tracking = player_tracking.merge(plays[['gameId', 'playId', 'possessionTeam']])\n",
    "player_tracking['possession'] = player_tracking['team'] == player_tracking['possessionTeam']"
   ]
  },
  {
   "cell_type": "code",
   "execution_count": null,
   "id": "dc306560",
   "metadata": {},
   "outputs": [],
   "source": [
    "# Get nearest player\n",
    "opp_df = pd.DataFrame(columns=['gameId', 'playId', 'frameId', 'nflId', 'oppId'])\n",
    "for i, r in player_tracking.iterrows():\n",
    "    # Get opposition data\n",
    "    if r['possession']:\n",
    "        players = player_tracking.loc[\n",
    "            (player_tracking['gameId'] == r['gameId']) & \\\n",
    "            (player_tracking['playId'] == r['playId']) & \\\n",
    "            (player_tracking['frameId'] == r['frameId'])\n",
    "        ]\n",
    "    else:\n",
    "        players = player_tracking.loc[\n",
    "            (player_tracking['gameId'] == r['gameId']) & \\\n",
    "            (player_tracking['playId'] == r['playId']) & \\\n",
    "            (player_tracking['frameId'] == r['frameId'])\n",
    "        ]\n",
    "    \n",
    "    # Find distance to each opposing player\n",
    "    players['x_diff'] = r['x'] - players['x']\n",
    "    players['x_diff'] = players['x_diff']**2\n",
    "\n",
    "    players['y_diff'] = r['y'] - players['y']\n",
    "    players['y_diff'] = players['y_diff']**2\n",
    "\n",
    "    players['diff_sum'] = players['x_diff'] = players['y_diff']\n",
    "    players['distance_opp'] = players['diff_sum'].apply(lambda x: math.sqrt(x))\n",
    "    \n",
    "    # Append nearest player\n",
    "    players.sort_values(by=['distance_opp'])\n",
    "    opp_df = opp_df.append(pd.DataFrame({\n",
    "        'gameId': players['gameId'].iloc[0],\n",
    "        'playId': players['playId'].iloc[0],\n",
    "        'frameId': players['frameId'].iloc[0],\n",
    "        'nflId': r['nflId'],\n",
    "        'oppId': players['nflId'].iloc[0]\n",
    "    }, index=[0]))"
   ]
  },
  {
   "cell_type": "code",
   "execution_count": null,
   "id": "12f5dbeb",
   "metadata": {},
   "outputs": [],
   "source": [
    "# Merge with tracking data\n",
    "tracking_with_opp = tracking.merge(opp_df[['gameId', 'playId', 'frameId', 'nflId', 'oppId']], on=['gameId', 'playId', 'frameId', 'nflId'])"
   ]
  },
  {
   "cell_type": "code",
   "execution_count": null,
   "id": "7dc7e7ae",
   "metadata": {},
   "outputs": [],
   "source": [
    "# Save to CSV\n",
    "tracking_with_opp.to_csv('tracking_with_opp.csv')"
   ]
  }
 ],
 "metadata": {
  "kernelspec": {
   "display_name": "PythonData",
   "language": "python",
   "name": "pythondata"
  },
  "language_info": {
   "codemirror_mode": {
    "name": "ipython",
    "version": 3
   },
   "file_extension": ".py",
   "mimetype": "text/x-python",
   "name": "python",
   "nbconvert_exporter": "python",
   "pygments_lexer": "ipython3",
   "version": "3.7.13"
  }
 },
 "nbformat": 4,
 "nbformat_minor": 5
}
