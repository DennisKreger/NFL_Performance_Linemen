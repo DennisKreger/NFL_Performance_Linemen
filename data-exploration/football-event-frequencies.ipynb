{
 "cells": [
  {
   "cell_type": "code",
   "execution_count": 1,
   "id": "7a9526c0",
   "metadata": {},
   "outputs": [],
   "source": [
    "# Import dependencies\n",
    "import pandas as pd\n",
    "import math"
   ]
  },
  {
   "cell_type": "code",
   "execution_count": 2,
   "id": "d2780c13",
   "metadata": {},
   "outputs": [],
   "source": [
    "# Read data\n",
    "week1 = pd.read_csv('../Resources/week1.csv')\n",
    "week2 = pd.read_csv('../Resources/week2.csv')\n",
    "week3 = pd.read_csv('../Resources/week3.csv')\n",
    "week4 = pd.read_csv('../Resources/week4.csv')\n",
    "week5 = pd.read_csv('../Resources/week5.csv')\n",
    "week6 = pd.read_csv('../Resources/week6.csv')\n",
    "week7 = pd.read_csv('../Resources/week7.csv')\n",
    "week8 = pd.read_csv('../Resources/week8.csv')\n",
    "\n",
    "tracking = week1.append([\n",
    "    week2,\n",
    "    week3,\n",
    "    week4,\n",
    "    week5,\n",
    "    week6,\n",
    "    week7,\n",
    "    week8,\n",
    "])"
   ]
  },
  {
   "cell_type": "code",
   "execution_count": 3,
   "id": "72447761",
   "metadata": {},
   "outputs": [],
   "source": [
    "# Slice for football data\n",
    "football_tracking = tracking.copy().loc[tracking['team'] == 'football']\n",
    "football_tracking.drop(['nflId', 'jerseyNumber', 'team', 'o', 'dir'], axis=1, inplace=True)"
   ]
  },
  {
   "cell_type": "code",
   "execution_count": 4,
   "id": "af708dc2",
   "metadata": {},
   "outputs": [],
   "source": [
    "# Extract event frequenices\n",
    "def event_frequency(event):\n",
    "    football_exploration = football_tracking.copy()\n",
    "    football_exploration[event] = football_exploration['event'].apply(lambda x: int(x == event))\n",
    "    return football_exploration[['gameId', 'playId', event]].groupby(['gameId', 'playId']).max()[event].mean()\n",
    "\n",
    "football_events = football_tracking.event.drop_duplicates()\n",
    "pd.DataFrame({'event': football_events, 'frequency': football_events.apply(event_frequency)}).to_csv('./Export/event_frequencies.csv')"
   ]
  }
 ],
 "metadata": {
  "kernelspec": {
   "display_name": "PythonData",
   "language": "python",
   "name": "pythondata"
  },
  "language_info": {
   "codemirror_mode": {
    "name": "ipython",
    "version": 3
   },
   "file_extension": ".py",
   "mimetype": "text/x-python",
   "name": "python",
   "nbconvert_exporter": "python",
   "pygments_lexer": "ipython3",
   "version": "3.7.13"
  }
 },
 "nbformat": 4,
 "nbformat_minor": 5
}
