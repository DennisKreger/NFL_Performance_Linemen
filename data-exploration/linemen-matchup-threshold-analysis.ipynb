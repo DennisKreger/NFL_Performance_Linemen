{
 "cells": [
  {
   "cell_type": "code",
   "execution_count": 1,
   "id": "80c96486",
   "metadata": {},
   "outputs": [],
   "source": [
    "# Import dependencies\n",
    "import pandas as pd\n",
    "from matplotlib import pyplot as plt"
   ]
  },
  {
   "cell_type": "code",
   "execution_count": 2,
   "id": "1b7902b9",
   "metadata": {},
   "outputs": [],
   "source": [
    "# Read data\n",
    "red_zone_line_player_proximity = pd.read_csv('https://storage.googleapis.com/big-data-bowl/redZoneLinePlayerProximity.csv')"
   ]
  },
  {
   "cell_type": "code",
   "execution_count": 3,
   "id": "cb4d42ea",
   "metadata": {},
   "outputs": [],
   "source": [
    "matchup_threshold = 1"
   ]
  },
  {
   "cell_type": "code",
   "execution_count": 4,
   "id": "6917b0f9",
   "metadata": {},
   "outputs": [],
   "source": [
    "red_zone_matchups = red_zone_line_player_proximity[red_zone_line_player_proximity['distance'] <= matchup_threshold]\n",
    "red_zone_matchups = red_zone_matchups[['gameId', 'playId', 'nflId', 'nflId2']].groupby(['gameId', 'playId', 'nflId', 'nflId2']).first().reset_index()"
   ]
  },
  {
   "cell_type": "code",
   "execution_count": 5,
   "id": "c6d62b7a",
   "metadata": {},
   "outputs": [],
   "source": [
    "# Define function to get random matchup play\n",
    "def get_random_matchup():\n",
    "    slice = red_zone_matchups[['gameId', 'playId', 'nflId', 'nflId2']].sample(n=1)\n",
    "    return slice.iloc[0,0], slice.iloc[0,1], slice.iloc[0,2], slice.iloc[0,3]"
   ]
  },
  {
   "cell_type": "code",
   "execution_count": 11,
   "id": "a9bb17fb",
   "metadata": {},
   "outputs": [
    {
     "name": "stdout",
     "output_type": "stream",
     "text": [
      "2021100307 2668 47802.0 39684.0\n"
     ]
    },
    {
     "data": {
      "image/png": "[encoded data removed]",
      "text/plain": [
       "<Figure size 432x288 with 1 Axes>"
      ]
     },
     "metadata": {
      "needs_background": "light"
     },
     "output_type": "display_data"
    }
   ],
   "source": [
    "# Plot data\n",
    "\n",
    "# Get random matchup for plot\n",
    "gameId, playId, nflId, nflId2 = get_random_matchup()\n",
    "print(gameId, playId, nflId, nflId2)\n",
    "\n",
    "matchup_data = red_zone_line_player_proximity[\n",
    "    (red_zone_line_player_proximity['gameId'] == gameId) & \\\n",
    "    (red_zone_line_player_proximity['playId'] == playId) & \\\n",
    "    (red_zone_line_player_proximity['nflId'] == nflId) & \\\n",
    "    (red_zone_line_player_proximity['nflId2'] == nflId2)\n",
    "]\n",
    "\n",
    "# Initialize plot\n",
    "fig = plt.figure()\n",
    "ax = fig.add_subplot()\n",
    "\n",
    "plt.plot(\n",
    "    matchup_data['frameId'],\n",
    "    matchup_data['distance']\n",
    ")\n",
    "\n",
    "plt.plot(\n",
    "    matchup_data['frameId'],\n",
    "    [matchup_threshold for x in matchup_data['frameId']]\n",
    ")\n",
    "\n",
    "plt.legend([\"Relative Player Position\", \"Matchup Threshold\"], loc =\"upper left\")\n",
    "plt.xlabel(\"Frame\")\n",
    "plt.ylabel(\"Player Distance\")\n",
    "    \n",
    "plt.title('Matchup Threshold Definition')\n",
    "\n",
    "plt.show()"
   ]
  },
  {
   "cell_type": "code",
   "execution_count": null,
   "id": "80e0d853",
   "metadata": {},
   "outputs": [],
   "source": []
  }
 ],
 "metadata": {
  "kernelspec": {
   "display_name": "PythonData",
   "language": "python",
   "name": "pythondata"
  },
  "language_info": {
   "codemirror_mode": {
    "name": "ipython",
    "version": 3
   },
   "file_extension": ".py",
   "mimetype": "text/x-python",
   "name": "python",
   "nbconvert_exporter": "python",
   "pygments_lexer": "ipython3",
   "version": "3.7.13"
  }
 },
 "nbformat": 4,
 "nbformat_minor": 5
}
