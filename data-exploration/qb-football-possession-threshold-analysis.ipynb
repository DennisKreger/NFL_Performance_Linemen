{
 "cells": [
  {
   "cell_type": "code",
   "execution_count": 1,
   "id": "eb6056ce",
   "metadata": {},
   "outputs": [],
   "source": [
    "# Import dependencies\n",
    "import pandas as pd\n",
    "from matplotlib import pyplot as plt"
   ]
  },
  {
   "cell_type": "code",
   "execution_count": 2,
   "id": "63beb308",
   "metadata": {},
   "outputs": [],
   "source": [
    "# Read data\n",
    "red_zone_qb_proximity = pd.read_csv('https://storage.googleapis.com/big-data-bowl/redZoneQBProximity.csv')\n",
    "\n",
    "players = pd.read_csv('https://storage.googleapis.com/big-data-bowl/players.csv')\n",
    "plays = pd.read_csv('https://storage.googleapis.com/big-data-bowl/plays.csv')\n",
    "\n",
    "week1 = pd.read_csv('https://storage.googleapis.com/big-data-bowl/week1.csv')\n",
    "week2 = pd.read_csv('https://storage.googleapis.com/big-data-bowl/week2.csv')\n",
    "week3 = pd.read_csv('https://storage.googleapis.com/big-data-bowl/week3.csv')\n",
    "week4 = pd.read_csv('https://storage.googleapis.com/big-data-bowl/week4.csv')\n",
    "week5 = pd.read_csv('https://storage.googleapis.com/big-data-bowl/week5.csv')\n",
    "week6 = pd.read_csv('https://storage.googleapis.com/big-data-bowl/week6.csv')\n",
    "week7 = pd.read_csv('https://storage.googleapis.com/big-data-bowl/week7.csv')\n",
    "week8 = pd.read_csv('https://storage.googleapis.com/big-data-bowl/week8.csv')\n",
    "\n",
    "tracking = week1.append([\n",
    "    week2,\n",
    "    week3,\n",
    "    week4,\n",
    "    week5,\n",
    "    week6,\n",
    "    week7,\n",
    "    week8,\n",
    "])"
   ]
  },
  {
   "cell_type": "code",
   "execution_count": 3,
   "id": "3c07eeff",
   "metadata": {},
   "outputs": [],
   "source": [
    "# Slice tracking data for football position\n",
    "football_tracking = tracking[tracking['team'] == 'football']"
   ]
  },
  {
   "cell_type": "code",
   "execution_count": 4,
   "id": "7816e0c1",
   "metadata": {},
   "outputs": [],
   "source": [
    "# Find possession for player tracking data\n",
    "player_tracking = tracking.loc[tracking['team'] != 'football']\n",
    "player_tracking = player_tracking.merge(plays[['gameId', 'playId', 'possessionTeam']])\n",
    "player_tracking['possession'] = player_tracking['team'] == player_tracking['possessionTeam']\n",
    "player_tracking['possession'] = player_tracking['possession'].apply(lambda x: int(x))"
   ]
  },
  {
   "cell_type": "code",
   "execution_count": 5,
   "id": "ab3a9471",
   "metadata": {},
   "outputs": [],
   "source": [
    "# Merge football position by frame\n",
    "positions = player_tracking[['gameId', 'playId', 'frameId', 'nflId', 'possession', 'o', 'x', 'y']].merge(\n",
    "    football_tracking[['gameId', 'playId', 'frameId', 'x', 'y']],\n",
    "    on=['gameId', 'playId', 'frameId'],\n",
    "    suffixes=('', '_fb')\n",
    ")"
   ]
  },
  {
   "cell_type": "code",
   "execution_count": 6,
   "id": "0e94ec1d",
   "metadata": {},
   "outputs": [],
   "source": [
    "# Normalize player coordinates\n",
    "positions['x_rel'] = positions['x_fb'] - positions['x']\n",
    "positions['y_rel'] = positions['y_fb'] - positions['y']"
   ]
  },
  {
   "cell_type": "code",
   "execution_count": 7,
   "id": "f18361d4",
   "metadata": {},
   "outputs": [],
   "source": [
    "# Get QB tracking data\n",
    "positions = positions.merge(players[['nflId', 'officialPosition']], how='inner')\n",
    "qb_positions = positions[positions['officialPosition'] == 'QB']"
   ]
  },
  {
   "cell_type": "code",
   "execution_count": 8,
   "id": "f8f2c41b",
   "metadata": {},
   "outputs": [],
   "source": [
    "# Set football possession threshold\n",
    "fb_possession_threshold = 1"
   ]
  },
  {
   "cell_type": "code",
   "execution_count": 9,
   "id": "aa2052ac",
   "metadata": {},
   "outputs": [],
   "source": [
    "# Define function to get random gameId and playId\n",
    "def get_random_play():\n",
    "    slice = red_zone_qb_proximity.groupby(['gameId', 'playId']).size().reset_index().sample(n=1)\n",
    "    return slice.iloc[0,0], slice.iloc[0,1]"
   ]
  },
  {
   "cell_type": "code",
   "execution_count": 13,
   "id": "baafe91a",
   "metadata": {
    "scrolled": false
   },
   "outputs": [
    {
     "name": "stderr",
     "output_type": "stream",
     "text": [
      "C:\\Users\\lself\\anaconda3\\envs\\PythonData\\lib\\site-packages\\ipykernel_launcher.py:13: SettingWithCopyWarning: \n",
      "A value is trying to be set on a copy of a slice from a DataFrame.\n",
      "Try using .loc[row_indexer,col_indexer] = value instead\n",
      "\n",
      "See the caveats in the documentation: https://pandas.pydata.org/pandas-docs/stable/user_guide/indexing.html#returning-a-view-versus-a-copy\n",
      "  del sys.path[0]\n"
     ]
    },
    {
     "data": {
      "image/png": "[encoded data removed]",
      "text/plain": [
       "<Figure size 432x288 with 1 Axes>"
      ]
     },
     "metadata": {
      "needs_background": "light"
     },
     "output_type": "display_data"
    }
   ],
   "source": [
    "# Plot results for random play\n",
    "\n",
    "# Get random play\n",
    "gameId, playId = get_random_play()\n",
    "\n",
    "# Slice for QB possession frames\n",
    "qb_positions_test = qb_positions[\n",
    "    (qb_positions['gameId'] == gameId) & \\\n",
    "    (qb_positions['playId'] == playId)\n",
    "]\n",
    "\n",
    "# Plot relative ball X distance\n",
    "qb_positions_test['x_rel'] = qb_positions_test['x_rel'].apply(lambda x: abs(x))\n",
    "\n",
    "# Initialize plot\n",
    "fig = plt.figure()\n",
    "ax = fig.add_subplot()\n",
    "\n",
    "plt.plot(\n",
    "    qb_positions_test['frameId'],\n",
    "    qb_positions_test['x_rel']\n",
    ")\n",
    "\n",
    "plt.plot(\n",
    "    qb_positions_test['frameId'],\n",
    "    [fb_possession_threshold for x in qb_positions_test['frameId']],\n",
    "    '--'\n",
    ")\n",
    "\n",
    "plt.legend([\"Relative Ball Position\", \"Possession Threshold\"], loc =\"upper left\")\n",
    "plt.xlabel(\"Frame\")\n",
    "plt.ylabel(\"Ball Distance\")\n",
    "    \n",
    "plt.title('Football Possession Definition')\n",
    "\n",
    "plt.show()"
   ]
  },
  {
   "cell_type": "code",
   "execution_count": null,
   "id": "70059203",
   "metadata": {},
   "outputs": [],
   "source": []
  }
 ],
 "metadata": {
  "kernelspec": {
   "display_name": "PythonData",
   "language": "python",
   "name": "pythondata"
  },
  "language_info": {
   "codemirror_mode": {
    "name": "ipython",
    "version": 3
   },
   "file_extension": ".py",
   "mimetype": "text/x-python",
   "name": "python",
   "nbconvert_exporter": "python",
   "pygments_lexer": "ipython3",
   "version": "3.7.13"
  }
 },
 "nbformat": 4,
 "nbformat_minor": 5
}
