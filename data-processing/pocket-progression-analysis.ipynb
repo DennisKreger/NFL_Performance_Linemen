{
 "cells": [
  {
   "cell_type": "code",
   "execution_count": 131,
   "id": "1ae63424",
   "metadata": {},
   "outputs": [],
   "source": [
    "# Import dependencies\n",
    "import pandas as pd\n",
    "import numpy as np\n",
    "from matplotlib import pyplot as plt"
   ]
  },
  {
   "cell_type": "code",
   "execution_count": 13,
   "id": "888185c1",
   "metadata": {},
   "outputs": [],
   "source": [
    "# Read data\n",
    "red_zone_line_player_proximity = pd.read_csv('https://storage.googleapis.com/big-data-bowl/redZoneLinePlayerProximity.csv')\n",
    "red_zone_qb_proximity = pd.read_csv('https://storage.googleapis.com/big-data-bowl/redZoneQBProximity.csv')"
   ]
  },
  {
   "cell_type": "code",
   "execution_count": 70,
   "id": "bfa9c378",
   "metadata": {},
   "outputs": [],
   "source": [
    "# Define matchup threshold\n",
    "matchup_distance_threshold = 1\n",
    "matchup_duration_threshold = 20"
   ]
  },
  {
   "cell_type": "code",
   "execution_count": 77,
   "id": "7b6f7288",
   "metadata": {},
   "outputs": [],
   "source": [
    "# Get unique matchups that fall below threshold for frames exceeding the matchup duration_threshold\n",
    "red_zone_line_player_matchups = red_zone_line_player_proximity[red_zone_line_player_proximity['distance'] <= matchup_distance_threshold]\n",
    "unique_matchups = red_zone_line_player_matchups[['gameId', 'playId', 'nflId', 'nflId2', 'frameId']].groupby(['gameId', 'playId', 'nflId', 'nflId2']).min().reset_index()"
   ]
  },
  {
   "cell_type": "code",
   "execution_count": 106,
   "id": "6e3eb517",
   "metadata": {},
   "outputs": [],
   "source": [
    "# Initialize confirmed matchups DataFrame\n",
    "confirmed_matchups = pd.DataFrame()"
   ]
  },
  {
   "cell_type": "code",
   "execution_count": 107,
   "id": "3455f503",
   "metadata": {},
   "outputs": [],
   "source": [
    "# Add matchup that last for more frames than matchup_duration_threshold to confirmed matchups DataFrame\n",
    "for i, r in unique_matchups.iterrows():\n",
    "    matchup = True\n",
    "    for f in range(matchup_duration_threshold):\n",
    "        matchup_frame = red_zone_line_player_matchups[\n",
    "            (red_zone_line_player_matchups['gameId'] == r['gameId']) & \\\n",
    "            (red_zone_line_player_matchups['playId'] == r['playId']) & \\\n",
    "            (red_zone_line_player_matchups['nflId'] == r['nflId']) & \\\n",
    "            (red_zone_line_player_matchups['nflId2'] == r['nflId2']) & \\\n",
    "            (red_zone_line_player_matchups['frameId'] == r['frameId'] + f)\n",
    "        ]\n",
    "        if len(matchup_frame) == 0:\n",
    "            matchup = False\n",
    "            break\n",
    "    if matchup:\n",
    "        confirmed_matchups = confirmed_matchups.append(r)"
   ]
  },
  {
   "cell_type": "code",
   "execution_count": 109,
   "id": "1814a221",
   "metadata": {},
   "outputs": [],
   "source": [
    "# Clean confirmed matchups\n",
    "confirmed_matchups = confirmed_matchups.rename(columns={'frameId': 'firstFrameId'})\n",
    "confirmed_matchups['lastFrameId'] = confirmed_matchups['firstFrameId'].apply(lambda x: x + 20)"
   ]
  },
  {
   "cell_type": "code",
   "execution_count": 122,
   "id": "1f8df05d",
   "metadata": {},
   "outputs": [],
   "source": [
    "# Merge defensive player's initial distance to QB\n",
    "matchup_qb_distance = confirmed_matchups.merge(\n",
    "    red_zone_qb_proximity,\n",
    "    left_on=['gameId', 'playId', 'firstFrameId', 'nflId'],\n",
    "    right_on=['gameId', 'playId', 'frameId', 'nflId2'],\n",
    "    how='inner',\n",
    "    suffixes=('', '_qb')\n",
    ")"
   ]
  },
  {
   "cell_type": "code",
   "execution_count": 123,
   "id": "58ea2515",
   "metadata": {},
   "outputs": [],
   "source": [
    "# Merge defensive player's initial distance to QB\n",
    "matchup_qb_distance = matchup_qb_distance.merge(\n",
    "    red_zone_qb_proximity,\n",
    "    left_on=['gameId', 'playId', 'lastFrameId', 'nflId'],\n",
    "    right_on=['gameId', 'playId', 'frameId', 'nflId2'],\n",
    "    how='inner',\n",
    "    suffixes=('', '_final')\n",
    ")"
   ]
  },
  {
   "cell_type": "code",
   "execution_count": 128,
   "id": "2994344e",
   "metadata": {},
   "outputs": [],
   "source": [
    "# Find pocket progression across matchup frames\n",
    "matchup_qb_distance['progression'] = matchup_qb_distance.apply(lambda r: r['distance_final'] - r['distance'], axis=1)"
   ]
  },
  {
   "cell_type": "code",
   "execution_count": 133,
   "id": "36036998",
   "metadata": {},
   "outputs": [],
   "source": [
    "# Drop unused columns\n",
    "matchup_qb_distance = matchup_qb_distance[['gameId', 'playId', 'nflId', 'nflId2', 'progression']]"
   ]
  },
  {
   "cell_type": "code",
   "execution_count": 151,
   "id": "d5096a02",
   "metadata": {},
   "outputs": [
    {
     "data": {
      "image/png": "[encoded data removed]",
      "text/plain": [
       "<Figure size 1152x720 with 1 Axes>"
      ]
     },
     "metadata": {
      "needs_background": "light"
     },
     "output_type": "display_data"
    }
   ],
   "source": [
    "# Plot histogram\n",
    "plt.figure(figsize=(16, 10))\n",
    "plt.hist(matchup_qb_distance['progression'], bins=50, edgecolor='black')\n",
    "plt.yticks([])\n",
    "plt.xlabel('Yards Gained')\n",
    "plt.title('Pocket Progression Histogram')\n",
    "plt.show()"
   ]
  },
  {
   "cell_type": "code",
   "execution_count": null,
   "id": "6eaecc5e",
   "metadata": {},
   "outputs": [],
   "source": [
    "# Remove outliers"
   ]
  },
  {
   "cell_type": "code",
   "execution_count": null,
   "id": "502c83bc",
   "metadata": {},
   "outputs": [],
   "source": [
    "# Clean for ML model"
   ]
  }
 ],
 "metadata": {
  "kernelspec": {
   "display_name": "PythonData",
   "language": "python",
   "name": "pythondata"
  },
  "language_info": {
   "codemirror_mode": {
    "name": "ipython",
    "version": 3
   },
   "file_extension": ".py",
   "mimetype": "text/x-python",
   "name": "python",
   "nbconvert_exporter": "python",
   "pygments_lexer": "ipython3",
   "version": "3.7.13"
  }
 },
 "nbformat": 4,
 "nbformat_minor": 5
}
