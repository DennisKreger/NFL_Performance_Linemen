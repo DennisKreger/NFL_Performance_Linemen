{
 "cells": [
  {
   "cell_type": "code",
   "execution_count": 1,
   "id": "1ae63424",
   "metadata": {},
   "outputs": [],
   "source": [
    "# Import dependencies\n",
    "import pandas as pd"
   ]
  },
  {
   "cell_type": "code",
   "execution_count": 2,
   "id": "888185c1",
   "metadata": {},
   "outputs": [],
   "source": [
    "# Read data\n",
    "red_zone_line_player_proximity = pd.read_csv('https://storage.googleapis.com/big-data-bowl/redZoneLinePlayerProximity.csv')\n",
    "red_zone_qb_proximity = pd.read_csv('https://storage.googleapis.com/big-data-bowl/redZoneQBProximity.csv')"
   ]
  },
  {
   "cell_type": "code",
   "execution_count": null,
   "id": "bfa9c378",
   "metadata": {},
   "outputs": [],
   "source": [
    "# Define matchup threshold\n",
    "matchup_distance_threshold = 0\n",
    "matchup_duration_threshold = 0"
   ]
  },
  {
   "cell_type": "code",
   "execution_count": 4,
   "id": "7b6f7288",
   "metadata": {},
   "outputs": [],
   "source": [
    "# Get unique matchups that fall below threshold for frames exceeding the matchup duration_threshold"
   ]
  },
  {
   "cell_type": "code",
   "execution_count": null,
   "id": "1f8df05d",
   "metadata": {},
   "outputs": [],
   "source": [
    "# Merge defensive player's distance to QB"
   ]
  },
  {
   "cell_type": "code",
   "execution_count": null,
   "id": "300f2365",
   "metadata": {},
   "outputs": [],
   "source": [
    "# Find pocket progression across matchup frames"
   ]
  },
  {
   "cell_type": "code",
   "execution_count": null,
   "id": "502c83bc",
   "metadata": {},
   "outputs": [],
   "source": [
    "# Clean for ML model"
   ]
  }
 ],
 "metadata": {
  "kernelspec": {
   "display_name": "PythonData",
   "language": "python",
   "name": "pythondata"
  },
  "language_info": {
   "codemirror_mode": {
    "name": "ipython",
    "version": 3
   },
   "file_extension": ".py",
   "mimetype": "text/x-python",
   "name": "python",
   "nbconvert_exporter": "python",
   "pygments_lexer": "ipython3",
   "version": "3.7.13"
  }
 },
 "nbformat": 4,
 "nbformat_minor": 5
}
