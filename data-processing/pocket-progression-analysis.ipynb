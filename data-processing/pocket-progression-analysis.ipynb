{
 "cells": [
  {
   "cell_type": "code",
   "execution_count": 2,
   "id": "1ae63424",
   "metadata": {},
   "outputs": [],
   "source": [
    "# Import dependencies\n",
    "import pandas as pd"
   ]
  },
  {
   "cell_type": "code",
   "execution_count": null,
   "id": "888185c1",
   "metadata": {},
   "outputs": [],
   "source": [
    "# Read data\n",
    "red_zone_line_player_proximity = pd.read_csv('https://storage.googleapis.com/big-data-bowl/redZoneLinePlayerProximity.csv')\n",
    "red_zone_qb_proximity = pd.read_csv('https://storage.googleapis.com/big-data-bowl/redZoneQBProximity.csv')\n",
    "\n",
    "players = pd.read_csv('https://storage.googleapis.com/big-data-bowl/players.csv')\n",
    "plays = pd.read_csv('https://storage.googleapis.com/big-data-bowl/plays.csv')\n",
    "\n",
    "week1 = pd.read_csv('https://storage.googleapis.com/big-data-bowl/week1.csv')\n",
    "week2 = pd.read_csv('https://storage.googleapis.com/big-data-bowl/week2.csv')\n",
    "week3 = pd.read_csv('https://storage.googleapis.com/big-data-bowl/week3.csv')\n",
    "week4 = pd.read_csv('https://storage.googleapis.com/big-data-bowl/week4.csv')\n",
    "week5 = pd.read_csv('https://storage.googleapis.com/big-data-bowl/week5.csv')\n",
    "week6 = pd.read_csv('https://storage.googleapis.com/big-data-bowl/week6.csv')\n",
    "week7 = pd.read_csv('https://storage.googleapis.com/big-data-bowl/week7.csv')\n",
    "week8 = pd.read_csv('https://storage.googleapis.com/big-data-bowl/week8.csv')"
   ]
  },
  {
   "cell_type": "code",
   "execution_count": null,
   "id": "cd101ed9",
   "metadata": {},
   "outputs": [],
   "source": [
    "# Clean and concatenate week data\n",
    "week1['week'] = 1\n",
    "week2['week'] = 2\n",
    "week3['week'] = 3\n",
    "week4['week'] = 4\n",
    "week5['week'] = 5\n",
    "week6['week'] = 6\n",
    "week7['week'] = 7\n",
    "week8['week'] = 8\n",
    "\n",
    "tracking = week1.append([\n",
    "    week2,\n",
    "    week3,\n",
    "    week4,\n",
    "    week5,\n",
    "    week6,\n",
    "    week7,\n",
    "    week8,\n",
    "])"
   ]
  }
 ],
 "metadata": {
  "kernelspec": {
   "display_name": "PythonData",
   "language": "python",
   "name": "pythondata"
  },
  "language_info": {
   "codemirror_mode": {
    "name": "ipython",
    "version": 3
   },
   "file_extension": ".py",
   "mimetype": "text/x-python",
   "name": "python",
   "nbconvert_exporter": "python",
   "pygments_lexer": "ipython3",
   "version": "3.7.13"
  }
 },
 "nbformat": 4,
 "nbformat_minor": 5
}
