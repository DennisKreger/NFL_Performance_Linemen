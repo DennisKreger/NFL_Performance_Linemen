{
 "cells": [
  {
   "cell_type": "code",
   "execution_count": 14,
   "id": "d1af7fa2",
   "metadata": {},
   "outputs": [],
   "source": [
    "# Import dependencies\n",
    "import pandas as pd\n",
    "import numpy as np\n",
    "from matplotlib import pyplot as plt"
   ]
  },
  {
   "cell_type": "code",
   "execution_count": 4,
   "id": "0592d996",
   "metadata": {},
   "outputs": [],
   "source": [
    "# Read data\n",
    "red_zone_qb_proximity = pd.read_csv('https://storage.googleapis.com/big-data-bowl/redZoneQBProximity.csv')"
   ]
  },
  {
   "cell_type": "code",
   "execution_count": 7,
   "id": "41cbf758",
   "metadata": {},
   "outputs": [],
   "source": [
    "# Get only opposing proximities\n",
    "red_zone_qb_proximity_opposing = red_zone_qb_proximity[red_zone_qb_proximity['matchupOpposing'] == 1]"
   ]
  },
  {
   "cell_type": "code",
   "execution_count": 27,
   "id": "ad4f2834",
   "metadata": {},
   "outputs": [
    {
     "data": {
      "text/html": [
       "<div>\n",
       "<style scoped>\n",
       "    .dataframe tbody tr th:only-of-type {\n",
       "        vertical-align: middle;\n",
       "    }\n",
       "\n",
       "    .dataframe tbody tr th {\n",
       "        vertical-align: top;\n",
       "    }\n",
       "\n",
       "    .dataframe thead th {\n",
       "        text-align: right;\n",
       "    }\n",
       "</style>\n",
       "<table border=\"1\" class=\"dataframe\">\n",
       "  <thead>\n",
       "    <tr style=\"text-align: right;\">\n",
       "      <th></th>\n",
       "      <th>gameId</th>\n",
       "      <th>playId</th>\n",
       "      <th>frameId</th>\n",
       "      <th>distance</th>\n",
       "    </tr>\n",
       "  </thead>\n",
       "  <tbody>\n",
       "    <tr>\n",
       "      <th>0</th>\n",
       "      <td>2021090900</td>\n",
       "      <td>410</td>\n",
       "      <td>1</td>\n",
       "      <td>5.680220</td>\n",
       "    </tr>\n",
       "    <tr>\n",
       "      <th>1</th>\n",
       "      <td>2021090900</td>\n",
       "      <td>410</td>\n",
       "      <td>2</td>\n",
       "      <td>5.650142</td>\n",
       "    </tr>\n",
       "    <tr>\n",
       "      <th>2</th>\n",
       "      <td>2021090900</td>\n",
       "      <td>410</td>\n",
       "      <td>3</td>\n",
       "      <td>5.630142</td>\n",
       "    </tr>\n",
       "    <tr>\n",
       "      <th>3</th>\n",
       "      <td>2021090900</td>\n",
       "      <td>410</td>\n",
       "      <td>4</td>\n",
       "      <td>5.610009</td>\n",
       "    </tr>\n",
       "    <tr>\n",
       "      <th>4</th>\n",
       "      <td>2021090900</td>\n",
       "      <td>410</td>\n",
       "      <td>5</td>\n",
       "      <td>5.570009</td>\n",
       "    </tr>\n",
       "    <tr>\n",
       "      <th>...</th>\n",
       "      <td>...</td>\n",
       "      <td>...</td>\n",
       "      <td>...</td>\n",
       "      <td>...</td>\n",
       "    </tr>\n",
       "    <tr>\n",
       "      <th>42735</th>\n",
       "      <td>2021110100</td>\n",
       "      <td>4433</td>\n",
       "      <td>54</td>\n",
       "      <td>0.655515</td>\n",
       "    </tr>\n",
       "    <tr>\n",
       "      <th>42736</th>\n",
       "      <td>2021110100</td>\n",
       "      <td>4433</td>\n",
       "      <td>55</td>\n",
       "      <td>0.702282</td>\n",
       "    </tr>\n",
       "    <tr>\n",
       "      <th>42737</th>\n",
       "      <td>2021110100</td>\n",
       "      <td>4433</td>\n",
       "      <td>56</td>\n",
       "      <td>0.774919</td>\n",
       "    </tr>\n",
       "    <tr>\n",
       "      <th>42738</th>\n",
       "      <td>2021110100</td>\n",
       "      <td>4433</td>\n",
       "      <td>57</td>\n",
       "      <td>0.838153</td>\n",
       "    </tr>\n",
       "    <tr>\n",
       "      <th>42739</th>\n",
       "      <td>2021110100</td>\n",
       "      <td>4433</td>\n",
       "      <td>58</td>\n",
       "      <td>0.908240</td>\n",
       "    </tr>\n",
       "  </tbody>\n",
       "</table>\n",
       "<p>42740 rows × 4 columns</p>\n",
       "</div>"
      ],
      "text/plain": [
       "           gameId  playId  frameId  distance\n",
       "0      2021090900     410        1  5.680220\n",
       "1      2021090900     410        2  5.650142\n",
       "2      2021090900     410        3  5.630142\n",
       "3      2021090900     410        4  5.610009\n",
       "4      2021090900     410        5  5.570009\n",
       "...           ...     ...      ...       ...\n",
       "42735  2021110100    4433       54  0.655515\n",
       "42736  2021110100    4433       55  0.702282\n",
       "42737  2021110100    4433       56  0.774919\n",
       "42738  2021110100    4433       57  0.838153\n",
       "42739  2021110100    4433       58  0.908240\n",
       "\n",
       "[42740 rows x 4 columns]"
      ]
     },
     "execution_count": 27,
     "metadata": {},
     "output_type": "execute_result"
    }
   ],
   "source": [
    "red_zone_pressure = red_zone_qb_proximity_opposing[['gameId', 'playId', 'frameId', 'distance']].groupby(['gameId', 'playId', 'frameId']).min().reset_index()\n",
    "red_zone_pressure"
   ]
  },
  {
   "cell_type": "code",
   "execution_count": 32,
   "id": "d765e900",
   "metadata": {},
   "outputs": [
    {
     "data": {
      "image/png": "[encoded data removed]",
      "text/plain": [
       "<Figure size 720x360 with 1 Axes>"
      ]
     },
     "metadata": {
      "needs_background": "light"
     },
     "output_type": "display_data"
    }
   ],
   "source": [
    "plt.rcParams[\"figure.figsize\"] = [10, 5]\n",
    "y, binEdges = np.histogram(red_zone_pressure['distance'], bins=100)\n",
    "bincenters = 0.5 * (binEdges[1:] + binEdges[:-1])\n",
    "plt.plot(bincenters, y, '-', c='black')\n",
    "plt.xlabel('Yards')\n",
    "plt.ylabel('Frames')\n",
    "plt.title('Pressure frequency')\n",
    "plt.show()"
   ]
  },
  {
   "cell_type": "code",
   "execution_count": null,
   "id": "0c276217",
   "metadata": {},
   "outputs": [],
   "source": []
  }
 ],
 "metadata": {
  "kernelspec": {
   "display_name": "PythonData",
   "language": "python",
   "name": "pythondata"
  },
  "language_info": {
   "codemirror_mode": {
    "name": "ipython",
    "version": 3
   },
   "file_extension": ".py",
   "mimetype": "text/x-python",
   "name": "python",
   "nbconvert_exporter": "python",
   "pygments_lexer": "ipython3",
   "version": "3.7.13"
  }
 },
 "nbformat": 4,
 "nbformat_minor": 5
}
