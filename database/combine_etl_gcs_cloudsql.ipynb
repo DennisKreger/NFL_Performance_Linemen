{
  "cells": [
    {
      "cell_type": "code",
      "execution_count": 1,
      "metadata": {
        "colab": {
          "base_uri": "https://localhost:8080/"
        },
        "id": "5WosHdRWdmpw",
        "outputId": "3befa492-cbba-4de4-cc3d-cf59f5ac429e"
      },
      "outputs": [
        {
          "output_type": "stream",
          "name": "stdout",
          "text": [
            "\r0% [Working]\r            \rHit:1 https://cloud.r-project.org/bin/linux/ubuntu bionic-cran40/ InRelease\n",
            "\r0% [Connecting to archive.ubuntu.com (185.125.190.36)] [Connecting to security.\r0% [1 InRelease gpgv 3,626 B] [Connecting to archive.ubuntu.com (185.125.190.36\r                                                                               \rIgn:2 https://developer.download.nvidia.com/compute/machine-learning/repos/ubuntu1804/x86_64  InRelease\n",
            "\r0% [1 InRelease gpgv 3,626 B] [Waiting for headers] [Waiting for headers] [Wait\r                                                                               \rHit:3 https://developer.download.nvidia.com/compute/cuda/repos/ubuntu1804/x86_64  InRelease\n",
            "\r0% [1 InRelease gpgv 3,626 B] [Waiting for headers] [Waiting for headers] [Conn\r                                                                               \rHit:4 https://developer.download.nvidia.com/compute/machine-learning/repos/ubuntu1804/x86_64  Release\n",
            "\r0% [1 InRelease gpgv 3,626 B] [Waiting for headers] [Waiting for headers] [Conn\r                                                                               \rHit:5 http://security.ubuntu.com/ubuntu bionic-security InRelease\n",
            "Hit:6 http://archive.ubuntu.com/ubuntu bionic InRelease\n",
            "Hit:7 http://ppa.launchpad.net/c2d4u.team/c2d4u4.0+/ubuntu bionic InRelease\n",
            "Hit:8 http://archive.ubuntu.com/ubuntu bionic-updates InRelease\n",
            "Hit:9 http://archive.ubuntu.com/ubuntu bionic-backports InRelease\n",
            "Hit:10 http://ppa.launchpad.net/cran/libgit2/ubuntu bionic InRelease\n",
            "Hit:11 http://ppa.launchpad.net/deadsnakes/ppa/ubuntu bionic InRelease\n",
            "Hit:12 http://ppa.launchpad.net/graphics-drivers/ppa/ubuntu bionic InRelease\n",
            "Reading package lists... Done\n"
          ]
        }
      ],
      "source": [
        "import os\n",
        "# Find the latest version of spark 3.0  from http://www.apache.org/dist/spark/ and enter as the spark version\n",
        "# For example:\n",
        "# spark_version = 'spark-3.0.3'\n",
        "spark_version = 'spark-3.1.3'\n",
        "os.environ['SPARK_VERSION']=spark_version\n",
        "\n",
        "# Install Spark and Java\n",
        "!apt-get update\n",
        "!apt-get install openjdk-11-jdk-headless -qq > /dev/null\n",
        "!wget -q http://www.apache.org/dist/spark/$SPARK_VERSION/$SPARK_VERSION-bin-hadoop2.7.tgz\n",
        "!tar xf $SPARK_VERSION-bin-hadoop2.7.tgz\n",
        "!pip install -q findspark\n",
        "\n",
        "# Set Environment Variables\n",
        "os.environ[\"JAVA_HOME\"] = \"/usr/lib/jvm/java-11-openjdk-amd64\"\n",
        "os.environ[\"SPARK_HOME\"] = f\"/content/{spark_version}-bin-hadoop2.7\"\n",
        "\n",
        "# Start a SparkSession\n",
        "import findspark\n",
        "findspark.init()"
      ]
    },
    {
      "cell_type": "code",
      "execution_count": 2,
      "metadata": {
        "colab": {
          "base_uri": "https://localhost:8080/"
        },
        "id": "xISV-9eR6Yah",
        "outputId": "a572be34-78d5-4962-8c3d-bc04b8003cd5"
      },
      "outputs": [
        {
          "output_type": "stream",
          "name": "stdout",
          "text": [
            "--2022-11-10 20:35:02--  https://jdbc.postgresql.org/download/postgresql-42.2.9.jar\n",
            "Resolving jdbc.postgresql.org (jdbc.postgresql.org)... 72.32.157.228, 2001:4800:3e1:1::228\n",
            "Connecting to jdbc.postgresql.org (jdbc.postgresql.org)|72.32.157.228|:443... connected.\n",
            "HTTP request sent, awaiting response... 200 OK\n",
            "Length: 914037 (893K) [application/java-archive]\n",
            "Saving to: ‘postgresql-42.2.9.jar.3’\n",
            "\n",
            "postgresql-42.2.9.j 100%[===================>] 892.61K  --.-KB/s    in 0.09s   \n",
            "\n",
            "2022-11-10 20:35:03 (9.91 MB/s) - ‘postgresql-42.2.9.jar.3’ saved [914037/914037]\n",
            "\n"
          ]
        }
      ],
      "source": [
        "!wget https://jdbc.postgresql.org/download/postgresql-42.2.9.jar"
      ]
    },
    {
      "cell_type": "code",
      "execution_count": 3,
      "metadata": {
        "id": "aEQFTWiV6g2h"
      },
      "outputs": [],
      "source": [
        "from pyspark.sql import SparkSession\n",
        "spark = SparkSession.builder.appName(\"CombineETL\").config(\"spark.driver.extraClassPath\",\"/content/postgresql-42.2.9.jar\").getOrCreate()"
      ]
    },
    {
      "cell_type": "code",
      "execution_count": 7,
      "metadata": {
        "colab": {
          "base_uri": "https://localhost:8080/"
        },
        "id": "qik6uGSV9BWa",
        "outputId": "153a5ce6-e0c7-48ca-b4f7-0d1f74359593"
      },
      "outputs": [
        {
          "output_type": "stream",
          "name": "stdout",
          "text": [
            "+--------------------+---+--------------+----+---+----+--------+-----+---------+-----+-------+--------------------+-----+----+----+\n",
            "|              Player|Pos|        School|  Ht| Wt|40yd|Vertical|Bench|broadJump|3Cone|Shuttle|                Team|Round|Pick|Year|\n",
            "+--------------------+---+--------------+----+---+----+--------+-----+---------+-----+-------+--------------------+-----+----+----+\n",
            "|      Courtney Brown| DE|    Penn State| 6-5|269|4.78|    null| null|     null| null|   null|   Cleveland Browns |    1|   1|2000|\n",
            "|     LaVar Arrington|OLB|    Penn State| 6-3|250|4.53|    null| null|     null| null|   null|Washington Redskins |    1|   2|2000|\n",
            "|       Chris Samuels| OT|       Alabama| 6-5|325|5.08|    null| null|     null| null|   null|Washington Redskins |    1|   3|2000|\n",
            "|       Peter Warrick| WR| Florida State|5-11|194|4.58|    null| null|     null| null|   null| Cincinnati Bengals |    1|   4|2000|\n",
            "|         Jamal Lewis| RB|     Tennessee| 6-0|240|4.58|    null|   23|     null| null|   null|   Baltimore Ravens |    1|   5|2000|\n",
            "|         Corey Simon| DT| Florida State| 6-2|297|4.83|    null| null|     null| null|   null|Philadelphia Eagles |    1|   6|2000|\n",
            "|        Thomas Jones| RB|      Virginia|5-10|216|4.45|    null| null|     null| null|   null|  Arizona Cardinals |    1|   7|2000|\n",
            "|     Plaxico Burress| WR|Michigan State| 6-5|231|4.59|    33.0| null|      115| null|   null|Pittsburgh Steelers |    1|   8|2000|\n",
            "|      Brian Urlacher|OLB|    New Mexico| 6-4|258|4.59|    34.0|   27|      122| 6.94|   4.18|      Chicago Bears |    1|   9|2000|\n",
            "|       Travis Taylor| WR|       Florida| 6-1|199|4.43|    37.0| null|      118| 7.15|   null|   Baltimore Ravens |    1|  10|2000|\n",
            "|           Ron Dayne| RB|     Wisconsin|5-11|259|4.65|    null| null|     null| null|   null|    New York Giants |    1|  11|2000|\n",
            "|         Shaun Ellis| DE|     Tennessee| 6-4|280|4.85|    null| null|     null| null|   null|      New York Jets |    1|  12|2000|\n",
            "|        John Abraham|OLB|South Carolina| 6-4|252|4.55|    null| null|     null| null|   null|      New York Jets |    1|  13|2000|\n",
            "|        Bubba Franks| TE|    Miami (FL)| 6-6|265|4.85|    null| null|     null| null|   null|  Green Bay Packers |    1|  14|2000|\n",
            "|       Deltha O'Neal| CB|    California|5-11|193| 4.6|    null| null|     null| null|   null|     Denver Broncos |    1|  15|2000|\n",
            "|     Julian Peterson|OLB|Michigan State| 6-5|231|4.68|    null| null|     null| null|   null|San Francisco 49ers |    1|  16|2000|\n",
            "|Sebastian Janikowski|  K| Florida State| 6-1|260|null|    null| null|     null| null|   null|    Oakland Raiders |    1|  17|2000|\n",
            "|     Chad Pennington| QB|      Marshall| 6-3|229|4.81|    33.5| null|      111| 7.12|   4.16|      New York Jets |    1|  18|2000|\n",
            "|     Shaun Alexander| RB|       Alabama| 6-0|218|4.58|    null| null|     null| null|   null|   Seattle Seahawks |    1|  19|2000|\n",
            "|    Stockar McDougle| OT|      Oklahoma| 6-5|361| 5.5|    null|   24|     null| null|   null|      Detroit Lions |    1|  20|2000|\n",
            "+--------------------+---+--------------+----+---+----+--------+-----+---------+-----+-------+--------------------+-----+----+----+\n",
            "only showing top 20 rows\n",
            "\n"
          ]
        }
      ],
      "source": [
        "# Read in data from GCS Buckets\n",
        "from pyspark import SparkFiles\n",
        "url=\"https://storage.googleapis.com/big-data-bowl/nflcombine.csv\"\n",
        "spark.sparkContext.addFile(url)\n",
        "combine_data_df = spark.read.csv(SparkFiles.get(\"nflcombine.csv\"), sep=\",\", header=True, inferSchema=True)\n",
        "\n",
        "# Show DataFrame\n",
        "combine_data_df.show()"
      ]
    },
    {
      "cell_type": "code",
      "source": [
        "combine_data_df.dtypes"
      ],
      "metadata": {
        "colab": {
          "base_uri": "https://localhost:8080/"
        },
        "id": "xNqlR-Zgq4qK",
        "outputId": "876f8251-5d7c-4154-d654-682602086a89"
      },
      "execution_count": 8,
      "outputs": [
        {
          "output_type": "execute_result",
          "data": {
            "text/plain": [
              "[('Player', 'string'),\n",
              " ('Pos', 'string'),\n",
              " ('School', 'string'),\n",
              " ('Ht', 'string'),\n",
              " ('Wt', 'int'),\n",
              " ('40yd', 'double'),\n",
              " ('Vertical', 'double'),\n",
              " ('Bench', 'int'),\n",
              " ('broadJump', 'int'),\n",
              " ('3Cone', 'double'),\n",
              " ('Shuttle', 'double'),\n",
              " ('Team', 'string'),\n",
              " ('Round', 'int'),\n",
              " ('Pick', 'int'),\n",
              " ('Year', 'int')]"
            ]
          },
          "metadata": {},
          "execution_count": 8
        }
      ]
    },
    {
      "cell_type": "markdown",
      "metadata": {
        "id": "kQgPpNnVnRwh"
      },
      "source": [
        "Postgres Setup"
      ]
    },
    {
      "cell_type": "code",
      "execution_count": 9,
      "metadata": {
        "id": "985Vl1dtmpVU",
        "colab": {
          "base_uri": "https://localhost:8080/"
        },
        "outputId": "051d53ae-7d96-4386-a3e7-ef38fba50a9a"
      },
      "outputs": [
        {
          "name": "stdout",
          "output_type": "stream",
          "text": [
            "Enter database password··········\n"
          ]
        }
      ],
      "source": [
        "# Store environment variable\n",
        "from getpass import getpass\n",
        "password = getpass('Enter database password')\n",
        "\n",
        "# Configure settings for Cloud SQL\n",
        "mode = \"append\"\n",
        "jdbc_url=\"jdbc:postgresql://34.72.136.99:5432/big-data-bowl\"\n",
        "config = {\"user\":\"postgres\", \n",
        "          \"password\": password, \n",
        "          \"driver\":\"org.postgresql.Driver\"}\n"
      ]
    },
    {
      "cell_type": "code",
      "execution_count": 11,
      "metadata": {
        "id": "9yyZgvcUnaNN"
      },
      "outputs": [],
      "source": [
        "# Write DataFrame to games table in Cloud SQL\n",
        "combine_data_df.write.jdbc(url=jdbc_url, table='combine', mode=mode, properties=config)"
      ]
    },
    {
      "cell_type": "code",
      "execution_count": 12,
      "metadata": {
        "id": "Kx3hMnlAD5FA"
      },
      "outputs": [],
      "source": [
        "df = spark.read.jdbc(url=jdbc_url,table='combine',properties=config)"
      ]
    },
    {
      "cell_type": "code",
      "source": [
        "df.show()"
      ],
      "metadata": {
        "id": "GQOyGmjIFOaB",
        "outputId": "5c736d94-6387-4cad-88c9-68e92474878e",
        "colab": {
          "base_uri": "https://localhost:8080/"
        }
      },
      "execution_count": 13,
      "outputs": [
        {
          "output_type": "stream",
          "name": "stdout",
          "text": [
            "+--------------------+---+--------------+----+---+----+--------+-----+---------+-----+-------+--------------------+-----+----+----+\n",
            "|              player|pos|        school|  ht| wt|40yd|vertical|bench|broadjump|3cone|shuttle|                team|round|pick|year|\n",
            "+--------------------+---+--------------+----+---+----+--------+-----+---------+-----+-------+--------------------+-----+----+----+\n",
            "|      Courtney Brown| DE|    Penn State| 6-5|269|4.78|    null| null|     null| null|   null|   Cleveland Browns |    1|   1|2000|\n",
            "|     LaVar Arrington|OLB|    Penn State| 6-3|250|4.53|    null| null|     null| null|   null|Washington Redskins |    1|   2|2000|\n",
            "|       Chris Samuels| OT|       Alabama| 6-5|325|5.08|    null| null|     null| null|   null|Washington Redskins |    1|   3|2000|\n",
            "|       Peter Warrick| WR| Florida State|5-11|194|4.58|    null| null|     null| null|   null| Cincinnati Bengals |    1|   4|2000|\n",
            "|         Jamal Lewis| RB|     Tennessee| 6-0|240|4.58|    null|   23|     null| null|   null|   Baltimore Ravens |    1|   5|2000|\n",
            "|         Corey Simon| DT| Florida State| 6-2|297|4.83|    null| null|     null| null|   null|Philadelphia Eagles |    1|   6|2000|\n",
            "|        Thomas Jones| RB|      Virginia|5-10|216|4.45|    null| null|     null| null|   null|  Arizona Cardinals |    1|   7|2000|\n",
            "|     Plaxico Burress| WR|Michigan State| 6-5|231|4.59|    33.0| null|      115| null|   null|Pittsburgh Steelers |    1|   8|2000|\n",
            "|      Brian Urlacher|OLB|    New Mexico| 6-4|258|4.59|    34.0|   27|      122| 6.94|   4.18|      Chicago Bears |    1|   9|2000|\n",
            "|       Travis Taylor| WR|       Florida| 6-1|199|4.43|    37.0| null|      118| 7.15|   null|   Baltimore Ravens |    1|  10|2000|\n",
            "|           Ron Dayne| RB|     Wisconsin|5-11|259|4.65|    null| null|     null| null|   null|    New York Giants |    1|  11|2000|\n",
            "|         Shaun Ellis| DE|     Tennessee| 6-4|280|4.85|    null| null|     null| null|   null|      New York Jets |    1|  12|2000|\n",
            "|        John Abraham|OLB|South Carolina| 6-4|252|4.55|    null| null|     null| null|   null|      New York Jets |    1|  13|2000|\n",
            "|        Bubba Franks| TE|    Miami (FL)| 6-6|265|4.85|    null| null|     null| null|   null|  Green Bay Packers |    1|  14|2000|\n",
            "|       Deltha O'Neal| CB|    California|5-11|193| 4.6|    null| null|     null| null|   null|     Denver Broncos |    1|  15|2000|\n",
            "|     Julian Peterson|OLB|Michigan State| 6-5|231|4.68|    null| null|     null| null|   null|San Francisco 49ers |    1|  16|2000|\n",
            "|Sebastian Janikowski|  K| Florida State| 6-1|260|null|    null| null|     null| null|   null|    Oakland Raiders |    1|  17|2000|\n",
            "|     Chad Pennington| QB|      Marshall| 6-3|229|4.81|    33.5| null|      111| 7.12|   4.16|      New York Jets |    1|  18|2000|\n",
            "|     Shaun Alexander| RB|       Alabama| 6-0|218|4.58|    null| null|     null| null|   null|   Seattle Seahawks |    1|  19|2000|\n",
            "|    Stockar McDougle| OT|      Oklahoma| 6-5|361| 5.5|    null|   24|     null| null|   null|      Detroit Lions |    1|  20|2000|\n",
            "+--------------------+---+--------------+----+---+----+--------+-----+---------+-----+-------+--------------------+-----+----+----+\n",
            "only showing top 20 rows\n",
            "\n"
          ]
        }
      ]
    }
  ],
  "metadata": {
    "colab": {
      "provenance": [],
      "collapsed_sections": []
    },
    "kernelspec": {
      "display_name": "Python 3",
      "language": "python",
      "name": "python3"
    },
    "language_info": {
      "codemirror_mode": {
        "name": "ipython",
        "version": 3
      },
      "file_extension": ".py",
      "mimetype": "text/x-python",
      "name": "python",
      "nbconvert_exporter": "python",
      "pygments_lexer": "ipython3",
      "version": "3.7.7"
    },
    "latex_envs": {
      "LaTeX_envs_menu_present": true,
      "autoclose": false,
      "autocomplete": true,
      "bibliofile": "biblio.bib",
      "cite_by": "apalike",
      "current_citInitial": 1,
      "eqLabelWithNumbers": true,
      "eqNumInitial": 1,
      "hotkeys": {
        "equation": "Ctrl-E",
        "itemize": "Ctrl-I"
      },
      "labels_anchors": false,
      "latex_user_defs": false,
      "report_style_numbering": false,
      "user_envs_cfg": false
    }
  },
  "nbformat": 4,
  "nbformat_minor": 0
}