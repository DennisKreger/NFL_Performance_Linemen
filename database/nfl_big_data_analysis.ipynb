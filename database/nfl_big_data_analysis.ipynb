{
  "cells": [
    {
      "cell_type": "code",
      "execution_count": 1,
      "metadata": {
        "colab": {
          "base_uri": "https://localhost:8080/"
        },
        "id": "5WosHdRWdmpw",
        "outputId": "e9ceeb64-36df-4f45-89a1-5fd6902b37c0"
      },
      "outputs": [
        {
          "output_type": "stream",
          "name": "stdout",
          "text": [
            "Get:1 https://cloud.r-project.org/bin/linux/ubuntu bionic-cran40/ InRelease [3,626 B]\n",
            "Ign:2 https://developer.download.nvidia.com/compute/machine-learning/repos/ubuntu1804/x86_64  InRelease\n",
            "Hit:3 http://archive.ubuntu.com/ubuntu bionic InRelease\n",
            "Get:4 https://developer.download.nvidia.com/compute/cuda/repos/ubuntu1804/x86_64  InRelease [1,581 B]\n",
            "Get:5 http://security.ubuntu.com/ubuntu bionic-security InRelease [88.7 kB]\n",
            "Hit:6 https://developer.download.nvidia.com/compute/machine-learning/repos/ubuntu1804/x86_64  Release\n",
            "Get:7 http://archive.ubuntu.com/ubuntu bionic-updates InRelease [88.7 kB]\n",
            "Get:8 http://ppa.launchpad.net/c2d4u.team/c2d4u4.0+/ubuntu bionic InRelease [15.9 kB]\n",
            "Get:9 http://archive.ubuntu.com/ubuntu bionic-backports InRelease [83.3 kB]\n",
            "Get:10 https://cloud.r-project.org/bin/linux/ubuntu bionic-cran40/ Packages [98.9 kB]\n",
            "Hit:11 http://ppa.launchpad.net/cran/libgit2/ubuntu bionic InRelease\n",
            "Get:12 http://ppa.launchpad.net/deadsnakes/ppa/ubuntu bionic InRelease [15.9 kB]\n",
            "Hit:13 http://ppa.launchpad.net/graphics-drivers/ppa/ubuntu bionic InRelease\n",
            "Get:14 https://developer.download.nvidia.com/compute/cuda/repos/ubuntu1804/x86_64  Packages [992 kB]\n",
            "Get:16 http://security.ubuntu.com/ubuntu bionic-security/universe amd64 Packages [1,554 kB]\n",
            "Get:17 http://security.ubuntu.com/ubuntu bionic-security/restricted amd64 Packages [1,226 kB]\n",
            "Get:18 http://security.ubuntu.com/ubuntu bionic-security/main amd64 Packages [3,040 kB]\n",
            "Get:19 http://archive.ubuntu.com/ubuntu bionic-updates/universe amd64 Packages [2,332 kB]\n",
            "Get:20 http://archive.ubuntu.com/ubuntu bionic-updates/main amd64 Packages [3,472 kB]\n",
            "Get:21 http://archive.ubuntu.com/ubuntu bionic-updates/restricted amd64 Packages [1,267 kB]\n",
            "Get:22 http://ppa.launchpad.net/c2d4u.team/c2d4u4.0+/ubuntu bionic/main Sources [2,216 kB]\n",
            "Get:23 http://ppa.launchpad.net/c2d4u.team/c2d4u4.0+/ubuntu bionic/main amd64 Packages [1,133 kB]\n",
            "Fetched 17.6 MB in 9s (1,899 kB/s)\n",
            "Reading package lists... Done\n"
          ]
        }
      ],
      "source": [
        "import os\n",
        "# Find the latest version of spark 3.0  from http://www.apache.org/dist/spark/ and enter as the spark version\n",
        "# For example:\n",
        "# spark_version = 'spark-3.0.3'\n",
        "spark_version = 'spark-3.1.3'\n",
        "os.environ['SPARK_VERSION']=spark_version\n",
        "\n",
        "# Install Spark and Java\n",
        "!apt-get update\n",
        "!apt-get install openjdk-11-jdk-headless -qq > /dev/null\n",
        "!wget -q http://www.apache.org/dist/spark/$SPARK_VERSION/$SPARK_VERSION-bin-hadoop2.7.tgz\n",
        "!tar xf $SPARK_VERSION-bin-hadoop2.7.tgz\n",
        "!pip install -q findspark\n",
        "\n",
        "# Set Environment Variables\n",
        "os.environ[\"JAVA_HOME\"] = \"/usr/lib/jvm/java-11-openjdk-amd64\"\n",
        "os.environ[\"SPARK_HOME\"] = f\"/content/{spark_version}-bin-hadoop2.7\"\n",
        "\n",
        "# Start a SparkSession\n",
        "import findspark\n",
        "findspark.init()"
      ]
    },
    {
      "cell_type": "code",
      "execution_count": 2,
      "metadata": {
        "colab": {
          "base_uri": "https://localhost:8080/"
        },
        "id": "xISV-9eR6Yah",
        "outputId": "9b4d67fa-2305-4f51-f71c-d81ab579de5d"
      },
      "outputs": [
        {
          "output_type": "stream",
          "name": "stdout",
          "text": [
            "--2022-11-07 14:07:22--  https://jdbc.postgresql.org/download/postgresql-42.2.9.jar\n",
            "Resolving jdbc.postgresql.org (jdbc.postgresql.org)... 72.32.157.228, 2001:4800:3e1:1::228\n",
            "Connecting to jdbc.postgresql.org (jdbc.postgresql.org)|72.32.157.228|:443... connected.\n",
            "HTTP request sent, awaiting response... 200 OK\n",
            "Length: 914037 (893K) [application/java-archive]\n",
            "Saving to: ‘postgresql-42.2.9.jar’\n",
            "\n",
            "postgresql-42.2.9.j 100%[===================>] 892.61K  4.50MB/s    in 0.2s    \n",
            "\n",
            "2022-11-07 14:07:23 (4.50 MB/s) - ‘postgresql-42.2.9.jar’ saved [914037/914037]\n",
            "\n"
          ]
        }
      ],
      "source": [
        "!wget https://jdbc.postgresql.org/download/postgresql-42.2.9.jar"
      ]
    },
    {
      "cell_type": "code",
      "execution_count": 3,
      "metadata": {
        "id": "aEQFTWiV6g2h"
      },
      "outputs": [],
      "source": [
        "from pyspark.sql import SparkSession\n",
        "spark = SparkSession.builder.appName(\"NFL-Big-Data-Analysis\").config(\"spark.driver.extraClassPath\",\"/content/postgresql-42.2.9.jar\").getOrCreate()"
      ]
    },
    {
      "cell_type": "code",
      "execution_count": 4,
      "metadata": {
        "colab": {
          "base_uri": "https://localhost:8080/"
        },
        "outputId": "b6acf511-e021-4621-be88-0e86a6ee99e6",
        "id": "PcgWTj9QbQGH"
      },
      "outputs": [
        {
          "name": "stdout",
          "output_type": "stream",
          "text": [
            "Enter database password··········\n"
          ]
        }
      ],
      "source": [
        "# Store environment variable\n",
        "from getpass import getpass\n",
        "password = getpass('Enter database password')\n",
        "\n",
        "# Configure settings for Cloud SQL\n",
        "mode = \"append\"\n",
        "jdbc_url=\"jdbc:postgresql://34.72.136.99:5432/big-data-bowl\"\n",
        "config = {\"user\":\"robert\", \n",
        "          \"password\": password, \n",
        "          \"driver\":\"org.postgresql.Driver\"}\n"
      ]
    },
    {
      "cell_type": "code",
      "execution_count": 5,
      "metadata": {
        "colab": {
          "base_uri": "https://localhost:8080/"
        },
        "id": "qik6uGSV9BWa",
        "outputId": "e5ccac1f-4bca-4ada-a17e-fa069af85bd8"
      },
      "outputs": [
        {
          "output_type": "stream",
          "name": "stdout",
          "text": [
            "+----------+------+----+----------+---------------+------------+---------------+\n",
            "|    gameId|season|week|  gameDate|gameTimeEastern|homeTeamAbbr|visitorTeamAbbr|\n",
            "+----------+------+----+----------+---------------+------------+---------------+\n",
            "|2021090900|  2021|   1|09/09/2021|       20:20:00|          TB|            DAL|\n",
            "|2021091200|  2021|   1|09/12/2021|       13:00:00|         ATL|            PHI|\n",
            "|2021091201|  2021|   1|09/12/2021|       13:00:00|         BUF|            PIT|\n",
            "|2021091202|  2021|   1|09/12/2021|       13:00:00|         CAR|            NYJ|\n",
            "|2021091203|  2021|   1|09/12/2021|       13:00:00|         CIN|            MIN|\n",
            "|2021091204|  2021|   1|09/12/2021|       13:00:00|         DET|             SF|\n",
            "|2021091205|  2021|   1|09/12/2021|       13:00:00|         HOU|            JAX|\n",
            "|2021091206|  2021|   1|09/12/2021|       13:00:00|         IND|            SEA|\n",
            "|2021091207|  2021|   1|09/12/2021|       13:00:00|         TEN|            ARI|\n",
            "|2021091208|  2021|   1|09/12/2021|       13:00:00|         WAS|            LAC|\n",
            "|2021091209|  2021|   1|09/12/2021|       16:25:00|          KC|            CLE|\n",
            "|2021091210|  2021|   1|09/12/2021|       16:25:00|          NE|            MIA|\n",
            "|2021091211|  2021|   1|09/12/2021|       16:25:00|          NO|             GB|\n",
            "|2021091212|  2021|   1|09/12/2021|       16:25:00|         NYG|            DEN|\n",
            "|2021091213|  2021|   1|09/12/2021|       20:20:00|          LA|            CHI|\n",
            "|2021091300|  2021|   1|09/13/2021|       20:15:00|          LV|            BAL|\n",
            "|2021091600|  2021|   2|09/16/2021|       20:20:00|         WAS|            NYG|\n",
            "|2021091900|  2021|   2|09/19/2021|       13:00:00|         CAR|             NO|\n",
            "|2021091901|  2021|   2|09/19/2021|       13:00:00|         CHI|            CIN|\n",
            "|2021091902|  2021|   2|09/19/2021|       13:00:00|         CLE|            HOU|\n",
            "+----------+------+----+----------+---------------+------------+---------------+\n",
            "only showing top 20 rows\n",
            "\n"
          ]
        }
      ],
      "source": [
        "# Read in data from GCS Buckets\n",
        "from pyspark import SparkFiles\n",
        "games_data_df = spark.read.jdbc(url=jdbc_url,table='games',properties=config)\n",
        "\n",
        "# Show DataFrame\n",
        "games_data_df.show()"
      ]
    },
    {
      "cell_type": "code",
      "source": [
        "games_data_df.dtypes"
      ],
      "metadata": {
        "colab": {
          "base_uri": "https://localhost:8080/"
        },
        "id": "xNqlR-Zgq4qK",
        "outputId": "8d2b11c6-7e8a-445b-8d2d-b37474191f56"
      },
      "execution_count": 6,
      "outputs": [
        {
          "output_type": "execute_result",
          "data": {
            "text/plain": [
              "[('gameId', 'int'),\n",
              " ('season', 'int'),\n",
              " ('week', 'int'),\n",
              " ('gameDate', 'string'),\n",
              " ('gameTimeEastern', 'string'),\n",
              " ('homeTeamAbbr', 'string'),\n",
              " ('visitorTeamAbbr', 'string')]"
            ]
          },
          "metadata": {},
          "execution_count": 6
        }
      ]
    },
    {
      "cell_type": "code",
      "source": [
        "gb_games_df = games_data_df.filter((games_data_df.homeTeamAbbr==\"GB\") | (games_data_df.visitorTeamAbbr==\"GB\"))\n",
        "gb_games_df.show()"
      ],
      "metadata": {
        "colab": {
          "base_uri": "https://localhost:8080/"
        },
        "id": "7rG4h2-AbkZt",
        "outputId": "e4f9eae6-2083-4ce9-ee50-d3e5d6b63a0b"
      },
      "execution_count": 12,
      "outputs": [
        {
          "output_type": "stream",
          "name": "stdout",
          "text": [
            "+----------+------+----+----------+---------------+------------+---------------+\n",
            "|    gameId|season|week|  gameDate|gameTimeEastern|homeTeamAbbr|visitorTeamAbbr|\n",
            "+----------+------+----+----------+---------------+------------+---------------+\n",
            "|2021091211|  2021|   1|09/12/2021|       16:25:00|          NO|             GB|\n",
            "|2021092000|  2021|   2|09/20/2021|       20:15:00|          GB|            DET|\n",
            "|2021092613|  2021|   3|09/26/2021|       20:20:00|          SF|             GB|\n",
            "|2021100312|  2021|   4|10/03/2021|       16:25:00|          GB|            PIT|\n",
            "|2021101002|  2021|   5|10/10/2021|       13:00:00|         CIN|             GB|\n",
            "|2021101703|  2021|   6|10/17/2021|       13:00:00|         CHI|             GB|\n",
            "|2021102401|  2021|   7|10/24/2021|       13:00:00|          GB|            WAS|\n",
            "|2021102800|  2021|   8|10/28/2021|       20:20:00|         ARI|             GB|\n",
            "+----------+------+----+----------+---------------+------------+---------------+\n",
            "\n"
          ]
        }
      ]
    },
    {
      "cell_type": "code",
      "source": [],
      "metadata": {
        "id": "QBkCFPIrcuHe"
      },
      "execution_count": null,
      "outputs": []
    }
  ],
  "metadata": {
    "colab": {
      "provenance": [],
      "collapsed_sections": []
    },
    "kernelspec": {
      "display_name": "Python 3",
      "language": "python",
      "name": "python3"
    },
    "language_info": {
      "codemirror_mode": {
        "name": "ipython",
        "version": 3
      },
      "file_extension": ".py",
      "mimetype": "text/x-python",
      "name": "python",
      "nbconvert_exporter": "python",
      "pygments_lexer": "ipython3",
      "version": "3.7.7"
    },
    "latex_envs": {
      "LaTeX_envs_menu_present": true,
      "autoclose": false,
      "autocomplete": true,
      "bibliofile": "biblio.bib",
      "cite_by": "apalike",
      "current_citInitial": 1,
      "eqLabelWithNumbers": true,
      "eqNumInitial": 1,
      "hotkeys": {
        "equation": "Ctrl-E",
        "itemize": "Ctrl-I"
      },
      "labels_anchors": false,
      "latex_user_defs": false,
      "report_style_numbering": false,
      "user_envs_cfg": false
    }
  },
  "nbformat": 4,
  "nbformat_minor": 0
}