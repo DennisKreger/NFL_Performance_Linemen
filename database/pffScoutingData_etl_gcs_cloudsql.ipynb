{
  "cells": [
    {
      "cell_type": "code",
      "execution_count": 1,
      "metadata": {
        "colab": {
          "base_uri": "https://localhost:8080/"
        },
        "id": "5WosHdRWdmpw",
        "outputId": "c15787ba-e1ef-4609-8e0d-798b17331fea"
      },
      "outputs": [
        {
          "output_type": "stream",
          "name": "stdout",
          "text": [
            "\r0% [Working]\r            \rHit:1 https://cloud.r-project.org/bin/linux/ubuntu bionic-cran40/ InRelease\n",
            "\r0% [Waiting for headers] [Waiting for headers] [Waiting for headers] [Waiting f\r0% [1 InRelease gpgv 3,626 B] [Waiting for headers] [Waiting for headers] [Wait\r                                                                               \rHit:2 http://security.ubuntu.com/ubuntu bionic-security InRelease\n",
            "\r0% [1 InRelease gpgv 3,626 B] [Waiting for headers] [Waiting for headers] [Wait\r                                                                               \rHit:3 http://ppa.launchpad.net/c2d4u.team/c2d4u4.0+/ubuntu bionic InRelease\n",
            "\r0% [1 InRelease gpgv 3,626 B] [Waiting for headers] [Waiting for headers] [Conn\r                                                                               \rHit:4 http://archive.ubuntu.com/ubuntu bionic InRelease\n",
            "\r0% [1 InRelease gpgv 3,626 B] [Waiting for headers] [Waiting for headers] [Conn\r                                                                               \rIgn:5 https://developer.download.nvidia.com/compute/machine-learning/repos/ubuntu1804/x86_64  InRelease\n",
            "\r0% [1 InRelease gpgv 3,626 B] [Waiting for headers] [Waiting for headers] [Conn\r                                                                               \rHit:6 https://developer.download.nvidia.com/compute/cuda/repos/ubuntu1804/x86_64  InRelease\n",
            "Hit:7 https://developer.download.nvidia.com/compute/machine-learning/repos/ubuntu1804/x86_64  Release\n",
            "Hit:8 http://archive.ubuntu.com/ubuntu bionic-updates InRelease\n",
            "Hit:9 http://ppa.launchpad.net/cran/libgit2/ubuntu bionic InRelease\n",
            "Hit:10 http://archive.ubuntu.com/ubuntu bionic-backports InRelease\n",
            "Hit:11 http://ppa.launchpad.net/deadsnakes/ppa/ubuntu bionic InRelease\n",
            "Hit:12 http://ppa.launchpad.net/graphics-drivers/ppa/ubuntu bionic InRelease\n",
            "Reading package lists... Done\n"
          ]
        }
      ],
      "source": [
        "import os\n",
        "# Find the latest version of spark 3.0  from http://www.apache.org/dist/spark/ and enter as the spark version\n",
        "# For example:\n",
        "# spark_version = 'spark-3.0.3'\n",
        "spark_version = 'spark-3.1.3'\n",
        "os.environ['SPARK_VERSION']=spark_version\n",
        "\n",
        "# Install Spark and Java\n",
        "!apt-get update\n",
        "!apt-get install openjdk-11-jdk-headless -qq > /dev/null\n",
        "!wget -q http://www.apache.org/dist/spark/$SPARK_VERSION/$SPARK_VERSION-bin-hadoop2.7.tgz\n",
        "!tar xf $SPARK_VERSION-bin-hadoop2.7.tgz\n",
        "!pip install -q findspark\n",
        "\n",
        "# Set Environment Variables\n",
        "os.environ[\"JAVA_HOME\"] = \"/usr/lib/jvm/java-11-openjdk-amd64\"\n",
        "os.environ[\"SPARK_HOME\"] = f\"/content/{spark_version}-bin-hadoop2.7\"\n",
        "\n",
        "# Start a SparkSession\n",
        "import findspark\n",
        "findspark.init()"
      ]
    },
    {
      "cell_type": "code",
      "execution_count": 2,
      "metadata": {
        "colab": {
          "base_uri": "https://localhost:8080/"
        },
        "id": "xISV-9eR6Yah",
        "outputId": "1bda87c4-45d6-48e3-e3c0-df694b841707"
      },
      "outputs": [
        {
          "output_type": "stream",
          "name": "stdout",
          "text": [
            "--2022-11-05 02:10:31--  https://jdbc.postgresql.org/download/postgresql-42.2.9.jar\n",
            "Resolving jdbc.postgresql.org (jdbc.postgresql.org)... 72.32.157.228, 2001:4800:3e1:1::228\n",
            "Connecting to jdbc.postgresql.org (jdbc.postgresql.org)|72.32.157.228|:443... connected.\n",
            "HTTP request sent, awaiting response... 200 OK\n",
            "Length: 914037 (893K) [application/java-archive]\n",
            "Saving to: ‘postgresql-42.2.9.jar.3’\n",
            "\n",
            "postgresql-42.2.9.j 100%[===================>] 892.61K  --.-KB/s    in 0.1s    \n",
            "\n",
            "2022-11-05 02:10:32 (5.92 MB/s) - ‘postgresql-42.2.9.jar.3’ saved [914037/914037]\n",
            "\n"
          ]
        }
      ],
      "source": [
        "!wget https://jdbc.postgresql.org/download/postgresql-42.2.9.jar"
      ]
    },
    {
      "cell_type": "code",
      "execution_count": 3,
      "metadata": {
        "id": "aEQFTWiV6g2h"
      },
      "outputs": [],
      "source": [
        "from pyspark.sql import SparkSession\n",
        "spark = SparkSession.builder.appName(\"PlaysETL\").config(\"spark.driver.extraClassPath\",\"/content/postgresql-42.2.9.jar\").getOrCreate()"
      ]
    },
    {
      "cell_type": "code",
      "execution_count": 4,
      "metadata": {
        "colab": {
          "base_uri": "https://localhost:8080/"
        },
        "id": "qik6uGSV9BWa",
        "outputId": "6af4d079-cafa-41d9-8713-75c5b6d9aa77"
      },
      "outputs": [
        {
          "output_type": "stream",
          "name": "stdout",
          "text": [
            "+----------+------+-----+----------+-------------------+-------+---------+--------+--------------------+--------------+----------------+---------------+----------------------+-------------+------------------+\n",
            "|    gameId|playId|nflId|  pff_role|pff_positionLinedUp|pff_hit|pff_hurry|pff_sack|pff_beatenByDefender|pff_hitAllowed|pff_hurryAllowed|pff_sackAllowed|pff_nflIdBlockedPlayer|pff_blockType|pff_backFieldBlock|\n",
            "+----------+------+-----+----------+-------------------+-------+---------+--------+--------------------+--------------+----------------+---------------+----------------------+-------------+------------------+\n",
            "|2021090900|    97|25511|      Pass|                 QB|     NA|       NA|      NA|                  NA|            NA|              NA|             NA|                    NA|           NA|                NA|\n",
            "|2021090900|    97|35481|Pass Route|               TE-L|     NA|       NA|      NA|                  NA|            NA|              NA|             NA|                    NA|           NA|                NA|\n",
            "|2021090900|    97|35634|Pass Route|                LWR|     NA|       NA|      NA|                  NA|            NA|              NA|             NA|                    NA|           NA|                NA|\n",
            "|2021090900|    97|39985|Pass Route|               HB-R|     NA|       NA|      NA|                  NA|            NA|              NA|             NA|                    NA|           NA|                NA|\n",
            "|2021090900|    97|40151|Pass Block|                  C|     NA|       NA|      NA|                   0|             0|               0|              0|                 44955|           SW|                 0|\n",
            "|2021090900|    97|41233|Pass Route|                RWR|     NA|       NA|      NA|                  NA|            NA|              NA|             NA|                    NA|           NA|                NA|\n",
            "|2021090900|    97|41263| Pass Rush|                LEO|      0|        1|       0|                  NA|            NA|              NA|             NA|                    NA|           NA|                NA|\n",
            "|2021090900|    97|42377|Pass Block|                 LT|     NA|       NA|      NA|                   0|             0|               1|              0|                 42403|           PP|                 0|\n",
            "|2021090900|    97|42403| Pass Rush|               ROLB|      0|        1|       0|                  NA|            NA|              NA|             NA|                    NA|           NA|                NA|\n",
            "|2021090900|    97|42404|Pass Block|                 LG|     NA|       NA|      NA|                   0|             0|               0|              0|                 44955|           PP|                 0|\n",
            "|2021090900|    97|43306|  Coverage|               ROLB|      0|        0|       0|                  NA|            NA|              NA|             NA|                    NA|           NA|                NA|\n",
            "|2021090900|    97|43478|  Coverage|                RCB|      0|        0|       0|                  NA|            NA|              NA|             NA|                    NA|           NA|                NA|\n",
            "|2021090900|    97|44896|Pass Route|               SLWR|     NA|       NA|      NA|                  NA|            NA|              NA|             NA|                    NA|           NA|                NA|\n",
            "|2021090900|    97|44904|  Coverage|               SCBR|      0|        0|       0|                  NA|            NA|              NA|             NA|                    NA|           NA|                NA|\n",
            "|2021090900|    97|44955| Pass Rush|                DRT|      0|        0|       0|                  NA|            NA|              NA|             NA|                    NA|           NA|                NA|\n",
            "|2021090900|    97|44962|  Coverage|                 FS|      0|        0|       0|                  NA|            NA|              NA|             NA|                    NA|           NA|                NA|\n",
            "|2021090900|    97|46163|Pass Block|                 RG|     NA|       NA|      NA|                   0|             0|               1|              0|                 53441|           SW|                 0|\n",
            "|2021090900|    97|47996|  Coverage|               LILB|      0|        0|       0|                  NA|            NA|              NA|             NA|                    NA|           NA|                NA|\n",
            "|2021090900|    97|52421|Pass Block|                 RT|     NA|       NA|      NA|                   0|             0|               1|              0|                 53441|           PP|                 0|\n",
            "|2021090900|    97|52459|  Coverage|                LCB|      0|        0|       0|                  NA|            NA|              NA|             NA|                    NA|           NA|                NA|\n",
            "+----------+------+-----+----------+-------------------+-------+---------+--------+--------------------+--------------+----------------+---------------+----------------------+-------------+------------------+\n",
            "only showing top 20 rows\n",
            "\n"
          ]
        }
      ],
      "source": [
        "# Read in data from GCS Buckets\n",
        "from pyspark import SparkFiles\n",
        "url=\"https://storage.googleapis.com/big-data-bowl/pffScoutingData.csv\"\n",
        "spark.sparkContext.addFile(url)\n",
        "pffScouting_data_df = spark.read.csv(SparkFiles.get(\"pffScoutingData.csv\"), sep=\",\", header=True, inferSchema=True)\n",
        "\n",
        "# Show DataFrame\n",
        "pffScouting_data_df.show()"
      ]
    },
    {
      "cell_type": "code",
      "source": [
        "from pyspark.sql.types import IntegerType\n",
        "pffScouting_data_df = pffScouting_data_df.withColumn(\"pff_hit\", pffScouting_data_df[\"pff_hit\"].cast(IntegerType()))\n",
        "pffScouting_data_df = pffScouting_data_df.withColumn(\"pff_hurry\", pffScouting_data_df[\"pff_hurry\"].cast(IntegerType()))\n",
        "pffScouting_data_df = pffScouting_data_df.withColumn(\"pff_sack\", pffScouting_data_df[\"pff_sack\"].cast(IntegerType()))\n",
        "pffScouting_data_df = pffScouting_data_df.withColumn(\"pff_beatenByDefender\", pffScouting_data_df[\"pff_beatenByDefender\"].cast(IntegerType()))\n",
        "pffScouting_data_df = pffScouting_data_df.withColumn(\"pff_hitAllowed\", pffScouting_data_df[\"pff_hitAllowed\"].cast(IntegerType()))\n",
        "pffScouting_data_df = pffScouting_data_df.withColumn(\"pff_hurryAllowed\", pffScouting_data_df[\"pff_hurryAllowed\"].cast(IntegerType()))\n",
        "pffScouting_data_df = pffScouting_data_df.withColumn(\"pff_sackAllowed\", pffScouting_data_df[\"pff_sackAllowed\"].cast(IntegerType()))\n",
        "pffScouting_data_df = pffScouting_data_df.withColumn(\"pff_nflIdBlockedPlayer\", pffScouting_data_df[\"pff_nflIdBlockedPlayer\"].cast(IntegerType()))\n",
        "pffScouting_data_df = pffScouting_data_df.withColumn(\"pff_backFieldBlock\", pffScouting_data_df[\"pff_backFieldBlock\"].cast(IntegerType()))\n",
        "\n",
        "from pyspark.sql.functions import *\n",
        "pffScouting_data_df = pffScouting_data_df.withColumn('pff_blockType', regexp_replace('pff_blockType', 'NA', ''))\n",
        "\n",
        "pffScouting_data_df.show()"
      ],
      "metadata": {
        "colab": {
          "base_uri": "https://localhost:8080/"
        },
        "id": "6N3jpQVhPAmj",
        "outputId": "06cecfa2-e48f-44ba-a8b3-b444eeeb48b4"
      },
      "execution_count": 6,
      "outputs": [
        {
          "output_type": "stream",
          "name": "stdout",
          "text": [
            "+----------+------+-----+----------+-------------------+-------+---------+--------+--------------------+--------------+----------------+---------------+----------------------+-------------+------------------+\n",
            "|    gameId|playId|nflId|  pff_role|pff_positionLinedUp|pff_hit|pff_hurry|pff_sack|pff_beatenByDefender|pff_hitAllowed|pff_hurryAllowed|pff_sackAllowed|pff_nflIdBlockedPlayer|pff_blockType|pff_backFieldBlock|\n",
            "+----------+------+-----+----------+-------------------+-------+---------+--------+--------------------+--------------+----------------+---------------+----------------------+-------------+------------------+\n",
            "|2021090900|    97|25511|      Pass|                 QB|   null|     null|    null|                null|          null|            null|           null|                  null|             |              null|\n",
            "|2021090900|    97|35481|Pass Route|               TE-L|   null|     null|    null|                null|          null|            null|           null|                  null|             |              null|\n",
            "|2021090900|    97|35634|Pass Route|                LWR|   null|     null|    null|                null|          null|            null|           null|                  null|             |              null|\n",
            "|2021090900|    97|39985|Pass Route|               HB-R|   null|     null|    null|                null|          null|            null|           null|                  null|             |              null|\n",
            "|2021090900|    97|40151|Pass Block|                  C|   null|     null|    null|                   0|             0|               0|              0|                 44955|           SW|                 0|\n",
            "|2021090900|    97|41233|Pass Route|                RWR|   null|     null|    null|                null|          null|            null|           null|                  null|             |              null|\n",
            "|2021090900|    97|41263| Pass Rush|                LEO|      0|        1|       0|                null|          null|            null|           null|                  null|             |              null|\n",
            "|2021090900|    97|42377|Pass Block|                 LT|   null|     null|    null|                   0|             0|               1|              0|                 42403|           PP|                 0|\n",
            "|2021090900|    97|42403| Pass Rush|               ROLB|      0|        1|       0|                null|          null|            null|           null|                  null|             |              null|\n",
            "|2021090900|    97|42404|Pass Block|                 LG|   null|     null|    null|                   0|             0|               0|              0|                 44955|           PP|                 0|\n",
            "|2021090900|    97|43306|  Coverage|               ROLB|      0|        0|       0|                null|          null|            null|           null|                  null|             |              null|\n",
            "|2021090900|    97|43478|  Coverage|                RCB|      0|        0|       0|                null|          null|            null|           null|                  null|             |              null|\n",
            "|2021090900|    97|44896|Pass Route|               SLWR|   null|     null|    null|                null|          null|            null|           null|                  null|             |              null|\n",
            "|2021090900|    97|44904|  Coverage|               SCBR|      0|        0|       0|                null|          null|            null|           null|                  null|             |              null|\n",
            "|2021090900|    97|44955| Pass Rush|                DRT|      0|        0|       0|                null|          null|            null|           null|                  null|             |              null|\n",
            "|2021090900|    97|44962|  Coverage|                 FS|      0|        0|       0|                null|          null|            null|           null|                  null|             |              null|\n",
            "|2021090900|    97|46163|Pass Block|                 RG|   null|     null|    null|                   0|             0|               1|              0|                 53441|           SW|                 0|\n",
            "|2021090900|    97|47996|  Coverage|               LILB|      0|        0|       0|                null|          null|            null|           null|                  null|             |              null|\n",
            "|2021090900|    97|52421|Pass Block|                 RT|   null|     null|    null|                   0|             0|               1|              0|                 53441|           PP|                 0|\n",
            "|2021090900|    97|52459|  Coverage|                LCB|      0|        0|       0|                null|          null|            null|           null|                  null|             |              null|\n",
            "+----------+------+-----+----------+-------------------+-------+---------+--------+--------------------+--------------+----------------+---------------+----------------------+-------------+------------------+\n",
            "only showing top 20 rows\n",
            "\n"
          ]
        }
      ]
    },
    {
      "cell_type": "markdown",
      "metadata": {
        "id": "kQgPpNnVnRwh"
      },
      "source": [
        "Postgres Setup"
      ]
    },
    {
      "cell_type": "code",
      "execution_count": 7,
      "metadata": {
        "id": "985Vl1dtmpVU",
        "colab": {
          "base_uri": "https://localhost:8080/"
        },
        "outputId": "8953a691-ba48-4846-a2fb-77b7a7c6a365"
      },
      "outputs": [
        {
          "name": "stdout",
          "output_type": "stream",
          "text": [
            "Enter database password··········\n"
          ]
        }
      ],
      "source": [
        "# Store environment variable\n",
        "from getpass import getpass\n",
        "password = getpass('Enter database password')\n",
        "\n",
        "# Configure settings for Cloud SQL\n",
        "mode = \"append\"\n",
        "jdbc_url=\"jdbc:postgresql://34.72.136.99:5432/big-data-bowl\"\n",
        "config = {\"user\":\"postgres\", \n",
        "          \"password\": password, \n",
        "          \"driver\":\"org.postgresql.Driver\"}\n"
      ]
    },
    {
      "cell_type": "code",
      "execution_count": 10,
      "metadata": {
        "id": "9yyZgvcUnaNN"
      },
      "outputs": [],
      "source": [
        "# Write DataFrame to pffscouting table in Cloud SQL\n",
        "pffScouting_data_df.write.jdbc(url=jdbc_url, table='pffscoutingdata', mode=mode, properties=config)"
      ]
    },
    {
      "cell_type": "code",
      "execution_count": null,
      "metadata": {
        "id": "Kx3hMnlAD5FA"
      },
      "outputs": [],
      "source": []
    }
  ],
  "metadata": {
    "colab": {
      "provenance": [],
      "collapsed_sections": []
    },
    "kernelspec": {
      "display_name": "Python 3",
      "language": "python",
      "name": "python3"
    },
    "language_info": {
      "codemirror_mode": {
        "name": "ipython",
        "version": 3
      },
      "file_extension": ".py",
      "mimetype": "text/x-python",
      "name": "python",
      "nbconvert_exporter": "python",
      "pygments_lexer": "ipython3",
      "version": "3.7.7"
    },
    "latex_envs": {
      "LaTeX_envs_menu_present": true,
      "autoclose": false,
      "autocomplete": true,
      "bibliofile": "biblio.bib",
      "cite_by": "apalike",
      "current_citInitial": 1,
      "eqLabelWithNumbers": true,
      "eqNumInitial": 1,
      "hotkeys": {
        "equation": "Ctrl-E",
        "itemize": "Ctrl-I"
      },
      "labels_anchors": false,
      "latex_user_defs": false,
      "report_style_numbering": false,
      "user_envs_cfg": false
    }
  },
  "nbformat": 4,
  "nbformat_minor": 0
}