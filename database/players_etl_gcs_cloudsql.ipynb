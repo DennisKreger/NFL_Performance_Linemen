{
  "cells": [
    {
      "cell_type": "code",
      "execution_count": 20,
      "metadata": {
        "colab": {
          "base_uri": "https://localhost:8080/"
        },
        "id": "5WosHdRWdmpw",
        "outputId": "ad32f5ba-f206-44f2-a057-ff80050d60ab"
      },
      "outputs": [
        {
          "output_type": "stream",
          "name": "stdout",
          "text": [
            "\r0% [Working]\r            \rIgn:1 https://developer.download.nvidia.com/compute/machine-learning/repos/ubuntu1804/x86_64  InRelease\n",
            "\r0% [Connecting to archive.ubuntu.com] [Connecting to security.ubuntu.com (185.1\r                                                                               \rHit:2 https://developer.download.nvidia.com/compute/cuda/repos/ubuntu1804/x86_64  InRelease\n",
            "\r0% [Connecting to archive.ubuntu.com] [Connecting to security.ubuntu.com (185.1\r0% [2 InRelease gpgv 1,581 B] [Connecting to archive.ubuntu.com] [Connecting to\r                                                                               \rHit:3 https://developer.download.nvidia.com/compute/machine-learning/repos/ubuntu1804/x86_64  Release\n",
            "Hit:4 https://cloud.r-project.org/bin/linux/ubuntu bionic-cran40/ InRelease\n",
            "Get:5 http://security.ubuntu.com/ubuntu bionic-security InRelease [88.7 kB]\n",
            "Hit:6 http://archive.ubuntu.com/ubuntu bionic InRelease\n",
            "Hit:8 http://ppa.launchpad.net/c2d4u.team/c2d4u4.0+/ubuntu bionic InRelease\n",
            "Get:9 http://archive.ubuntu.com/ubuntu bionic-updates InRelease [88.7 kB]\n",
            "Hit:10 http://ppa.launchpad.net/cran/libgit2/ubuntu bionic InRelease\n",
            "Hit:11 http://ppa.launchpad.net/deadsnakes/ppa/ubuntu bionic InRelease\n",
            "Get:12 http://archive.ubuntu.com/ubuntu bionic-backports InRelease [83.3 kB]\n",
            "Hit:13 http://ppa.launchpad.net/graphics-drivers/ppa/ubuntu bionic InRelease\n",
            "Fetched 261 kB in 2s (115 kB/s)\n",
            "Reading package lists... Done\n"
          ]
        }
      ],
      "source": [
        "import os\n",
        "# Find the latest version of spark 3.0  from http://www.apache.org/dist/spark/ and enter as the spark version\n",
        "# For example:\n",
        "# spark_version = 'spark-3.0.3'\n",
        "spark_version = 'spark-3.1.3'\n",
        "os.environ['SPARK_VERSION']=spark_version\n",
        "\n",
        "# Install Spark and Java\n",
        "!apt-get update\n",
        "!apt-get install openjdk-11-jdk-headless -qq > /dev/null\n",
        "!wget -q http://www.apache.org/dist/spark/$SPARK_VERSION/$SPARK_VERSION-bin-hadoop2.7.tgz\n",
        "!tar xf $SPARK_VERSION-bin-hadoop2.7.tgz\n",
        "!pip install -q findspark\n",
        "\n",
        "# Set Environment Variables\n",
        "os.environ[\"JAVA_HOME\"] = \"/usr/lib/jvm/java-11-openjdk-amd64\"\n",
        "os.environ[\"SPARK_HOME\"] = f\"/content/{spark_version}-bin-hadoop2.7\"\n",
        "\n",
        "# Start a SparkSession\n",
        "import findspark\n",
        "findspark.init()"
      ]
    },
    {
      "cell_type": "code",
      "execution_count": 21,
      "metadata": {
        "colab": {
          "base_uri": "https://localhost:8080/"
        },
        "id": "xISV-9eR6Yah",
        "outputId": "a168cf4d-de02-46ea-db29-071a03a14e46"
      },
      "outputs": [
        {
          "output_type": "stream",
          "name": "stdout",
          "text": [
            "--2022-11-04 20:36:03--  https://jdbc.postgresql.org/download/postgresql-42.2.9.jar\n",
            "Resolving jdbc.postgresql.org (jdbc.postgresql.org)... 72.32.157.228, 2001:4800:3e1:1::228\n",
            "Connecting to jdbc.postgresql.org (jdbc.postgresql.org)|72.32.157.228|:443... connected.\n",
            "HTTP request sent, awaiting response... 200 OK\n",
            "Length: 914037 (893K) [application/java-archive]\n",
            "Saving to: ‘postgresql-42.2.9.jar.1’\n",
            "\n",
            "postgresql-42.2.9.j 100%[===================>] 892.61K  5.57MB/s    in 0.2s    \n",
            "\n",
            "2022-11-04 20:36:03 (5.57 MB/s) - ‘postgresql-42.2.9.jar.1’ saved [914037/914037]\n",
            "\n"
          ]
        }
      ],
      "source": [
        "!wget https://jdbc.postgresql.org/download/postgresql-42.2.9.jar"
      ]
    },
    {
      "cell_type": "code",
      "execution_count": 82,
      "metadata": {
        "id": "aEQFTWiV6g2h"
      },
      "outputs": [],
      "source": [
        "from pyspark.sql import SparkSession\n",
        "spark = SparkSession.builder.appName(\"PlayersETL\").config(\"spark.driver.extraClassPath\",\"/content/postgresql-42.2.9.jar\").getOrCreate()"
      ]
    },
    {
      "cell_type": "code",
      "execution_count": 83,
      "metadata": {
        "colab": {
          "base_uri": "https://localhost:8080/"
        },
        "id": "qik6uGSV9BWa",
        "outputId": "f09c9850-5a4c-4105-f929-fb5787c4b551"
      },
      "outputs": [
        {
          "output_type": "stream",
          "name": "stdout",
          "text": [
            "+-----+------+------+----------+---------------+----------------+------------------+\n",
            "|nflId|height|weight| birthDate|    collegeName|officialPosition|       displayName|\n",
            "+-----+------+------+----------+---------------+----------------+------------------+\n",
            "|25511|   6-4|   225|1977-08-03|       Michigan|              QB|         Tom Brady|\n",
            "|28963|   6-5|   240|1982-03-02|      Miami, O.|              QB|Ben Roethlisberger|\n",
            "|29550|   6-4|   328|1982-01-22|       Arkansas|               T|      Jason Peters|\n",
            "|29851|   6-2|   225|1983-12-02|     California|              QB|     Aaron Rodgers|\n",
            "|30078|   6-2|   228|1982-11-24|        Harvard|              QB|  Ryan Fitzpatrick|\n",
            "|30842|   6-6|   267|1984-05-19|           UCLA|              TE|    Marcedes Lewis|\n",
            "|30869|   6-7|   330|1981-12-12|Louisiana State|               T|  Andrew Whitworth|\n",
            "|33084|   6-4|   217|1985-05-17| Boston College|              QB|         Matt Ryan|\n",
            "|33107|   6-4|   315|1985-08-30|  Virginia Tech|               T|       Duane Brown|\n",
            "|33130|  5-10|   175|1986-12-01|     California|              WR|    DeSean Jackson|\n",
            "|33131|   6-8|   300|1986-09-01|          Miami|              DE|   Calais Campbell|\n",
            "|33138|   6-3|   222|1985-07-02|       Michigan|              QB|        Chad Henne|\n",
            "|33241|   6-3|   219|05/15/1986|      San Diego|              QB|      Josh Johnson|\n",
            "|33566|  5-11|   185|1985-11-02|     Texas Tech|              WR|    Danny Amendola|\n",
            "|34452|   6-3|   220|1988-02-07|        Georgia|              QB|  Matthew Stafford|\n",
            "|34457|   6-4|   330|1987-01-25|        Alabama|               T|       Andre Smith|\n",
            "|34465|   6-0|   204|1987-12-20|     Ohio State|              SS|   Malcolm Jenkins|\n",
            "|34472|   6-4|   311|1985-11-19|     California|               C|         Alex Mack|\n",
            "|34540|   6-5|   254|1987-04-07| South Carolina|              TE|        Jared Cook|\n",
            "|34654|  5-11|   195|1987-08-13|        Rutgers|              FS|    Jason McCourty|\n",
            "+-----+------+------+----------+---------------+----------------+------------------+\n",
            "only showing top 20 rows\n",
            "\n"
          ]
        }
      ],
      "source": [
        "# Read in data from GCS Buckets\n",
        "from pyspark import SparkFiles\n",
        "url=\"https://storage.googleapis.com/big-data-bowl/players.csv\"\n",
        "spark.sparkContext.addFile(url)\n",
        "player_data_df = spark.read.csv(SparkFiles.get(\"players.csv\"), sep=\",\", header=True, inferSchema=True)\n",
        "\n",
        "# Show DataFrame\n",
        "player_data_df.show()"
      ]
    },
    {
      "cell_type": "code",
      "source": [
        "from pyspark.sql.functions import regexp_replace\n",
        "\n",
        "#Replace NA values in birthDate with blank values\n",
        "player_data_df.withColumn('birthDate', regexp_replace('birthDate', 'NA', '')) \\\n",
        "  .show(truncate=False)\n"
      ],
      "metadata": {
        "colab": {
          "base_uri": "https://localhost:8080/"
        },
        "id": "BXq__glmxvDB",
        "outputId": "08f91ebb-a408-44a4-af67-e64cc12d57af"
      },
      "execution_count": 84,
      "outputs": [
        {
          "output_type": "stream",
          "name": "stdout",
          "text": [
            "+-----+------+------+----------+---------------+----------------+------------------+\n",
            "|nflId|height|weight|birthDate |collegeName    |officialPosition|displayName       |\n",
            "+-----+------+------+----------+---------------+----------------+------------------+\n",
            "|25511|6-4   |225   |1977-08-03|Michigan       |QB              |Tom Brady         |\n",
            "|28963|6-5   |240   |1982-03-02|Miami, O.      |QB              |Ben Roethlisberger|\n",
            "|29550|6-4   |328   |1982-01-22|Arkansas       |T               |Jason Peters      |\n",
            "|29851|6-2   |225   |1983-12-02|California     |QB              |Aaron Rodgers     |\n",
            "|30078|6-2   |228   |1982-11-24|Harvard        |QB              |Ryan Fitzpatrick  |\n",
            "|30842|6-6   |267   |1984-05-19|UCLA           |TE              |Marcedes Lewis    |\n",
            "|30869|6-7   |330   |1981-12-12|Louisiana State|T               |Andrew Whitworth  |\n",
            "|33084|6-4   |217   |1985-05-17|Boston College |QB              |Matt Ryan         |\n",
            "|33107|6-4   |315   |1985-08-30|Virginia Tech  |T               |Duane Brown       |\n",
            "|33130|5-10  |175   |1986-12-01|California     |WR              |DeSean Jackson    |\n",
            "|33131|6-8   |300   |1986-09-01|Miami          |DE              |Calais Campbell   |\n",
            "|33138|6-3   |222   |1985-07-02|Michigan       |QB              |Chad Henne        |\n",
            "|33241|6-3   |219   |05/15/1986|San Diego      |QB              |Josh Johnson      |\n",
            "|33566|5-11  |185   |1985-11-02|Texas Tech     |WR              |Danny Amendola    |\n",
            "|34452|6-3   |220   |1988-02-07|Georgia        |QB              |Matthew Stafford  |\n",
            "|34457|6-4   |330   |1987-01-25|Alabama        |T               |Andre Smith       |\n",
            "|34465|6-0   |204   |1987-12-20|Ohio State     |SS              |Malcolm Jenkins   |\n",
            "|34472|6-4   |311   |1985-11-19|California     |C               |Alex Mack         |\n",
            "|34540|6-5   |254   |1987-04-07|South Carolina |TE              |Jared Cook        |\n",
            "|34654|5-11  |195   |1987-08-13|Rutgers        |FS              |Jason McCourty    |\n",
            "+-----+------+------+----------+---------------+----------------+------------------+\n",
            "only showing top 20 rows\n",
            "\n"
          ]
        }
      ]
    },
    {
      "cell_type": "code",
      "source": [
        "from pyspark.sql.functions import coalesce, to_date\n",
        "\n",
        "def to_date_(col, formats=(\"MM/dd/yyyy\", \"yyyy-MM-dd\")):\n",
        "    return coalesce(*[to_date(col, f) for f in formats])\n",
        "\n",
        "player_data_df.withColumn(\"birthDate\", to_date_(\"birthDate\")).show()\n",
        "\n"
      ],
      "metadata": {
        "colab": {
          "base_uri": "https://localhost:8080/"
        },
        "id": "RtyBWxWOZiuh",
        "outputId": "da551164-4af3-400a-e778-faedb8577ce8"
      },
      "execution_count": 85,
      "outputs": [
        {
          "output_type": "stream",
          "name": "stdout",
          "text": [
            "+-----+------+------+----------+---------------+----------------+------------------+\n",
            "|nflId|height|weight| birthDate|    collegeName|officialPosition|       displayName|\n",
            "+-----+------+------+----------+---------------+----------------+------------------+\n",
            "|25511|   6-4|   225|1977-08-03|       Michigan|              QB|         Tom Brady|\n",
            "|28963|   6-5|   240|1982-03-02|      Miami, O.|              QB|Ben Roethlisberger|\n",
            "|29550|   6-4|   328|1982-01-22|       Arkansas|               T|      Jason Peters|\n",
            "|29851|   6-2|   225|1983-12-02|     California|              QB|     Aaron Rodgers|\n",
            "|30078|   6-2|   228|1982-11-24|        Harvard|              QB|  Ryan Fitzpatrick|\n",
            "|30842|   6-6|   267|1984-05-19|           UCLA|              TE|    Marcedes Lewis|\n",
            "|30869|   6-7|   330|1981-12-12|Louisiana State|               T|  Andrew Whitworth|\n",
            "|33084|   6-4|   217|1985-05-17| Boston College|              QB|         Matt Ryan|\n",
            "|33107|   6-4|   315|1985-08-30|  Virginia Tech|               T|       Duane Brown|\n",
            "|33130|  5-10|   175|1986-12-01|     California|              WR|    DeSean Jackson|\n",
            "|33131|   6-8|   300|1986-09-01|          Miami|              DE|   Calais Campbell|\n",
            "|33138|   6-3|   222|1985-07-02|       Michigan|              QB|        Chad Henne|\n",
            "|33241|   6-3|   219|1986-05-15|      San Diego|              QB|      Josh Johnson|\n",
            "|33566|  5-11|   185|1985-11-02|     Texas Tech|              WR|    Danny Amendola|\n",
            "|34452|   6-3|   220|1988-02-07|        Georgia|              QB|  Matthew Stafford|\n",
            "|34457|   6-4|   330|1987-01-25|        Alabama|               T|       Andre Smith|\n",
            "|34465|   6-0|   204|1987-12-20|     Ohio State|              SS|   Malcolm Jenkins|\n",
            "|34472|   6-4|   311|1985-11-19|     California|               C|         Alex Mack|\n",
            "|34540|   6-5|   254|1987-04-07| South Carolina|              TE|        Jared Cook|\n",
            "|34654|  5-11|   195|1987-08-13|        Rutgers|              FS|    Jason McCourty|\n",
            "+-----+------+------+----------+---------------+----------------+------------------+\n",
            "only showing top 20 rows\n",
            "\n"
          ]
        }
      ]
    },
    {
      "cell_type": "code",
      "source": [
        "player_data_df.dtypes"
      ],
      "metadata": {
        "colab": {
          "base_uri": "https://localhost:8080/"
        },
        "id": "xNqlR-Zgq4qK",
        "outputId": "04621c71-6348-4aa7-c77a-521fa083e8b1"
      },
      "execution_count": 86,
      "outputs": [
        {
          "output_type": "execute_result",
          "data": {
            "text/plain": [
              "[('nflId', 'int'),\n",
              " ('height', 'string'),\n",
              " ('weight', 'int'),\n",
              " ('birthDate', 'string'),\n",
              " ('collegeName', 'string'),\n",
              " ('officialPosition', 'string'),\n",
              " ('displayName', 'string')]"
            ]
          },
          "metadata": {},
          "execution_count": 86
        }
      ]
    },
    {
      "cell_type": "markdown",
      "metadata": {
        "id": "kQgPpNnVnRwh"
      },
      "source": [
        "Postgres Setup"
      ]
    },
    {
      "cell_type": "code",
      "execution_count": 87,
      "metadata": {
        "id": "985Vl1dtmpVU",
        "colab": {
          "base_uri": "https://localhost:8080/"
        },
        "outputId": "a62612f9-889d-425d-9a81-b53a37b6a6f1"
      },
      "outputs": [
        {
          "name": "stdout",
          "output_type": "stream",
          "text": [
            "Enter database password··········\n"
          ]
        }
      ],
      "source": [
        "# Store environment variable\n",
        "from getpass import getpass\n",
        "password = getpass('Enter database password')\n",
        "\n",
        "# Configure settings for Cloud SQL\n",
        "mode = \"append\"\n",
        "jdbc_url=\"jdbc:postgresql://34.72.136.99:5432/big-data-bowl\"\n",
        "config = {\"user\":\"postgres\", \n",
        "          \"password\": password, \n",
        "          \"driver\":\"org.postgresql.Driver\"}\n"
      ]
    },
    {
      "cell_type": "code",
      "execution_count": 88,
      "metadata": {
        "id": "9yyZgvcUnaNN"
      },
      "outputs": [],
      "source": [
        "# Write DataFrame to players table in Cloud SQL\n",
        "player_data_df.write.jdbc(url=jdbc_url, table='players', mode=mode, properties=config)"
      ]
    },
    {
      "cell_type": "code",
      "execution_count": null,
      "metadata": {
        "id": "Kx3hMnlAD5FA"
      },
      "outputs": [],
      "source": []
    }
  ],
  "metadata": {
    "colab": {
      "provenance": [],
      "collapsed_sections": []
    },
    "kernelspec": {
      "display_name": "Python 3",
      "language": "python",
      "name": "python3"
    },
    "language_info": {
      "codemirror_mode": {
        "name": "ipython",
        "version": 3
      },
      "file_extension": ".py",
      "mimetype": "text/x-python",
      "name": "python",
      "nbconvert_exporter": "python",
      "pygments_lexer": "ipython3",
      "version": "3.7.7"
    },
    "latex_envs": {
      "LaTeX_envs_menu_present": true,
      "autoclose": false,
      "autocomplete": true,
      "bibliofile": "biblio.bib",
      "cite_by": "apalike",
      "current_citInitial": 1,
      "eqLabelWithNumbers": true,
      "eqNumInitial": 1,
      "hotkeys": {
        "equation": "Ctrl-E",
        "itemize": "Ctrl-I"
      },
      "labels_anchors": false,
      "latex_user_defs": false,
      "report_style_numbering": false,
      "user_envs_cfg": false
    }
  },
  "nbformat": 4,
  "nbformat_minor": 0
}