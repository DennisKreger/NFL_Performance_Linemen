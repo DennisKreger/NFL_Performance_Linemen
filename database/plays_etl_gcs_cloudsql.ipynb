{
  "cells": [
    {
      "cell_type": "code",
      "execution_count": 1,
      "metadata": {
        "colab": {
          "base_uri": "https://localhost:8080/"
        },
        "id": "5WosHdRWdmpw",
        "outputId": "c4769bb1-0d47-413f-dad6-52fb0baec661"
      },
      "outputs": [
        {
          "output_type": "stream",
          "name": "stdout",
          "text": [
            "\r0% [Working]\r            \rIgn:1 https://developer.download.nvidia.com/compute/machine-learning/repos/ubuntu1804/x86_64  InRelease\n",
            "\r0% [Connecting to archive.ubuntu.com] [Connecting to security.ubuntu.com] [Conn\r                                                                               \rGet:2 https://developer.download.nvidia.com/compute/cuda/repos/ubuntu1804/x86_64  InRelease [1,581 B]\n",
            "Hit:3 https://developer.download.nvidia.com/compute/machine-learning/repos/ubuntu1804/x86_64  Release\n",
            "Get:4 https://developer.download.nvidia.com/compute/cuda/repos/ubuntu1804/x86_64  Packages [992 kB]\n",
            "Get:5 https://cloud.r-project.org/bin/linux/ubuntu bionic-cran40/ InRelease [3,626 B]\n",
            "Get:6 http://ppa.launchpad.net/c2d4u.team/c2d4u4.0+/ubuntu bionic InRelease [15.9 kB]\n",
            "Hit:7 http://archive.ubuntu.com/ubuntu bionic InRelease\n",
            "Get:8 http://security.ubuntu.com/ubuntu bionic-security InRelease [88.7 kB]\n",
            "Get:10 http://archive.ubuntu.com/ubuntu bionic-updates InRelease [88.7 kB]\n",
            "Hit:11 http://ppa.launchpad.net/cran/libgit2/ubuntu bionic InRelease\n",
            "Get:12 https://cloud.r-project.org/bin/linux/ubuntu bionic-cran40/ Packages [98.9 kB]\n",
            "Get:13 http://ppa.launchpad.net/deadsnakes/ppa/ubuntu bionic InRelease [15.9 kB]\n",
            "Get:14 http://archive.ubuntu.com/ubuntu bionic-backports InRelease [83.3 kB]\n",
            "Hit:15 http://ppa.launchpad.net/graphics-drivers/ppa/ubuntu bionic InRelease\n",
            "Get:16 http://ppa.launchpad.net/c2d4u.team/c2d4u4.0+/ubuntu bionic/main Sources [2,214 kB]\n",
            "Get:17 http://security.ubuntu.com/ubuntu bionic-security/universe amd64 Packages [1,554 kB]\n",
            "Get:18 http://archive.ubuntu.com/ubuntu bionic-updates/main amd64 Packages [3,472 kB]\n",
            "Get:19 http://security.ubuntu.com/ubuntu bionic-security/main amd64 Packages [3,040 kB]\n",
            "Get:20 http://ppa.launchpad.net/c2d4u.team/c2d4u4.0+/ubuntu bionic/main amd64 Packages [1,132 kB]\n",
            "Get:21 http://security.ubuntu.com/ubuntu bionic-security/restricted amd64 Packages [1,226 kB]\n",
            "Get:22 http://archive.ubuntu.com/ubuntu bionic-updates/restricted amd64 Packages [1,267 kB]\n",
            "Get:23 http://archive.ubuntu.com/ubuntu bionic-updates/universe amd64 Packages [2,332 kB]\n",
            "Fetched 17.6 MB in 7s (2,421 kB/s)\n",
            "Reading package lists... Done\n"
          ]
        }
      ],
      "source": [
        "import os\n",
        "# Find the latest version of spark 3.0  from http://www.apache.org/dist/spark/ and enter as the spark version\n",
        "# For example:\n",
        "# spark_version = 'spark-3.0.3'\n",
        "spark_version = 'spark-3.1.3'\n",
        "os.environ['SPARK_VERSION']=spark_version\n",
        "\n",
        "# Install Spark and Java\n",
        "!apt-get update\n",
        "!apt-get install openjdk-11-jdk-headless -qq > /dev/null\n",
        "!wget -q http://www.apache.org/dist/spark/$SPARK_VERSION/$SPARK_VERSION-bin-hadoop2.7.tgz\n",
        "!tar xf $SPARK_VERSION-bin-hadoop2.7.tgz\n",
        "!pip install -q findspark\n",
        "\n",
        "# Set Environment Variables\n",
        "os.environ[\"JAVA_HOME\"] = \"/usr/lib/jvm/java-11-openjdk-amd64\"\n",
        "os.environ[\"SPARK_HOME\"] = f\"/content/{spark_version}-bin-hadoop2.7\"\n",
        "\n",
        "# Start a SparkSession\n",
        "import findspark\n",
        "findspark.init()"
      ]
    },
    {
      "cell_type": "code",
      "execution_count": 18,
      "metadata": {
        "colab": {
          "base_uri": "https://localhost:8080/"
        },
        "id": "xISV-9eR6Yah",
        "outputId": "f977d812-0a84-41ff-cde4-f13fefd1585c"
      },
      "outputs": [
        {
          "output_type": "stream",
          "name": "stdout",
          "text": [
            "--2022-11-05 00:07:31--  https://jdbc.postgresql.org/download/postgresql-42.2.9.jar\n",
            "Resolving jdbc.postgresql.org (jdbc.postgresql.org)... 72.32.157.228, 2001:4800:3e1:1::228\n",
            "Connecting to jdbc.postgresql.org (jdbc.postgresql.org)|72.32.157.228|:443... connected.\n",
            "HTTP request sent, awaiting response... 200 OK\n",
            "Length: 914037 (893K) [application/java-archive]\n",
            "Saving to: ‘postgresql-42.2.9.jar.1’\n",
            "\n",
            "postgresql-42.2.9.j 100%[===================>] 892.61K  5.45MB/s    in 0.2s    \n",
            "\n",
            "2022-11-05 00:07:32 (5.45 MB/s) - ‘postgresql-42.2.9.jar.1’ saved [914037/914037]\n",
            "\n"
          ]
        }
      ],
      "source": [
        "!wget https://jdbc.postgresql.org/download/postgresql-42.2.9.jar"
      ]
    },
    {
      "cell_type": "code",
      "execution_count": 97,
      "metadata": {
        "id": "aEQFTWiV6g2h"
      },
      "outputs": [],
      "source": [
        "from pyspark.sql import SparkSession\n",
        "spark = SparkSession.builder.appName(\"PlaysETL\").config(\"spark.driver.extraClassPath\",\"/content/postgresql-42.2.9.jar\").getOrCreate()"
      ]
    },
    {
      "cell_type": "code",
      "execution_count": 112,
      "metadata": {
        "colab": {
          "base_uri": "https://localhost:8080/"
        },
        "id": "qik6uGSV9BWa",
        "outputId": "ce2aa29b-969f-4437-ffb8-d563b35980cf"
      },
      "outputs": [
        {
          "output_type": "stream",
          "name": "stdout",
          "text": [
            "+----------+------+--------------------+-------+----+---------+--------------+-------------+------------+--------------+---------+----------------+-------------------+----------+------------+--------------------+----------+--------------------+----------+---------+----------+---------+----------+----------------------+----------------+----------------+--------------+----------------+--------------------+--------------+----------------+--------------------+\n",
            "|    gameId|playId|     playDescription|quarter|down|yardsToGo|possessionTeam|defensiveTeam|yardlineSide|yardlineNumber|gameClock|preSnapHomeScore|preSnapVisitorScore|passResult|penaltyYards|prePenaltyPlayResult|playResult|           foulName1|foulNFLId1|foulName2|foulNFLId2|foulName3|foulNFLId3|absoluteYardlineNumber|offenseFormation|      personnelO|defendersInBox|      personnelD|        dropBackType|pff_playAction|pff_passCoverage|pff_passCoverageType|\n",
            "+----------+------+--------------------+-------+----+---------+--------------+-------------+------------+--------------+---------+----------------+-------------------+----------+------------+--------------------+----------+--------------------+----------+---------+----------+---------+----------+----------------------+----------------+----------------+--------------+----------------+--------------------+--------------+----------------+--------------------+\n",
            "|2021090900|    97|(13:33) (Shotgun)...|      1|   3|        2|            TB|          DAL|          TB|            33|    13:33|               0|                  0|         I|          NA|                   0|         0|                  NA|        NA|       NA|        NA|       NA|        NA|                    43|         SHOTGUN|1 RB, 1 TE, 3 WR|             6|4 DL, 2 LB, 5 DB|         TRADITIONAL|             0|         Cover-1|                 Man|\n",
            "|2021090900|   137|(13:18) (Shotgun)...|      1|   1|       10|           DAL|           TB|         DAL|             2|    13:18|               0|                  0|         C|          NA|                  28|        28|                  NA|        NA|       NA|        NA|       NA|        NA|                   108|           EMPTY|1 RB, 2 TE, 2 WR|             6|4 DL, 4 LB, 3 DB|         TRADITIONAL|             0|         Cover-3|                Zone|\n",
            "|2021090900|   187|(12:23) (Shotgun)...|      1|   2|        6|           DAL|           TB|         DAL|            34|    12:23|               0|                  0|         C|          NA|                   5|         5|                  NA|        NA|       NA|        NA|       NA|        NA|                    76|         SHOTGUN|0 RB, 2 TE, 3 WR|             6|3 DL, 3 LB, 5 DB|         TRADITIONAL|             0|         Cover-3|                Zone|\n",
            "|2021090900|   282|(9:56) D.Prescott...|      1|   1|       10|           DAL|           TB|          TB|            39|    09:56|               0|                  0|         I|          NA|                   0|         0|                  NA|        NA|       NA|        NA|       NA|        NA|                    49|      SINGLEBACK|1 RB, 2 TE, 2 WR|             6|4 DL, 3 LB, 4 DB|         TRADITIONAL|             1|         Cover-3|                Zone|\n",
            "|2021090900|   349|(9:46) (Shotgun) ...|      1|   3|       15|           DAL|           TB|          TB|            44|    09:46|               0|                  0|         I|          NA|                   0|         0|                  NA|        NA|       NA|        NA|       NA|        NA|                    54|         SHOTGUN|1 RB, 1 TE, 3 WR|             7|3 DL, 4 LB, 4 DB|         TRADITIONAL|             0|         Cover-3|                Zone|\n",
            "|2021090900|   410|(8:53) (Shotgun) ...|      1|   2|        5|            TB|          DAL|          TB|            11|    08:53|               0|                  0|         C|          NA|                  10|        10|                  NA|        NA|       NA|        NA|       NA|        NA|                    21|           EMPTY|1 RB, 1 TE, 3 WR|             6|4 DL, 2 LB, 5 DB|         TRADITIONAL|             0|         Cover-1|                 Man|\n",
            "|2021090900|   434|(8:24) (No Huddle...|      1|   1|       10|            TB|          DAL|          TB|            21|    08:24|               0|                  0|         I|          NA|                   0|         0|                  NA|        NA|       NA|        NA|       NA|        NA|                    31|         SHOTGUN|1 RB, 1 TE, 3 WR|             6|4 DL, 2 LB, 5 DB|         TRADITIONAL|             0|         Cover-3|                Zone|\n",
            "|2021090900|   456|(8:20) (Shotgun) ...|      1|   2|       10|            TB|          DAL|          TB|            21|    08:20|               0|                  0|         C|          NA|                  19|        19|                  NA|        NA|       NA|        NA|       NA|        NA|                    31|         SHOTGUN|1 RB, 1 TE, 3 WR|             6|4 DL, 2 LB, 5 DB|         TRADITIONAL|             0|         Cover-6|                Zone|\n",
            "|2021090900|   480|(7:53) (No Huddle...|      1|   1|       10|            TB|          DAL|          TB|            40|    07:53|               0|                  0|         C|          NA|                  28|        28|                  NA|        NA|       NA|        NA|       NA|        NA|                    50|         SHOTGUN|1 RB, 1 TE, 3 WR|             6|4 DL, 2 LB, 5 DB|         TRADITIONAL|             0|         Cover-3|                Zone|\n",
            "|2021090900|   509|(7:30) (No Huddle...|      1|   1|       10|            TB|          DAL|         DAL|            32|    07:30|               0|                  0|         C|          NA|                  16|        16|                  NA|        NA|       NA|        NA|       NA|        NA|                    78|         SHOTGUN|1 RB, 1 TE, 3 WR|             6|4 DL, 2 LB, 5 DB|         TRADITIONAL|             0|        Quarters|                Zone|\n",
            "|2021090900|   559|(6:13) (Shotgun) ...|      1|   2|        7|            TB|          DAL|         DAL|            13|    06:13|               0|                  0|         C|          NA|                   8|         8|                  NA|        NA|       NA|        NA|       NA|        NA|                    97|         SHOTGUN|1 RB, 2 TE, 2 WR|             7|4 DL, 2 LB, 5 DB|         TRADITIONAL|             0|        Quarters|                Zone|\n",
            "|2021090900|   583|(5:26) (Shotgun) ...|      1|   1|        5|            TB|          DAL|         DAL|             5|    05:26|               0|                  0|         C|          NA|                   5|         5|                  NA|        NA|       NA|        NA|       NA|        NA|                   105|         SHOTGUN|1 RB, 1 TE, 3 WR|             7|4 DL, 2 LB, 5 DB|         TRADITIONAL|             1|         Cover-1|                 Man|\n",
            "|2021090900|   687|(4:15) (Shotgun) ...|      1|   2|        2|           DAL|           TB|         DAL|            44|    04:15|               7|                  0|         C|          NA|                  12|        12|                  NA|        NA|       NA|        NA|       NA|        NA|                    66|         SHOTGUN|1 RB, 2 TE, 2 WR|             7|4 DL, 3 LB, 4 DB|         TRADITIONAL|             0|         Cover-1|                 Man|\n",
            "|2021090900|   735|(2:45) (Shotgun) ...|      1|   2|        3|           DAL|           TB|          TB|            37|    02:45|               7|                  0|         C|          NA|                   8|         8|                  NA|        NA|       NA|        NA|       NA|        NA|                    47|         SHOTGUN|1 RB, 1 TE, 3 WR|             6|3 DL, 3 LB, 5 DB|SCRAMBLE_ROLLOUT_...|             1|         Cover-2|                Zone|\n",
            "|2021090900|   764|(2:22) (No Huddle...|      1|   1|       10|           DAL|           TB|          TB|            29|    02:22|               7|                  0|         C|          NA|                   7|         7|                  NA|        NA|       NA|        NA|       NA|        NA|                    39|      SINGLEBACK|1 RB, 1 TE, 3 WR|             6|3 DL, 3 LB, 5 DB|DESIGNED_ROLLOUT_...|             1|        Quarters|                Zone|\n",
            "|2021090900|   788|(1:43) (Shotgun) ...|      1|   2|        3|           DAL|           TB|          TB|            22|    01:43|               7|                  0|         C|          NA|                  22|        22|                  NA|        NA|       NA|        NA|       NA|        NA|                    32|         SHOTGUN|1 RB, 2 TE, 2 WR|             6|4 DL, 3 LB, 4 DB|         TRADITIONAL|             0|         Cover-1|                 Man|\n",
            "|2021090900|   869|(:59) T.Brady pas...|      1|   2|        7|            TB|          DAL|          TB|            28|    00:59|               7|                  7|         C|           0|                  27|        27|Illegal Use of Hands|     52459|       NA|        NA|       NA|        NA|                    38|      SINGLEBACK|1 RB, 1 TE, 3 WR|             6|4 DL, 2 LB, 5 DB|         TRADITIONAL|             1|         Cover-2|                Zone|\n",
            "|2021090900|   925|(:11) T.Brady pas...|      1|   2|        5|            TB|          DAL|         DAL|            40|    00:11|               7|                  7|         I|          NA|                   0|         0|                  NA|        NA|       NA|        NA|       NA|        NA|                    70|      SINGLEBACK|1 RB, 2 TE, 2 WR|             7|4 DL, 2 LB, 5 DB|         TRADITIONAL|             0|         Cover-1|                 Man|\n",
            "|2021090900|   947|(:05) (Shotgun) T...|      1|   3|        5|            TB|          DAL|         DAL|            40|    00:05|               7|                  7|         I|          NA|                   0|         0|                  NA|        NA|       NA|        NA|       NA|        NA|                    70|         SHOTGUN|1 RB, 1 TE, 3 WR|             5|4 DL, 2 LB, 5 DB|         TRADITIONAL|             0|         Cover-2|                Zone|\n",
            "|2021090900|  1078|(14:21) (No Huddl...|      2|   2|        8|           DAL|           TB|         DAL|             7|    14:21|               7|                  7|         C|          NA|                   5|         5|                  NA|        NA|       NA|        NA|       NA|        NA|                    17|         SHOTGUN|1 RB, 0 TE, 4 WR|             5|3 DL, 3 LB, 5 DB|         TRADITIONAL|             0|        Quarters|                Zone|\n",
            "+----------+------+--------------------+-------+----+---------+--------------+-------------+------------+--------------+---------+----------------+-------------------+----------+------------+--------------------+----------+--------------------+----------+---------+----------+---------+----------+----------------------+----------------+----------------+--------------+----------------+--------------------+--------------+----------------+--------------------+\n",
            "only showing top 20 rows\n",
            "\n"
          ]
        }
      ],
      "source": [
        "# Read in data from GCS Buckets\n",
        "from pyspark import SparkFiles\n",
        "url=\"https://storage.googleapis.com/big-data-bowl/plays.csv\"\n",
        "spark.sparkContext.addFile(url)\n",
        "plays_data_df = spark.read.csv(SparkFiles.get(\"plays.csv\"), sep=\",\", header=True, inferSchema=True)\n",
        "\n",
        "# Show DataFrame\n",
        "plays_data_df.show()"
      ]
    },
    {
      "cell_type": "code",
      "source": [
        "from pyspark.sql.types import IntegerType, BooleanType\n",
        "plays_data_df = plays_data_df.withColumn(\"penaltyYards\", plays_data_df[\"penaltyYards\"].cast(IntegerType()))\n",
        "plays_data_df = plays_data_df.withColumn(\"prePenaltyPlayResult\", plays_data_df[\"prePenaltyPlayResult\"].cast(IntegerType()))\n",
        "plays_data_df = plays_data_df.withColumn(\"playResult\", plays_data_df[\"playResult\"].cast(IntegerType()))\n",
        "plays_data_df = plays_data_df.withColumn(\"foulNFLId1\", plays_data_df[\"foulNFLId1\"].cast(IntegerType()))\n",
        "plays_data_df = plays_data_df.withColumn(\"foulNFLId2\", plays_data_df[\"foulNFLId2\"].cast(IntegerType()))\n",
        "plays_data_df = plays_data_df.withColumn(\"foulNFLId3\", plays_data_df[\"foulNFLId3\"].cast(IntegerType()))\n",
        "plays_data_df = plays_data_df.withColumn(\"absoluteYardlineNumber\", plays_data_df[\"absoluteYardlineNumber\"].cast(IntegerType()))\n",
        "plays_data_df = plays_data_df.withColumn(\"defendersInBox\", plays_data_df[\"defendersInBox\"].cast(IntegerType()))\n",
        "plays_data_df = plays_data_df.withColumn(\"pff_playAction\", plays_data_df[\"pff_playAction\"].cast(IntegerType()))\n",
        "\n",
        "from pyspark.sql.functions import *\n",
        "plays_data_df = plays_data_df.withColumn('foulName1', regexp_replace('foulName1', 'NA', ''))\n",
        "plays_data_df = plays_data_df.withColumn('foulName2', regexp_replace('foulName2', 'NA', ''))\n",
        "plays_data_df = plays_data_df.withColumn('foulName3', regexp_replace('foulName3', 'NA', ''))\n",
        "plays_data_df.show()"
      ],
      "metadata": {
        "colab": {
          "base_uri": "https://localhost:8080/"
        },
        "id": "6N3jpQVhPAmj",
        "outputId": "9f219c98-ec11-4ca7-c007-361d7d3963fa"
      },
      "execution_count": 113,
      "outputs": [
        {
          "output_type": "stream",
          "name": "stdout",
          "text": [
            "+----------+------+--------------------+-------+----+---------+--------------+-------------+------------+--------------+---------+----------------+-------------------+----------+------------+--------------------+----------+--------------------+----------+---------+----------+---------+----------+----------------------+----------------+----------------+--------------+----------------+--------------------+--------------+----------------+--------------------+\n",
            "|    gameId|playId|     playDescription|quarter|down|yardsToGo|possessionTeam|defensiveTeam|yardlineSide|yardlineNumber|gameClock|preSnapHomeScore|preSnapVisitorScore|passResult|penaltyYards|prePenaltyPlayResult|playResult|           foulName1|foulNFLId1|foulName2|foulNFLId2|foulName3|foulNFLId3|absoluteYardlineNumber|offenseFormation|      personnelO|defendersInBox|      personnelD|        dropBackType|pff_playAction|pff_passCoverage|pff_passCoverageType|\n",
            "+----------+------+--------------------+-------+----+---------+--------------+-------------+------------+--------------+---------+----------------+-------------------+----------+------------+--------------------+----------+--------------------+----------+---------+----------+---------+----------+----------------------+----------------+----------------+--------------+----------------+--------------------+--------------+----------------+--------------------+\n",
            "|2021090900|    97|(13:33) (Shotgun)...|      1|   3|        2|            TB|          DAL|          TB|            33|    13:33|               0|                  0|         I|        null|                   0|         0|                    |      null|         |      null|         |      null|                    43|         SHOTGUN|1 RB, 1 TE, 3 WR|             6|4 DL, 2 LB, 5 DB|         TRADITIONAL|             0|         Cover-1|                 Man|\n",
            "|2021090900|   137|(13:18) (Shotgun)...|      1|   1|       10|           DAL|           TB|         DAL|             2|    13:18|               0|                  0|         C|        null|                  28|        28|                    |      null|         |      null|         |      null|                   108|           EMPTY|1 RB, 2 TE, 2 WR|             6|4 DL, 4 LB, 3 DB|         TRADITIONAL|             0|         Cover-3|                Zone|\n",
            "|2021090900|   187|(12:23) (Shotgun)...|      1|   2|        6|           DAL|           TB|         DAL|            34|    12:23|               0|                  0|         C|        null|                   5|         5|                    |      null|         |      null|         |      null|                    76|         SHOTGUN|0 RB, 2 TE, 3 WR|             6|3 DL, 3 LB, 5 DB|         TRADITIONAL|             0|         Cover-3|                Zone|\n",
            "|2021090900|   282|(9:56) D.Prescott...|      1|   1|       10|           DAL|           TB|          TB|            39|    09:56|               0|                  0|         I|        null|                   0|         0|                    |      null|         |      null|         |      null|                    49|      SINGLEBACK|1 RB, 2 TE, 2 WR|             6|4 DL, 3 LB, 4 DB|         TRADITIONAL|             1|         Cover-3|                Zone|\n",
            "|2021090900|   349|(9:46) (Shotgun) ...|      1|   3|       15|           DAL|           TB|          TB|            44|    09:46|               0|                  0|         I|        null|                   0|         0|                    |      null|         |      null|         |      null|                    54|         SHOTGUN|1 RB, 1 TE, 3 WR|             7|3 DL, 4 LB, 4 DB|         TRADITIONAL|             0|         Cover-3|                Zone|\n",
            "|2021090900|   410|(8:53) (Shotgun) ...|      1|   2|        5|            TB|          DAL|          TB|            11|    08:53|               0|                  0|         C|        null|                  10|        10|                    |      null|         |      null|         |      null|                    21|           EMPTY|1 RB, 1 TE, 3 WR|             6|4 DL, 2 LB, 5 DB|         TRADITIONAL|             0|         Cover-1|                 Man|\n",
            "|2021090900|   434|(8:24) (No Huddle...|      1|   1|       10|            TB|          DAL|          TB|            21|    08:24|               0|                  0|         I|        null|                   0|         0|                    |      null|         |      null|         |      null|                    31|         SHOTGUN|1 RB, 1 TE, 3 WR|             6|4 DL, 2 LB, 5 DB|         TRADITIONAL|             0|         Cover-3|                Zone|\n",
            "|2021090900|   456|(8:20) (Shotgun) ...|      1|   2|       10|            TB|          DAL|          TB|            21|    08:20|               0|                  0|         C|        null|                  19|        19|                    |      null|         |      null|         |      null|                    31|         SHOTGUN|1 RB, 1 TE, 3 WR|             6|4 DL, 2 LB, 5 DB|         TRADITIONAL|             0|         Cover-6|                Zone|\n",
            "|2021090900|   480|(7:53) (No Huddle...|      1|   1|       10|            TB|          DAL|          TB|            40|    07:53|               0|                  0|         C|        null|                  28|        28|                    |      null|         |      null|         |      null|                    50|         SHOTGUN|1 RB, 1 TE, 3 WR|             6|4 DL, 2 LB, 5 DB|         TRADITIONAL|             0|         Cover-3|                Zone|\n",
            "|2021090900|   509|(7:30) (No Huddle...|      1|   1|       10|            TB|          DAL|         DAL|            32|    07:30|               0|                  0|         C|        null|                  16|        16|                    |      null|         |      null|         |      null|                    78|         SHOTGUN|1 RB, 1 TE, 3 WR|             6|4 DL, 2 LB, 5 DB|         TRADITIONAL|             0|        Quarters|                Zone|\n",
            "|2021090900|   559|(6:13) (Shotgun) ...|      1|   2|        7|            TB|          DAL|         DAL|            13|    06:13|               0|                  0|         C|        null|                   8|         8|                    |      null|         |      null|         |      null|                    97|         SHOTGUN|1 RB, 2 TE, 2 WR|             7|4 DL, 2 LB, 5 DB|         TRADITIONAL|             0|        Quarters|                Zone|\n",
            "|2021090900|   583|(5:26) (Shotgun) ...|      1|   1|        5|            TB|          DAL|         DAL|             5|    05:26|               0|                  0|         C|        null|                   5|         5|                    |      null|         |      null|         |      null|                   105|         SHOTGUN|1 RB, 1 TE, 3 WR|             7|4 DL, 2 LB, 5 DB|         TRADITIONAL|             1|         Cover-1|                 Man|\n",
            "|2021090900|   687|(4:15) (Shotgun) ...|      1|   2|        2|           DAL|           TB|         DAL|            44|    04:15|               7|                  0|         C|        null|                  12|        12|                    |      null|         |      null|         |      null|                    66|         SHOTGUN|1 RB, 2 TE, 2 WR|             7|4 DL, 3 LB, 4 DB|         TRADITIONAL|             0|         Cover-1|                 Man|\n",
            "|2021090900|   735|(2:45) (Shotgun) ...|      1|   2|        3|           DAL|           TB|          TB|            37|    02:45|               7|                  0|         C|        null|                   8|         8|                    |      null|         |      null|         |      null|                    47|         SHOTGUN|1 RB, 1 TE, 3 WR|             6|3 DL, 3 LB, 5 DB|SCRAMBLE_ROLLOUT_...|             1|         Cover-2|                Zone|\n",
            "|2021090900|   764|(2:22) (No Huddle...|      1|   1|       10|           DAL|           TB|          TB|            29|    02:22|               7|                  0|         C|        null|                   7|         7|                    |      null|         |      null|         |      null|                    39|      SINGLEBACK|1 RB, 1 TE, 3 WR|             6|3 DL, 3 LB, 5 DB|DESIGNED_ROLLOUT_...|             1|        Quarters|                Zone|\n",
            "|2021090900|   788|(1:43) (Shotgun) ...|      1|   2|        3|           DAL|           TB|          TB|            22|    01:43|               7|                  0|         C|        null|                  22|        22|                    |      null|         |      null|         |      null|                    32|         SHOTGUN|1 RB, 2 TE, 2 WR|             6|4 DL, 3 LB, 4 DB|         TRADITIONAL|             0|         Cover-1|                 Man|\n",
            "|2021090900|   869|(:59) T.Brady pas...|      1|   2|        7|            TB|          DAL|          TB|            28|    00:59|               7|                  7|         C|           0|                  27|        27|Illegal Use of Hands|     52459|         |      null|         |      null|                    38|      SINGLEBACK|1 RB, 1 TE, 3 WR|             6|4 DL, 2 LB, 5 DB|         TRADITIONAL|             1|         Cover-2|                Zone|\n",
            "|2021090900|   925|(:11) T.Brady pas...|      1|   2|        5|            TB|          DAL|         DAL|            40|    00:11|               7|                  7|         I|        null|                   0|         0|                    |      null|         |      null|         |      null|                    70|      SINGLEBACK|1 RB, 2 TE, 2 WR|             7|4 DL, 2 LB, 5 DB|         TRADITIONAL|             0|         Cover-1|                 Man|\n",
            "|2021090900|   947|(:05) (Shotgun) T...|      1|   3|        5|            TB|          DAL|         DAL|            40|    00:05|               7|                  7|         I|        null|                   0|         0|                    |      null|         |      null|         |      null|                    70|         SHOTGUN|1 RB, 1 TE, 3 WR|             5|4 DL, 2 LB, 5 DB|         TRADITIONAL|             0|         Cover-2|                Zone|\n",
            "|2021090900|  1078|(14:21) (No Huddl...|      2|   2|        8|           DAL|           TB|         DAL|             7|    14:21|               7|                  7|         C|        null|                   5|         5|                    |      null|         |      null|         |      null|                    17|         SHOTGUN|1 RB, 0 TE, 4 WR|             5|3 DL, 3 LB, 5 DB|         TRADITIONAL|             0|        Quarters|                Zone|\n",
            "+----------+------+--------------------+-------+----+---------+--------------+-------------+------------+--------------+---------+----------------+-------------------+----------+------------+--------------------+----------+--------------------+----------+---------+----------+---------+----------+----------------------+----------------+----------------+--------------+----------------+--------------------+--------------+----------------+--------------------+\n",
            "only showing top 20 rows\n",
            "\n"
          ]
        }
      ]
    },
    {
      "cell_type": "markdown",
      "metadata": {
        "id": "kQgPpNnVnRwh"
      },
      "source": [
        "Postgres Setup"
      ]
    },
    {
      "cell_type": "code",
      "execution_count": 34,
      "metadata": {
        "id": "985Vl1dtmpVU",
        "colab": {
          "base_uri": "https://localhost:8080/"
        },
        "outputId": "5594db51-fc7c-427a-813e-7854b5e38f52"
      },
      "outputs": [
        {
          "name": "stdout",
          "output_type": "stream",
          "text": [
            "Enter database password··········\n"
          ]
        }
      ],
      "source": [
        "# Store environment variable\n",
        "from getpass import getpass\n",
        "password = getpass('Enter database password')\n",
        "\n",
        "# Configure settings for Cloud SQL\n",
        "mode = \"append\"\n",
        "jdbc_url=\"jdbc:postgresql://34.72.136.99:5432/big-data-bowl\"\n",
        "config = {\"user\":\"postgres\", \n",
        "          \"password\": password, \n",
        "          \"driver\":\"org.postgresql.Driver\"}\n"
      ]
    },
    {
      "cell_type": "code",
      "execution_count": 114,
      "metadata": {
        "id": "9yyZgvcUnaNN"
      },
      "outputs": [],
      "source": [
        "# Write DataFrame to plays table in Cloud SQL\n",
        "plays_data_df.write.jdbc(url=jdbc_url, table='plays', mode=mode, properties=config)"
      ]
    },
    {
      "cell_type": "code",
      "execution_count": null,
      "metadata": {
        "id": "Kx3hMnlAD5FA"
      },
      "outputs": [],
      "source": []
    }
  ],
  "metadata": {
    "colab": {
      "provenance": [],
      "collapsed_sections": []
    },
    "kernelspec": {
      "display_name": "Python 3",
      "language": "python",
      "name": "python3"
    },
    "language_info": {
      "codemirror_mode": {
        "name": "ipython",
        "version": 3
      },
      "file_extension": ".py",
      "mimetype": "text/x-python",
      "name": "python",
      "nbconvert_exporter": "python",
      "pygments_lexer": "ipython3",
      "version": "3.7.7"
    },
    "latex_envs": {
      "LaTeX_envs_menu_present": true,
      "autoclose": false,
      "autocomplete": true,
      "bibliofile": "biblio.bib",
      "cite_by": "apalike",
      "current_citInitial": 1,
      "eqLabelWithNumbers": true,
      "eqNumInitial": 1,
      "hotkeys": {
        "equation": "Ctrl-E",
        "itemize": "Ctrl-I"
      },
      "labels_anchors": false,
      "latex_user_defs": false,
      "report_style_numbering": false,
      "user_envs_cfg": false
    }
  },
  "nbformat": 4,
  "nbformat_minor": 0
}