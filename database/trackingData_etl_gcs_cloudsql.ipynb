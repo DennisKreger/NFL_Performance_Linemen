{
  "cells": [
    {
      "cell_type": "code",
      "execution_count": 1,
      "metadata": {
        "colab": {
          "base_uri": "https://localhost:8080/"
        },
        "id": "5WosHdRWdmpw",
        "outputId": "fedb8f44-1417-4d2c-f73b-ac2d746dddc1"
      },
      "outputs": [
        {
          "output_type": "stream",
          "name": "stdout",
          "text": [
            "\r0% [Working]\r            \rGet:1 http://security.ubuntu.com/ubuntu bionic-security InRelease [88.7 kB]\n",
            "\r0% [Connecting to archive.ubuntu.com (91.189.91.38)] [1 InRelease 14.2 kB/88.7 \r                                                                               \rHit:2 http://ppa.launchpad.net/c2d4u.team/c2d4u4.0+/ubuntu bionic InRelease\n",
            "\r0% [Connecting to archive.ubuntu.com (91.189.91.38)] [1 InRelease 28.6 kB/88.7 \r0% [2 InRelease gpgv 15.9 kB] [Connecting to archive.ubuntu.com (91.189.91.38)]\r                                                                               \rHit:3 http://ppa.launchpad.net/cran/libgit2/ubuntu bionic InRelease\n",
            "\r0% [2 InRelease gpgv 15.9 kB] [Connecting to archive.ubuntu.com (91.189.91.38)]\r0% [2 InRelease gpgv 15.9 kB] [Connecting to archive.ubuntu.com (91.189.91.38)]\r                                                                               \rHit:4 http://ppa.launchpad.net/deadsnakes/ppa/ubuntu bionic InRelease\n",
            "\r0% [2 InRelease gpgv 15.9 kB] [Connecting to archive.ubuntu.com (91.189.91.38)]\r                                                                               \rHit:5 http://ppa.launchpad.net/graphics-drivers/ppa/ubuntu bionic InRelease\n",
            "Hit:6 https://cloud.r-project.org/bin/linux/ubuntu bionic-cran40/ InRelease\n",
            "Hit:7 http://archive.ubuntu.com/ubuntu bionic InRelease\n",
            "Ign:8 https://developer.download.nvidia.com/compute/machine-learning/repos/ubuntu1804/x86_64  InRelease\n",
            "Hit:9 https://developer.download.nvidia.com/compute/cuda/repos/ubuntu1804/x86_64  InRelease\n",
            "Hit:10 https://developer.download.nvidia.com/compute/machine-learning/repos/ubuntu1804/x86_64  Release\n",
            "Hit:11 http://archive.ubuntu.com/ubuntu bionic-updates InRelease\n",
            "Hit:12 http://archive.ubuntu.com/ubuntu bionic-backports InRelease\n",
            "Fetched 88.7 kB in 3s (35.3 kB/s)\n",
            "Reading package lists... Done\n"
          ]
        }
      ],
      "source": [
        "import os\n",
        "# Find the latest version of spark 3.0  from http://www.apache.org/dist/spark/ and enter as the spark version\n",
        "# For example:\n",
        "# spark_version = 'spark-3.0.3'\n",
        "spark_version = 'spark-3.1.3'\n",
        "os.environ['SPARK_VERSION']=spark_version\n",
        "\n",
        "# Install Spark and Java\n",
        "!apt-get update\n",
        "!apt-get install openjdk-11-jdk-headless -qq > /dev/null\n",
        "!wget -q http://www.apache.org/dist/spark/$SPARK_VERSION/$SPARK_VERSION-bin-hadoop2.7.tgz\n",
        "!tar xf $SPARK_VERSION-bin-hadoop2.7.tgz\n",
        "!pip install -q findspark\n",
        "\n",
        "# Set Environment Variables\n",
        "os.environ[\"JAVA_HOME\"] = \"/usr/lib/jvm/java-11-openjdk-amd64\"\n",
        "os.environ[\"SPARK_HOME\"] = f\"/content/{spark_version}-bin-hadoop2.7\"\n",
        "\n",
        "# Start a SparkSession\n",
        "import findspark\n",
        "findspark.init()"
      ]
    },
    {
      "cell_type": "code",
      "execution_count": 2,
      "metadata": {
        "colab": {
          "base_uri": "https://localhost:8080/"
        },
        "id": "xISV-9eR6Yah",
        "outputId": "81569824-e9ba-48bc-e648-bea6a7dd4b30"
      },
      "outputs": [
        {
          "output_type": "stream",
          "name": "stdout",
          "text": [
            "--2022-11-05 02:59:41--  https://jdbc.postgresql.org/download/postgresql-42.2.9.jar\n",
            "Resolving jdbc.postgresql.org (jdbc.postgresql.org)... 72.32.157.228, 2001:4800:3e1:1::228\n",
            "Connecting to jdbc.postgresql.org (jdbc.postgresql.org)|72.32.157.228|:443... connected.\n",
            "HTTP request sent, awaiting response... 200 OK\n",
            "Length: 914037 (893K) [application/java-archive]\n",
            "Saving to: ‘postgresql-42.2.9.jar.3’\n",
            "\n",
            "postgresql-42.2.9.j 100%[===================>] 892.61K  1.67MB/s    in 0.5s    \n",
            "\n",
            "2022-11-05 02:59:42 (1.67 MB/s) - ‘postgresql-42.2.9.jar.3’ saved [914037/914037]\n",
            "\n"
          ]
        }
      ],
      "source": [
        "!wget https://jdbc.postgresql.org/download/postgresql-42.2.9.jar"
      ]
    },
    {
      "cell_type": "code",
      "execution_count": 3,
      "metadata": {
        "id": "aEQFTWiV6g2h"
      },
      "outputs": [],
      "source": [
        "from pyspark.sql import SparkSession\n",
        "spark = SparkSession.builder.appName(\"TrackingETL\").config(\"spark.driver.extraClassPath\",\"/content/postgresql-42.2.9.jar\").getOrCreate()"
      ]
    },
    {
      "cell_type": "code",
      "execution_count": 33,
      "metadata": {
        "colab": {
          "base_uri": "https://localhost:8080/"
        },
        "id": "qik6uGSV9BWa",
        "outputId": "529cffa9-28b2-4cd5-9bf9-c617b2ef984d"
      },
      "outputs": [
        {
          "output_type": "stream",
          "name": "stdout",
          "text": [
            "+----------+------+-----+-------+--------------------+------------+----+-------------+-----+-----+----+----+----+------+-----+-----------+\n",
            "|    gameId|playId|nflId|frameId|                time|jerseyNumber|team|playDirection|    x|    y|   s|   a| dis|     o|  dir|      event|\n",
            "+----------+------+-----+-------+--------------------+------------+----+-------------+-----+-----+----+----+----+------+-----+-----------+\n",
            "|2021091600|    65|40031|      1|2021-09-17 00:23:...|          23| NYG|        right|46.32|22.36|0.93|0.83|0.09|271.71|79.32|       None|\n",
            "|2021091600|    65|40031|      2|2021-09-17 00:23:...|          23| NYG|        right|46.43|22.39|1.07|1.05|0.11|275.92|72.33|       None|\n",
            "|2021091600|    65|40031|      3|2021-09-17 00:23:...|          23| NYG|        right|46.54|22.44|1.21|1.11|0.12|278.85|67.03|       None|\n",
            "|2021091600|    65|40031|      4|2021-09-17 00:23:...|          23| NYG|        right|46.65|22.49|1.32|1.14|0.13|282.45|62.63|       None|\n",
            "|2021091600|    65|40031|      5| 2021-09-17 00:23:10|          23| NYG|        right|46.77|22.56|1.49|1.42|0.14|285.54|59.26|       None|\n",
            "|2021091600|    65|40031|      6|2021-09-17 00:23:...|          23| NYG|        right|46.91|22.65|1.78|1.67|0.17|292.08|56.87|  ball_snap|\n",
            "|2021091600|    65|40031|      7|2021-09-17 00:23:...|          23| NYG|        right|47.07|22.75|1.94|1.49|0.18|298.71|54.79|       None|\n",
            "|2021091600|    65|40031|      8|2021-09-17 00:23:...|          23| NYG|        right|47.23|22.87|2.17| 1.5|0.21|303.41|53.02|       None|\n",
            "|2021091600|    65|40031|      9|2021-09-17 00:23:...|          23| NYG|        right|47.42|23.02|2.38|1.39|0.23|305.32|51.86|       None|\n",
            "|2021091600|    65|40031|     10|2021-09-17 00:23:...|          23| NYG|        right|47.62|23.18|2.62|1.43|0.26|306.31|50.09|       None|\n",
            "|2021091600|    65|40031|     11|2021-09-17 00:23:...|          23| NYG|        right|47.82|23.36|2.77|1.29|0.27| 304.9|49.17|       None|\n",
            "|2021091600|    65|40031|     12|2021-09-17 00:23:...|          23| NYG|        right|48.04|23.55|2.98|1.37|0.29| 303.1|46.95|       None|\n",
            "|2021091600|    65|40031|     13|2021-09-17 00:23:...|          23| NYG|        right|48.26|23.78| 3.2|1.44|0.32|298.72|44.83|       None|\n",
            "|2021091600|    65|40031|     14|2021-09-17 00:23:...|          23| NYG|        right|48.49|24.02|3.34|1.29|0.33|294.28|42.88|       None|\n",
            "|2021091600|    65|40031|     15| 2021-09-17 00:23:11|          23| NYG|        right|48.71|24.26|3.38|0.82|0.33|291.43|42.45|       None|\n",
            "|2021091600|    65|40031|     16|2021-09-17 00:23:...|          23| NYG|        right|48.95|24.52|3.44|0.46|0.34|288.19|42.11|play_action|\n",
            "|2021091600|    65|40031|     17|2021-09-17 00:23:...|          23| NYG|        right|49.18|24.78|3.51|0.19|0.35|282.98|42.23|       None|\n",
            "|2021091600|    65|40031|     18|2021-09-17 00:23:...|          23| NYG|        right|49.42|25.04|3.53|0.17|0.35|276.57|42.96|       None|\n",
            "|2021091600|    65|40031|     19|2021-09-17 00:23:...|          23| NYG|        right|49.67|25.29|3.56|0.61|0.35|   273| 45.2|       None|\n",
            "|2021091600|    65|40031|     20|2021-09-17 00:23:...|          23| NYG|        right|49.92|25.53|3.57|0.73|0.36|270.87|46.63|       None|\n",
            "+----------+------+-----+-------+--------------------+------------+----+-------------+-----+-----+----+----+----+------+-----+-----------+\n",
            "only showing top 20 rows\n",
            "\n"
          ]
        }
      ],
      "source": [
        "# Read in data from GCS Buckets\n",
        "from pyspark import SparkFiles\n",
        "url=\"https://storage.googleapis.com/big-data-bowl/week2.csv\"\n",
        "spark.sparkContext.addFile(url)\n",
        "tracking_data_df = spark.read.csv(SparkFiles.get(\"week2.csv\"), sep=\",\", header=True, inferSchema=True)\n",
        "\n",
        "# Show DataFrame\n",
        "tracking_data_df.show()"
      ]
    },
    {
      "cell_type": "code",
      "source": [
        "#Replace NA values in nflId with 0 values\n",
        "from pyspark.sql.functions import regexp_replace\n",
        "tracking_data_df.withColumn('nflId', regexp_replace('nflId', 'NA', '0')) \\\n",
        "  .show(truncate=False)\n",
        "\n",
        "from pyspark.sql.types import IntegerType, FloatType\n",
        "tracking_data_df = tracking_data_df.withColumn(\"nflId\", tracking_data_df[\"nflId\"].cast(IntegerType()))\n",
        "tracking_data_df = tracking_data_df.withColumn(\"jerseyNumber\", tracking_data_df[\"jerseyNumber\"].cast(IntegerType()))\n",
        "tracking_data_df = tracking_data_df.withColumn(\"o\", tracking_data_df[\"o\"].cast(FloatType()))\n",
        "tracking_data_df = tracking_data_df.withColumn(\"dir\", tracking_data_df[\"dir\"].cast(FloatType()))\n",
        "\n",
        "tracking_data_df.dtypes"
      ],
      "metadata": {
        "colab": {
          "base_uri": "https://localhost:8080/"
        },
        "id": "kh_fnRkLqcgn",
        "outputId": "34911fc3-afa9-409f-bafb-0606f48efc6b"
      },
      "execution_count": 34,
      "outputs": [
        {
          "output_type": "stream",
          "name": "stdout",
          "text": [
            "+----------+------+-----+-------+---------------------+------------+----+-------------+-----+-----+----+----+----+------+-----+-----------+\n",
            "|gameId    |playId|nflId|frameId|time                 |jerseyNumber|team|playDirection|x    |y    |s   |a   |dis |o     |dir  |event      |\n",
            "+----------+------+-----+-------+---------------------+------------+----+-------------+-----+-----+----+----+----+------+-----+-----------+\n",
            "|2021091600|65    |40031|1      |2021-09-17 00:23:09.6|23          |NYG |right        |46.32|22.36|0.93|0.83|0.09|271.71|79.32|None       |\n",
            "|2021091600|65    |40031|2      |2021-09-17 00:23:09.7|23          |NYG |right        |46.43|22.39|1.07|1.05|0.11|275.92|72.33|None       |\n",
            "|2021091600|65    |40031|3      |2021-09-17 00:23:09.8|23          |NYG |right        |46.54|22.44|1.21|1.11|0.12|278.85|67.03|None       |\n",
            "|2021091600|65    |40031|4      |2021-09-17 00:23:09.9|23          |NYG |right        |46.65|22.49|1.32|1.14|0.13|282.45|62.63|None       |\n",
            "|2021091600|65    |40031|5      |2021-09-17 00:23:10  |23          |NYG |right        |46.77|22.56|1.49|1.42|0.14|285.54|59.26|None       |\n",
            "|2021091600|65    |40031|6      |2021-09-17 00:23:10.1|23          |NYG |right        |46.91|22.65|1.78|1.67|0.17|292.08|56.87|ball_snap  |\n",
            "|2021091600|65    |40031|7      |2021-09-17 00:23:10.2|23          |NYG |right        |47.07|22.75|1.94|1.49|0.18|298.71|54.79|None       |\n",
            "|2021091600|65    |40031|8      |2021-09-17 00:23:10.3|23          |NYG |right        |47.23|22.87|2.17|1.5 |0.21|303.41|53.02|None       |\n",
            "|2021091600|65    |40031|9      |2021-09-17 00:23:10.4|23          |NYG |right        |47.42|23.02|2.38|1.39|0.23|305.32|51.86|None       |\n",
            "|2021091600|65    |40031|10     |2021-09-17 00:23:10.5|23          |NYG |right        |47.62|23.18|2.62|1.43|0.26|306.31|50.09|None       |\n",
            "|2021091600|65    |40031|11     |2021-09-17 00:23:10.6|23          |NYG |right        |47.82|23.36|2.77|1.29|0.27|304.9 |49.17|None       |\n",
            "|2021091600|65    |40031|12     |2021-09-17 00:23:10.7|23          |NYG |right        |48.04|23.55|2.98|1.37|0.29|303.1 |46.95|None       |\n",
            "|2021091600|65    |40031|13     |2021-09-17 00:23:10.8|23          |NYG |right        |48.26|23.78|3.2 |1.44|0.32|298.72|44.83|None       |\n",
            "|2021091600|65    |40031|14     |2021-09-17 00:23:10.9|23          |NYG |right        |48.49|24.02|3.34|1.29|0.33|294.28|42.88|None       |\n",
            "|2021091600|65    |40031|15     |2021-09-17 00:23:11  |23          |NYG |right        |48.71|24.26|3.38|0.82|0.33|291.43|42.45|None       |\n",
            "|2021091600|65    |40031|16     |2021-09-17 00:23:11.1|23          |NYG |right        |48.95|24.52|3.44|0.46|0.34|288.19|42.11|play_action|\n",
            "|2021091600|65    |40031|17     |2021-09-17 00:23:11.2|23          |NYG |right        |49.18|24.78|3.51|0.19|0.35|282.98|42.23|None       |\n",
            "|2021091600|65    |40031|18     |2021-09-17 00:23:11.3|23          |NYG |right        |49.42|25.04|3.53|0.17|0.35|276.57|42.96|None       |\n",
            "|2021091600|65    |40031|19     |2021-09-17 00:23:11.4|23          |NYG |right        |49.67|25.29|3.56|0.61|0.35|273   |45.2 |None       |\n",
            "|2021091600|65    |40031|20     |2021-09-17 00:23:11.5|23          |NYG |right        |49.92|25.53|3.57|0.73|0.36|270.87|46.63|None       |\n",
            "+----------+------+-----+-------+---------------------+------------+----+-------------+-----+-----+----+----+----+------+-----+-----------+\n",
            "only showing top 20 rows\n",
            "\n"
          ]
        },
        {
          "output_type": "execute_result",
          "data": {
            "text/plain": [
              "[('gameId', 'int'),\n",
              " ('playId', 'int'),\n",
              " ('nflId', 'int'),\n",
              " ('frameId', 'int'),\n",
              " ('time', 'timestamp'),\n",
              " ('jerseyNumber', 'int'),\n",
              " ('team', 'string'),\n",
              " ('playDirection', 'string'),\n",
              " ('x', 'double'),\n",
              " ('y', 'double'),\n",
              " ('s', 'double'),\n",
              " ('a', 'double'),\n",
              " ('dis', 'double'),\n",
              " ('o', 'float'),\n",
              " ('dir', 'float'),\n",
              " ('event', 'string')]"
            ]
          },
          "metadata": {},
          "execution_count": 34
        }
      ]
    },
    {
      "cell_type": "markdown",
      "metadata": {
        "id": "kQgPpNnVnRwh"
      },
      "source": [
        "Postgres Setup"
      ]
    },
    {
      "cell_type": "code",
      "execution_count": 6,
      "metadata": {
        "id": "985Vl1dtmpVU",
        "colab": {
          "base_uri": "https://localhost:8080/"
        },
        "outputId": "807ff2aa-6416-4304-a479-365a25dc175d"
      },
      "outputs": [
        {
          "name": "stdout",
          "output_type": "stream",
          "text": [
            "Enter database password··········\n"
          ]
        }
      ],
      "source": [
        "# Store environment variable\n",
        "from getpass import getpass\n",
        "password = getpass('Enter database password')\n",
        "\n",
        "# Configure settings for Cloud SQL\n",
        "mode = \"append\"\n",
        "jdbc_url=\"jdbc:postgresql://34.72.136.99:5432/big-data-bowl\"\n",
        "config = {\"user\":\"postgres\", \n",
        "          \"password\": password, \n",
        "          \"driver\":\"org.postgresql.Driver\"}\n"
      ]
    },
    {
      "cell_type": "code",
      "execution_count": null,
      "metadata": {
        "id": "9yyZgvcUnaNN"
      },
      "outputs": [],
      "source": [
        "# Write DataFrame to trackingdata table in Cloud SQL\n",
        "tracking_data_df.write.jdbc(url=jdbc_url, table='trackingdata', mode=mode, properties=config)"
      ]
    },
    {
      "cell_type": "code",
      "execution_count": null,
      "metadata": {
        "id": "Kx3hMnlAD5FA"
      },
      "outputs": [],
      "source": []
    }
  ],
  "metadata": {
    "colab": {
      "provenance": [],
      "collapsed_sections": []
    },
    "kernelspec": {
      "display_name": "Python 3",
      "language": "python",
      "name": "python3"
    },
    "language_info": {
      "codemirror_mode": {
        "name": "ipython",
        "version": 3
      },
      "file_extension": ".py",
      "mimetype": "text/x-python",
      "name": "python",
      "nbconvert_exporter": "python",
      "pygments_lexer": "ipython3",
      "version": "3.7.7"
    },
    "latex_envs": {
      "LaTeX_envs_menu_present": true,
      "autoclose": false,
      "autocomplete": true,
      "bibliofile": "biblio.bib",
      "cite_by": "apalike",
      "current_citInitial": 1,
      "eqLabelWithNumbers": true,
      "eqNumInitial": 1,
      "hotkeys": {
        "equation": "Ctrl-E",
        "itemize": "Ctrl-I"
      },
      "labels_anchors": false,
      "latex_user_defs": false,
      "report_style_numbering": false,
      "user_envs_cfg": false
    }
  },
  "nbformat": 4,
  "nbformat_minor": 0
}