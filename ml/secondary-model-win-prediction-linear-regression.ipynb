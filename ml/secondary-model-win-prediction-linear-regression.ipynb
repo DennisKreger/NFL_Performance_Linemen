{
 "cells": [
  {
   "cell_type": "code",
   "execution_count": 60,
   "id": "220101d9",
   "metadata": {},
   "outputs": [],
   "source": [
    "# Import dependencies\n",
    "import pandas as pd\n",
    "import numpy as np\n",
    "from matplotlib import pyplot as plt\n",
    "from sklearn.model_selection import train_test_split\n",
    "from sklearn.linear_model import LinearRegression\n",
    "from statistics import stdev\n",
    "from math import sqrt\n",
    "import scipy\n",
    "import pickle, warnings\n",
    "%matplotlib inline\n",
    "warnings.filterwarnings('ignore')"
   ]
  },
  {
   "cell_type": "code",
   "execution_count": 2,
   "id": "482c0d30",
   "metadata": {},
   "outputs": [],
   "source": [
    "# Read data\n",
    "\n",
    "# All game scores historical through 2011\n",
    "game_results_all = pd.read_csv('https://storage.googleapis.com/big-data-bowl/game-results-all.csv', encoding='latin')\n",
    "\n",
    "# Offensive and defensive stats historical through 2011\n",
    "season_stats_offense = pd.read_csv('https://storage.googleapis.com/big-data-bowl/season-stats-offense.csv', encoding='latin')\n",
    "season_stats_defense = pd.read_csv('https://storage.googleapis.com/big-data-bowl/season-stats-defense.csv', encoding='latin')\n",
    "\n",
    "# Kaggle games data\n",
    "games = pd.read_csv('https://storage.googleapis.com/big-data-bowl/games.csv')"
   ]
  },
  {
   "cell_type": "code",
   "execution_count": 5,
   "id": "81246f7b",
   "metadata": {},
   "outputs": [],
   "source": [
    "# Define team abbreviations\n",
    "stats_team_abbr_dict = {\n",
    "    'TB': 'Tampa Bay Buccaneers',\n",
    "    'ATL': 'Atlanta Falcons',\n",
    "    'BUF': 'Buffalo Bills',\n",
    "    'CAR': 'Carolina Panthers',\n",
    "    'CIN': 'Cincinnati Bengals',\n",
    "    'DET': 'Detroit Lions',\n",
    "    'HOU': 'Houston Texans',\n",
    "    'IND': 'Indianapolis Colts',\n",
    "    'TEN': 'Tennessee Titans',\n",
    "    'WAS': 'Washington Redskins',\n",
    "    'KC': 'Kansas City Chiefs',\n",
    "    'NE': 'New England Patriots',\n",
    "    'NO': 'New Orleans Saints',\n",
    "    'NYG': 'New York Giants',\n",
    "    'LA': 'Los Angeles Rams',\n",
    "    'LV': 'Oakland Raiders',\n",
    "    'CHI': 'Chicago Bears',\n",
    "    'CLE': 'Cleveland Browns',\n",
    "    'JAX': 'Jacksonville Jaguars',\n",
    "    'MIA': 'Miami Dolphins',\n",
    "    'NYJ': 'New York Jets',\n",
    "    'PHI': 'Philadelphia Eagles',\n",
    "    'PIT': 'Pittsburgh Steelers',\n",
    "    'ARI': 'Arizona Cardinals',\n",
    "    'LAC': 'Los Angeles Chargers',\n",
    "    'SEA': 'Seattle Seahawks',\n",
    "    'BAL': 'Baltimore Ravens',\n",
    "    'GB': 'Green Bay Packers',\n",
    "    'DEN': 'Denver Broncos',\n",
    "    'MIN': 'Minnesota Vikings',\n",
    "    'SF': 'San Francisco 49ers',\n",
    "    'DAL': 'Dallas Cowboys'\n",
    "}\n"
   ]
  },
  {
   "cell_type": "code",
   "execution_count": 6,
   "id": "63b09bbe",
   "metadata": {
    "scrolled": false
   },
   "outputs": [],
   "source": [
    "# Merge offensive and defensive season stats\n",
    "season_stats = season_stats_offense.merge(\n",
    "    season_stats_defense,\n",
    "    on='Team',\n",
    "    suffixes=('_offensive', '_defensive')\n",
    ")\n",
    "\n",
    "# Create \"Next Season\" column for merging results data\n",
    "season_stats['Next Season'] = season_stats['Season_offensive'] + 1\n",
    "season_stats.drop(['Season_defensive', 'Season_offensive'], axis=1, inplace=True)\n",
    "season_stats = season_stats.groupby(['Next Season', 'Team']).first().reset_index()"
   ]
  },
  {
   "cell_type": "code",
   "execution_count": 7,
   "id": "003da33e",
   "metadata": {
    "scrolled": false
   },
   "outputs": [],
   "source": [
    "# Merge stats and scores for training data\n",
    "training_data_all = game_results_all.merge(\n",
    "    season_stats,\n",
    "    left_on=['Home', 'Season'],\n",
    "    right_on=['Team', 'Next Season']\n",
    ")\n",
    "\n",
    "training_data_all = training_data_all.merge(\n",
    "    season_stats,\n",
    "    left_on=['Visitor', 'Season'],\n",
    "    right_on=['Team', 'Next Season'],\n",
    "    suffixes=('_home', '_visitor')\n",
    ")\n",
    "\n",
    "training_data_all.drop(['Visitor', 'Home', 'Team_visitor', 'Team_home', 'Next Season_home', 'Next Season_visitor'], axis=1, inplace=True)"
   ]
  },
  {
   "cell_type": "code",
   "execution_count": 8,
   "id": "68e32429",
   "metadata": {},
   "outputs": [],
   "source": [
    "# Move 2021 data from training data to prediction data\n",
    "training_data_raw = training_data_all.loc[training_data_all['Season'] < 2021]"
   ]
  },
  {
   "cell_type": "code",
   "execution_count": 9,
   "id": "f1fa3bdd",
   "metadata": {},
   "outputs": [],
   "source": [
    "# Clean home and visitor training sets for offense vs defense stats\n",
    "home_training_data = training_data_raw[\n",
    "    [c for c in training_data_raw.columns if \\\n",
    "     ('_offensive_home' in c) or \\\n",
    "     ('_defensive_visitor' in c) or \\\n",
    "     (c == 'Home Score')\n",
    "    ]\n",
    "]\n",
    "home_training_data.loc[:, 'isHomeTeam'] = 1\n",
    "home_training_data.drop([col for col in home_training_data.columns if ('_defensive_home' in col) or ('_offensive_visitor' in col)], inplace=True)\n",
    "home_column_rename_dict = {col: col.replace('_home', '').replace('_visitor', '_opposing') for col in home_training_data.columns}\n",
    "home_column_rename_dict['Home Score'] = 'Score'\n",
    "home_training_data = home_training_data.rename(columns=home_column_rename_dict)\n",
    "\n",
    "visitor_training_data = training_data_raw[\n",
    "    [c for c in training_data_raw.columns if \\\n",
    "     ('_offensive_visitor' in c) or \\\n",
    "     ('_defensive_home' in c) or \\\n",
    "     (c == 'Visitor Score')\n",
    "    ]\n",
    "]\n",
    "visitor_training_data.loc[:, 'isHomeTeam'] = 0\n",
    "visitor_training_data.drop([col for col in visitor_training_data.columns if ('_offensive_home' in col) or ('_defensive_visitor' in col)], inplace=True)\n",
    "visitor_column_rename_dict = {col: col.replace('_visitor', '').replace('_home', '_opposing') for col in visitor_training_data.columns}\n",
    "visitor_column_rename_dict['Visitor Score'] = 'Score'\n",
    "visitor_training_data = visitor_training_data.rename(columns=visitor_column_rename_dict)"
   ]
  },
  {
   "cell_type": "code",
   "execution_count": 10,
   "id": "4ed8a5dd",
   "metadata": {},
   "outputs": [],
   "source": [
    "# Combine home and visitor training sets\n",
    "training_data = pd.concat([visitor_training_data, home_training_data], axis=0)"
   ]
  },
  {
   "cell_type": "code",
   "execution_count": 11,
   "id": "c91d04fc",
   "metadata": {},
   "outputs": [
    {
     "name": "stdout",
     "output_type": "stream",
     "text": [
      "R2 Score: 0.05502160352896879\n"
     ]
    }
   ],
   "source": [
    "# Create home model\n",
    "X = training_data.drop(['Score'], axis=1)\n",
    "y = training_data['Score']\n",
    "\n",
    "X_train, X_test, y_train, y_test = train_test_split(X, y)\n",
    "\n",
    "model = LinearRegression()\n",
    "model.fit(X_train, y_train)\n",
    "\n",
    "score = model.score(X, y)\n",
    "print(f\"R2 Score: {score}\")"
   ]
  },
  {
   "cell_type": "code",
   "execution_count": 12,
   "id": "752d2220",
   "metadata": {
    "scrolled": false
   },
   "outputs": [
    {
     "data": {
      "image/png": "[encoded data removed]",
      "text/plain": [
       "<Figure size 640x480 with 1 Axes>"
      ]
     },
     "metadata": {},
     "output_type": "display_data"
    }
   ],
   "source": [
    "# Evaluate model accuracy\n",
    "test_predictions = model.predict(X_test)\n",
    "prediction_accuracy = test_predictions - y_test\n",
    "plt.hist(prediction_accuracy)\n",
    "plt.xlabel('Prediction minus Actual')\n",
    "plt.ylabel('Games')\n",
    "plt.title('Prediction Accuracy Distribution')\n",
    "plt.show()"
   ]
  },
  {
   "cell_type": "code",
   "execution_count": 14,
   "id": "b5f7d3d4",
   "metadata": {},
   "outputs": [],
   "source": [
    "# Prepare 2021 prediction input\n",
    "matchups = games.copy()\n",
    "games['homeTeam'] = games['homeTeamAbbr'].apply(lambda x: stats_team_abbr_dict[x])\n",
    "games['visitorTeam'] = games['visitorTeamAbbr'].apply(lambda x: stats_team_abbr_dict[x])\n",
    "\n",
    "matchups = games[['gameId', 'homeTeam', 'visitorTeam']]\n",
    "matchups['Season'] = 2021"
   ]
  },
  {
   "cell_type": "code",
   "execution_count": 15,
   "id": "80ff65bb",
   "metadata": {},
   "outputs": [],
   "source": [
    "prediction_data_raw = matchups.merge(\n",
    "    season_stats,\n",
    "    left_on=['homeTeam', 'Season'],\n",
    "    right_on=['Team', 'Next Season']\n",
    ")\n",
    "\n",
    "prediction_data_raw = prediction_data_raw.merge(\n",
    "    season_stats,\n",
    "    left_on=['visitorTeam', 'Season'],\n",
    "    right_on=['Team', 'Next Season'],\n",
    "    suffixes=('_home', '_visitor')\n",
    ")\n",
    "\n",
    "prediction_data_raw.drop(['homeTeam', 'visitorTeam', 'Team_visitor', 'Team_home', 'Next Season_home', 'Next Season_visitor'], axis=1, inplace=True)"
   ]
  },
  {
   "cell_type": "code",
   "execution_count": 16,
   "id": "d8ee3108",
   "metadata": {},
   "outputs": [],
   "source": [
    "# Clean home and visitor prediction sets for offense vs defense stats\n",
    "home_prediction_data = prediction_data_raw[\n",
    "    [c for c in prediction_data_raw.columns if \\\n",
    "     ('_offensive_home' in c) or \\\n",
    "     ('_defensive_visitor' in c) or \\\n",
    "     (c == 'Home Score') or \\\n",
    "     (c == 'gameId')\n",
    "    ]\n",
    "]\n",
    "home_prediction_data.loc[:, 'isHomeTeam'] = 1\n",
    "home_prediction_data.drop([col for col in home_prediction_data.columns if ('_defensive_home' in col) or ('_offensive_visitor' in col)], inplace=True)\n",
    "home_prediction_data = home_prediction_data.rename(columns=home_column_rename_dict)\n",
    "\n",
    "visitor_prediction_data = prediction_data_raw[\n",
    "    [c for c in prediction_data_raw.columns if \\\n",
    "     ('_offensive_visitor' in c) or \\\n",
    "     ('_defensive_home' in c) or \\\n",
    "     (c == 'Visitor Score') or \\\n",
    "     (c == 'gameId')\n",
    "    ]\n",
    "]\n",
    "visitor_prediction_data.loc[:, 'isHomeTeam'] = 0\n",
    "visitor_prediction_data.drop([col for col in visitor_training_data.columns if ('_offensive_home' in col) or ('_defensive_visitor' in col)], inplace=True)\n",
    "visitor_prediction_data = visitor_prediction_data.rename(columns=visitor_column_rename_dict)"
   ]
  },
  {
   "cell_type": "code",
   "execution_count": 17,
   "id": "eb4df977",
   "metadata": {},
   "outputs": [],
   "source": [
    "# Combine home and visitor prediction sets\n",
    "prediction_data = pd.concat([visitor_prediction_data, home_prediction_data], axis=0)"
   ]
  },
  {
   "cell_type": "code",
   "execution_count": 18,
   "id": "35dceb17",
   "metadata": {
    "scrolled": false
   },
   "outputs": [],
   "source": [
    "# Make predictions\n",
    "test_predictions = model.predict(prediction_data.drop(columns=['gameId'], axis=1))\n",
    "predicted_data = prediction_data[['gameId', 'isHomeTeam']]\n",
    "predicted_data['predictedScore'] = test_predictions"
   ]
  },
  {
   "cell_type": "code",
   "execution_count": 19,
   "id": "b75e0abe",
   "metadata": {
    "scrolled": false
   },
   "outputs": [],
   "source": [
    "# Merge visitor scores to home scores\n",
    "score_predictions = predicted_data[predicted_data['isHomeTeam'] == 1].merge(\n",
    "    predicted_data[predicted_data['isHomeTeam'] == 0],\n",
    "    on='gameId',\n",
    "    suffixes=('_home', '_visitor')\n",
    ")\n",
    "score_predictions.drop(columns=['isHomeTeam_home', 'isHomeTeam_visitor'], inplace=True)"
   ]
  },
  {
   "cell_type": "code",
   "execution_count": 20,
   "id": "9df584b7",
   "metadata": {},
   "outputs": [],
   "source": [
    "# Calculate probability of home team win\n",
    "stdev = sqrt(prediction_stdev**2 + prediction_stdev**2)\n",
    "m1, std1 = 1, 2\n",
    "m2, std2 = 2, 3\n",
    "\n",
    "for i, row in score_predictions.iterrows():\n",
    "    m = row['predictedScore_home'] - row['predictedScore_visitor']\n",
    "    score_predictions.loc[i, 'homeWinProbability'] = norm.cdf(0, loc=m, scale=stdev)"
   ]
  },
  {
   "cell_type": "code",
   "execution_count": 22,
   "id": "22e869c2",
   "metadata": {},
   "outputs": [],
   "source": [
    "# Clean prediction results\n",
    "score_predictions_teams = score_predictions.merge(games[['gameId', 'homeTeam', 'visitorTeam']])\n",
    "\n",
    "prediction_results = score_predictions_teams.merge(\n",
    "    game_results_all[['Home', 'Visitor', 'Home Score', 'Visitor Score']],\n",
    "    left_on=['homeTeam', 'visitorTeam'],\n",
    "    right_on=['Home', 'Visitor']\n",
    ")\n",
    "\n",
    "prediction_results.drop(columns=['homeTeam', 'visitorTeam'], inplace=True)\n",
    "prediction_results['homeWin'] = prediction_results.apply(lambda row: int(row['Home Score'] > row['Visitor Score']), axis=1)\n",
    "prediction_results['predictionCorrect'] = prediction_results.apply(lambda row: int(int(row['predictedScore_home'] > row['predictedScore_visitor']) == row['homeWin']), axis=1)"
   ]
  },
  {
   "cell_type": "code",
   "execution_count": 55,
   "id": "0fa489be",
   "metadata": {},
   "outputs": [
    {
     "data": {
      "image/png": "[encoded data removed]",
      "text/plain": [
       "<Figure size 640x480 with 1 Axes>"
      ]
     },
     "metadata": {},
     "output_type": "display_data"
    }
   ],
   "source": [
    "plt.hist(abs(prediction_results[prediction_results['predictionCorrect'] == 1]['homeWinProbability']-0.5), alpha = 0.5)\n",
    "plt.hist(abs(prediction_results[prediction_results['predictionCorrect'] == 0]['homeWinProbability']-0.5), alpha = 0.5)\n",
    "plt.xlabel('Win probability difference from 0.5')\n",
    "plt.ylabel('Game count')\n",
    "plt.title('Correct/Incorrect Distribution Differences')\n",
    "\n",
    "labels= [\"Correct\",\"Incorrect\"]\n",
    "plt.legend(labels)\n",
    "\n",
    "plt.show()"
   ]
  },
  {
   "cell_type": "code",
   "execution_count": 61,
   "id": "86bfe037",
   "metadata": {},
   "outputs": [
    {
     "data": {
      "text/plain": [
       "0.04689736354515084"
      ]
     },
     "execution_count": 61,
     "metadata": {},
     "output_type": "execute_result"
    }
   ],
   "source": [
    "# Find p-value of F-test to find if variance in correct/incorrect distributions are statistically significant\n",
    "f = np.var(\n",
    "    prediction_results[prediction_results['predictionCorrect'] == 1]['homeWinProbability'],\n",
    "    ddof=1\n",
    ")/np.var(\n",
    "    prediction_results[prediction_results['predictionCorrect'] == 0]['homeWinProbability'],\n",
    "    ddof=1\n",
    ")\n",
    "size_correct = prediction_results[prediction_results['predictionCorrect'] == 1]['homeWinProbability'].size-1\n",
    "size_incorrect = prediction_results[prediction_results['predictionCorrect'] == 0]['homeWinProbability'].size-1\n",
    "p_value = 1-scipy.stats.f.cdf(f, size_correct, size_incorrect)\n",
    "p_value"
   ]
  },
  {
   "cell_type": "code",
   "execution_count": 75,
   "id": "5f2f7c55",
   "metadata": {},
   "outputs": [
    {
     "name": "stdout",
     "output_type": "stream",
     "text": [
      "0.4131483036547362\n",
      "0.44390155494676\n"
     ]
    }
   ],
   "source": [
    "stdev_correct = stdev(prediction_results[prediction_results['predictionCorrect'] == 1]['homeWinProbability'])\n",
    "stdev_incorrect = stdev(prediction_results[prediction_results['predictionCorrect'] == 0]['homeWinProbability'])\n",
    "print(f'Probabilityscipy.stats.norm(loc = 0 , scale = stdev_correct).cdf(0.1)-0.5)\n",
    "print(scipy.stats.norm(loc = 0 , scale = stdev_incorrect).cdf(0.1)-0.5)"
   ]
  },
  {
   "cell_type": "code",
   "execution_count": 25,
   "id": "d93ff3de",
   "metadata": {},
   "outputs": [
    {
     "data": {
      "image/png": "[encoded data removed]",
      "text/plain": [
       "<Figure size 640x480 with 1 Axes>"
      ]
     },
     "metadata": {},
     "output_type": "display_data"
    }
   ],
   "source": [
    "# Analyze prediction outcomes with pie chart\n",
    "pie_data = [sum(prediction_results['predictionCorrect']), len(prediction_results['predictionCorrect']) - sum(prediction_results['predictionCorrect'])]\n",
    "labels = [\"Prediction Correct\", \"Prediction Incorrect\"]\n",
    "plt.pie(pie_data, labels=labels, autopct='%1.1f%%')\n",
    "plt.title('Prediction Results of Model')\n",
    "plt.show()"
   ]
  },
  {
   "cell_type": "code",
   "execution_count": 26,
   "id": "8b55a07a",
   "metadata": {},
   "outputs": [],
   "source": [
    "pickle.dump(model,open('win-prediction-linear.pkl','wb'))"
   ]
  }
 ],
 "metadata": {
  "kernelspec": {
   "display_name": "Python 3 (ipykernel)",
   "language": "python",
   "name": "python3"
  },
  "language_info": {
   "codemirror_mode": {
    "name": "ipython",
    "version": 3
   },
   "file_extension": ".py",
   "mimetype": "text/x-python",
   "name": "python",
   "nbconvert_exporter": "python",
   "pygments_lexer": "ipython3",
   "version": "3.7.15"
  }
 },
 "nbformat": 4,
 "nbformat_minor": 5
}
