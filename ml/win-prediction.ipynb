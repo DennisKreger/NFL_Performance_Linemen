{
 "cells": [
  {
   "cell_type": "code",
   "execution_count": 1,
   "id": "220101d9",
   "metadata": {},
   "outputs": [],
   "source": [
    "# Import dependencies\n",
    "import pandas as pd\n",
    "from matplotlib import pyplot as plt\n",
    "from sklearn.linear_model import LinearRegression"
   ]
  },
  {
   "cell_type": "code",
   "execution_count": 24,
   "id": "d55799cb",
   "metadata": {},
   "outputs": [],
   "source": [
    "# Read data\n",
    "team_stats_2019 = pd.read_csv('https://storage.googleapis.com/big-data-bowl/2019-team-stats.csv', encoding='latin')\n",
    "team_stats_2020 = pd.read_csv('https://storage.googleapis.com/big-data-bowl/2020-team-stats.csv', encoding='latin')\n",
    "game_results_2020 = pd.read_csv('https://storage.googleapis.com/big-data-bowl/2020-game-results.csv', encoding='latin')\n",
    "game_results_2021 = pd.read_csv('https://storage.googleapis.com/big-data-bowl/2021-game-results.csv', encoding='latin')\n",
    "\n",
    "games = pd.read_csv('https://storage.googleapis.com/big-data-bowl/games.csv')"
   ]
  },
  {
   "cell_type": "code",
   "execution_count": 3,
   "id": "81246f7b",
   "metadata": {},
   "outputs": [],
   "source": [
    "# Define team abbreviations\n",
    "stats_team_abbr_dict = {\n",
    "    'TB': 'Tampa Bay Buccaneers',\n",
    "    'ATL': 'Atlanta Falcons',\n",
    "    'BUF': 'Buffalo Bills',\n",
    "    'CAR': 'Carolina Panthers',\n",
    "    'CIN': 'Cincinnati Bengals',\n",
    "    'DET': 'Detroit Lions',\n",
    "    'HOU': 'Houston Texans',\n",
    "    'IND': 'Indianapolis Colts',\n",
    "    'TEN': 'Tennessee Titans',\n",
    "    'WAS': 'Washington Redskins',\n",
    "    'KC': 'Kansas City Chiefs',\n",
    "    'NE': 'New England Patriots',\n",
    "    'NO': 'New Orleans Saints',\n",
    "    'NYG': 'New York Giants',\n",
    "    'LA': 'Los Angeles Rams',\n",
    "    'LV': 'Oakland Raiders',\n",
    "    'CHI': 'Chicago Bears',\n",
    "    'CLE': 'Cleveland Browns',\n",
    "    'JAX': 'Jacksonville Jaguars',\n",
    "    'MIA': 'Miami Dolphins',\n",
    "    'NYJ': 'New York Jets',\n",
    "    'PHI': 'Philadelphia Eagles',\n",
    "    'PIT': 'Pittsburgh Steelers',\n",
    "    'ARI': 'Arizona Cardinals',\n",
    "    'LAC': 'Los Angeles Chargers',\n",
    "    'SEA': 'Seattle Seahawks',\n",
    "    'BAL': 'Baltimore Ravens',\n",
    "    'GB': 'Green Bay Packers',\n",
    "    'DEN': 'Denver Broncos',\n",
    "    'MIN': 'Minnesota Vikings',\n",
    "    'SF': 'San Francisco 49ers',\n",
    "    'DAL': 'Dallas Cowboys'\n",
    "}\n"
   ]
  },
  {
   "cell_type": "code",
   "execution_count": 4,
   "id": "ad0ec09d",
   "metadata": {},
   "outputs": [],
   "source": [
    "# Clean team columns for matchup prediction DataFrame\n",
    "matchups = games.copy()\n",
    "games['homeTeam'] = games['homeTeamAbbr'].apply(lambda x: stats_team_abbr_dict[x])\n",
    "games['visitorTeam'] = games['visitorTeamAbbr'].apply(lambda x: stats_team_abbr_dict[x])\n",
    "\n",
    "matchups = games[['homeTeam', 'visitorTeam']]"
   ]
  },
  {
   "cell_type": "code",
   "execution_count": 5,
   "id": "8626b98a",
   "metadata": {
    "scrolled": false
   },
   "outputs": [],
   "source": [
    "# Create training data\n",
    "training_data = game_results_2020.merge(\n",
    "    team_stats_2019,\n",
    "    left_on=['Home'],\n",
    "    right_on=['Team']\n",
    ")\n",
    "\n",
    "training_data = training_data.merge(\n",
    "    team_stats_2019,\n",
    "    left_on=['Visitor'],\n",
    "    right_on=['Team'],\n",
    "    suffixes=('_home', '_visitor')\n",
    ")\n",
    "\n",
    "training_data.drop(['Visitor', 'Home', 'Team_visitor', 'Team_home'], axis=1, inplace=True)"
   ]
  },
  {
   "cell_type": "code",
   "execution_count": 13,
   "id": "7c9e6a66",
   "metadata": {},
   "outputs": [],
   "source": [
    "# Create prediction data\n",
    "prediction_data = games[['homeTeam', 'visitorTeam']].copy()\n",
    "\n",
    "prediction_data = prediction_data.merge(\n",
    "    team_stats_2020,\n",
    "    left_on=['homeTeam'],\n",
    "    right_on=['Team']\n",
    ")\n",
    "\n",
    "prediction_data = prediction_data.merge(\n",
    "    team_stats_2019,\n",
    "    left_on=['visitorTeam'],\n",
    "    right_on=['Team'],\n",
    "    suffixes=('_home', '_visitor')\n",
    ")\n",
    "\n",
    "prediction_data.drop(['visitorTeam', 'homeTeam'], axis=1, inplace=True)"
   ]
  },
  {
   "cell_type": "code",
   "execution_count": 7,
   "id": "c91d04fc",
   "metadata": {},
   "outputs": [
    {
     "name": "stdout",
     "output_type": "stream",
     "text": [
      "R2 Score: 0.14000259536850868\n"
     ]
    }
   ],
   "source": [
    "# Create home model\n",
    "X_home = training_data.drop(['Visitor Score', 'Home Score'], axis=1)\n",
    "y_home = training_data['Home Score']\n",
    "\n",
    "home_model = LinearRegression()\n",
    "home_model.fit(X_home, y_home)\n",
    "\n",
    "score = home_model.score(X_home, y_home)\n",
    "print(f\"R2 Score: {score}\")"
   ]
  },
  {
   "cell_type": "code",
   "execution_count": 8,
   "id": "632364f6",
   "metadata": {},
   "outputs": [
    {
     "name": "stdout",
     "output_type": "stream",
     "text": [
      "R2 Score: 0.1341448312461433\n"
     ]
    }
   ],
   "source": [
    "# Create visitor model\n",
    "X_visitor = training_data.drop(['Visitor Score', 'Home Score'], axis=1)\n",
    "y_visitor = training_data['Visitor Score']\n",
    "\n",
    "visitor_model = LinearRegression()\n",
    "visitor_model.fit(X_visitor, y_visitor)\n",
    "\n",
    "score = visitor_model.score(X_visitor, y_visitor)\n",
    "print(f\"R2 Score: {score}\")"
   ]
  },
  {
   "cell_type": "code",
   "execution_count": 25,
   "id": "c8dd73c5",
   "metadata": {},
   "outputs": [],
   "source": [
    "# Predict 2021 scores\n",
    "home_predictions = home_model.predict(prediction_data.drop(['Team_visitor', 'Team_home'], axis=1))\n",
    "visitor_predictions = visitor_model.predict(prediction_data.drop(['Team_visitor', 'Team_home'], axis=1))\n",
    "\n",
    "predicted_data = prediction_data.copy()\n",
    "\n",
    "predicted_data['predictedHomeScore'] = home_predictions\n",
    "predicted_data['predictedVisitorScore'] = visitor_predictions\n",
    "\n",
    "predicted_data['homeWin'] = predicted_data.apply(lambda r: r['predictedHomeScore'] - r['predictedVisitorScore'] > 1, axis=1)"
   ]
  },
  {
   "cell_type": "code",
   "execution_count": 28,
   "id": "1aad0a3c",
   "metadata": {},
   "outputs": [],
   "source": [
    "game_results_2021['homeWin'] = game_results_2021.apply(lambda r: r['Home Score'] - r['Visitor Score'] > 1, axis=1)"
   ]
  },
  {
   "cell_type": "code",
   "execution_count": 36,
   "id": "142bea5a",
   "metadata": {},
   "outputs": [
    {
     "data": {
      "text/plain": [
       "0.6635514018691588"
      ]
     },
     "execution_count": 36,
     "metadata": {},
     "output_type": "execute_result"
    }
   ],
   "source": [
    "prediction_results = predicted_data.merge(\n",
    "    game_results_2021,\n",
    "    left_on=['Team_home', 'Team_visitor'],\n",
    "    right_on=['Home', 'Visitor'],\n",
    "    suffixes=('_pred', '_actual')\n",
    ")\n",
    "\n",
    "prediction_results = prediction_results[['Visitor', 'Home', 'homeWin_pred', 'homeWin_actual']]\n",
    "prediction_results['correct'] = prediction_results.apply(lambda r: int(r['homeWin_pred'] == r['homeWin_actual']), axis=1)\n",
    "\n",
    "prediction_results['correct'].mean()"
   ]
  },
  {
   "cell_type": "code",
   "execution_count": null,
   "id": "35db0c77",
   "metadata": {},
   "outputs": [],
   "source": []
  }
 ],
 "metadata": {
  "kernelspec": {
   "display_name": "PythonData",
   "language": "python",
   "name": "pythondata"
  },
  "language_info": {
   "codemirror_mode": {
    "name": "ipython",
    "version": 3
   },
   "file_extension": ".py",
   "mimetype": "text/x-python",
   "name": "python",
   "nbconvert_exporter": "python",
   "pygments_lexer": "ipython3",
   "version": "3.7.13"
  }
 },
 "nbformat": 4,
 "nbformat_minor": 5
}
