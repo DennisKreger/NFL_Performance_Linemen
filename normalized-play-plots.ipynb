{
 "cells": [
  {
   "cell_type": "code",
   "execution_count": 1,
   "id": "08956626",
   "metadata": {},
   "outputs": [],
   "source": [
    "import pandas as pd\n",
    "import numpy as np\n",
    "from matplotlib import pyplot as plt\n",
    "from IPython.display import clear_output\n",
    "import time\n",
    "\n",
    "import warnings\n",
    "warnings.filterwarnings('ignore')"
   ]
  },
  {
   "cell_type": "code",
   "execution_count": 2,
   "id": "9138fcc8",
   "metadata": {},
   "outputs": [],
   "source": [
    "games = pd.read_csv('./Resources/games.csv')\n",
    "pff = pd.read_csv('./Resources/pffScoutingData.csv')\n",
    "players = pd.read_csv('./Resources/players.csv')\n",
    "plays = pd.read_csv('./Resources/plays.csv')\n",
    "\n",
    "week1 = pd.read_csv('./Resources/week1.csv')\n",
    "week2 = pd.read_csv('./Resources/week2.csv')\n",
    "week3 = pd.read_csv('./Resources/week3.csv')\n",
    "week4 = pd.read_csv('./Resources/week4.csv')\n",
    "week5 = pd.read_csv('./Resources/week5.csv')\n",
    "week6 = pd.read_csv('./Resources/week6.csv')\n",
    "week7 = pd.read_csv('./Resources/week7.csv')\n",
    "week8 = pd.read_csv('./Resources/week8.csv')\n",
    "\n",
    "tracking = week1.append([\n",
    "    week2,\n",
    "    week3,\n",
    "    week4,\n",
    "    week5,\n",
    "    week6,\n",
    "    week7,\n",
    "    week8,\n",
    "])"
   ]
  },
  {
   "cell_type": "code",
   "execution_count": 3,
   "id": "49a1817f",
   "metadata": {},
   "outputs": [],
   "source": [
    "football_tracking = tracking[tracking['nflId'].isna()]"
   ]
  },
  {
   "cell_type": "code",
   "execution_count": 4,
   "id": "9f2fa2c1",
   "metadata": {},
   "outputs": [],
   "source": [
    "player_tracking = tracking.loc[tracking['team'] != 'football'].copy()\n",
    "player_tracking = player_tracking.merge(players[['nflId', 'officialPosition']], on='nflId', how='left')\n",
    "\n",
    "player_tracking = player_tracking.merge(plays[['gameId', 'playId', 'possessionTeam']])\n",
    "player_tracking['possession'] = player_tracking['team'] == player_tracking['possessionTeam']\n",
    "player_tracking['possession'] = player_tracking['possession'].apply(lambda x: int(x))"
   ]
  },
  {
   "cell_type": "code",
   "execution_count": 5,
   "id": "ee9f7fcf",
   "metadata": {},
   "outputs": [],
   "source": [
    "positions = player_tracking[['gameId', 'playId', 'frameId', 'nflId', 'possession', 'o', 'x', 'y']].merge(\n",
    "    football_tracking[['gameId', 'playId', 'frameId', 'x', 'y']],\n",
    "    on=['gameId', 'playId', 'frameId'],\n",
    "    suffixes=('', '_fb')\n",
    ")"
   ]
  },
  {
   "cell_type": "code",
   "execution_count": 6,
   "id": "0079a008",
   "metadata": {},
   "outputs": [],
   "source": [
    "positions['x_rel'] = positions['x_fb'] - positions['x']\n",
    "positions['y_rel'] = positions['y_fb'] - positions['y']"
   ]
  },
  {
   "cell_type": "code",
   "execution_count": 89,
   "id": "987c0cc6",
   "metadata": {},
   "outputs": [],
   "source": [
    "def show_plot(gameId, playId, frameId):\n",
    "    \n",
    "    play_df = positions[\n",
    "        (positions['gameId'] == gameId) & \\\n",
    "        (positions['playId'] == playId)\n",
    "    ]\n",
    "    \n",
    "    fig = plt.figure(figsize=(10, 10))\n",
    "    ax = fig.add_subplot()\n",
    "    \n",
    "    frame = play_df[play_df['frameId'] == frameId]\n",
    "    \n",
    "    for i, r in frame.iterrows():\n",
    "        plt.scatter(\n",
    "            r['x_rel'],\n",
    "            r['y_rel'],\n",
    "            c='black',\n",
    "            marker=(2, 2, r['o']),\n",
    "            linestyle='None',\n",
    "            s=120\n",
    "        )\n",
    "        plt.scatter(\n",
    "            r['x_rel'],\n",
    "            r['y_rel'],\n",
    "            c='black',\n",
    "            marker=(3, 0, r['o']),\n",
    "            linestyle='None',\n",
    "            s=120\n",
    "        )\n",
    "\n",
    "    plt.scatter(\n",
    "        frame['x_rel'].append(pd.Series([0])),\n",
    "        frame['y_rel'].append(pd.Series([0])),\n",
    "        c=frame['possession'].append(pd.Series([2]))\n",
    "    )\n",
    "\n",
    "    plt.xlim(-10,10)\n",
    "    plt.ylim(-10,10)\n",
    "\n",
    "    ax.set_aspect('equal', adjustable='box')\n",
    "\n",
    "    plt.xlabel('')\n",
    "    plt.ylabel('')\n",
    "    \n",
    "    plt.xticks([])\n",
    "    plt.yticks([])\n",
    "    \n",
    "    ax = plt.gca()\n",
    "    ax.axes.xaxis.set_ticklabels([])\n",
    "    ax.axes.yaxis.set_ticklabels([])\n",
    "    \n",
    "    plt.title(f'gameId: {gameId} | playId: {playId} | frameId: {frameId}')\n",
    "    \n",
    "    time.sleep(0.1)\n",
    "    clear_output(wait=True)\n",
    "    plt.show()"
   ]
  },
  {
   "cell_type": "code",
   "execution_count": 92,
   "id": "1a00cdd5",
   "metadata": {},
   "outputs": [
    {
     "data": {
      "image/png": "[encoded data removed]",
      "text/plain": [
       "<Figure size 720x720 with 1 Axes>"
      ]
     },
     "metadata": {},
     "output_type": "display_data"
    }
   ],
   "source": [
    "gameId_test = positions['gameId'].loc[0]\n",
    "playId_test = positions['playId'].loc[0]\n",
    "\n",
    "for f in range(play_df['frameId'].max()-1):\n",
    "    show_plot(gameId_test, playId_test, f+1)\n",
    "show_plot(gameId_test, playId_test, 1)"
   ]
  },
  {
   "cell_type": "code",
   "execution_count": null,
   "id": "d8c92d08",
   "metadata": {},
   "outputs": [],
   "source": []
  }
 ],
 "metadata": {
  "kernelspec": {
   "display_name": "PythonData",
   "language": "python",
   "name": "pythondata"
  },
  "language_info": {
   "codemirror_mode": {
    "name": "ipython",
    "version": 3
   },
   "file_extension": ".py",
   "mimetype": "text/x-python",
   "name": "python",
   "nbconvert_exporter": "python",
   "pygments_lexer": "ipython3",
   "version": "3.7.13"
  }
 },
 "nbformat": 4,
 "nbformat_minor": 5
}
