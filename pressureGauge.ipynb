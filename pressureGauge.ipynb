{
 "cells": [
  {
   "cell_type": "code",
   "execution_count": 4,
   "metadata": {},
   "outputs": [],
   "source": [
    "import pandas as pd\n",
    "import numpy as np\n",
    "\n",
    "\n",
    "\n",
    "from scipy.spatial.distance import pdist, squareform\n",
    "\n",
    "\n",
    "\n",
    "\n",
    "\n",
    "\n",
    "\n",
    "pd.options.mode.chained_assignment = None \n",
    "pd.set_option('display.max_columns', None)\n",
    "\n",
    "import warnings \n",
    "warnings.filterwarnings(\"ignore\")\n",
    "\n",
    "from raceplotly.plots import barplot\n",
    "import matplotlib.pyplot as plt\n",
    "\n",
    "import bar_chart_race as bcr\n",
    "\n",
    "\n",
    "\n",
    "# Import Data\n",
    "games = pd.read_csv(\"E:\\\\coding\\\\NFL_Big_Data_Bowl_2023\\\\NFL_Performance_Linemen\\\\resources\\\\csv_files\\\\2023\\\\games.csv\")\n",
    "plays = pd.read_csv(\"E:\\\\coding\\\\NFL_Big_Data_Bowl_2023\\\\NFL_Performance_Linemen\\\\resources\\\\csv_files\\\\2023\\\\plays.csv\")\n",
    "players = pd.read_csv(\"E:\\\\coding\\\\NFL_Big_Data_Bowl_2023\\\\NFL_Performance_Linemen\\\\resources\\\\csv_files\\\\2023\\\\players.csv\")\n",
    "week1 = pd.read_csv(\"E:\\\\coding\\\\NFL_Big_Data_Bowl_2023\\\\NFL_Performance_Linemen\\\\resources\\\\csv_files\\\\2023\\\\week1.csv\", low_memory=False)\n",
    "week2 = pd.read_csv(\"E:\\\\coding\\\\NFL_Big_Data_Bowl_2023\\\\NFL_Performance_Linemen\\\\resources\\\\csv_files\\\\2023\\\\week2.csv\", low_memory=False)\n",
    "week3 = pd.read_csv(\"E:\\\\coding\\\\NFL_Big_Data_Bowl_2023\\\\NFL_Performance_Linemen\\\\resources\\\\csv_files\\\\2023\\\\week3.csv\", low_memory=False)\n",
    "week4 = pd.read_csv(\"E:\\\\coding\\\\NFL_Big_Data_Bowl_2023\\\\NFL_Performance_Linemen\\\\resources\\\\csv_files\\\\2023\\\\week4.csv\", low_memory=False)\n",
    "week5 = pd.read_csv(\"E:\\\\coding\\\\NFL_Big_Data_Bowl_2023\\\\NFL_Performance_Linemen\\\\resources\\\\csv_files\\\\2023\\\\week5.csv\", low_memory=False)\n",
    "week6 = pd.read_csv(\"E:\\\\coding\\\\NFL_Big_Data_Bowl_2023\\\\NFL_Performance_Linemen\\\\resources\\\\csv_files\\\\2023\\\\week6.csv\", low_memory=False)\n",
    "week7 = pd.read_csv(\"E:\\\\coding\\\\NFL_Big_Data_Bowl_2023\\\\NFL_Performance_Linemen\\\\resources\\\\csv_files\\\\2023\\\\week7.csv\", low_memory=False)\n",
    "week8 = pd.read_csv(\"E:\\\\coding\\\\NFL_Big_Data_Bowl_2023\\\\NFL_Performance_Linemen\\\\resources\\\\csv_files\\\\2023\\\\week8.csv\", low_memory=False)\n",
    "\n",
    "pffScoutingData = pd.read_csv(\"E:\\\\coding\\\\NFL_Big_Data_Bowl_2023\\\\NFL_Performance_Linemen\\\\resources\\\\csv_files\\\\2023\\\\pffScoutingData.csv\")\n",
    "\n",
    "tracking = week1.append([\n",
    "    week2,\n",
    "    week3,\n",
    "    week4,\n",
    "    week5,\n",
    "    week6,\n",
    "    week7,\n",
    "    week8,])\n",
    "\n",
    "# Merge Data\n",
    "\n",
    "joined_all = pd.merge(games,plays,how=\"inner\",on = \"gameId\")\n",
    "joined_all = pd.merge(joined_all,tracking,how=\"inner\",on=[\"gameId\",\"playId\"])\n",
    "# left join on players to keep football records\n",
    "joined_all = pd.merge(joined_all,players,how=\"left\",on = \"nflId\")\n",
    "joined_all = pd.merge(joined_all,pffScoutingData,how=\"left\",on=[\"gameId\",\"playId\",'nflId'])"
   ]
  },
  {
   "cell_type": "code",
   "execution_count": 8,
   "metadata": {},
   "outputs": [
    {
     "data": {
      "application/vnd.plotly.v1+json": {
       "config": {
        "plotlyServerURL": "https://plot.ly"
       },
       "data": [
        {
         "cliponaxis": false,
         "hoverinfo": "all",
         "marker": {
          "color": [
           "rgb(208, 172, 207)",
           "rgb(212, 161, 123)",
           "rgb(86, 84, 7)",
           "rgb(249, 229, 170)",
           "rgb(182, 76, 201)",
           "rgb(167, 110, 41)",
           "rgb(121, 154, 182)",
           "rgb(174, 62, 127)",
           "rgb(201, 58, 145)",
           "rgb(97, 6, 227)"
          ]
         },
         "orientation": "h",
         "textangle": 0,
         "textposition": "outside",
         "texttemplate": "%{y}<br>%{x:.4s}",
         "type": "bar",
         "x": [
          0.0565442111014553,
          0.06503412024090123,
          0.06944819560569952,
          0.07415849394202013,
          0.11943945306709003,
          0.13536150370009606,
          0.16904896430514654,
          0.17119071867977786,
          0.17741822405498506,
          0.17878591789963938
         ],
         "y": [
          "FS",
          "CB",
          "CB2",
          "CB1",
          "OLB3",
          "OLB2",
          "DE",
          "OLB1",
          "ILB",
          "OLB"
         ]
        }
       ],
       "frames": [
        {
         "data": [
          {
           "cliponaxis": false,
           "hoverinfo": "all",
           "hovertemplate": "<extra></extra>",
           "marker": {
            "color": [
             "rgb(208, 172, 207)",
             "rgb(212, 161, 123)",
             "rgb(86, 84, 7)",
             "rgb(249, 229, 170)",
             "rgb(182, 76, 201)",
             "rgb(167, 110, 41)",
             "rgb(121, 154, 182)",
             "rgb(174, 62, 127)",
             "rgb(201, 58, 145)",
             "rgb(97, 6, 227)"
            ]
           },
           "orientation": "h",
           "textangle": 0,
           "textposition": "outside",
           "texttemplate": "%{y}<br>%{x:.4s}",
           "type": "bar",
           "x": [
            0.0565442111014553,
            0.06503412024090123,
            0.06944819560569952,
            0.07415849394202013,
            0.11943945306709003,
            0.13536150370009606,
            0.16904896430514654,
            0.17119071867977786,
            0.17741822405498506,
            0.17878591789963938
           ],
           "y": [
            "FS",
            "CB",
            "CB2",
            "CB1",
            "OLB3",
            "OLB2",
            "DE",
            "OLB1",
            "ILB",
            "OLB"
           ]
          }
         ],
         "layout": {
          "bargap": 0.15,
          "font": {
           "size": 14
          },
          "plot_bgcolor": "#FFFFFF",
          "xaxis": {
           "range": [
            0,
            4.343722427630682
           ],
           "showline": true,
           "visible": true
          },
          "yaxis": {
           "showline": false,
           "visible": true
          }
         },
         "name": "1"
        },
        {
         "data": [
          {
           "cliponaxis": false,
           "hoverinfo": "all",
           "hovertemplate": "<extra></extra>",
           "marker": {
            "color": [
             "rgb(208, 172, 207)",
             "rgb(212, 161, 123)",
             "rgb(86, 84, 7)",
             "rgb(249, 229, 170)",
             "rgb(182, 76, 201)",
             "rgb(167, 110, 41)",
             "rgb(121, 154, 182)",
             "rgb(174, 62, 127)",
             "rgb(201, 58, 145)",
             "rgb(97, 6, 227)"
            ]
           },
           "orientation": "h",
           "textangle": 0,
           "textposition": "outside",
           "texttemplate": "%{y}<br>%{x:.4s}",
           "type": "bar",
           "x": [
            0.056575449647455124,
            0.06503412024090123,
            0.06938791578394772,
            0.07420840190149038,
            0.1195395122395123,
            0.13536150370009606,
            0.16904896430514654,
            0.17119071867977786,
            0.17741822405498506,
            0.17878591789963938
           ],
           "y": [
            "FS",
            "CB",
            "CB2",
            "CB1",
            "OLB3",
            "OLB2",
            "DE",
            "OLB1",
            "ILB",
            "OLB"
           ]
          }
         ],
         "layout": {
          "bargap": 0.15,
          "font": {
           "size": 14
          },
          "plot_bgcolor": "#FFFFFF",
          "xaxis": {
           "range": [
            0,
            4.343722427630682
           ],
           "showline": true,
           "visible": true
          },
          "yaxis": {
           "showline": false,
           "visible": true
          }
         },
         "name": "2"
        },
        {
         "data": [
          {
           "cliponaxis": false,
           "hoverinfo": "all",
           "hovertemplate": "<extra></extra>",
           "marker": {
            "color": [
             "rgb(208, 172, 207)",
             "rgb(212, 161, 123)",
             "rgb(86, 84, 7)",
             "rgb(249, 229, 170)",
             "rgb(182, 76, 201)",
             "rgb(167, 110, 41)",
             "rgb(121, 154, 182)",
             "rgb(174, 62, 127)",
             "rgb(201, 58, 145)",
             "rgb(97, 6, 227)"
            ]
           },
           "orientation": "h",
           "textangle": 0,
           "textposition": "outside",
           "texttemplate": "%{y}<br>%{x:.4s}",
           "type": "bar",
           "x": [
            0.056707678754448654,
            0.06498570918307307,
            0.06938046698153265,
            0.07428161890429097,
            0.11953746247243256,
            0.13562043286810782,
            0.16968906663999703,
            0.1711784284512265,
            0.17778852443116286,
            0.17872166122195846
           ],
           "y": [
            "FS",
            "CB",
            "CB2",
            "CB1",
            "OLB3",
            "OLB2",
            "DE",
            "OLB1",
            "ILB",
            "OLB"
           ]
          }
         ],
         "layout": {
          "bargap": 0.15,
          "font": {
           "size": 14
          },
          "plot_bgcolor": "#FFFFFF",
          "xaxis": {
           "range": [
            0,
            4.343722427630682
           ],
           "showline": true,
           "visible": true
          },
          "yaxis": {
           "showline": false,
           "visible": true
          }
         },
         "name": "3"
        },
        {
         "data": [
          {
           "cliponaxis": false,
           "hoverinfo": "all",
           "hovertemplate": "<extra></extra>",
           "marker": {
            "color": [
             "rgb(208, 172, 207)",
             "rgb(212, 161, 123)",
             "rgb(86, 84, 7)",
             "rgb(249, 229, 170)",
             "rgb(182, 76, 201)",
             "rgb(167, 110, 41)",
             "rgb(121, 154, 182)",
             "rgb(174, 62, 127)",
             "rgb(201, 58, 145)",
             "rgb(97, 6, 227)"
            ]
           },
           "orientation": "h",
           "textangle": 0,
           "textposition": "outside",
           "texttemplate": "%{y}<br>%{x:.4s}",
           "type": "bar",
           "x": [
            0.05675661405696128,
            0.0650950485200383,
            0.06935037887861678,
            0.07423160407911271,
            0.1195395122395123,
            0.13560122965705246,
            0.16954389193771374,
            0.17131477230710715,
            0.17803800014196727,
            0.17847328386857889
           ],
           "y": [
            "FS",
            "CB",
            "CB2",
            "CB1",
            "OLB3",
            "OLB2",
            "DE",
            "OLB1",
            "ILB",
            "OLB"
           ]
          }
         ],
         "layout": {
          "bargap": 0.15,
          "font": {
           "size": 14
          },
          "plot_bgcolor": "#FFFFFF",
          "xaxis": {
           "range": [
            0,
            4.343722427630682
           ],
           "showline": true,
           "visible": true
          },
          "yaxis": {
           "showline": false,
           "visible": true
          }
         },
         "name": "4"
        },
        {
         "data": [
          {
           "cliponaxis": false,
           "hoverinfo": "all",
           "hovertemplate": "<extra></extra>",
           "marker": {
            "color": [
             "rgb(208, 172, 207)",
             "rgb(212, 161, 123)",
             "rgb(86, 84, 7)",
             "rgb(249, 229, 170)",
             "rgb(182, 76, 201)",
             "rgb(167, 110, 41)",
             "rgb(121, 154, 182)",
             "rgb(174, 62, 127)",
             "rgb(201, 58, 145)",
             "rgb(97, 6, 227)"
            ]
           },
           "orientation": "h",
           "textangle": 0,
           "textposition": "outside",
           "texttemplate": "%{y}<br>%{x:.4s}",
           "type": "bar",
           "x": [
            0.05684408098989732,
            0.06511023835939042,
            0.06925280824359607,
            0.07420840190149038,
            0.11943945306709003,
            0.13548133195013037,
            0.16939860309812474,
            0.17105517106817894,
            0.17772758230952898,
            0.17816171866876918
           ],
           "y": [
            "FS",
            "CB",
            "CB2",
            "CB1",
            "OLB3",
            "OLB2",
            "DE",
            "OLB1",
            "ILB",
            "OLB"
           ]
          }
         ],
         "layout": {
          "bargap": 0.15,
          "font": {
           "size": 14
          },
          "plot_bgcolor": "#FFFFFF",
          "xaxis": {
           "range": [
            0,
            4.343722427630682
           ],
           "showline": true,
           "visible": true
          },
          "yaxis": {
           "showline": false,
           "visible": true
          }
         },
         "name": "5"
        },
        {
         "data": [
          {
           "cliponaxis": false,
           "hoverinfo": "all",
           "hovertemplate": "<extra></extra>",
           "marker": {
            "color": [
             "rgb(208, 172, 207)",
             "rgb(212, 161, 123)",
             "rgb(86, 84, 7)",
             "rgb(249, 229, 170)",
             "rgb(182, 76, 201)",
             "rgb(167, 110, 41)",
             "rgb(121, 154, 182)",
             "rgb(174, 62, 127)",
             "rgb(201, 58, 145)",
             "rgb(97, 6, 227)"
            ]
           },
           "orientation": "h",
           "textangle": 0,
           "textposition": "outside",
           "texttemplate": "%{y}<br>%{x:.4s}",
           "type": "bar",
           "x": [
            0.05708318630764995,
            0.0651802266838828,
            0.0693202965760106,
            0.07420840190149038,
            0.11943945306709003,
            0.13560122965705265,
            0.17039311247336764,
            0.1713147723071075,
            0.17772758230952898,
            0.17778796246635828
           ],
           "y": [
            "FS",
            "CB",
            "CB2",
            "CB1",
            "OLB3",
            "OLB2",
            "DE",
            "OLB1",
            "ILB",
            "OLB"
           ]
          }
         ],
         "layout": {
          "bargap": 0.15,
          "font": {
           "size": 14
          },
          "plot_bgcolor": "#FFFFFF",
          "xaxis": {
           "range": [
            0,
            4.343722427630682
           ],
           "showline": true,
           "visible": true
          },
          "yaxis": {
           "showline": false,
           "visible": true
          }
         },
         "name": "6"
        },
        {
         "data": [
          {
           "cliponaxis": false,
           "hoverinfo": "all",
           "hovertemplate": "<extra></extra>",
           "marker": {
            "color": [
             "rgb(208, 172, 207)",
             "rgb(212, 161, 123)",
             "rgb(86, 84, 7)",
             "rgb(249, 229, 170)",
             "rgb(182, 76, 201)",
             "rgb(167, 110, 41)",
             "rgb(121, 154, 182)",
             "rgb(174, 62, 127)",
             "rgb(97, 6, 227)",
             "rgb(201, 58, 145)"
            ]
           },
           "orientation": "h",
           "textangle": 0,
           "textposition": "outside",
           "texttemplate": "%{y}<br>%{x:.4s}",
           "type": "bar",
           "x": [
            0.05746996411414699,
            0.06521993110915186,
            0.06925280824359603,
            0.07418518063940954,
            0.11933947477233395,
            0.13570120052608053,
            0.17134721130979658,
            0.1714380882559858,
            0.17649535428644725,
            0.17741822405498506
           ],
           "y": [
            "FS",
            "CB",
            "CB2",
            "CB1",
            "OLB3",
            "OLB2",
            "DE",
            "OLB1",
            "OLB",
            "ILB"
           ]
          }
         ],
         "layout": {
          "bargap": 0.15,
          "font": {
           "size": 14
          },
          "plot_bgcolor": "#FFFFFF",
          "xaxis": {
           "range": [
            0,
            4.343722427630682
           ],
           "showline": true,
           "visible": true
          },
          "yaxis": {
           "showline": false,
           "visible": true
          }
         },
         "name": "7"
        },
        {
         "data": [
          {
           "cliponaxis": false,
           "hoverinfo": "all",
           "hovertemplate": "<extra></extra>",
           "marker": {
            "color": [
             "rgb(208, 172, 207)",
             "rgb(212, 161, 123)",
             "rgb(86, 84, 7)",
             "rgb(249, 229, 170)",
             "rgb(182, 76, 201)",
             "rgb(167, 110, 41)",
             "rgb(174, 62, 127)",
             "rgb(121, 154, 182)",
             "rgb(97, 6, 227)",
             "rgb(201, 58, 145)"
            ]
           },
           "orientation": "h",
           "textangle": 0,
           "textposition": "outside",
           "texttemplate": "%{y}<br>%{x:.4s}",
           "type": "bar",
           "x": [
            0.057984149798467076,
            0.06536985211985598,
            0.0692975400555194,
            0.07416194037380577,
            0.11923957758615014,
            0.1361588067230408,
            0.17208212314316965,
            0.1732220573504019,
            0.17384260056028517,
            0.17803800014196727
           ],
           "y": [
            "FS",
            "CB",
            "CB2",
            "CB1",
            "OLB3",
            "OLB2",
            "OLB1",
            "DE",
            "OLB",
            "ILB"
           ]
          }
         ],
         "layout": {
          "bargap": 0.15,
          "font": {
           "size": 14
          },
          "plot_bgcolor": "#FFFFFF",
          "xaxis": {
           "range": [
            0,
            4.343722427630682
           ],
           "showline": true,
           "visible": true
          },
          "yaxis": {
           "showline": false,
           "visible": true
          }
         },
         "name": "8"
        },
        {
         "data": [
          {
           "cliponaxis": false,
           "hoverinfo": "all",
           "hovertemplate": "<extra></extra>",
           "marker": {
            "color": [
             "rgb(208, 172, 207)",
             "rgb(212, 161, 123)",
             "rgb(86, 84, 7)",
             "rgb(249, 229, 170)",
             "rgb(182, 76, 201)",
             "rgb(167, 110, 41)",
             "rgb(97, 6, 227)",
             "rgb(174, 62, 127)",
             "rgb(121, 154, 182)",
             "rgb(201, 58, 145)"
            ]
           },
           "orientation": "h",
           "textangle": 0,
           "textposition": "outside",
           "texttemplate": "%{y}<br>%{x:.4s}",
           "type": "bar",
           "x": [
            0.05863147591080947,
            0.06557589940801858,
            0.0693493616073034,
            0.07406568247075652,
            0.11873964204140083,
            0.13735836104924254,
            0.16897944073638566,
            0.17378510064061267,
            0.1769598328892925,
            0.17960617109099586
           ],
           "y": [
            "FS",
            "CB",
            "CB2",
            "CB1",
            "OLB3",
            "OLB2",
            "OLB",
            "OLB1",
            "DE",
            "ILB"
           ]
          }
         ],
         "layout": {
          "bargap": 0.15,
          "font": {
           "size": 14
          },
          "plot_bgcolor": "#FFFFFF",
          "xaxis": {
           "range": [
            0,
            4.343722427630682
           ],
           "showline": true,
           "visible": true
          },
          "yaxis": {
           "showline": false,
           "visible": true
          }
         },
         "name": "9"
        },
        {
         "data": [
          {
           "cliponaxis": false,
           "hoverinfo": "all",
           "hovertemplate": "<extra></extra>",
           "marker": {
            "color": [
             "rgb(208, 172, 207)",
             "rgb(212, 161, 123)",
             "rgb(86, 84, 7)",
             "rgb(249, 229, 170)",
             "rgb(182, 76, 201)",
             "rgb(167, 110, 41)",
             "rgb(97, 6, 227)",
             "rgb(174, 62, 127)",
             "rgb(121, 154, 182)",
             "rgb(201, 58, 145)"
            ]
           },
           "orientation": "h",
           "textangle": 0,
           "textposition": "outside",
           "texttemplate": "%{y}<br>%{x:.4s}",
           "type": "bar",
           "x": [
            0.059385050929528935,
            0.06584875398595934,
            0.06933317467455939,
            0.07396959604571689,
            0.11785047547471277,
            0.13874590760889502,
            0.16276092544712534,
            0.1756027095664986,
            0.1814568276787126,
            0.1824981607699913
           ],
           "y": [
            "FS",
            "CB",
            "CB2",
            "CB1",
            "OLB3",
            "OLB2",
            "OLB",
            "OLB1",
            "DE",
            "ILB"
           ]
          }
         ],
         "layout": {
          "bargap": 0.15,
          "font": {
           "size": 14
          },
          "plot_bgcolor": "#FFFFFF",
          "xaxis": {
           "range": [
            0,
            4.343722427630682
           ],
           "showline": true,
           "visible": true
          },
          "yaxis": {
           "showline": false,
           "visible": true
          }
         },
         "name": "10"
        },
        {
         "data": [
          {
           "cliponaxis": false,
           "hoverinfo": "all",
           "hovertemplate": "<extra></extra>",
           "marker": {
            "color": [
             "rgb(208, 172, 207)",
             "rgb(212, 161, 123)",
             "rgb(86, 84, 7)",
             "rgb(249, 229, 170)",
             "rgb(182, 76, 201)",
             "rgb(167, 110, 41)",
             "rgb(97, 6, 227)",
             "rgb(174, 62, 127)",
             "rgb(121, 154, 182)",
             "rgb(201, 58, 145)"
            ]
           },
           "orientation": "h",
           "textangle": 0,
           "textposition": "outside",
           "texttemplate": "%{y}<br>%{x:.4s}",
           "type": "bar",
           "x": [
            0.06013678151188445,
            0.06624049204086567,
            0.06925576441751344,
            0.07380393379162682,
            0.11658805290980032,
            0.1407214595540664,
            0.15547155451046998,
            0.17797088207439235,
            0.1867583784185831,
            0.18730796144947634
           ],
           "y": [
            "FS",
            "CB",
            "CB2",
            "CB1",
            "OLB3",
            "OLB2",
            "OLB",
            "OLB1",
            "DE",
            "ILB"
           ]
          }
         ],
         "layout": {
          "bargap": 0.15,
          "font": {
           "size": 14
          },
          "plot_bgcolor": "#FFFFFF",
          "xaxis": {
           "range": [
            0,
            4.343722427630682
           ],
           "showline": true,
           "visible": true
          },
          "yaxis": {
           "showline": false,
           "visible": true
          }
         },
         "name": "11"
        },
        {
         "data": [
          {
           "cliponaxis": false,
           "hoverinfo": "all",
           "hovertemplate": "<extra></extra>",
           "marker": {
            "color": [
             "rgb(208, 172, 207)",
             "rgb(212, 161, 123)",
             "rgb(86, 84, 7)",
             "rgb(249, 229, 170)",
             "rgb(182, 76, 201)",
             "rgb(167, 110, 41)",
             "rgb(97, 6, 227)",
             "rgb(174, 62, 127)",
             "rgb(121, 154, 182)",
             "rgb(201, 58, 145)"
            ]
           },
           "orientation": "h",
           "textangle": 0,
           "textposition": "outside",
           "texttemplate": "%{y}<br>%{x:.4s}",
           "type": "bar",
           "x": [
            0.061010621061597534,
            0.06661097357024223,
            0.06920811322000675,
            0.07358941462378159,
            0.11497610441237852,
            0.14356321789841464,
            0.14807423104177952,
            0.18169659090018278,
            0.19304983331782968,
            0.19491103732297993
           ],
           "y": [
            "FS",
            "CB",
            "CB2",
            "CB1",
            "OLB3",
            "OLB2",
            "OLB",
            "OLB1",
            "DE",
            "ILB"
           ]
          }
         ],
         "layout": {
          "bargap": 0.15,
          "font": {
           "size": 14
          },
          "plot_bgcolor": "#FFFFFF",
          "xaxis": {
           "range": [
            0,
            4.343722427630682
           ],
           "showline": true,
           "visible": true
          },
          "yaxis": {
           "showline": false,
           "visible": true
          }
         },
         "name": "12"
        },
        {
         "data": [
          {
           "cliponaxis": false,
           "hoverinfo": "all",
           "hovertemplate": "<extra></extra>",
           "marker": {
            "color": [
             "rgb(208, 172, 207)",
             "rgb(212, 161, 123)",
             "rgb(86, 84, 7)",
             "rgb(249, 229, 170)",
             "rgb(182, 76, 201)",
             "rgb(97, 6, 227)",
             "rgb(167, 110, 41)",
             "rgb(174, 62, 127)",
             "rgb(121, 154, 182)",
             "rgb(201, 58, 145)"
            ]
           },
           "orientation": "h",
           "textangle": 0,
           "textposition": "outside",
           "texttemplate": "%{y}<br>%{x:.4s}",
           "type": "bar",
           "x": [
            0.061830729926252596,
            0.06702881109626478,
            0.06911112448112872,
            0.07333235003459217,
            0.11268458680142777,
            0.14018945668406613,
            0.14686552274659617,
            0.18489595665502537,
            0.20110305889480543,
            0.2030085488192367
           ],
           "y": [
            "FS",
            "CB",
            "CB2",
            "CB1",
            "OLB3",
            "OLB",
            "OLB2",
            "OLB1",
            "DE",
            "ILB"
           ]
          }
         ],
         "layout": {
          "bargap": 0.15,
          "font": {
           "size": 14
          },
          "plot_bgcolor": "#FFFFFF",
          "xaxis": {
           "range": [
            0,
            4.343722427630682
           ],
           "showline": true,
           "visible": true
          },
          "yaxis": {
           "showline": false,
           "visible": true
          }
         },
         "name": "13"
        },
        {
         "data": [
          {
           "cliponaxis": false,
           "hoverinfo": "all",
           "hovertemplate": "<extra></extra>",
           "marker": {
            "color": [
             "rgb(208, 172, 207)",
             "rgb(212, 161, 123)",
             "rgb(86, 84, 7)",
             "rgb(249, 229, 170)",
             "rgb(182, 76, 201)",
             "rgb(97, 6, 227)",
             "rgb(167, 110, 41)",
             "rgb(174, 62, 127)",
             "rgb(121, 154, 182)",
             "rgb(201, 58, 145)"
            ]
           },
           "orientation": "h",
           "textangle": 0,
           "textposition": "outside",
           "texttemplate": "%{y}<br>%{x:.4s}",
           "type": "bar",
           "x": [
            0.06247934374095312,
            0.06740508217929392,
            0.0688744273725891,
            0.0728359938718836,
            0.1097044675231912,
            0.1315674448311331,
            0.15019519284247382,
            0.1867583784185831,
            0.20825696836806135,
            0.21075295328865473
           ],
           "y": [
            "FS",
            "CB",
            "CB2",
            "CB1",
            "OLB3",
            "OLB",
            "OLB2",
            "OLB1",
            "DE",
            "ILB"
           ]
          }
         ],
         "layout": {
          "bargap": 0.15,
          "font": {
           "size": 14
          },
          "plot_bgcolor": "#FFFFFF",
          "xaxis": {
           "range": [
            0,
            4.343722427630682
           ],
           "showline": true,
           "visible": true
          },
          "yaxis": {
           "showline": false,
           "visible": true
          }
         },
         "name": "14"
        },
        {
         "data": [
          {
           "cliponaxis": false,
           "hoverinfo": "all",
           "hovertemplate": "<extra></extra>",
           "marker": {
            "color": [
             "rgb(208, 172, 207)",
             "rgb(212, 161, 123)",
             "rgb(86, 84, 7)",
             "rgb(249, 229, 170)",
             "rgb(182, 76, 201)",
             "rgb(97, 6, 227)",
             "rgb(167, 110, 41)",
             "rgb(174, 62, 127)",
             "rgb(121, 154, 182)",
             "rgb(201, 58, 145)"
            ]
           },
           "orientation": "h",
           "textangle": 0,
           "textposition": "outside",
           "texttemplate": "%{y}<br>%{x:.4s}",
           "type": "bar",
           "x": [
            0.06275684810908361,
            0.0674788719193606,
            0.06832880910999845,
            0.07218049513226843,
            0.10581589945436116,
            0.12256521898442042,
            0.1530993287105195,
            0.18608008757067931,
            0.21267162879790302,
            0.2162815687171366
           ],
           "y": [
            "FS",
            "CB",
            "CB2",
            "CB1",
            "OLB3",
            "OLB",
            "OLB2",
            "OLB1",
            "DE",
            "ILB"
           ]
          }
         ],
         "layout": {
          "bargap": 0.15,
          "font": {
           "size": 14
          },
          "plot_bgcolor": "#FFFFFF",
          "xaxis": {
           "range": [
            0,
            4.343722427630682
           ],
           "showline": true,
           "visible": true
          },
          "yaxis": {
           "showline": false,
           "visible": true
          }
         },
         "name": "15"
        },
        {
         "data": [
          {
           "cliponaxis": false,
           "hoverinfo": "all",
           "hovertemplate": "<extra></extra>",
           "marker": {
            "color": [
             "rgb(208, 172, 207)",
             "rgb(212, 161, 123)",
             "rgb(86, 84, 7)",
             "rgb(249, 229, 170)",
             "rgb(182, 76, 201)",
             "rgb(97, 6, 227)",
             "rgb(167, 110, 41)",
             "rgb(174, 62, 127)",
             "rgb(121, 154, 182)",
             "rgb(201, 58, 145)"
            ]
           },
           "orientation": "h",
           "textangle": 0,
           "textposition": "outside",
           "texttemplate": "%{y}<br>%{x:.4s}",
           "type": "bar",
           "x": [
            0.06273080100115797,
            0.06741157564485536,
            0.06746101194985471,
            0.07135992052742555,
            0.10148179695254551,
            0.11362836708663741,
            0.15551629360747082,
            0.18351342543178203,
            0.21509753846613988,
            0.21849639051041037
           ],
           "y": [
            "FS",
            "CB",
            "CB2",
            "CB1",
            "OLB3",
            "OLB",
            "OLB2",
            "OLB1",
            "DE",
            "ILB"
           ]
          }
         ],
         "layout": {
          "bargap": 0.15,
          "font": {
           "size": 14
          },
          "plot_bgcolor": "#FFFFFF",
          "xaxis": {
           "range": [
            0,
            4.343722427630682
           ],
           "showline": true,
           "visible": true
          },
          "yaxis": {
           "showline": false,
           "visible": true
          }
         },
         "name": "16"
        },
        {
         "data": [
          {
           "cliponaxis": false,
           "hoverinfo": "all",
           "hovertemplate": "<extra></extra>",
           "marker": {
            "color": [
             "rgb(208, 172, 207)",
             "rgb(86, 84, 7)",
             "rgb(212, 161, 123)",
             "rgb(249, 229, 170)",
             "rgb(182, 76, 201)",
             "rgb(97, 6, 227)",
             "rgb(167, 110, 41)",
             "rgb(174, 62, 127)",
             "rgb(121, 154, 182)",
             "rgb(201, 58, 145)"
            ]
           },
           "orientation": "h",
           "textangle": 0,
           "textposition": "outside",
           "texttemplate": "%{y}<br>%{x:.4s}",
           "type": "bar",
           "x": [
            0.06242630243219974,
            0.06633035469781527,
            0.06706426964770738,
            0.07040729544795446,
            0.09694470287984322,
            0.10551476423538243,
            0.15789534917982678,
            0.17900060844200225,
            0.21546020545480551,
            0.21808811449437127
           ],
           "y": [
            "FS",
            "CB2",
            "CB",
            "CB1",
            "OLB3",
            "OLB",
            "OLB2",
            "OLB1",
            "DE",
            "ILB"
           ]
          }
         ],
         "layout": {
          "bargap": 0.15,
          "font": {
           "size": 14
          },
          "plot_bgcolor": "#FFFFFF",
          "xaxis": {
           "range": [
            0,
            4.343722427630682
           ],
           "showline": true,
           "visible": true
          },
          "yaxis": {
           "showline": false,
           "visible": true
          }
         },
         "name": "17"
        },
        {
         "data": [
          {
           "cliponaxis": false,
           "hoverinfo": "all",
           "hovertemplate": "<extra></extra>",
           "marker": {
            "color": [
             "rgb(208, 172, 207)",
             "rgb(86, 84, 7)",
             "rgb(212, 161, 123)",
             "rgb(249, 229, 170)",
             "rgb(182, 76, 201)",
             "rgb(97, 6, 227)",
             "rgb(167, 110, 41)",
             "rgb(174, 62, 127)",
             "rgb(121, 154, 182)",
             "rgb(201, 58, 145)"
            ]
           },
           "orientation": "h",
           "textangle": 0,
           "textposition": "outside",
           "texttemplate": "%{y}<br>%{x:.4s}",
           "type": "bar",
           "x": [
            0.06189237568690755,
            0.06500613743790544,
            0.06639940833397545,
            0.06921633564839857,
            0.09269938874660269,
            0.09848126260907056,
            0.16006209052411913,
            0.1741777049176506,
            0.21480604359978342,
            0.2152310181681272
           ],
           "y": [
            "FS",
            "CB2",
            "CB",
            "CB1",
            "OLB3",
            "OLB",
            "OLB2",
            "OLB1",
            "DE",
            "ILB"
           ]
          }
         ],
         "layout": {
          "bargap": 0.15,
          "font": {
           "size": 14
          },
          "plot_bgcolor": "#FFFFFF",
          "xaxis": {
           "range": [
            0,
            4.343722427630682
           ],
           "showline": true,
           "visible": true
          },
          "yaxis": {
           "showline": false,
           "visible": true
          }
         },
         "name": "18"
        },
        {
         "data": [
          {
           "cliponaxis": false,
           "hoverinfo": "all",
           "hovertemplate": "<extra></extra>",
           "marker": {
            "color": [
             "rgb(208, 172, 207)",
             "rgb(86, 84, 7)",
             "rgb(212, 161, 123)",
             "rgb(249, 229, 170)",
             "rgb(182, 76, 201)",
             "rgb(97, 6, 227)",
             "rgb(167, 110, 41)",
             "rgb(174, 62, 127)",
             "rgb(201, 58, 145)",
             "rgb(121, 154, 182)"
            ]
           },
           "orientation": "h",
           "textangle": 0,
           "textposition": "outside",
           "texttemplate": "%{y}<br>%{x:.4s}",
           "type": "bar",
           "x": [
            0.0611604322524959,
            0.06346638151381416,
            0.06537733970741348,
            0.0679431083119322,
            0.08869358384353498,
            0.09229169501071638,
            0.16237596549581623,
            0.16851526079056361,
            0.21043912694455355,
            0.21315373082528555
           ],
           "y": [
            "FS",
            "CB2",
            "CB",
            "CB1",
            "OLB3",
            "OLB",
            "OLB2",
            "OLB1",
            "ILB",
            "DE"
           ]
          }
         ],
         "layout": {
          "bargap": 0.15,
          "font": {
           "size": 14
          },
          "plot_bgcolor": "#FFFFFF",
          "xaxis": {
           "range": [
            0,
            4.343722427630682
           ],
           "showline": true,
           "visible": true
          },
          "yaxis": {
           "showline": false,
           "visible": true
          }
         },
         "name": "19"
        },
        {
         "data": [
          {
           "cliponaxis": false,
           "hoverinfo": "all",
           "hovertemplate": "<extra></extra>",
           "marker": {
            "color": [
             "rgb(208, 172, 207)",
             "rgb(86, 84, 7)",
             "rgb(212, 161, 123)",
             "rgb(249, 229, 170)",
             "rgb(182, 76, 201)",
             "rgb(97, 6, 227)",
             "rgb(174, 62, 127)",
             "rgb(167, 110, 41)",
             "rgb(201, 58, 145)",
             "rgb(121, 154, 182)"
            ]
           },
           "orientation": "h",
           "textangle": 0,
           "textposition": "outside",
           "texttemplate": "%{y}<br>%{x:.4s}",
           "type": "bar",
           "x": [
            0.060327282502008375,
            0.06185284343554493,
            0.06411994281463398,
            0.06655736568595548,
            0.08504492951709837,
            0.08712593144530537,
            0.16356363048987999,
            0.1645052831678922,
            0.20488878274742067,
            0.21179739409266413
           ],
           "y": [
            "FS",
            "CB2",
            "CB",
            "CB1",
            "OLB3",
            "OLB",
            "OLB1",
            "OLB2",
            "ILB",
            "DE"
           ]
          }
         ],
         "layout": {
          "bargap": 0.15,
          "font": {
           "size": 14
          },
          "plot_bgcolor": "#FFFFFF",
          "xaxis": {
           "range": [
            0,
            4.343722427630682
           ],
           "showline": true,
           "visible": true
          },
          "yaxis": {
           "showline": false,
           "visible": true
          }
         },
         "name": "20"
        },
        {
         "data": [
          {
           "cliponaxis": false,
           "hoverinfo": "all",
           "hovertemplate": "<extra></extra>",
           "marker": {
            "color": [
             "rgb(208, 172, 207)",
             "rgb(86, 84, 7)",
             "rgb(212, 161, 123)",
             "rgb(249, 229, 170)",
             "rgb(182, 76, 201)",
             "rgb(97, 6, 227)",
             "rgb(174, 62, 127)",
             "rgb(167, 110, 41)",
             "rgb(201, 58, 145)",
             "rgb(121, 154, 182)"
            ]
           },
           "orientation": "h",
           "textangle": 0,
           "textposition": "outside",
           "texttemplate": "%{y}<br>%{x:.4s}",
           "type": "bar",
           "x": [
            0.05948213773049222,
            0.06017858133002137,
            0.06262153276750008,
            0.06516644065635656,
            0.08198153524671052,
            0.08282221790521756,
            0.1592330444281217,
            0.1669316491228677,
            0.19885785868178957,
            0.2098188901110739
           ],
           "y": [
            "FS",
            "CB2",
            "CB",
            "CB1",
            "OLB3",
            "OLB",
            "OLB1",
            "OLB2",
            "ILB",
            "DE"
           ]
          }
         ],
         "layout": {
          "bargap": 0.15,
          "font": {
           "size": 14
          },
          "plot_bgcolor": "#FFFFFF",
          "xaxis": {
           "range": [
            0,
            4.343722427630682
           ],
           "showline": true,
           "visible": true
          },
          "yaxis": {
           "showline": false,
           "visible": true
          }
         },
         "name": "21"
        },
        {
         "data": [
          {
           "cliponaxis": false,
           "hoverinfo": "all",
           "hovertemplate": "<extra></extra>",
           "marker": {
            "color": [
             "rgb(86, 84, 7)",
             "rgb(208, 172, 207)",
             "rgb(212, 161, 123)",
             "rgb(249, 229, 170)",
             "rgb(97, 6, 227)",
             "rgb(182, 76, 201)",
             "rgb(174, 62, 127)",
             "rgb(167, 110, 41)",
             "rgb(201, 58, 145)",
             "rgb(121, 154, 182)"
            ]
           },
           "orientation": "h",
           "textangle": 0,
           "textposition": "outside",
           "texttemplate": "%{y}<br>%{x:.4s}",
           "type": "bar",
           "x": [
            0.05856104885820396,
            0.058623203849876564,
            0.06096925156775158,
            0.06367317921905125,
            0.07925619934410294,
            0.07927004323921993,
            0.15579253660422027,
            0.1698010689241864,
            0.1923258303992116,
            0.20851214763300527
           ],
           "y": [
            "CB2",
            "FS",
            "CB",
            "CB1",
            "OLB",
            "OLB3",
            "OLB1",
            "OLB2",
            "ILB",
            "DE"
           ]
          }
         ],
         "layout": {
          "bargap": 0.15,
          "font": {
           "size": 14
          },
          "plot_bgcolor": "#FFFFFF",
          "xaxis": {
           "range": [
            0,
            4.343722427630682
           ],
           "showline": true,
           "visible": true
          },
          "yaxis": {
           "showline": false,
           "visible": true
          }
         },
         "name": "22"
        },
        {
         "data": [
          {
           "cliponaxis": false,
           "hoverinfo": "all",
           "hovertemplate": "<extra></extra>",
           "marker": {
            "color": [
             "rgb(86, 84, 7)",
             "rgb(208, 172, 207)",
             "rgb(212, 161, 123)",
             "rgb(249, 229, 170)",
             "rgb(97, 6, 227)",
             "rgb(182, 76, 201)",
             "rgb(174, 62, 127)",
             "rgb(167, 110, 41)",
             "rgb(201, 58, 145)",
             "rgb(121, 154, 182)"
            ]
           },
           "orientation": "h",
           "textangle": 0,
           "textposition": "outside",
           "texttemplate": "%{y}<br>%{x:.4s}",
           "type": "bar",
           "x": [
            0.05705330947604764,
            0.05789307849376637,
            0.059312147944291516,
            0.062148183479937606,
            0.07647347655280227,
            0.07727647607105734,
            0.15399201418121153,
            0.17272496807768145,
            0.18670075718839366,
            0.20822400827876802
           ],
           "y": [
            "CB2",
            "FS",
            "CB",
            "CB1",
            "OLB",
            "OLB3",
            "OLB1",
            "OLB2",
            "ILB",
            "DE"
           ]
          }
         ],
         "layout": {
          "bargap": 0.15,
          "font": {
           "size": 14
          },
          "plot_bgcolor": "#FFFFFF",
          "xaxis": {
           "range": [
            0,
            4.343722427630682
           ],
           "showline": true,
           "visible": true
          },
          "yaxis": {
           "showline": false,
           "visible": true
          }
         },
         "name": "23"
        },
        {
         "data": [
          {
           "cliponaxis": false,
           "hoverinfo": "all",
           "hovertemplate": "<extra></extra>",
           "marker": {
            "color": [
             "rgb(86, 84, 7)",
             "rgb(208, 172, 207)",
             "rgb(212, 161, 123)",
             "rgb(249, 229, 170)",
             "rgb(97, 6, 227)",
             "rgb(182, 76, 201)",
             "rgb(174, 62, 127)",
             "rgb(167, 110, 41)",
             "rgb(201, 58, 145)",
             "rgb(121, 154, 182)"
            ]
           },
           "orientation": "h",
           "textangle": 0,
           "textposition": "outside",
           "texttemplate": "%{y}<br>%{x:.4s}",
           "type": "bar",
           "x": [
            0.05568397442081078,
            0.057220027765859265,
            0.05769806391610605,
            0.06055914405283615,
            0.07423029518345263,
            0.07560177293135362,
            0.15320404248171607,
            0.1765330272199944,
            0.1819755609766026,
            0.20923203700742615
           ],
           "y": [
            "CB2",
            "FS",
            "CB",
            "CB1",
            "OLB",
            "OLB3",
            "OLB1",
            "OLB2",
            "ILB",
            "DE"
           ]
          }
         ],
         "layout": {
          "bargap": 0.15,
          "font": {
           "size": 14
          },
          "plot_bgcolor": "#FFFFFF",
          "xaxis": {
           "range": [
            0,
            4.343722427630682
           ],
           "showline": true,
           "visible": true
          },
          "yaxis": {
           "showline": false,
           "visible": true
          }
         },
         "name": "24"
        },
        {
         "data": [
          {
           "cliponaxis": false,
           "hoverinfo": "all",
           "hovertemplate": "<extra></extra>",
           "marker": {
            "color": [
             "rgb(86, 84, 7)",
             "rgb(212, 161, 123)",
             "rgb(208, 172, 207)",
             "rgb(249, 229, 170)",
             "rgb(97, 6, 227)",
             "rgb(182, 76, 201)",
             "rgb(174, 62, 127)",
             "rgb(201, 58, 145)",
             "rgb(167, 110, 41)",
             "rgb(121, 154, 182)"
            ]
           },
           "orientation": "h",
           "textangle": 0,
           "textposition": "outside",
           "texttemplate": "%{y}<br>%{x:.4s}",
           "type": "bar",
           "x": [
            0.054578607812667705,
            0.05623295586997792,
            0.056667183914489376,
            0.05898641598681466,
            0.07256578782724422,
            0.07452721540982385,
            0.15472796087232973,
            0.17779470639574793,
            0.1802249457701416,
            0.2103143604687785
           ],
           "y": [
            "CB2",
            "CB",
            "FS",
            "CB1",
            "OLB",
            "OLB3",
            "OLB1",
            "ILB",
            "OLB2",
            "DE"
           ]
          }
         ],
         "layout": {
          "bargap": 0.15,
          "font": {
           "size": 14
          },
          "plot_bgcolor": "#FFFFFF",
          "xaxis": {
           "range": [
            0,
            4.343722427630682
           ],
           "showline": true,
           "visible": true
          },
          "yaxis": {
           "showline": false,
           "visible": true
          }
         },
         "name": "25"
        },
        {
         "data": [
          {
           "cliponaxis": false,
           "hoverinfo": "all",
           "hovertemplate": "<extra></extra>",
           "marker": {
            "color": [
             "rgb(86, 84, 7)",
             "rgb(212, 161, 123)",
             "rgb(208, 172, 207)",
             "rgb(249, 229, 170)",
             "rgb(97, 6, 227)",
             "rgb(182, 76, 201)",
             "rgb(174, 62, 127)",
             "rgb(201, 58, 145)",
             "rgb(167, 110, 41)",
             "rgb(121, 154, 182)"
            ]
           },
           "orientation": "h",
           "textangle": 0,
           "textposition": "outside",
           "texttemplate": "%{y}<br>%{x:.4s}",
           "type": "bar",
           "x": [
            0.053657142283856804,
            0.05489660013238597,
            0.056323978535588425,
            0.05750123260603947,
            0.07139579516851044,
            0.0738069490630326,
            0.15780449497672167,
            0.17522300366447988,
            0.18496679196229937,
            0.21296851365499497
           ],
           "y": [
            "CB2",
            "CB",
            "FS",
            "CB1",
            "OLB",
            "OLB3",
            "OLB1",
            "ILB",
            "OLB2",
            "DE"
           ]
          }
         ],
         "layout": {
          "bargap": 0.15,
          "font": {
           "size": 14
          },
          "plot_bgcolor": "#FFFFFF",
          "xaxis": {
           "range": [
            0,
            4.343722427630682
           ],
           "showline": true,
           "visible": true
          },
          "yaxis": {
           "showline": false,
           "visible": true
          }
         },
         "name": "26"
        },
        {
         "data": [
          {
           "cliponaxis": false,
           "hoverinfo": "all",
           "hovertemplate": "<extra></extra>",
           "marker": {
            "color": [
             "rgb(86, 84, 7)",
             "rgb(212, 161, 123)",
             "rgb(249, 229, 170)",
             "rgb(208, 172, 207)",
             "rgb(97, 6, 227)",
             "rgb(182, 76, 201)",
             "rgb(174, 62, 127)",
             "rgb(201, 58, 145)",
             "rgb(167, 110, 41)",
             "rgb(121, 154, 182)"
            ]
           },
           "orientation": "h",
           "textangle": 0,
           "textposition": "outside",
           "texttemplate": "%{y}<br>%{x:.4s}",
           "type": "bar",
           "x": [
            0.05295585185596574,
            0.05366286682031163,
            0.05599886301062803,
            0.056080416316768,
            0.07048637729618058,
            0.07334737956050573,
            0.1628029810019709,
            0.17306011709311014,
            0.18981244786964946,
            0.21522304225479594
           ],
           "y": [
            "CB2",
            "CB",
            "CB1",
            "FS",
            "OLB",
            "OLB3",
            "OLB1",
            "ILB",
            "OLB2",
            "DE"
           ]
          }
         ],
         "layout": {
          "bargap": 0.15,
          "font": {
           "size": 14
          },
          "plot_bgcolor": "#FFFFFF",
          "xaxis": {
           "range": [
            0,
            4.343722427630682
           ],
           "showline": true,
           "visible": true
          },
          "yaxis": {
           "showline": false,
           "visible": true
          }
         },
         "name": "27"
        },
        {
         "data": [
          {
           "cliponaxis": false,
           "hoverinfo": "all",
           "hovertemplate": "<extra></extra>",
           "marker": {
            "color": [
             "rgb(86, 84, 7)",
             "rgb(212, 161, 123)",
             "rgb(249, 229, 170)",
             "rgb(208, 172, 207)",
             "rgb(97, 6, 227)",
             "rgb(182, 76, 201)",
             "rgb(174, 62, 127)",
             "rgb(201, 58, 145)",
             "rgb(167, 110, 41)",
             "rgb(121, 154, 182)"
            ]
           },
           "orientation": "h",
           "textangle": 0,
           "textposition": "outside",
           "texttemplate": "%{y}<br>%{x:.4s}",
           "type": "bar",
           "x": [
            0.05245015510965034,
            0.05251468566826352,
            0.05446793566373398,
            0.0559427537561313,
            0.06982858847436468,
            0.07315891886653302,
            0.16986254424242914,
            0.1712444254157647,
            0.19449033366949256,
            0.2173974688247003
           ],
           "y": [
            "CB2",
            "CB",
            "CB1",
            "FS",
            "OLB",
            "OLB3",
            "OLB1",
            "ILB",
            "OLB2",
            "DE"
           ]
          }
         ],
         "layout": {
          "bargap": 0.15,
          "font": {
           "size": 14
          },
          "plot_bgcolor": "#FFFFFF",
          "xaxis": {
           "range": [
            0,
            4.343722427630682
           ],
           "showline": true,
           "visible": true
          },
          "yaxis": {
           "showline": false,
           "visible": true
          }
         },
         "name": "28"
        },
        {
         "data": [
          {
           "cliponaxis": false,
           "hoverinfo": "all",
           "hovertemplate": "<extra></extra>",
           "marker": {
            "color": [
             "rgb(212, 161, 123)",
             "rgb(86, 84, 7)",
             "rgb(249, 229, 170)",
             "rgb(208, 172, 207)",
             "rgb(97, 6, 227)",
             "rgb(182, 76, 201)",
             "rgb(201, 58, 145)",
             "rgb(174, 62, 127)",
             "rgb(167, 110, 41)",
             "rgb(121, 154, 182)"
            ]
           },
           "orientation": "h",
           "textangle": 0,
           "textposition": "outside",
           "texttemplate": "%{y}<br>%{x:.4s}",
           "type": "bar",
           "x": [
            0.05144824622803449,
            0.052095000336065546,
            0.052971741643865575,
            0.0559695950075553,
            0.0693475773214858,
            0.07308174657732161,
            0.16962387490804925,
            0.17991752671666808,
            0.19850923506045987,
            0.2197192025110904
           ],
           "y": [
            "CB",
            "CB2",
            "CB1",
            "FS",
            "OLB",
            "OLB3",
            "ILB",
            "OLB1",
            "OLB2",
            "DE"
           ]
          }
         ],
         "layout": {
          "bargap": 0.15,
          "font": {
           "size": 14
          },
          "plot_bgcolor": "#FFFFFF",
          "xaxis": {
           "range": [
            0,
            4.343722427630682
           ],
           "showline": true,
           "visible": true
          },
          "yaxis": {
           "showline": false,
           "visible": true
          }
         },
         "name": "29"
        },
        {
         "data": [
          {
           "cliponaxis": false,
           "hoverinfo": "all",
           "hovertemplate": "<extra></extra>",
           "marker": {
            "color": [
             "rgb(212, 161, 123)",
             "rgb(249, 229, 170)",
             "rgb(86, 84, 7)",
             "rgb(208, 172, 207)",
             "rgb(97, 6, 227)",
             "rgb(182, 76, 201)",
             "rgb(201, 58, 145)",
             "rgb(174, 62, 127)",
             "rgb(167, 110, 41)",
             "rgb(121, 154, 182)"
            ]
           },
           "orientation": "h",
           "textangle": 0,
           "textposition": "outside",
           "texttemplate": "%{y}<br>%{x:.4s}",
           "type": "bar",
           "x": [
            0.05044085658750395,
            0.051489551496367386,
            0.0518190851119358,
            0.05604394258623756,
            0.06896545163812715,
            0.0730806536908668,
            0.16784478231477282,
            0.1922860044659199,
            0.2028017946253571,
            0.2220698413772098
           ],
           "y": [
            "CB",
            "CB1",
            "CB2",
            "FS",
            "OLB",
            "OLB3",
            "ILB",
            "OLB1",
            "OLB2",
            "DE"
           ]
          }
         ],
         "layout": {
          "bargap": 0.15,
          "font": {
           "size": 14
          },
          "plot_bgcolor": "#FFFFFF",
          "xaxis": {
           "range": [
            0,
            4.343722427630682
           ],
           "showline": true,
           "visible": true
          },
          "yaxis": {
           "showline": false,
           "visible": true
          }
         },
         "name": "30"
        },
        {
         "data": [
          {
           "cliponaxis": false,
           "hoverinfo": "all",
           "hovertemplate": "<extra></extra>",
           "marker": {
            "color": [
             "rgb(212, 161, 123)",
             "rgb(249, 229, 170)",
             "rgb(86, 84, 7)",
             "rgb(208, 172, 207)",
             "rgb(97, 6, 227)",
             "rgb(182, 76, 201)",
             "rgb(201, 58, 145)",
             "rgb(167, 110, 41)",
             "rgb(174, 62, 127)",
             "rgb(121, 154, 182)"
            ]
           },
           "orientation": "h",
           "textangle": 0,
           "textposition": "outside",
           "texttemplate": "%{y}<br>%{x:.4s}",
           "type": "bar",
           "x": [
            0.049505375133702796,
            0.0500628621008968,
            0.05167014825396477,
            0.056245131381676534,
            0.06875852309346796,
            0.07322893284894846,
            0.1664972494111549,
            0.20668481439009032,
            0.20927922578000135,
            0.2245134173564219
           ],
           "y": [
            "CB",
            "CB1",
            "CB2",
            "FS",
            "OLB",
            "OLB3",
            "ILB",
            "OLB2",
            "OLB1",
            "DE"
           ]
          }
         ],
         "layout": {
          "bargap": 0.15,
          "font": {
           "size": 14
          },
          "plot_bgcolor": "#FFFFFF",
          "xaxis": {
           "range": [
            0,
            4.343722427630682
           ],
           "showline": true,
           "visible": true
          },
          "yaxis": {
           "showline": false,
           "visible": true
          }
         },
         "name": "31"
        },
        {
         "data": [
          {
           "cliponaxis": false,
           "hoverinfo": "all",
           "hovertemplate": "<extra></extra>",
           "marker": {
            "color": [
             "rgb(212, 161, 123)",
             "rgb(249, 229, 170)",
             "rgb(86, 84, 7)",
             "rgb(208, 172, 207)",
             "rgb(97, 6, 227)",
             "rgb(182, 76, 201)",
             "rgb(201, 58, 145)",
             "rgb(167, 110, 41)",
             "rgb(121, 154, 182)",
             "rgb(174, 62, 127)"
            ]
           },
           "orientation": "h",
           "textangle": 0,
           "textposition": "outside",
           "texttemplate": "%{y}<br>%{x:.4s}",
           "type": "bar",
           "x": [
            0.048558836281667454,
            0.048707333965437784,
            0.05161361991355452,
            0.05654555800419952,
            0.0685658047269155,
            0.07341645256991991,
            0.16463676992422052,
            0.2098979115914474,
            0.22744372679308775,
            0.229210140134331
           ],
           "y": [
            "CB",
            "CB1",
            "CB2",
            "FS",
            "OLB",
            "OLB3",
            "ILB",
            "OLB2",
            "DE",
            "OLB1"
           ]
          }
         ],
         "layout": {
          "bargap": 0.15,
          "font": {
           "size": 14
          },
          "plot_bgcolor": "#FFFFFF",
          "xaxis": {
           "range": [
            0,
            4.343722427630682
           ],
           "showline": true,
           "visible": true
          },
          "yaxis": {
           "showline": false,
           "visible": true
          }
         },
         "name": "32"
        },
        {
         "data": [
          {
           "cliponaxis": false,
           "hoverinfo": "all",
           "hovertemplate": "<extra></extra>",
           "marker": {
            "color": [
             "rgb(249, 229, 170)",
             "rgb(212, 161, 123)",
             "rgb(86, 84, 7)",
             "rgb(208, 172, 207)",
             "rgb(97, 6, 227)",
             "rgb(182, 76, 201)",
             "rgb(201, 58, 145)",
             "rgb(167, 110, 41)",
             "rgb(121, 154, 182)",
             "rgb(174, 62, 127)"
            ]
           },
           "orientation": "h",
           "textangle": 0,
           "textposition": "outside",
           "texttemplate": "%{y}<br>%{x:.4s}",
           "type": "bar",
           "x": [
            0.047412804319301796,
            0.04761314762514655,
            0.0515776196718523,
            0.056853267086687774,
            0.06842125562125612,
            0.0736482263476882,
            0.16231777251114307,
            0.21230465514173263,
            0.2297715506151546,
            0.25403795275187196
           ],
           "y": [
            "CB1",
            "CB",
            "CB2",
            "FS",
            "OLB",
            "OLB3",
            "ILB",
            "OLB2",
            "DE",
            "OLB1"
           ]
          }
         ],
         "layout": {
          "bargap": 0.15,
          "font": {
           "size": 14
          },
          "plot_bgcolor": "#FFFFFF",
          "xaxis": {
           "range": [
            0,
            4.343722427630682
           ],
           "showline": true,
           "visible": true
          },
          "yaxis": {
           "showline": false,
           "visible": true
          }
         },
         "name": "33"
        },
        {
         "data": [
          {
           "cliponaxis": false,
           "hoverinfo": "all",
           "hovertemplate": "<extra></extra>",
           "marker": {
            "color": [
             "rgb(249, 229, 170)",
             "rgb(212, 161, 123)",
             "rgb(86, 84, 7)",
             "rgb(208, 172, 207)",
             "rgb(97, 6, 227)",
             "rgb(182, 76, 201)",
             "rgb(201, 58, 145)",
             "rgb(167, 110, 41)",
             "rgb(121, 154, 182)",
             "rgb(174, 62, 127)"
            ]
           },
           "orientation": "h",
           "textangle": 0,
           "textposition": "outside",
           "texttemplate": "%{y}<br>%{x:.4s}",
           "type": "bar",
           "x": [
            0.046235781255637036,
            0.04658756023707152,
            0.051500946850393005,
            0.05719232071014008,
            0.06828046583769294,
            0.0737674180596928,
            0.15989381459991955,
            0.21504580721640232,
            0.23383385777389923,
            0.2829955713662068
           ],
           "y": [
            "CB1",
            "CB",
            "CB2",
            "FS",
            "OLB",
            "OLB3",
            "ILB",
            "OLB2",
            "DE",
            "OLB1"
           ]
          }
         ],
         "layout": {
          "bargap": 0.15,
          "font": {
           "size": 14
          },
          "plot_bgcolor": "#FFFFFF",
          "xaxis": {
           "range": [
            0,
            4.343722427630682
           ],
           "showline": true,
           "visible": true
          },
          "yaxis": {
           "showline": false,
           "visible": true
          }
         },
         "name": "34"
        },
        {
         "data": [
          {
           "cliponaxis": false,
           "hoverinfo": "all",
           "hovertemplate": "<extra></extra>",
           "marker": {
            "color": [
             "rgb(249, 229, 170)",
             "rgb(212, 161, 123)",
             "rgb(86, 84, 7)",
             "rgb(208, 172, 207)",
             "rgb(97, 6, 227)",
             "rgb(182, 76, 201)",
             "rgb(201, 58, 145)",
             "rgb(167, 110, 41)",
             "rgb(121, 154, 182)",
             "rgb(174, 62, 127)"
            ]
           },
           "orientation": "h",
           "textangle": 0,
           "textposition": "outside",
           "texttemplate": "%{y}<br>%{x:.4s}",
           "type": "bar",
           "x": [
            0.045145654875927914,
            0.045514916266176285,
            0.051445012269932186,
            0.057494322931494986,
            0.06816630999779699,
            0.07399291921643025,
            0.15662672428764712,
            0.21615874994338358,
            0.23901157979402496,
            0.3186038528448885
           ],
           "y": [
            "CB1",
            "CB",
            "CB2",
            "FS",
            "OLB",
            "OLB3",
            "ILB",
            "OLB2",
            "DE",
            "OLB1"
           ]
          }
         ],
         "layout": {
          "bargap": 0.15,
          "font": {
           "size": 14
          },
          "plot_bgcolor": "#FFFFFF",
          "xaxis": {
           "range": [
            0,
            4.343722427630682
           ],
           "showline": true,
           "visible": true
          },
          "yaxis": {
           "showline": false,
           "visible": true
          }
         },
         "name": "35"
        },
        {
         "data": [
          {
           "cliponaxis": false,
           "hoverinfo": "all",
           "hovertemplate": "<extra></extra>",
           "marker": {
            "color": [
             "rgb(249, 229, 170)",
             "rgb(212, 161, 123)",
             "rgb(86, 84, 7)",
             "rgb(208, 172, 207)",
             "rgb(97, 6, 227)",
             "rgb(182, 76, 201)",
             "rgb(201, 58, 145)",
             "rgb(167, 110, 41)",
             "rgb(121, 154, 182)",
             "rgb(174, 62, 127)"
            ]
           },
           "orientation": "h",
           "textangle": 0,
           "textposition": "outside",
           "texttemplate": "%{y}<br>%{x:.4s}",
           "type": "bar",
           "x": [
            0.04416135395060626,
            0.04443727800256294,
            0.05130104394159279,
            0.057784183645150394,
            0.06798467281567358,
            0.07417018112883968,
            0.15309143449554094,
            0.21606740349229162,
            0.24452874592145216,
            0.3586003459519615
           ],
           "y": [
            "CB1",
            "CB",
            "CB2",
            "FS",
            "OLB",
            "OLB3",
            "ILB",
            "OLB2",
            "DE",
            "OLB1"
           ]
          }
         ],
         "layout": {
          "bargap": 0.15,
          "font": {
           "size": 14
          },
          "plot_bgcolor": "#FFFFFF",
          "xaxis": {
           "range": [
            0,
            4.343722427630682
           ],
           "showline": true,
           "visible": true
          },
          "yaxis": {
           "showline": false,
           "visible": true
          }
         },
         "name": "36"
        },
        {
         "data": [
          {
           "cliponaxis": false,
           "hoverinfo": "all",
           "hovertemplate": "<extra></extra>",
           "marker": {
            "color": [
             "rgb(249, 229, 170)",
             "rgb(212, 161, 123)",
             "rgb(86, 84, 7)",
             "rgb(208, 172, 207)",
             "rgb(97, 6, 227)",
             "rgb(182, 76, 201)",
             "rgb(201, 58, 145)",
             "rgb(167, 110, 41)",
             "rgb(121, 154, 182)",
             "rgb(174, 62, 127)"
            ]
           },
           "orientation": "h",
           "textangle": 0,
           "textposition": "outside",
           "texttemplate": "%{y}<br>%{x:.4s}",
           "type": "bar",
           "x": [
            0.0432789940025558,
            0.043305818892403015,
            0.05103281717173837,
            0.05799417293385647,
            0.06768484454001132,
            0.07422399709132675,
            0.14903063456991453,
            0.21615874994338366,
            0.25076206409184987,
            0.4023078200821054
           ],
           "y": [
            "CB1",
            "CB",
            "CB2",
            "FS",
            "OLB",
            "OLB3",
            "ILB",
            "OLB2",
            "DE",
            "OLB1"
           ]
          }
         ],
         "layout": {
          "bargap": 0.15,
          "font": {
           "size": 14
          },
          "plot_bgcolor": "#FFFFFF",
          "xaxis": {
           "range": [
            0,
            4.343722427630682
           ],
           "showline": true,
           "visible": true
          },
          "yaxis": {
           "showline": false,
           "visible": true
          }
         },
         "name": "37"
        },
        {
         "data": [
          {
           "cliponaxis": false,
           "hoverinfo": "all",
           "hovertemplate": "<extra></extra>",
           "marker": {
            "color": [
             "rgb(212, 161, 123)",
             "rgb(249, 229, 170)",
             "rgb(86, 84, 7)",
             "rgb(208, 172, 207)",
             "rgb(97, 6, 227)",
             "rgb(182, 76, 201)",
             "rgb(201, 58, 145)",
             "rgb(167, 110, 41)",
             "rgb(121, 154, 182)",
             "rgb(174, 62, 127)"
            ]
           },
           "orientation": "h",
           "textangle": 0,
           "textposition": "outside",
           "texttemplate": "%{y}<br>%{x:.4s}",
           "type": "bar",
           "x": [
            0.04215029110977794,
            0.04251145491304885,
            0.05068917910320527,
            0.0581016331023734,
            0.06722759337164133,
            0.0742310518803126,
            0.1452180494098818,
            0.21686617290468754,
            0.2584876956807832,
            0.45037734911104493
           ],
           "y": [
            "CB",
            "CB1",
            "CB2",
            "FS",
            "OLB",
            "OLB3",
            "ILB",
            "OLB2",
            "DE",
            "OLB1"
           ]
          }
         ],
         "layout": {
          "bargap": 0.15,
          "font": {
           "size": 14
          },
          "plot_bgcolor": "#FFFFFF",
          "xaxis": {
           "range": [
            0,
            4.343722427630682
           ],
           "showline": true,
           "visible": true
          },
          "yaxis": {
           "showline": false,
           "visible": true
          }
         },
         "name": "38"
        },
        {
         "data": [
          {
           "cliponaxis": false,
           "hoverinfo": "all",
           "hovertemplate": "<extra></extra>",
           "marker": {
            "color": [
             "rgb(212, 161, 123)",
             "rgb(249, 229, 170)",
             "rgb(86, 84, 7)",
             "rgb(208, 172, 207)",
             "rgb(97, 6, 227)",
             "rgb(182, 76, 201)",
             "rgb(201, 58, 145)",
             "rgb(167, 110, 41)",
             "rgb(121, 154, 182)",
             "rgb(174, 62, 127)"
            ]
           },
           "orientation": "h",
           "textangle": 0,
           "textposition": "outside",
           "texttemplate": "%{y}<br>%{x:.4s}",
           "type": "bar",
           "x": [
            0.040966321859991946,
            0.04184441804139782,
            0.05023628315050487,
            0.05811718339671626,
            0.06669386849143259,
            0.07416510172485084,
            0.14141499270581384,
            0.21873670317781074,
            0.2692914662411211,
            0.4976109819576572
           ],
           "y": [
            "CB",
            "CB1",
            "CB2",
            "FS",
            "OLB",
            "OLB3",
            "ILB",
            "OLB2",
            "DE",
            "OLB1"
           ]
          }
         ],
         "layout": {
          "bargap": 0.15,
          "font": {
           "size": 14
          },
          "plot_bgcolor": "#FFFFFF",
          "xaxis": {
           "range": [
            0,
            4.343722427630682
           ],
           "showline": true,
           "visible": true
          },
          "yaxis": {
           "showline": false,
           "visible": true
          }
         },
         "name": "39"
        },
        {
         "data": [
          {
           "cliponaxis": false,
           "hoverinfo": "all",
           "hovertemplate": "<extra></extra>",
           "marker": {
            "color": [
             "rgb(212, 161, 123)",
             "rgb(249, 229, 170)",
             "rgb(86, 84, 7)",
             "rgb(208, 172, 207)",
             "rgb(97, 6, 227)",
             "rgb(182, 76, 201)",
             "rgb(201, 58, 145)",
             "rgb(167, 110, 41)",
             "rgb(121, 154, 182)",
             "rgb(174, 62, 127)"
            ]
           },
           "orientation": "h",
           "textangle": 0,
           "textposition": "outside",
           "texttemplate": "%{y}<br>%{x:.4s}",
           "type": "bar",
           "x": [
            0.03977256260264093,
            0.04129076437442292,
            0.04964813688931236,
            0.058046997156746265,
            0.06602720119038126,
            0.07393829023702916,
            0.1377538538135345,
            0.22214270388144491,
            0.28082576344537574,
            0.5407222600746182
           ],
           "y": [
            "CB",
            "CB1",
            "CB2",
            "FS",
            "OLB",
            "OLB3",
            "ILB",
            "OLB2",
            "DE",
            "OLB1"
           ]
          }
         ],
         "layout": {
          "bargap": 0.15,
          "font": {
           "size": 14
          },
          "plot_bgcolor": "#FFFFFF",
          "xaxis": {
           "range": [
            0,
            4.343722427630682
           ],
           "showline": true,
           "visible": true
          },
          "yaxis": {
           "showline": false,
           "visible": true
          }
         },
         "name": "40"
        },
        {
         "data": [
          {
           "cliponaxis": false,
           "hoverinfo": "all",
           "hovertemplate": "<extra></extra>",
           "marker": {
            "color": [
             "rgb(212, 161, 123)",
             "rgb(249, 229, 170)",
             "rgb(86, 84, 7)",
             "rgb(208, 172, 207)",
             "rgb(97, 6, 227)",
             "rgb(182, 76, 201)",
             "rgb(201, 58, 145)",
             "rgb(167, 110, 41)",
             "rgb(121, 154, 182)",
             "rgb(174, 62, 127)"
            ]
           },
           "orientation": "h",
           "textangle": 0,
           "textposition": "outside",
           "texttemplate": "%{y}<br>%{x:.4s}",
           "type": "bar",
           "x": [
            0.03859035467370445,
            0.04084562135597812,
            0.049007097415492244,
            0.05789759033341548,
            0.06527490235826354,
            0.07366634911218295,
            0.13438372019843625,
            0.22645482617626328,
            0.2948108595391516,
            0.5795762528363828
           ],
           "y": [
            "CB",
            "CB1",
            "CB2",
            "FS",
            "OLB",
            "OLB3",
            "ILB",
            "OLB2",
            "DE",
            "OLB1"
           ]
          }
         ],
         "layout": {
          "bargap": 0.15,
          "font": {
           "size": 14
          },
          "plot_bgcolor": "#FFFFFF",
          "xaxis": {
           "range": [
            0,
            4.343722427630682
           ],
           "showline": true,
           "visible": true
          },
          "yaxis": {
           "showline": false,
           "visible": true
          }
         },
         "name": "41"
        },
        {
         "data": [
          {
           "cliponaxis": false,
           "hoverinfo": "all",
           "hovertemplate": "<extra></extra>",
           "marker": {
            "color": [
             "rgb(212, 161, 123)",
             "rgb(249, 229, 170)",
             "rgb(86, 84, 7)",
             "rgb(208, 172, 207)",
             "rgb(97, 6, 227)",
             "rgb(182, 76, 201)",
             "rgb(201, 58, 145)",
             "rgb(167, 110, 41)",
             "rgb(121, 154, 182)",
             "rgb(174, 62, 127)"
            ]
           },
           "orientation": "h",
           "textangle": 0,
           "textposition": "outside",
           "texttemplate": "%{y}<br>%{x:.4s}",
           "type": "bar",
           "x": [
            0.03746226260736801,
            0.04051380662341658,
            0.048289815535136185,
            0.057722156313017366,
            0.06446172509742176,
            0.0732927888786955,
            0.13128232892073444,
            0.232193621728351,
            0.31379894777489875,
            0.6130817217298725
           ],
           "y": [
            "CB",
            "CB1",
            "CB2",
            "FS",
            "OLB",
            "OLB3",
            "ILB",
            "OLB2",
            "DE",
            "OLB1"
           ]
          }
         ],
         "layout": {
          "bargap": 0.15,
          "font": {
           "size": 14
          },
          "plot_bgcolor": "#FFFFFF",
          "xaxis": {
           "range": [
            0,
            4.343722427630682
           ],
           "showline": true,
           "visible": true
          },
          "yaxis": {
           "showline": false,
           "visible": true
          }
         },
         "name": "42"
        },
        {
         "data": [
          {
           "cliponaxis": false,
           "hoverinfo": "all",
           "hovertemplate": "<extra></extra>",
           "marker": {
            "color": [
             "rgb(212, 161, 123)",
             "rgb(249, 229, 170)",
             "rgb(86, 84, 7)",
             "rgb(208, 172, 207)",
             "rgb(97, 6, 227)",
             "rgb(182, 76, 201)",
             "rgb(201, 58, 145)",
             "rgb(167, 110, 41)",
             "rgb(121, 154, 182)",
             "rgb(174, 62, 127)"
            ]
           },
           "orientation": "h",
           "textangle": 0,
           "textposition": "outside",
           "texttemplate": "%{y}<br>%{x:.4s}",
           "type": "bar",
           "x": [
            0.03641979866393065,
            0.040373341807036174,
            0.04761023352434205,
            0.05779465359765247,
            0.06392794379908663,
            0.07321097396145021,
            0.12967801887619262,
            0.2403443428598818,
            0.3448091367466683,
            0.6370460623571198
           ],
           "y": [
            "CB",
            "CB1",
            "CB2",
            "FS",
            "OLB",
            "OLB3",
            "ILB",
            "OLB2",
            "DE",
            "OLB1"
           ]
          }
         ],
         "layout": {
          "bargap": 0.15,
          "font": {
           "size": 14
          },
          "plot_bgcolor": "#FFFFFF",
          "xaxis": {
           "range": [
            0,
            4.343722427630682
           ],
           "showline": true,
           "visible": true
          },
          "yaxis": {
           "showline": false,
           "visible": true
          }
         },
         "name": "43"
        },
        {
         "data": [
          {
           "cliponaxis": false,
           "hoverinfo": "all",
           "hovertemplate": "<extra></extra>",
           "marker": {
            "color": [
             "rgb(212, 161, 123)",
             "rgb(249, 229, 170)",
             "rgb(86, 84, 7)",
             "rgb(208, 172, 207)",
             "rgb(97, 6, 227)",
             "rgb(182, 76, 201)",
             "rgb(201, 58, 145)",
             "rgb(167, 110, 41)",
             "rgb(121, 154, 182)",
             "rgb(174, 62, 127)"
            ]
           },
           "orientation": "h",
           "textangle": 0,
           "textposition": "outside",
           "texttemplate": "%{y}<br>%{x:.4s}",
           "type": "bar",
           "x": [
            0.03541676737555615,
            0.040322574089072125,
            0.046945925189730474,
            0.05784293717061285,
            0.06328016426243836,
            0.07307029322141453,
            0.12831136016570535,
            0.25071792444446556,
            0.3848374703145463,
            0.6542518964786336
           ],
           "y": [
            "CB",
            "CB1",
            "CB2",
            "FS",
            "OLB",
            "OLB3",
            "ILB",
            "OLB2",
            "DE",
            "OLB1"
           ]
          }
         ],
         "layout": {
          "bargap": 0.15,
          "font": {
           "size": 14
          },
          "plot_bgcolor": "#FFFFFF",
          "xaxis": {
           "range": [
            0,
            4.343722427630682
           ],
           "showline": true,
           "visible": true
          },
          "yaxis": {
           "showline": false,
           "visible": true
          }
         },
         "name": "44"
        },
        {
         "data": [
          {
           "cliponaxis": false,
           "hoverinfo": "all",
           "hovertemplate": "<extra></extra>",
           "marker": {
            "color": [
             "rgb(212, 161, 123)",
             "rgb(249, 229, 170)",
             "rgb(86, 84, 7)",
             "rgb(208, 172, 207)",
             "rgb(97, 6, 227)",
             "rgb(182, 76, 201)",
             "rgb(201, 58, 145)",
             "rgb(167, 110, 41)",
             "rgb(121, 154, 182)",
             "rgb(174, 62, 127)"
            ]
           },
           "orientation": "h",
           "textangle": 0,
           "textposition": "outside",
           "texttemplate": "%{y}<br>%{x:.4s}",
           "type": "bar",
           "x": [
            0.03448821934599582,
            0.04040782698573445,
            0.04633371125630529,
            0.05807539761347833,
            0.06281362424511791,
            0.07314678342840455,
            0.12769882086096573,
            0.2641659906594241,
            0.44380932012021224,
            0.6582367076198588
           ],
           "y": [
            "CB",
            "CB1",
            "CB2",
            "FS",
            "OLB",
            "OLB3",
            "ILB",
            "OLB2",
            "DE",
            "OLB1"
           ]
          }
         ],
         "layout": {
          "bargap": 0.15,
          "font": {
           "size": 14
          },
          "plot_bgcolor": "#FFFFFF",
          "xaxis": {
           "range": [
            0,
            4.343722427630682
           ],
           "showline": true,
           "visible": true
          },
          "yaxis": {
           "showline": false,
           "visible": true
          }
         },
         "name": "45"
        },
        {
         "data": [
          {
           "cliponaxis": false,
           "hoverinfo": "all",
           "hovertemplate": "<extra></extra>",
           "marker": {
            "color": [
             "rgb(212, 161, 123)",
             "rgb(249, 229, 170)",
             "rgb(86, 84, 7)",
             "rgb(208, 172, 207)",
             "rgb(97, 6, 227)",
             "rgb(182, 76, 201)",
             "rgb(201, 58, 145)",
             "rgb(167, 110, 41)",
             "rgb(121, 154, 182)",
             "rgb(174, 62, 127)"
            ]
           },
           "orientation": "h",
           "textangle": 0,
           "textposition": "outside",
           "texttemplate": "%{y}<br>%{x:.4s}",
           "type": "bar",
           "x": [
            0.0336271944712144,
            0.04058077294721223,
            0.04580071698533312,
            0.05846796608418928,
            0.062437581423525,
            0.07338503336220457,
            0.1275247777216806,
            0.2799758783174417,
            0.5349429614042318,
            0.6517043991808388
           ],
           "y": [
            "CB",
            "CB1",
            "CB2",
            "FS",
            "OLB",
            "OLB3",
            "ILB",
            "OLB2",
            "DE",
            "OLB1"
           ]
          }
         ],
         "layout": {
          "bargap": 0.15,
          "font": {
           "size": 14
          },
          "plot_bgcolor": "#FFFFFF",
          "xaxis": {
           "range": [
            0,
            4.343722427630682
           ],
           "showline": true,
           "visible": true
          },
          "yaxis": {
           "showline": false,
           "visible": true
          }
         },
         "name": "46"
        },
        {
         "data": [
          {
           "cliponaxis": false,
           "hoverinfo": "all",
           "hovertemplate": "<extra></extra>",
           "marker": {
            "color": [
             "rgb(212, 161, 123)",
             "rgb(249, 229, 170)",
             "rgb(86, 84, 7)",
             "rgb(208, 172, 207)",
             "rgb(97, 6, 227)",
             "rgb(182, 76, 201)",
             "rgb(201, 58, 145)",
             "rgb(167, 110, 41)",
             "rgb(174, 62, 127)",
             "rgb(121, 154, 182)"
            ]
           },
           "orientation": "h",
           "textangle": 0,
           "textposition": "outside",
           "texttemplate": "%{y}<br>%{x:.4s}",
           "type": "bar",
           "x": [
            0.03283219865573886,
            0.04087678921864912,
            0.04537200878497911,
            0.059071774338688834,
            0.062189511709589466,
            0.07386060221830171,
            0.128116504931251,
            0.2953040565226785,
            0.6286200779505793,
            0.689343767564672
           ],
           "y": [
            "CB",
            "CB1",
            "CB2",
            "FS",
            "OLB",
            "OLB3",
            "ILB",
            "OLB2",
            "OLB1",
            "DE"
           ]
          }
         ],
         "layout": {
          "bargap": 0.15,
          "font": {
           "size": 14
          },
          "plot_bgcolor": "#FFFFFF",
          "xaxis": {
           "range": [
            0,
            4.343722427630682
           ],
           "showline": true,
           "visible": true
          },
          "yaxis": {
           "showline": false,
           "visible": true
          }
         },
         "name": "47"
        },
        {
         "data": [
          {
           "cliponaxis": false,
           "hoverinfo": "all",
           "hovertemplate": "<extra></extra>",
           "marker": {
            "color": [
             "rgb(212, 161, 123)",
             "rgb(249, 229, 170)",
             "rgb(86, 84, 7)",
             "rgb(208, 172, 207)",
             "rgb(97, 6, 227)",
             "rgb(182, 76, 201)",
             "rgb(201, 58, 145)",
             "rgb(167, 110, 41)",
             "rgb(174, 62, 127)",
             "rgb(121, 154, 182)"
            ]
           },
           "orientation": "h",
           "textangle": 0,
           "textposition": "outside",
           "texttemplate": "%{y}<br>%{x:.4s}",
           "type": "bar",
           "x": [
            0.03207864545980394,
            0.04124307520848175,
            0.044982612520176095,
            0.05991710689863736,
            0.062034548471904316,
            0.07453466757247125,
            0.12903816629479808,
            0.31466306101225683,
            0.5921722912996018,
            0.9593677930575883
           ],
           "y": [
            "CB",
            "CB1",
            "CB2",
            "FS",
            "OLB",
            "OLB3",
            "ILB",
            "OLB2",
            "OLB1",
            "DE"
           ]
          }
         ],
         "layout": {
          "bargap": 0.15,
          "font": {
           "size": 14
          },
          "plot_bgcolor": "#FFFFFF",
          "xaxis": {
           "range": [
            0,
            4.343722427630682
           ],
           "showline": true,
           "visible": true
          },
          "yaxis": {
           "showline": false,
           "visible": true
          }
         },
         "name": "48"
        },
        {
         "data": [
          {
           "cliponaxis": false,
           "hoverinfo": "all",
           "hovertemplate": "<extra></extra>",
           "marker": {
            "color": [
             "rgb(212, 161, 123)",
             "rgb(249, 229, 170)",
             "rgb(86, 84, 7)",
             "rgb(208, 172, 207)",
             "rgb(97, 6, 227)",
             "rgb(182, 76, 201)",
             "rgb(201, 58, 145)",
             "rgb(167, 110, 41)",
             "rgb(174, 62, 127)",
             "rgb(121, 154, 182)"
            ]
           },
           "orientation": "h",
           "textangle": 0,
           "textposition": "outside",
           "texttemplate": "%{y}<br>%{x:.4s}",
           "type": "bar",
           "x": [
            0.031385934324615054,
            0.041634924907827504,
            0.0446689266687719,
            0.06081906014966634,
            0.061970620941756115,
            0.07532662289052984,
            0.13024002366376017,
            0.33519699533977965,
            0.5557528485306819,
            1.5149776296267463
           ],
           "y": [
            "CB",
            "CB1",
            "CB2",
            "FS",
            "OLB",
            "OLB3",
            "ILB",
            "OLB2",
            "OLB1",
            "DE"
           ]
          }
         ],
         "layout": {
          "bargap": 0.15,
          "font": {
           "size": 14
          },
          "plot_bgcolor": "#FFFFFF",
          "xaxis": {
           "range": [
            0,
            4.343722427630682
           ],
           "showline": true,
           "visible": true
          },
          "yaxis": {
           "showline": false,
           "visible": true
          }
         },
         "name": "49"
        },
        {
         "data": [
          {
           "cliponaxis": false,
           "hoverinfo": "all",
           "hovertemplate": "<extra></extra>",
           "marker": {
            "color": [
             "rgb(212, 161, 123)",
             "rgb(249, 229, 170)",
             "rgb(86, 84, 7)",
             "rgb(208, 172, 207)",
             "rgb(97, 6, 227)",
             "rgb(182, 76, 201)",
             "rgb(201, 58, 145)",
             "rgb(167, 110, 41)",
             "rgb(174, 62, 127)",
             "rgb(121, 154, 182)"
            ]
           },
           "orientation": "h",
           "textangle": 0,
           "textposition": "outside",
           "texttemplate": "%{y}<br>%{x:.4s}",
           "type": "bar",
           "x": [
            0.030710059879312857,
            0.04199693768655269,
            0.0443957126395712,
            0.061802997430549664,
            0.061871901358757614,
            0.07623333102227753,
            0.13113956218927506,
            0.3624854272459882,
            0.5252257314388902,
            2.7896417632583748
           ],
           "y": [
            "CB",
            "CB1",
            "CB2",
            "FS",
            "OLB",
            "OLB3",
            "ILB",
            "OLB2",
            "OLB1",
            "DE"
           ]
          }
         ],
         "layout": {
          "bargap": 0.15,
          "font": {
           "size": 14
          },
          "plot_bgcolor": "#FFFFFF",
          "xaxis": {
           "range": [
            0,
            4.343722427630682
           ],
           "showline": true,
           "visible": true
          },
          "yaxis": {
           "showline": false,
           "visible": true
          }
         },
         "name": "50"
        },
        {
         "data": [
          {
           "cliponaxis": false,
           "hoverinfo": "all",
           "hovertemplate": "<extra></extra>",
           "marker": {
            "color": [
             "rgb(212, 161, 123)",
             "rgb(249, 229, 170)",
             "rgb(86, 84, 7)",
             "rgb(97, 6, 227)",
             "rgb(208, 172, 207)",
             "rgb(182, 76, 201)",
             "rgb(201, 58, 145)",
             "rgb(167, 110, 41)",
             "rgb(174, 62, 127)",
             "rgb(121, 154, 182)"
            ]
           },
           "orientation": "h",
           "textangle": 0,
           "textposition": "outside",
           "texttemplate": "%{y}<br>%{x:.4s}",
           "type": "bar",
           "x": [
            0.03008279695982931,
            0.042377751242324097,
            0.044236962675505594,
            0.061870456601082965,
            0.06295761395204888,
            0.07737037114918961,
            0.13218727345909065,
            0.39754596965595884,
            0.503537184069225,
            4.343722427630682
           ],
           "y": [
            "CB",
            "CB1",
            "CB2",
            "OLB",
            "FS",
            "OLB3",
            "ILB",
            "OLB2",
            "OLB1",
            "DE"
           ]
          }
         ],
         "layout": {
          "bargap": 0.15,
          "font": {
           "size": 14
          },
          "plot_bgcolor": "#FFFFFF",
          "xaxis": {
           "range": [
            0,
            4.343722427630682
           ],
           "showline": true,
           "visible": true
          },
          "yaxis": {
           "showline": false,
           "visible": true
          }
         },
         "name": "51"
        },
        {
         "data": [
          {
           "cliponaxis": false,
           "hoverinfo": "all",
           "hovertemplate": "<extra></extra>",
           "marker": {
            "color": [
             "rgb(212, 161, 123)",
             "rgb(249, 229, 170)",
             "rgb(86, 84, 7)",
             "rgb(97, 6, 227)",
             "rgb(208, 172, 207)",
             "rgb(182, 76, 201)",
             "rgb(201, 58, 145)",
             "rgb(167, 110, 41)",
             "rgb(174, 62, 127)",
             "rgb(121, 154, 182)"
            ]
           },
           "orientation": "h",
           "textangle": 0,
           "textposition": "outside",
           "texttemplate": "%{y}<br>%{x:.4s}",
           "type": "bar",
           "x": [
            0.029515136362469264,
            0.0428007999331968,
            0.04414591130404774,
            0.062099859648979946,
            0.0643206530071667,
            0.07878281109643011,
            0.1335190837376819,
            0.4401401629453745,
            0.480303186214145,
            2.2762572680299122
           ],
           "y": [
            "CB",
            "CB1",
            "CB2",
            "OLB",
            "FS",
            "OLB3",
            "ILB",
            "OLB2",
            "OLB1",
            "DE"
           ]
          }
         ],
         "layout": {
          "bargap": 0.15,
          "font": {
           "size": 14
          },
          "plot_bgcolor": "#FFFFFF",
          "xaxis": {
           "range": [
            0,
            4.343722427630682
           ],
           "showline": true,
           "visible": true
          },
          "yaxis": {
           "showline": false,
           "visible": true
          }
         },
         "name": "52"
        },
        {
         "data": [
          {
           "cliponaxis": false,
           "hoverinfo": "all",
           "hovertemplate": "<extra></extra>",
           "marker": {
            "color": [
             "rgb(212, 161, 123)",
             "rgb(249, 229, 170)",
             "rgb(86, 84, 7)",
             "rgb(97, 6, 227)",
             "rgb(208, 172, 207)",
             "rgb(182, 76, 201)",
             "rgb(201, 58, 145)",
             "rgb(174, 62, 127)",
             "rgb(167, 110, 41)",
             "rgb(121, 154, 182)"
            ]
           },
           "orientation": "h",
           "textangle": 0,
           "textposition": "outside",
           "texttemplate": "%{y}<br>%{x:.4s}",
           "type": "bar",
           "x": [
            0.028986203751638257,
            0.04314821580825846,
            0.04415675561609706,
            0.062225934378811805,
            0.06573827785585623,
            0.0804444054148147,
            0.13512464832958698,
            0.47438138012965303,
            0.502493529809345,
            1.6518211042472484
           ],
           "y": [
            "CB",
            "CB1",
            "CB2",
            "OLB",
            "FS",
            "OLB3",
            "ILB",
            "OLB1",
            "OLB2",
            "DE"
           ]
          }
         ],
         "layout": {
          "bargap": 0.15,
          "font": {
           "size": 14
          },
          "plot_bgcolor": "#FFFFFF",
          "xaxis": {
           "range": [
            0,
            4.343722427630682
           ],
           "showline": true,
           "visible": true
          },
          "yaxis": {
           "showline": false,
           "visible": true
          }
         },
         "name": "53"
        },
        {
         "data": [
          {
           "cliponaxis": false,
           "hoverinfo": "all",
           "hovertemplate": "<extra></extra>",
           "marker": {
            "color": [
             "rgb(212, 161, 123)",
             "rgb(249, 229, 170)",
             "rgb(86, 84, 7)",
             "rgb(97, 6, 227)",
             "rgb(208, 172, 207)",
             "rgb(182, 76, 201)",
             "rgb(201, 58, 145)",
             "rgb(174, 62, 127)",
             "rgb(167, 110, 41)",
             "rgb(121, 154, 182)"
            ]
           },
           "orientation": "h",
           "textangle": 0,
           "textposition": "outside",
           "texttemplate": "%{y}<br>%{x:.4s}",
           "type": "bar",
           "x": [
            0.02848540696019764,
            0.043482366818097314,
            0.04420997826241439,
            0.06253369421982592,
            0.06736385267688609,
            0.08232784156294569,
            0.13744097747842998,
            0.4677137506176076,
            0.5880725283995004,
            1.321983617551728
           ],
           "y": [
            "CB",
            "CB1",
            "CB2",
            "OLB",
            "FS",
            "OLB3",
            "ILB",
            "OLB1",
            "OLB2",
            "DE"
           ]
          }
         ],
         "layout": {
          "bargap": 0.15,
          "font": {
           "size": 14
          },
          "plot_bgcolor": "#FFFFFF",
          "xaxis": {
           "range": [
            0,
            4.343722427630682
           ],
           "showline": true,
           "visible": true
          },
          "yaxis": {
           "showline": false,
           "visible": true
          }
         },
         "name": "54"
        },
        {
         "data": [
          {
           "cliponaxis": false,
           "hoverinfo": "all",
           "hovertemplate": "<extra></extra>",
           "marker": {
            "color": [
             "rgb(212, 161, 123)",
             "rgb(249, 229, 170)",
             "rgb(86, 84, 7)",
             "rgb(97, 6, 227)",
             "rgb(208, 172, 207)",
             "rgb(182, 76, 201)",
             "rgb(201, 58, 145)",
             "rgb(174, 62, 127)",
             "rgb(167, 110, 41)",
             "rgb(121, 154, 182)"
            ]
           },
           "orientation": "h",
           "textangle": 0,
           "textposition": "outside",
           "texttemplate": "%{y}<br>%{x:.4s}",
           "type": "bar",
           "x": [
            0.02800877289253056,
            0.04370628953181852,
            0.04431291757715597,
            0.06257155825354366,
            0.06872464313691186,
            0.08416768956748967,
            0.1384891456236288,
            0.4910226966738492,
            0.746268656716416,
            1.248732399533543
           ],
           "y": [
            "CB",
            "CB1",
            "CB2",
            "OLB",
            "FS",
            "OLB3",
            "ILB",
            "OLB1",
            "OLB2",
            "DE"
           ]
          }
         ],
         "layout": {
          "bargap": 0.15,
          "font": {
           "size": 14
          },
          "plot_bgcolor": "#FFFFFF",
          "xaxis": {
           "range": [
            0,
            4.343722427630682
           ],
           "showline": true,
           "visible": true
          },
          "yaxis": {
           "showline": false,
           "visible": true
          }
         },
         "name": "55"
        },
        {
         "data": [
          {
           "cliponaxis": false,
           "hoverinfo": "all",
           "hovertemplate": "<extra></extra>",
           "marker": {
            "color": [
             "rgb(212, 161, 123)",
             "rgb(249, 229, 170)",
             "rgb(86, 84, 7)",
             "rgb(97, 6, 227)",
             "rgb(208, 172, 207)",
             "rgb(182, 76, 201)",
             "rgb(201, 58, 145)",
             "rgb(174, 62, 127)",
             "rgb(167, 110, 41)",
             "rgb(121, 154, 182)"
            ]
           },
           "orientation": "h",
           "textangle": 0,
           "textposition": "outside",
           "texttemplate": "%{y}<br>%{x:.4s}",
           "type": "bar",
           "x": [
            0.02756042685121507,
            0.043865653383453405,
            0.0444838273191303,
            0.06258193574435614,
            0.07002715269044583,
            0.08622468030360755,
            0.1392216298161113,
            0.5273613227001346,
            1.030435131281513,
            1.2514674237101437
           ],
           "y": [
            "CB",
            "CB1",
            "CB2",
            "OLB",
            "FS",
            "OLB3",
            "ILB",
            "OLB1",
            "OLB2",
            "DE"
           ]
          }
         ],
         "layout": {
          "bargap": 0.15,
          "font": {
           "size": 14
          },
          "plot_bgcolor": "#FFFFFF",
          "xaxis": {
           "range": [
            0,
            4.343722427630682
           ],
           "showline": true,
           "visible": true
          },
          "yaxis": {
           "showline": false,
           "visible": true
          }
         },
         "name": "56"
        },
        {
         "data": [
          {
           "cliponaxis": false,
           "hoverinfo": "all",
           "hovertemplate": "<extra></extra>",
           "marker": {
            "color": [
             "rgb(212, 161, 123)",
             "rgb(249, 229, 170)",
             "rgb(86, 84, 7)",
             "rgb(97, 6, 227)",
             "rgb(208, 172, 207)",
             "rgb(182, 76, 201)",
             "rgb(201, 58, 145)",
             "rgb(174, 62, 127)",
             "rgb(121, 154, 182)",
             "rgb(167, 110, 41)"
            ]
           },
           "orientation": "h",
           "textangle": 0,
           "textposition": "outside",
           "texttemplate": "%{y}<br>%{x:.4s}",
           "type": "bar",
           "x": [
            0.027151962598003527,
            0.044039942823070964,
            0.0446784664724661,
            0.06261942099289573,
            0.0715370908289728,
            0.08836225702116741,
            0.140626948397121,
            0.5758454398711689,
            1.2344738281669356,
            1.6662038965156647
           ],
           "y": [
            "CB",
            "CB1",
            "CB2",
            "OLB",
            "FS",
            "OLB3",
            "ILB",
            "OLB1",
            "DE",
            "OLB2"
           ]
          }
         ],
         "layout": {
          "bargap": 0.15,
          "font": {
           "size": 14
          },
          "plot_bgcolor": "#FFFFFF",
          "xaxis": {
           "range": [
            0,
            4.343722427630682
           ],
           "showline": true,
           "visible": true
          },
          "yaxis": {
           "showline": false,
           "visible": true
          }
         },
         "name": "57"
        }
       ],
       "layout": {
        "bargap": 0.15,
        "font": {
         "size": 14
        },
        "plot_bgcolor": "#FFFFFF",
        "sliders": [
         {
          "active": 0,
          "currentvalue": {
           "font": {
            "size": 20
           },
           "prefix": "Date: ",
           "visible": true,
           "xanchor": "right"
          },
          "len": 0.9,
          "pad": {
           "b": 10,
           "t": 50
          },
          "steps": [
           {
            "args": [
             [
              "1"
             ],
             {
              "frame": {
               "duration": 57,
               "redraw": false
              },
              "mode": "immediate",
              "transition": {
               "duration": 57
              }
             }
            ],
            "label": "1",
            "method": "animate"
           },
           {
            "args": [
             [
              "2"
             ],
             {
              "frame": {
               "duration": 57,
               "redraw": false
              },
              "mode": "immediate",
              "transition": {
               "duration": 57
              }
             }
            ],
            "label": "2",
            "method": "animate"
           },
           {
            "args": [
             [
              "3"
             ],
             {
              "frame": {
               "duration": 57,
               "redraw": false
              },
              "mode": "immediate",
              "transition": {
               "duration": 57
              }
             }
            ],
            "label": "3",
            "method": "animate"
           },
           {
            "args": [
             [
              "4"
             ],
             {
              "frame": {
               "duration": 57,
               "redraw": false
              },
              "mode": "immediate",
              "transition": {
               "duration": 57
              }
             }
            ],
            "label": "4",
            "method": "animate"
           },
           {
            "args": [
             [
              "5"
             ],
             {
              "frame": {
               "duration": 57,
               "redraw": false
              },
              "mode": "immediate",
              "transition": {
               "duration": 57
              }
             }
            ],
            "label": "5",
            "method": "animate"
           },
           {
            "args": [
             [
              "6"
             ],
             {
              "frame": {
               "duration": 57,
               "redraw": false
              },
              "mode": "immediate",
              "transition": {
               "duration": 57
              }
             }
            ],
            "label": "6",
            "method": "animate"
           },
           {
            "args": [
             [
              "7"
             ],
             {
              "frame": {
               "duration": 57,
               "redraw": false
              },
              "mode": "immediate",
              "transition": {
               "duration": 57
              }
             }
            ],
            "label": "7",
            "method": "animate"
           },
           {
            "args": [
             [
              "8"
             ],
             {
              "frame": {
               "duration": 57,
               "redraw": false
              },
              "mode": "immediate",
              "transition": {
               "duration": 57
              }
             }
            ],
            "label": "8",
            "method": "animate"
           },
           {
            "args": [
             [
              "9"
             ],
             {
              "frame": {
               "duration": 57,
               "redraw": false
              },
              "mode": "immediate",
              "transition": {
               "duration": 57
              }
             }
            ],
            "label": "9",
            "method": "animate"
           },
           {
            "args": [
             [
              "10"
             ],
             {
              "frame": {
               "duration": 57,
               "redraw": false
              },
              "mode": "immediate",
              "transition": {
               "duration": 57
              }
             }
            ],
            "label": "10",
            "method": "animate"
           },
           {
            "args": [
             [
              "11"
             ],
             {
              "frame": {
               "duration": 57,
               "redraw": false
              },
              "mode": "immediate",
              "transition": {
               "duration": 57
              }
             }
            ],
            "label": "11",
            "method": "animate"
           },
           {
            "args": [
             [
              "12"
             ],
             {
              "frame": {
               "duration": 57,
               "redraw": false
              },
              "mode": "immediate",
              "transition": {
               "duration": 57
              }
             }
            ],
            "label": "12",
            "method": "animate"
           },
           {
            "args": [
             [
              "13"
             ],
             {
              "frame": {
               "duration": 57,
               "redraw": false
              },
              "mode": "immediate",
              "transition": {
               "duration": 57
              }
             }
            ],
            "label": "13",
            "method": "animate"
           },
           {
            "args": [
             [
              "14"
             ],
             {
              "frame": {
               "duration": 57,
               "redraw": false
              },
              "mode": "immediate",
              "transition": {
               "duration": 57
              }
             }
            ],
            "label": "14",
            "method": "animate"
           },
           {
            "args": [
             [
              "15"
             ],
             {
              "frame": {
               "duration": 57,
               "redraw": false
              },
              "mode": "immediate",
              "transition": {
               "duration": 57
              }
             }
            ],
            "label": "15",
            "method": "animate"
           },
           {
            "args": [
             [
              "16"
             ],
             {
              "frame": {
               "duration": 57,
               "redraw": false
              },
              "mode": "immediate",
              "transition": {
               "duration": 57
              }
             }
            ],
            "label": "16",
            "method": "animate"
           },
           {
            "args": [
             [
              "17"
             ],
             {
              "frame": {
               "duration": 57,
               "redraw": false
              },
              "mode": "immediate",
              "transition": {
               "duration": 57
              }
             }
            ],
            "label": "17",
            "method": "animate"
           },
           {
            "args": [
             [
              "18"
             ],
             {
              "frame": {
               "duration": 57,
               "redraw": false
              },
              "mode": "immediate",
              "transition": {
               "duration": 57
              }
             }
            ],
            "label": "18",
            "method": "animate"
           },
           {
            "args": [
             [
              "19"
             ],
             {
              "frame": {
               "duration": 57,
               "redraw": false
              },
              "mode": "immediate",
              "transition": {
               "duration": 57
              }
             }
            ],
            "label": "19",
            "method": "animate"
           },
           {
            "args": [
             [
              "20"
             ],
             {
              "frame": {
               "duration": 57,
               "redraw": false
              },
              "mode": "immediate",
              "transition": {
               "duration": 57
              }
             }
            ],
            "label": "20",
            "method": "animate"
           },
           {
            "args": [
             [
              "21"
             ],
             {
              "frame": {
               "duration": 57,
               "redraw": false
              },
              "mode": "immediate",
              "transition": {
               "duration": 57
              }
             }
            ],
            "label": "21",
            "method": "animate"
           },
           {
            "args": [
             [
              "22"
             ],
             {
              "frame": {
               "duration": 57,
               "redraw": false
              },
              "mode": "immediate",
              "transition": {
               "duration": 57
              }
             }
            ],
            "label": "22",
            "method": "animate"
           },
           {
            "args": [
             [
              "23"
             ],
             {
              "frame": {
               "duration": 57,
               "redraw": false
              },
              "mode": "immediate",
              "transition": {
               "duration": 57
              }
             }
            ],
            "label": "23",
            "method": "animate"
           },
           {
            "args": [
             [
              "24"
             ],
             {
              "frame": {
               "duration": 57,
               "redraw": false
              },
              "mode": "immediate",
              "transition": {
               "duration": 57
              }
             }
            ],
            "label": "24",
            "method": "animate"
           },
           {
            "args": [
             [
              "25"
             ],
             {
              "frame": {
               "duration": 57,
               "redraw": false
              },
              "mode": "immediate",
              "transition": {
               "duration": 57
              }
             }
            ],
            "label": "25",
            "method": "animate"
           },
           {
            "args": [
             [
              "26"
             ],
             {
              "frame": {
               "duration": 57,
               "redraw": false
              },
              "mode": "immediate",
              "transition": {
               "duration": 57
              }
             }
            ],
            "label": "26",
            "method": "animate"
           },
           {
            "args": [
             [
              "27"
             ],
             {
              "frame": {
               "duration": 57,
               "redraw": false
              },
              "mode": "immediate",
              "transition": {
               "duration": 57
              }
             }
            ],
            "label": "27",
            "method": "animate"
           },
           {
            "args": [
             [
              "28"
             ],
             {
              "frame": {
               "duration": 57,
               "redraw": false
              },
              "mode": "immediate",
              "transition": {
               "duration": 57
              }
             }
            ],
            "label": "28",
            "method": "animate"
           },
           {
            "args": [
             [
              "29"
             ],
             {
              "frame": {
               "duration": 57,
               "redraw": false
              },
              "mode": "immediate",
              "transition": {
               "duration": 57
              }
             }
            ],
            "label": "29",
            "method": "animate"
           },
           {
            "args": [
             [
              "30"
             ],
             {
              "frame": {
               "duration": 57,
               "redraw": false
              },
              "mode": "immediate",
              "transition": {
               "duration": 57
              }
             }
            ],
            "label": "30",
            "method": "animate"
           },
           {
            "args": [
             [
              "31"
             ],
             {
              "frame": {
               "duration": 57,
               "redraw": false
              },
              "mode": "immediate",
              "transition": {
               "duration": 57
              }
             }
            ],
            "label": "31",
            "method": "animate"
           },
           {
            "args": [
             [
              "32"
             ],
             {
              "frame": {
               "duration": 57,
               "redraw": false
              },
              "mode": "immediate",
              "transition": {
               "duration": 57
              }
             }
            ],
            "label": "32",
            "method": "animate"
           },
           {
            "args": [
             [
              "33"
             ],
             {
              "frame": {
               "duration": 57,
               "redraw": false
              },
              "mode": "immediate",
              "transition": {
               "duration": 57
              }
             }
            ],
            "label": "33",
            "method": "animate"
           },
           {
            "args": [
             [
              "34"
             ],
             {
              "frame": {
               "duration": 57,
               "redraw": false
              },
              "mode": "immediate",
              "transition": {
               "duration": 57
              }
             }
            ],
            "label": "34",
            "method": "animate"
           },
           {
            "args": [
             [
              "35"
             ],
             {
              "frame": {
               "duration": 57,
               "redraw": false
              },
              "mode": "immediate",
              "transition": {
               "duration": 57
              }
             }
            ],
            "label": "35",
            "method": "animate"
           },
           {
            "args": [
             [
              "36"
             ],
             {
              "frame": {
               "duration": 57,
               "redraw": false
              },
              "mode": "immediate",
              "transition": {
               "duration": 57
              }
             }
            ],
            "label": "36",
            "method": "animate"
           },
           {
            "args": [
             [
              "37"
             ],
             {
              "frame": {
               "duration": 57,
               "redraw": false
              },
              "mode": "immediate",
              "transition": {
               "duration": 57
              }
             }
            ],
            "label": "37",
            "method": "animate"
           },
           {
            "args": [
             [
              "38"
             ],
             {
              "frame": {
               "duration": 57,
               "redraw": false
              },
              "mode": "immediate",
              "transition": {
               "duration": 57
              }
             }
            ],
            "label": "38",
            "method": "animate"
           },
           {
            "args": [
             [
              "39"
             ],
             {
              "frame": {
               "duration": 57,
               "redraw": false
              },
              "mode": "immediate",
              "transition": {
               "duration": 57
              }
             }
            ],
            "label": "39",
            "method": "animate"
           },
           {
            "args": [
             [
              "40"
             ],
             {
              "frame": {
               "duration": 57,
               "redraw": false
              },
              "mode": "immediate",
              "transition": {
               "duration": 57
              }
             }
            ],
            "label": "40",
            "method": "animate"
           },
           {
            "args": [
             [
              "41"
             ],
             {
              "frame": {
               "duration": 57,
               "redraw": false
              },
              "mode": "immediate",
              "transition": {
               "duration": 57
              }
             }
            ],
            "label": "41",
            "method": "animate"
           },
           {
            "args": [
             [
              "42"
             ],
             {
              "frame": {
               "duration": 57,
               "redraw": false
              },
              "mode": "immediate",
              "transition": {
               "duration": 57
              }
             }
            ],
            "label": "42",
            "method": "animate"
           },
           {
            "args": [
             [
              "43"
             ],
             {
              "frame": {
               "duration": 57,
               "redraw": false
              },
              "mode": "immediate",
              "transition": {
               "duration": 57
              }
             }
            ],
            "label": "43",
            "method": "animate"
           },
           {
            "args": [
             [
              "44"
             ],
             {
              "frame": {
               "duration": 57,
               "redraw": false
              },
              "mode": "immediate",
              "transition": {
               "duration": 57
              }
             }
            ],
            "label": "44",
            "method": "animate"
           },
           {
            "args": [
             [
              "45"
             ],
             {
              "frame": {
               "duration": 57,
               "redraw": false
              },
              "mode": "immediate",
              "transition": {
               "duration": 57
              }
             }
            ],
            "label": "45",
            "method": "animate"
           },
           {
            "args": [
             [
              "46"
             ],
             {
              "frame": {
               "duration": 57,
               "redraw": false
              },
              "mode": "immediate",
              "transition": {
               "duration": 57
              }
             }
            ],
            "label": "46",
            "method": "animate"
           },
           {
            "args": [
             [
              "47"
             ],
             {
              "frame": {
               "duration": 57,
               "redraw": false
              },
              "mode": "immediate",
              "transition": {
               "duration": 57
              }
             }
            ],
            "label": "47",
            "method": "animate"
           },
           {
            "args": [
             [
              "48"
             ],
             {
              "frame": {
               "duration": 57,
               "redraw": false
              },
              "mode": "immediate",
              "transition": {
               "duration": 57
              }
             }
            ],
            "label": "48",
            "method": "animate"
           },
           {
            "args": [
             [
              "49"
             ],
             {
              "frame": {
               "duration": 57,
               "redraw": false
              },
              "mode": "immediate",
              "transition": {
               "duration": 57
              }
             }
            ],
            "label": "49",
            "method": "animate"
           },
           {
            "args": [
             [
              "50"
             ],
             {
              "frame": {
               "duration": 57,
               "redraw": false
              },
              "mode": "immediate",
              "transition": {
               "duration": 57
              }
             }
            ],
            "label": "50",
            "method": "animate"
           },
           {
            "args": [
             [
              "51"
             ],
             {
              "frame": {
               "duration": 57,
               "redraw": false
              },
              "mode": "immediate",
              "transition": {
               "duration": 57
              }
             }
            ],
            "label": "51",
            "method": "animate"
           },
           {
            "args": [
             [
              "52"
             ],
             {
              "frame": {
               "duration": 57,
               "redraw": false
              },
              "mode": "immediate",
              "transition": {
               "duration": 57
              }
             }
            ],
            "label": "52",
            "method": "animate"
           },
           {
            "args": [
             [
              "53"
             ],
             {
              "frame": {
               "duration": 57,
               "redraw": false
              },
              "mode": "immediate",
              "transition": {
               "duration": 57
              }
             }
            ],
            "label": "53",
            "method": "animate"
           },
           {
            "args": [
             [
              "54"
             ],
             {
              "frame": {
               "duration": 57,
               "redraw": false
              },
              "mode": "immediate",
              "transition": {
               "duration": 57
              }
             }
            ],
            "label": "54",
            "method": "animate"
           },
           {
            "args": [
             [
              "55"
             ],
             {
              "frame": {
               "duration": 57,
               "redraw": false
              },
              "mode": "immediate",
              "transition": {
               "duration": 57
              }
             }
            ],
            "label": "55",
            "method": "animate"
           },
           {
            "args": [
             [
              "56"
             ],
             {
              "frame": {
               "duration": 57,
               "redraw": false
              },
              "mode": "immediate",
              "transition": {
               "duration": 57
              }
             }
            ],
            "label": "56",
            "method": "animate"
           },
           {
            "args": [
             [
              "57"
             ],
             {
              "frame": {
               "duration": 57,
               "redraw": false
              },
              "mode": "immediate",
              "transition": {
               "duration": 57
              }
             }
            ],
            "label": "57",
            "method": "animate"
           }
          ],
          "transition": {
           "duration": 300,
           "easing": "cubic-in-out"
          },
          "x": 0.1,
          "xanchor": "left",
          "y": 0,
          "yanchor": "top"
         }
        ],
        "template": {
         "data": {
          "bar": [
           {
            "error_x": {
             "color": "#2a3f5f"
            },
            "error_y": {
             "color": "#2a3f5f"
            },
            "marker": {
             "line": {
              "color": "#E5ECF6",
              "width": 0.5
             },
             "pattern": {
              "fillmode": "overlay",
              "size": 10,
              "solidity": 0.2
             }
            },
            "type": "bar"
           }
          ],
          "barpolar": [
           {
            "marker": {
             "line": {
              "color": "#E5ECF6",
              "width": 0.5
             },
             "pattern": {
              "fillmode": "overlay",
              "size": 10,
              "solidity": 0.2
             }
            },
            "type": "barpolar"
           }
          ],
          "carpet": [
           {
            "aaxis": {
             "endlinecolor": "#2a3f5f",
             "gridcolor": "white",
             "linecolor": "white",
             "minorgridcolor": "white",
             "startlinecolor": "#2a3f5f"
            },
            "baxis": {
             "endlinecolor": "#2a3f5f",
             "gridcolor": "white",
             "linecolor": "white",
             "minorgridcolor": "white",
             "startlinecolor": "#2a3f5f"
            },
            "type": "carpet"
           }
          ],
          "choropleth": [
           {
            "colorbar": {
             "outlinewidth": 0,
             "ticks": ""
            },
            "type": "choropleth"
           }
          ],
          "contour": [
           {
            "colorbar": {
             "outlinewidth": 0,
             "ticks": ""
            },
            "colorscale": [
             [
              0,
              "#0d0887"
             ],
             [
              0.1111111111111111,
              "#46039f"
             ],
             [
              0.2222222222222222,
              "#7201a8"
             ],
             [
              0.3333333333333333,
              "#9c179e"
             ],
             [
              0.4444444444444444,
              "#bd3786"
             ],
             [
              0.5555555555555556,
              "#d8576b"
             ],
             [
              0.6666666666666666,
              "#ed7953"
             ],
             [
              0.7777777777777778,
              "#fb9f3a"
             ],
             [
              0.8888888888888888,
              "#fdca26"
             ],
             [
              1,
              "#f0f921"
             ]
            ],
            "type": "contour"
           }
          ],
          "contourcarpet": [
           {
            "colorbar": {
             "outlinewidth": 0,
             "ticks": ""
            },
            "type": "contourcarpet"
           }
          ],
          "heatmap": [
           {
            "colorbar": {
             "outlinewidth": 0,
             "ticks": ""
            },
            "colorscale": [
             [
              0,
              "#0d0887"
             ],
             [
              0.1111111111111111,
              "#46039f"
             ],
             [
              0.2222222222222222,
              "#7201a8"
             ],
             [
              0.3333333333333333,
              "#9c179e"
             ],
             [
              0.4444444444444444,
              "#bd3786"
             ],
             [
              0.5555555555555556,
              "#d8576b"
             ],
             [
              0.6666666666666666,
              "#ed7953"
             ],
             [
              0.7777777777777778,
              "#fb9f3a"
             ],
             [
              0.8888888888888888,
              "#fdca26"
             ],
             [
              1,
              "#f0f921"
             ]
            ],
            "type": "heatmap"
           }
          ],
          "heatmapgl": [
           {
            "colorbar": {
             "outlinewidth": 0,
             "ticks": ""
            },
            "colorscale": [
             [
              0,
              "#0d0887"
             ],
             [
              0.1111111111111111,
              "#46039f"
             ],
             [
              0.2222222222222222,
              "#7201a8"
             ],
             [
              0.3333333333333333,
              "#9c179e"
             ],
             [
              0.4444444444444444,
              "#bd3786"
             ],
             [
              0.5555555555555556,
              "#d8576b"
             ],
             [
              0.6666666666666666,
              "#ed7953"
             ],
             [
              0.7777777777777778,
              "#fb9f3a"
             ],
             [
              0.8888888888888888,
              "#fdca26"
             ],
             [
              1,
              "#f0f921"
             ]
            ],
            "type": "heatmapgl"
           }
          ],
          "histogram": [
           {
            "marker": {
             "pattern": {
              "fillmode": "overlay",
              "size": 10,
              "solidity": 0.2
             }
            },
            "type": "histogram"
           }
          ],
          "histogram2d": [
           {
            "colorbar": {
             "outlinewidth": 0,
             "ticks": ""
            },
            "colorscale": [
             [
              0,
              "#0d0887"
             ],
             [
              0.1111111111111111,
              "#46039f"
             ],
             [
              0.2222222222222222,
              "#7201a8"
             ],
             [
              0.3333333333333333,
              "#9c179e"
             ],
             [
              0.4444444444444444,
              "#bd3786"
             ],
             [
              0.5555555555555556,
              "#d8576b"
             ],
             [
              0.6666666666666666,
              "#ed7953"
             ],
             [
              0.7777777777777778,
              "#fb9f3a"
             ],
             [
              0.8888888888888888,
              "#fdca26"
             ],
             [
              1,
              "#f0f921"
             ]
            ],
            "type": "histogram2d"
           }
          ],
          "histogram2dcontour": [
           {
            "colorbar": {
             "outlinewidth": 0,
             "ticks": ""
            },
            "colorscale": [
             [
              0,
              "#0d0887"
             ],
             [
              0.1111111111111111,
              "#46039f"
             ],
             [
              0.2222222222222222,
              "#7201a8"
             ],
             [
              0.3333333333333333,
              "#9c179e"
             ],
             [
              0.4444444444444444,
              "#bd3786"
             ],
             [
              0.5555555555555556,
              "#d8576b"
             ],
             [
              0.6666666666666666,
              "#ed7953"
             ],
             [
              0.7777777777777778,
              "#fb9f3a"
             ],
             [
              0.8888888888888888,
              "#fdca26"
             ],
             [
              1,
              "#f0f921"
             ]
            ],
            "type": "histogram2dcontour"
           }
          ],
          "mesh3d": [
           {
            "colorbar": {
             "outlinewidth": 0,
             "ticks": ""
            },
            "type": "mesh3d"
           }
          ],
          "parcoords": [
           {
            "line": {
             "colorbar": {
              "outlinewidth": 0,
              "ticks": ""
             }
            },
            "type": "parcoords"
           }
          ],
          "pie": [
           {
            "automargin": true,
            "type": "pie"
           }
          ],
          "scatter": [
           {
            "marker": {
             "colorbar": {
              "outlinewidth": 0,
              "ticks": ""
             }
            },
            "type": "scatter"
           }
          ],
          "scatter3d": [
           {
            "line": {
             "colorbar": {
              "outlinewidth": 0,
              "ticks": ""
             }
            },
            "marker": {
             "colorbar": {
              "outlinewidth": 0,
              "ticks": ""
             }
            },
            "type": "scatter3d"
           }
          ],
          "scattercarpet": [
           {
            "marker": {
             "colorbar": {
              "outlinewidth": 0,
              "ticks": ""
             }
            },
            "type": "scattercarpet"
           }
          ],
          "scattergeo": [
           {
            "marker": {
             "colorbar": {
              "outlinewidth": 0,
              "ticks": ""
             }
            },
            "type": "scattergeo"
           }
          ],
          "scattergl": [
           {
            "marker": {
             "colorbar": {
              "outlinewidth": 0,
              "ticks": ""
             }
            },
            "type": "scattergl"
           }
          ],
          "scattermapbox": [
           {
            "marker": {
             "colorbar": {
              "outlinewidth": 0,
              "ticks": ""
             }
            },
            "type": "scattermapbox"
           }
          ],
          "scatterpolar": [
           {
            "marker": {
             "colorbar": {
              "outlinewidth": 0,
              "ticks": ""
             }
            },
            "type": "scatterpolar"
           }
          ],
          "scatterpolargl": [
           {
            "marker": {
             "colorbar": {
              "outlinewidth": 0,
              "ticks": ""
             }
            },
            "type": "scatterpolargl"
           }
          ],
          "scatterternary": [
           {
            "marker": {
             "colorbar": {
              "outlinewidth": 0,
              "ticks": ""
             }
            },
            "type": "scatterternary"
           }
          ],
          "surface": [
           {
            "colorbar": {
             "outlinewidth": 0,
             "ticks": ""
            },
            "colorscale": [
             [
              0,
              "#0d0887"
             ],
             [
              0.1111111111111111,
              "#46039f"
             ],
             [
              0.2222222222222222,
              "#7201a8"
             ],
             [
              0.3333333333333333,
              "#9c179e"
             ],
             [
              0.4444444444444444,
              "#bd3786"
             ],
             [
              0.5555555555555556,
              "#d8576b"
             ],
             [
              0.6666666666666666,
              "#ed7953"
             ],
             [
              0.7777777777777778,
              "#fb9f3a"
             ],
             [
              0.8888888888888888,
              "#fdca26"
             ],
             [
              1,
              "#f0f921"
             ]
            ],
            "type": "surface"
           }
          ],
          "table": [
           {
            "cells": {
             "fill": {
              "color": "#EBF0F8"
             },
             "line": {
              "color": "white"
             }
            },
            "header": {
             "fill": {
              "color": "#C8D4E3"
             },
             "line": {
              "color": "white"
             }
            },
            "type": "table"
           }
          ]
         },
         "layout": {
          "annotationdefaults": {
           "arrowcolor": "#2a3f5f",
           "arrowhead": 0,
           "arrowwidth": 1
          },
          "autotypenumbers": "strict",
          "coloraxis": {
           "colorbar": {
            "outlinewidth": 0,
            "ticks": ""
           }
          },
          "colorscale": {
           "diverging": [
            [
             0,
             "#8e0152"
            ],
            [
             0.1,
             "#c51b7d"
            ],
            [
             0.2,
             "#de77ae"
            ],
            [
             0.3,
             "#f1b6da"
            ],
            [
             0.4,
             "#fde0ef"
            ],
            [
             0.5,
             "#f7f7f7"
            ],
            [
             0.6,
             "#e6f5d0"
            ],
            [
             0.7,
             "#b8e186"
            ],
            [
             0.8,
             "#7fbc41"
            ],
            [
             0.9,
             "#4d9221"
            ],
            [
             1,
             "#276419"
            ]
           ],
           "sequential": [
            [
             0,
             "#0d0887"
            ],
            [
             0.1111111111111111,
             "#46039f"
            ],
            [
             0.2222222222222222,
             "#7201a8"
            ],
            [
             0.3333333333333333,
             "#9c179e"
            ],
            [
             0.4444444444444444,
             "#bd3786"
            ],
            [
             0.5555555555555556,
             "#d8576b"
            ],
            [
             0.6666666666666666,
             "#ed7953"
            ],
            [
             0.7777777777777778,
             "#fb9f3a"
            ],
            [
             0.8888888888888888,
             "#fdca26"
            ],
            [
             1,
             "#f0f921"
            ]
           ],
           "sequentialminus": [
            [
             0,
             "#0d0887"
            ],
            [
             0.1111111111111111,
             "#46039f"
            ],
            [
             0.2222222222222222,
             "#7201a8"
            ],
            [
             0.3333333333333333,
             "#9c179e"
            ],
            [
             0.4444444444444444,
             "#bd3786"
            ],
            [
             0.5555555555555556,
             "#d8576b"
            ],
            [
             0.6666666666666666,
             "#ed7953"
            ],
            [
             0.7777777777777778,
             "#fb9f3a"
            ],
            [
             0.8888888888888888,
             "#fdca26"
            ],
            [
             1,
             "#f0f921"
            ]
           ]
          },
          "colorway": [
           "#636efa",
           "#EF553B",
           "#00cc96",
           "#ab63fa",
           "#FFA15A",
           "#19d3f3",
           "#FF6692",
           "#B6E880",
           "#FF97FF",
           "#FECB52"
          ],
          "font": {
           "color": "#2a3f5f"
          },
          "geo": {
           "bgcolor": "white",
           "lakecolor": "white",
           "landcolor": "#E5ECF6",
           "showlakes": true,
           "showland": true,
           "subunitcolor": "white"
          },
          "hoverlabel": {
           "align": "left"
          },
          "hovermode": "closest",
          "mapbox": {
           "style": "light"
          },
          "paper_bgcolor": "white",
          "plot_bgcolor": "#E5ECF6",
          "polar": {
           "angularaxis": {
            "gridcolor": "white",
            "linecolor": "white",
            "ticks": ""
           },
           "bgcolor": "#E5ECF6",
           "radialaxis": {
            "gridcolor": "white",
            "linecolor": "white",
            "ticks": ""
           }
          },
          "scene": {
           "xaxis": {
            "backgroundcolor": "#E5ECF6",
            "gridcolor": "white",
            "gridwidth": 2,
            "linecolor": "white",
            "showbackground": true,
            "ticks": "",
            "zerolinecolor": "white"
           },
           "yaxis": {
            "backgroundcolor": "#E5ECF6",
            "gridcolor": "white",
            "gridwidth": 2,
            "linecolor": "white",
            "showbackground": true,
            "ticks": "",
            "zerolinecolor": "white"
           },
           "zaxis": {
            "backgroundcolor": "#E5ECF6",
            "gridcolor": "white",
            "gridwidth": 2,
            "linecolor": "white",
            "showbackground": true,
            "ticks": "",
            "zerolinecolor": "white"
           }
          },
          "shapedefaults": {
           "line": {
            "color": "#2a3f5f"
           }
          },
          "ternary": {
           "aaxis": {
            "gridcolor": "white",
            "linecolor": "white",
            "ticks": ""
           },
           "baxis": {
            "gridcolor": "white",
            "linecolor": "white",
            "ticks": ""
           },
           "bgcolor": "#E5ECF6",
           "caxis": {
            "gridcolor": "white",
            "linecolor": "white",
            "ticks": ""
           }
          },
          "title": {
           "x": 0.05
          },
          "xaxis": {
           "automargin": true,
           "gridcolor": "white",
           "linecolor": "white",
           "ticks": "",
           "title": {
            "standoff": 15
           },
           "zerolinecolor": "white",
           "zerolinewidth": 2
          },
          "yaxis": {
           "automargin": true,
           "gridcolor": "white",
           "linecolor": "white",
           "ticks": "",
           "title": {
            "standoff": 15
           },
           "zerolinecolor": "white",
           "zerolinewidth": 2
          }
         }
        },
        "updatemenus": [
         {
          "buttons": [
           {
            "args": [
             null,
             {
              "frame": {
               "duration": 57,
               "redraw": false
              },
              "fromcurrent": true,
              "transition": {
               "duration": 57,
               "easing": "quadratic-in-out"
              }
             }
            ],
            "label": "Play",
            "method": "animate"
           },
           {
            "args": [
             [
              null
             ],
             {
              "frame": {
               "duration": 0,
               "redraw": false
              },
              "mode": "immediate",
              "transition": {
               "duration": 0
              }
             }
            ],
            "label": "Pause",
            "method": "animate"
           }
          ],
          "direction": "left",
          "pad": {
           "r": 10,
           "t": 87
          },
          "showactive": true,
          "type": "buttons",
          "x": 0.1,
          "xanchor": "right",
          "y": 0,
          "yanchor": "top"
         }
        ],
        "xaxis": {
         "range": [
          0,
          4.343722427630682
         ],
         "showline": true,
         "showticklabels": true,
         "title": {
          "text": "(13:10) (Shotgun) Aa.Rodgers sacked at GB 15 for -8 yards (sack split by N.Williams and T.Flowers)."
         },
         "visible": true
        },
        "yaxis": {
         "showline": false,
         "showticklabels": false,
         "title": {
          "text": "QB Pressure Gauge"
         },
         "visible": true
        }
       }
      }
     },
     "metadata": {},
     "output_type": "display_data"
    }
   ],
   "source": [
    "# This function is designed for the user to pick specific plays to analyze\n",
    "\n",
    "def pickingPressurePlay(df):\n",
    "    # do work\n",
    "    return userInputs(df)\n",
    "\n",
    "# User input on selecting a play \n",
    "# Select Team, Formation, Pass Result\n",
    "def userInputs(df):\n",
    "    \n",
    "    # load data here\n",
    "    df = joined_all\n",
    "\n",
    "    # Create empty Pandas DataFrames for user to input and for pre_snap information \n",
    "    gameList = pd.DataFrame()\n",
    "\n",
    "    df_presnap = pd.DataFrame()\n",
    "\n",
    "    # Create a while loop to return incorrect user inputs\n",
    "    # Choosing an offensive team\n",
    "    while True:       \n",
    "        try:\n",
    "            offTeam = df['possessionTeam'].unique()\n",
    "            teams = offTeam\n",
    "            teamOff_Input = input(f'Pick an Offensive Team: {teams}')\n",
    "            off_team = teamOff_Input.upper()\n",
    "\n",
    "        except ValueError:\n",
    "            print(f'Choose a team from the list: {teams}')\n",
    "            continue\n",
    "\n",
    "        if off_team not in offTeam:\n",
    "            print(f'{off_team} does not exist. Input Valid Team Abbreviation')\n",
    "            continue\n",
    "        \n",
    "        elif off_team in offTeam:\n",
    "            team = df.loc[df['possessionTeam']==teamOff_Input.upper()] \n",
    "            next\n",
    "            \n",
    "        # Choosing a defensive team\n",
    "        while True:\n",
    "            try:\n",
    "                teamPlayed = team['defensiveTeam'].unique()\n",
    "                teamsDE = teamPlayed    \n",
    "                teamDEF_Input = input(f'Chose a Defensive Team: {teamsDE}')\n",
    "                def_team = teamDEF_Input.upper()\n",
    "\n",
    "            except ValueError:\n",
    "                print(f'Choose a team from the list: {def_team}')\n",
    "                continue\n",
    "\n",
    "            if teamDEF_Input.upper() not in teamPlayed:\n",
    "                print(f\"{def_team} did not play {off_team} \" + \"\\n\" + \"choose another Defensive Team\")\n",
    "                continue\n",
    "\n",
    "            elif teamDEF_Input.upper() in teamPlayed:\n",
    "                team_defense = team.loc[team['defensiveTeam']==teamDEF_Input.upper()]\n",
    "                next\n",
    "\n",
    "        # Choosing specific game if multiple games against the defense exist\n",
    "            while True:\n",
    "                try:\n",
    "                    gamePlayed = team_defense['gameDate'].unique()\n",
    "                    uniqueGame = gamePlayed\n",
    "                    game_input = input(f'Choose which game to analyze: {uniqueGame}')\n",
    "\n",
    "                except ValueError:\n",
    "                    print(f'Choose a date from the list: {uniqueGame}')\n",
    "                    continue\n",
    "\n",
    "                if game_input not in gamePlayed:\n",
    "                    print(f'Choose a date from the list: {uniqueGame}')\n",
    "                    continue\n",
    "\n",
    "                elif game_input in gamePlayed:\n",
    "                    unique_Game = team_defense.loc[team_defense['gameDate'] == game_input]\n",
    "                    next\n",
    "\n",
    "\n",
    "        # Choosing a pass play result\n",
    "                while True:\n",
    "                    try:\n",
    "                        passPlayResult = unique_Game['passResult'].unique()\n",
    "                        playResult = passPlayResult\n",
    "                        passPlay_Input = input(f'Choose a pass play result: {playResult}')\n",
    "                        passInput = passPlay_Input.upper()\n",
    "                        playResult = unique_Game['passResult'].tolist()\n",
    "                    \n",
    "                    except ValueError:\n",
    "                        print(f'{off_team} did not have any {passInput} against {def_team}')\n",
    "                        continue\n",
    "\n",
    "                    if passInput not in playResult:\n",
    "                        print(f\"There were no {passInput} plays found\" + \"\\n\" + \"choose another play result\")\n",
    "                        continue\n",
    "\n",
    "                    elif passInput.upper() in playResult:\n",
    "                        pass_play_result = unique_Game.loc[unique_Game['passResult']==passInput.upper()]   \n",
    "                        next\n",
    "\n",
    "        # Choosing where play happened on field\n",
    "                    while True:\n",
    "                        try:\n",
    "                            yardLine = pass_play_result['absoluteYardlineNumber'].unique()\n",
    "                            ydLine = yardLine\n",
    "                            ydLine_Input = int(input(f'Which part of the field do you want to analyzie? {ydLine}'))\n",
    "                            side_of_field = ydLine_Input\n",
    "                        \n",
    "                        except ValueError:\n",
    "                            print(f'{off_team} did not play at that {ydLine_Input}')\n",
    "                            continue\n",
    "\n",
    "                        if ydLine_Input not in yardLine:\n",
    "                            print(f'{off_team} did not play on {ydLine_Input}. Choose another {yardLine}')\n",
    "                            continue\n",
    "\n",
    "                        elif ydLine_Input in yardLine:\n",
    "                            field_of_play = pass_play_result.loc[pass_play_result['absoluteYardlineNumber']==side_of_field]\n",
    "                \n",
    "                \n",
    "        # Chosing an offensive formation\n",
    "                        while True:\n",
    "                            try:\n",
    "                                OFF_formation = field_of_play['offenseFormation'].unique()\n",
    "                                team_formation = OFF_formation\n",
    "                                offFormation_Input = input(f'Choose an Offensive Formation: {team_formation}')\n",
    "                                formation = offFormation_Input.upper()\n",
    "                                offFormation = field_of_play['offenseFormation'].tolist()\n",
    "\n",
    "                            except ValueError:\n",
    "                                print(f'{off_team} did not play any {formation} this game')\n",
    "                                continue\n",
    "\n",
    "                            if offFormation_Input.upper() not in offFormation:\n",
    "                                print(f\"No {formation} plays against {def_team} found\" + \"\\n\" + \"choose another formation\")\n",
    "                                continue\n",
    "\n",
    "                            elif offFormation_Input.upper() in offFormation:\n",
    "                                off_formation = field_of_play.loc[field_of_play['offenseFormation']==offFormation_Input.upper()]       \n",
    "                                gameList = gameList.append(off_formation)\n",
    "\n",
    "                                                           \n",
    "                                \n",
    "        # Creating the pressure Gauge                        \n",
    "\n",
    "                                # loop through each game \n",
    "                                for gid in gameList['gameId'].unique():\n",
    "                                # subset the data down to one game\n",
    "                                    one_game = gameList.loc[gameList['gameId']==gid]\n",
    "\n",
    "                                # loop through each play\n",
    "                                for pid in one_game['playId'].unique():\n",
    "\n",
    "                                    # subset game data down to one play \n",
    "                                    one_play = one_game.loc[one_game['playId']==pid]\n",
    "\n",
    "                                    # isolate the first frame of data only (you could also loop through all frames if you so choose. this example is supposed to be a short demo)\n",
    "                                    \n",
    "                                    for oneFrame in one_play['frameId'].unique():\n",
    "                                        one_frame = one_play.loc[one_play['frameId'] == oneFrame]\n",
    "\n",
    "\n",
    "                                        # reset index (saving the original index as a column) and set new index as player ID \n",
    "                                        one_frame = one_frame.reset_index().set_index('nflId')\n",
    "\n",
    "                                        # turn PFF player positioning info into unique positions given the play (for modeling purposes)\n",
    "                                        one_frame['officialPosition'] = one_frame['officialPosition'] + one_frame.groupby('officialPosition', as_index=False).cumcount().astype(str).str.replace('0', '')\n",
    "                                        \n",
    "                                        # get pairwise distance, turn it into a pairwise matrix, set it in a pandas dataframe with index as nflId and columns as positions \n",
    "                                        _df = pd.DataFrame(squareform(pdist(one_frame.loc[:, ['x','y']])), index=one_frame.index, columns=one_frame['officialPosition'].unique())\n",
    "\n",
    "                                        # concat pairwise matrix column-wise onto original one_frame data\n",
    "                                        one_frame = pd.concat([one_frame,_df], axis=1).rename(columns={np.nan:'dist_from_ball'})\n",
    "\n",
    "                                        # change index back to nflId column, set the column \"index\" to the true index \n",
    "                                        one_frame = one_frame.reset_index().set_index('index')\n",
    "\n",
    "                                        # clear the index name for prettyfication \n",
    "                                        one_frame.index.name = None\n",
    "\n",
    "                                        # append to output dataframe\n",
    "                                        df_presnap = df_presnap.append(one_frame)\n",
    "\n",
    "\n",
    "                                        # creating distance from QB\n",
    "                                        \n",
    "\n",
    "                                        # creating pressure value\n",
    "                                        pressureValue = 1 / df_presnap['QB']\n",
    "\n",
    "                                        df_presnap['pressureValue'] = pressureValue\n",
    "\n",
    "                                        # Creating Pressure DF\n",
    "                                        pressureDF = df_presnap[df_presnap.team != 'football']\n",
    "                                        \n",
    "                                        \n",
    "\n",
    "                                # fill the nulled sparse positions with -1, indicating that position was not apparent on a given play and/or frame\n",
    "                                positions = [x for x in df_presnap.columns.values if x not in one_game.columns.values]\n",
    "                                df_presnap.loc[:, positions] = df_presnap.loc[:, positions].fillna(-1)  \n",
    "                                # df_presnap.loc[:, ['frameId','nflId', 'officialPosition', 'gameId', 'playId','QB', 'dist_from_ball']]\n",
    "                                pressureDF.loc[:,['pressureValue','officialPosition']]\n",
    "                                # Creating Animated Pressure Gauge for individual plays\n",
    "                                \n",
    "                                defense = [\n",
    "                                'OLB','MLB','ILB','DE','SS','FS','CB','DT','NT',\n",
    "                                'OLB1','OLB2','OLB3','OLB4','OLB5',\n",
    "                                'MLB1','MLB2','MLB3','MLB4','MLB5',\n",
    "                                'ILB1','ILB2','ILB3','ILB4','ILB5',\n",
    "                                'DE1','DE2','DE3','DE4','DE5',\n",
    "                                'SS1','SS2','SS3','SS4','SS5',\n",
    "                                'FS1','FS2','FS3','FS4','FS5',\n",
    "                                'CB1','CB2','CB3','CB4','CB5','CB6','CB7',\n",
    "                                'DT1','DT2','DT3','DT4','DT5',\n",
    "                                'NT1','NT2','NT3','NT4','NT5'\n",
    "                                ]\n",
    "\n",
    "                                offense = [\n",
    "                                'QB','RB','WR','TE','FB','T','G','C',\n",
    "                                'QB1','QB2','QB3',\n",
    "                                'RB1','RB2','RB3','RB4',\n",
    "                                'WR','WR1','WR2','WR3','WR4','WR5','WR6','WR7','WR8',\n",
    "                                'TE','TE1','TE2','TE3','TE4',\n",
    "                                'FB1','FB2','FB3',\n",
    "                                'T','T1','T2','T3','T4',\n",
    "                                'G','G1','G2','G3','G4',\n",
    "                                'C','C1','C2','C3'\n",
    "                                ]\n",
    "\n",
    "                                pressureRange = pressureDF[['frameId','officialPosition','pressureValue']]\n",
    "\n",
    "                                for offender in offense:\n",
    "                                    pressureRange = pressureRange[pressureRange.officialPosition != offender]\n",
    "                                \n",
    "                                frameDuration = pressureRange['frameId'].iloc[-1]\n",
    "                                valueLabel = pressureDF['playDescription'].iloc[-1]\n",
    "                                gameId = pressureDF['gameId'].iloc[-1]\n",
    "                                playId = pressureDF['playId'].iloc[-1]\n",
    "                                pass_result = pressureDF['passResult'].iloc[-1]\n",
    "\n",
    "\n",
    "                                # Bar Race by Barplot\n",
    "                                my_raceplot = barplot(pressureRange, item_column='officialPosition',value_column='pressureValue',time_column='frameId')\n",
    "                                my_raceplot = my_raceplot.plot(item_label = 'QB Pressure Gauge', value_label = f'{valueLabel}', frame_duration = frameDuration)\n",
    "                                \n",
    "\n",
    "                                # bar_chart_race\n",
    "\n",
    "                                                               \n",
    "                                return my_raceplot\n",
    "\n",
    "pickingPressurePlay(joined_all)    "
   ]
  }
 ],
 "metadata": {
  "kernelspec": {
   "display_name": "Python 3.7.13 ('mlenv')",
   "language": "python",
   "name": "python3"
  },
  "language_info": {
   "codemirror_mode": {
    "name": "ipython",
    "version": 3
   },
   "file_extension": ".py",
   "mimetype": "text/x-python",
   "name": "python",
   "nbconvert_exporter": "python",
   "pygments_lexer": "ipython3",
   "version": "3.7.13"
  },
  "orig_nbformat": 4,
  "vscode": {
   "interpreter": {
    "hash": "f74e344c1e94a8b6993555691a2d7041ff460e937a5e4f2a54d7af4f5ee2b788"
   }
  }
 },
 "nbformat": 4,
 "nbformat_minor": 2
}
