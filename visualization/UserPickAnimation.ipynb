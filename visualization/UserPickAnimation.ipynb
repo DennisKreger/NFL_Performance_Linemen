{
 "cells": [
  {
   "cell_type": "code",
   "execution_count": 1,
   "metadata": {},
   "outputs": [],
   "source": [
    "# Import dependencies \n",
    "import pandas as pd\n",
    "import numpy as np\n",
    "\n",
    "%matplotlib nbagg\n",
    "import matplotlib.pyplot as plt\n",
    "\n",
    "import plotly.graph_objects as go\n",
    "\n",
    "from raceplotly.plots import barplot\n",
    "\n",
    "pd.options.mode.chained_assignment = None \n",
    "pd.set_option('display.max_columns', None)\n",
    "\n",
    "\n",
    "import warnings \n",
    "warnings.filterwarnings(\"ignore\")"
   ]
  },
  {
   "cell_type": "code",
   "execution_count": 2,
   "metadata": {},
   "outputs": [],
   "source": [
    "# Import Data\n",
    "games = pd.read_csv(\"E:\\\\coding\\\\NFL_Big_Data_Bowl_2023\\\\NFL_Performance_Linemen\\\\resources\\\\csv_files\\\\2023\\\\games.csv\")\n",
    "plays = pd.read_csv(\"E:\\\\coding\\\\NFL_Big_Data_Bowl_2023\\\\NFL_Performance_Linemen\\\\resources\\\\csv_files\\\\2023\\\\plays.csv\")\n",
    "players = pd.read_csv(\"E:\\\\coding\\\\NFL_Big_Data_Bowl_2023\\\\NFL_Performance_Linemen\\\\resources\\\\csv_files\\\\2023\\\\players.csv\")\n",
    "week1 = pd.read_csv(\"E:\\\\coding\\\\NFL_Big_Data_Bowl_2023\\\\NFL_Performance_Linemen\\\\resources\\\\csv_files\\\\2023\\\\week1.csv\", low_memory=False)\n",
    "week2 = pd.read_csv(\"E:\\\\coding\\\\NFL_Big_Data_Bowl_2023\\\\NFL_Performance_Linemen\\\\resources\\\\csv_files\\\\2023\\\\week2.csv\", low_memory=False)\n",
    "week3 = pd.read_csv(\"E:\\\\coding\\\\NFL_Big_Data_Bowl_2023\\\\NFL_Performance_Linemen\\\\resources\\\\csv_files\\\\2023\\\\week3.csv\", low_memory=False)\n",
    "week4 = pd.read_csv(\"E:\\\\coding\\\\NFL_Big_Data_Bowl_2023\\\\NFL_Performance_Linemen\\\\resources\\\\csv_files\\\\2023\\\\week4.csv\", low_memory=False)\n",
    "week5 = pd.read_csv(\"E:\\\\coding\\\\NFL_Big_Data_Bowl_2023\\\\NFL_Performance_Linemen\\\\resources\\\\csv_files\\\\2023\\\\week5.csv\", low_memory=False)\n",
    "week6 = pd.read_csv(\"E:\\\\coding\\\\NFL_Big_Data_Bowl_2023\\\\NFL_Performance_Linemen\\\\resources\\\\csv_files\\\\2023\\\\week6.csv\", low_memory=False)\n",
    "week7 = pd.read_csv(\"E:\\\\coding\\\\NFL_Big_Data_Bowl_2023\\\\NFL_Performance_Linemen\\\\resources\\\\csv_files\\\\2023\\\\week7.csv\", low_memory=False)\n",
    "week8 = pd.read_csv(\"E:\\\\coding\\\\NFL_Big_Data_Bowl_2023\\\\NFL_Performance_Linemen\\\\resources\\\\csv_files\\\\2023\\\\week8.csv\", low_memory=False)\n",
    "\n",
    "pffScoutingData = pd.read_csv(\"E:\\\\coding\\\\NFL_Big_Data_Bowl_2023\\\\NFL_Performance_Linemen\\\\resources\\\\csv_files\\\\2023\\\\pffScoutingData.csv\")\n",
    "\n",
    "pressure = pd.read_csv(\"pressureDF.csv\", low_memory=False)\n",
    "\n",
    "tracking = week1.append([\n",
    "    week2,\n",
    "    week3,\n",
    "    week4,\n",
    "    week5,\n",
    "    week6,\n",
    "    week7,\n",
    "    week8,])\n",
    "\n",
    "joined_all = pd.merge(games,plays,how=\"inner\",on = \"gameId\")\n",
    "joined_all = pd.merge(joined_all,tracking,how=\"inner\",on=[\"gameId\",\"playId\"])\n",
    "# left join on players to keep football records\n",
    "joined_all = pd.merge(joined_all,players,how=\"left\",on = \"nflId\")\n",
    "joined_all = pd.merge(joined_all,pffScoutingData,how=\"left\",on=[\"gameId\",\"playId\",'nflId'])"
   ]
  },
  {
   "cell_type": "code",
   "execution_count": 4,
   "metadata": {},
   "outputs": [
    {
     "data": {
      "application/vnd.plotly.v1+json": {
       "config": {
        "plotlyServerURL": "https://plot.ly"
       },
       "data": [
        {
         "hoverinfo": "none",
         "mode": "text",
         "showlegend": false,
         "text": [
          "10",
          "20",
          "30",
          "40",
          "50",
          "40",
          "30",
          "20",
          "10"
         ],
         "textfont": {
          "color": "#ffffff",
          "family": "Courier New, monospace",
          "size": 30
         },
         "type": "scatter",
         "x": [
          20,
          30,
          40,
          50,
          60,
          70,
          80,
          90,
          100
         ],
         "y": [
          5,
          5,
          5,
          5,
          5,
          5,
          5,
          5,
          5
         ]
        },
        {
         "hoverinfo": "none",
         "mode": "text",
         "showlegend": false,
         "text": [
          "10",
          "20",
          "30",
          "40",
          "50",
          "40",
          "30",
          "20",
          "10"
         ],
         "textfont": {
          "color": "#ffffff",
          "family": "Courier New, monospace",
          "size": 30
         },
         "type": "scatter",
         "x": [
          20,
          30,
          40,
          50,
          60,
          70,
          80,
          90,
          100
         ],
         "y": [
          48.5,
          48.5,
          48.5,
          48.5,
          48.5,
          48.5,
          48.5,
          48.5,
          48.5
         ]
        },
        {
         "hoverinfo": "none",
         "line": {
          "color": "blue",
          "dash": "dash"
         },
         "showlegend": false,
         "type": "scatter",
         "x": [
          87,
          87
         ],
         "y": [
          0,
          53.5
         ]
        },
        {
         "hoverinfo": "none",
         "line": {
          "color": "yellow",
          "dash": "dash"
         },
         "showlegend": false,
         "type": "scatter",
         "x": [
          92,
          92
         ],
         "y": [
          0,
          53.5
         ]
        },
        {
         "hoverinfo": "text",
         "hovertext": [
          "nflId:29851.0<br>displayName:Aaron Rodgers<br>Position:QB<br>Role:Pass",
          "nflId:41282.0<br>displayName:Davante Adams<br>Position:RWR<br>Role:Pass Route",
          "nflId:41296.0<br>displayName:Billy Turner<br>Position:RT<br>Role:Pass Block",
          "nflId:45635.0<br>displayName:Robert Tonyan<br>Position:SLiWR<br>Role:Pass Route",
          "nflId:46243.0<br>displayName:Marquez Valdes-Scantling<br>Position:LWR<br>Role:Pass Route",
          "nflId:46705.0<br>displayName:Allen Lazard<br>Position:SLoWR<br>Role:Pass Route",
          "nflId:47827.0<br>displayName:Elgton Jenkins<br>Position:LT<br>Role:Pass Block",
          "nflId:52470.0<br>displayName:A.J. Dillon<br>Position:HB-R<br>Role:Pass Block",
          "nflId:52600.0<br>displayName:Jon Runyan<br>Position:LG<br>Role:Pass Block",
          "nflId:53491.0<br>displayName:Josh Myers<br>Position:C<br>Role:Pass Block",
          "nflId:53571.0<br>displayName:Royce Newman<br>Position:RG<br>Role:Pass Block"
         ],
         "marker": {
          "color": "#203731"
         },
         "mode": "markers",
         "name": "GB",
         "type": "scatter",
         "x": [
          91.35,
          87.66,
          88.6,
          88.59,
          87.54,
          88.76,
          88.36,
          91.08,
          87.95,
          87.39,
          88.24
         ],
         "y": [
          29.51,
          41.56,
          32.79,
          22.17,
          15.42,
          19.42,
          26.16,
          31.75,
          27.65,
          29.67,
          31.35
         ]
        },
        {
         "hoverinfo": "text",
         "hovertext": [
          "nflId:40000.0<br>displayName:Jamie Collins<br>Position:RILB<br>Role:Coverage",
          "nflId:40171.0<br>displayName:Nicholas Williams<br>Position:LE<br>Role:Pass Rush",
          "nflId:42444.0<br>displayName:Trey Flowers<br>Position:DRT<br>Role:Pass Rush",
          "nflId:43775.0<br>displayName:Romeo Okwara<br>Position:LEO<br>Role:Pass Rush",
          "nflId:44834.0<br>displayName:Charles Harris<br>Position:ROLB<br>Role:Coverage",
          "nflId:44888.0<br>displayName:Alex Anzalone<br>Position:LILB<br>Role:Pass Rush",
          "nflId:46151.0<br>displayName:Tracy Walker<br>Position:FS<br>Role:Coverage",
          "nflId:47864.0<br>displayName:Will Harris<br>Position:FSR<br>Role:Coverage",
          "nflId:47929.0<br>displayName:Amani Oruwariye<br>Position:RCB<br>Role:Coverage",
          "nflId:53530.0<br>displayName:Ifeatu Melifonwu<br>Position:LCB<br>Role:Coverage",
          "nflId:53957.0<br>displayName:A.J. Parker<br>Position:SCBoR<br>Role:Coverage"
         ],
         "marker": {
          "color": "#0076B6"
         },
         "mode": "markers",
         "name": "DET",
         "type": "scatter",
         "x": [
          85.87,
          86.24,
          86.17,
          86.52,
          85.48,
          85.82,
          74.08,
          74.16,
          85.8,
          85.67,
          82.35
         ],
         "y": [
          28.39,
          32.49,
          26.81,
          35.1,
          23.54,
          30.6,
          33.32,
          21.03,
          15.17,
          41.74,
          18.27
         ]
        },
        {
         "hoverinfo": "none",
         "marker": {
          "color": "#CBB67C"
         },
         "mode": "markers",
         "name": "football",
         "type": "scatter",
         "x": [
          86.93
         ],
         "y": [
          29.66
         ]
        }
       ],
       "frames": [
        {
         "data": [
          {
           "hoverinfo": "none",
           "mode": "text",
           "showlegend": false,
           "text": [
            "10",
            "20",
            "30",
            "40",
            "50",
            "40",
            "30",
            "20",
            "10"
           ],
           "textfont": {
            "color": "#ffffff",
            "family": "Courier New, monospace",
            "size": 30
           },
           "type": "scatter",
           "x": [
            20,
            30,
            40,
            50,
            60,
            70,
            80,
            90,
            100
           ],
           "y": [
            5,
            5,
            5,
            5,
            5,
            5,
            5,
            5,
            5
           ]
          },
          {
           "hoverinfo": "none",
           "mode": "text",
           "showlegend": false,
           "text": [
            "10",
            "20",
            "30",
            "40",
            "50",
            "40",
            "30",
            "20",
            "10"
           ],
           "textfont": {
            "color": "#ffffff",
            "family": "Courier New, monospace",
            "size": 30
           },
           "type": "scatter",
           "x": [
            20,
            30,
            40,
            50,
            60,
            70,
            80,
            90,
            100
           ],
           "y": [
            48.5,
            48.5,
            48.5,
            48.5,
            48.5,
            48.5,
            48.5,
            48.5,
            48.5
           ]
          },
          {
           "hoverinfo": "none",
           "line": {
            "color": "blue",
            "dash": "dash"
           },
           "showlegend": false,
           "type": "scatter",
           "x": [
            87,
            87
           ],
           "y": [
            0,
            53.5
           ]
          },
          {
           "hoverinfo": "none",
           "line": {
            "color": "yellow",
            "dash": "dash"
           },
           "showlegend": false,
           "type": "scatter",
           "x": [
            92,
            92
           ],
           "y": [
            0,
            53.5
           ]
          },
          {
           "hoverinfo": "text",
           "hovertext": [
            "nflId:29851.0<br>displayName:Aaron Rodgers<br>Position:QB<br>Role:Pass",
            "nflId:41282.0<br>displayName:Davante Adams<br>Position:RWR<br>Role:Pass Route",
            "nflId:41296.0<br>displayName:Billy Turner<br>Position:RT<br>Role:Pass Block",
            "nflId:45635.0<br>displayName:Robert Tonyan<br>Position:SLiWR<br>Role:Pass Route",
            "nflId:46243.0<br>displayName:Marquez Valdes-Scantling<br>Position:LWR<br>Role:Pass Route",
            "nflId:46705.0<br>displayName:Allen Lazard<br>Position:SLoWR<br>Role:Pass Route",
            "nflId:47827.0<br>displayName:Elgton Jenkins<br>Position:LT<br>Role:Pass Block",
            "nflId:52470.0<br>displayName:A.J. Dillon<br>Position:HB-R<br>Role:Pass Block",
            "nflId:52600.0<br>displayName:Jon Runyan<br>Position:LG<br>Role:Pass Block",
            "nflId:53491.0<br>displayName:Josh Myers<br>Position:C<br>Role:Pass Block",
            "nflId:53571.0<br>displayName:Royce Newman<br>Position:RG<br>Role:Pass Block"
           ],
           "marker": {
            "color": "#203731"
           },
           "mode": "markers",
           "name": "GB",
           "type": "scatter",
           "x": [
            91.35,
            87.66,
            88.6,
            88.59,
            87.54,
            88.75,
            88.36,
            91.07,
            87.95,
            87.39,
            88.24
           ],
           "y": [
            29.51,
            41.56,
            32.8,
            22.17,
            15.42,
            19.42,
            26.16,
            31.75,
            27.65,
            29.67,
            31.35
           ]
          },
          {
           "hoverinfo": "text",
           "hovertext": [
            "nflId:40000.0<br>displayName:Jamie Collins<br>Position:RILB<br>Role:Coverage",
            "nflId:40171.0<br>displayName:Nicholas Williams<br>Position:LE<br>Role:Pass Rush",
            "nflId:42444.0<br>displayName:Trey Flowers<br>Position:DRT<br>Role:Pass Rush",
            "nflId:43775.0<br>displayName:Romeo Okwara<br>Position:LEO<br>Role:Pass Rush",
            "nflId:44834.0<br>displayName:Charles Harris<br>Position:ROLB<br>Role:Coverage",
            "nflId:44888.0<br>displayName:Alex Anzalone<br>Position:LILB<br>Role:Pass Rush",
            "nflId:46151.0<br>displayName:Tracy Walker<br>Position:FS<br>Role:Coverage",
            "nflId:47864.0<br>displayName:Will Harris<br>Position:FSR<br>Role:Coverage",
            "nflId:47929.0<br>displayName:Amani Oruwariye<br>Position:RCB<br>Role:Coverage",
            "nflId:53530.0<br>displayName:Ifeatu Melifonwu<br>Position:LCB<br>Role:Coverage",
            "nflId:53957.0<br>displayName:A.J. Parker<br>Position:SCBoR<br>Role:Coverage"
           ],
           "marker": {
            "color": "#0076B6"
           },
           "mode": "markers",
           "name": "DET",
           "type": "scatter",
           "x": [
            85.87,
            86.24,
            86.17,
            86.52,
            85.49,
            85.82,
            74.09,
            74.15,
            85.8,
            85.67,
            82.33
           ],
           "y": [
            28.39,
            32.49,
            26.81,
            35.1,
            23.54,
            30.6,
            33.32,
            21.03,
            15.17,
            41.73,
            18.27
           ]
          },
          {
           "hoverinfo": "none",
           "marker": {
            "color": "#CBB67C"
           },
           "mode": "markers",
           "name": "football",
           "type": "scatter",
           "x": [
            86.93
           ],
           "y": [
            29.66
           ]
          }
         ],
         "name": "2"
        },
        {
         "data": [
          {
           "hoverinfo": "none",
           "mode": "text",
           "showlegend": false,
           "text": [
            "10",
            "20",
            "30",
            "40",
            "50",
            "40",
            "30",
            "20",
            "10"
           ],
           "textfont": {
            "color": "#ffffff",
            "family": "Courier New, monospace",
            "size": 30
           },
           "type": "scatter",
           "x": [
            20,
            30,
            40,
            50,
            60,
            70,
            80,
            90,
            100
           ],
           "y": [
            5,
            5,
            5,
            5,
            5,
            5,
            5,
            5,
            5
           ]
          },
          {
           "hoverinfo": "none",
           "mode": "text",
           "showlegend": false,
           "text": [
            "10",
            "20",
            "30",
            "40",
            "50",
            "40",
            "30",
            "20",
            "10"
           ],
           "textfont": {
            "color": "#ffffff",
            "family": "Courier New, monospace",
            "size": 30
           },
           "type": "scatter",
           "x": [
            20,
            30,
            40,
            50,
            60,
            70,
            80,
            90,
            100
           ],
           "y": [
            48.5,
            48.5,
            48.5,
            48.5,
            48.5,
            48.5,
            48.5,
            48.5,
            48.5
           ]
          },
          {
           "hoverinfo": "none",
           "line": {
            "color": "blue",
            "dash": "dash"
           },
           "showlegend": false,
           "type": "scatter",
           "x": [
            87,
            87
           ],
           "y": [
            0,
            53.5
           ]
          },
          {
           "hoverinfo": "none",
           "line": {
            "color": "yellow",
            "dash": "dash"
           },
           "showlegend": false,
           "type": "scatter",
           "x": [
            92,
            92
           ],
           "y": [
            0,
            53.5
           ]
          },
          {
           "hoverinfo": "text",
           "hovertext": [
            "nflId:29851.0<br>displayName:Aaron Rodgers<br>Position:QB<br>Role:Pass",
            "nflId:41282.0<br>displayName:Davante Adams<br>Position:RWR<br>Role:Pass Route",
            "nflId:41296.0<br>displayName:Billy Turner<br>Position:RT<br>Role:Pass Block",
            "nflId:45635.0<br>displayName:Robert Tonyan<br>Position:SLiWR<br>Role:Pass Route",
            "nflId:46243.0<br>displayName:Marquez Valdes-Scantling<br>Position:LWR<br>Role:Pass Route",
            "nflId:46705.0<br>displayName:Allen Lazard<br>Position:SLoWR<br>Role:Pass Route",
            "nflId:47827.0<br>displayName:Elgton Jenkins<br>Position:LT<br>Role:Pass Block",
            "nflId:52470.0<br>displayName:A.J. Dillon<br>Position:HB-R<br>Role:Pass Block",
            "nflId:52600.0<br>displayName:Jon Runyan<br>Position:LG<br>Role:Pass Block",
            "nflId:53491.0<br>displayName:Josh Myers<br>Position:C<br>Role:Pass Block",
            "nflId:53571.0<br>displayName:Royce Newman<br>Position:RG<br>Role:Pass Block"
           ],
           "marker": {
            "color": "#203731"
           },
           "mode": "markers",
           "name": "GB",
           "type": "scatter",
           "x": [
            91.34,
            87.66,
            88.6,
            88.59,
            87.54,
            88.75,
            88.36,
            91.08,
            87.95,
            87.39,
            88.24
           ],
           "y": [
            29.52,
            41.56,
            32.8,
            22.17,
            15.42,
            19.42,
            26.16,
            31.75,
            27.65,
            29.67,
            31.35
           ]
          },
          {
           "hoverinfo": "text",
           "hovertext": [
            "nflId:40000.0<br>displayName:Jamie Collins<br>Position:RILB<br>Role:Coverage",
            "nflId:40171.0<br>displayName:Nicholas Williams<br>Position:LE<br>Role:Pass Rush",
            "nflId:42444.0<br>displayName:Trey Flowers<br>Position:DRT<br>Role:Pass Rush",
            "nflId:43775.0<br>displayName:Romeo Okwara<br>Position:LEO<br>Role:Pass Rush",
            "nflId:44834.0<br>displayName:Charles Harris<br>Position:ROLB<br>Role:Coverage",
            "nflId:44888.0<br>displayName:Alex Anzalone<br>Position:LILB<br>Role:Pass Rush",
            "nflId:46151.0<br>displayName:Tracy Walker<br>Position:FS<br>Role:Coverage",
            "nflId:47864.0<br>displayName:Will Harris<br>Position:FSR<br>Role:Coverage",
            "nflId:47929.0<br>displayName:Amani Oruwariye<br>Position:RCB<br>Role:Coverage",
            "nflId:53530.0<br>displayName:Ifeatu Melifonwu<br>Position:LCB<br>Role:Coverage",
            "nflId:53957.0<br>displayName:A.J. Parker<br>Position:SCBoR<br>Role:Coverage"
           ],
           "marker": {
            "color": "#0076B6"
           },
           "mode": "markers",
           "name": "DET",
           "type": "scatter",
           "x": [
            85.86,
            86.25,
            86.17,
            86.52,
            85.49,
            85.82,
            74.12,
            74.15,
            85.81,
            85.67,
            82.33
           ],
           "y": [
            28.39,
            32.49,
            26.8,
            35.1,
            23.54,
            30.6,
            33.32,
            21.03,
            15.16,
            41.73,
            18.27
           ]
          },
          {
           "hoverinfo": "none",
           "marker": {
            "color": "#CBB67C"
           },
           "mode": "markers",
           "name": "football",
           "type": "scatter",
           "x": [
            86.93
           ],
           "y": [
            29.66
           ]
          }
         ],
         "name": "3"
        },
        {
         "data": [
          {
           "hoverinfo": "none",
           "mode": "text",
           "showlegend": false,
           "text": [
            "10",
            "20",
            "30",
            "40",
            "50",
            "40",
            "30",
            "20",
            "10"
           ],
           "textfont": {
            "color": "#ffffff",
            "family": "Courier New, monospace",
            "size": 30
           },
           "type": "scatter",
           "x": [
            20,
            30,
            40,
            50,
            60,
            70,
            80,
            90,
            100
           ],
           "y": [
            5,
            5,
            5,
            5,
            5,
            5,
            5,
            5,
            5
           ]
          },
          {
           "hoverinfo": "none",
           "mode": "text",
           "showlegend": false,
           "text": [
            "10",
            "20",
            "30",
            "40",
            "50",
            "40",
            "30",
            "20",
            "10"
           ],
           "textfont": {
            "color": "#ffffff",
            "family": "Courier New, monospace",
            "size": 30
           },
           "type": "scatter",
           "x": [
            20,
            30,
            40,
            50,
            60,
            70,
            80,
            90,
            100
           ],
           "y": [
            48.5,
            48.5,
            48.5,
            48.5,
            48.5,
            48.5,
            48.5,
            48.5,
            48.5
           ]
          },
          {
           "hoverinfo": "none",
           "line": {
            "color": "blue",
            "dash": "dash"
           },
           "showlegend": false,
           "type": "scatter",
           "x": [
            87,
            87
           ],
           "y": [
            0,
            53.5
           ]
          },
          {
           "hoverinfo": "none",
           "line": {
            "color": "yellow",
            "dash": "dash"
           },
           "showlegend": false,
           "type": "scatter",
           "x": [
            92,
            92
           ],
           "y": [
            0,
            53.5
           ]
          },
          {
           "hoverinfo": "text",
           "hovertext": [
            "nflId:29851.0<br>displayName:Aaron Rodgers<br>Position:QB<br>Role:Pass",
            "nflId:41282.0<br>displayName:Davante Adams<br>Position:RWR<br>Role:Pass Route",
            "nflId:41296.0<br>displayName:Billy Turner<br>Position:RT<br>Role:Pass Block",
            "nflId:45635.0<br>displayName:Robert Tonyan<br>Position:SLiWR<br>Role:Pass Route",
            "nflId:46243.0<br>displayName:Marquez Valdes-Scantling<br>Position:LWR<br>Role:Pass Route",
            "nflId:46705.0<br>displayName:Allen Lazard<br>Position:SLoWR<br>Role:Pass Route",
            "nflId:47827.0<br>displayName:Elgton Jenkins<br>Position:LT<br>Role:Pass Block",
            "nflId:52470.0<br>displayName:A.J. Dillon<br>Position:HB-R<br>Role:Pass Block",
            "nflId:52600.0<br>displayName:Jon Runyan<br>Position:LG<br>Role:Pass Block",
            "nflId:53491.0<br>displayName:Josh Myers<br>Position:C<br>Role:Pass Block",
            "nflId:53571.0<br>displayName:Royce Newman<br>Position:RG<br>Role:Pass Block"
           ],
           "marker": {
            "color": "#203731"
           },
           "mode": "markers",
           "name": "GB",
           "type": "scatter",
           "x": [
            91.34,
            87.66,
            88.61,
            88.59,
            87.54,
            88.75,
            88.36,
            91.08,
            87.96,
            87.4,
            88.24
           ],
           "y": [
            29.51,
            41.56,
            32.8,
            22.17,
            15.42,
            19.42,
            26.16,
            31.75,
            27.65,
            29.67,
            31.35
           ]
          },
          {
           "hoverinfo": "text",
           "hovertext": [
            "nflId:40000.0<br>displayName:Jamie Collins<br>Position:RILB<br>Role:Coverage",
            "nflId:40171.0<br>displayName:Nicholas Williams<br>Position:LE<br>Role:Pass Rush",
            "nflId:42444.0<br>displayName:Trey Flowers<br>Position:DRT<br>Role:Pass Rush",
            "nflId:43775.0<br>displayName:Romeo Okwara<br>Position:LEO<br>Role:Pass Rush",
            "nflId:44834.0<br>displayName:Charles Harris<br>Position:ROLB<br>Role:Coverage",
            "nflId:44888.0<br>displayName:Alex Anzalone<br>Position:LILB<br>Role:Pass Rush",
            "nflId:46151.0<br>displayName:Tracy Walker<br>Position:FS<br>Role:Coverage",
            "nflId:47864.0<br>displayName:Will Harris<br>Position:FSR<br>Role:Coverage",
            "nflId:47929.0<br>displayName:Amani Oruwariye<br>Position:RCB<br>Role:Coverage",
            "nflId:53530.0<br>displayName:Ifeatu Melifonwu<br>Position:LCB<br>Role:Coverage",
            "nflId:53957.0<br>displayName:A.J. Parker<br>Position:SCBoR<br>Role:Coverage"
           ],
           "marker": {
            "color": "#0076B6"
           },
           "mode": "markers",
           "name": "DET",
           "type": "scatter",
           "x": [
            85.85,
            86.25,
            86.17,
            86.53,
            85.48,
            85.83,
            74.14,
            74.15,
            85.83,
            85.67,
            82.32
           ],
           "y": [
            28.39,
            32.49,
            26.8,
            35.1,
            23.54,
            30.6,
            33.33,
            21.02,
            15.17,
            41.73,
            18.26
           ]
          },
          {
           "hoverinfo": "none",
           "marker": {
            "color": "#CBB67C"
           },
           "mode": "markers",
           "name": "football",
           "type": "scatter",
           "x": [
            86.93
           ],
           "y": [
            29.66
           ]
          }
         ],
         "name": "4"
        },
        {
         "data": [
          {
           "hoverinfo": "none",
           "mode": "text",
           "showlegend": false,
           "text": [
            "10",
            "20",
            "30",
            "40",
            "50",
            "40",
            "30",
            "20",
            "10"
           ],
           "textfont": {
            "color": "#ffffff",
            "family": "Courier New, monospace",
            "size": 30
           },
           "type": "scatter",
           "x": [
            20,
            30,
            40,
            50,
            60,
            70,
            80,
            90,
            100
           ],
           "y": [
            5,
            5,
            5,
            5,
            5,
            5,
            5,
            5,
            5
           ]
          },
          {
           "hoverinfo": "none",
           "mode": "text",
           "showlegend": false,
           "text": [
            "10",
            "20",
            "30",
            "40",
            "50",
            "40",
            "30",
            "20",
            "10"
           ],
           "textfont": {
            "color": "#ffffff",
            "family": "Courier New, monospace",
            "size": 30
           },
           "type": "scatter",
           "x": [
            20,
            30,
            40,
            50,
            60,
            70,
            80,
            90,
            100
           ],
           "y": [
            48.5,
            48.5,
            48.5,
            48.5,
            48.5,
            48.5,
            48.5,
            48.5,
            48.5
           ]
          },
          {
           "hoverinfo": "none",
           "line": {
            "color": "blue",
            "dash": "dash"
           },
           "showlegend": false,
           "type": "scatter",
           "x": [
            87,
            87
           ],
           "y": [
            0,
            53.5
           ]
          },
          {
           "hoverinfo": "none",
           "line": {
            "color": "yellow",
            "dash": "dash"
           },
           "showlegend": false,
           "type": "scatter",
           "x": [
            92,
            92
           ],
           "y": [
            0,
            53.5
           ]
          },
          {
           "hoverinfo": "text",
           "hovertext": [
            "nflId:29851.0<br>displayName:Aaron Rodgers<br>Position:QB<br>Role:Pass",
            "nflId:41282.0<br>displayName:Davante Adams<br>Position:RWR<br>Role:Pass Route",
            "nflId:41296.0<br>displayName:Billy Turner<br>Position:RT<br>Role:Pass Block",
            "nflId:45635.0<br>displayName:Robert Tonyan<br>Position:SLiWR<br>Role:Pass Route",
            "nflId:46243.0<br>displayName:Marquez Valdes-Scantling<br>Position:LWR<br>Role:Pass Route",
            "nflId:46705.0<br>displayName:Allen Lazard<br>Position:SLoWR<br>Role:Pass Route",
            "nflId:47827.0<br>displayName:Elgton Jenkins<br>Position:LT<br>Role:Pass Block",
            "nflId:52470.0<br>displayName:A.J. Dillon<br>Position:HB-R<br>Role:Pass Block",
            "nflId:52600.0<br>displayName:Jon Runyan<br>Position:LG<br>Role:Pass Block",
            "nflId:53491.0<br>displayName:Josh Myers<br>Position:C<br>Role:Pass Block",
            "nflId:53571.0<br>displayName:Royce Newman<br>Position:RG<br>Role:Pass Block"
           ],
           "marker": {
            "color": "#203731"
           },
           "mode": "markers",
           "name": "GB",
           "type": "scatter",
           "x": [
            91.35,
            87.66,
            88.61,
            88.58,
            87.53,
            88.74,
            88.36,
            91.08,
            87.96,
            87.41,
            88.24
           ],
           "y": [
            29.51,
            41.56,
            32.81,
            22.17,
            15.42,
            19.43,
            26.16,
            31.75,
            27.65,
            29.67,
            31.35
           ]
          },
          {
           "hoverinfo": "text",
           "hovertext": [
            "nflId:40000.0<br>displayName:Jamie Collins<br>Position:RILB<br>Role:Coverage",
            "nflId:40171.0<br>displayName:Nicholas Williams<br>Position:LE<br>Role:Pass Rush",
            "nflId:42444.0<br>displayName:Trey Flowers<br>Position:DRT<br>Role:Pass Rush",
            "nflId:43775.0<br>displayName:Romeo Okwara<br>Position:LEO<br>Role:Pass Rush",
            "nflId:44834.0<br>displayName:Charles Harris<br>Position:ROLB<br>Role:Coverage",
            "nflId:44888.0<br>displayName:Alex Anzalone<br>Position:LILB<br>Role:Pass Rush",
            "nflId:46151.0<br>displayName:Tracy Walker<br>Position:FS<br>Role:Coverage",
            "nflId:47864.0<br>displayName:Will Harris<br>Position:FSR<br>Role:Coverage",
            "nflId:47929.0<br>displayName:Amani Oruwariye<br>Position:RCB<br>Role:Coverage",
            "nflId:53530.0<br>displayName:Ifeatu Melifonwu<br>Position:LCB<br>Role:Coverage",
            "nflId:53957.0<br>displayName:A.J. Parker<br>Position:SCBoR<br>Role:Coverage"
           ],
           "marker": {
            "color": "#0076B6"
           },
           "mode": "markers",
           "name": "DET",
           "type": "scatter",
           "x": [
            85.85,
            86.26,
            86.17,
            86.53,
            85.48,
            85.83,
            74.18,
            74.15,
            85.85,
            85.67,
            82.31
           ],
           "y": [
            28.39,
            32.5,
            26.8,
            35.1,
            23.54,
            30.6,
            33.34,
            21.02,
            15.17,
            41.73,
            18.25
           ]
          },
          {
           "hoverinfo": "none",
           "marker": {
            "color": "#CBB67C"
           },
           "mode": "markers",
           "name": "football",
           "type": "scatter",
           "x": [
            86.93
           ],
           "y": [
            29.66
           ]
          }
         ],
         "name": "5"
        },
        {
         "data": [
          {
           "hoverinfo": "none",
           "mode": "text",
           "showlegend": false,
           "text": [
            "10",
            "20",
            "30",
            "40",
            "50",
            "40",
            "30",
            "20",
            "10"
           ],
           "textfont": {
            "color": "#ffffff",
            "family": "Courier New, monospace",
            "size": 30
           },
           "type": "scatter",
           "x": [
            20,
            30,
            40,
            50,
            60,
            70,
            80,
            90,
            100
           ],
           "y": [
            5,
            5,
            5,
            5,
            5,
            5,
            5,
            5,
            5
           ]
          },
          {
           "hoverinfo": "none",
           "mode": "text",
           "showlegend": false,
           "text": [
            "10",
            "20",
            "30",
            "40",
            "50",
            "40",
            "30",
            "20",
            "10"
           ],
           "textfont": {
            "color": "#ffffff",
            "family": "Courier New, monospace",
            "size": 30
           },
           "type": "scatter",
           "x": [
            20,
            30,
            40,
            50,
            60,
            70,
            80,
            90,
            100
           ],
           "y": [
            48.5,
            48.5,
            48.5,
            48.5,
            48.5,
            48.5,
            48.5,
            48.5,
            48.5
           ]
          },
          {
           "hoverinfo": "none",
           "line": {
            "color": "blue",
            "dash": "dash"
           },
           "showlegend": false,
           "type": "scatter",
           "x": [
            87,
            87
           ],
           "y": [
            0,
            53.5
           ]
          },
          {
           "hoverinfo": "none",
           "line": {
            "color": "yellow",
            "dash": "dash"
           },
           "showlegend": false,
           "type": "scatter",
           "x": [
            92,
            92
           ],
           "y": [
            0,
            53.5
           ]
          },
          {
           "hoverinfo": "text",
           "hovertext": [
            "nflId:29851.0<br>displayName:Aaron Rodgers<br>Position:QB<br>Role:Pass",
            "nflId:41282.0<br>displayName:Davante Adams<br>Position:RWR<br>Role:Pass Route",
            "nflId:41296.0<br>displayName:Billy Turner<br>Position:RT<br>Role:Pass Block",
            "nflId:45635.0<br>displayName:Robert Tonyan<br>Position:SLiWR<br>Role:Pass Route",
            "nflId:46243.0<br>displayName:Marquez Valdes-Scantling<br>Position:LWR<br>Role:Pass Route",
            "nflId:46705.0<br>displayName:Allen Lazard<br>Position:SLoWR<br>Role:Pass Route",
            "nflId:47827.0<br>displayName:Elgton Jenkins<br>Position:LT<br>Role:Pass Block",
            "nflId:52470.0<br>displayName:A.J. Dillon<br>Position:HB-R<br>Role:Pass Block",
            "nflId:52600.0<br>displayName:Jon Runyan<br>Position:LG<br>Role:Pass Block",
            "nflId:53491.0<br>displayName:Josh Myers<br>Position:C<br>Role:Pass Block",
            "nflId:53571.0<br>displayName:Royce Newman<br>Position:RG<br>Role:Pass Block"
           ],
           "marker": {
            "color": "#203731"
           },
           "mode": "markers",
           "name": "GB",
           "type": "scatter",
           "x": [
            91.35,
            87.66,
            88.64,
            88.57,
            87.53,
            88.73,
            88.37,
            91.08,
            87.96,
            87.43,
            88.27
           ],
           "y": [
            29.51,
            41.56,
            32.84,
            22.17,
            15.42,
            19.44,
            26.16,
            31.75,
            27.65,
            29.68,
            31.37
           ]
          },
          {
           "hoverinfo": "text",
           "hovertext": [
            "nflId:40000.0<br>displayName:Jamie Collins<br>Position:RILB<br>Role:Coverage",
            "nflId:40171.0<br>displayName:Nicholas Williams<br>Position:LE<br>Role:Pass Rush",
            "nflId:42444.0<br>displayName:Trey Flowers<br>Position:DRT<br>Role:Pass Rush",
            "nflId:43775.0<br>displayName:Romeo Okwara<br>Position:LEO<br>Role:Pass Rush",
            "nflId:44834.0<br>displayName:Charles Harris<br>Position:ROLB<br>Role:Coverage",
            "nflId:44888.0<br>displayName:Alex Anzalone<br>Position:LILB<br>Role:Pass Rush",
            "nflId:46151.0<br>displayName:Tracy Walker<br>Position:FS<br>Role:Coverage",
            "nflId:47864.0<br>displayName:Will Harris<br>Position:FSR<br>Role:Coverage",
            "nflId:47929.0<br>displayName:Amani Oruwariye<br>Position:RCB<br>Role:Coverage",
            "nflId:53530.0<br>displayName:Ifeatu Melifonwu<br>Position:LCB<br>Role:Coverage",
            "nflId:53957.0<br>displayName:A.J. Parker<br>Position:SCBoR<br>Role:Coverage"
           ],
           "marker": {
            "color": "#0076B6"
           },
           "mode": "markers",
           "name": "DET",
           "type": "scatter",
           "x": [
            85.84,
            86.3,
            86.18,
            86.54,
            85.48,
            85.83,
            74.26,
            74.15,
            85.87,
            85.67,
            82.32
           ],
           "y": [
            28.38,
            32.5,
            26.8,
            35.1,
            23.54,
            30.6,
            33.36,
            21.02,
            15.18,
            41.73,
            18.26
           ]
          },
          {
           "hoverinfo": "none",
           "marker": {
            "color": "#CBB67C"
           },
           "mode": "markers",
           "name": "football",
           "type": "scatter",
           "x": [
            86.93
           ],
           "y": [
            29.66
           ]
          }
         ],
         "name": "6"
        },
        {
         "data": [
          {
           "hoverinfo": "none",
           "mode": "text",
           "showlegend": false,
           "text": [
            "10",
            "20",
            "30",
            "40",
            "50",
            "40",
            "30",
            "20",
            "10"
           ],
           "textfont": {
            "color": "#ffffff",
            "family": "Courier New, monospace",
            "size": 30
           },
           "type": "scatter",
           "x": [
            20,
            30,
            40,
            50,
            60,
            70,
            80,
            90,
            100
           ],
           "y": [
            5,
            5,
            5,
            5,
            5,
            5,
            5,
            5,
            5
           ]
          },
          {
           "hoverinfo": "none",
           "mode": "text",
           "showlegend": false,
           "text": [
            "10",
            "20",
            "30",
            "40",
            "50",
            "40",
            "30",
            "20",
            "10"
           ],
           "textfont": {
            "color": "#ffffff",
            "family": "Courier New, monospace",
            "size": 30
           },
           "type": "scatter",
           "x": [
            20,
            30,
            40,
            50,
            60,
            70,
            80,
            90,
            100
           ],
           "y": [
            48.5,
            48.5,
            48.5,
            48.5,
            48.5,
            48.5,
            48.5,
            48.5,
            48.5
           ]
          },
          {
           "hoverinfo": "none",
           "line": {
            "color": "blue",
            "dash": "dash"
           },
           "showlegend": false,
           "type": "scatter",
           "x": [
            87,
            87
           ],
           "y": [
            0,
            53.5
           ]
          },
          {
           "hoverinfo": "none",
           "line": {
            "color": "yellow",
            "dash": "dash"
           },
           "showlegend": false,
           "type": "scatter",
           "x": [
            92,
            92
           ],
           "y": [
            0,
            53.5
           ]
          },
          {
           "hoverinfo": "text",
           "hovertext": [
            "nflId:29851.0<br>displayName:Aaron Rodgers<br>Position:QB<br>Role:Pass",
            "nflId:41282.0<br>displayName:Davante Adams<br>Position:RWR<br>Role:Pass Route",
            "nflId:41296.0<br>displayName:Billy Turner<br>Position:RT<br>Role:Pass Block",
            "nflId:45635.0<br>displayName:Robert Tonyan<br>Position:SLiWR<br>Role:Pass Route",
            "nflId:46243.0<br>displayName:Marquez Valdes-Scantling<br>Position:LWR<br>Role:Pass Route",
            "nflId:46705.0<br>displayName:Allen Lazard<br>Position:SLoWR<br>Role:Pass Route",
            "nflId:47827.0<br>displayName:Elgton Jenkins<br>Position:LT<br>Role:Pass Block",
            "nflId:52470.0<br>displayName:A.J. Dillon<br>Position:HB-R<br>Role:Pass Block",
            "nflId:52600.0<br>displayName:Jon Runyan<br>Position:LG<br>Role:Pass Block",
            "nflId:53491.0<br>displayName:Josh Myers<br>Position:C<br>Role:Pass Block",
            "nflId:53571.0<br>displayName:Royce Newman<br>Position:RG<br>Role:Pass Block"
           ],
           "marker": {
            "color": "#203731"
           },
           "mode": "markers",
           "name": "GB",
           "type": "scatter",
           "x": [
            91.36,
            87.65,
            88.69,
            88.56,
            87.53,
            88.71,
            88.38,
            91.08,
            87.97,
            87.47,
            88.3
           ],
           "y": [
            29.51,
            41.56,
            32.89,
            22.18,
            15.42,
            19.43,
            26.15,
            31.74,
            27.64,
            29.7,
            31.4
           ]
          },
          {
           "hoverinfo": "text",
           "hovertext": [
            "nflId:40000.0<br>displayName:Jamie Collins<br>Position:RILB<br>Role:Coverage",
            "nflId:40171.0<br>displayName:Nicholas Williams<br>Position:LE<br>Role:Pass Rush",
            "nflId:42444.0<br>displayName:Trey Flowers<br>Position:DRT<br>Role:Pass Rush",
            "nflId:43775.0<br>displayName:Romeo Okwara<br>Position:LEO<br>Role:Pass Rush",
            "nflId:44834.0<br>displayName:Charles Harris<br>Position:ROLB<br>Role:Coverage",
            "nflId:44888.0<br>displayName:Alex Anzalone<br>Position:LILB<br>Role:Pass Rush",
            "nflId:46151.0<br>displayName:Tracy Walker<br>Position:FS<br>Role:Coverage",
            "nflId:47864.0<br>displayName:Will Harris<br>Position:FSR<br>Role:Coverage",
            "nflId:47929.0<br>displayName:Amani Oruwariye<br>Position:RCB<br>Role:Coverage",
            "nflId:53530.0<br>displayName:Ifeatu Melifonwu<br>Position:LCB<br>Role:Coverage",
            "nflId:53957.0<br>displayName:A.J. Parker<br>Position:SCBoR<br>Role:Coverage"
           ],
           "marker": {
            "color": "#0076B6"
           },
           "mode": "markers",
           "name": "DET",
           "type": "scatter",
           "x": [
            85.81,
            86.36,
            86.2,
            86.57,
            85.48,
            85.83,
            74.4,
            74.14,
            85.88,
            85.67,
            82.32
           ],
           "y": [
            28.37,
            32.52,
            26.79,
            35.11,
            23.54,
            30.6,
            33.4,
            21.02,
            15.19,
            41.73,
            18.25
           ]
          },
          {
           "hoverinfo": "none",
           "marker": {
            "color": "#CBB67C"
           },
           "mode": "markers",
           "name": "football",
           "type": "scatter",
           "x": [
            86.93
           ],
           "y": [
            29.66
           ]
          }
         ],
         "name": "7"
        },
        {
         "data": [
          {
           "hoverinfo": "none",
           "mode": "text",
           "showlegend": false,
           "text": [
            "10",
            "20",
            "30",
            "40",
            "50",
            "40",
            "30",
            "20",
            "10"
           ],
           "textfont": {
            "color": "#ffffff",
            "family": "Courier New, monospace",
            "size": 30
           },
           "type": "scatter",
           "x": [
            20,
            30,
            40,
            50,
            60,
            70,
            80,
            90,
            100
           ],
           "y": [
            5,
            5,
            5,
            5,
            5,
            5,
            5,
            5,
            5
           ]
          },
          {
           "hoverinfo": "none",
           "mode": "text",
           "showlegend": false,
           "text": [
            "10",
            "20",
            "30",
            "40",
            "50",
            "40",
            "30",
            "20",
            "10"
           ],
           "textfont": {
            "color": "#ffffff",
            "family": "Courier New, monospace",
            "size": 30
           },
           "type": "scatter",
           "x": [
            20,
            30,
            40,
            50,
            60,
            70,
            80,
            90,
            100
           ],
           "y": [
            48.5,
            48.5,
            48.5,
            48.5,
            48.5,
            48.5,
            48.5,
            48.5,
            48.5
           ]
          },
          {
           "hoverinfo": "none",
           "line": {
            "color": "blue",
            "dash": "dash"
           },
           "showlegend": false,
           "type": "scatter",
           "x": [
            87,
            87
           ],
           "y": [
            0,
            53.5
           ]
          },
          {
           "hoverinfo": "none",
           "line": {
            "color": "yellow",
            "dash": "dash"
           },
           "showlegend": false,
           "type": "scatter",
           "x": [
            92,
            92
           ],
           "y": [
            0,
            53.5
           ]
          },
          {
           "hoverinfo": "text",
           "hovertext": [
            "nflId:29851.0<br>displayName:Aaron Rodgers<br>Position:QB<br>Role:Pass",
            "nflId:41282.0<br>displayName:Davante Adams<br>Position:RWR<br>Role:Pass Route",
            "nflId:41296.0<br>displayName:Billy Turner<br>Position:RT<br>Role:Pass Block",
            "nflId:45635.0<br>displayName:Robert Tonyan<br>Position:SLiWR<br>Role:Pass Route",
            "nflId:46243.0<br>displayName:Marquez Valdes-Scantling<br>Position:LWR<br>Role:Pass Route",
            "nflId:46705.0<br>displayName:Allen Lazard<br>Position:SLoWR<br>Role:Pass Route",
            "nflId:47827.0<br>displayName:Elgton Jenkins<br>Position:LT<br>Role:Pass Block",
            "nflId:52470.0<br>displayName:A.J. Dillon<br>Position:HB-R<br>Role:Pass Block",
            "nflId:52600.0<br>displayName:Jon Runyan<br>Position:LG<br>Role:Pass Block",
            "nflId:53491.0<br>displayName:Josh Myers<br>Position:C<br>Role:Pass Block",
            "nflId:53571.0<br>displayName:Royce Newman<br>Position:RG<br>Role:Pass Block"
           ],
           "marker": {
            "color": "#203731"
           },
           "mode": "markers",
           "name": "GB",
           "type": "scatter",
           "x": [
            91.37,
            87.65,
            88.77,
            88.52,
            87.53,
            88.69,
            88.39,
            91.07,
            87.97,
            87.53,
            88.35
           ],
           "y": [
            29.51,
            41.56,
            32.95,
            22.17,
            15.43,
            19.44,
            26.15,
            31.73,
            27.64,
            29.73,
            31.45
           ]
          },
          {
           "hoverinfo": "text",
           "hovertext": [
            "nflId:40000.0<br>displayName:Jamie Collins<br>Position:RILB<br>Role:Coverage",
            "nflId:40171.0<br>displayName:Nicholas Williams<br>Position:LE<br>Role:Pass Rush",
            "nflId:42444.0<br>displayName:Trey Flowers<br>Position:DRT<br>Role:Pass Rush",
            "nflId:43775.0<br>displayName:Romeo Okwara<br>Position:LEO<br>Role:Pass Rush",
            "nflId:44834.0<br>displayName:Charles Harris<br>Position:ROLB<br>Role:Coverage",
            "nflId:44888.0<br>displayName:Alex Anzalone<br>Position:LILB<br>Role:Pass Rush",
            "nflId:46151.0<br>displayName:Tracy Walker<br>Position:FS<br>Role:Coverage",
            "nflId:47864.0<br>displayName:Will Harris<br>Position:FSR<br>Role:Coverage",
            "nflId:47929.0<br>displayName:Amani Oruwariye<br>Position:RCB<br>Role:Coverage",
            "nflId:53530.0<br>displayName:Ifeatu Melifonwu<br>Position:LCB<br>Role:Coverage",
            "nflId:53957.0<br>displayName:A.J. Parker<br>Position:SCBoR<br>Role:Coverage"
           ],
           "marker": {
            "color": "#0076B6"
           },
           "mode": "markers",
           "name": "DET",
           "type": "scatter",
           "x": [
            85.74,
            86.45,
            86.24,
            86.63,
            85.48,
            85.86,
            74.58,
            74.14,
            85.91,
            85.67,
            82.32
           ],
           "y": [
            28.33,
            32.53,
            26.78,
            35.12,
            23.54,
            30.6,
            33.45,
            21.01,
            15.22,
            41.73,
            18.27
           ]
          },
          {
           "hoverinfo": "none",
           "marker": {
            "color": "#CBB67C"
           },
           "mode": "markers",
           "name": "football",
           "type": "scatter",
           "x": [
            86.93
           ],
           "y": [
            29.66
           ]
          }
         ],
         "name": "8"
        },
        {
         "data": [
          {
           "hoverinfo": "none",
           "mode": "text",
           "showlegend": false,
           "text": [
            "10",
            "20",
            "30",
            "40",
            "50",
            "40",
            "30",
            "20",
            "10"
           ],
           "textfont": {
            "color": "#ffffff",
            "family": "Courier New, monospace",
            "size": 30
           },
           "type": "scatter",
           "x": [
            20,
            30,
            40,
            50,
            60,
            70,
            80,
            90,
            100
           ],
           "y": [
            5,
            5,
            5,
            5,
            5,
            5,
            5,
            5,
            5
           ]
          },
          {
           "hoverinfo": "none",
           "mode": "text",
           "showlegend": false,
           "text": [
            "10",
            "20",
            "30",
            "40",
            "50",
            "40",
            "30",
            "20",
            "10"
           ],
           "textfont": {
            "color": "#ffffff",
            "family": "Courier New, monospace",
            "size": 30
           },
           "type": "scatter",
           "x": [
            20,
            30,
            40,
            50,
            60,
            70,
            80,
            90,
            100
           ],
           "y": [
            48.5,
            48.5,
            48.5,
            48.5,
            48.5,
            48.5,
            48.5,
            48.5,
            48.5
           ]
          },
          {
           "hoverinfo": "none",
           "line": {
            "color": "blue",
            "dash": "dash"
           },
           "showlegend": false,
           "type": "scatter",
           "x": [
            87,
            87
           ],
           "y": [
            0,
            53.5
           ]
          },
          {
           "hoverinfo": "none",
           "line": {
            "color": "yellow",
            "dash": "dash"
           },
           "showlegend": false,
           "type": "scatter",
           "x": [
            92,
            92
           ],
           "y": [
            0,
            53.5
           ]
          },
          {
           "hoverinfo": "text",
           "hovertext": [
            "nflId:29851.0<br>displayName:Aaron Rodgers<br>Position:QB<br>Role:Pass",
            "nflId:41282.0<br>displayName:Davante Adams<br>Position:RWR<br>Role:Pass Route",
            "nflId:41296.0<br>displayName:Billy Turner<br>Position:RT<br>Role:Pass Block",
            "nflId:45635.0<br>displayName:Robert Tonyan<br>Position:SLiWR<br>Role:Pass Route",
            "nflId:46243.0<br>displayName:Marquez Valdes-Scantling<br>Position:LWR<br>Role:Pass Route",
            "nflId:46705.0<br>displayName:Allen Lazard<br>Position:SLoWR<br>Role:Pass Route",
            "nflId:47827.0<br>displayName:Elgton Jenkins<br>Position:LT<br>Role:Pass Block",
            "nflId:52470.0<br>displayName:A.J. Dillon<br>Position:HB-R<br>Role:Pass Block",
            "nflId:52600.0<br>displayName:Jon Runyan<br>Position:LG<br>Role:Pass Block",
            "nflId:53491.0<br>displayName:Josh Myers<br>Position:C<br>Role:Pass Block",
            "nflId:53571.0<br>displayName:Royce Newman<br>Position:RG<br>Role:Pass Block"
           ],
           "marker": {
            "color": "#203731"
           },
           "mode": "markers",
           "name": "GB",
           "type": "scatter",
           "x": [
            91.38,
            87.62,
            88.89,
            88.44,
            87.53,
            88.65,
            88.41,
            91.06,
            87.98,
            87.62,
            88.43
           ],
           "y": [
            29.51,
            41.56,
            33.02,
            22.16,
            15.43,
            19.45,
            26.13,
            31.69,
            27.63,
            29.76,
            31.51
           ]
          },
          {
           "hoverinfo": "text",
           "hovertext": [
            "nflId:40000.0<br>displayName:Jamie Collins<br>Position:RILB<br>Role:Coverage",
            "nflId:40171.0<br>displayName:Nicholas Williams<br>Position:LE<br>Role:Pass Rush",
            "nflId:42444.0<br>displayName:Trey Flowers<br>Position:DRT<br>Role:Pass Rush",
            "nflId:43775.0<br>displayName:Romeo Okwara<br>Position:LEO<br>Role:Pass Rush",
            "nflId:44834.0<br>displayName:Charles Harris<br>Position:ROLB<br>Role:Coverage",
            "nflId:44888.0<br>displayName:Alex Anzalone<br>Position:LILB<br>Role:Pass Rush",
            "nflId:46151.0<br>displayName:Tracy Walker<br>Position:FS<br>Role:Coverage",
            "nflId:47864.0<br>displayName:Will Harris<br>Position:FSR<br>Role:Coverage",
            "nflId:47929.0<br>displayName:Amani Oruwariye<br>Position:RCB<br>Role:Coverage",
            "nflId:53530.0<br>displayName:Ifeatu Melifonwu<br>Position:LCB<br>Role:Coverage",
            "nflId:53957.0<br>displayName:A.J. Parker<br>Position:SCBoR<br>Role:Coverage"
           ],
           "marker": {
            "color": "#0076B6"
           },
           "mode": "markers",
           "name": "DET",
           "type": "scatter",
           "x": [
            85.6,
            86.61,
            86.32,
            86.74,
            85.46,
            85.92,
            74.8,
            74.13,
            85.95,
            85.66,
            82.31
           ],
           "y": [
            28.24,
            32.54,
            26.77,
            35.12,
            23.52,
            30.6,
            33.51,
            21.02,
            15.26,
            41.74,
            18.3
           ]
          },
          {
           "hoverinfo": "none",
           "marker": {
            "color": "#CBB67C"
           },
           "mode": "markers",
           "name": "football",
           "type": "scatter",
           "x": [
            89.31
           ],
           "y": [
            29.77
           ]
          }
         ],
         "name": "9"
        },
        {
         "data": [
          {
           "hoverinfo": "none",
           "mode": "text",
           "showlegend": false,
           "text": [
            "10",
            "20",
            "30",
            "40",
            "50",
            "40",
            "30",
            "20",
            "10"
           ],
           "textfont": {
            "color": "#ffffff",
            "family": "Courier New, monospace",
            "size": 30
           },
           "type": "scatter",
           "x": [
            20,
            30,
            40,
            50,
            60,
            70,
            80,
            90,
            100
           ],
           "y": [
            5,
            5,
            5,
            5,
            5,
            5,
            5,
            5,
            5
           ]
          },
          {
           "hoverinfo": "none",
           "mode": "text",
           "showlegend": false,
           "text": [
            "10",
            "20",
            "30",
            "40",
            "50",
            "40",
            "30",
            "20",
            "10"
           ],
           "textfont": {
            "color": "#ffffff",
            "family": "Courier New, monospace",
            "size": 30
           },
           "type": "scatter",
           "x": [
            20,
            30,
            40,
            50,
            60,
            70,
            80,
            90,
            100
           ],
           "y": [
            48.5,
            48.5,
            48.5,
            48.5,
            48.5,
            48.5,
            48.5,
            48.5,
            48.5
           ]
          },
          {
           "hoverinfo": "none",
           "line": {
            "color": "blue",
            "dash": "dash"
           },
           "showlegend": false,
           "type": "scatter",
           "x": [
            87,
            87
           ],
           "y": [
            0,
            53.5
           ]
          },
          {
           "hoverinfo": "none",
           "line": {
            "color": "yellow",
            "dash": "dash"
           },
           "showlegend": false,
           "type": "scatter",
           "x": [
            92,
            92
           ],
           "y": [
            0,
            53.5
           ]
          },
          {
           "hoverinfo": "text",
           "hovertext": [
            "nflId:29851.0<br>displayName:Aaron Rodgers<br>Position:QB<br>Role:Pass",
            "nflId:41282.0<br>displayName:Davante Adams<br>Position:RWR<br>Role:Pass Route",
            "nflId:41296.0<br>displayName:Billy Turner<br>Position:RT<br>Role:Pass Block",
            "nflId:45635.0<br>displayName:Robert Tonyan<br>Position:SLiWR<br>Role:Pass Route",
            "nflId:46243.0<br>displayName:Marquez Valdes-Scantling<br>Position:LWR<br>Role:Pass Route",
            "nflId:46705.0<br>displayName:Allen Lazard<br>Position:SLoWR<br>Role:Pass Route",
            "nflId:47827.0<br>displayName:Elgton Jenkins<br>Position:LT<br>Role:Pass Block",
            "nflId:52470.0<br>displayName:A.J. Dillon<br>Position:HB-R<br>Role:Pass Block",
            "nflId:52600.0<br>displayName:Jon Runyan<br>Position:LG<br>Role:Pass Block",
            "nflId:53491.0<br>displayName:Josh Myers<br>Position:C<br>Role:Pass Block",
            "nflId:53571.0<br>displayName:Royce Newman<br>Position:RG<br>Role:Pass Block"
           ],
           "marker": {
            "color": "#203731"
           },
           "mode": "markers",
           "name": "GB",
           "type": "scatter",
           "x": [
            91.4,
            87.56,
            89.03,
            88.33,
            87.52,
            88.59,
            88.47,
            91.05,
            87.99,
            87.73,
            88.53
           ],
           "y": [
            29.51,
            41.55,
            33.12,
            22.14,
            15.45,
            19.46,
            26.1,
            31.62,
            27.62,
            29.82,
            31.6
           ]
          },
          {
           "hoverinfo": "text",
           "hovertext": [
            "nflId:40000.0<br>displayName:Jamie Collins<br>Position:RILB<br>Role:Coverage",
            "nflId:40171.0<br>displayName:Nicholas Williams<br>Position:LE<br>Role:Pass Rush",
            "nflId:42444.0<br>displayName:Trey Flowers<br>Position:DRT<br>Role:Pass Rush",
            "nflId:43775.0<br>displayName:Romeo Okwara<br>Position:LEO<br>Role:Pass Rush",
            "nflId:44834.0<br>displayName:Charles Harris<br>Position:ROLB<br>Role:Coverage",
            "nflId:44888.0<br>displayName:Alex Anzalone<br>Position:LILB<br>Role:Pass Rush",
            "nflId:46151.0<br>displayName:Tracy Walker<br>Position:FS<br>Role:Coverage",
            "nflId:47864.0<br>displayName:Will Harris<br>Position:FSR<br>Role:Coverage",
            "nflId:47929.0<br>displayName:Amani Oruwariye<br>Position:RCB<br>Role:Coverage",
            "nflId:53530.0<br>displayName:Ifeatu Melifonwu<br>Position:LCB<br>Role:Coverage",
            "nflId:53957.0<br>displayName:A.J. Parker<br>Position:SCBoR<br>Role:Coverage"
           ],
           "marker": {
            "color": "#0076B6"
           },
           "mode": "markers",
           "name": "DET",
           "type": "scatter",
           "x": [
            85.42,
            86.81,
            86.43,
            86.9,
            85.42,
            86.03,
            75.06,
            74.12,
            85.99,
            85.66,
            82.3
           ],
           "y": [
            28.1,
            32.56,
            26.73,
            35.14,
            23.49,
            30.6,
            33.58,
            21.02,
            15.32,
            41.75,
            18.32
           ]
          },
          {
           "hoverinfo": "none",
           "marker": {
            "color": "#CBB67C"
           },
           "mode": "markers",
           "name": "football",
           "type": "scatter",
           "x": [
            89.82
           ],
           "y": [
            29.76
           ]
          }
         ],
         "name": "10"
        },
        {
         "data": [
          {
           "hoverinfo": "none",
           "mode": "text",
           "showlegend": false,
           "text": [
            "10",
            "20",
            "30",
            "40",
            "50",
            "40",
            "30",
            "20",
            "10"
           ],
           "textfont": {
            "color": "#ffffff",
            "family": "Courier New, monospace",
            "size": 30
           },
           "type": "scatter",
           "x": [
            20,
            30,
            40,
            50,
            60,
            70,
            80,
            90,
            100
           ],
           "y": [
            5,
            5,
            5,
            5,
            5,
            5,
            5,
            5,
            5
           ]
          },
          {
           "hoverinfo": "none",
           "mode": "text",
           "showlegend": false,
           "text": [
            "10",
            "20",
            "30",
            "40",
            "50",
            "40",
            "30",
            "20",
            "10"
           ],
           "textfont": {
            "color": "#ffffff",
            "family": "Courier New, monospace",
            "size": 30
           },
           "type": "scatter",
           "x": [
            20,
            30,
            40,
            50,
            60,
            70,
            80,
            90,
            100
           ],
           "y": [
            48.5,
            48.5,
            48.5,
            48.5,
            48.5,
            48.5,
            48.5,
            48.5,
            48.5
           ]
          },
          {
           "hoverinfo": "none",
           "line": {
            "color": "blue",
            "dash": "dash"
           },
           "showlegend": false,
           "type": "scatter",
           "x": [
            87,
            87
           ],
           "y": [
            0,
            53.5
           ]
          },
          {
           "hoverinfo": "none",
           "line": {
            "color": "yellow",
            "dash": "dash"
           },
           "showlegend": false,
           "type": "scatter",
           "x": [
            92,
            92
           ],
           "y": [
            0,
            53.5
           ]
          },
          {
           "hoverinfo": "text",
           "hovertext": [
            "nflId:29851.0<br>displayName:Aaron Rodgers<br>Position:QB<br>Role:Pass",
            "nflId:41282.0<br>displayName:Davante Adams<br>Position:RWR<br>Role:Pass Route",
            "nflId:41296.0<br>displayName:Billy Turner<br>Position:RT<br>Role:Pass Block",
            "nflId:45635.0<br>displayName:Robert Tonyan<br>Position:SLiWR<br>Role:Pass Route",
            "nflId:46243.0<br>displayName:Marquez Valdes-Scantling<br>Position:LWR<br>Role:Pass Route",
            "nflId:46705.0<br>displayName:Allen Lazard<br>Position:SLoWR<br>Role:Pass Route",
            "nflId:47827.0<br>displayName:Elgton Jenkins<br>Position:LT<br>Role:Pass Block",
            "nflId:52470.0<br>displayName:A.J. Dillon<br>Position:HB-R<br>Role:Pass Block",
            "nflId:52600.0<br>displayName:Jon Runyan<br>Position:LG<br>Role:Pass Block",
            "nflId:53491.0<br>displayName:Josh Myers<br>Position:C<br>Role:Pass Block",
            "nflId:53571.0<br>displayName:Royce Newman<br>Position:RG<br>Role:Pass Block"
           ],
           "marker": {
            "color": "#203731"
           },
           "mode": "markers",
           "name": "GB",
           "type": "scatter",
           "x": [
            91.44,
            87.47,
            89.2,
            88.16,
            87.5,
            88.48,
            88.57,
            91.04,
            88.02,
            87.86,
            88.66
           ],
           "y": [
            29.5,
            41.53,
            33.22,
            22.11,
            15.49,
            19.49,
            26.06,
            31.53,
            27.6,
            29.88,
            31.68
           ]
          },
          {
           "hoverinfo": "text",
           "hovertext": [
            "nflId:40000.0<br>displayName:Jamie Collins<br>Position:RILB<br>Role:Coverage",
            "nflId:40171.0<br>displayName:Nicholas Williams<br>Position:LE<br>Role:Pass Rush",
            "nflId:42444.0<br>displayName:Trey Flowers<br>Position:DRT<br>Role:Pass Rush",
            "nflId:43775.0<br>displayName:Romeo Okwara<br>Position:LEO<br>Role:Pass Rush",
            "nflId:44834.0<br>displayName:Charles Harris<br>Position:ROLB<br>Role:Coverage",
            "nflId:44888.0<br>displayName:Alex Anzalone<br>Position:LILB<br>Role:Pass Rush",
            "nflId:46151.0<br>displayName:Tracy Walker<br>Position:FS<br>Role:Coverage",
            "nflId:47864.0<br>displayName:Will Harris<br>Position:FSR<br>Role:Coverage",
            "nflId:47929.0<br>displayName:Amani Oruwariye<br>Position:RCB<br>Role:Coverage",
            "nflId:53530.0<br>displayName:Ifeatu Melifonwu<br>Position:LCB<br>Role:Coverage",
            "nflId:53957.0<br>displayName:A.J. Parker<br>Position:SCBoR<br>Role:Coverage"
           ],
           "marker": {
            "color": "#0076B6"
           },
           "mode": "markers",
           "name": "DET",
           "type": "scatter",
           "x": [
            85.2,
            87.06,
            86.58,
            87.13,
            85.37,
            86.22,
            75.34,
            74.11,
            86.02,
            85.65,
            82.29
           ],
           "y": [
            27.94,
            32.58,
            26.68,
            35.15,
            23.44,
            30.62,
            33.66,
            21.02,
            15.41,
            41.75,
            18.33
           ]
          },
          {
           "hoverinfo": "none",
           "marker": {
            "color": "#CBB67C"
           },
           "mode": "markers",
           "name": "football",
           "type": "scatter",
           "x": [
            90.36
           ],
           "y": [
            29.76
           ]
          }
         ],
         "name": "11"
        },
        {
         "data": [
          {
           "hoverinfo": "none",
           "mode": "text",
           "showlegend": false,
           "text": [
            "10",
            "20",
            "30",
            "40",
            "50",
            "40",
            "30",
            "20",
            "10"
           ],
           "textfont": {
            "color": "#ffffff",
            "family": "Courier New, monospace",
            "size": 30
           },
           "type": "scatter",
           "x": [
            20,
            30,
            40,
            50,
            60,
            70,
            80,
            90,
            100
           ],
           "y": [
            5,
            5,
            5,
            5,
            5,
            5,
            5,
            5,
            5
           ]
          },
          {
           "hoverinfo": "none",
           "mode": "text",
           "showlegend": false,
           "text": [
            "10",
            "20",
            "30",
            "40",
            "50",
            "40",
            "30",
            "20",
            "10"
           ],
           "textfont": {
            "color": "#ffffff",
            "family": "Courier New, monospace",
            "size": 30
           },
           "type": "scatter",
           "x": [
            20,
            30,
            40,
            50,
            60,
            70,
            80,
            90,
            100
           ],
           "y": [
            48.5,
            48.5,
            48.5,
            48.5,
            48.5,
            48.5,
            48.5,
            48.5,
            48.5
           ]
          },
          {
           "hoverinfo": "none",
           "line": {
            "color": "blue",
            "dash": "dash"
           },
           "showlegend": false,
           "type": "scatter",
           "x": [
            87,
            87
           ],
           "y": [
            0,
            53.5
           ]
          },
          {
           "hoverinfo": "none",
           "line": {
            "color": "yellow",
            "dash": "dash"
           },
           "showlegend": false,
           "type": "scatter",
           "x": [
            92,
            92
           ],
           "y": [
            0,
            53.5
           ]
          },
          {
           "hoverinfo": "text",
           "hovertext": [
            "nflId:29851.0<br>displayName:Aaron Rodgers<br>Position:QB<br>Role:Pass",
            "nflId:41282.0<br>displayName:Davante Adams<br>Position:RWR<br>Role:Pass Route",
            "nflId:41296.0<br>displayName:Billy Turner<br>Position:RT<br>Role:Pass Block",
            "nflId:45635.0<br>displayName:Robert Tonyan<br>Position:SLiWR<br>Role:Pass Route",
            "nflId:46243.0<br>displayName:Marquez Valdes-Scantling<br>Position:LWR<br>Role:Pass Route",
            "nflId:46705.0<br>displayName:Allen Lazard<br>Position:SLoWR<br>Role:Pass Route",
            "nflId:47827.0<br>displayName:Elgton Jenkins<br>Position:LT<br>Role:Pass Block",
            "nflId:52470.0<br>displayName:A.J. Dillon<br>Position:HB-R<br>Role:Pass Block",
            "nflId:52600.0<br>displayName:Jon Runyan<br>Position:LG<br>Role:Pass Block",
            "nflId:53491.0<br>displayName:Josh Myers<br>Position:C<br>Role:Pass Block",
            "nflId:53571.0<br>displayName:Royce Newman<br>Position:RG<br>Role:Pass Block"
           ],
           "marker": {
            "color": "#203731"
           },
           "mode": "markers",
           "name": "GB",
           "type": "scatter",
           "x": [
            91.46,
            87.32,
            89.41,
            87.94,
            87.43,
            88.33,
            88.69,
            91.01,
            88.09,
            88.02,
            88.81
           ],
           "y": [
            29.5,
            41.46,
            33.33,
            22.06,
            15.59,
            19.55,
            26.01,
            31.39,
            27.54,
            29.97,
            31.79
           ]
          },
          {
           "hoverinfo": "text",
           "hovertext": [
            "nflId:40000.0<br>displayName:Jamie Collins<br>Position:RILB<br>Role:Coverage",
            "nflId:40171.0<br>displayName:Nicholas Williams<br>Position:LE<br>Role:Pass Rush",
            "nflId:42444.0<br>displayName:Trey Flowers<br>Position:DRT<br>Role:Pass Rush",
            "nflId:43775.0<br>displayName:Romeo Okwara<br>Position:LEO<br>Role:Pass Rush",
            "nflId:44834.0<br>displayName:Charles Harris<br>Position:ROLB<br>Role:Coverage",
            "nflId:44888.0<br>displayName:Alex Anzalone<br>Position:LILB<br>Role:Pass Rush",
            "nflId:46151.0<br>displayName:Tracy Walker<br>Position:FS<br>Role:Coverage",
            "nflId:47864.0<br>displayName:Will Harris<br>Position:FSR<br>Role:Coverage",
            "nflId:47929.0<br>displayName:Amani Oruwariye<br>Position:RCB<br>Role:Coverage",
            "nflId:53530.0<br>displayName:Ifeatu Melifonwu<br>Position:LCB<br>Role:Coverage",
            "nflId:53957.0<br>displayName:A.J. Parker<br>Position:SCBoR<br>Role:Coverage"
           ],
           "marker": {
            "color": "#0076B6"
           },
           "mode": "markers",
           "name": "DET",
           "type": "scatter",
           "x": [
            84.94,
            87.31,
            86.77,
            87.4,
            85.29,
            86.46,
            75.63,
            74.1,
            86.04,
            85.62,
            82.27
           ],
           "y": [
            27.74,
            32.6,
            26.62,
            35.16,
            23.37,
            30.65,
            33.75,
            21.02,
            15.5,
            41.77,
            18.35
           ]
          },
          {
           "hoverinfo": "none",
           "marker": {
            "color": "#CBB67C"
           },
           "mode": "markers",
           "name": "football",
           "type": "scatter",
           "x": [
            90.86
           ],
           "y": [
            29.75
           ]
          }
         ],
         "name": "12"
        },
        {
         "data": [
          {
           "hoverinfo": "none",
           "mode": "text",
           "showlegend": false,
           "text": [
            "10",
            "20",
            "30",
            "40",
            "50",
            "40",
            "30",
            "20",
            "10"
           ],
           "textfont": {
            "color": "#ffffff",
            "family": "Courier New, monospace",
            "size": 30
           },
           "type": "scatter",
           "x": [
            20,
            30,
            40,
            50,
            60,
            70,
            80,
            90,
            100
           ],
           "y": [
            5,
            5,
            5,
            5,
            5,
            5,
            5,
            5,
            5
           ]
          },
          {
           "hoverinfo": "none",
           "mode": "text",
           "showlegend": false,
           "text": [
            "10",
            "20",
            "30",
            "40",
            "50",
            "40",
            "30",
            "20",
            "10"
           ],
           "textfont": {
            "color": "#ffffff",
            "family": "Courier New, monospace",
            "size": 30
           },
           "type": "scatter",
           "x": [
            20,
            30,
            40,
            50,
            60,
            70,
            80,
            90,
            100
           ],
           "y": [
            48.5,
            48.5,
            48.5,
            48.5,
            48.5,
            48.5,
            48.5,
            48.5,
            48.5
           ]
          },
          {
           "hoverinfo": "none",
           "line": {
            "color": "blue",
            "dash": "dash"
           },
           "showlegend": false,
           "type": "scatter",
           "x": [
            87,
            87
           ],
           "y": [
            0,
            53.5
           ]
          },
          {
           "hoverinfo": "none",
           "line": {
            "color": "yellow",
            "dash": "dash"
           },
           "showlegend": false,
           "type": "scatter",
           "x": [
            92,
            92
           ],
           "y": [
            0,
            53.5
           ]
          },
          {
           "hoverinfo": "text",
           "hovertext": [
            "nflId:29851.0<br>displayName:Aaron Rodgers<br>Position:QB<br>Role:Pass",
            "nflId:41282.0<br>displayName:Davante Adams<br>Position:RWR<br>Role:Pass Route",
            "nflId:41296.0<br>displayName:Billy Turner<br>Position:RT<br>Role:Pass Block",
            "nflId:45635.0<br>displayName:Robert Tonyan<br>Position:SLiWR<br>Role:Pass Route",
            "nflId:46243.0<br>displayName:Marquez Valdes-Scantling<br>Position:LWR<br>Role:Pass Route",
            "nflId:46705.0<br>displayName:Allen Lazard<br>Position:SLoWR<br>Role:Pass Route",
            "nflId:47827.0<br>displayName:Elgton Jenkins<br>Position:LT<br>Role:Pass Block",
            "nflId:52470.0<br>displayName:A.J. Dillon<br>Position:HB-R<br>Role:Pass Block",
            "nflId:52600.0<br>displayName:Jon Runyan<br>Position:LG<br>Role:Pass Block",
            "nflId:53491.0<br>displayName:Josh Myers<br>Position:C<br>Role:Pass Block",
            "nflId:53571.0<br>displayName:Royce Newman<br>Position:RG<br>Role:Pass Block"
           ],
           "marker": {
            "color": "#203731"
           },
           "mode": "markers",
           "name": "GB",
           "type": "scatter",
           "x": [
            91.5,
            87.15,
            89.64,
            87.66,
            87.33,
            88.14,
            88.85,
            90.97,
            88.2,
            88.23,
            89.01
           ],
           "y": [
            29.5,
            41.38,
            33.44,
            21.98,
            15.73,
            19.63,
            25.95,
            31.25,
            27.44,
            30.07,
            31.88
           ]
          },
          {
           "hoverinfo": "text",
           "hovertext": [
            "nflId:40000.0<br>displayName:Jamie Collins<br>Position:RILB<br>Role:Coverage",
            "nflId:40171.0<br>displayName:Nicholas Williams<br>Position:LE<br>Role:Pass Rush",
            "nflId:42444.0<br>displayName:Trey Flowers<br>Position:DRT<br>Role:Pass Rush",
            "nflId:43775.0<br>displayName:Romeo Okwara<br>Position:LEO<br>Role:Pass Rush",
            "nflId:44834.0<br>displayName:Charles Harris<br>Position:ROLB<br>Role:Coverage",
            "nflId:44888.0<br>displayName:Alex Anzalone<br>Position:LILB<br>Role:Pass Rush",
            "nflId:46151.0<br>displayName:Tracy Walker<br>Position:FS<br>Role:Coverage",
            "nflId:47864.0<br>displayName:Will Harris<br>Position:FSR<br>Role:Coverage",
            "nflId:47929.0<br>displayName:Amani Oruwariye<br>Position:RCB<br>Role:Coverage",
            "nflId:53530.0<br>displayName:Ifeatu Melifonwu<br>Position:LCB<br>Role:Coverage",
            "nflId:53957.0<br>displayName:A.J. Parker<br>Position:SCBoR<br>Role:Coverage"
           ],
           "marker": {
            "color": "#0076B6"
           },
           "mode": "markers",
           "name": "DET",
           "type": "scatter",
           "x": [
            84.65,
            87.62,
            86.98,
            87.73,
            85.19,
            86.72,
            75.92,
            74.08,
            86.03,
            85.55,
            82.23
           ],
           "y": [
            27.51,
            32.61,
            26.53,
            35.17,
            23.26,
            30.69,
            33.84,
            21.02,
            15.62,
            41.77,
            18.39
           ]
          },
          {
           "hoverinfo": "none",
           "marker": {
            "color": "#CBB67C"
           },
           "mode": "markers",
           "name": "football",
           "type": "scatter",
           "x": [
            91.33
           ],
           "y": [
            29.73
           ]
          }
         ],
         "name": "13"
        },
        {
         "data": [
          {
           "hoverinfo": "none",
           "mode": "text",
           "showlegend": false,
           "text": [
            "10",
            "20",
            "30",
            "40",
            "50",
            "40",
            "30",
            "20",
            "10"
           ],
           "textfont": {
            "color": "#ffffff",
            "family": "Courier New, monospace",
            "size": 30
           },
           "type": "scatter",
           "x": [
            20,
            30,
            40,
            50,
            60,
            70,
            80,
            90,
            100
           ],
           "y": [
            5,
            5,
            5,
            5,
            5,
            5,
            5,
            5,
            5
           ]
          },
          {
           "hoverinfo": "none",
           "mode": "text",
           "showlegend": false,
           "text": [
            "10",
            "20",
            "30",
            "40",
            "50",
            "40",
            "30",
            "20",
            "10"
           ],
           "textfont": {
            "color": "#ffffff",
            "family": "Courier New, monospace",
            "size": 30
           },
           "type": "scatter",
           "x": [
            20,
            30,
            40,
            50,
            60,
            70,
            80,
            90,
            100
           ],
           "y": [
            48.5,
            48.5,
            48.5,
            48.5,
            48.5,
            48.5,
            48.5,
            48.5,
            48.5
           ]
          },
          {
           "hoverinfo": "none",
           "line": {
            "color": "blue",
            "dash": "dash"
           },
           "showlegend": false,
           "type": "scatter",
           "x": [
            87,
            87
           ],
           "y": [
            0,
            53.5
           ]
          },
          {
           "hoverinfo": "none",
           "line": {
            "color": "yellow",
            "dash": "dash"
           },
           "showlegend": false,
           "type": "scatter",
           "x": [
            92,
            92
           ],
           "y": [
            0,
            53.5
           ]
          },
          {
           "hoverinfo": "text",
           "hovertext": [
            "nflId:29851.0<br>displayName:Aaron Rodgers<br>Position:QB<br>Role:Pass",
            "nflId:41282.0<br>displayName:Davante Adams<br>Position:RWR<br>Role:Pass Route",
            "nflId:41296.0<br>displayName:Billy Turner<br>Position:RT<br>Role:Pass Block",
            "nflId:45635.0<br>displayName:Robert Tonyan<br>Position:SLiWR<br>Role:Pass Route",
            "nflId:46243.0<br>displayName:Marquez Valdes-Scantling<br>Position:LWR<br>Role:Pass Route",
            "nflId:46705.0<br>displayName:Allen Lazard<br>Position:SLoWR<br>Role:Pass Route",
            "nflId:47827.0<br>displayName:Elgton Jenkins<br>Position:LT<br>Role:Pass Block",
            "nflId:52470.0<br>displayName:A.J. Dillon<br>Position:HB-R<br>Role:Pass Block",
            "nflId:52600.0<br>displayName:Jon Runyan<br>Position:LG<br>Role:Pass Block",
            "nflId:53491.0<br>displayName:Josh Myers<br>Position:C<br>Role:Pass Block",
            "nflId:53571.0<br>displayName:Royce Newman<br>Position:RG<br>Role:Pass Block"
           ],
           "marker": {
            "color": "#203731"
           },
           "mode": "markers",
           "name": "GB",
           "type": "scatter",
           "x": [
            91.6,
            86.94,
            89.89,
            87.34,
            87.17,
            87.92,
            89.03,
            90.93,
            88.34,
            88.44,
            89.23
           ],
           "y": [
            29.5,
            41.29,
            33.55,
            21.89,
            15.91,
            19.75,
            25.89,
            31.09,
            27.33,
            30.18,
            31.97
           ]
          },
          {
           "hoverinfo": "text",
           "hovertext": [
            "nflId:40000.0<br>displayName:Jamie Collins<br>Position:RILB<br>Role:Coverage",
            "nflId:40171.0<br>displayName:Nicholas Williams<br>Position:LE<br>Role:Pass Rush",
            "nflId:42444.0<br>displayName:Trey Flowers<br>Position:DRT<br>Role:Pass Rush",
            "nflId:43775.0<br>displayName:Romeo Okwara<br>Position:LEO<br>Role:Pass Rush",
            "nflId:44834.0<br>displayName:Charles Harris<br>Position:ROLB<br>Role:Coverage",
            "nflId:44888.0<br>displayName:Alex Anzalone<br>Position:LILB<br>Role:Pass Rush",
            "nflId:46151.0<br>displayName:Tracy Walker<br>Position:FS<br>Role:Coverage",
            "nflId:47864.0<br>displayName:Will Harris<br>Position:FSR<br>Role:Coverage",
            "nflId:47929.0<br>displayName:Amani Oruwariye<br>Position:RCB<br>Role:Coverage",
            "nflId:53530.0<br>displayName:Ifeatu Melifonwu<br>Position:LCB<br>Role:Coverage",
            "nflId:53957.0<br>displayName:A.J. Parker<br>Position:SCBoR<br>Role:Coverage"
           ],
           "marker": {
            "color": "#0076B6"
           },
           "mode": "markers",
           "name": "DET",
           "type": "scatter",
           "x": [
            84.34,
            87.95,
            87.22,
            88.11,
            85.07,
            87.02,
            76.22,
            74.02,
            85.98,
            85.44,
            82.17
           ],
           "y": [
            27.25,
            32.62,
            26.42,
            35.17,
            23.14,
            30.74,
            33.93,
            21.03,
            15.77,
            41.77,
            18.46
           ]
          },
          {
           "hoverinfo": "none",
           "marker": {
            "color": "#CBB67C"
           },
           "mode": "markers",
           "name": "football",
           "type": "scatter",
           "x": [
            91.79
           ],
           "y": [
            29.7
           ]
          }
         ],
         "name": "14"
        },
        {
         "data": [
          {
           "hoverinfo": "none",
           "mode": "text",
           "showlegend": false,
           "text": [
            "10",
            "20",
            "30",
            "40",
            "50",
            "40",
            "30",
            "20",
            "10"
           ],
           "textfont": {
            "color": "#ffffff",
            "family": "Courier New, monospace",
            "size": 30
           },
           "type": "scatter",
           "x": [
            20,
            30,
            40,
            50,
            60,
            70,
            80,
            90,
            100
           ],
           "y": [
            5,
            5,
            5,
            5,
            5,
            5,
            5,
            5,
            5
           ]
          },
          {
           "hoverinfo": "none",
           "mode": "text",
           "showlegend": false,
           "text": [
            "10",
            "20",
            "30",
            "40",
            "50",
            "40",
            "30",
            "20",
            "10"
           ],
           "textfont": {
            "color": "#ffffff",
            "family": "Courier New, monospace",
            "size": 30
           },
           "type": "scatter",
           "x": [
            20,
            30,
            40,
            50,
            60,
            70,
            80,
            90,
            100
           ],
           "y": [
            48.5,
            48.5,
            48.5,
            48.5,
            48.5,
            48.5,
            48.5,
            48.5,
            48.5
           ]
          },
          {
           "hoverinfo": "none",
           "line": {
            "color": "blue",
            "dash": "dash"
           },
           "showlegend": false,
           "type": "scatter",
           "x": [
            87,
            87
           ],
           "y": [
            0,
            53.5
           ]
          },
          {
           "hoverinfo": "none",
           "line": {
            "color": "yellow",
            "dash": "dash"
           },
           "showlegend": false,
           "type": "scatter",
           "x": [
            92,
            92
           ],
           "y": [
            0,
            53.5
           ]
          },
          {
           "hoverinfo": "text",
           "hovertext": [
            "nflId:29851.0<br>displayName:Aaron Rodgers<br>Position:QB<br>Role:Pass",
            "nflId:41282.0<br>displayName:Davante Adams<br>Position:RWR<br>Role:Pass Route",
            "nflId:41296.0<br>displayName:Billy Turner<br>Position:RT<br>Role:Pass Block",
            "nflId:45635.0<br>displayName:Robert Tonyan<br>Position:SLiWR<br>Role:Pass Route",
            "nflId:46243.0<br>displayName:Marquez Valdes-Scantling<br>Position:LWR<br>Role:Pass Route",
            "nflId:46705.0<br>displayName:Allen Lazard<br>Position:SLoWR<br>Role:Pass Route",
            "nflId:47827.0<br>displayName:Elgton Jenkins<br>Position:LT<br>Role:Pass Block",
            "nflId:52470.0<br>displayName:A.J. Dillon<br>Position:HB-R<br>Role:Pass Block",
            "nflId:52600.0<br>displayName:Jon Runyan<br>Position:LG<br>Role:Pass Block",
            "nflId:53491.0<br>displayName:Josh Myers<br>Position:C<br>Role:Pass Block",
            "nflId:53571.0<br>displayName:Royce Newman<br>Position:RG<br>Role:Pass Block"
           ],
           "marker": {
            "color": "#203731"
           },
           "mode": "markers",
           "name": "GB",
           "type": "scatter",
           "x": [
            91.79,
            86.69,
            90.17,
            86.95,
            86.98,
            87.66,
            89.23,
            90.91,
            88.51,
            88.67,
            89.47
           ],
           "y": [
            29.5,
            41.16,
            33.66,
            21.78,
            16.1,
            19.91,
            25.83,
            30.95,
            27.21,
            30.29,
            32.06
           ]
          },
          {
           "hoverinfo": "text",
           "hovertext": [
            "nflId:40000.0<br>displayName:Jamie Collins<br>Position:RILB<br>Role:Coverage",
            "nflId:40171.0<br>displayName:Nicholas Williams<br>Position:LE<br>Role:Pass Rush",
            "nflId:42444.0<br>displayName:Trey Flowers<br>Position:DRT<br>Role:Pass Rush",
            "nflId:43775.0<br>displayName:Romeo Okwara<br>Position:LEO<br>Role:Pass Rush",
            "nflId:44834.0<br>displayName:Charles Harris<br>Position:ROLB<br>Role:Coverage",
            "nflId:44888.0<br>displayName:Alex Anzalone<br>Position:LILB<br>Role:Pass Rush",
            "nflId:46151.0<br>displayName:Tracy Walker<br>Position:FS<br>Role:Coverage",
            "nflId:47864.0<br>displayName:Will Harris<br>Position:FSR<br>Role:Coverage",
            "nflId:47929.0<br>displayName:Amani Oruwariye<br>Position:RCB<br>Role:Coverage",
            "nflId:53530.0<br>displayName:Ifeatu Melifonwu<br>Position:LCB<br>Role:Coverage",
            "nflId:53957.0<br>displayName:A.J. Parker<br>Position:SCBoR<br>Role:Coverage"
           ],
           "marker": {
            "color": "#0076B6"
           },
           "mode": "markers",
           "name": "DET",
           "type": "scatter",
           "x": [
            84.03,
            88.29,
            87.48,
            88.53,
            84.93,
            87.35,
            76.51,
            73.9,
            85.88,
            85.3,
            82.08
           ],
           "y": [
            26.98,
            32.64,
            26.29,
            35.16,
            23,
            30.79,
            34.02,
            21.05,
            15.91,
            41.74,
            18.55
           ]
          },
          {
           "hoverinfo": "none",
           "marker": {
            "color": "#CBB67C"
           },
           "mode": "markers",
           "name": "football",
           "type": "scatter",
           "x": [
            92.19
           ],
           "y": [
            29.68
           ]
          }
         ],
         "name": "15"
        },
        {
         "data": [
          {
           "hoverinfo": "none",
           "mode": "text",
           "showlegend": false,
           "text": [
            "10",
            "20",
            "30",
            "40",
            "50",
            "40",
            "30",
            "20",
            "10"
           ],
           "textfont": {
            "color": "#ffffff",
            "family": "Courier New, monospace",
            "size": 30
           },
           "type": "scatter",
           "x": [
            20,
            30,
            40,
            50,
            60,
            70,
            80,
            90,
            100
           ],
           "y": [
            5,
            5,
            5,
            5,
            5,
            5,
            5,
            5,
            5
           ]
          },
          {
           "hoverinfo": "none",
           "mode": "text",
           "showlegend": false,
           "text": [
            "10",
            "20",
            "30",
            "40",
            "50",
            "40",
            "30",
            "20",
            "10"
           ],
           "textfont": {
            "color": "#ffffff",
            "family": "Courier New, monospace",
            "size": 30
           },
           "type": "scatter",
           "x": [
            20,
            30,
            40,
            50,
            60,
            70,
            80,
            90,
            100
           ],
           "y": [
            48.5,
            48.5,
            48.5,
            48.5,
            48.5,
            48.5,
            48.5,
            48.5,
            48.5
           ]
          },
          {
           "hoverinfo": "none",
           "line": {
            "color": "blue",
            "dash": "dash"
           },
           "showlegend": false,
           "type": "scatter",
           "x": [
            87,
            87
           ],
           "y": [
            0,
            53.5
           ]
          },
          {
           "hoverinfo": "none",
           "line": {
            "color": "yellow",
            "dash": "dash"
           },
           "showlegend": false,
           "type": "scatter",
           "x": [
            92,
            92
           ],
           "y": [
            0,
            53.5
           ]
          },
          {
           "hoverinfo": "text",
           "hovertext": [
            "nflId:29851.0<br>displayName:Aaron Rodgers<br>Position:QB<br>Role:Pass",
            "nflId:41282.0<br>displayName:Davante Adams<br>Position:RWR<br>Role:Pass Route",
            "nflId:41296.0<br>displayName:Billy Turner<br>Position:RT<br>Role:Pass Block",
            "nflId:45635.0<br>displayName:Robert Tonyan<br>Position:SLiWR<br>Role:Pass Route",
            "nflId:46243.0<br>displayName:Marquez Valdes-Scantling<br>Position:LWR<br>Role:Pass Route",
            "nflId:46705.0<br>displayName:Allen Lazard<br>Position:SLoWR<br>Role:Pass Route",
            "nflId:47827.0<br>displayName:Elgton Jenkins<br>Position:LT<br>Role:Pass Block",
            "nflId:52470.0<br>displayName:A.J. Dillon<br>Position:HB-R<br>Role:Pass Block",
            "nflId:52600.0<br>displayName:Jon Runyan<br>Position:LG<br>Role:Pass Block",
            "nflId:53491.0<br>displayName:Josh Myers<br>Position:C<br>Role:Pass Block",
            "nflId:53571.0<br>displayName:Royce Newman<br>Position:RG<br>Role:Pass Block"
           ],
           "marker": {
            "color": "#203731"
           },
           "mode": "markers",
           "name": "GB",
           "type": "scatter",
           "x": [
            92.06,
            86.4,
            90.47,
            86.52,
            86.73,
            87.38,
            89.44,
            90.91,
            88.69,
            88.9,
            89.74
           ],
           "y": [
            29.49,
            40.99,
            33.75,
            21.66,
            16.31,
            20.11,
            25.77,
            30.84,
            27.08,
            30.39,
            32.12
           ]
          },
          {
           "hoverinfo": "text",
           "hovertext": [
            "nflId:40000.0<br>displayName:Jamie Collins<br>Position:RILB<br>Role:Coverage",
            "nflId:40171.0<br>displayName:Nicholas Williams<br>Position:LE<br>Role:Pass Rush",
            "nflId:42444.0<br>displayName:Trey Flowers<br>Position:DRT<br>Role:Pass Rush",
            "nflId:43775.0<br>displayName:Romeo Okwara<br>Position:LEO<br>Role:Pass Rush",
            "nflId:44834.0<br>displayName:Charles Harris<br>Position:ROLB<br>Role:Coverage",
            "nflId:44888.0<br>displayName:Alex Anzalone<br>Position:LILB<br>Role:Pass Rush",
            "nflId:46151.0<br>displayName:Tracy Walker<br>Position:FS<br>Role:Coverage",
            "nflId:47864.0<br>displayName:Will Harris<br>Position:FSR<br>Role:Coverage",
            "nflId:47929.0<br>displayName:Amani Oruwariye<br>Position:RCB<br>Role:Coverage",
            "nflId:53530.0<br>displayName:Ifeatu Melifonwu<br>Position:LCB<br>Role:Coverage",
            "nflId:53957.0<br>displayName:A.J. Parker<br>Position:SCBoR<br>Role:Coverage"
           ],
           "marker": {
            "color": "#0076B6"
           },
           "mode": "markers",
           "name": "DET",
           "type": "scatter",
           "x": [
            83.71,
            88.65,
            87.77,
            88.99,
            84.77,
            87.69,
            76.8,
            73.73,
            85.76,
            85.13,
            81.96
           ],
           "y": [
            26.71,
            32.65,
            26.13,
            35.14,
            22.86,
            30.85,
            34.1,
            21.06,
            16.06,
            41.67,
            18.64
           ]
          },
          {
           "hoverinfo": "none",
           "marker": {
            "color": "#CBB67C"
           },
           "mode": "markers",
           "name": "football",
           "type": "scatter",
           "x": [
            92.59
           ],
           "y": [
            29.64
           ]
          }
         ],
         "name": "16"
        },
        {
         "data": [
          {
           "hoverinfo": "none",
           "mode": "text",
           "showlegend": false,
           "text": [
            "10",
            "20",
            "30",
            "40",
            "50",
            "40",
            "30",
            "20",
            "10"
           ],
           "textfont": {
            "color": "#ffffff",
            "family": "Courier New, monospace",
            "size": 30
           },
           "type": "scatter",
           "x": [
            20,
            30,
            40,
            50,
            60,
            70,
            80,
            90,
            100
           ],
           "y": [
            5,
            5,
            5,
            5,
            5,
            5,
            5,
            5,
            5
           ]
          },
          {
           "hoverinfo": "none",
           "mode": "text",
           "showlegend": false,
           "text": [
            "10",
            "20",
            "30",
            "40",
            "50",
            "40",
            "30",
            "20",
            "10"
           ],
           "textfont": {
            "color": "#ffffff",
            "family": "Courier New, monospace",
            "size": 30
           },
           "type": "scatter",
           "x": [
            20,
            30,
            40,
            50,
            60,
            70,
            80,
            90,
            100
           ],
           "y": [
            48.5,
            48.5,
            48.5,
            48.5,
            48.5,
            48.5,
            48.5,
            48.5,
            48.5
           ]
          },
          {
           "hoverinfo": "none",
           "line": {
            "color": "blue",
            "dash": "dash"
           },
           "showlegend": false,
           "type": "scatter",
           "x": [
            87,
            87
           ],
           "y": [
            0,
            53.5
           ]
          },
          {
           "hoverinfo": "none",
           "line": {
            "color": "yellow",
            "dash": "dash"
           },
           "showlegend": false,
           "type": "scatter",
           "x": [
            92,
            92
           ],
           "y": [
            0,
            53.5
           ]
          },
          {
           "hoverinfo": "text",
           "hovertext": [
            "nflId:29851.0<br>displayName:Aaron Rodgers<br>Position:QB<br>Role:Pass",
            "nflId:41282.0<br>displayName:Davante Adams<br>Position:RWR<br>Role:Pass Route",
            "nflId:41296.0<br>displayName:Billy Turner<br>Position:RT<br>Role:Pass Block",
            "nflId:45635.0<br>displayName:Robert Tonyan<br>Position:SLiWR<br>Role:Pass Route",
            "nflId:46243.0<br>displayName:Marquez Valdes-Scantling<br>Position:LWR<br>Role:Pass Route",
            "nflId:46705.0<br>displayName:Allen Lazard<br>Position:SLoWR<br>Role:Pass Route",
            "nflId:47827.0<br>displayName:Elgton Jenkins<br>Position:LT<br>Role:Pass Block",
            "nflId:52470.0<br>displayName:A.J. Dillon<br>Position:HB-R<br>Role:Pass Block",
            "nflId:52600.0<br>displayName:Jon Runyan<br>Position:LG<br>Role:Pass Block",
            "nflId:53491.0<br>displayName:Josh Myers<br>Position:C<br>Role:Pass Block",
            "nflId:53571.0<br>displayName:Royce Newman<br>Position:RG<br>Role:Pass Block"
           ],
           "marker": {
            "color": "#203731"
           },
           "mode": "markers",
           "name": "GB",
           "type": "scatter",
           "x": [
            92.39,
            86.08,
            90.79,
            86.05,
            86.43,
            87.08,
            89.67,
            90.92,
            88.88,
            89.16,
            90.03
           ],
           "y": [
            29.48,
            40.8,
            33.83,
            21.53,
            16.53,
            20.35,
            25.71,
            30.75,
            26.97,
            30.49,
            32.15
           ]
          },
          {
           "hoverinfo": "text",
           "hovertext": [
            "nflId:40000.0<br>displayName:Jamie Collins<br>Position:RILB<br>Role:Coverage",
            "nflId:40171.0<br>displayName:Nicholas Williams<br>Position:LE<br>Role:Pass Rush",
            "nflId:42444.0<br>displayName:Trey Flowers<br>Position:DRT<br>Role:Pass Rush",
            "nflId:43775.0<br>displayName:Romeo Okwara<br>Position:LEO<br>Role:Pass Rush",
            "nflId:44834.0<br>displayName:Charles Harris<br>Position:ROLB<br>Role:Coverage",
            "nflId:44888.0<br>displayName:Alex Anzalone<br>Position:LILB<br>Role:Pass Rush",
            "nflId:46151.0<br>displayName:Tracy Walker<br>Position:FS<br>Role:Coverage",
            "nflId:47864.0<br>displayName:Will Harris<br>Position:FSR<br>Role:Coverage",
            "nflId:47929.0<br>displayName:Amani Oruwariye<br>Position:RCB<br>Role:Coverage",
            "nflId:53530.0<br>displayName:Ifeatu Melifonwu<br>Position:LCB<br>Role:Coverage",
            "nflId:53957.0<br>displayName:A.J. Parker<br>Position:SCBoR<br>Role:Coverage"
           ],
           "marker": {
            "color": "#0076B6"
           },
           "mode": "markers",
           "name": "DET",
           "type": "scatter",
           "x": [
            83.4,
            89,
            88.06,
            89.47,
            84.59,
            88.04,
            77.07,
            73.51,
            85.57,
            84.92,
            81.82
           ],
           "y": [
            26.48,
            32.65,
            25.95,
            35.1,
            22.73,
            30.93,
            34.16,
            21.08,
            16.22,
            41.56,
            18.73
           ]
          },
          {
           "hoverinfo": "none",
           "marker": {
            "color": "#CBB67C"
           },
           "mode": "markers",
           "name": "football",
           "type": "scatter",
           "x": [
            92.93
           ],
           "y": [
            29.61
           ]
          }
         ],
         "name": "17"
        },
        {
         "data": [
          {
           "hoverinfo": "none",
           "mode": "text",
           "showlegend": false,
           "text": [
            "10",
            "20",
            "30",
            "40",
            "50",
            "40",
            "30",
            "20",
            "10"
           ],
           "textfont": {
            "color": "#ffffff",
            "family": "Courier New, monospace",
            "size": 30
           },
           "type": "scatter",
           "x": [
            20,
            30,
            40,
            50,
            60,
            70,
            80,
            90,
            100
           ],
           "y": [
            5,
            5,
            5,
            5,
            5,
            5,
            5,
            5,
            5
           ]
          },
          {
           "hoverinfo": "none",
           "mode": "text",
           "showlegend": false,
           "text": [
            "10",
            "20",
            "30",
            "40",
            "50",
            "40",
            "30",
            "20",
            "10"
           ],
           "textfont": {
            "color": "#ffffff",
            "family": "Courier New, monospace",
            "size": 30
           },
           "type": "scatter",
           "x": [
            20,
            30,
            40,
            50,
            60,
            70,
            80,
            90,
            100
           ],
           "y": [
            48.5,
            48.5,
            48.5,
            48.5,
            48.5,
            48.5,
            48.5,
            48.5,
            48.5
           ]
          },
          {
           "hoverinfo": "none",
           "line": {
            "color": "blue",
            "dash": "dash"
           },
           "showlegend": false,
           "type": "scatter",
           "x": [
            87,
            87
           ],
           "y": [
            0,
            53.5
           ]
          },
          {
           "hoverinfo": "none",
           "line": {
            "color": "yellow",
            "dash": "dash"
           },
           "showlegend": false,
           "type": "scatter",
           "x": [
            92,
            92
           ],
           "y": [
            0,
            53.5
           ]
          },
          {
           "hoverinfo": "text",
           "hovertext": [
            "nflId:29851.0<br>displayName:Aaron Rodgers<br>Position:QB<br>Role:Pass",
            "nflId:41282.0<br>displayName:Davante Adams<br>Position:RWR<br>Role:Pass Route",
            "nflId:41296.0<br>displayName:Billy Turner<br>Position:RT<br>Role:Pass Block",
            "nflId:45635.0<br>displayName:Robert Tonyan<br>Position:SLiWR<br>Role:Pass Route",
            "nflId:46243.0<br>displayName:Marquez Valdes-Scantling<br>Position:LWR<br>Role:Pass Route",
            "nflId:46705.0<br>displayName:Allen Lazard<br>Position:SLoWR<br>Role:Pass Route",
            "nflId:47827.0<br>displayName:Elgton Jenkins<br>Position:LT<br>Role:Pass Block",
            "nflId:52470.0<br>displayName:A.J. Dillon<br>Position:HB-R<br>Role:Pass Block",
            "nflId:52600.0<br>displayName:Jon Runyan<br>Position:LG<br>Role:Pass Block",
            "nflId:53491.0<br>displayName:Josh Myers<br>Position:C<br>Role:Pass Block",
            "nflId:53571.0<br>displayName:Royce Newman<br>Position:RG<br>Role:Pass Block"
           ],
           "marker": {
            "color": "#203731"
           },
           "mode": "markers",
           "name": "GB",
           "type": "scatter",
           "x": [
            92.76,
            85.71,
            91.1,
            85.53,
            86.07,
            86.75,
            89.89,
            90.93,
            89.06,
            89.41,
            90.32
           ],
           "y": [
            29.46,
            40.58,
            33.89,
            21.4,
            16.74,
            20.64,
            25.66,
            30.68,
            26.88,
            30.58,
            32.17
           ]
          },
          {
           "hoverinfo": "text",
           "hovertext": [
            "nflId:40000.0<br>displayName:Jamie Collins<br>Position:RILB<br>Role:Coverage",
            "nflId:40171.0<br>displayName:Nicholas Williams<br>Position:LE<br>Role:Pass Rush",
            "nflId:42444.0<br>displayName:Trey Flowers<br>Position:DRT<br>Role:Pass Rush",
            "nflId:43775.0<br>displayName:Romeo Okwara<br>Position:LEO<br>Role:Pass Rush",
            "nflId:44834.0<br>displayName:Charles Harris<br>Position:ROLB<br>Role:Coverage",
            "nflId:44888.0<br>displayName:Alex Anzalone<br>Position:LILB<br>Role:Pass Rush",
            "nflId:46151.0<br>displayName:Tracy Walker<br>Position:FS<br>Role:Coverage",
            "nflId:47864.0<br>displayName:Will Harris<br>Position:FSR<br>Role:Coverage",
            "nflId:47929.0<br>displayName:Amani Oruwariye<br>Position:RCB<br>Role:Coverage",
            "nflId:53530.0<br>displayName:Ifeatu Melifonwu<br>Position:LCB<br>Role:Coverage",
            "nflId:53957.0<br>displayName:A.J. Parker<br>Position:SCBoR<br>Role:Coverage"
           ],
           "marker": {
            "color": "#0076B6"
           },
           "mode": "markers",
           "name": "DET",
           "type": "scatter",
           "x": [
            83.11,
            89.36,
            88.37,
            89.97,
            84.41,
            88.38,
            77.32,
            73.25,
            85.33,
            84.67,
            81.65
           ],
           "y": [
            26.3,
            32.64,
            25.76,
            35.05,
            22.63,
            31.01,
            34.22,
            21.1,
            16.36,
            41.43,
            18.82
           ]
          },
          {
           "hoverinfo": "none",
           "marker": {
            "color": "#CBB67C"
           },
           "mode": "markers",
           "name": "football",
           "type": "scatter",
           "x": [
            93.25
           ],
           "y": [
            29.58
           ]
          }
         ],
         "name": "18"
        },
        {
         "data": [
          {
           "hoverinfo": "none",
           "mode": "text",
           "showlegend": false,
           "text": [
            "10",
            "20",
            "30",
            "40",
            "50",
            "40",
            "30",
            "20",
            "10"
           ],
           "textfont": {
            "color": "#ffffff",
            "family": "Courier New, monospace",
            "size": 30
           },
           "type": "scatter",
           "x": [
            20,
            30,
            40,
            50,
            60,
            70,
            80,
            90,
            100
           ],
           "y": [
            5,
            5,
            5,
            5,
            5,
            5,
            5,
            5,
            5
           ]
          },
          {
           "hoverinfo": "none",
           "mode": "text",
           "showlegend": false,
           "text": [
            "10",
            "20",
            "30",
            "40",
            "50",
            "40",
            "30",
            "20",
            "10"
           ],
           "textfont": {
            "color": "#ffffff",
            "family": "Courier New, monospace",
            "size": 30
           },
           "type": "scatter",
           "x": [
            20,
            30,
            40,
            50,
            60,
            70,
            80,
            90,
            100
           ],
           "y": [
            48.5,
            48.5,
            48.5,
            48.5,
            48.5,
            48.5,
            48.5,
            48.5,
            48.5
           ]
          },
          {
           "hoverinfo": "none",
           "line": {
            "color": "blue",
            "dash": "dash"
           },
           "showlegend": false,
           "type": "scatter",
           "x": [
            87,
            87
           ],
           "y": [
            0,
            53.5
           ]
          },
          {
           "hoverinfo": "none",
           "line": {
            "color": "yellow",
            "dash": "dash"
           },
           "showlegend": false,
           "type": "scatter",
           "x": [
            92,
            92
           ],
           "y": [
            0,
            53.5
           ]
          },
          {
           "hoverinfo": "text",
           "hovertext": [
            "nflId:29851.0<br>displayName:Aaron Rodgers<br>Position:QB<br>Role:Pass",
            "nflId:41282.0<br>displayName:Davante Adams<br>Position:RWR<br>Role:Pass Route",
            "nflId:41296.0<br>displayName:Billy Turner<br>Position:RT<br>Role:Pass Block",
            "nflId:45635.0<br>displayName:Robert Tonyan<br>Position:SLiWR<br>Role:Pass Route",
            "nflId:46243.0<br>displayName:Marquez Valdes-Scantling<br>Position:LWR<br>Role:Pass Route",
            "nflId:46705.0<br>displayName:Allen Lazard<br>Position:SLoWR<br>Role:Pass Route",
            "nflId:47827.0<br>displayName:Elgton Jenkins<br>Position:LT<br>Role:Pass Block",
            "nflId:52470.0<br>displayName:A.J. Dillon<br>Position:HB-R<br>Role:Pass Block",
            "nflId:52600.0<br>displayName:Jon Runyan<br>Position:LG<br>Role:Pass Block",
            "nflId:53491.0<br>displayName:Josh Myers<br>Position:C<br>Role:Pass Block",
            "nflId:53571.0<br>displayName:Royce Newman<br>Position:RG<br>Role:Pass Block"
           ],
           "marker": {
            "color": "#203731"
           },
           "mode": "markers",
           "name": "GB",
           "type": "scatter",
           "x": [
            93.17,
            85.3,
            91.45,
            84.99,
            85.69,
            86.42,
            90.12,
            90.97,
            89.25,
            89.65,
            90.63
           ],
           "y": [
            29.44,
            40.34,
            33.89,
            21.27,
            16.94,
            20.98,
            25.62,
            30.66,
            26.82,
            30.67,
            32.16
           ]
          },
          {
           "hoverinfo": "text",
           "hovertext": [
            "nflId:40000.0<br>displayName:Jamie Collins<br>Position:RILB<br>Role:Coverage",
            "nflId:40171.0<br>displayName:Nicholas Williams<br>Position:LE<br>Role:Pass Rush",
            "nflId:42444.0<br>displayName:Trey Flowers<br>Position:DRT<br>Role:Pass Rush",
            "nflId:43775.0<br>displayName:Romeo Okwara<br>Position:LEO<br>Role:Pass Rush",
            "nflId:44834.0<br>displayName:Charles Harris<br>Position:ROLB<br>Role:Coverage",
            "nflId:44888.0<br>displayName:Alex Anzalone<br>Position:LILB<br>Role:Pass Rush",
            "nflId:46151.0<br>displayName:Tracy Walker<br>Position:FS<br>Role:Coverage",
            "nflId:47864.0<br>displayName:Will Harris<br>Position:FSR<br>Role:Coverage",
            "nflId:47929.0<br>displayName:Amani Oruwariye<br>Position:RCB<br>Role:Coverage",
            "nflId:53530.0<br>displayName:Ifeatu Melifonwu<br>Position:LCB<br>Role:Coverage",
            "nflId:53957.0<br>displayName:A.J. Parker<br>Position:SCBoR<br>Role:Coverage"
           ],
           "marker": {
            "color": "#0076B6"
           },
           "mode": "markers",
           "name": "DET",
           "type": "scatter",
           "x": [
            82.84,
            89.73,
            88.68,
            90.48,
            84.23,
            88.71,
            77.54,
            72.98,
            85.03,
            84.4,
            81.44
           ],
           "y": [
            26.17,
            32.63,
            25.56,
            34.98,
            22.57,
            31.08,
            34.24,
            21.11,
            16.49,
            41.26,
            18.92
           ]
          },
          {
           "hoverinfo": "none",
           "marker": {
            "color": "#CBB67C"
           },
           "mode": "markers",
           "name": "football",
           "type": "scatter",
           "x": [
            93.71
           ],
           "y": [
            29.51
           ]
          }
         ],
         "name": "19"
        },
        {
         "data": [
          {
           "hoverinfo": "none",
           "mode": "text",
           "showlegend": false,
           "text": [
            "10",
            "20",
            "30",
            "40",
            "50",
            "40",
            "30",
            "20",
            "10"
           ],
           "textfont": {
            "color": "#ffffff",
            "family": "Courier New, monospace",
            "size": 30
           },
           "type": "scatter",
           "x": [
            20,
            30,
            40,
            50,
            60,
            70,
            80,
            90,
            100
           ],
           "y": [
            5,
            5,
            5,
            5,
            5,
            5,
            5,
            5,
            5
           ]
          },
          {
           "hoverinfo": "none",
           "mode": "text",
           "showlegend": false,
           "text": [
            "10",
            "20",
            "30",
            "40",
            "50",
            "40",
            "30",
            "20",
            "10"
           ],
           "textfont": {
            "color": "#ffffff",
            "family": "Courier New, monospace",
            "size": 30
           },
           "type": "scatter",
           "x": [
            20,
            30,
            40,
            50,
            60,
            70,
            80,
            90,
            100
           ],
           "y": [
            48.5,
            48.5,
            48.5,
            48.5,
            48.5,
            48.5,
            48.5,
            48.5,
            48.5
           ]
          },
          {
           "hoverinfo": "none",
           "line": {
            "color": "blue",
            "dash": "dash"
           },
           "showlegend": false,
           "type": "scatter",
           "x": [
            87,
            87
           ],
           "y": [
            0,
            53.5
           ]
          },
          {
           "hoverinfo": "none",
           "line": {
            "color": "yellow",
            "dash": "dash"
           },
           "showlegend": false,
           "type": "scatter",
           "x": [
            92,
            92
           ],
           "y": [
            0,
            53.5
           ]
          },
          {
           "hoverinfo": "text",
           "hovertext": [
            "nflId:29851.0<br>displayName:Aaron Rodgers<br>Position:QB<br>Role:Pass",
            "nflId:41282.0<br>displayName:Davante Adams<br>Position:RWR<br>Role:Pass Route",
            "nflId:41296.0<br>displayName:Billy Turner<br>Position:RT<br>Role:Pass Block",
            "nflId:45635.0<br>displayName:Robert Tonyan<br>Position:SLiWR<br>Role:Pass Route",
            "nflId:46243.0<br>displayName:Marquez Valdes-Scantling<br>Position:LWR<br>Role:Pass Route",
            "nflId:46705.0<br>displayName:Allen Lazard<br>Position:SLoWR<br>Role:Pass Route",
            "nflId:47827.0<br>displayName:Elgton Jenkins<br>Position:LT<br>Role:Pass Block",
            "nflId:52470.0<br>displayName:A.J. Dillon<br>Position:HB-R<br>Role:Pass Block",
            "nflId:52600.0<br>displayName:Jon Runyan<br>Position:LG<br>Role:Pass Block",
            "nflId:53491.0<br>displayName:Josh Myers<br>Position:C<br>Role:Pass Block",
            "nflId:53571.0<br>displayName:Royce Newman<br>Position:RG<br>Role:Pass Block"
           ],
           "marker": {
            "color": "#203731"
           },
           "mode": "markers",
           "name": "GB",
           "type": "scatter",
           "x": [
            93.58,
            84.83,
            91.79,
            84.42,
            85.27,
            86.09,
            90.34,
            91.02,
            89.45,
            89.9,
            90.92
           ],
           "y": [
            29.42,
            40.08,
            33.88,
            21.15,
            17.13,
            21.36,
            25.58,
            30.69,
            26.82,
            30.74,
            32.13
           ]
          },
          {
           "hoverinfo": "text",
           "hovertext": [
            "nflId:40000.0<br>displayName:Jamie Collins<br>Position:RILB<br>Role:Coverage",
            "nflId:40171.0<br>displayName:Nicholas Williams<br>Position:LE<br>Role:Pass Rush",
            "nflId:42444.0<br>displayName:Trey Flowers<br>Position:DRT<br>Role:Pass Rush",
            "nflId:43775.0<br>displayName:Romeo Okwara<br>Position:LEO<br>Role:Pass Rush",
            "nflId:44834.0<br>displayName:Charles Harris<br>Position:ROLB<br>Role:Coverage",
            "nflId:44888.0<br>displayName:Alex Anzalone<br>Position:LILB<br>Role:Pass Rush",
            "nflId:46151.0<br>displayName:Tracy Walker<br>Position:FS<br>Role:Coverage",
            "nflId:47864.0<br>displayName:Will Harris<br>Position:FSR<br>Role:Coverage",
            "nflId:47929.0<br>displayName:Amani Oruwariye<br>Position:RCB<br>Role:Coverage",
            "nflId:53530.0<br>displayName:Ifeatu Melifonwu<br>Position:LCB<br>Role:Coverage",
            "nflId:53957.0<br>displayName:A.J. Parker<br>Position:SCBoR<br>Role:Coverage"
           ],
           "marker": {
            "color": "#0076B6"
           },
           "mode": "markers",
           "name": "DET",
           "type": "scatter",
           "x": [
            82.59,
            90.09,
            89,
            90.97,
            84.03,
            89.02,
            77.72,
            72.67,
            84.67,
            84.08,
            81.21
           ],
           "y": [
            26.11,
            32.6,
            25.37,
            34.91,
            22.56,
            31.16,
            34.24,
            21.11,
            16.62,
            41.06,
            19.01
           ]
          },
          {
           "hoverinfo": "none",
           "marker": {
            "color": "#CBB67C"
           },
           "mode": "markers",
           "name": "football",
           "type": "scatter",
           "x": [
            94.14
           ],
           "y": [
            29.45
           ]
          }
         ],
         "name": "20"
        },
        {
         "data": [
          {
           "hoverinfo": "none",
           "mode": "text",
           "showlegend": false,
           "text": [
            "10",
            "20",
            "30",
            "40",
            "50",
            "40",
            "30",
            "20",
            "10"
           ],
           "textfont": {
            "color": "#ffffff",
            "family": "Courier New, monospace",
            "size": 30
           },
           "type": "scatter",
           "x": [
            20,
            30,
            40,
            50,
            60,
            70,
            80,
            90,
            100
           ],
           "y": [
            5,
            5,
            5,
            5,
            5,
            5,
            5,
            5,
            5
           ]
          },
          {
           "hoverinfo": "none",
           "mode": "text",
           "showlegend": false,
           "text": [
            "10",
            "20",
            "30",
            "40",
            "50",
            "40",
            "30",
            "20",
            "10"
           ],
           "textfont": {
            "color": "#ffffff",
            "family": "Courier New, monospace",
            "size": 30
           },
           "type": "scatter",
           "x": [
            20,
            30,
            40,
            50,
            60,
            70,
            80,
            90,
            100
           ],
           "y": [
            48.5,
            48.5,
            48.5,
            48.5,
            48.5,
            48.5,
            48.5,
            48.5,
            48.5
           ]
          },
          {
           "hoverinfo": "none",
           "line": {
            "color": "blue",
            "dash": "dash"
           },
           "showlegend": false,
           "type": "scatter",
           "x": [
            87,
            87
           ],
           "y": [
            0,
            53.5
           ]
          },
          {
           "hoverinfo": "none",
           "line": {
            "color": "yellow",
            "dash": "dash"
           },
           "showlegend": false,
           "type": "scatter",
           "x": [
            92,
            92
           ],
           "y": [
            0,
            53.5
           ]
          },
          {
           "hoverinfo": "text",
           "hovertext": [
            "nflId:29851.0<br>displayName:Aaron Rodgers<br>Position:QB<br>Role:Pass",
            "nflId:41282.0<br>displayName:Davante Adams<br>Position:RWR<br>Role:Pass Route",
            "nflId:41296.0<br>displayName:Billy Turner<br>Position:RT<br>Role:Pass Block",
            "nflId:45635.0<br>displayName:Robert Tonyan<br>Position:SLiWR<br>Role:Pass Route",
            "nflId:46243.0<br>displayName:Marquez Valdes-Scantling<br>Position:LWR<br>Role:Pass Route",
            "nflId:46705.0<br>displayName:Allen Lazard<br>Position:SLoWR<br>Role:Pass Route",
            "nflId:47827.0<br>displayName:Elgton Jenkins<br>Position:LT<br>Role:Pass Block",
            "nflId:52470.0<br>displayName:A.J. Dillon<br>Position:HB-R<br>Role:Pass Block",
            "nflId:52600.0<br>displayName:Jon Runyan<br>Position:LG<br>Role:Pass Block",
            "nflId:53491.0<br>displayName:Josh Myers<br>Position:C<br>Role:Pass Block",
            "nflId:53571.0<br>displayName:Royce Newman<br>Position:RG<br>Role:Pass Block"
           ],
           "marker": {
            "color": "#203731"
           },
           "mode": "markers",
           "name": "GB",
           "type": "scatter",
           "x": [
            93.99,
            84.32,
            92.13,
            83.82,
            84.83,
            85.76,
            90.57,
            91.1,
            89.64,
            90.12,
            91.25
           ],
           "y": [
            29.39,
            39.81,
            33.84,
            21.04,
            17.3,
            21.78,
            25.53,
            30.75,
            26.83,
            30.79,
            32.08
           ]
          },
          {
           "hoverinfo": "text",
           "hovertext": [
            "nflId:40000.0<br>displayName:Jamie Collins<br>Position:RILB<br>Role:Coverage",
            "nflId:40171.0<br>displayName:Nicholas Williams<br>Position:LE<br>Role:Pass Rush",
            "nflId:42444.0<br>displayName:Trey Flowers<br>Position:DRT<br>Role:Pass Rush",
            "nflId:43775.0<br>displayName:Romeo Okwara<br>Position:LEO<br>Role:Pass Rush",
            "nflId:44834.0<br>displayName:Charles Harris<br>Position:ROLB<br>Role:Coverage",
            "nflId:44888.0<br>displayName:Alex Anzalone<br>Position:LILB<br>Role:Pass Rush",
            "nflId:46151.0<br>displayName:Tracy Walker<br>Position:FS<br>Role:Coverage",
            "nflId:47864.0<br>displayName:Will Harris<br>Position:FSR<br>Role:Coverage",
            "nflId:47929.0<br>displayName:Amani Oruwariye<br>Position:RCB<br>Role:Coverage",
            "nflId:53530.0<br>displayName:Ifeatu Melifonwu<br>Position:LCB<br>Role:Coverage",
            "nflId:53957.0<br>displayName:A.J. Parker<br>Position:SCBoR<br>Role:Coverage"
           ],
           "marker": {
            "color": "#0076B6"
           },
           "mode": "markers",
           "name": "DET",
           "type": "scatter",
           "x": [
            82.37,
            90.44,
            89.33,
            91.46,
            83.85,
            89.31,
            77.89,
            72.34,
            84.27,
            83.74,
            80.95
           ],
           "y": [
            26.11,
            32.57,
            25.18,
            34.82,
            22.61,
            31.23,
            34.23,
            21.12,
            16.72,
            40.81,
            19.09
           ]
          },
          {
           "hoverinfo": "none",
           "marker": {
            "color": "#CBB67C"
           },
           "mode": "markers",
           "name": "football",
           "type": "scatter",
           "x": [
            94.5
           ],
           "y": [
            29.4
           ]
          }
         ],
         "name": "21"
        },
        {
         "data": [
          {
           "hoverinfo": "none",
           "mode": "text",
           "showlegend": false,
           "text": [
            "10",
            "20",
            "30",
            "40",
            "50",
            "40",
            "30",
            "20",
            "10"
           ],
           "textfont": {
            "color": "#ffffff",
            "family": "Courier New, monospace",
            "size": 30
           },
           "type": "scatter",
           "x": [
            20,
            30,
            40,
            50,
            60,
            70,
            80,
            90,
            100
           ],
           "y": [
            5,
            5,
            5,
            5,
            5,
            5,
            5,
            5,
            5
           ]
          },
          {
           "hoverinfo": "none",
           "mode": "text",
           "showlegend": false,
           "text": [
            "10",
            "20",
            "30",
            "40",
            "50",
            "40",
            "30",
            "20",
            "10"
           ],
           "textfont": {
            "color": "#ffffff",
            "family": "Courier New, monospace",
            "size": 30
           },
           "type": "scatter",
           "x": [
            20,
            30,
            40,
            50,
            60,
            70,
            80,
            90,
            100
           ],
           "y": [
            48.5,
            48.5,
            48.5,
            48.5,
            48.5,
            48.5,
            48.5,
            48.5,
            48.5
           ]
          },
          {
           "hoverinfo": "none",
           "line": {
            "color": "blue",
            "dash": "dash"
           },
           "showlegend": false,
           "type": "scatter",
           "x": [
            87,
            87
           ],
           "y": [
            0,
            53.5
           ]
          },
          {
           "hoverinfo": "none",
           "line": {
            "color": "yellow",
            "dash": "dash"
           },
           "showlegend": false,
           "type": "scatter",
           "x": [
            92,
            92
           ],
           "y": [
            0,
            53.5
           ]
          },
          {
           "hoverinfo": "text",
           "hovertext": [
            "nflId:29851.0<br>displayName:Aaron Rodgers<br>Position:QB<br>Role:Pass",
            "nflId:41282.0<br>displayName:Davante Adams<br>Position:RWR<br>Role:Pass Route",
            "nflId:41296.0<br>displayName:Billy Turner<br>Position:RT<br>Role:Pass Block",
            "nflId:45635.0<br>displayName:Robert Tonyan<br>Position:SLiWR<br>Role:Pass Route",
            "nflId:46243.0<br>displayName:Marquez Valdes-Scantling<br>Position:LWR<br>Role:Pass Route",
            "nflId:46705.0<br>displayName:Allen Lazard<br>Position:SLoWR<br>Role:Pass Route",
            "nflId:47827.0<br>displayName:Elgton Jenkins<br>Position:LT<br>Role:Pass Block",
            "nflId:52470.0<br>displayName:A.J. Dillon<br>Position:HB-R<br>Role:Pass Block",
            "nflId:52600.0<br>displayName:Jon Runyan<br>Position:LG<br>Role:Pass Block",
            "nflId:53491.0<br>displayName:Josh Myers<br>Position:C<br>Role:Pass Block",
            "nflId:53571.0<br>displayName:Royce Newman<br>Position:RG<br>Role:Pass Block"
           ],
           "marker": {
            "color": "#203731"
           },
           "mode": "markers",
           "name": "GB",
           "type": "scatter",
           "x": [
            94.38,
            83.78,
            92.48,
            83.22,
            84.35,
            85.42,
            90.8,
            91.2,
            89.82,
            90.34,
            91.55
           ],
           "y": [
            29.36,
            39.54,
            33.77,
            20.96,
            17.44,
            22.24,
            25.5,
            30.84,
            26.89,
            30.82,
            32.02
           ]
          },
          {
           "hoverinfo": "text",
           "hovertext": [
            "nflId:40000.0<br>displayName:Jamie Collins<br>Position:RILB<br>Role:Coverage",
            "nflId:40171.0<br>displayName:Nicholas Williams<br>Position:LE<br>Role:Pass Rush",
            "nflId:42444.0<br>displayName:Trey Flowers<br>Position:DRT<br>Role:Pass Rush",
            "nflId:43775.0<br>displayName:Romeo Okwara<br>Position:LEO<br>Role:Pass Rush",
            "nflId:44834.0<br>displayName:Charles Harris<br>Position:ROLB<br>Role:Coverage",
            "nflId:44888.0<br>displayName:Alex Anzalone<br>Position:LILB<br>Role:Pass Rush",
            "nflId:46151.0<br>displayName:Tracy Walker<br>Position:FS<br>Role:Coverage",
            "nflId:47864.0<br>displayName:Will Harris<br>Position:FSR<br>Role:Coverage",
            "nflId:47929.0<br>displayName:Amani Oruwariye<br>Position:RCB<br>Role:Coverage",
            "nflId:53530.0<br>displayName:Ifeatu Melifonwu<br>Position:LCB<br>Role:Coverage",
            "nflId:53957.0<br>displayName:A.J. Parker<br>Position:SCBoR<br>Role:Coverage"
           ],
           "marker": {
            "color": "#0076B6"
           },
           "mode": "markers",
           "name": "DET",
           "type": "scatter",
           "x": [
            82.17,
            90.79,
            89.66,
            91.94,
            83.66,
            89.56,
            78.02,
            72.01,
            83.82,
            83.35,
            80.67
           ],
           "y": [
            26.18,
            32.54,
            25.01,
            34.72,
            22.71,
            31.31,
            34.19,
            21.12,
            16.81,
            40.54,
            19.18
           ]
          },
          {
           "hoverinfo": "none",
           "marker": {
            "color": "#CBB67C"
           },
           "mode": "markers",
           "name": "football",
           "type": "scatter",
           "x": [
            94.78
           ],
           "y": [
            29.36
           ]
          }
         ],
         "name": "22"
        },
        {
         "data": [
          {
           "hoverinfo": "none",
           "mode": "text",
           "showlegend": false,
           "text": [
            "10",
            "20",
            "30",
            "40",
            "50",
            "40",
            "30",
            "20",
            "10"
           ],
           "textfont": {
            "color": "#ffffff",
            "family": "Courier New, monospace",
            "size": 30
           },
           "type": "scatter",
           "x": [
            20,
            30,
            40,
            50,
            60,
            70,
            80,
            90,
            100
           ],
           "y": [
            5,
            5,
            5,
            5,
            5,
            5,
            5,
            5,
            5
           ]
          },
          {
           "hoverinfo": "none",
           "mode": "text",
           "showlegend": false,
           "text": [
            "10",
            "20",
            "30",
            "40",
            "50",
            "40",
            "30",
            "20",
            "10"
           ],
           "textfont": {
            "color": "#ffffff",
            "family": "Courier New, monospace",
            "size": 30
           },
           "type": "scatter",
           "x": [
            20,
            30,
            40,
            50,
            60,
            70,
            80,
            90,
            100
           ],
           "y": [
            48.5,
            48.5,
            48.5,
            48.5,
            48.5,
            48.5,
            48.5,
            48.5,
            48.5
           ]
          },
          {
           "hoverinfo": "none",
           "line": {
            "color": "blue",
            "dash": "dash"
           },
           "showlegend": false,
           "type": "scatter",
           "x": [
            87,
            87
           ],
           "y": [
            0,
            53.5
           ]
          },
          {
           "hoverinfo": "none",
           "line": {
            "color": "yellow",
            "dash": "dash"
           },
           "showlegend": false,
           "type": "scatter",
           "x": [
            92,
            92
           ],
           "y": [
            0,
            53.5
           ]
          },
          {
           "hoverinfo": "text",
           "hovertext": [
            "nflId:29851.0<br>displayName:Aaron Rodgers<br>Position:QB<br>Role:Pass",
            "nflId:41282.0<br>displayName:Davante Adams<br>Position:RWR<br>Role:Pass Route",
            "nflId:41296.0<br>displayName:Billy Turner<br>Position:RT<br>Role:Pass Block",
            "nflId:45635.0<br>displayName:Robert Tonyan<br>Position:SLiWR<br>Role:Pass Route",
            "nflId:46243.0<br>displayName:Marquez Valdes-Scantling<br>Position:LWR<br>Role:Pass Route",
            "nflId:46705.0<br>displayName:Allen Lazard<br>Position:SLoWR<br>Role:Pass Route",
            "nflId:47827.0<br>displayName:Elgton Jenkins<br>Position:LT<br>Role:Pass Block",
            "nflId:52470.0<br>displayName:A.J. Dillon<br>Position:HB-R<br>Role:Pass Block",
            "nflId:52600.0<br>displayName:Jon Runyan<br>Position:LG<br>Role:Pass Block",
            "nflId:53491.0<br>displayName:Josh Myers<br>Position:C<br>Role:Pass Block",
            "nflId:53571.0<br>displayName:Royce Newman<br>Position:RG<br>Role:Pass Block"
           ],
           "marker": {
            "color": "#203731"
           },
           "mode": "markers",
           "name": "GB",
           "type": "scatter",
           "x": [
            94.72,
            83.21,
            92.84,
            82.61,
            83.86,
            85.1,
            91.04,
            91.32,
            90,
            90.54,
            91.86
           ],
           "y": [
            29.31,
            39.28,
            33.67,
            20.89,
            17.56,
            22.74,
            25.47,
            30.94,
            27.01,
            30.85,
            31.95
           ]
          },
          {
           "hoverinfo": "text",
           "hovertext": [
            "nflId:40000.0<br>displayName:Jamie Collins<br>Position:RILB<br>Role:Coverage",
            "nflId:40171.0<br>displayName:Nicholas Williams<br>Position:LE<br>Role:Pass Rush",
            "nflId:42444.0<br>displayName:Trey Flowers<br>Position:DRT<br>Role:Pass Rush",
            "nflId:43775.0<br>displayName:Romeo Okwara<br>Position:LEO<br>Role:Pass Rush",
            "nflId:44834.0<br>displayName:Charles Harris<br>Position:ROLB<br>Role:Coverage",
            "nflId:44888.0<br>displayName:Alex Anzalone<br>Position:LILB<br>Role:Pass Rush",
            "nflId:46151.0<br>displayName:Tracy Walker<br>Position:FS<br>Role:Coverage",
            "nflId:47864.0<br>displayName:Will Harris<br>Position:FSR<br>Role:Coverage",
            "nflId:47929.0<br>displayName:Amani Oruwariye<br>Position:RCB<br>Role:Coverage",
            "nflId:53530.0<br>displayName:Ifeatu Melifonwu<br>Position:LCB<br>Role:Coverage",
            "nflId:53957.0<br>displayName:A.J. Parker<br>Position:SCBoR<br>Role:Coverage"
           ],
           "marker": {
            "color": "#0076B6"
           },
           "mode": "markers",
           "name": "DET",
           "type": "scatter",
           "x": [
            81.99,
            91.13,
            90,
            92.39,
            83.49,
            89.78,
            78.13,
            71.65,
            83.34,
            82.93,
            80.36
           ],
           "y": [
            26.32,
            32.5,
            24.85,
            34.61,
            22.88,
            31.38,
            34.12,
            21.15,
            16.87,
            40.26,
            19.26
           ]
          },
          {
           "hoverinfo": "none",
           "marker": {
            "color": "#CBB67C"
           },
           "mode": "markers",
           "name": "football",
           "type": "scatter",
           "x": [
            95.02
           ],
           "y": [
            29.32
           ]
          }
         ],
         "name": "23"
        },
        {
         "data": [
          {
           "hoverinfo": "none",
           "mode": "text",
           "showlegend": false,
           "text": [
            "10",
            "20",
            "30",
            "40",
            "50",
            "40",
            "30",
            "20",
            "10"
           ],
           "textfont": {
            "color": "#ffffff",
            "family": "Courier New, monospace",
            "size": 30
           },
           "type": "scatter",
           "x": [
            20,
            30,
            40,
            50,
            60,
            70,
            80,
            90,
            100
           ],
           "y": [
            5,
            5,
            5,
            5,
            5,
            5,
            5,
            5,
            5
           ]
          },
          {
           "hoverinfo": "none",
           "mode": "text",
           "showlegend": false,
           "text": [
            "10",
            "20",
            "30",
            "40",
            "50",
            "40",
            "30",
            "20",
            "10"
           ],
           "textfont": {
            "color": "#ffffff",
            "family": "Courier New, monospace",
            "size": 30
           },
           "type": "scatter",
           "x": [
            20,
            30,
            40,
            50,
            60,
            70,
            80,
            90,
            100
           ],
           "y": [
            48.5,
            48.5,
            48.5,
            48.5,
            48.5,
            48.5,
            48.5,
            48.5,
            48.5
           ]
          },
          {
           "hoverinfo": "none",
           "line": {
            "color": "blue",
            "dash": "dash"
           },
           "showlegend": false,
           "type": "scatter",
           "x": [
            87,
            87
           ],
           "y": [
            0,
            53.5
           ]
          },
          {
           "hoverinfo": "none",
           "line": {
            "color": "yellow",
            "dash": "dash"
           },
           "showlegend": false,
           "type": "scatter",
           "x": [
            92,
            92
           ],
           "y": [
            0,
            53.5
           ]
          },
          {
           "hoverinfo": "text",
           "hovertext": [
            "nflId:29851.0<br>displayName:Aaron Rodgers<br>Position:QB<br>Role:Pass",
            "nflId:41282.0<br>displayName:Davante Adams<br>Position:RWR<br>Role:Pass Route",
            "nflId:41296.0<br>displayName:Billy Turner<br>Position:RT<br>Role:Pass Block",
            "nflId:45635.0<br>displayName:Robert Tonyan<br>Position:SLiWR<br>Role:Pass Route",
            "nflId:46243.0<br>displayName:Marquez Valdes-Scantling<br>Position:LWR<br>Role:Pass Route",
            "nflId:46705.0<br>displayName:Allen Lazard<br>Position:SLoWR<br>Role:Pass Route",
            "nflId:47827.0<br>displayName:Elgton Jenkins<br>Position:LT<br>Role:Pass Block",
            "nflId:52470.0<br>displayName:A.J. Dillon<br>Position:HB-R<br>Role:Pass Block",
            "nflId:52600.0<br>displayName:Jon Runyan<br>Position:LG<br>Role:Pass Block",
            "nflId:53491.0<br>displayName:Josh Myers<br>Position:C<br>Role:Pass Block",
            "nflId:53571.0<br>displayName:Royce Newman<br>Position:RG<br>Role:Pass Block"
           ],
           "marker": {
            "color": "#203731"
           },
           "mode": "markers",
           "name": "GB",
           "type": "scatter",
           "x": [
            95.02,
            82.61,
            93.17,
            82,
            83.35,
            84.79,
            91.28,
            91.46,
            90.17,
            90.71,
            92.14
           ],
           "y": [
            29.26,
            39.02,
            33.56,
            20.83,
            17.65,
            23.27,
            25.45,
            31.06,
            27.18,
            30.88,
            31.88
           ]
          },
          {
           "hoverinfo": "text",
           "hovertext": [
            "nflId:40000.0<br>displayName:Jamie Collins<br>Position:RILB<br>Role:Coverage",
            "nflId:40171.0<br>displayName:Nicholas Williams<br>Position:LE<br>Role:Pass Rush",
            "nflId:42444.0<br>displayName:Trey Flowers<br>Position:DRT<br>Role:Pass Rush",
            "nflId:43775.0<br>displayName:Romeo Okwara<br>Position:LEO<br>Role:Pass Rush",
            "nflId:44834.0<br>displayName:Charles Harris<br>Position:ROLB<br>Role:Coverage",
            "nflId:44888.0<br>displayName:Alex Anzalone<br>Position:LILB<br>Role:Pass Rush",
            "nflId:46151.0<br>displayName:Tracy Walker<br>Position:FS<br>Role:Coverage",
            "nflId:47864.0<br>displayName:Will Harris<br>Position:FSR<br>Role:Coverage",
            "nflId:47929.0<br>displayName:Amani Oruwariye<br>Position:RCB<br>Role:Coverage",
            "nflId:53530.0<br>displayName:Ifeatu Melifonwu<br>Position:LCB<br>Role:Coverage",
            "nflId:53957.0<br>displayName:A.J. Parker<br>Position:SCBoR<br>Role:Coverage"
           ],
           "marker": {
            "color": "#0076B6"
           },
           "mode": "markers",
           "name": "DET",
           "type": "scatter",
           "x": [
            81.83,
            91.47,
            90.34,
            92.82,
            83.32,
            89.98,
            78.21,
            71.29,
            82.85,
            82.46,
            80.05
           ],
           "y": [
            26.52,
            32.46,
            24.71,
            34.48,
            23.09,
            31.45,
            34.04,
            21.17,
            16.92,
            39.98,
            19.34
           ]
          },
          {
           "hoverinfo": "none",
           "marker": {
            "color": "#CBB67C"
           },
           "mode": "markers",
           "name": "football",
           "type": "scatter",
           "x": [
            95.18
           ],
           "y": [
            29.24
           ]
          }
         ],
         "name": "24"
        },
        {
         "data": [
          {
           "hoverinfo": "none",
           "mode": "text",
           "showlegend": false,
           "text": [
            "10",
            "20",
            "30",
            "40",
            "50",
            "40",
            "30",
            "20",
            "10"
           ],
           "textfont": {
            "color": "#ffffff",
            "family": "Courier New, monospace",
            "size": 30
           },
           "type": "scatter",
           "x": [
            20,
            30,
            40,
            50,
            60,
            70,
            80,
            90,
            100
           ],
           "y": [
            5,
            5,
            5,
            5,
            5,
            5,
            5,
            5,
            5
           ]
          },
          {
           "hoverinfo": "none",
           "mode": "text",
           "showlegend": false,
           "text": [
            "10",
            "20",
            "30",
            "40",
            "50",
            "40",
            "30",
            "20",
            "10"
           ],
           "textfont": {
            "color": "#ffffff",
            "family": "Courier New, monospace",
            "size": 30
           },
           "type": "scatter",
           "x": [
            20,
            30,
            40,
            50,
            60,
            70,
            80,
            90,
            100
           ],
           "y": [
            48.5,
            48.5,
            48.5,
            48.5,
            48.5,
            48.5,
            48.5,
            48.5,
            48.5
           ]
          },
          {
           "hoverinfo": "none",
           "line": {
            "color": "blue",
            "dash": "dash"
           },
           "showlegend": false,
           "type": "scatter",
           "x": [
            87,
            87
           ],
           "y": [
            0,
            53.5
           ]
          },
          {
           "hoverinfo": "none",
           "line": {
            "color": "yellow",
            "dash": "dash"
           },
           "showlegend": false,
           "type": "scatter",
           "x": [
            92,
            92
           ],
           "y": [
            0,
            53.5
           ]
          },
          {
           "hoverinfo": "text",
           "hovertext": [
            "nflId:29851.0<br>displayName:Aaron Rodgers<br>Position:QB<br>Role:Pass",
            "nflId:41282.0<br>displayName:Davante Adams<br>Position:RWR<br>Role:Pass Route",
            "nflId:41296.0<br>displayName:Billy Turner<br>Position:RT<br>Role:Pass Block",
            "nflId:45635.0<br>displayName:Robert Tonyan<br>Position:SLiWR<br>Role:Pass Route",
            "nflId:46243.0<br>displayName:Marquez Valdes-Scantling<br>Position:LWR<br>Role:Pass Route",
            "nflId:46705.0<br>displayName:Allen Lazard<br>Position:SLoWR<br>Role:Pass Route",
            "nflId:47827.0<br>displayName:Elgton Jenkins<br>Position:LT<br>Role:Pass Block",
            "nflId:52470.0<br>displayName:A.J. Dillon<br>Position:HB-R<br>Role:Pass Block",
            "nflId:52600.0<br>displayName:Jon Runyan<br>Position:LG<br>Role:Pass Block",
            "nflId:53491.0<br>displayName:Josh Myers<br>Position:C<br>Role:Pass Block",
            "nflId:53571.0<br>displayName:Royce Newman<br>Position:RG<br>Role:Pass Block"
           ],
           "marker": {
            "color": "#203731"
           },
           "mode": "markers",
           "name": "GB",
           "type": "scatter",
           "x": [
            95.26,
            81.98,
            93.51,
            81.41,
            82.82,
            84.5,
            91.55,
            91.59,
            90.3,
            90.87,
            92.41
           ],
           "y": [
            29.18,
            38.77,
            33.43,
            20.75,
            17.72,
            23.84,
            25.45,
            31.19,
            27.39,
            30.9,
            31.81
           ]
          },
          {
           "hoverinfo": "text",
           "hovertext": [
            "nflId:40000.0<br>displayName:Jamie Collins<br>Position:RILB<br>Role:Coverage",
            "nflId:40171.0<br>displayName:Nicholas Williams<br>Position:LE<br>Role:Pass Rush",
            "nflId:42444.0<br>displayName:Trey Flowers<br>Position:DRT<br>Role:Pass Rush",
            "nflId:43775.0<br>displayName:Romeo Okwara<br>Position:LEO<br>Role:Pass Rush",
            "nflId:44834.0<br>displayName:Charles Harris<br>Position:ROLB<br>Role:Coverage",
            "nflId:44888.0<br>displayName:Alex Anzalone<br>Position:LILB<br>Role:Pass Rush",
            "nflId:46151.0<br>displayName:Tracy Walker<br>Position:FS<br>Role:Coverage",
            "nflId:47864.0<br>displayName:Will Harris<br>Position:FSR<br>Role:Coverage",
            "nflId:47929.0<br>displayName:Amani Oruwariye<br>Position:RCB<br>Role:Coverage",
            "nflId:53530.0<br>displayName:Ifeatu Melifonwu<br>Position:LCB<br>Role:Coverage",
            "nflId:53957.0<br>displayName:A.J. Parker<br>Position:SCBoR<br>Role:Coverage"
           ],
           "marker": {
            "color": "#0076B6"
           },
           "mode": "markers",
           "name": "DET",
           "type": "scatter",
           "x": [
            81.69,
            91.78,
            90.69,
            93.22,
            83.17,
            90.15,
            78.27,
            70.91,
            82.35,
            81.95,
            79.76
           ],
           "y": [
            26.78,
            32.42,
            24.61,
            34.34,
            23.36,
            31.53,
            33.95,
            21.21,
            16.95,
            39.68,
            19.41
           ]
          },
          {
           "hoverinfo": "none",
           "marker": {
            "color": "#CBB67C"
           },
           "mode": "markers",
           "name": "football",
           "type": "scatter",
           "x": [
            95.25
           ],
           "y": [
            29.16
           ]
          }
         ],
         "name": "25"
        },
        {
         "data": [
          {
           "hoverinfo": "none",
           "mode": "text",
           "showlegend": false,
           "text": [
            "10",
            "20",
            "30",
            "40",
            "50",
            "40",
            "30",
            "20",
            "10"
           ],
           "textfont": {
            "color": "#ffffff",
            "family": "Courier New, monospace",
            "size": 30
           },
           "type": "scatter",
           "x": [
            20,
            30,
            40,
            50,
            60,
            70,
            80,
            90,
            100
           ],
           "y": [
            5,
            5,
            5,
            5,
            5,
            5,
            5,
            5,
            5
           ]
          },
          {
           "hoverinfo": "none",
           "mode": "text",
           "showlegend": false,
           "text": [
            "10",
            "20",
            "30",
            "40",
            "50",
            "40",
            "30",
            "20",
            "10"
           ],
           "textfont": {
            "color": "#ffffff",
            "family": "Courier New, monospace",
            "size": 30
           },
           "type": "scatter",
           "x": [
            20,
            30,
            40,
            50,
            60,
            70,
            80,
            90,
            100
           ],
           "y": [
            48.5,
            48.5,
            48.5,
            48.5,
            48.5,
            48.5,
            48.5,
            48.5,
            48.5
           ]
          },
          {
           "hoverinfo": "none",
           "line": {
            "color": "blue",
            "dash": "dash"
           },
           "showlegend": false,
           "type": "scatter",
           "x": [
            87,
            87
           ],
           "y": [
            0,
            53.5
           ]
          },
          {
           "hoverinfo": "none",
           "line": {
            "color": "yellow",
            "dash": "dash"
           },
           "showlegend": false,
           "type": "scatter",
           "x": [
            92,
            92
           ],
           "y": [
            0,
            53.5
           ]
          },
          {
           "hoverinfo": "text",
           "hovertext": [
            "nflId:29851.0<br>displayName:Aaron Rodgers<br>Position:QB<br>Role:Pass",
            "nflId:41282.0<br>displayName:Davante Adams<br>Position:RWR<br>Role:Pass Route",
            "nflId:41296.0<br>displayName:Billy Turner<br>Position:RT<br>Role:Pass Block",
            "nflId:45635.0<br>displayName:Robert Tonyan<br>Position:SLiWR<br>Role:Pass Route",
            "nflId:46243.0<br>displayName:Marquez Valdes-Scantling<br>Position:LWR<br>Role:Pass Route",
            "nflId:46705.0<br>displayName:Allen Lazard<br>Position:SLoWR<br>Role:Pass Route",
            "nflId:47827.0<br>displayName:Elgton Jenkins<br>Position:LT<br>Role:Pass Block",
            "nflId:52470.0<br>displayName:A.J. Dillon<br>Position:HB-R<br>Role:Pass Block",
            "nflId:52600.0<br>displayName:Jon Runyan<br>Position:LG<br>Role:Pass Block",
            "nflId:53491.0<br>displayName:Josh Myers<br>Position:C<br>Role:Pass Block",
            "nflId:53571.0<br>displayName:Royce Newman<br>Position:RG<br>Role:Pass Block"
           ],
           "marker": {
            "color": "#203731"
           },
           "mode": "markers",
           "name": "GB",
           "type": "scatter",
           "x": [
            95.43,
            81.34,
            93.83,
            80.83,
            82.27,
            84.22,
            91.79,
            91.72,
            90.41,
            91.01,
            92.65
           ],
           "y": [
            29.11,
            38.54,
            33.29,
            20.66,
            17.78,
            24.43,
            25.45,
            31.31,
            27.66,
            30.92,
            31.75
           ]
          },
          {
           "hoverinfo": "text",
           "hovertext": [
            "nflId:40000.0<br>displayName:Jamie Collins<br>Position:RILB<br>Role:Coverage",
            "nflId:40171.0<br>displayName:Nicholas Williams<br>Position:LE<br>Role:Pass Rush",
            "nflId:42444.0<br>displayName:Trey Flowers<br>Position:DRT<br>Role:Pass Rush",
            "nflId:43775.0<br>displayName:Romeo Okwara<br>Position:LEO<br>Role:Pass Rush",
            "nflId:44834.0<br>displayName:Charles Harris<br>Position:ROLB<br>Role:Coverage",
            "nflId:44888.0<br>displayName:Alex Anzalone<br>Position:LILB<br>Role:Pass Rush",
            "nflId:46151.0<br>displayName:Tracy Walker<br>Position:FS<br>Role:Coverage",
            "nflId:47864.0<br>displayName:Will Harris<br>Position:FSR<br>Role:Coverage",
            "nflId:47929.0<br>displayName:Amani Oruwariye<br>Position:RCB<br>Role:Coverage",
            "nflId:53530.0<br>displayName:Ifeatu Melifonwu<br>Position:LCB<br>Role:Coverage",
            "nflId:53957.0<br>displayName:A.J. Parker<br>Position:SCBoR<br>Role:Coverage"
           ],
           "marker": {
            "color": "#0076B6"
           },
           "mode": "markers",
           "name": "DET",
           "type": "scatter",
           "x": [
            81.57,
            92.07,
            91.04,
            93.58,
            83.03,
            90.29,
            78.32,
            70.53,
            81.84,
            81.41,
            79.48
           ],
           "y": [
            27.09,
            32.39,
            24.54,
            34.19,
            23.65,
            31.59,
            33.85,
            21.25,
            16.98,
            39.4,
            19.47
           ]
          },
          {
           "hoverinfo": "none",
           "marker": {
            "color": "#CBB67C"
           },
           "mode": "markers",
           "name": "football",
           "type": "scatter",
           "x": [
            95.35
           ],
           "y": [
            29.14
           ]
          }
         ],
         "name": "26"
        },
        {
         "data": [
          {
           "hoverinfo": "none",
           "mode": "text",
           "showlegend": false,
           "text": [
            "10",
            "20",
            "30",
            "40",
            "50",
            "40",
            "30",
            "20",
            "10"
           ],
           "textfont": {
            "color": "#ffffff",
            "family": "Courier New, monospace",
            "size": 30
           },
           "type": "scatter",
           "x": [
            20,
            30,
            40,
            50,
            60,
            70,
            80,
            90,
            100
           ],
           "y": [
            5,
            5,
            5,
            5,
            5,
            5,
            5,
            5,
            5
           ]
          },
          {
           "hoverinfo": "none",
           "mode": "text",
           "showlegend": false,
           "text": [
            "10",
            "20",
            "30",
            "40",
            "50",
            "40",
            "30",
            "20",
            "10"
           ],
           "textfont": {
            "color": "#ffffff",
            "family": "Courier New, monospace",
            "size": 30
           },
           "type": "scatter",
           "x": [
            20,
            30,
            40,
            50,
            60,
            70,
            80,
            90,
            100
           ],
           "y": [
            48.5,
            48.5,
            48.5,
            48.5,
            48.5,
            48.5,
            48.5,
            48.5,
            48.5
           ]
          },
          {
           "hoverinfo": "none",
           "line": {
            "color": "blue",
            "dash": "dash"
           },
           "showlegend": false,
           "type": "scatter",
           "x": [
            87,
            87
           ],
           "y": [
            0,
            53.5
           ]
          },
          {
           "hoverinfo": "none",
           "line": {
            "color": "yellow",
            "dash": "dash"
           },
           "showlegend": false,
           "type": "scatter",
           "x": [
            92,
            92
           ],
           "y": [
            0,
            53.5
           ]
          },
          {
           "hoverinfo": "text",
           "hovertext": [
            "nflId:29851.0<br>displayName:Aaron Rodgers<br>Position:QB<br>Role:Pass",
            "nflId:41282.0<br>displayName:Davante Adams<br>Position:RWR<br>Role:Pass Route",
            "nflId:41296.0<br>displayName:Billy Turner<br>Position:RT<br>Role:Pass Block",
            "nflId:45635.0<br>displayName:Robert Tonyan<br>Position:SLiWR<br>Role:Pass Route",
            "nflId:46243.0<br>displayName:Marquez Valdes-Scantling<br>Position:LWR<br>Role:Pass Route",
            "nflId:46705.0<br>displayName:Allen Lazard<br>Position:SLoWR<br>Role:Pass Route",
            "nflId:47827.0<br>displayName:Elgton Jenkins<br>Position:LT<br>Role:Pass Block",
            "nflId:52470.0<br>displayName:A.J. Dillon<br>Position:HB-R<br>Role:Pass Block",
            "nflId:52600.0<br>displayName:Jon Runyan<br>Position:LG<br>Role:Pass Block",
            "nflId:53491.0<br>displayName:Josh Myers<br>Position:C<br>Role:Pass Block",
            "nflId:53571.0<br>displayName:Royce Newman<br>Position:RG<br>Role:Pass Block"
           ],
           "marker": {
            "color": "#203731"
           },
           "mode": "markers",
           "name": "GB",
           "type": "scatter",
           "x": [
            95.56,
            80.68,
            94.14,
            80.27,
            81.72,
            83.97,
            92.04,
            91.83,
            90.51,
            91.14,
            92.87
           ],
           "y": [
            29.02,
            38.32,
            33.14,
            20.55,
            17.83,
            25.06,
            25.46,
            31.42,
            27.95,
            30.95,
            31.7
           ]
          },
          {
           "hoverinfo": "text",
           "hovertext": [
            "nflId:40000.0<br>displayName:Jamie Collins<br>Position:RILB<br>Role:Coverage",
            "nflId:40171.0<br>displayName:Nicholas Williams<br>Position:LE<br>Role:Pass Rush",
            "nflId:42444.0<br>displayName:Trey Flowers<br>Position:DRT<br>Role:Pass Rush",
            "nflId:43775.0<br>displayName:Romeo Okwara<br>Position:LEO<br>Role:Pass Rush",
            "nflId:44834.0<br>displayName:Charles Harris<br>Position:ROLB<br>Role:Coverage",
            "nflId:44888.0<br>displayName:Alex Anzalone<br>Position:LILB<br>Role:Pass Rush",
            "nflId:46151.0<br>displayName:Tracy Walker<br>Position:FS<br>Role:Coverage",
            "nflId:47864.0<br>displayName:Will Harris<br>Position:FSR<br>Role:Coverage",
            "nflId:47929.0<br>displayName:Amani Oruwariye<br>Position:RCB<br>Role:Coverage",
            "nflId:53530.0<br>displayName:Ifeatu Melifonwu<br>Position:LCB<br>Role:Coverage",
            "nflId:53957.0<br>displayName:A.J. Parker<br>Position:SCBoR<br>Role:Coverage"
           ],
           "marker": {
            "color": "#0076B6"
           },
           "mode": "markers",
           "name": "DET",
           "type": "scatter",
           "x": [
            81.46,
            92.33,
            91.39,
            93.9,
            82.9,
            90.42,
            78.37,
            70.13,
            81.32,
            80.84,
            79.24
           ],
           "y": [
            27.45,
            32.36,
            24.51,
            34.02,
            23.96,
            31.66,
            33.76,
            21.31,
            17,
            39.13,
            19.52
           ]
          },
          {
           "hoverinfo": "none",
           "marker": {
            "color": "#CBB67C"
           },
           "mode": "markers",
           "name": "football",
           "type": "scatter",
           "x": [
            95.42
           ],
           "y": [
            29.12
           ]
          }
         ],
         "name": "27"
        },
        {
         "data": [
          {
           "hoverinfo": "none",
           "mode": "text",
           "showlegend": false,
           "text": [
            "10",
            "20",
            "30",
            "40",
            "50",
            "40",
            "30",
            "20",
            "10"
           ],
           "textfont": {
            "color": "#ffffff",
            "family": "Courier New, monospace",
            "size": 30
           },
           "type": "scatter",
           "x": [
            20,
            30,
            40,
            50,
            60,
            70,
            80,
            90,
            100
           ],
           "y": [
            5,
            5,
            5,
            5,
            5,
            5,
            5,
            5,
            5
           ]
          },
          {
           "hoverinfo": "none",
           "mode": "text",
           "showlegend": false,
           "text": [
            "10",
            "20",
            "30",
            "40",
            "50",
            "40",
            "30",
            "20",
            "10"
           ],
           "textfont": {
            "color": "#ffffff",
            "family": "Courier New, monospace",
            "size": 30
           },
           "type": "scatter",
           "x": [
            20,
            30,
            40,
            50,
            60,
            70,
            80,
            90,
            100
           ],
           "y": [
            48.5,
            48.5,
            48.5,
            48.5,
            48.5,
            48.5,
            48.5,
            48.5,
            48.5
           ]
          },
          {
           "hoverinfo": "none",
           "line": {
            "color": "blue",
            "dash": "dash"
           },
           "showlegend": false,
           "type": "scatter",
           "x": [
            87,
            87
           ],
           "y": [
            0,
            53.5
           ]
          },
          {
           "hoverinfo": "none",
           "line": {
            "color": "yellow",
            "dash": "dash"
           },
           "showlegend": false,
           "type": "scatter",
           "x": [
            92,
            92
           ],
           "y": [
            0,
            53.5
           ]
          },
          {
           "hoverinfo": "text",
           "hovertext": [
            "nflId:29851.0<br>displayName:Aaron Rodgers<br>Position:QB<br>Role:Pass",
            "nflId:41282.0<br>displayName:Davante Adams<br>Position:RWR<br>Role:Pass Route",
            "nflId:41296.0<br>displayName:Billy Turner<br>Position:RT<br>Role:Pass Block",
            "nflId:45635.0<br>displayName:Robert Tonyan<br>Position:SLiWR<br>Role:Pass Route",
            "nflId:46243.0<br>displayName:Marquez Valdes-Scantling<br>Position:LWR<br>Role:Pass Route",
            "nflId:46705.0<br>displayName:Allen Lazard<br>Position:SLoWR<br>Role:Pass Route",
            "nflId:47827.0<br>displayName:Elgton Jenkins<br>Position:LT<br>Role:Pass Block",
            "nflId:52470.0<br>displayName:A.J. Dillon<br>Position:HB-R<br>Role:Pass Block",
            "nflId:52600.0<br>displayName:Jon Runyan<br>Position:LG<br>Role:Pass Block",
            "nflId:53491.0<br>displayName:Josh Myers<br>Position:C<br>Role:Pass Block",
            "nflId:53571.0<br>displayName:Royce Newman<br>Position:RG<br>Role:Pass Block"
           ],
           "marker": {
            "color": "#203731"
           },
           "mode": "markers",
           "name": "GB",
           "type": "scatter",
           "x": [
            95.65,
            80.03,
            94.41,
            79.74,
            81.14,
            83.74,
            92.28,
            91.93,
            90.59,
            91.26,
            93.1
           ],
           "y": [
            28.93,
            38.12,
            32.98,
            20.42,
            17.87,
            25.72,
            25.48,
            31.54,
            28.29,
            30.97,
            31.66
           ]
          },
          {
           "hoverinfo": "text",
           "hovertext": [
            "nflId:40000.0<br>displayName:Jamie Collins<br>Position:RILB<br>Role:Coverage",
            "nflId:40171.0<br>displayName:Nicholas Williams<br>Position:LE<br>Role:Pass Rush",
            "nflId:42444.0<br>displayName:Trey Flowers<br>Position:DRT<br>Role:Pass Rush",
            "nflId:43775.0<br>displayName:Romeo Okwara<br>Position:LEO<br>Role:Pass Rush",
            "nflId:44834.0<br>displayName:Charles Harris<br>Position:ROLB<br>Role:Coverage",
            "nflId:44888.0<br>displayName:Alex Anzalone<br>Position:LILB<br>Role:Pass Rush",
            "nflId:46151.0<br>displayName:Tracy Walker<br>Position:FS<br>Role:Coverage",
            "nflId:47864.0<br>displayName:Will Harris<br>Position:FSR<br>Role:Coverage",
            "nflId:47929.0<br>displayName:Amani Oruwariye<br>Position:RCB<br>Role:Coverage",
            "nflId:53530.0<br>displayName:Ifeatu Melifonwu<br>Position:LCB<br>Role:Coverage",
            "nflId:53957.0<br>displayName:A.J. Parker<br>Position:SCBoR<br>Role:Coverage"
           ],
           "marker": {
            "color": "#0076B6"
           },
           "mode": "markers",
           "name": "DET",
           "type": "scatter",
           "x": [
            81.37,
            92.53,
            91.75,
            94.19,
            82.8,
            90.52,
            78.42,
            69.71,
            80.8,
            80.24,
            79.04
           ],
           "y": [
            27.85,
            32.31,
            24.52,
            33.86,
            24.27,
            31.72,
            33.69,
            21.38,
            17.01,
            38.91,
            19.57
           ]
          },
          {
           "hoverinfo": "none",
           "marker": {
            "color": "#CBB67C"
           },
           "mode": "markers",
           "name": "football",
           "type": "scatter",
           "x": [
            95.48
           ],
           "y": [
            29.11
           ]
          }
         ],
         "name": "28"
        },
        {
         "data": [
          {
           "hoverinfo": "none",
           "mode": "text",
           "showlegend": false,
           "text": [
            "10",
            "20",
            "30",
            "40",
            "50",
            "40",
            "30",
            "20",
            "10"
           ],
           "textfont": {
            "color": "#ffffff",
            "family": "Courier New, monospace",
            "size": 30
           },
           "type": "scatter",
           "x": [
            20,
            30,
            40,
            50,
            60,
            70,
            80,
            90,
            100
           ],
           "y": [
            5,
            5,
            5,
            5,
            5,
            5,
            5,
            5,
            5
           ]
          },
          {
           "hoverinfo": "none",
           "mode": "text",
           "showlegend": false,
           "text": [
            "10",
            "20",
            "30",
            "40",
            "50",
            "40",
            "30",
            "20",
            "10"
           ],
           "textfont": {
            "color": "#ffffff",
            "family": "Courier New, monospace",
            "size": 30
           },
           "type": "scatter",
           "x": [
            20,
            30,
            40,
            50,
            60,
            70,
            80,
            90,
            100
           ],
           "y": [
            48.5,
            48.5,
            48.5,
            48.5,
            48.5,
            48.5,
            48.5,
            48.5,
            48.5
           ]
          },
          {
           "hoverinfo": "none",
           "line": {
            "color": "blue",
            "dash": "dash"
           },
           "showlegend": false,
           "type": "scatter",
           "x": [
            87,
            87
           ],
           "y": [
            0,
            53.5
           ]
          },
          {
           "hoverinfo": "none",
           "line": {
            "color": "yellow",
            "dash": "dash"
           },
           "showlegend": false,
           "type": "scatter",
           "x": [
            92,
            92
           ],
           "y": [
            0,
            53.5
           ]
          },
          {
           "hoverinfo": "text",
           "hovertext": [
            "nflId:29851.0<br>displayName:Aaron Rodgers<br>Position:QB<br>Role:Pass",
            "nflId:41282.0<br>displayName:Davante Adams<br>Position:RWR<br>Role:Pass Route",
            "nflId:41296.0<br>displayName:Billy Turner<br>Position:RT<br>Role:Pass Block",
            "nflId:45635.0<br>displayName:Robert Tonyan<br>Position:SLiWR<br>Role:Pass Route",
            "nflId:46243.0<br>displayName:Marquez Valdes-Scantling<br>Position:LWR<br>Role:Pass Route",
            "nflId:46705.0<br>displayName:Allen Lazard<br>Position:SLoWR<br>Role:Pass Route",
            "nflId:47827.0<br>displayName:Elgton Jenkins<br>Position:LT<br>Role:Pass Block",
            "nflId:52470.0<br>displayName:A.J. Dillon<br>Position:HB-R<br>Role:Pass Block",
            "nflId:52600.0<br>displayName:Jon Runyan<br>Position:LG<br>Role:Pass Block",
            "nflId:53491.0<br>displayName:Josh Myers<br>Position:C<br>Role:Pass Block",
            "nflId:53571.0<br>displayName:Royce Newman<br>Position:RG<br>Role:Pass Block"
           ],
           "marker": {
            "color": "#203731"
           },
           "mode": "markers",
           "name": "GB",
           "type": "scatter",
           "x": [
            95.7,
            79.37,
            94.66,
            79.23,
            80.54,
            83.54,
            92.51,
            92.01,
            90.65,
            91.35,
            93.3
           ],
           "y": [
            28.83,
            37.93,
            32.83,
            20.28,
            17.9,
            26.4,
            25.51,
            31.65,
            28.64,
            31,
            31.62
           ]
          },
          {
           "hoverinfo": "text",
           "hovertext": [
            "nflId:40000.0<br>displayName:Jamie Collins<br>Position:RILB<br>Role:Coverage",
            "nflId:40171.0<br>displayName:Nicholas Williams<br>Position:LE<br>Role:Pass Rush",
            "nflId:42444.0<br>displayName:Trey Flowers<br>Position:DRT<br>Role:Pass Rush",
            "nflId:43775.0<br>displayName:Romeo Okwara<br>Position:LEO<br>Role:Pass Rush",
            "nflId:44834.0<br>displayName:Charles Harris<br>Position:ROLB<br>Role:Coverage",
            "nflId:44888.0<br>displayName:Alex Anzalone<br>Position:LILB<br>Role:Pass Rush",
            "nflId:46151.0<br>displayName:Tracy Walker<br>Position:FS<br>Role:Coverage",
            "nflId:47864.0<br>displayName:Will Harris<br>Position:FSR<br>Role:Coverage",
            "nflId:47929.0<br>displayName:Amani Oruwariye<br>Position:RCB<br>Role:Coverage",
            "nflId:53530.0<br>displayName:Ifeatu Melifonwu<br>Position:LCB<br>Role:Coverage",
            "nflId:53957.0<br>displayName:A.J. Parker<br>Position:SCBoR<br>Role:Coverage"
           ],
           "marker": {
            "color": "#0076B6"
           },
           "mode": "markers",
           "name": "DET",
           "type": "scatter",
           "x": [
            81.29,
            92.72,
            92.13,
            94.45,
            82.7,
            90.59,
            78.49,
            69.29,
            80.27,
            79.62,
            78.88
           ],
           "y": [
            28.29,
            32.27,
            24.57,
            33.71,
            24.56,
            31.77,
            33.63,
            21.46,
            17.01,
            38.72,
            19.58
           ]
          },
          {
           "hoverinfo": "none",
           "marker": {
            "color": "#CBB67C"
           },
           "mode": "markers",
           "name": "football",
           "type": "scatter",
           "x": [
            95.52
           ],
           "y": [
            29.09
           ]
          }
         ],
         "name": "29"
        },
        {
         "data": [
          {
           "hoverinfo": "none",
           "mode": "text",
           "showlegend": false,
           "text": [
            "10",
            "20",
            "30",
            "40",
            "50",
            "40",
            "30",
            "20",
            "10"
           ],
           "textfont": {
            "color": "#ffffff",
            "family": "Courier New, monospace",
            "size": 30
           },
           "type": "scatter",
           "x": [
            20,
            30,
            40,
            50,
            60,
            70,
            80,
            90,
            100
           ],
           "y": [
            5,
            5,
            5,
            5,
            5,
            5,
            5,
            5,
            5
           ]
          },
          {
           "hoverinfo": "none",
           "mode": "text",
           "showlegend": false,
           "text": [
            "10",
            "20",
            "30",
            "40",
            "50",
            "40",
            "30",
            "20",
            "10"
           ],
           "textfont": {
            "color": "#ffffff",
            "family": "Courier New, monospace",
            "size": 30
           },
           "type": "scatter",
           "x": [
            20,
            30,
            40,
            50,
            60,
            70,
            80,
            90,
            100
           ],
           "y": [
            48.5,
            48.5,
            48.5,
            48.5,
            48.5,
            48.5,
            48.5,
            48.5,
            48.5
           ]
          },
          {
           "hoverinfo": "none",
           "line": {
            "color": "blue",
            "dash": "dash"
           },
           "showlegend": false,
           "type": "scatter",
           "x": [
            87,
            87
           ],
           "y": [
            0,
            53.5
           ]
          },
          {
           "hoverinfo": "none",
           "line": {
            "color": "yellow",
            "dash": "dash"
           },
           "showlegend": false,
           "type": "scatter",
           "x": [
            92,
            92
           ],
           "y": [
            0,
            53.5
           ]
          },
          {
           "hoverinfo": "text",
           "hovertext": [
            "nflId:29851.0<br>displayName:Aaron Rodgers<br>Position:QB<br>Role:Pass",
            "nflId:41282.0<br>displayName:Davante Adams<br>Position:RWR<br>Role:Pass Route",
            "nflId:41296.0<br>displayName:Billy Turner<br>Position:RT<br>Role:Pass Block",
            "nflId:45635.0<br>displayName:Robert Tonyan<br>Position:SLiWR<br>Role:Pass Route",
            "nflId:46243.0<br>displayName:Marquez Valdes-Scantling<br>Position:LWR<br>Role:Pass Route",
            "nflId:46705.0<br>displayName:Allen Lazard<br>Position:SLoWR<br>Role:Pass Route",
            "nflId:47827.0<br>displayName:Elgton Jenkins<br>Position:LT<br>Role:Pass Block",
            "nflId:52470.0<br>displayName:A.J. Dillon<br>Position:HB-R<br>Role:Pass Block",
            "nflId:52600.0<br>displayName:Jon Runyan<br>Position:LG<br>Role:Pass Block",
            "nflId:53491.0<br>displayName:Josh Myers<br>Position:C<br>Role:Pass Block",
            "nflId:53571.0<br>displayName:Royce Newman<br>Position:RG<br>Role:Pass Block"
           ],
           "marker": {
            "color": "#203731"
           },
           "mode": "markers",
           "name": "GB",
           "type": "scatter",
           "x": [
            95.73,
            78.71,
            94.88,
            78.76,
            79.92,
            83.37,
            92.73,
            92.06,
            90.71,
            91.44,
            93.47
           ],
           "y": [
            28.74,
            37.74,
            32.69,
            20.1,
            17.92,
            27.1,
            25.54,
            31.75,
            29.02,
            31.01,
            31.6
           ]
          },
          {
           "hoverinfo": "text",
           "hovertext": [
            "nflId:40000.0<br>displayName:Jamie Collins<br>Position:RILB<br>Role:Coverage",
            "nflId:40171.0<br>displayName:Nicholas Williams<br>Position:LE<br>Role:Pass Rush",
            "nflId:42444.0<br>displayName:Trey Flowers<br>Position:DRT<br>Role:Pass Rush",
            "nflId:43775.0<br>displayName:Romeo Okwara<br>Position:LEO<br>Role:Pass Rush",
            "nflId:44834.0<br>displayName:Charles Harris<br>Position:ROLB<br>Role:Coverage",
            "nflId:44888.0<br>displayName:Alex Anzalone<br>Position:LILB<br>Role:Pass Rush",
            "nflId:46151.0<br>displayName:Tracy Walker<br>Position:FS<br>Role:Coverage",
            "nflId:47864.0<br>displayName:Will Harris<br>Position:FSR<br>Role:Coverage",
            "nflId:47929.0<br>displayName:Amani Oruwariye<br>Position:RCB<br>Role:Coverage",
            "nflId:53530.0<br>displayName:Ifeatu Melifonwu<br>Position:LCB<br>Role:Coverage",
            "nflId:53957.0<br>displayName:A.J. Parker<br>Position:SCBoR<br>Role:Coverage"
           ],
           "marker": {
            "color": "#0076B6"
           },
           "mode": "markers",
           "name": "DET",
           "type": "scatter",
           "x": [
            81.23,
            92.86,
            92.48,
            94.69,
            82.62,
            90.63,
            78.57,
            68.85,
            79.74,
            78.98,
            78.75
           ],
           "y": [
            28.76,
            32.21,
            24.68,
            33.56,
            24.82,
            31.82,
            33.63,
            21.55,
            17.02,
            38.57,
            19.57
           ]
          },
          {
           "hoverinfo": "none",
           "marker": {
            "color": "#CBB67C"
           },
           "mode": "markers",
           "name": "football",
           "type": "scatter",
           "x": [
            95.55
           ],
           "y": [
            29.08
           ]
          }
         ],
         "name": "30"
        },
        {
         "data": [
          {
           "hoverinfo": "none",
           "mode": "text",
           "showlegend": false,
           "text": [
            "10",
            "20",
            "30",
            "40",
            "50",
            "40",
            "30",
            "20",
            "10"
           ],
           "textfont": {
            "color": "#ffffff",
            "family": "Courier New, monospace",
            "size": 30
           },
           "type": "scatter",
           "x": [
            20,
            30,
            40,
            50,
            60,
            70,
            80,
            90,
            100
           ],
           "y": [
            5,
            5,
            5,
            5,
            5,
            5,
            5,
            5,
            5
           ]
          },
          {
           "hoverinfo": "none",
           "mode": "text",
           "showlegend": false,
           "text": [
            "10",
            "20",
            "30",
            "40",
            "50",
            "40",
            "30",
            "20",
            "10"
           ],
           "textfont": {
            "color": "#ffffff",
            "family": "Courier New, monospace",
            "size": 30
           },
           "type": "scatter",
           "x": [
            20,
            30,
            40,
            50,
            60,
            70,
            80,
            90,
            100
           ],
           "y": [
            48.5,
            48.5,
            48.5,
            48.5,
            48.5,
            48.5,
            48.5,
            48.5,
            48.5
           ]
          },
          {
           "hoverinfo": "none",
           "line": {
            "color": "blue",
            "dash": "dash"
           },
           "showlegend": false,
           "type": "scatter",
           "x": [
            87,
            87
           ],
           "y": [
            0,
            53.5
           ]
          },
          {
           "hoverinfo": "none",
           "line": {
            "color": "yellow",
            "dash": "dash"
           },
           "showlegend": false,
           "type": "scatter",
           "x": [
            92,
            92
           ],
           "y": [
            0,
            53.5
           ]
          },
          {
           "hoverinfo": "text",
           "hovertext": [
            "nflId:29851.0<br>displayName:Aaron Rodgers<br>Position:QB<br>Role:Pass",
            "nflId:41282.0<br>displayName:Davante Adams<br>Position:RWR<br>Role:Pass Route",
            "nflId:41296.0<br>displayName:Billy Turner<br>Position:RT<br>Role:Pass Block",
            "nflId:45635.0<br>displayName:Robert Tonyan<br>Position:SLiWR<br>Role:Pass Route",
            "nflId:46243.0<br>displayName:Marquez Valdes-Scantling<br>Position:LWR<br>Role:Pass Route",
            "nflId:46705.0<br>displayName:Allen Lazard<br>Position:SLoWR<br>Role:Pass Route",
            "nflId:47827.0<br>displayName:Elgton Jenkins<br>Position:LT<br>Role:Pass Block",
            "nflId:52470.0<br>displayName:A.J. Dillon<br>Position:HB-R<br>Role:Pass Block",
            "nflId:52600.0<br>displayName:Jon Runyan<br>Position:LG<br>Role:Pass Block",
            "nflId:53491.0<br>displayName:Josh Myers<br>Position:C<br>Role:Pass Block",
            "nflId:53571.0<br>displayName:Royce Newman<br>Position:RG<br>Role:Pass Block"
           ],
           "marker": {
            "color": "#203731"
           },
           "mode": "markers",
           "name": "GB",
           "type": "scatter",
           "x": [
            95.73,
            78.07,
            95.08,
            78.31,
            79.29,
            83.23,
            92.95,
            92.08,
            90.76,
            91.51,
            93.61
           ],
           "y": [
            28.64,
            37.54,
            32.56,
            19.88,
            17.93,
            27.83,
            25.61,
            31.84,
            29.43,
            31.01,
            31.6
           ]
          },
          {
           "hoverinfo": "text",
           "hovertext": [
            "nflId:40000.0<br>displayName:Jamie Collins<br>Position:RILB<br>Role:Coverage",
            "nflId:40171.0<br>displayName:Nicholas Williams<br>Position:LE<br>Role:Pass Rush",
            "nflId:42444.0<br>displayName:Trey Flowers<br>Position:DRT<br>Role:Pass Rush",
            "nflId:43775.0<br>displayName:Romeo Okwara<br>Position:LEO<br>Role:Pass Rush",
            "nflId:44834.0<br>displayName:Charles Harris<br>Position:ROLB<br>Role:Coverage",
            "nflId:44888.0<br>displayName:Alex Anzalone<br>Position:LILB<br>Role:Pass Rush",
            "nflId:46151.0<br>displayName:Tracy Walker<br>Position:FS<br>Role:Coverage",
            "nflId:47864.0<br>displayName:Will Harris<br>Position:FSR<br>Role:Coverage",
            "nflId:47929.0<br>displayName:Amani Oruwariye<br>Position:RCB<br>Role:Coverage",
            "nflId:53530.0<br>displayName:Ifeatu Melifonwu<br>Position:LCB<br>Role:Coverage",
            "nflId:53957.0<br>displayName:A.J. Parker<br>Position:SCBoR<br>Role:Coverage"
           ],
           "marker": {
            "color": "#0076B6"
           },
           "mode": "markers",
           "name": "DET",
           "type": "scatter",
           "x": [
            81.2,
            92.95,
            92.82,
            94.92,
            82.56,
            90.66,
            78.68,
            68.4,
            79.2,
            78.33,
            78.66
           ],
           "y": [
            29.27,
            32.12,
            24.85,
            33.41,
            25.03,
            31.86,
            33.68,
            21.65,
            17.03,
            38.45,
            19.52
           ]
          },
          {
           "hoverinfo": "none",
           "marker": {
            "color": "#CBB67C"
           },
           "mode": "markers",
           "name": "football",
           "type": "scatter",
           "x": [
            95.57
           ],
           "y": [
            29.05
           ]
          }
         ],
         "name": "31"
        },
        {
         "data": [
          {
           "hoverinfo": "none",
           "mode": "text",
           "showlegend": false,
           "text": [
            "10",
            "20",
            "30",
            "40",
            "50",
            "40",
            "30",
            "20",
            "10"
           ],
           "textfont": {
            "color": "#ffffff",
            "family": "Courier New, monospace",
            "size": 30
           },
           "type": "scatter",
           "x": [
            20,
            30,
            40,
            50,
            60,
            70,
            80,
            90,
            100
           ],
           "y": [
            5,
            5,
            5,
            5,
            5,
            5,
            5,
            5,
            5
           ]
          },
          {
           "hoverinfo": "none",
           "mode": "text",
           "showlegend": false,
           "text": [
            "10",
            "20",
            "30",
            "40",
            "50",
            "40",
            "30",
            "20",
            "10"
           ],
           "textfont": {
            "color": "#ffffff",
            "family": "Courier New, monospace",
            "size": 30
           },
           "type": "scatter",
           "x": [
            20,
            30,
            40,
            50,
            60,
            70,
            80,
            90,
            100
           ],
           "y": [
            48.5,
            48.5,
            48.5,
            48.5,
            48.5,
            48.5,
            48.5,
            48.5,
            48.5
           ]
          },
          {
           "hoverinfo": "none",
           "line": {
            "color": "blue",
            "dash": "dash"
           },
           "showlegend": false,
           "type": "scatter",
           "x": [
            87,
            87
           ],
           "y": [
            0,
            53.5
           ]
          },
          {
           "hoverinfo": "none",
           "line": {
            "color": "yellow",
            "dash": "dash"
           },
           "showlegend": false,
           "type": "scatter",
           "x": [
            92,
            92
           ],
           "y": [
            0,
            53.5
           ]
          },
          {
           "hoverinfo": "text",
           "hovertext": [
            "nflId:29851.0<br>displayName:Aaron Rodgers<br>Position:QB<br>Role:Pass",
            "nflId:41282.0<br>displayName:Davante Adams<br>Position:RWR<br>Role:Pass Route",
            "nflId:41296.0<br>displayName:Billy Turner<br>Position:RT<br>Role:Pass Block",
            "nflId:45635.0<br>displayName:Robert Tonyan<br>Position:SLiWR<br>Role:Pass Route",
            "nflId:46243.0<br>displayName:Marquez Valdes-Scantling<br>Position:LWR<br>Role:Pass Route",
            "nflId:46705.0<br>displayName:Allen Lazard<br>Position:SLoWR<br>Role:Pass Route",
            "nflId:47827.0<br>displayName:Elgton Jenkins<br>Position:LT<br>Role:Pass Block",
            "nflId:52470.0<br>displayName:A.J. Dillon<br>Position:HB-R<br>Role:Pass Block",
            "nflId:52600.0<br>displayName:Jon Runyan<br>Position:LG<br>Role:Pass Block",
            "nflId:53491.0<br>displayName:Josh Myers<br>Position:C<br>Role:Pass Block",
            "nflId:53571.0<br>displayName:Royce Newman<br>Position:RG<br>Role:Pass Block"
           ],
           "marker": {
            "color": "#203731"
           },
           "mode": "markers",
           "name": "GB",
           "type": "scatter",
           "x": [
            95.71,
            77.45,
            95.25,
            77.9,
            78.62,
            83.12,
            93.18,
            92.08,
            90.81,
            91.56,
            93.73
           ],
           "y": [
            28.55,
            37.34,
            32.45,
            19.63,
            17.94,
            28.59,
            25.71,
            31.93,
            29.85,
            31,
            31.62
           ]
          },
          {
           "hoverinfo": "text",
           "hovertext": [
            "nflId:40000.0<br>displayName:Jamie Collins<br>Position:RILB<br>Role:Coverage",
            "nflId:40171.0<br>displayName:Nicholas Williams<br>Position:LE<br>Role:Pass Rush",
            "nflId:42444.0<br>displayName:Trey Flowers<br>Position:DRT<br>Role:Pass Rush",
            "nflId:43775.0<br>displayName:Romeo Okwara<br>Position:LEO<br>Role:Pass Rush",
            "nflId:44834.0<br>displayName:Charles Harris<br>Position:ROLB<br>Role:Coverage",
            "nflId:44888.0<br>displayName:Alex Anzalone<br>Position:LILB<br>Role:Pass Rush",
            "nflId:46151.0<br>displayName:Tracy Walker<br>Position:FS<br>Role:Coverage",
            "nflId:47864.0<br>displayName:Will Harris<br>Position:FSR<br>Role:Coverage",
            "nflId:47929.0<br>displayName:Amani Oruwariye<br>Position:RCB<br>Role:Coverage",
            "nflId:53530.0<br>displayName:Ifeatu Melifonwu<br>Position:LCB<br>Role:Coverage",
            "nflId:53957.0<br>displayName:A.J. Parker<br>Position:SCBoR<br>Role:Coverage"
           ],
           "marker": {
            "color": "#0076B6"
           },
           "mode": "markers",
           "name": "DET",
           "type": "scatter",
           "x": [
            81.18,
            93.01,
            93.16,
            95.14,
            82.51,
            90.65,
            78.81,
            67.93,
            78.64,
            77.68,
            78.6
           ],
           "y": [
            29.81,
            32.02,
            25.01,
            33.28,
            25.19,
            31.91,
            33.76,
            21.76,
            17.03,
            38.37,
            19.46
           ]
          },
          {
           "hoverinfo": "none",
           "marker": {
            "color": "#CBB67C"
           },
           "mode": "markers",
           "name": "football",
           "type": "scatter",
           "x": [
            95.58
           ],
           "y": [
            29.05
           ]
          }
         ],
         "name": "32"
        },
        {
         "data": [
          {
           "hoverinfo": "none",
           "mode": "text",
           "showlegend": false,
           "text": [
            "10",
            "20",
            "30",
            "40",
            "50",
            "40",
            "30",
            "20",
            "10"
           ],
           "textfont": {
            "color": "#ffffff",
            "family": "Courier New, monospace",
            "size": 30
           },
           "type": "scatter",
           "x": [
            20,
            30,
            40,
            50,
            60,
            70,
            80,
            90,
            100
           ],
           "y": [
            5,
            5,
            5,
            5,
            5,
            5,
            5,
            5,
            5
           ]
          },
          {
           "hoverinfo": "none",
           "mode": "text",
           "showlegend": false,
           "text": [
            "10",
            "20",
            "30",
            "40",
            "50",
            "40",
            "30",
            "20",
            "10"
           ],
           "textfont": {
            "color": "#ffffff",
            "family": "Courier New, monospace",
            "size": 30
           },
           "type": "scatter",
           "x": [
            20,
            30,
            40,
            50,
            60,
            70,
            80,
            90,
            100
           ],
           "y": [
            48.5,
            48.5,
            48.5,
            48.5,
            48.5,
            48.5,
            48.5,
            48.5,
            48.5
           ]
          },
          {
           "hoverinfo": "none",
           "line": {
            "color": "blue",
            "dash": "dash"
           },
           "showlegend": false,
           "type": "scatter",
           "x": [
            87,
            87
           ],
           "y": [
            0,
            53.5
           ]
          },
          {
           "hoverinfo": "none",
           "line": {
            "color": "yellow",
            "dash": "dash"
           },
           "showlegend": false,
           "type": "scatter",
           "x": [
            92,
            92
           ],
           "y": [
            0,
            53.5
           ]
          },
          {
           "hoverinfo": "text",
           "hovertext": [
            "nflId:29851.0<br>displayName:Aaron Rodgers<br>Position:QB<br>Role:Pass",
            "nflId:41282.0<br>displayName:Davante Adams<br>Position:RWR<br>Role:Pass Route",
            "nflId:41296.0<br>displayName:Billy Turner<br>Position:RT<br>Role:Pass Block",
            "nflId:45635.0<br>displayName:Robert Tonyan<br>Position:SLiWR<br>Role:Pass Route",
            "nflId:46243.0<br>displayName:Marquez Valdes-Scantling<br>Position:LWR<br>Role:Pass Route",
            "nflId:46705.0<br>displayName:Allen Lazard<br>Position:SLoWR<br>Role:Pass Route",
            "nflId:47827.0<br>displayName:Elgton Jenkins<br>Position:LT<br>Role:Pass Block",
            "nflId:52470.0<br>displayName:A.J. Dillon<br>Position:HB-R<br>Role:Pass Block",
            "nflId:52600.0<br>displayName:Jon Runyan<br>Position:LG<br>Role:Pass Block",
            "nflId:53491.0<br>displayName:Josh Myers<br>Position:C<br>Role:Pass Block",
            "nflId:53571.0<br>displayName:Royce Newman<br>Position:RG<br>Role:Pass Block"
           ],
           "marker": {
            "color": "#203731"
           },
           "mode": "markers",
           "name": "GB",
           "type": "scatter",
           "x": [
            95.68,
            76.85,
            95.42,
            77.53,
            77.95,
            83.03,
            93.4,
            92.07,
            90.85,
            91.6,
            93.8
           ],
           "y": [
            28.46,
            37.12,
            32.38,
            19.35,
            17.94,
            29.36,
            25.81,
            32.02,
            30.28,
            30.99,
            31.64
           ]
          },
          {
           "hoverinfo": "text",
           "hovertext": [
            "nflId:40000.0<br>displayName:Jamie Collins<br>Position:RILB<br>Role:Coverage",
            "nflId:40171.0<br>displayName:Nicholas Williams<br>Position:LE<br>Role:Pass Rush",
            "nflId:42444.0<br>displayName:Trey Flowers<br>Position:DRT<br>Role:Pass Rush",
            "nflId:43775.0<br>displayName:Romeo Okwara<br>Position:LEO<br>Role:Pass Rush",
            "nflId:44834.0<br>displayName:Charles Harris<br>Position:ROLB<br>Role:Coverage",
            "nflId:44888.0<br>displayName:Alex Anzalone<br>Position:LILB<br>Role:Pass Rush",
            "nflId:46151.0<br>displayName:Tracy Walker<br>Position:FS<br>Role:Coverage",
            "nflId:47864.0<br>displayName:Will Harris<br>Position:FSR<br>Role:Coverage",
            "nflId:47929.0<br>displayName:Amani Oruwariye<br>Position:RCB<br>Role:Coverage",
            "nflId:53530.0<br>displayName:Ifeatu Melifonwu<br>Position:LCB<br>Role:Coverage",
            "nflId:53957.0<br>displayName:A.J. Parker<br>Position:SCBoR<br>Role:Coverage"
           ],
           "marker": {
            "color": "#0076B6"
           },
           "mode": "markers",
           "name": "DET",
           "type": "scatter",
           "x": [
            81.19,
            93.04,
            93.43,
            95.37,
            82.47,
            90.61,
            78.95,
            67.45,
            78.06,
            77.03,
            78.56
           ],
           "y": [
            30.37,
            31.92,
            25.23,
            33.16,
            25.32,
            31.96,
            33.89,
            21.87,
            17.03,
            38.31,
            19.36
           ]
          },
          {
           "hoverinfo": "none",
           "marker": {
            "color": "#CBB67C"
           },
           "mode": "markers",
           "name": "football",
           "type": "scatter",
           "x": [
            95.58
           ],
           "y": [
            29.04
           ]
          }
         ],
         "name": "33"
        },
        {
         "data": [
          {
           "hoverinfo": "none",
           "mode": "text",
           "showlegend": false,
           "text": [
            "10",
            "20",
            "30",
            "40",
            "50",
            "40",
            "30",
            "20",
            "10"
           ],
           "textfont": {
            "color": "#ffffff",
            "family": "Courier New, monospace",
            "size": 30
           },
           "type": "scatter",
           "x": [
            20,
            30,
            40,
            50,
            60,
            70,
            80,
            90,
            100
           ],
           "y": [
            5,
            5,
            5,
            5,
            5,
            5,
            5,
            5,
            5
           ]
          },
          {
           "hoverinfo": "none",
           "mode": "text",
           "showlegend": false,
           "text": [
            "10",
            "20",
            "30",
            "40",
            "50",
            "40",
            "30",
            "20",
            "10"
           ],
           "textfont": {
            "color": "#ffffff",
            "family": "Courier New, monospace",
            "size": 30
           },
           "type": "scatter",
           "x": [
            20,
            30,
            40,
            50,
            60,
            70,
            80,
            90,
            100
           ],
           "y": [
            48.5,
            48.5,
            48.5,
            48.5,
            48.5,
            48.5,
            48.5,
            48.5,
            48.5
           ]
          },
          {
           "hoverinfo": "none",
           "line": {
            "color": "blue",
            "dash": "dash"
           },
           "showlegend": false,
           "type": "scatter",
           "x": [
            87,
            87
           ],
           "y": [
            0,
            53.5
           ]
          },
          {
           "hoverinfo": "none",
           "line": {
            "color": "yellow",
            "dash": "dash"
           },
           "showlegend": false,
           "type": "scatter",
           "x": [
            92,
            92
           ],
           "y": [
            0,
            53.5
           ]
          },
          {
           "hoverinfo": "text",
           "hovertext": [
            "nflId:29851.0<br>displayName:Aaron Rodgers<br>Position:QB<br>Role:Pass",
            "nflId:41282.0<br>displayName:Davante Adams<br>Position:RWR<br>Role:Pass Route",
            "nflId:41296.0<br>displayName:Billy Turner<br>Position:RT<br>Role:Pass Block",
            "nflId:45635.0<br>displayName:Robert Tonyan<br>Position:SLiWR<br>Role:Pass Route",
            "nflId:46243.0<br>displayName:Marquez Valdes-Scantling<br>Position:LWR<br>Role:Pass Route",
            "nflId:46705.0<br>displayName:Allen Lazard<br>Position:SLoWR<br>Role:Pass Route",
            "nflId:47827.0<br>displayName:Elgton Jenkins<br>Position:LT<br>Role:Pass Block",
            "nflId:52470.0<br>displayName:A.J. Dillon<br>Position:HB-R<br>Role:Pass Block",
            "nflId:52600.0<br>displayName:Jon Runyan<br>Position:LG<br>Role:Pass Block",
            "nflId:53491.0<br>displayName:Josh Myers<br>Position:C<br>Role:Pass Block",
            "nflId:53571.0<br>displayName:Royce Newman<br>Position:RG<br>Role:Pass Block"
           ],
           "marker": {
            "color": "#203731"
           },
           "mode": "markers",
           "name": "GB",
           "type": "scatter",
           "x": [
            95.65,
            76.29,
            95.57,
            77.17,
            77.26,
            82.97,
            93.62,
            92.05,
            90.89,
            91.64,
            93.82
           ],
           "y": [
            28.4,
            36.87,
            32.34,
            19.03,
            17.93,
            30.15,
            25.93,
            32.12,
            30.71,
            30.97,
            31.66
           ]
          },
          {
           "hoverinfo": "text",
           "hovertext": [
            "nflId:40000.0<br>displayName:Jamie Collins<br>Position:RILB<br>Role:Coverage",
            "nflId:40171.0<br>displayName:Nicholas Williams<br>Position:LE<br>Role:Pass Rush",
            "nflId:42444.0<br>displayName:Trey Flowers<br>Position:DRT<br>Role:Pass Rush",
            "nflId:43775.0<br>displayName:Romeo Okwara<br>Position:LEO<br>Role:Pass Rush",
            "nflId:44834.0<br>displayName:Charles Harris<br>Position:ROLB<br>Role:Coverage",
            "nflId:44888.0<br>displayName:Alex Anzalone<br>Position:LILB<br>Role:Pass Rush",
            "nflId:46151.0<br>displayName:Tracy Walker<br>Position:FS<br>Role:Coverage",
            "nflId:47864.0<br>displayName:Will Harris<br>Position:FSR<br>Role:Coverage",
            "nflId:47929.0<br>displayName:Amani Oruwariye<br>Position:RCB<br>Role:Coverage",
            "nflId:53530.0<br>displayName:Ifeatu Melifonwu<br>Position:LCB<br>Role:Coverage",
            "nflId:53957.0<br>displayName:A.J. Parker<br>Position:SCBoR<br>Role:Coverage"
           ],
           "marker": {
            "color": "#0076B6"
           },
           "mode": "markers",
           "name": "DET",
           "type": "scatter",
           "x": [
            81.23,
            93.03,
            93.72,
            95.61,
            82.43,
            90.55,
            79.11,
            66.95,
            77.45,
            76.4,
            78.54
           ],
           "y": [
            30.96,
            31.78,
            25.44,
            33.05,
            25.4,
            32.02,
            34.07,
            21.98,
            17.02,
            38.26,
            19.22
           ]
          },
          {
           "hoverinfo": "none",
           "marker": {
            "color": "#CBB67C"
           },
           "mode": "markers",
           "name": "football",
           "type": "scatter",
           "x": [
            95.6
           ],
           "y": [
            28.97
           ]
          }
         ],
         "name": "34"
        },
        {
         "data": [
          {
           "hoverinfo": "none",
           "mode": "text",
           "showlegend": false,
           "text": [
            "10",
            "20",
            "30",
            "40",
            "50",
            "40",
            "30",
            "20",
            "10"
           ],
           "textfont": {
            "color": "#ffffff",
            "family": "Courier New, monospace",
            "size": 30
           },
           "type": "scatter",
           "x": [
            20,
            30,
            40,
            50,
            60,
            70,
            80,
            90,
            100
           ],
           "y": [
            5,
            5,
            5,
            5,
            5,
            5,
            5,
            5,
            5
           ]
          },
          {
           "hoverinfo": "none",
           "mode": "text",
           "showlegend": false,
           "text": [
            "10",
            "20",
            "30",
            "40",
            "50",
            "40",
            "30",
            "20",
            "10"
           ],
           "textfont": {
            "color": "#ffffff",
            "family": "Courier New, monospace",
            "size": 30
           },
           "type": "scatter",
           "x": [
            20,
            30,
            40,
            50,
            60,
            70,
            80,
            90,
            100
           ],
           "y": [
            48.5,
            48.5,
            48.5,
            48.5,
            48.5,
            48.5,
            48.5,
            48.5,
            48.5
           ]
          },
          {
           "hoverinfo": "none",
           "line": {
            "color": "blue",
            "dash": "dash"
           },
           "showlegend": false,
           "type": "scatter",
           "x": [
            87,
            87
           ],
           "y": [
            0,
            53.5
           ]
          },
          {
           "hoverinfo": "none",
           "line": {
            "color": "yellow",
            "dash": "dash"
           },
           "showlegend": false,
           "type": "scatter",
           "x": [
            92,
            92
           ],
           "y": [
            0,
            53.5
           ]
          },
          {
           "hoverinfo": "text",
           "hovertext": [
            "nflId:29851.0<br>displayName:Aaron Rodgers<br>Position:QB<br>Role:Pass",
            "nflId:41282.0<br>displayName:Davante Adams<br>Position:RWR<br>Role:Pass Route",
            "nflId:41296.0<br>displayName:Billy Turner<br>Position:RT<br>Role:Pass Block",
            "nflId:45635.0<br>displayName:Robert Tonyan<br>Position:SLiWR<br>Role:Pass Route",
            "nflId:46243.0<br>displayName:Marquez Valdes-Scantling<br>Position:LWR<br>Role:Pass Route",
            "nflId:46705.0<br>displayName:Allen Lazard<br>Position:SLoWR<br>Role:Pass Route",
            "nflId:47827.0<br>displayName:Elgton Jenkins<br>Position:LT<br>Role:Pass Block",
            "nflId:52470.0<br>displayName:A.J. Dillon<br>Position:HB-R<br>Role:Pass Block",
            "nflId:52600.0<br>displayName:Jon Runyan<br>Position:LG<br>Role:Pass Block",
            "nflId:53491.0<br>displayName:Josh Myers<br>Position:C<br>Role:Pass Block",
            "nflId:53571.0<br>displayName:Royce Newman<br>Position:RG<br>Role:Pass Block"
           ],
           "marker": {
            "color": "#203731"
           },
           "mode": "markers",
           "name": "GB",
           "type": "scatter",
           "x": [
            95.61,
            75.78,
            95.71,
            76.84,
            76.56,
            82.93,
            93.82,
            92.01,
            90.93,
            91.65,
            93.79
           ],
           "y": [
            28.34,
            36.57,
            32.32,
            18.69,
            17.93,
            30.96,
            26.07,
            32.24,
            31.12,
            30.95,
            31.67
           ]
          },
          {
           "hoverinfo": "text",
           "hovertext": [
            "nflId:40000.0<br>displayName:Jamie Collins<br>Position:RILB<br>Role:Coverage",
            "nflId:40171.0<br>displayName:Nicholas Williams<br>Position:LE<br>Role:Pass Rush",
            "nflId:42444.0<br>displayName:Trey Flowers<br>Position:DRT<br>Role:Pass Rush",
            "nflId:43775.0<br>displayName:Romeo Okwara<br>Position:LEO<br>Role:Pass Rush",
            "nflId:44834.0<br>displayName:Charles Harris<br>Position:ROLB<br>Role:Coverage",
            "nflId:44888.0<br>displayName:Alex Anzalone<br>Position:LILB<br>Role:Pass Rush",
            "nflId:46151.0<br>displayName:Tracy Walker<br>Position:FS<br>Role:Coverage",
            "nflId:47864.0<br>displayName:Will Harris<br>Position:FSR<br>Role:Coverage",
            "nflId:47929.0<br>displayName:Amani Oruwariye<br>Position:RCB<br>Role:Coverage",
            "nflId:53530.0<br>displayName:Ifeatu Melifonwu<br>Position:LCB<br>Role:Coverage",
            "nflId:53957.0<br>displayName:A.J. Parker<br>Position:SCBoR<br>Role:Coverage"
           ],
           "marker": {
            "color": "#0076B6"
           },
           "mode": "markers",
           "name": "DET",
           "type": "scatter",
           "x": [
            81.3,
            93,
            93.96,
            95.85,
            82.41,
            90.45,
            79.27,
            66.44,
            76.81,
            75.78,
            78.53
           ],
           "y": [
            31.57,
            31.61,
            25.67,
            32.96,
            25.44,
            32.1,
            34.3,
            22.1,
            16.97,
            38.21,
            19.06
           ]
          },
          {
           "hoverinfo": "none",
           "marker": {
            "color": "#CBB67C"
           },
           "mode": "markers",
           "name": "football",
           "type": "scatter",
           "x": [
            95.59
           ],
           "y": [
            28.95
           ]
          }
         ],
         "name": "35"
        },
        {
         "data": [
          {
           "hoverinfo": "none",
           "mode": "text",
           "showlegend": false,
           "text": [
            "10",
            "20",
            "30",
            "40",
            "50",
            "40",
            "30",
            "20",
            "10"
           ],
           "textfont": {
            "color": "#ffffff",
            "family": "Courier New, monospace",
            "size": 30
           },
           "type": "scatter",
           "x": [
            20,
            30,
            40,
            50,
            60,
            70,
            80,
            90,
            100
           ],
           "y": [
            5,
            5,
            5,
            5,
            5,
            5,
            5,
            5,
            5
           ]
          },
          {
           "hoverinfo": "none",
           "mode": "text",
           "showlegend": false,
           "text": [
            "10",
            "20",
            "30",
            "40",
            "50",
            "40",
            "30",
            "20",
            "10"
           ],
           "textfont": {
            "color": "#ffffff",
            "family": "Courier New, monospace",
            "size": 30
           },
           "type": "scatter",
           "x": [
            20,
            30,
            40,
            50,
            60,
            70,
            80,
            90,
            100
           ],
           "y": [
            48.5,
            48.5,
            48.5,
            48.5,
            48.5,
            48.5,
            48.5,
            48.5,
            48.5
           ]
          },
          {
           "hoverinfo": "none",
           "line": {
            "color": "blue",
            "dash": "dash"
           },
           "showlegend": false,
           "type": "scatter",
           "x": [
            87,
            87
           ],
           "y": [
            0,
            53.5
           ]
          },
          {
           "hoverinfo": "none",
           "line": {
            "color": "yellow",
            "dash": "dash"
           },
           "showlegend": false,
           "type": "scatter",
           "x": [
            92,
            92
           ],
           "y": [
            0,
            53.5
           ]
          },
          {
           "hoverinfo": "text",
           "hovertext": [
            "nflId:29851.0<br>displayName:Aaron Rodgers<br>Position:QB<br>Role:Pass",
            "nflId:41282.0<br>displayName:Davante Adams<br>Position:RWR<br>Role:Pass Route",
            "nflId:41296.0<br>displayName:Billy Turner<br>Position:RT<br>Role:Pass Block",
            "nflId:45635.0<br>displayName:Robert Tonyan<br>Position:SLiWR<br>Role:Pass Route",
            "nflId:46243.0<br>displayName:Marquez Valdes-Scantling<br>Position:LWR<br>Role:Pass Route",
            "nflId:46705.0<br>displayName:Allen Lazard<br>Position:SLoWR<br>Role:Pass Route",
            "nflId:47827.0<br>displayName:Elgton Jenkins<br>Position:LT<br>Role:Pass Block",
            "nflId:52470.0<br>displayName:A.J. Dillon<br>Position:HB-R<br>Role:Pass Block",
            "nflId:52600.0<br>displayName:Jon Runyan<br>Position:LG<br>Role:Pass Block",
            "nflId:53491.0<br>displayName:Josh Myers<br>Position:C<br>Role:Pass Block",
            "nflId:53571.0<br>displayName:Royce Newman<br>Position:RG<br>Role:Pass Block"
           ],
           "marker": {
            "color": "#203731"
           },
           "mode": "markers",
           "name": "GB",
           "type": "scatter",
           "x": [
            95.58,
            75.31,
            95.84,
            76.55,
            75.83,
            82.9,
            94.02,
            91.98,
            90.96,
            91.65,
            93.71
           ],
           "y": [
            28.29,
            36.23,
            32.32,
            18.33,
            17.92,
            31.78,
            26.24,
            32.37,
            31.51,
            30.92,
            31.67
           ]
          },
          {
           "hoverinfo": "text",
           "hovertext": [
            "nflId:40000.0<br>displayName:Jamie Collins<br>Position:RILB<br>Role:Coverage",
            "nflId:40171.0<br>displayName:Nicholas Williams<br>Position:LE<br>Role:Pass Rush",
            "nflId:42444.0<br>displayName:Trey Flowers<br>Position:DRT<br>Role:Pass Rush",
            "nflId:43775.0<br>displayName:Romeo Okwara<br>Position:LEO<br>Role:Pass Rush",
            "nflId:44834.0<br>displayName:Charles Harris<br>Position:ROLB<br>Role:Coverage",
            "nflId:44888.0<br>displayName:Alex Anzalone<br>Position:LILB<br>Role:Pass Rush",
            "nflId:46151.0<br>displayName:Tracy Walker<br>Position:FS<br>Role:Coverage",
            "nflId:47864.0<br>displayName:Will Harris<br>Position:FSR<br>Role:Coverage",
            "nflId:47929.0<br>displayName:Amani Oruwariye<br>Position:RCB<br>Role:Coverage",
            "nflId:53530.0<br>displayName:Ifeatu Melifonwu<br>Position:LCB<br>Role:Coverage",
            "nflId:53957.0<br>displayName:A.J. Parker<br>Position:SCBoR<br>Role:Coverage"
           ],
           "marker": {
            "color": "#0076B6"
           },
           "mode": "markers",
           "name": "DET",
           "type": "scatter",
           "x": [
            81.4,
            92.96,
            94.16,
            96.09,
            82.4,
            90.34,
            79.45,
            65.92,
            76.16,
            75.2,
            78.52
           ],
           "y": [
            32.2,
            31.43,
            25.89,
            32.89,
            25.45,
            32.19,
            34.56,
            22.22,
            16.92,
            38.16,
            18.86
           ]
          },
          {
           "hoverinfo": "none",
           "marker": {
            "color": "#CBB67C"
           },
           "mode": "markers",
           "name": "football",
           "type": "scatter",
           "x": [
            95.58
           ],
           "y": [
            28.96
           ]
          }
         ],
         "name": "36"
        },
        {
         "data": [
          {
           "hoverinfo": "none",
           "mode": "text",
           "showlegend": false,
           "text": [
            "10",
            "20",
            "30",
            "40",
            "50",
            "40",
            "30",
            "20",
            "10"
           ],
           "textfont": {
            "color": "#ffffff",
            "family": "Courier New, monospace",
            "size": 30
           },
           "type": "scatter",
           "x": [
            20,
            30,
            40,
            50,
            60,
            70,
            80,
            90,
            100
           ],
           "y": [
            5,
            5,
            5,
            5,
            5,
            5,
            5,
            5,
            5
           ]
          },
          {
           "hoverinfo": "none",
           "mode": "text",
           "showlegend": false,
           "text": [
            "10",
            "20",
            "30",
            "40",
            "50",
            "40",
            "30",
            "20",
            "10"
           ],
           "textfont": {
            "color": "#ffffff",
            "family": "Courier New, monospace",
            "size": 30
           },
           "type": "scatter",
           "x": [
            20,
            30,
            40,
            50,
            60,
            70,
            80,
            90,
            100
           ],
           "y": [
            48.5,
            48.5,
            48.5,
            48.5,
            48.5,
            48.5,
            48.5,
            48.5,
            48.5
           ]
          },
          {
           "hoverinfo": "none",
           "line": {
            "color": "blue",
            "dash": "dash"
           },
           "showlegend": false,
           "type": "scatter",
           "x": [
            87,
            87
           ],
           "y": [
            0,
            53.5
           ]
          },
          {
           "hoverinfo": "none",
           "line": {
            "color": "yellow",
            "dash": "dash"
           },
           "showlegend": false,
           "type": "scatter",
           "x": [
            92,
            92
           ],
           "y": [
            0,
            53.5
           ]
          },
          {
           "hoverinfo": "text",
           "hovertext": [
            "nflId:29851.0<br>displayName:Aaron Rodgers<br>Position:QB<br>Role:Pass",
            "nflId:41282.0<br>displayName:Davante Adams<br>Position:RWR<br>Role:Pass Route",
            "nflId:41296.0<br>displayName:Billy Turner<br>Position:RT<br>Role:Pass Block",
            "nflId:45635.0<br>displayName:Robert Tonyan<br>Position:SLiWR<br>Role:Pass Route",
            "nflId:46243.0<br>displayName:Marquez Valdes-Scantling<br>Position:LWR<br>Role:Pass Route",
            "nflId:46705.0<br>displayName:Allen Lazard<br>Position:SLoWR<br>Role:Pass Route",
            "nflId:47827.0<br>displayName:Elgton Jenkins<br>Position:LT<br>Role:Pass Block",
            "nflId:52470.0<br>displayName:A.J. Dillon<br>Position:HB-R<br>Role:Pass Block",
            "nflId:52600.0<br>displayName:Jon Runyan<br>Position:LG<br>Role:Pass Block",
            "nflId:53491.0<br>displayName:Josh Myers<br>Position:C<br>Role:Pass Block",
            "nflId:53571.0<br>displayName:Royce Newman<br>Position:RG<br>Role:Pass Block"
           ],
           "marker": {
            "color": "#203731"
           },
           "mode": "markers",
           "name": "GB",
           "type": "scatter",
           "x": [
            95.57,
            74.9,
            95.98,
            76.28,
            75.1,
            82.9,
            94.21,
            91.96,
            91,
            91.65,
            93.61
           ],
           "y": [
            28.26,
            35.84,
            32.34,
            17.95,
            17.91,
            32.62,
            26.41,
            32.52,
            31.86,
            30.9,
            31.67
           ]
          },
          {
           "hoverinfo": "text",
           "hovertext": [
            "nflId:40000.0<br>displayName:Jamie Collins<br>Position:RILB<br>Role:Coverage",
            "nflId:40171.0<br>displayName:Nicholas Williams<br>Position:LE<br>Role:Pass Rush",
            "nflId:42444.0<br>displayName:Trey Flowers<br>Position:DRT<br>Role:Pass Rush",
            "nflId:43775.0<br>displayName:Romeo Okwara<br>Position:LEO<br>Role:Pass Rush",
            "nflId:44834.0<br>displayName:Charles Harris<br>Position:ROLB<br>Role:Coverage",
            "nflId:44888.0<br>displayName:Alex Anzalone<br>Position:LILB<br>Role:Pass Rush",
            "nflId:46151.0<br>displayName:Tracy Walker<br>Position:FS<br>Role:Coverage",
            "nflId:47864.0<br>displayName:Will Harris<br>Position:FSR<br>Role:Coverage",
            "nflId:47929.0<br>displayName:Amani Oruwariye<br>Position:RCB<br>Role:Coverage",
            "nflId:53530.0<br>displayName:Ifeatu Melifonwu<br>Position:LCB<br>Role:Coverage",
            "nflId:53957.0<br>displayName:A.J. Parker<br>Position:SCBoR<br>Role:Coverage"
           ],
           "marker": {
            "color": "#0076B6"
           },
           "mode": "markers",
           "name": "DET",
           "type": "scatter",
           "x": [
            81.53,
            92.92,
            94.34,
            96.35,
            82.4,
            90.19,
            79.64,
            65.4,
            75.5,
            74.65,
            78.51
           ],
           "y": [
            32.86,
            31.24,
            26.1,
            32.82,
            25.42,
            32.27,
            34.86,
            22.33,
            16.84,
            38.07,
            18.62
           ]
          },
          {
           "hoverinfo": "none",
           "marker": {
            "color": "#CBB67C"
           },
           "mode": "markers",
           "name": "football",
           "type": "scatter",
           "x": [
            95.59
           ],
           "y": [
            28.94
           ]
          }
         ],
         "name": "37"
        },
        {
         "data": [
          {
           "hoverinfo": "none",
           "mode": "text",
           "showlegend": false,
           "text": [
            "10",
            "20",
            "30",
            "40",
            "50",
            "40",
            "30",
            "20",
            "10"
           ],
           "textfont": {
            "color": "#ffffff",
            "family": "Courier New, monospace",
            "size": 30
           },
           "type": "scatter",
           "x": [
            20,
            30,
            40,
            50,
            60,
            70,
            80,
            90,
            100
           ],
           "y": [
            5,
            5,
            5,
            5,
            5,
            5,
            5,
            5,
            5
           ]
          },
          {
           "hoverinfo": "none",
           "mode": "text",
           "showlegend": false,
           "text": [
            "10",
            "20",
            "30",
            "40",
            "50",
            "40",
            "30",
            "20",
            "10"
           ],
           "textfont": {
            "color": "#ffffff",
            "family": "Courier New, monospace",
            "size": 30
           },
           "type": "scatter",
           "x": [
            20,
            30,
            40,
            50,
            60,
            70,
            80,
            90,
            100
           ],
           "y": [
            48.5,
            48.5,
            48.5,
            48.5,
            48.5,
            48.5,
            48.5,
            48.5,
            48.5
           ]
          },
          {
           "hoverinfo": "none",
           "line": {
            "color": "blue",
            "dash": "dash"
           },
           "showlegend": false,
           "type": "scatter",
           "x": [
            87,
            87
           ],
           "y": [
            0,
            53.5
           ]
          },
          {
           "hoverinfo": "none",
           "line": {
            "color": "yellow",
            "dash": "dash"
           },
           "showlegend": false,
           "type": "scatter",
           "x": [
            92,
            92
           ],
           "y": [
            0,
            53.5
           ]
          },
          {
           "hoverinfo": "text",
           "hovertext": [
            "nflId:29851.0<br>displayName:Aaron Rodgers<br>Position:QB<br>Role:Pass",
            "nflId:41282.0<br>displayName:Davante Adams<br>Position:RWR<br>Role:Pass Route",
            "nflId:41296.0<br>displayName:Billy Turner<br>Position:RT<br>Role:Pass Block",
            "nflId:45635.0<br>displayName:Robert Tonyan<br>Position:SLiWR<br>Role:Pass Route",
            "nflId:46243.0<br>displayName:Marquez Valdes-Scantling<br>Position:LWR<br>Role:Pass Route",
            "nflId:46705.0<br>displayName:Allen Lazard<br>Position:SLoWR<br>Role:Pass Route",
            "nflId:47827.0<br>displayName:Elgton Jenkins<br>Position:LT<br>Role:Pass Block",
            "nflId:52470.0<br>displayName:A.J. Dillon<br>Position:HB-R<br>Role:Pass Block",
            "nflId:52600.0<br>displayName:Jon Runyan<br>Position:LG<br>Role:Pass Block",
            "nflId:53491.0<br>displayName:Josh Myers<br>Position:C<br>Role:Pass Block",
            "nflId:53571.0<br>displayName:Royce Newman<br>Position:RG<br>Role:Pass Block"
           ],
           "marker": {
            "color": "#203731"
           },
           "mode": "markers",
           "name": "GB",
           "type": "scatter",
           "x": [
            95.57,
            74.53,
            96.13,
            76.01,
            74.35,
            82.92,
            94.4,
            91.94,
            91.02,
            91.63,
            93.48
           ],
           "y": [
            28.25,
            35.4,
            32.36,
            17.54,
            17.91,
            33.48,
            26.61,
            32.69,
            32.19,
            30.88,
            31.65
           ]
          },
          {
           "hoverinfo": "text",
           "hovertext": [
            "nflId:40000.0<br>displayName:Jamie Collins<br>Position:RILB<br>Role:Coverage",
            "nflId:40171.0<br>displayName:Nicholas Williams<br>Position:LE<br>Role:Pass Rush",
            "nflId:42444.0<br>displayName:Trey Flowers<br>Position:DRT<br>Role:Pass Rush",
            "nflId:43775.0<br>displayName:Romeo Okwara<br>Position:LEO<br>Role:Pass Rush",
            "nflId:44834.0<br>displayName:Charles Harris<br>Position:ROLB<br>Role:Coverage",
            "nflId:44888.0<br>displayName:Alex Anzalone<br>Position:LILB<br>Role:Pass Rush",
            "nflId:46151.0<br>displayName:Tracy Walker<br>Position:FS<br>Role:Coverage",
            "nflId:47864.0<br>displayName:Will Harris<br>Position:FSR<br>Role:Coverage",
            "nflId:47929.0<br>displayName:Amani Oruwariye<br>Position:RCB<br>Role:Coverage",
            "nflId:53530.0<br>displayName:Ifeatu Melifonwu<br>Position:LCB<br>Role:Coverage",
            "nflId:53957.0<br>displayName:A.J. Parker<br>Position:SCBoR<br>Role:Coverage"
           ],
           "marker": {
            "color": "#0076B6"
           },
           "mode": "markers",
           "name": "DET",
           "type": "scatter",
           "x": [
            81.66,
            92.89,
            94.49,
            96.62,
            82.41,
            90.03,
            79.82,
            64.86,
            74.83,
            74.14,
            78.5
           ],
           "y": [
            33.52,
            31.04,
            26.31,
            32.74,
            25.37,
            32.34,
            35.19,
            22.44,
            16.73,
            37.95,
            18.36
           ]
          },
          {
           "hoverinfo": "none",
           "marker": {
            "color": "#CBB67C"
           },
           "mode": "markers",
           "name": "football",
           "type": "scatter",
           "x": [
            95.59
           ],
           "y": [
            28.93
           ]
          }
         ],
         "name": "38"
        },
        {
         "data": [
          {
           "hoverinfo": "none",
           "mode": "text",
           "showlegend": false,
           "text": [
            "10",
            "20",
            "30",
            "40",
            "50",
            "40",
            "30",
            "20",
            "10"
           ],
           "textfont": {
            "color": "#ffffff",
            "family": "Courier New, monospace",
            "size": 30
           },
           "type": "scatter",
           "x": [
            20,
            30,
            40,
            50,
            60,
            70,
            80,
            90,
            100
           ],
           "y": [
            5,
            5,
            5,
            5,
            5,
            5,
            5,
            5,
            5
           ]
          },
          {
           "hoverinfo": "none",
           "mode": "text",
           "showlegend": false,
           "text": [
            "10",
            "20",
            "30",
            "40",
            "50",
            "40",
            "30",
            "20",
            "10"
           ],
           "textfont": {
            "color": "#ffffff",
            "family": "Courier New, monospace",
            "size": 30
           },
           "type": "scatter",
           "x": [
            20,
            30,
            40,
            50,
            60,
            70,
            80,
            90,
            100
           ],
           "y": [
            48.5,
            48.5,
            48.5,
            48.5,
            48.5,
            48.5,
            48.5,
            48.5,
            48.5
           ]
          },
          {
           "hoverinfo": "none",
           "line": {
            "color": "blue",
            "dash": "dash"
           },
           "showlegend": false,
           "type": "scatter",
           "x": [
            87,
            87
           ],
           "y": [
            0,
            53.5
           ]
          },
          {
           "hoverinfo": "none",
           "line": {
            "color": "yellow",
            "dash": "dash"
           },
           "showlegend": false,
           "type": "scatter",
           "x": [
            92,
            92
           ],
           "y": [
            0,
            53.5
           ]
          },
          {
           "hoverinfo": "text",
           "hovertext": [
            "nflId:29851.0<br>displayName:Aaron Rodgers<br>Position:QB<br>Role:Pass",
            "nflId:41282.0<br>displayName:Davante Adams<br>Position:RWR<br>Role:Pass Route",
            "nflId:41296.0<br>displayName:Billy Turner<br>Position:RT<br>Role:Pass Block",
            "nflId:45635.0<br>displayName:Robert Tonyan<br>Position:SLiWR<br>Role:Pass Route",
            "nflId:46243.0<br>displayName:Marquez Valdes-Scantling<br>Position:LWR<br>Role:Pass Route",
            "nflId:46705.0<br>displayName:Allen Lazard<br>Position:SLoWR<br>Role:Pass Route",
            "nflId:47827.0<br>displayName:Elgton Jenkins<br>Position:LT<br>Role:Pass Block",
            "nflId:52470.0<br>displayName:A.J. Dillon<br>Position:HB-R<br>Role:Pass Block",
            "nflId:52600.0<br>displayName:Jon Runyan<br>Position:LG<br>Role:Pass Block",
            "nflId:53491.0<br>displayName:Josh Myers<br>Position:C<br>Role:Pass Block",
            "nflId:53571.0<br>displayName:Royce Newman<br>Position:RG<br>Role:Pass Block"
           ],
           "marker": {
            "color": "#203731"
           },
           "mode": "markers",
           "name": "GB",
           "type": "scatter",
           "x": [
            95.59,
            74.23,
            96.3,
            75.77,
            73.61,
            82.96,
            94.57,
            91.95,
            91.03,
            91.59,
            93.3
           ],
           "y": [
            28.27,
            34.91,
            32.36,
            17.1,
            17.91,
            34.35,
            26.82,
            32.88,
            32.5,
            30.84,
            31.61
           ]
          },
          {
           "hoverinfo": "text",
           "hovertext": [
            "nflId:40000.0<br>displayName:Jamie Collins<br>Position:RILB<br>Role:Coverage",
            "nflId:40171.0<br>displayName:Nicholas Williams<br>Position:LE<br>Role:Pass Rush",
            "nflId:42444.0<br>displayName:Trey Flowers<br>Position:DRT<br>Role:Pass Rush",
            "nflId:43775.0<br>displayName:Romeo Okwara<br>Position:LEO<br>Role:Pass Rush",
            "nflId:44834.0<br>displayName:Charles Harris<br>Position:ROLB<br>Role:Coverage",
            "nflId:44888.0<br>displayName:Alex Anzalone<br>Position:LILB<br>Role:Pass Rush",
            "nflId:46151.0<br>displayName:Tracy Walker<br>Position:FS<br>Role:Coverage",
            "nflId:47864.0<br>displayName:Will Harris<br>Position:FSR<br>Role:Coverage",
            "nflId:47929.0<br>displayName:Amani Oruwariye<br>Position:RCB<br>Role:Coverage",
            "nflId:53530.0<br>displayName:Ifeatu Melifonwu<br>Position:LCB<br>Role:Coverage",
            "nflId:53957.0<br>displayName:A.J. Parker<br>Position:SCBoR<br>Role:Coverage"
           ],
           "marker": {
            "color": "#0076B6"
           },
           "mode": "markers",
           "name": "DET",
           "type": "scatter",
           "x": [
            81.81,
            92.9,
            94.62,
            96.9,
            82.44,
            89.85,
            79.99,
            64.31,
            74.15,
            73.67,
            78.49
           ],
           "y": [
            34.18,
            30.83,
            26.51,
            32.65,
            25.29,
            32.4,
            35.53,
            22.53,
            16.6,
            37.79,
            18.08
           ]
          },
          {
           "hoverinfo": "none",
           "marker": {
            "color": "#CBB67C"
           },
           "mode": "markers",
           "name": "football",
           "type": "scatter",
           "x": [
            95.54
           ],
           "y": [
            28.94
           ]
          }
         ],
         "name": "39"
        },
        {
         "data": [
          {
           "hoverinfo": "none",
           "mode": "text",
           "showlegend": false,
           "text": [
            "10",
            "20",
            "30",
            "40",
            "50",
            "40",
            "30",
            "20",
            "10"
           ],
           "textfont": {
            "color": "#ffffff",
            "family": "Courier New, monospace",
            "size": 30
           },
           "type": "scatter",
           "x": [
            20,
            30,
            40,
            50,
            60,
            70,
            80,
            90,
            100
           ],
           "y": [
            5,
            5,
            5,
            5,
            5,
            5,
            5,
            5,
            5
           ]
          },
          {
           "hoverinfo": "none",
           "mode": "text",
           "showlegend": false,
           "text": [
            "10",
            "20",
            "30",
            "40",
            "50",
            "40",
            "30",
            "20",
            "10"
           ],
           "textfont": {
            "color": "#ffffff",
            "family": "Courier New, monospace",
            "size": 30
           },
           "type": "scatter",
           "x": [
            20,
            30,
            40,
            50,
            60,
            70,
            80,
            90,
            100
           ],
           "y": [
            48.5,
            48.5,
            48.5,
            48.5,
            48.5,
            48.5,
            48.5,
            48.5,
            48.5
           ]
          },
          {
           "hoverinfo": "none",
           "line": {
            "color": "blue",
            "dash": "dash"
           },
           "showlegend": false,
           "type": "scatter",
           "x": [
            87,
            87
           ],
           "y": [
            0,
            53.5
           ]
          },
          {
           "hoverinfo": "none",
           "line": {
            "color": "yellow",
            "dash": "dash"
           },
           "showlegend": false,
           "type": "scatter",
           "x": [
            92,
            92
           ],
           "y": [
            0,
            53.5
           ]
          },
          {
           "hoverinfo": "text",
           "hovertext": [
            "nflId:29851.0<br>displayName:Aaron Rodgers<br>Position:QB<br>Role:Pass",
            "nflId:41282.0<br>displayName:Davante Adams<br>Position:RWR<br>Role:Pass Route",
            "nflId:41296.0<br>displayName:Billy Turner<br>Position:RT<br>Role:Pass Block",
            "nflId:45635.0<br>displayName:Robert Tonyan<br>Position:SLiWR<br>Role:Pass Route",
            "nflId:46243.0<br>displayName:Marquez Valdes-Scantling<br>Position:LWR<br>Role:Pass Route",
            "nflId:46705.0<br>displayName:Allen Lazard<br>Position:SLoWR<br>Role:Pass Route",
            "nflId:47827.0<br>displayName:Elgton Jenkins<br>Position:LT<br>Role:Pass Block",
            "nflId:52470.0<br>displayName:A.J. Dillon<br>Position:HB-R<br>Role:Pass Block",
            "nflId:52600.0<br>displayName:Jon Runyan<br>Position:LG<br>Role:Pass Block",
            "nflId:53491.0<br>displayName:Josh Myers<br>Position:C<br>Role:Pass Block",
            "nflId:53571.0<br>displayName:Royce Newman<br>Position:RG<br>Role:Pass Block"
           ],
           "marker": {
            "color": "#203731"
           },
           "mode": "markers",
           "name": "GB",
           "type": "scatter",
           "x": [
            95.63,
            73.98,
            96.49,
            75.55,
            72.86,
            83.01,
            94.73,
            91.98,
            91.05,
            91.54,
            93.12
           ],
           "y": [
            28.31,
            34.38,
            32.36,
            16.64,
            17.93,
            35.22,
            27.05,
            33.08,
            32.76,
            30.82,
            31.56
           ]
          },
          {
           "hoverinfo": "text",
           "hovertext": [
            "nflId:40000.0<br>displayName:Jamie Collins<br>Position:RILB<br>Role:Coverage",
            "nflId:40171.0<br>displayName:Nicholas Williams<br>Position:LE<br>Role:Pass Rush",
            "nflId:42444.0<br>displayName:Trey Flowers<br>Position:DRT<br>Role:Pass Rush",
            "nflId:43775.0<br>displayName:Romeo Okwara<br>Position:LEO<br>Role:Pass Rush",
            "nflId:44834.0<br>displayName:Charles Harris<br>Position:ROLB<br>Role:Coverage",
            "nflId:44888.0<br>displayName:Alex Anzalone<br>Position:LILB<br>Role:Pass Rush",
            "nflId:46151.0<br>displayName:Tracy Walker<br>Position:FS<br>Role:Coverage",
            "nflId:47864.0<br>displayName:Will Harris<br>Position:FSR<br>Role:Coverage",
            "nflId:47929.0<br>displayName:Amani Oruwariye<br>Position:RCB<br>Role:Coverage",
            "nflId:53530.0<br>displayName:Ifeatu Melifonwu<br>Position:LCB<br>Role:Coverage",
            "nflId:53957.0<br>displayName:A.J. Parker<br>Position:SCBoR<br>Role:Coverage"
           ],
           "marker": {
            "color": "#0076B6"
           },
           "mode": "markers",
           "name": "DET",
           "type": "scatter",
           "x": [
            81.96,
            92.92,
            94.72,
            97.17,
            82.47,
            89.66,
            80.15,
            63.74,
            73.46,
            73.26,
            78.46
           ],
           "y": [
            34.83,
            30.62,
            26.7,
            32.54,
            25.19,
            32.44,
            35.87,
            22.61,
            16.45,
            37.59,
            17.78
           ]
          },
          {
           "hoverinfo": "none",
           "marker": {
            "color": "#CBB67C"
           },
           "mode": "markers",
           "name": "football",
           "type": "scatter",
           "x": [
            95.53
           ],
           "y": [
            28.97
           ]
          }
         ],
         "name": "40"
        },
        {
         "data": [
          {
           "hoverinfo": "none",
           "mode": "text",
           "showlegend": false,
           "text": [
            "10",
            "20",
            "30",
            "40",
            "50",
            "40",
            "30",
            "20",
            "10"
           ],
           "textfont": {
            "color": "#ffffff",
            "family": "Courier New, monospace",
            "size": 30
           },
           "type": "scatter",
           "x": [
            20,
            30,
            40,
            50,
            60,
            70,
            80,
            90,
            100
           ],
           "y": [
            5,
            5,
            5,
            5,
            5,
            5,
            5,
            5,
            5
           ]
          },
          {
           "hoverinfo": "none",
           "mode": "text",
           "showlegend": false,
           "text": [
            "10",
            "20",
            "30",
            "40",
            "50",
            "40",
            "30",
            "20",
            "10"
           ],
           "textfont": {
            "color": "#ffffff",
            "family": "Courier New, monospace",
            "size": 30
           },
           "type": "scatter",
           "x": [
            20,
            30,
            40,
            50,
            60,
            70,
            80,
            90,
            100
           ],
           "y": [
            48.5,
            48.5,
            48.5,
            48.5,
            48.5,
            48.5,
            48.5,
            48.5,
            48.5
           ]
          },
          {
           "hoverinfo": "none",
           "line": {
            "color": "blue",
            "dash": "dash"
           },
           "showlegend": false,
           "type": "scatter",
           "x": [
            87,
            87
           ],
           "y": [
            0,
            53.5
           ]
          },
          {
           "hoverinfo": "none",
           "line": {
            "color": "yellow",
            "dash": "dash"
           },
           "showlegend": false,
           "type": "scatter",
           "x": [
            92,
            92
           ],
           "y": [
            0,
            53.5
           ]
          },
          {
           "hoverinfo": "text",
           "hovertext": [
            "nflId:29851.0<br>displayName:Aaron Rodgers<br>Position:QB<br>Role:Pass",
            "nflId:41282.0<br>displayName:Davante Adams<br>Position:RWR<br>Role:Pass Route",
            "nflId:41296.0<br>displayName:Billy Turner<br>Position:RT<br>Role:Pass Block",
            "nflId:45635.0<br>displayName:Robert Tonyan<br>Position:SLiWR<br>Role:Pass Route",
            "nflId:46243.0<br>displayName:Marquez Valdes-Scantling<br>Position:LWR<br>Role:Pass Route",
            "nflId:46705.0<br>displayName:Allen Lazard<br>Position:SLoWR<br>Role:Pass Route",
            "nflId:47827.0<br>displayName:Elgton Jenkins<br>Position:LT<br>Role:Pass Block",
            "nflId:52470.0<br>displayName:A.J. Dillon<br>Position:HB-R<br>Role:Pass Block",
            "nflId:52600.0<br>displayName:Jon Runyan<br>Position:LG<br>Role:Pass Block",
            "nflId:53491.0<br>displayName:Josh Myers<br>Position:C<br>Role:Pass Block",
            "nflId:53571.0<br>displayName:Royce Newman<br>Position:RG<br>Role:Pass Block"
           ],
           "marker": {
            "color": "#203731"
           },
           "mode": "markers",
           "name": "GB",
           "type": "scatter",
           "x": [
            95.68,
            73.78,
            96.67,
            75.34,
            72.1,
            83.07,
            94.88,
            92.01,
            91.06,
            91.47,
            92.93
           ],
           "y": [
            28.37,
            33.8,
            32.36,
            16.16,
            17.96,
            36.11,
            27.27,
            33.29,
            33,
            30.79,
            31.48
           ]
          },
          {
           "hoverinfo": "text",
           "hovertext": [
            "nflId:40000.0<br>displayName:Jamie Collins<br>Position:RILB<br>Role:Coverage",
            "nflId:40171.0<br>displayName:Nicholas Williams<br>Position:LE<br>Role:Pass Rush",
            "nflId:42444.0<br>displayName:Trey Flowers<br>Position:DRT<br>Role:Pass Rush",
            "nflId:43775.0<br>displayName:Romeo Okwara<br>Position:LEO<br>Role:Pass Rush",
            "nflId:44834.0<br>displayName:Charles Harris<br>Position:ROLB<br>Role:Coverage",
            "nflId:44888.0<br>displayName:Alex Anzalone<br>Position:LILB<br>Role:Pass Rush",
            "nflId:46151.0<br>displayName:Tracy Walker<br>Position:FS<br>Role:Coverage",
            "nflId:47864.0<br>displayName:Will Harris<br>Position:FSR<br>Role:Coverage",
            "nflId:47929.0<br>displayName:Amani Oruwariye<br>Position:RCB<br>Role:Coverage",
            "nflId:53530.0<br>displayName:Ifeatu Melifonwu<br>Position:LCB<br>Role:Coverage",
            "nflId:53957.0<br>displayName:A.J. Parker<br>Position:SCBoR<br>Role:Coverage"
           ],
           "marker": {
            "color": "#0076B6"
           },
           "mode": "markers",
           "name": "DET",
           "type": "scatter",
           "x": [
            82.11,
            92.97,
            94.81,
            97.44,
            82.51,
            89.47,
            80.29,
            63.18,
            72.76,
            72.9,
            78.43
           ],
           "y": [
            35.48,
            30.41,
            26.88,
            32.42,
            25.08,
            32.47,
            36.21,
            22.68,
            16.28,
            37.34,
            17.47
           ]
          },
          {
           "hoverinfo": "none",
           "marker": {
            "color": "#CBB67C"
           },
           "mode": "markers",
           "name": "football",
           "type": "scatter",
           "x": [
            95.53
           ],
           "y": [
            28.99
           ]
          }
         ],
         "name": "41"
        },
        {
         "data": [
          {
           "hoverinfo": "none",
           "mode": "text",
           "showlegend": false,
           "text": [
            "10",
            "20",
            "30",
            "40",
            "50",
            "40",
            "30",
            "20",
            "10"
           ],
           "textfont": {
            "color": "#ffffff",
            "family": "Courier New, monospace",
            "size": 30
           },
           "type": "scatter",
           "x": [
            20,
            30,
            40,
            50,
            60,
            70,
            80,
            90,
            100
           ],
           "y": [
            5,
            5,
            5,
            5,
            5,
            5,
            5,
            5,
            5
           ]
          },
          {
           "hoverinfo": "none",
           "mode": "text",
           "showlegend": false,
           "text": [
            "10",
            "20",
            "30",
            "40",
            "50",
            "40",
            "30",
            "20",
            "10"
           ],
           "textfont": {
            "color": "#ffffff",
            "family": "Courier New, monospace",
            "size": 30
           },
           "type": "scatter",
           "x": [
            20,
            30,
            40,
            50,
            60,
            70,
            80,
            90,
            100
           ],
           "y": [
            48.5,
            48.5,
            48.5,
            48.5,
            48.5,
            48.5,
            48.5,
            48.5,
            48.5
           ]
          },
          {
           "hoverinfo": "none",
           "line": {
            "color": "blue",
            "dash": "dash"
           },
           "showlegend": false,
           "type": "scatter",
           "x": [
            87,
            87
           ],
           "y": [
            0,
            53.5
           ]
          },
          {
           "hoverinfo": "none",
           "line": {
            "color": "yellow",
            "dash": "dash"
           },
           "showlegend": false,
           "type": "scatter",
           "x": [
            92,
            92
           ],
           "y": [
            0,
            53.5
           ]
          },
          {
           "hoverinfo": "text",
           "hovertext": [
            "nflId:29851.0<br>displayName:Aaron Rodgers<br>Position:QB<br>Role:Pass",
            "nflId:41282.0<br>displayName:Davante Adams<br>Position:RWR<br>Role:Pass Route",
            "nflId:41296.0<br>displayName:Billy Turner<br>Position:RT<br>Role:Pass Block",
            "nflId:45635.0<br>displayName:Robert Tonyan<br>Position:SLiWR<br>Role:Pass Route",
            "nflId:46243.0<br>displayName:Marquez Valdes-Scantling<br>Position:LWR<br>Role:Pass Route",
            "nflId:46705.0<br>displayName:Allen Lazard<br>Position:SLoWR<br>Role:Pass Route",
            "nflId:47827.0<br>displayName:Elgton Jenkins<br>Position:LT<br>Role:Pass Block",
            "nflId:52470.0<br>displayName:A.J. Dillon<br>Position:HB-R<br>Role:Pass Block",
            "nflId:52600.0<br>displayName:Jon Runyan<br>Position:LG<br>Role:Pass Block",
            "nflId:53491.0<br>displayName:Josh Myers<br>Position:C<br>Role:Pass Block",
            "nflId:53571.0<br>displayName:Royce Newman<br>Position:RG<br>Role:Pass Block"
           ],
           "marker": {
            "color": "#203731"
           },
           "mode": "markers",
           "name": "GB",
           "type": "scatter",
           "x": [
            95.74,
            73.63,
            96.87,
            75.14,
            71.34,
            83.13,
            95.02,
            92.05,
            91.05,
            91.4,
            92.73
           ],
           "y": [
            28.45,
            33.2,
            32.34,
            15.66,
            18.01,
            37,
            27.48,
            33.51,
            33.18,
            30.77,
            31.39
           ]
          },
          {
           "hoverinfo": "text",
           "hovertext": [
            "nflId:40000.0<br>displayName:Jamie Collins<br>Position:RILB<br>Role:Coverage",
            "nflId:40171.0<br>displayName:Nicholas Williams<br>Position:LE<br>Role:Pass Rush",
            "nflId:42444.0<br>displayName:Trey Flowers<br>Position:DRT<br>Role:Pass Rush",
            "nflId:43775.0<br>displayName:Romeo Okwara<br>Position:LEO<br>Role:Pass Rush",
            "nflId:44834.0<br>displayName:Charles Harris<br>Position:ROLB<br>Role:Coverage",
            "nflId:44888.0<br>displayName:Alex Anzalone<br>Position:LILB<br>Role:Pass Rush",
            "nflId:46151.0<br>displayName:Tracy Walker<br>Position:FS<br>Role:Coverage",
            "nflId:47864.0<br>displayName:Will Harris<br>Position:FSR<br>Role:Coverage",
            "nflId:47929.0<br>displayName:Amani Oruwariye<br>Position:RCB<br>Role:Coverage",
            "nflId:53530.0<br>displayName:Ifeatu Melifonwu<br>Position:LCB<br>Role:Coverage",
            "nflId:53957.0<br>displayName:A.J. Parker<br>Position:SCBoR<br>Role:Coverage"
           ],
           "marker": {
            "color": "#0076B6"
           },
           "mode": "markers",
           "name": "DET",
           "type": "scatter",
           "x": [
            82.25,
            93.09,
            94.92,
            97.69,
            82.55,
            89.27,
            80.41,
            62.62,
            72.07,
            72.6,
            78.38
           ],
           "y": [
            36.11,
            30.22,
            27.04,
            32.29,
            24.96,
            32.47,
            36.52,
            22.73,
            16.11,
            37.04,
            17.16
           ]
          },
          {
           "hoverinfo": "none",
           "marker": {
            "color": "#CBB67C"
           },
           "mode": "markers",
           "name": "football",
           "type": "scatter",
           "x": [
            95.51
           ],
           "y": [
            29.01
           ]
          }
         ],
         "name": "42"
        },
        {
         "data": [
          {
           "hoverinfo": "none",
           "mode": "text",
           "showlegend": false,
           "text": [
            "10",
            "20",
            "30",
            "40",
            "50",
            "40",
            "30",
            "20",
            "10"
           ],
           "textfont": {
            "color": "#ffffff",
            "family": "Courier New, monospace",
            "size": 30
           },
           "type": "scatter",
           "x": [
            20,
            30,
            40,
            50,
            60,
            70,
            80,
            90,
            100
           ],
           "y": [
            5,
            5,
            5,
            5,
            5,
            5,
            5,
            5,
            5
           ]
          },
          {
           "hoverinfo": "none",
           "mode": "text",
           "showlegend": false,
           "text": [
            "10",
            "20",
            "30",
            "40",
            "50",
            "40",
            "30",
            "20",
            "10"
           ],
           "textfont": {
            "color": "#ffffff",
            "family": "Courier New, monospace",
            "size": 30
           },
           "type": "scatter",
           "x": [
            20,
            30,
            40,
            50,
            60,
            70,
            80,
            90,
            100
           ],
           "y": [
            48.5,
            48.5,
            48.5,
            48.5,
            48.5,
            48.5,
            48.5,
            48.5,
            48.5
           ]
          },
          {
           "hoverinfo": "none",
           "line": {
            "color": "blue",
            "dash": "dash"
           },
           "showlegend": false,
           "type": "scatter",
           "x": [
            87,
            87
           ],
           "y": [
            0,
            53.5
           ]
          },
          {
           "hoverinfo": "none",
           "line": {
            "color": "yellow",
            "dash": "dash"
           },
           "showlegend": false,
           "type": "scatter",
           "x": [
            92,
            92
           ],
           "y": [
            0,
            53.5
           ]
          },
          {
           "hoverinfo": "text",
           "hovertext": [
            "nflId:29851.0<br>displayName:Aaron Rodgers<br>Position:QB<br>Role:Pass",
            "nflId:41282.0<br>displayName:Davante Adams<br>Position:RWR<br>Role:Pass Route",
            "nflId:41296.0<br>displayName:Billy Turner<br>Position:RT<br>Role:Pass Block",
            "nflId:45635.0<br>displayName:Robert Tonyan<br>Position:SLiWR<br>Role:Pass Route",
            "nflId:46243.0<br>displayName:Marquez Valdes-Scantling<br>Position:LWR<br>Role:Pass Route",
            "nflId:46705.0<br>displayName:Allen Lazard<br>Position:SLoWR<br>Role:Pass Route",
            "nflId:47827.0<br>displayName:Elgton Jenkins<br>Position:LT<br>Role:Pass Block",
            "nflId:52470.0<br>displayName:A.J. Dillon<br>Position:HB-R<br>Role:Pass Block",
            "nflId:52600.0<br>displayName:Jon Runyan<br>Position:LG<br>Role:Pass Block",
            "nflId:53491.0<br>displayName:Josh Myers<br>Position:C<br>Role:Pass Block",
            "nflId:53571.0<br>displayName:Royce Newman<br>Position:RG<br>Role:Pass Block"
           ],
           "marker": {
            "color": "#203731"
           },
           "mode": "markers",
           "name": "GB",
           "type": "scatter",
           "x": [
            95.75,
            73.53,
            97.06,
            74.97,
            70.59,
            83.19,
            95.15,
            92.09,
            91.04,
            91.29,
            92.56
           ],
           "y": [
            28.58,
            32.56,
            32.29,
            15.13,
            18.08,
            37.89,
            27.68,
            33.73,
            33.33,
            30.74,
            31.28
           ]
          },
          {
           "hoverinfo": "text",
           "hovertext": [
            "nflId:40000.0<br>displayName:Jamie Collins<br>Position:RILB<br>Role:Coverage",
            "nflId:40171.0<br>displayName:Nicholas Williams<br>Position:LE<br>Role:Pass Rush",
            "nflId:42444.0<br>displayName:Trey Flowers<br>Position:DRT<br>Role:Pass Rush",
            "nflId:43775.0<br>displayName:Romeo Okwara<br>Position:LEO<br>Role:Pass Rush",
            "nflId:44834.0<br>displayName:Charles Harris<br>Position:ROLB<br>Role:Coverage",
            "nflId:44888.0<br>displayName:Alex Anzalone<br>Position:LILB<br>Role:Pass Rush",
            "nflId:46151.0<br>displayName:Tracy Walker<br>Position:FS<br>Role:Coverage",
            "nflId:47864.0<br>displayName:Will Harris<br>Position:FSR<br>Role:Coverage",
            "nflId:47929.0<br>displayName:Amani Oruwariye<br>Position:RCB<br>Role:Coverage",
            "nflId:53530.0<br>displayName:Ifeatu Melifonwu<br>Position:LCB<br>Role:Coverage",
            "nflId:53957.0<br>displayName:A.J. Parker<br>Position:SCBoR<br>Role:Coverage"
           ],
           "marker": {
            "color": "#0076B6"
           },
           "mode": "markers",
           "name": "DET",
           "type": "scatter",
           "x": [
            82.38,
            93.25,
            95.04,
            97.92,
            82.61,
            89.08,
            80.53,
            62.05,
            71.38,
            72.35,
            78.32
           ],
           "y": [
            36.7,
            30.05,
            27.18,
            32.13,
            24.85,
            32.45,
            36.81,
            22.78,
            15.93,
            36.7,
            16.86
           ]
          },
          {
           "hoverinfo": "none",
           "marker": {
            "color": "#CBB67C"
           },
           "mode": "markers",
           "name": "football",
           "type": "scatter",
           "x": [
            95.49
           ],
           "y": [
            29.04
           ]
          }
         ],
         "name": "43"
        },
        {
         "data": [
          {
           "hoverinfo": "none",
           "mode": "text",
           "showlegend": false,
           "text": [
            "10",
            "20",
            "30",
            "40",
            "50",
            "40",
            "30",
            "20",
            "10"
           ],
           "textfont": {
            "color": "#ffffff",
            "family": "Courier New, monospace",
            "size": 30
           },
           "type": "scatter",
           "x": [
            20,
            30,
            40,
            50,
            60,
            70,
            80,
            90,
            100
           ],
           "y": [
            5,
            5,
            5,
            5,
            5,
            5,
            5,
            5,
            5
           ]
          },
          {
           "hoverinfo": "none",
           "mode": "text",
           "showlegend": false,
           "text": [
            "10",
            "20",
            "30",
            "40",
            "50",
            "40",
            "30",
            "20",
            "10"
           ],
           "textfont": {
            "color": "#ffffff",
            "family": "Courier New, monospace",
            "size": 30
           },
           "type": "scatter",
           "x": [
            20,
            30,
            40,
            50,
            60,
            70,
            80,
            90,
            100
           ],
           "y": [
            48.5,
            48.5,
            48.5,
            48.5,
            48.5,
            48.5,
            48.5,
            48.5,
            48.5
           ]
          },
          {
           "hoverinfo": "none",
           "line": {
            "color": "blue",
            "dash": "dash"
           },
           "showlegend": false,
           "type": "scatter",
           "x": [
            87,
            87
           ],
           "y": [
            0,
            53.5
           ]
          },
          {
           "hoverinfo": "none",
           "line": {
            "color": "yellow",
            "dash": "dash"
           },
           "showlegend": false,
           "type": "scatter",
           "x": [
            92,
            92
           ],
           "y": [
            0,
            53.5
           ]
          },
          {
           "hoverinfo": "text",
           "hovertext": [
            "nflId:29851.0<br>displayName:Aaron Rodgers<br>Position:QB<br>Role:Pass",
            "nflId:41282.0<br>displayName:Davante Adams<br>Position:RWR<br>Role:Pass Route",
            "nflId:41296.0<br>displayName:Billy Turner<br>Position:RT<br>Role:Pass Block",
            "nflId:45635.0<br>displayName:Robert Tonyan<br>Position:SLiWR<br>Role:Pass Route",
            "nflId:46243.0<br>displayName:Marquez Valdes-Scantling<br>Position:LWR<br>Role:Pass Route",
            "nflId:46705.0<br>displayName:Allen Lazard<br>Position:SLoWR<br>Role:Pass Route",
            "nflId:47827.0<br>displayName:Elgton Jenkins<br>Position:LT<br>Role:Pass Block",
            "nflId:52470.0<br>displayName:A.J. Dillon<br>Position:HB-R<br>Role:Pass Block",
            "nflId:52600.0<br>displayName:Jon Runyan<br>Position:LG<br>Role:Pass Block",
            "nflId:53491.0<br>displayName:Josh Myers<br>Position:C<br>Role:Pass Block",
            "nflId:53571.0<br>displayName:Royce Newman<br>Position:RG<br>Role:Pass Block"
           ],
           "marker": {
            "color": "#203731"
           },
           "mode": "markers",
           "name": "GB",
           "type": "scatter",
           "x": [
            95.77,
            73.47,
            97.28,
            74.8,
            69.82,
            83.23,
            95.26,
            92.09,
            91.02,
            91.18,
            92.41
           ],
           "y": [
            28.72,
            31.9,
            32.22,
            14.59,
            18.16,
            38.78,
            27.87,
            33.93,
            33.43,
            30.72,
            31.15
           ]
          },
          {
           "hoverinfo": "text",
           "hovertext": [
            "nflId:40000.0<br>displayName:Jamie Collins<br>Position:RILB<br>Role:Coverage",
            "nflId:40171.0<br>displayName:Nicholas Williams<br>Position:LE<br>Role:Pass Rush",
            "nflId:42444.0<br>displayName:Trey Flowers<br>Position:DRT<br>Role:Pass Rush",
            "nflId:43775.0<br>displayName:Romeo Okwara<br>Position:LEO<br>Role:Pass Rush",
            "nflId:44834.0<br>displayName:Charles Harris<br>Position:ROLB<br>Role:Coverage",
            "nflId:44888.0<br>displayName:Alex Anzalone<br>Position:LILB<br>Role:Pass Rush",
            "nflId:46151.0<br>displayName:Tracy Walker<br>Position:FS<br>Role:Coverage",
            "nflId:47864.0<br>displayName:Will Harris<br>Position:FSR<br>Role:Coverage",
            "nflId:47929.0<br>displayName:Amani Oruwariye<br>Position:RCB<br>Role:Coverage",
            "nflId:53530.0<br>displayName:Ifeatu Melifonwu<br>Position:LCB<br>Role:Coverage",
            "nflId:53957.0<br>displayName:A.J. Parker<br>Position:SCBoR<br>Role:Coverage"
           ],
           "marker": {
            "color": "#0076B6"
           },
           "mode": "markers",
           "name": "DET",
           "type": "scatter",
           "x": [
            82.48,
            93.46,
            95.18,
            98.11,
            82.67,
            88.9,
            80.61,
            61.47,
            70.69,
            72.16,
            78.26
           ],
           "y": [
            37.27,
            29.91,
            27.31,
            31.95,
            24.76,
            32.4,
            37.03,
            22.81,
            15.75,
            36.31,
            16.59
           ]
          },
          {
           "hoverinfo": "none",
           "marker": {
            "color": "#CBB67C"
           },
           "mode": "markers",
           "name": "football",
           "type": "scatter",
           "x": [
            95.47
           ],
           "y": [
            29.07
           ]
          }
         ],
         "name": "44"
        },
        {
         "data": [
          {
           "hoverinfo": "none",
           "mode": "text",
           "showlegend": false,
           "text": [
            "10",
            "20",
            "30",
            "40",
            "50",
            "40",
            "30",
            "20",
            "10"
           ],
           "textfont": {
            "color": "#ffffff",
            "family": "Courier New, monospace",
            "size": 30
           },
           "type": "scatter",
           "x": [
            20,
            30,
            40,
            50,
            60,
            70,
            80,
            90,
            100
           ],
           "y": [
            5,
            5,
            5,
            5,
            5,
            5,
            5,
            5,
            5
           ]
          },
          {
           "hoverinfo": "none",
           "mode": "text",
           "showlegend": false,
           "text": [
            "10",
            "20",
            "30",
            "40",
            "50",
            "40",
            "30",
            "20",
            "10"
           ],
           "textfont": {
            "color": "#ffffff",
            "family": "Courier New, monospace",
            "size": 30
           },
           "type": "scatter",
           "x": [
            20,
            30,
            40,
            50,
            60,
            70,
            80,
            90,
            100
           ],
           "y": [
            48.5,
            48.5,
            48.5,
            48.5,
            48.5,
            48.5,
            48.5,
            48.5,
            48.5
           ]
          },
          {
           "hoverinfo": "none",
           "line": {
            "color": "blue",
            "dash": "dash"
           },
           "showlegend": false,
           "type": "scatter",
           "x": [
            87,
            87
           ],
           "y": [
            0,
            53.5
           ]
          },
          {
           "hoverinfo": "none",
           "line": {
            "color": "yellow",
            "dash": "dash"
           },
           "showlegend": false,
           "type": "scatter",
           "x": [
            92,
            92
           ],
           "y": [
            0,
            53.5
           ]
          },
          {
           "hoverinfo": "text",
           "hovertext": [
            "nflId:29851.0<br>displayName:Aaron Rodgers<br>Position:QB<br>Role:Pass",
            "nflId:41282.0<br>displayName:Davante Adams<br>Position:RWR<br>Role:Pass Route",
            "nflId:41296.0<br>displayName:Billy Turner<br>Position:RT<br>Role:Pass Block",
            "nflId:45635.0<br>displayName:Robert Tonyan<br>Position:SLiWR<br>Role:Pass Route",
            "nflId:46243.0<br>displayName:Marquez Valdes-Scantling<br>Position:LWR<br>Role:Pass Route",
            "nflId:46705.0<br>displayName:Allen Lazard<br>Position:SLoWR<br>Role:Pass Route",
            "nflId:47827.0<br>displayName:Elgton Jenkins<br>Position:LT<br>Role:Pass Block",
            "nflId:52470.0<br>displayName:A.J. Dillon<br>Position:HB-R<br>Role:Pass Block",
            "nflId:52600.0<br>displayName:Jon Runyan<br>Position:LG<br>Role:Pass Block",
            "nflId:53491.0<br>displayName:Josh Myers<br>Position:C<br>Role:Pass Block",
            "nflId:53571.0<br>displayName:Royce Newman<br>Position:RG<br>Role:Pass Block"
           ],
           "marker": {
            "color": "#203731"
           },
           "mode": "markers",
           "name": "GB",
           "type": "scatter",
           "x": [
            95.76,
            73.45,
            97.49,
            74.64,
            69.06,
            83.24,
            95.36,
            92.08,
            91,
            91.05,
            92.28
           ],
           "y": [
            28.89,
            31.24,
            32.15,
            14.04,
            18.28,
            39.65,
            28.04,
            34.13,
            33.49,
            30.7,
            31.01
           ]
          },
          {
           "hoverinfo": "text",
           "hovertext": [
            "nflId:40000.0<br>displayName:Jamie Collins<br>Position:RILB<br>Role:Coverage",
            "nflId:40171.0<br>displayName:Nicholas Williams<br>Position:LE<br>Role:Pass Rush",
            "nflId:42444.0<br>displayName:Trey Flowers<br>Position:DRT<br>Role:Pass Rush",
            "nflId:43775.0<br>displayName:Romeo Okwara<br>Position:LEO<br>Role:Pass Rush",
            "nflId:44834.0<br>displayName:Charles Harris<br>Position:ROLB<br>Role:Coverage",
            "nflId:44888.0<br>displayName:Alex Anzalone<br>Position:LILB<br>Role:Pass Rush",
            "nflId:46151.0<br>displayName:Tracy Walker<br>Position:FS<br>Role:Coverage",
            "nflId:47864.0<br>displayName:Will Harris<br>Position:FSR<br>Role:Coverage",
            "nflId:47929.0<br>displayName:Amani Oruwariye<br>Position:RCB<br>Role:Coverage",
            "nflId:53530.0<br>displayName:Ifeatu Melifonwu<br>Position:LCB<br>Role:Coverage",
            "nflId:53957.0<br>displayName:A.J. Parker<br>Position:SCBoR<br>Role:Coverage"
           ],
           "marker": {
            "color": "#0076B6"
           },
           "mode": "markers",
           "name": "DET",
           "type": "scatter",
           "x": [
            82.56,
            93.69,
            95.34,
            98.24,
            82.75,
            88.73,
            80.69,
            60.89,
            70,
            72.02,
            78.18
           ],
           "y": [
            37.79,
            29.78,
            27.43,
            31.75,
            24.69,
            32.34,
            37.22,
            22.83,
            15.58,
            35.88,
            16.37
           ]
          },
          {
           "hoverinfo": "none",
           "marker": {
            "color": "#CBB67C"
           },
           "mode": "markers",
           "name": "football",
           "type": "scatter",
           "x": [
            95.46
           ],
           "y": [
            29.12
           ]
          }
         ],
         "name": "45"
        },
        {
         "data": [
          {
           "hoverinfo": "none",
           "mode": "text",
           "showlegend": false,
           "text": [
            "10",
            "20",
            "30",
            "40",
            "50",
            "40",
            "30",
            "20",
            "10"
           ],
           "textfont": {
            "color": "#ffffff",
            "family": "Courier New, monospace",
            "size": 30
           },
           "type": "scatter",
           "x": [
            20,
            30,
            40,
            50,
            60,
            70,
            80,
            90,
            100
           ],
           "y": [
            5,
            5,
            5,
            5,
            5,
            5,
            5,
            5,
            5
           ]
          },
          {
           "hoverinfo": "none",
           "mode": "text",
           "showlegend": false,
           "text": [
            "10",
            "20",
            "30",
            "40",
            "50",
            "40",
            "30",
            "20",
            "10"
           ],
           "textfont": {
            "color": "#ffffff",
            "family": "Courier New, monospace",
            "size": 30
           },
           "type": "scatter",
           "x": [
            20,
            30,
            40,
            50,
            60,
            70,
            80,
            90,
            100
           ],
           "y": [
            48.5,
            48.5,
            48.5,
            48.5,
            48.5,
            48.5,
            48.5,
            48.5,
            48.5
           ]
          },
          {
           "hoverinfo": "none",
           "line": {
            "color": "blue",
            "dash": "dash"
           },
           "showlegend": false,
           "type": "scatter",
           "x": [
            87,
            87
           ],
           "y": [
            0,
            53.5
           ]
          },
          {
           "hoverinfo": "none",
           "line": {
            "color": "yellow",
            "dash": "dash"
           },
           "showlegend": false,
           "type": "scatter",
           "x": [
            92,
            92
           ],
           "y": [
            0,
            53.5
           ]
          },
          {
           "hoverinfo": "text",
           "hovertext": [
            "nflId:29851.0<br>displayName:Aaron Rodgers<br>Position:QB<br>Role:Pass",
            "nflId:41282.0<br>displayName:Davante Adams<br>Position:RWR<br>Role:Pass Route",
            "nflId:41296.0<br>displayName:Billy Turner<br>Position:RT<br>Role:Pass Block",
            "nflId:45635.0<br>displayName:Robert Tonyan<br>Position:SLiWR<br>Role:Pass Route",
            "nflId:46243.0<br>displayName:Marquez Valdes-Scantling<br>Position:LWR<br>Role:Pass Route",
            "nflId:46705.0<br>displayName:Allen Lazard<br>Position:SLoWR<br>Role:Pass Route",
            "nflId:47827.0<br>displayName:Elgton Jenkins<br>Position:LT<br>Role:Pass Block",
            "nflId:52470.0<br>displayName:A.J. Dillon<br>Position:HB-R<br>Role:Pass Block",
            "nflId:52600.0<br>displayName:Jon Runyan<br>Position:LG<br>Role:Pass Block",
            "nflId:53491.0<br>displayName:Josh Myers<br>Position:C<br>Role:Pass Block",
            "nflId:53571.0<br>displayName:Royce Newman<br>Position:RG<br>Role:Pass Block"
           ],
           "marker": {
            "color": "#203731"
           },
           "mode": "markers",
           "name": "GB",
           "type": "scatter",
           "x": [
            95.73,
            73.46,
            97.7,
            74.5,
            68.3,
            83.21,
            95.44,
            92.05,
            90.98,
            90.91,
            92.18
           ],
           "y": [
            29.07,
            30.57,
            32.03,
            13.48,
            18.41,
            40.5,
            28.19,
            34.32,
            33.51,
            30.69,
            30.86
           ]
          },
          {
           "hoverinfo": "text",
           "hovertext": [
            "nflId:40000.0<br>displayName:Jamie Collins<br>Position:RILB<br>Role:Coverage",
            "nflId:40171.0<br>displayName:Nicholas Williams<br>Position:LE<br>Role:Pass Rush",
            "nflId:42444.0<br>displayName:Trey Flowers<br>Position:DRT<br>Role:Pass Rush",
            "nflId:43775.0<br>displayName:Romeo Okwara<br>Position:LEO<br>Role:Pass Rush",
            "nflId:44834.0<br>displayName:Charles Harris<br>Position:ROLB<br>Role:Coverage",
            "nflId:44888.0<br>displayName:Alex Anzalone<br>Position:LILB<br>Role:Pass Rush",
            "nflId:46151.0<br>displayName:Tracy Walker<br>Position:FS<br>Role:Coverage",
            "nflId:47864.0<br>displayName:Will Harris<br>Position:FSR<br>Role:Coverage",
            "nflId:47929.0<br>displayName:Amani Oruwariye<br>Position:RCB<br>Role:Coverage",
            "nflId:53530.0<br>displayName:Ifeatu Melifonwu<br>Position:LCB<br>Role:Coverage",
            "nflId:53957.0<br>displayName:A.J. Parker<br>Position:SCBoR<br>Role:Coverage"
           ],
           "marker": {
            "color": "#0076B6"
           },
           "mode": "markers",
           "name": "DET",
           "type": "scatter",
           "x": [
            82.62,
            93.97,
            95.52,
            98.31,
            82.84,
            88.58,
            80.77,
            60.31,
            69.31,
            71.92,
            78.1
           ],
           "y": [
            38.27,
            29.7,
            27.55,
            31.54,
            24.65,
            32.29,
            37.36,
            22.85,
            15.42,
            35.42,
            16.19
           ]
          },
          {
           "hoverinfo": "none",
           "marker": {
            "color": "#CBB67C"
           },
           "mode": "markers",
           "name": "football",
           "type": "scatter",
           "x": [
            95.46
           ],
           "y": [
            29.22
           ]
          }
         ],
         "name": "46"
        },
        {
         "data": [
          {
           "hoverinfo": "none",
           "mode": "text",
           "showlegend": false,
           "text": [
            "10",
            "20",
            "30",
            "40",
            "50",
            "40",
            "30",
            "20",
            "10"
           ],
           "textfont": {
            "color": "#ffffff",
            "family": "Courier New, monospace",
            "size": 30
           },
           "type": "scatter",
           "x": [
            20,
            30,
            40,
            50,
            60,
            70,
            80,
            90,
            100
           ],
           "y": [
            5,
            5,
            5,
            5,
            5,
            5,
            5,
            5,
            5
           ]
          },
          {
           "hoverinfo": "none",
           "mode": "text",
           "showlegend": false,
           "text": [
            "10",
            "20",
            "30",
            "40",
            "50",
            "40",
            "30",
            "20",
            "10"
           ],
           "textfont": {
            "color": "#ffffff",
            "family": "Courier New, monospace",
            "size": 30
           },
           "type": "scatter",
           "x": [
            20,
            30,
            40,
            50,
            60,
            70,
            80,
            90,
            100
           ],
           "y": [
            48.5,
            48.5,
            48.5,
            48.5,
            48.5,
            48.5,
            48.5,
            48.5,
            48.5
           ]
          },
          {
           "hoverinfo": "none",
           "line": {
            "color": "blue",
            "dash": "dash"
           },
           "showlegend": false,
           "type": "scatter",
           "x": [
            87,
            87
           ],
           "y": [
            0,
            53.5
           ]
          },
          {
           "hoverinfo": "none",
           "line": {
            "color": "yellow",
            "dash": "dash"
           },
           "showlegend": false,
           "type": "scatter",
           "x": [
            92,
            92
           ],
           "y": [
            0,
            53.5
           ]
          },
          {
           "hoverinfo": "text",
           "hovertext": [
            "nflId:29851.0<br>displayName:Aaron Rodgers<br>Position:QB<br>Role:Pass",
            "nflId:41282.0<br>displayName:Davante Adams<br>Position:RWR<br>Role:Pass Route",
            "nflId:41296.0<br>displayName:Billy Turner<br>Position:RT<br>Role:Pass Block",
            "nflId:45635.0<br>displayName:Robert Tonyan<br>Position:SLiWR<br>Role:Pass Route",
            "nflId:46243.0<br>displayName:Marquez Valdes-Scantling<br>Position:LWR<br>Role:Pass Route",
            "nflId:46705.0<br>displayName:Allen Lazard<br>Position:SLoWR<br>Role:Pass Route",
            "nflId:47827.0<br>displayName:Elgton Jenkins<br>Position:LT<br>Role:Pass Block",
            "nflId:52470.0<br>displayName:A.J. Dillon<br>Position:HB-R<br>Role:Pass Block",
            "nflId:52600.0<br>displayName:Jon Runyan<br>Position:LG<br>Role:Pass Block",
            "nflId:53491.0<br>displayName:Josh Myers<br>Position:C<br>Role:Pass Block",
            "nflId:53571.0<br>displayName:Royce Newman<br>Position:RG<br>Role:Pass Block"
           ],
           "marker": {
            "color": "#203731"
           },
           "mode": "markers",
           "name": "GB",
           "type": "scatter",
           "x": [
            95.66,
            73.51,
            97.88,
            74.37,
            67.54,
            83.12,
            95.5,
            91.99,
            90.96,
            90.78,
            92.1
           ],
           "y": [
            29.26,
            29.91,
            31.88,
            12.92,
            18.56,
            41.31,
            28.33,
            34.5,
            33.5,
            30.7,
            30.71
           ]
          },
          {
           "hoverinfo": "text",
           "hovertext": [
            "nflId:40000.0<br>displayName:Jamie Collins<br>Position:RILB<br>Role:Coverage",
            "nflId:40171.0<br>displayName:Nicholas Williams<br>Position:LE<br>Role:Pass Rush",
            "nflId:42444.0<br>displayName:Trey Flowers<br>Position:DRT<br>Role:Pass Rush",
            "nflId:43775.0<br>displayName:Romeo Okwara<br>Position:LEO<br>Role:Pass Rush",
            "nflId:44834.0<br>displayName:Charles Harris<br>Position:ROLB<br>Role:Coverage",
            "nflId:44888.0<br>displayName:Alex Anzalone<br>Position:LILB<br>Role:Pass Rush",
            "nflId:46151.0<br>displayName:Tracy Walker<br>Position:FS<br>Role:Coverage",
            "nflId:47864.0<br>displayName:Will Harris<br>Position:FSR<br>Role:Coverage",
            "nflId:47929.0<br>displayName:Amani Oruwariye<br>Position:RCB<br>Role:Coverage",
            "nflId:53530.0<br>displayName:Ifeatu Melifonwu<br>Position:LCB<br>Role:Coverage",
            "nflId:53957.0<br>displayName:A.J. Parker<br>Position:SCBoR<br>Role:Coverage"
           ],
           "marker": {
            "color": "#0076B6"
           },
           "mode": "markers",
           "name": "DET",
           "type": "scatter",
           "x": [
            82.65,
            94.26,
            95.71,
            98.34,
            82.93,
            88.45,
            80.85,
            59.72,
            68.6,
            71.86,
            78.01
           ],
           "y": [
            38.71,
            29.64,
            27.67,
            31.33,
            24.65,
            32.25,
            37.46,
            22.87,
            15.28,
            34.92,
            16.06
           ]
          },
          {
           "hoverinfo": "none",
           "marker": {
            "color": "#CBB67C"
           },
           "mode": "markers",
           "name": "football",
           "type": "scatter",
           "x": [
            95.46
           ],
           "y": [
            29.34
           ]
          }
         ],
         "name": "47"
        },
        {
         "data": [
          {
           "hoverinfo": "none",
           "mode": "text",
           "showlegend": false,
           "text": [
            "10",
            "20",
            "30",
            "40",
            "50",
            "40",
            "30",
            "20",
            "10"
           ],
           "textfont": {
            "color": "#ffffff",
            "family": "Courier New, monospace",
            "size": 30
           },
           "type": "scatter",
           "x": [
            20,
            30,
            40,
            50,
            60,
            70,
            80,
            90,
            100
           ],
           "y": [
            5,
            5,
            5,
            5,
            5,
            5,
            5,
            5,
            5
           ]
          },
          {
           "hoverinfo": "none",
           "mode": "text",
           "showlegend": false,
           "text": [
            "10",
            "20",
            "30",
            "40",
            "50",
            "40",
            "30",
            "20",
            "10"
           ],
           "textfont": {
            "color": "#ffffff",
            "family": "Courier New, monospace",
            "size": 30
           },
           "type": "scatter",
           "x": [
            20,
            30,
            40,
            50,
            60,
            70,
            80,
            90,
            100
           ],
           "y": [
            48.5,
            48.5,
            48.5,
            48.5,
            48.5,
            48.5,
            48.5,
            48.5,
            48.5
           ]
          },
          {
           "hoverinfo": "none",
           "line": {
            "color": "blue",
            "dash": "dash"
           },
           "showlegend": false,
           "type": "scatter",
           "x": [
            87,
            87
           ],
           "y": [
            0,
            53.5
           ]
          },
          {
           "hoverinfo": "none",
           "line": {
            "color": "yellow",
            "dash": "dash"
           },
           "showlegend": false,
           "type": "scatter",
           "x": [
            92,
            92
           ],
           "y": [
            0,
            53.5
           ]
          },
          {
           "hoverinfo": "text",
           "hovertext": [
            "nflId:29851.0<br>displayName:Aaron Rodgers<br>Position:QB<br>Role:Pass",
            "nflId:41282.0<br>displayName:Davante Adams<br>Position:RWR<br>Role:Pass Route",
            "nflId:41296.0<br>displayName:Billy Turner<br>Position:RT<br>Role:Pass Block",
            "nflId:45635.0<br>displayName:Robert Tonyan<br>Position:SLiWR<br>Role:Pass Route",
            "nflId:46243.0<br>displayName:Marquez Valdes-Scantling<br>Position:LWR<br>Role:Pass Route",
            "nflId:46705.0<br>displayName:Allen Lazard<br>Position:SLoWR<br>Role:Pass Route",
            "nflId:47827.0<br>displayName:Elgton Jenkins<br>Position:LT<br>Role:Pass Block",
            "nflId:52470.0<br>displayName:A.J. Dillon<br>Position:HB-R<br>Role:Pass Block",
            "nflId:52600.0<br>displayName:Jon Runyan<br>Position:LG<br>Role:Pass Block",
            "nflId:53491.0<br>displayName:Josh Myers<br>Position:C<br>Role:Pass Block",
            "nflId:53571.0<br>displayName:Royce Newman<br>Position:RG<br>Role:Pass Block"
           ],
           "marker": {
            "color": "#203731"
           },
           "mode": "markers",
           "name": "GB",
           "type": "scatter",
           "x": [
            95.59,
            73.59,
            98.02,
            74.26,
            66.79,
            83.01,
            95.54,
            91.89,
            90.94,
            90.66,
            92.03
           ],
           "y": [
            29.46,
            29.26,
            31.72,
            12.36,
            18.74,
            42.09,
            28.43,
            34.66,
            33.48,
            30.73,
            30.57
           ]
          },
          {
           "hoverinfo": "text",
           "hovertext": [
            "nflId:40000.0<br>displayName:Jamie Collins<br>Position:RILB<br>Role:Coverage",
            "nflId:40171.0<br>displayName:Nicholas Williams<br>Position:LE<br>Role:Pass Rush",
            "nflId:42444.0<br>displayName:Trey Flowers<br>Position:DRT<br>Role:Pass Rush",
            "nflId:43775.0<br>displayName:Romeo Okwara<br>Position:LEO<br>Role:Pass Rush",
            "nflId:44834.0<br>displayName:Charles Harris<br>Position:ROLB<br>Role:Coverage",
            "nflId:44888.0<br>displayName:Alex Anzalone<br>Position:LILB<br>Role:Pass Rush",
            "nflId:46151.0<br>displayName:Tracy Walker<br>Position:FS<br>Role:Coverage",
            "nflId:47864.0<br>displayName:Will Harris<br>Position:FSR<br>Role:Coverage",
            "nflId:47929.0<br>displayName:Amani Oruwariye<br>Position:RCB<br>Role:Coverage",
            "nflId:53530.0<br>displayName:Ifeatu Melifonwu<br>Position:LCB<br>Role:Coverage",
            "nflId:53957.0<br>displayName:A.J. Parker<br>Position:SCBoR<br>Role:Coverage"
           ],
           "marker": {
            "color": "#0076B6"
           },
           "mode": "markers",
           "name": "DET",
           "type": "scatter",
           "x": [
            82.67,
            94.56,
            95.9,
            98.3,
            83.05,
            88.36,
            80.97,
            59.13,
            67.89,
            71.85,
            77.92
           ],
           "y": [
            39.1,
            29.62,
            27.8,
            31.12,
            24.69,
            32.25,
            37.51,
            22.9,
            15.16,
            34.39,
            15.97
           ]
          },
          {
           "hoverinfo": "none",
           "marker": {
            "color": "#CBB67C"
           },
           "mode": "markers",
           "name": "football",
           "type": "scatter",
           "x": [
            95.45
           ],
           "y": [
            29.44
           ]
          }
         ],
         "name": "48"
        },
        {
         "data": [
          {
           "hoverinfo": "none",
           "mode": "text",
           "showlegend": false,
           "text": [
            "10",
            "20",
            "30",
            "40",
            "50",
            "40",
            "30",
            "20",
            "10"
           ],
           "textfont": {
            "color": "#ffffff",
            "family": "Courier New, monospace",
            "size": 30
           },
           "type": "scatter",
           "x": [
            20,
            30,
            40,
            50,
            60,
            70,
            80,
            90,
            100
           ],
           "y": [
            5,
            5,
            5,
            5,
            5,
            5,
            5,
            5,
            5
           ]
          },
          {
           "hoverinfo": "none",
           "mode": "text",
           "showlegend": false,
           "text": [
            "10",
            "20",
            "30",
            "40",
            "50",
            "40",
            "30",
            "20",
            "10"
           ],
           "textfont": {
            "color": "#ffffff",
            "family": "Courier New, monospace",
            "size": 30
           },
           "type": "scatter",
           "x": [
            20,
            30,
            40,
            50,
            60,
            70,
            80,
            90,
            100
           ],
           "y": [
            48.5,
            48.5,
            48.5,
            48.5,
            48.5,
            48.5,
            48.5,
            48.5,
            48.5
           ]
          },
          {
           "hoverinfo": "none",
           "line": {
            "color": "blue",
            "dash": "dash"
           },
           "showlegend": false,
           "type": "scatter",
           "x": [
            87,
            87
           ],
           "y": [
            0,
            53.5
           ]
          },
          {
           "hoverinfo": "none",
           "line": {
            "color": "yellow",
            "dash": "dash"
           },
           "showlegend": false,
           "type": "scatter",
           "x": [
            92,
            92
           ],
           "y": [
            0,
            53.5
           ]
          },
          {
           "hoverinfo": "text",
           "hovertext": [
            "nflId:29851.0<br>displayName:Aaron Rodgers<br>Position:QB<br>Role:Pass",
            "nflId:41282.0<br>displayName:Davante Adams<br>Position:RWR<br>Role:Pass Route",
            "nflId:41296.0<br>displayName:Billy Turner<br>Position:RT<br>Role:Pass Block",
            "nflId:45635.0<br>displayName:Robert Tonyan<br>Position:SLiWR<br>Role:Pass Route",
            "nflId:46243.0<br>displayName:Marquez Valdes-Scantling<br>Position:LWR<br>Role:Pass Route",
            "nflId:46705.0<br>displayName:Allen Lazard<br>Position:SLoWR<br>Role:Pass Route",
            "nflId:47827.0<br>displayName:Elgton Jenkins<br>Position:LT<br>Role:Pass Block",
            "nflId:52470.0<br>displayName:A.J. Dillon<br>Position:HB-R<br>Role:Pass Block",
            "nflId:52600.0<br>displayName:Jon Runyan<br>Position:LG<br>Role:Pass Block",
            "nflId:53491.0<br>displayName:Josh Myers<br>Position:C<br>Role:Pass Block",
            "nflId:53571.0<br>displayName:Royce Newman<br>Position:RG<br>Role:Pass Block"
           ],
           "marker": {
            "color": "#203731"
           },
           "mode": "markers",
           "name": "GB",
           "type": "scatter",
           "x": [
            95.52,
            73.67,
            98.16,
            74.15,
            66.05,
            82.85,
            95.57,
            91.76,
            90.93,
            90.56,
            91.99
           ],
           "y": [
            29.64,
            28.63,
            31.55,
            11.81,
            18.94,
            42.83,
            28.52,
            34.79,
            33.41,
            30.76,
            30.44
           ]
          },
          {
           "hoverinfo": "text",
           "hovertext": [
            "nflId:40000.0<br>displayName:Jamie Collins<br>Position:RILB<br>Role:Coverage",
            "nflId:40171.0<br>displayName:Nicholas Williams<br>Position:LE<br>Role:Pass Rush",
            "nflId:42444.0<br>displayName:Trey Flowers<br>Position:DRT<br>Role:Pass Rush",
            "nflId:43775.0<br>displayName:Romeo Okwara<br>Position:LEO<br>Role:Pass Rush",
            "nflId:44834.0<br>displayName:Charles Harris<br>Position:ROLB<br>Role:Coverage",
            "nflId:44888.0<br>displayName:Alex Anzalone<br>Position:LILB<br>Role:Pass Rush",
            "nflId:46151.0<br>displayName:Tracy Walker<br>Position:FS<br>Role:Coverage",
            "nflId:47864.0<br>displayName:Will Harris<br>Position:FSR<br>Role:Coverage",
            "nflId:47929.0<br>displayName:Amani Oruwariye<br>Position:RCB<br>Role:Coverage",
            "nflId:53530.0<br>displayName:Ifeatu Melifonwu<br>Position:LCB<br>Role:Coverage",
            "nflId:53957.0<br>displayName:A.J. Parker<br>Position:SCBoR<br>Role:Coverage"
           ],
           "marker": {
            "color": "#0076B6"
           },
           "mode": "markers",
           "name": "DET",
           "type": "scatter",
           "x": [
            82.7,
            94.86,
            96.08,
            98.21,
            83.17,
            88.31,
            81.1,
            58.55,
            67.18,
            71.87,
            77.83
           ],
           "y": [
            39.44,
            29.63,
            27.93,
            30.93,
            24.77,
            32.28,
            37.54,
            22.94,
            15.08,
            33.83,
            15.92
           ]
          },
          {
           "hoverinfo": "none",
           "marker": {
            "color": "#CBB67C"
           },
           "mode": "markers",
           "name": "football",
           "type": "scatter",
           "x": [
            95.45
           ],
           "y": [
            29.54
           ]
          }
         ],
         "name": "49"
        },
        {
         "data": [
          {
           "hoverinfo": "none",
           "mode": "text",
           "showlegend": false,
           "text": [
            "10",
            "20",
            "30",
            "40",
            "50",
            "40",
            "30",
            "20",
            "10"
           ],
           "textfont": {
            "color": "#ffffff",
            "family": "Courier New, monospace",
            "size": 30
           },
           "type": "scatter",
           "x": [
            20,
            30,
            40,
            50,
            60,
            70,
            80,
            90,
            100
           ],
           "y": [
            5,
            5,
            5,
            5,
            5,
            5,
            5,
            5,
            5
           ]
          },
          {
           "hoverinfo": "none",
           "mode": "text",
           "showlegend": false,
           "text": [
            "10",
            "20",
            "30",
            "40",
            "50",
            "40",
            "30",
            "20",
            "10"
           ],
           "textfont": {
            "color": "#ffffff",
            "family": "Courier New, monospace",
            "size": 30
           },
           "type": "scatter",
           "x": [
            20,
            30,
            40,
            50,
            60,
            70,
            80,
            90,
            100
           ],
           "y": [
            48.5,
            48.5,
            48.5,
            48.5,
            48.5,
            48.5,
            48.5,
            48.5,
            48.5
           ]
          },
          {
           "hoverinfo": "none",
           "line": {
            "color": "blue",
            "dash": "dash"
           },
           "showlegend": false,
           "type": "scatter",
           "x": [
            87,
            87
           ],
           "y": [
            0,
            53.5
           ]
          },
          {
           "hoverinfo": "none",
           "line": {
            "color": "yellow",
            "dash": "dash"
           },
           "showlegend": false,
           "type": "scatter",
           "x": [
            92,
            92
           ],
           "y": [
            0,
            53.5
           ]
          },
          {
           "hoverinfo": "text",
           "hovertext": [
            "nflId:29851.0<br>displayName:Aaron Rodgers<br>Position:QB<br>Role:Pass",
            "nflId:41282.0<br>displayName:Davante Adams<br>Position:RWR<br>Role:Pass Route",
            "nflId:41296.0<br>displayName:Billy Turner<br>Position:RT<br>Role:Pass Block",
            "nflId:45635.0<br>displayName:Robert Tonyan<br>Position:SLiWR<br>Role:Pass Route",
            "nflId:46243.0<br>displayName:Marquez Valdes-Scantling<br>Position:LWR<br>Role:Pass Route",
            "nflId:46705.0<br>displayName:Allen Lazard<br>Position:SLoWR<br>Role:Pass Route",
            "nflId:47827.0<br>displayName:Elgton Jenkins<br>Position:LT<br>Role:Pass Block",
            "nflId:52470.0<br>displayName:A.J. Dillon<br>Position:HB-R<br>Role:Pass Block",
            "nflId:52600.0<br>displayName:Jon Runyan<br>Position:LG<br>Role:Pass Block",
            "nflId:53491.0<br>displayName:Josh Myers<br>Position:C<br>Role:Pass Block",
            "nflId:53571.0<br>displayName:Royce Newman<br>Position:RG<br>Role:Pass Block"
           ],
           "marker": {
            "color": "#203731"
           },
           "mode": "markers",
           "name": "GB",
           "type": "scatter",
           "x": [
            95.48,
            73.78,
            98.27,
            74.05,
            65.32,
            82.65,
            95.58,
            91.6,
            90.92,
            90.48,
            91.97
           ],
           "y": [
            29.81,
            28.02,
            31.38,
            11.27,
            19.15,
            43.52,
            28.59,
            34.9,
            33.32,
            30.82,
            30.31
           ]
          },
          {
           "hoverinfo": "text",
           "hovertext": [
            "nflId:40000.0<br>displayName:Jamie Collins<br>Position:RILB<br>Role:Coverage",
            "nflId:40171.0<br>displayName:Nicholas Williams<br>Position:LE<br>Role:Pass Rush",
            "nflId:42444.0<br>displayName:Trey Flowers<br>Position:DRT<br>Role:Pass Rush",
            "nflId:43775.0<br>displayName:Romeo Okwara<br>Position:LEO<br>Role:Pass Rush",
            "nflId:44834.0<br>displayName:Charles Harris<br>Position:ROLB<br>Role:Coverage",
            "nflId:44888.0<br>displayName:Alex Anzalone<br>Position:LILB<br>Role:Pass Rush",
            "nflId:46151.0<br>displayName:Tracy Walker<br>Position:FS<br>Role:Coverage",
            "nflId:47864.0<br>displayName:Will Harris<br>Position:FSR<br>Role:Coverage",
            "nflId:47929.0<br>displayName:Amani Oruwariye<br>Position:RCB<br>Role:Coverage",
            "nflId:53530.0<br>displayName:Ifeatu Melifonwu<br>Position:LCB<br>Role:Coverage",
            "nflId:53957.0<br>displayName:A.J. Parker<br>Position:SCBoR<br>Role:Coverage"
           ],
           "marker": {
            "color": "#0076B6"
           },
           "mode": "markers",
           "name": "DET",
           "type": "scatter",
           "x": [
            82.72,
            95.15,
            96.23,
            98.07,
            83.32,
            88.29,
            81.26,
            57.97,
            66.47,
            71.92,
            77.74
           ],
           "y": [
            39.73,
            29.67,
            28.06,
            30.76,
            24.89,
            32.35,
            37.53,
            22.98,
            15.02,
            33.26,
            15.93
           ]
          },
          {
           "hoverinfo": "none",
           "marker": {
            "color": "#CBB67C"
           },
           "mode": "markers",
           "name": "football",
           "type": "scatter",
           "x": [
            95.45
           ],
           "y": [
            29.64
           ]
          }
         ],
         "name": "50"
        },
        {
         "data": [
          {
           "hoverinfo": "none",
           "mode": "text",
           "showlegend": false,
           "text": [
            "10",
            "20",
            "30",
            "40",
            "50",
            "40",
            "30",
            "20",
            "10"
           ],
           "textfont": {
            "color": "#ffffff",
            "family": "Courier New, monospace",
            "size": 30
           },
           "type": "scatter",
           "x": [
            20,
            30,
            40,
            50,
            60,
            70,
            80,
            90,
            100
           ],
           "y": [
            5,
            5,
            5,
            5,
            5,
            5,
            5,
            5,
            5
           ]
          },
          {
           "hoverinfo": "none",
           "mode": "text",
           "showlegend": false,
           "text": [
            "10",
            "20",
            "30",
            "40",
            "50",
            "40",
            "30",
            "20",
            "10"
           ],
           "textfont": {
            "color": "#ffffff",
            "family": "Courier New, monospace",
            "size": 30
           },
           "type": "scatter",
           "x": [
            20,
            30,
            40,
            50,
            60,
            70,
            80,
            90,
            100
           ],
           "y": [
            48.5,
            48.5,
            48.5,
            48.5,
            48.5,
            48.5,
            48.5,
            48.5,
            48.5
           ]
          },
          {
           "hoverinfo": "none",
           "line": {
            "color": "blue",
            "dash": "dash"
           },
           "showlegend": false,
           "type": "scatter",
           "x": [
            87,
            87
           ],
           "y": [
            0,
            53.5
           ]
          },
          {
           "hoverinfo": "none",
           "line": {
            "color": "yellow",
            "dash": "dash"
           },
           "showlegend": false,
           "type": "scatter",
           "x": [
            92,
            92
           ],
           "y": [
            0,
            53.5
           ]
          },
          {
           "hoverinfo": "text",
           "hovertext": [
            "nflId:29851.0<br>displayName:Aaron Rodgers<br>Position:QB<br>Role:Pass",
            "nflId:41282.0<br>displayName:Davante Adams<br>Position:RWR<br>Role:Pass Route",
            "nflId:41296.0<br>displayName:Billy Turner<br>Position:RT<br>Role:Pass Block",
            "nflId:45635.0<br>displayName:Robert Tonyan<br>Position:SLiWR<br>Role:Pass Route",
            "nflId:46243.0<br>displayName:Marquez Valdes-Scantling<br>Position:LWR<br>Role:Pass Route",
            "nflId:46705.0<br>displayName:Allen Lazard<br>Position:SLoWR<br>Role:Pass Route",
            "nflId:47827.0<br>displayName:Elgton Jenkins<br>Position:LT<br>Role:Pass Block",
            "nflId:52470.0<br>displayName:A.J. Dillon<br>Position:HB-R<br>Role:Pass Block",
            "nflId:52600.0<br>displayName:Jon Runyan<br>Position:LG<br>Role:Pass Block",
            "nflId:53491.0<br>displayName:Josh Myers<br>Position:C<br>Role:Pass Block",
            "nflId:53571.0<br>displayName:Royce Newman<br>Position:RG<br>Role:Pass Block"
           ],
           "marker": {
            "color": "#203731"
           },
           "mode": "markers",
           "name": "GB",
           "type": "scatter",
           "x": [
            95.45,
            73.89,
            98.36,
            73.97,
            64.6,
            82.4,
            95.57,
            91.4,
            90.94,
            90.41,
            91.97
           ],
           "y": [
            29.96,
            27.43,
            31.2,
            10.75,
            19.37,
            44.16,
            28.63,
            34.99,
            33.19,
            30.89,
            30.21
           ]
          },
          {
           "hoverinfo": "text",
           "hovertext": [
            "nflId:40000.0<br>displayName:Jamie Collins<br>Position:RILB<br>Role:Coverage",
            "nflId:40171.0<br>displayName:Nicholas Williams<br>Position:LE<br>Role:Pass Rush",
            "nflId:42444.0<br>displayName:Trey Flowers<br>Position:DRT<br>Role:Pass Rush",
            "nflId:43775.0<br>displayName:Romeo Okwara<br>Position:LEO<br>Role:Pass Rush",
            "nflId:44834.0<br>displayName:Charles Harris<br>Position:ROLB<br>Role:Coverage",
            "nflId:44888.0<br>displayName:Alex Anzalone<br>Position:LILB<br>Role:Pass Rush",
            "nflId:46151.0<br>displayName:Tracy Walker<br>Position:FS<br>Role:Coverage",
            "nflId:47864.0<br>displayName:Will Harris<br>Position:FSR<br>Role:Coverage",
            "nflId:47929.0<br>displayName:Amani Oruwariye<br>Position:RCB<br>Role:Coverage",
            "nflId:53530.0<br>displayName:Ifeatu Melifonwu<br>Position:LCB<br>Role:Coverage",
            "nflId:53957.0<br>displayName:A.J. Parker<br>Position:SCBoR<br>Role:Coverage"
           ],
           "marker": {
            "color": "#0076B6"
           },
           "mode": "markers",
           "name": "DET",
           "type": "scatter",
           "x": [
            82.76,
            95.44,
            96.37,
            97.88,
            83.49,
            88.31,
            81.47,
            57.4,
            65.77,
            72.01,
            77.67
           ],
           "y": [
            39.97,
            29.73,
            28.2,
            30.61,
            25.06,
            32.46,
            37.5,
            23.05,
            14.99,
            32.68,
            16
           ]
          },
          {
           "hoverinfo": "none",
           "marker": {
            "color": "#CBB67C"
           },
           "mode": "markers",
           "name": "football",
           "type": "scatter",
           "x": [
            95.46
           ],
           "y": [
            29.72
           ]
          }
         ],
         "name": "51"
        },
        {
         "data": [
          {
           "hoverinfo": "none",
           "mode": "text",
           "showlegend": false,
           "text": [
            "10",
            "20",
            "30",
            "40",
            "50",
            "40",
            "30",
            "20",
            "10"
           ],
           "textfont": {
            "color": "#ffffff",
            "family": "Courier New, monospace",
            "size": 30
           },
           "type": "scatter",
           "x": [
            20,
            30,
            40,
            50,
            60,
            70,
            80,
            90,
            100
           ],
           "y": [
            5,
            5,
            5,
            5,
            5,
            5,
            5,
            5,
            5
           ]
          },
          {
           "hoverinfo": "none",
           "mode": "text",
           "showlegend": false,
           "text": [
            "10",
            "20",
            "30",
            "40",
            "50",
            "40",
            "30",
            "20",
            "10"
           ],
           "textfont": {
            "color": "#ffffff",
            "family": "Courier New, monospace",
            "size": 30
           },
           "type": "scatter",
           "x": [
            20,
            30,
            40,
            50,
            60,
            70,
            80,
            90,
            100
           ],
           "y": [
            48.5,
            48.5,
            48.5,
            48.5,
            48.5,
            48.5,
            48.5,
            48.5,
            48.5
           ]
          },
          {
           "hoverinfo": "none",
           "line": {
            "color": "blue",
            "dash": "dash"
           },
           "showlegend": false,
           "type": "scatter",
           "x": [
            87,
            87
           ],
           "y": [
            0,
            53.5
           ]
          },
          {
           "hoverinfo": "none",
           "line": {
            "color": "yellow",
            "dash": "dash"
           },
           "showlegend": false,
           "type": "scatter",
           "x": [
            92,
            92
           ],
           "y": [
            0,
            53.5
           ]
          },
          {
           "hoverinfo": "text",
           "hovertext": [
            "nflId:29851.0<br>displayName:Aaron Rodgers<br>Position:QB<br>Role:Pass",
            "nflId:41282.0<br>displayName:Davante Adams<br>Position:RWR<br>Role:Pass Route",
            "nflId:41296.0<br>displayName:Billy Turner<br>Position:RT<br>Role:Pass Block",
            "nflId:45635.0<br>displayName:Robert Tonyan<br>Position:SLiWR<br>Role:Pass Route",
            "nflId:46243.0<br>displayName:Marquez Valdes-Scantling<br>Position:LWR<br>Role:Pass Route",
            "nflId:46705.0<br>displayName:Allen Lazard<br>Position:SLoWR<br>Role:Pass Route",
            "nflId:47827.0<br>displayName:Elgton Jenkins<br>Position:LT<br>Role:Pass Block",
            "nflId:52470.0<br>displayName:A.J. Dillon<br>Position:HB-R<br>Role:Pass Block",
            "nflId:52600.0<br>displayName:Jon Runyan<br>Position:LG<br>Role:Pass Block",
            "nflId:53491.0<br>displayName:Josh Myers<br>Position:C<br>Role:Pass Block",
            "nflId:53571.0<br>displayName:Royce Newman<br>Position:RG<br>Role:Pass Block"
           ],
           "marker": {
            "color": "#203731"
           },
           "mode": "markers",
           "name": "GB",
           "type": "scatter",
           "x": [
            95.41,
            74.01,
            98.43,
            73.91,
            63.91,
            82.11,
            95.56,
            91.18,
            90.96,
            90.39,
            91.98
           ],
           "y": [
            30.11,
            26.87,
            31.03,
            10.25,
            19.62,
            44.77,
            28.66,
            35.04,
            33.06,
            30.98,
            30.13
           ]
          },
          {
           "hoverinfo": "text",
           "hovertext": [
            "nflId:40000.0<br>displayName:Jamie Collins<br>Position:RILB<br>Role:Coverage",
            "nflId:40171.0<br>displayName:Nicholas Williams<br>Position:LE<br>Role:Pass Rush",
            "nflId:42444.0<br>displayName:Trey Flowers<br>Position:DRT<br>Role:Pass Rush",
            "nflId:43775.0<br>displayName:Romeo Okwara<br>Position:LEO<br>Role:Pass Rush",
            "nflId:44834.0<br>displayName:Charles Harris<br>Position:ROLB<br>Role:Coverage",
            "nflId:44888.0<br>displayName:Alex Anzalone<br>Position:LILB<br>Role:Pass Rush",
            "nflId:46151.0<br>displayName:Tracy Walker<br>Position:FS<br>Role:Coverage",
            "nflId:47864.0<br>displayName:Will Harris<br>Position:FSR<br>Role:Coverage",
            "nflId:47929.0<br>displayName:Amani Oruwariye<br>Position:RCB<br>Role:Coverage",
            "nflId:53530.0<br>displayName:Ifeatu Melifonwu<br>Position:LCB<br>Role:Coverage",
            "nflId:53957.0<br>displayName:A.J. Parker<br>Position:SCBoR<br>Role:Coverage"
           ],
           "marker": {
            "color": "#0076B6"
           },
           "mode": "markers",
           "name": "DET",
           "type": "scatter",
           "x": [
            82.82,
            95.7,
            96.49,
            97.65,
            83.68,
            88.35,
            81.71,
            56.85,
            65.09,
            72.13,
            77.61
           ],
           "y": [
            40.15,
            29.78,
            28.33,
            30.49,
            25.26,
            32.61,
            37.46,
            23.13,
            14.99,
            32.09,
            16.1
           ]
          },
          {
           "hoverinfo": "none",
           "marker": {
            "color": "#CBB67C"
           },
           "mode": "markers",
           "name": "football",
           "type": "scatter",
           "x": [
            95.46
           ],
           "y": [
            29.82
           ]
          }
         ],
         "name": "52"
        },
        {
         "data": [
          {
           "hoverinfo": "none",
           "mode": "text",
           "showlegend": false,
           "text": [
            "10",
            "20",
            "30",
            "40",
            "50",
            "40",
            "30",
            "20",
            "10"
           ],
           "textfont": {
            "color": "#ffffff",
            "family": "Courier New, monospace",
            "size": 30
           },
           "type": "scatter",
           "x": [
            20,
            30,
            40,
            50,
            60,
            70,
            80,
            90,
            100
           ],
           "y": [
            5,
            5,
            5,
            5,
            5,
            5,
            5,
            5,
            5
           ]
          },
          {
           "hoverinfo": "none",
           "mode": "text",
           "showlegend": false,
           "text": [
            "10",
            "20",
            "30",
            "40",
            "50",
            "40",
            "30",
            "20",
            "10"
           ],
           "textfont": {
            "color": "#ffffff",
            "family": "Courier New, monospace",
            "size": 30
           },
           "type": "scatter",
           "x": [
            20,
            30,
            40,
            50,
            60,
            70,
            80,
            90,
            100
           ],
           "y": [
            48.5,
            48.5,
            48.5,
            48.5,
            48.5,
            48.5,
            48.5,
            48.5,
            48.5
           ]
          },
          {
           "hoverinfo": "none",
           "line": {
            "color": "blue",
            "dash": "dash"
           },
           "showlegend": false,
           "type": "scatter",
           "x": [
            87,
            87
           ],
           "y": [
            0,
            53.5
           ]
          },
          {
           "hoverinfo": "none",
           "line": {
            "color": "yellow",
            "dash": "dash"
           },
           "showlegend": false,
           "type": "scatter",
           "x": [
            92,
            92
           ],
           "y": [
            0,
            53.5
           ]
          },
          {
           "hoverinfo": "text",
           "hovertext": [
            "nflId:29851.0<br>displayName:Aaron Rodgers<br>Position:QB<br>Role:Pass",
            "nflId:41282.0<br>displayName:Davante Adams<br>Position:RWR<br>Role:Pass Route",
            "nflId:41296.0<br>displayName:Billy Turner<br>Position:RT<br>Role:Pass Block",
            "nflId:45635.0<br>displayName:Robert Tonyan<br>Position:SLiWR<br>Role:Pass Route",
            "nflId:46243.0<br>displayName:Marquez Valdes-Scantling<br>Position:LWR<br>Role:Pass Route",
            "nflId:46705.0<br>displayName:Allen Lazard<br>Position:SLoWR<br>Role:Pass Route",
            "nflId:47827.0<br>displayName:Elgton Jenkins<br>Position:LT<br>Role:Pass Block",
            "nflId:52470.0<br>displayName:A.J. Dillon<br>Position:HB-R<br>Role:Pass Block",
            "nflId:52600.0<br>displayName:Jon Runyan<br>Position:LG<br>Role:Pass Block",
            "nflId:53491.0<br>displayName:Josh Myers<br>Position:C<br>Role:Pass Block",
            "nflId:53571.0<br>displayName:Royce Newman<br>Position:RG<br>Role:Pass Block"
           ],
           "marker": {
            "color": "#203731"
           },
           "mode": "markers",
           "name": "GB",
           "type": "scatter",
           "x": [
            95.4,
            74.14,
            98.47,
            73.84,
            63.23,
            81.79,
            95.54,
            90.94,
            91.01,
            90.38,
            92
           ],
           "y": [
            30.2,
            26.34,
            30.86,
            9.77,
            19.87,
            45.32,
            28.69,
            35.05,
            32.91,
            31.09,
            30.07
           ]
          },
          {
           "hoverinfo": "text",
           "hovertext": [
            "nflId:40000.0<br>displayName:Jamie Collins<br>Position:RILB<br>Role:Coverage",
            "nflId:40171.0<br>displayName:Nicholas Williams<br>Position:LE<br>Role:Pass Rush",
            "nflId:42444.0<br>displayName:Trey Flowers<br>Position:DRT<br>Role:Pass Rush",
            "nflId:43775.0<br>displayName:Romeo Okwara<br>Position:LEO<br>Role:Pass Rush",
            "nflId:44834.0<br>displayName:Charles Harris<br>Position:ROLB<br>Role:Coverage",
            "nflId:44888.0<br>displayName:Alex Anzalone<br>Position:LILB<br>Role:Pass Rush",
            "nflId:46151.0<br>displayName:Tracy Walker<br>Position:FS<br>Role:Coverage",
            "nflId:47864.0<br>displayName:Will Harris<br>Position:FSR<br>Role:Coverage",
            "nflId:47929.0<br>displayName:Amani Oruwariye<br>Position:RCB<br>Role:Coverage",
            "nflId:53530.0<br>displayName:Ifeatu Melifonwu<br>Position:LCB<br>Role:Coverage",
            "nflId:53957.0<br>displayName:A.J. Parker<br>Position:SCBoR<br>Role:Coverage"
           ],
           "marker": {
            "color": "#0076B6"
           },
           "mode": "markers",
           "name": "DET",
           "type": "scatter",
           "x": [
            82.9,
            95.92,
            96.59,
            97.38,
            83.9,
            88.46,
            82,
            56.31,
            64.42,
            72.26,
            77.56
           ],
           "y": [
            40.3,
            29.89,
            28.46,
            30.4,
            25.48,
            32.77,
            37.4,
            23.23,
            15.02,
            31.49,
            16.25
           ]
          },
          {
           "hoverinfo": "none",
           "marker": {
            "color": "#CBB67C"
           },
           "mode": "markers",
           "name": "football",
           "type": "scatter",
           "x": [
            95.47
           ],
           "y": [
            29.87
           ]
          }
         ],
         "name": "53"
        },
        {
         "data": [
          {
           "hoverinfo": "none",
           "mode": "text",
           "showlegend": false,
           "text": [
            "10",
            "20",
            "30",
            "40",
            "50",
            "40",
            "30",
            "20",
            "10"
           ],
           "textfont": {
            "color": "#ffffff",
            "family": "Courier New, monospace",
            "size": 30
           },
           "type": "scatter",
           "x": [
            20,
            30,
            40,
            50,
            60,
            70,
            80,
            90,
            100
           ],
           "y": [
            5,
            5,
            5,
            5,
            5,
            5,
            5,
            5,
            5
           ]
          },
          {
           "hoverinfo": "none",
           "mode": "text",
           "showlegend": false,
           "text": [
            "10",
            "20",
            "30",
            "40",
            "50",
            "40",
            "30",
            "20",
            "10"
           ],
           "textfont": {
            "color": "#ffffff",
            "family": "Courier New, monospace",
            "size": 30
           },
           "type": "scatter",
           "x": [
            20,
            30,
            40,
            50,
            60,
            70,
            80,
            90,
            100
           ],
           "y": [
            48.5,
            48.5,
            48.5,
            48.5,
            48.5,
            48.5,
            48.5,
            48.5,
            48.5
           ]
          },
          {
           "hoverinfo": "none",
           "line": {
            "color": "blue",
            "dash": "dash"
           },
           "showlegend": false,
           "type": "scatter",
           "x": [
            87,
            87
           ],
           "y": [
            0,
            53.5
           ]
          },
          {
           "hoverinfo": "none",
           "line": {
            "color": "yellow",
            "dash": "dash"
           },
           "showlegend": false,
           "type": "scatter",
           "x": [
            92,
            92
           ],
           "y": [
            0,
            53.5
           ]
          },
          {
           "hoverinfo": "text",
           "hovertext": [
            "nflId:29851.0<br>displayName:Aaron Rodgers<br>Position:QB<br>Role:Pass",
            "nflId:41282.0<br>displayName:Davante Adams<br>Position:RWR<br>Role:Pass Route",
            "nflId:41296.0<br>displayName:Billy Turner<br>Position:RT<br>Role:Pass Block",
            "nflId:45635.0<br>displayName:Robert Tonyan<br>Position:SLiWR<br>Role:Pass Route",
            "nflId:46243.0<br>displayName:Marquez Valdes-Scantling<br>Position:LWR<br>Role:Pass Route",
            "nflId:46705.0<br>displayName:Allen Lazard<br>Position:SLoWR<br>Role:Pass Route",
            "nflId:47827.0<br>displayName:Elgton Jenkins<br>Position:LT<br>Role:Pass Block",
            "nflId:52470.0<br>displayName:A.J. Dillon<br>Position:HB-R<br>Role:Pass Block",
            "nflId:52600.0<br>displayName:Jon Runyan<br>Position:LG<br>Role:Pass Block",
            "nflId:53491.0<br>displayName:Josh Myers<br>Position:C<br>Role:Pass Block",
            "nflId:53571.0<br>displayName:Royce Newman<br>Position:RG<br>Role:Pass Block"
           ],
           "marker": {
            "color": "#203731"
           },
           "mode": "markers",
           "name": "GB",
           "type": "scatter",
           "x": [
            95.39,
            74.26,
            98.49,
            73.79,
            62.59,
            81.44,
            95.53,
            90.7,
            91.07,
            90.38,
            92.04
           ],
           "y": [
            30.3,
            25.84,
            30.72,
            9.31,
            20.14,
            45.82,
            28.72,
            35.04,
            32.76,
            31.23,
            30.03
           ]
          },
          {
           "hoverinfo": "text",
           "hovertext": [
            "nflId:40000.0<br>displayName:Jamie Collins<br>Position:RILB<br>Role:Coverage",
            "nflId:40171.0<br>displayName:Nicholas Williams<br>Position:LE<br>Role:Pass Rush",
            "nflId:42444.0<br>displayName:Trey Flowers<br>Position:DRT<br>Role:Pass Rush",
            "nflId:43775.0<br>displayName:Romeo Okwara<br>Position:LEO<br>Role:Pass Rush",
            "nflId:44834.0<br>displayName:Charles Harris<br>Position:ROLB<br>Role:Coverage",
            "nflId:44888.0<br>displayName:Alex Anzalone<br>Position:LILB<br>Role:Pass Rush",
            "nflId:46151.0<br>displayName:Tracy Walker<br>Position:FS<br>Role:Coverage",
            "nflId:47864.0<br>displayName:Will Harris<br>Position:FSR<br>Role:Coverage",
            "nflId:47929.0<br>displayName:Amani Oruwariye<br>Position:RCB<br>Role:Coverage",
            "nflId:53530.0<br>displayName:Ifeatu Melifonwu<br>Position:LCB<br>Role:Coverage",
            "nflId:53957.0<br>displayName:A.J. Parker<br>Position:SCBoR<br>Role:Coverage"
           ],
           "marker": {
            "color": "#0076B6"
           },
           "mode": "markers",
           "name": "DET",
           "type": "scatter",
           "x": [
            83,
            96.08,
            96.66,
            97.09,
            84.14,
            88.61,
            82.31,
            55.79,
            63.76,
            72.4,
            77.53
           ],
           "y": [
            40.41,
            29.99,
            28.58,
            30.34,
            25.72,
            32.94,
            37.32,
            23.36,
            15.07,
            30.9,
            16.42
           ]
          },
          {
           "hoverinfo": "none",
           "marker": {
            "color": "#CBB67C"
           },
           "mode": "markers",
           "name": "football",
           "type": "scatter",
           "x": [
            95.48
           ],
           "y": [
            29.95
           ]
          }
         ],
         "name": "54"
        },
        {
         "data": [
          {
           "hoverinfo": "none",
           "mode": "text",
           "showlegend": false,
           "text": [
            "10",
            "20",
            "30",
            "40",
            "50",
            "40",
            "30",
            "20",
            "10"
           ],
           "textfont": {
            "color": "#ffffff",
            "family": "Courier New, monospace",
            "size": 30
           },
           "type": "scatter",
           "x": [
            20,
            30,
            40,
            50,
            60,
            70,
            80,
            90,
            100
           ],
           "y": [
            5,
            5,
            5,
            5,
            5,
            5,
            5,
            5,
            5
           ]
          },
          {
           "hoverinfo": "none",
           "mode": "text",
           "showlegend": false,
           "text": [
            "10",
            "20",
            "30",
            "40",
            "50",
            "40",
            "30",
            "20",
            "10"
           ],
           "textfont": {
            "color": "#ffffff",
            "family": "Courier New, monospace",
            "size": 30
           },
           "type": "scatter",
           "x": [
            20,
            30,
            40,
            50,
            60,
            70,
            80,
            90,
            100
           ],
           "y": [
            48.5,
            48.5,
            48.5,
            48.5,
            48.5,
            48.5,
            48.5,
            48.5,
            48.5
           ]
          },
          {
           "hoverinfo": "none",
           "line": {
            "color": "blue",
            "dash": "dash"
           },
           "showlegend": false,
           "type": "scatter",
           "x": [
            87,
            87
           ],
           "y": [
            0,
            53.5
           ]
          },
          {
           "hoverinfo": "none",
           "line": {
            "color": "yellow",
            "dash": "dash"
           },
           "showlegend": false,
           "type": "scatter",
           "x": [
            92,
            92
           ],
           "y": [
            0,
            53.5
           ]
          },
          {
           "hoverinfo": "text",
           "hovertext": [
            "nflId:29851.0<br>displayName:Aaron Rodgers<br>Position:QB<br>Role:Pass",
            "nflId:41282.0<br>displayName:Davante Adams<br>Position:RWR<br>Role:Pass Route",
            "nflId:41296.0<br>displayName:Billy Turner<br>Position:RT<br>Role:Pass Block",
            "nflId:45635.0<br>displayName:Robert Tonyan<br>Position:SLiWR<br>Role:Pass Route",
            "nflId:46243.0<br>displayName:Marquez Valdes-Scantling<br>Position:LWR<br>Role:Pass Route",
            "nflId:46705.0<br>displayName:Allen Lazard<br>Position:SLoWR<br>Role:Pass Route",
            "nflId:47827.0<br>displayName:Elgton Jenkins<br>Position:LT<br>Role:Pass Block",
            "nflId:52470.0<br>displayName:A.J. Dillon<br>Position:HB-R<br>Role:Pass Block",
            "nflId:52600.0<br>displayName:Jon Runyan<br>Position:LG<br>Role:Pass Block",
            "nflId:53491.0<br>displayName:Josh Myers<br>Position:C<br>Role:Pass Block",
            "nflId:53571.0<br>displayName:Royce Newman<br>Position:RG<br>Role:Pass Block"
           ],
           "marker": {
            "color": "#203731"
           },
           "mode": "markers",
           "name": "GB",
           "type": "scatter",
           "x": [
            95.45,
            74.38,
            98.49,
            73.75,
            61.97,
            81.06,
            95.52,
            90.46,
            91.15,
            90.41,
            92.08
           ],
           "y": [
            30.31,
            25.36,
            30.6,
            8.86,
            20.43,
            46.28,
            28.73,
            35,
            32.6,
            31.37,
            30
           ]
          },
          {
           "hoverinfo": "text",
           "hovertext": [
            "nflId:40000.0<br>displayName:Jamie Collins<br>Position:RILB<br>Role:Coverage",
            "nflId:40171.0<br>displayName:Nicholas Williams<br>Position:LE<br>Role:Pass Rush",
            "nflId:42444.0<br>displayName:Trey Flowers<br>Position:DRT<br>Role:Pass Rush",
            "nflId:43775.0<br>displayName:Romeo Okwara<br>Position:LEO<br>Role:Pass Rush",
            "nflId:44834.0<br>displayName:Charles Harris<br>Position:ROLB<br>Role:Coverage",
            "nflId:44888.0<br>displayName:Alex Anzalone<br>Position:LILB<br>Role:Pass Rush",
            "nflId:46151.0<br>displayName:Tracy Walker<br>Position:FS<br>Role:Coverage",
            "nflId:47864.0<br>displayName:Will Harris<br>Position:FSR<br>Role:Coverage",
            "nflId:47929.0<br>displayName:Amani Oruwariye<br>Position:RCB<br>Role:Coverage",
            "nflId:53530.0<br>displayName:Ifeatu Melifonwu<br>Position:LCB<br>Role:Coverage",
            "nflId:53957.0<br>displayName:A.J. Parker<br>Position:SCBoR<br>Role:Coverage"
           ],
           "marker": {
            "color": "#0076B6"
           },
           "mode": "markers",
           "name": "DET",
           "type": "scatter",
           "x": [
            83.13,
            96.22,
            96.71,
            96.79,
            84.39,
            88.79,
            82.65,
            55.3,
            63.13,
            72.57,
            77.51
           ],
           "y": [
            40.49,
            30.09,
            28.71,
            30.31,
            25.97,
            33.1,
            37.23,
            23.5,
            15.14,
            30.3,
            16.62
           ]
          },
          {
           "hoverinfo": "none",
           "marker": {
            "color": "#CBB67C"
           },
           "mode": "markers",
           "name": "football",
           "type": "scatter",
           "x": [
            95.49
           ],
           "y": [
            29.96
           ]
          }
         ],
         "name": "55"
        },
        {
         "data": [
          {
           "hoverinfo": "none",
           "mode": "text",
           "showlegend": false,
           "text": [
            "10",
            "20",
            "30",
            "40",
            "50",
            "40",
            "30",
            "20",
            "10"
           ],
           "textfont": {
            "color": "#ffffff",
            "family": "Courier New, monospace",
            "size": 30
           },
           "type": "scatter",
           "x": [
            20,
            30,
            40,
            50,
            60,
            70,
            80,
            90,
            100
           ],
           "y": [
            5,
            5,
            5,
            5,
            5,
            5,
            5,
            5,
            5
           ]
          },
          {
           "hoverinfo": "none",
           "mode": "text",
           "showlegend": false,
           "text": [
            "10",
            "20",
            "30",
            "40",
            "50",
            "40",
            "30",
            "20",
            "10"
           ],
           "textfont": {
            "color": "#ffffff",
            "family": "Courier New, monospace",
            "size": 30
           },
           "type": "scatter",
           "x": [
            20,
            30,
            40,
            50,
            60,
            70,
            80,
            90,
            100
           ],
           "y": [
            48.5,
            48.5,
            48.5,
            48.5,
            48.5,
            48.5,
            48.5,
            48.5,
            48.5
           ]
          },
          {
           "hoverinfo": "none",
           "line": {
            "color": "blue",
            "dash": "dash"
           },
           "showlegend": false,
           "type": "scatter",
           "x": [
            87,
            87
           ],
           "y": [
            0,
            53.5
           ]
          },
          {
           "hoverinfo": "none",
           "line": {
            "color": "yellow",
            "dash": "dash"
           },
           "showlegend": false,
           "type": "scatter",
           "x": [
            92,
            92
           ],
           "y": [
            0,
            53.5
           ]
          },
          {
           "hoverinfo": "text",
           "hovertext": [
            "nflId:29851.0<br>displayName:Aaron Rodgers<br>Position:QB<br>Role:Pass",
            "nflId:41282.0<br>displayName:Davante Adams<br>Position:RWR<br>Role:Pass Route",
            "nflId:41296.0<br>displayName:Billy Turner<br>Position:RT<br>Role:Pass Block",
            "nflId:45635.0<br>displayName:Robert Tonyan<br>Position:SLiWR<br>Role:Pass Route",
            "nflId:46243.0<br>displayName:Marquez Valdes-Scantling<br>Position:LWR<br>Role:Pass Route",
            "nflId:46705.0<br>displayName:Allen Lazard<br>Position:SLoWR<br>Role:Pass Route",
            "nflId:47827.0<br>displayName:Elgton Jenkins<br>Position:LT<br>Role:Pass Block",
            "nflId:52470.0<br>displayName:A.J. Dillon<br>Position:HB-R<br>Role:Pass Block",
            "nflId:52600.0<br>displayName:Jon Runyan<br>Position:LG<br>Role:Pass Block",
            "nflId:53491.0<br>displayName:Josh Myers<br>Position:C<br>Role:Pass Block",
            "nflId:53571.0<br>displayName:Royce Newman<br>Position:RG<br>Role:Pass Block"
           ],
           "marker": {
            "color": "#203731"
           },
           "mode": "markers",
           "name": "GB",
           "type": "scatter",
           "x": [
            95.53,
            74.49,
            98.47,
            73.72,
            61.39,
            80.67,
            95.49,
            90.23,
            91.26,
            90.46,
            92.13
           ],
           "y": [
            30.28,
            24.92,
            30.5,
            8.45,
            20.72,
            46.7,
            28.73,
            34.93,
            32.45,
            31.51,
            29.98
           ]
          },
          {
           "hoverinfo": "text",
           "hovertext": [
            "nflId:40000.0<br>displayName:Jamie Collins<br>Position:RILB<br>Role:Coverage",
            "nflId:40171.0<br>displayName:Nicholas Williams<br>Position:LE<br>Role:Pass Rush",
            "nflId:42444.0<br>displayName:Trey Flowers<br>Position:DRT<br>Role:Pass Rush",
            "nflId:43775.0<br>displayName:Romeo Okwara<br>Position:LEO<br>Role:Pass Rush",
            "nflId:44834.0<br>displayName:Charles Harris<br>Position:ROLB<br>Role:Coverage",
            "nflId:44888.0<br>displayName:Alex Anzalone<br>Position:LILB<br>Role:Pass Rush",
            "nflId:46151.0<br>displayName:Tracy Walker<br>Position:FS<br>Role:Coverage",
            "nflId:47864.0<br>displayName:Will Harris<br>Position:FSR<br>Role:Coverage",
            "nflId:47929.0<br>displayName:Amani Oruwariye<br>Position:RCB<br>Role:Coverage",
            "nflId:53530.0<br>displayName:Ifeatu Melifonwu<br>Position:LCB<br>Role:Coverage",
            "nflId:53957.0<br>displayName:A.J. Parker<br>Position:SCBoR<br>Role:Coverage"
           ],
           "marker": {
            "color": "#0076B6"
           },
           "mode": "markers",
           "name": "DET",
           "type": "scatter",
           "x": [
            83.28,
            96.32,
            96.74,
            96.5,
            84.67,
            88.99,
            83,
            54.82,
            62.51,
            72.74,
            77.51
           ],
           "y": [
            40.54,
            30.16,
            28.82,
            30.31,
            26.21,
            33.25,
            37.13,
            23.67,
            15.24,
            29.72,
            16.84
           ]
          },
          {
           "hoverinfo": "none",
           "marker": {
            "color": "#CBB67C"
           },
           "mode": "markers",
           "name": "football",
           "type": "scatter",
           "x": [
            95.49
           ],
           "y": [
            30.02
           ]
          }
         ],
         "name": "56"
        },
        {
         "data": [
          {
           "hoverinfo": "none",
           "mode": "text",
           "showlegend": false,
           "text": [
            "10",
            "20",
            "30",
            "40",
            "50",
            "40",
            "30",
            "20",
            "10"
           ],
           "textfont": {
            "color": "#ffffff",
            "family": "Courier New, monospace",
            "size": 30
           },
           "type": "scatter",
           "x": [
            20,
            30,
            40,
            50,
            60,
            70,
            80,
            90,
            100
           ],
           "y": [
            5,
            5,
            5,
            5,
            5,
            5,
            5,
            5,
            5
           ]
          },
          {
           "hoverinfo": "none",
           "mode": "text",
           "showlegend": false,
           "text": [
            "10",
            "20",
            "30",
            "40",
            "50",
            "40",
            "30",
            "20",
            "10"
           ],
           "textfont": {
            "color": "#ffffff",
            "family": "Courier New, monospace",
            "size": 30
           },
           "type": "scatter",
           "x": [
            20,
            30,
            40,
            50,
            60,
            70,
            80,
            90,
            100
           ],
           "y": [
            48.5,
            48.5,
            48.5,
            48.5,
            48.5,
            48.5,
            48.5,
            48.5,
            48.5
           ]
          },
          {
           "hoverinfo": "none",
           "line": {
            "color": "blue",
            "dash": "dash"
           },
           "showlegend": false,
           "type": "scatter",
           "x": [
            87,
            87
           ],
           "y": [
            0,
            53.5
           ]
          },
          {
           "hoverinfo": "none",
           "line": {
            "color": "yellow",
            "dash": "dash"
           },
           "showlegend": false,
           "type": "scatter",
           "x": [
            92,
            92
           ],
           "y": [
            0,
            53.5
           ]
          },
          {
           "hoverinfo": "text",
           "hovertext": [
            "nflId:29851.0<br>displayName:Aaron Rodgers<br>Position:QB<br>Role:Pass",
            "nflId:41282.0<br>displayName:Davante Adams<br>Position:RWR<br>Role:Pass Route",
            "nflId:41296.0<br>displayName:Billy Turner<br>Position:RT<br>Role:Pass Block",
            "nflId:45635.0<br>displayName:Robert Tonyan<br>Position:SLiWR<br>Role:Pass Route",
            "nflId:46243.0<br>displayName:Marquez Valdes-Scantling<br>Position:LWR<br>Role:Pass Route",
            "nflId:46705.0<br>displayName:Allen Lazard<br>Position:SLoWR<br>Role:Pass Route",
            "nflId:47827.0<br>displayName:Elgton Jenkins<br>Position:LT<br>Role:Pass Block",
            "nflId:52470.0<br>displayName:A.J. Dillon<br>Position:HB-R<br>Role:Pass Block",
            "nflId:52600.0<br>displayName:Jon Runyan<br>Position:LG<br>Role:Pass Block",
            "nflId:53491.0<br>displayName:Josh Myers<br>Position:C<br>Role:Pass Block",
            "nflId:53571.0<br>displayName:Royce Newman<br>Position:RG<br>Role:Pass Block"
           ],
           "marker": {
            "color": "#203731"
           },
           "mode": "markers",
           "name": "GB",
           "type": "scatter",
           "x": [
            95.61,
            74.59,
            98.44,
            73.69,
            60.84,
            80.26,
            95.47,
            90.03,
            91.4,
            90.53,
            92.19
           ],
           "y": [
            30.24,
            24.5,
            30.43,
            8.05,
            21.02,
            47.07,
            28.75,
            34.84,
            32.31,
            31.67,
            29.97
           ]
          },
          {
           "hoverinfo": "text",
           "hovertext": [
            "nflId:40000.0<br>displayName:Jamie Collins<br>Position:RILB<br>Role:Coverage",
            "nflId:40171.0<br>displayName:Nicholas Williams<br>Position:LE<br>Role:Pass Rush",
            "nflId:42444.0<br>displayName:Trey Flowers<br>Position:DRT<br>Role:Pass Rush",
            "nflId:43775.0<br>displayName:Romeo Okwara<br>Position:LEO<br>Role:Pass Rush",
            "nflId:44834.0<br>displayName:Charles Harris<br>Position:ROLB<br>Role:Coverage",
            "nflId:44888.0<br>displayName:Alex Anzalone<br>Position:LILB<br>Role:Pass Rush",
            "nflId:46151.0<br>displayName:Tracy Walker<br>Position:FS<br>Role:Coverage",
            "nflId:47864.0<br>displayName:Will Harris<br>Position:FSR<br>Role:Coverage",
            "nflId:47929.0<br>displayName:Amani Oruwariye<br>Position:RCB<br>Role:Coverage",
            "nflId:53530.0<br>displayName:Ifeatu Melifonwu<br>Position:LCB<br>Role:Coverage",
            "nflId:53957.0<br>displayName:A.J. Parker<br>Position:SCBoR<br>Role:Coverage"
           ],
           "marker": {
            "color": "#0076B6"
           },
           "mode": "markers",
           "name": "DET",
           "type": "scatter",
           "x": [
            83.44,
            96.42,
            96.75,
            96.2,
            84.95,
            89.22,
            83.38,
            54.36,
            61.92,
            72.93,
            77.52
           ],
           "y": [
            40.58,
            30.23,
            28.93,
            30.35,
            26.44,
            33.36,
            37.01,
            23.85,
            15.36,
            29.14,
            17.06
           ]
          },
          {
           "hoverinfo": "none",
           "marker": {
            "color": "#CBB67C"
           },
           "mode": "markers",
           "name": "football",
           "type": "scatter",
           "x": [
            95.5
           ],
           "y": [
            30.05
           ]
          }
         ],
         "name": "57"
        }
       ],
       "layout": {
        "annotations": [
         {
          "align": "center",
          "bgcolor": "#ff7f0e",
          "bordercolor": "black",
          "borderpad": 4,
          "borderwidth": 2,
          "font": {
           "color": "black",
           "family": "Courier New, monospace",
           "size": 16
          },
          "opacity": 1,
          "showarrow": false,
          "text": "3",
          "x": 92,
          "y": 0
         },
         {
          "align": "center",
          "bgcolor": "#ff7f0e",
          "bordercolor": "black",
          "borderpad": 4,
          "borderwidth": 2,
          "font": {
           "color": "black",
           "family": "Courier New, monospace",
           "size": 16
          },
          "opacity": 1,
          "showarrow": false,
          "text": "3",
          "x": 92,
          "y": 53
         }
        ],
        "autosize": false,
        "height": 600,
        "plot_bgcolor": "#00B140",
        "sliders": [
         {
          "active": 0,
          "currentvalue": {
           "font": {
            "size": 20
           },
           "prefix": "Frame:",
           "visible": true,
           "xanchor": "right"
          },
          "len": 0.9,
          "pad": {
           "b": 10,
           "t": 50
          },
          "steps": [
           {
            "args": [
             [
              1
             ],
             {
              "frame": {
               "duration": 100,
               "redraw": false
              },
              "mode": "immediate",
              "transition": {
               "duration": 0
              }
             }
            ],
            "label": "1",
            "method": "animate"
           },
           {
            "args": [
             [
              2
             ],
             {
              "frame": {
               "duration": 100,
               "redraw": false
              },
              "mode": "immediate",
              "transition": {
               "duration": 0
              }
             }
            ],
            "label": "2",
            "method": "animate"
           },
           {
            "args": [
             [
              3
             ],
             {
              "frame": {
               "duration": 100,
               "redraw": false
              },
              "mode": "immediate",
              "transition": {
               "duration": 0
              }
             }
            ],
            "label": "3",
            "method": "animate"
           },
           {
            "args": [
             [
              4
             ],
             {
              "frame": {
               "duration": 100,
               "redraw": false
              },
              "mode": "immediate",
              "transition": {
               "duration": 0
              }
             }
            ],
            "label": "4",
            "method": "animate"
           },
           {
            "args": [
             [
              5
             ],
             {
              "frame": {
               "duration": 100,
               "redraw": false
              },
              "mode": "immediate",
              "transition": {
               "duration": 0
              }
             }
            ],
            "label": "5",
            "method": "animate"
           },
           {
            "args": [
             [
              6
             ],
             {
              "frame": {
               "duration": 100,
               "redraw": false
              },
              "mode": "immediate",
              "transition": {
               "duration": 0
              }
             }
            ],
            "label": "6",
            "method": "animate"
           },
           {
            "args": [
             [
              7
             ],
             {
              "frame": {
               "duration": 100,
               "redraw": false
              },
              "mode": "immediate",
              "transition": {
               "duration": 0
              }
             }
            ],
            "label": "7",
            "method": "animate"
           },
           {
            "args": [
             [
              8
             ],
             {
              "frame": {
               "duration": 100,
               "redraw": false
              },
              "mode": "immediate",
              "transition": {
               "duration": 0
              }
             }
            ],
            "label": "8",
            "method": "animate"
           },
           {
            "args": [
             [
              9
             ],
             {
              "frame": {
               "duration": 100,
               "redraw": false
              },
              "mode": "immediate",
              "transition": {
               "duration": 0
              }
             }
            ],
            "label": "9",
            "method": "animate"
           },
           {
            "args": [
             [
              10
             ],
             {
              "frame": {
               "duration": 100,
               "redraw": false
              },
              "mode": "immediate",
              "transition": {
               "duration": 0
              }
             }
            ],
            "label": "10",
            "method": "animate"
           },
           {
            "args": [
             [
              11
             ],
             {
              "frame": {
               "duration": 100,
               "redraw": false
              },
              "mode": "immediate",
              "transition": {
               "duration": 0
              }
             }
            ],
            "label": "11",
            "method": "animate"
           },
           {
            "args": [
             [
              12
             ],
             {
              "frame": {
               "duration": 100,
               "redraw": false
              },
              "mode": "immediate",
              "transition": {
               "duration": 0
              }
             }
            ],
            "label": "12",
            "method": "animate"
           },
           {
            "args": [
             [
              13
             ],
             {
              "frame": {
               "duration": 100,
               "redraw": false
              },
              "mode": "immediate",
              "transition": {
               "duration": 0
              }
             }
            ],
            "label": "13",
            "method": "animate"
           },
           {
            "args": [
             [
              14
             ],
             {
              "frame": {
               "duration": 100,
               "redraw": false
              },
              "mode": "immediate",
              "transition": {
               "duration": 0
              }
             }
            ],
            "label": "14",
            "method": "animate"
           },
           {
            "args": [
             [
              15
             ],
             {
              "frame": {
               "duration": 100,
               "redraw": false
              },
              "mode": "immediate",
              "transition": {
               "duration": 0
              }
             }
            ],
            "label": "15",
            "method": "animate"
           },
           {
            "args": [
             [
              16
             ],
             {
              "frame": {
               "duration": 100,
               "redraw": false
              },
              "mode": "immediate",
              "transition": {
               "duration": 0
              }
             }
            ],
            "label": "16",
            "method": "animate"
           },
           {
            "args": [
             [
              17
             ],
             {
              "frame": {
               "duration": 100,
               "redraw": false
              },
              "mode": "immediate",
              "transition": {
               "duration": 0
              }
             }
            ],
            "label": "17",
            "method": "animate"
           },
           {
            "args": [
             [
              18
             ],
             {
              "frame": {
               "duration": 100,
               "redraw": false
              },
              "mode": "immediate",
              "transition": {
               "duration": 0
              }
             }
            ],
            "label": "18",
            "method": "animate"
           },
           {
            "args": [
             [
              19
             ],
             {
              "frame": {
               "duration": 100,
               "redraw": false
              },
              "mode": "immediate",
              "transition": {
               "duration": 0
              }
             }
            ],
            "label": "19",
            "method": "animate"
           },
           {
            "args": [
             [
              20
             ],
             {
              "frame": {
               "duration": 100,
               "redraw": false
              },
              "mode": "immediate",
              "transition": {
               "duration": 0
              }
             }
            ],
            "label": "20",
            "method": "animate"
           },
           {
            "args": [
             [
              21
             ],
             {
              "frame": {
               "duration": 100,
               "redraw": false
              },
              "mode": "immediate",
              "transition": {
               "duration": 0
              }
             }
            ],
            "label": "21",
            "method": "animate"
           },
           {
            "args": [
             [
              22
             ],
             {
              "frame": {
               "duration": 100,
               "redraw": false
              },
              "mode": "immediate",
              "transition": {
               "duration": 0
              }
             }
            ],
            "label": "22",
            "method": "animate"
           },
           {
            "args": [
             [
              23
             ],
             {
              "frame": {
               "duration": 100,
               "redraw": false
              },
              "mode": "immediate",
              "transition": {
               "duration": 0
              }
             }
            ],
            "label": "23",
            "method": "animate"
           },
           {
            "args": [
             [
              24
             ],
             {
              "frame": {
               "duration": 100,
               "redraw": false
              },
              "mode": "immediate",
              "transition": {
               "duration": 0
              }
             }
            ],
            "label": "24",
            "method": "animate"
           },
           {
            "args": [
             [
              25
             ],
             {
              "frame": {
               "duration": 100,
               "redraw": false
              },
              "mode": "immediate",
              "transition": {
               "duration": 0
              }
             }
            ],
            "label": "25",
            "method": "animate"
           },
           {
            "args": [
             [
              26
             ],
             {
              "frame": {
               "duration": 100,
               "redraw": false
              },
              "mode": "immediate",
              "transition": {
               "duration": 0
              }
             }
            ],
            "label": "26",
            "method": "animate"
           },
           {
            "args": [
             [
              27
             ],
             {
              "frame": {
               "duration": 100,
               "redraw": false
              },
              "mode": "immediate",
              "transition": {
               "duration": 0
              }
             }
            ],
            "label": "27",
            "method": "animate"
           },
           {
            "args": [
             [
              28
             ],
             {
              "frame": {
               "duration": 100,
               "redraw": false
              },
              "mode": "immediate",
              "transition": {
               "duration": 0
              }
             }
            ],
            "label": "28",
            "method": "animate"
           },
           {
            "args": [
             [
              29
             ],
             {
              "frame": {
               "duration": 100,
               "redraw": false
              },
              "mode": "immediate",
              "transition": {
               "duration": 0
              }
             }
            ],
            "label": "29",
            "method": "animate"
           },
           {
            "args": [
             [
              30
             ],
             {
              "frame": {
               "duration": 100,
               "redraw": false
              },
              "mode": "immediate",
              "transition": {
               "duration": 0
              }
             }
            ],
            "label": "30",
            "method": "animate"
           },
           {
            "args": [
             [
              31
             ],
             {
              "frame": {
               "duration": 100,
               "redraw": false
              },
              "mode": "immediate",
              "transition": {
               "duration": 0
              }
             }
            ],
            "label": "31",
            "method": "animate"
           },
           {
            "args": [
             [
              32
             ],
             {
              "frame": {
               "duration": 100,
               "redraw": false
              },
              "mode": "immediate",
              "transition": {
               "duration": 0
              }
             }
            ],
            "label": "32",
            "method": "animate"
           },
           {
            "args": [
             [
              33
             ],
             {
              "frame": {
               "duration": 100,
               "redraw": false
              },
              "mode": "immediate",
              "transition": {
               "duration": 0
              }
             }
            ],
            "label": "33",
            "method": "animate"
           },
           {
            "args": [
             [
              34
             ],
             {
              "frame": {
               "duration": 100,
               "redraw": false
              },
              "mode": "immediate",
              "transition": {
               "duration": 0
              }
             }
            ],
            "label": "34",
            "method": "animate"
           },
           {
            "args": [
             [
              35
             ],
             {
              "frame": {
               "duration": 100,
               "redraw": false
              },
              "mode": "immediate",
              "transition": {
               "duration": 0
              }
             }
            ],
            "label": "35",
            "method": "animate"
           },
           {
            "args": [
             [
              36
             ],
             {
              "frame": {
               "duration": 100,
               "redraw": false
              },
              "mode": "immediate",
              "transition": {
               "duration": 0
              }
             }
            ],
            "label": "36",
            "method": "animate"
           },
           {
            "args": [
             [
              37
             ],
             {
              "frame": {
               "duration": 100,
               "redraw": false
              },
              "mode": "immediate",
              "transition": {
               "duration": 0
              }
             }
            ],
            "label": "37",
            "method": "animate"
           },
           {
            "args": [
             [
              38
             ],
             {
              "frame": {
               "duration": 100,
               "redraw": false
              },
              "mode": "immediate",
              "transition": {
               "duration": 0
              }
             }
            ],
            "label": "38",
            "method": "animate"
           },
           {
            "args": [
             [
              39
             ],
             {
              "frame": {
               "duration": 100,
               "redraw": false
              },
              "mode": "immediate",
              "transition": {
               "duration": 0
              }
             }
            ],
            "label": "39",
            "method": "animate"
           },
           {
            "args": [
             [
              40
             ],
             {
              "frame": {
               "duration": 100,
               "redraw": false
              },
              "mode": "immediate",
              "transition": {
               "duration": 0
              }
             }
            ],
            "label": "40",
            "method": "animate"
           },
           {
            "args": [
             [
              41
             ],
             {
              "frame": {
               "duration": 100,
               "redraw": false
              },
              "mode": "immediate",
              "transition": {
               "duration": 0
              }
             }
            ],
            "label": "41",
            "method": "animate"
           },
           {
            "args": [
             [
              42
             ],
             {
              "frame": {
               "duration": 100,
               "redraw": false
              },
              "mode": "immediate",
              "transition": {
               "duration": 0
              }
             }
            ],
            "label": "42",
            "method": "animate"
           },
           {
            "args": [
             [
              43
             ],
             {
              "frame": {
               "duration": 100,
               "redraw": false
              },
              "mode": "immediate",
              "transition": {
               "duration": 0
              }
             }
            ],
            "label": "43",
            "method": "animate"
           },
           {
            "args": [
             [
              44
             ],
             {
              "frame": {
               "duration": 100,
               "redraw": false
              },
              "mode": "immediate",
              "transition": {
               "duration": 0
              }
             }
            ],
            "label": "44",
            "method": "animate"
           },
           {
            "args": [
             [
              45
             ],
             {
              "frame": {
               "duration": 100,
               "redraw": false
              },
              "mode": "immediate",
              "transition": {
               "duration": 0
              }
             }
            ],
            "label": "45",
            "method": "animate"
           },
           {
            "args": [
             [
              46
             ],
             {
              "frame": {
               "duration": 100,
               "redraw": false
              },
              "mode": "immediate",
              "transition": {
               "duration": 0
              }
             }
            ],
            "label": "46",
            "method": "animate"
           },
           {
            "args": [
             [
              47
             ],
             {
              "frame": {
               "duration": 100,
               "redraw": false
              },
              "mode": "immediate",
              "transition": {
               "duration": 0
              }
             }
            ],
            "label": "47",
            "method": "animate"
           },
           {
            "args": [
             [
              48
             ],
             {
              "frame": {
               "duration": 100,
               "redraw": false
              },
              "mode": "immediate",
              "transition": {
               "duration": 0
              }
             }
            ],
            "label": "48",
            "method": "animate"
           },
           {
            "args": [
             [
              49
             ],
             {
              "frame": {
               "duration": 100,
               "redraw": false
              },
              "mode": "immediate",
              "transition": {
               "duration": 0
              }
             }
            ],
            "label": "49",
            "method": "animate"
           },
           {
            "args": [
             [
              50
             ],
             {
              "frame": {
               "duration": 100,
               "redraw": false
              },
              "mode": "immediate",
              "transition": {
               "duration": 0
              }
             }
            ],
            "label": "50",
            "method": "animate"
           },
           {
            "args": [
             [
              51
             ],
             {
              "frame": {
               "duration": 100,
               "redraw": false
              },
              "mode": "immediate",
              "transition": {
               "duration": 0
              }
             }
            ],
            "label": "51",
            "method": "animate"
           },
           {
            "args": [
             [
              52
             ],
             {
              "frame": {
               "duration": 100,
               "redraw": false
              },
              "mode": "immediate",
              "transition": {
               "duration": 0
              }
             }
            ],
            "label": "52",
            "method": "animate"
           },
           {
            "args": [
             [
              53
             ],
             {
              "frame": {
               "duration": 100,
               "redraw": false
              },
              "mode": "immediate",
              "transition": {
               "duration": 0
              }
             }
            ],
            "label": "53",
            "method": "animate"
           },
           {
            "args": [
             [
              54
             ],
             {
              "frame": {
               "duration": 100,
               "redraw": false
              },
              "mode": "immediate",
              "transition": {
               "duration": 0
              }
             }
            ],
            "label": "54",
            "method": "animate"
           },
           {
            "args": [
             [
              55
             ],
             {
              "frame": {
               "duration": 100,
               "redraw": false
              },
              "mode": "immediate",
              "transition": {
               "duration": 0
              }
             }
            ],
            "label": "55",
            "method": "animate"
           },
           {
            "args": [
             [
              56
             ],
             {
              "frame": {
               "duration": 100,
               "redraw": false
              },
              "mode": "immediate",
              "transition": {
               "duration": 0
              }
             }
            ],
            "label": "56",
            "method": "animate"
           },
           {
            "args": [
             [
              57
             ],
             {
              "frame": {
               "duration": 100,
               "redraw": false
              },
              "mode": "immediate",
              "transition": {
               "duration": 0
              }
             }
            ],
            "label": "57",
            "method": "animate"
           }
          ],
          "transition": {
           "duration": 300,
           "easing": "cubic-in-out"
          },
          "x": 0.1,
          "xanchor": "left",
          "y": 0,
          "yanchor": "top"
         }
        ],
        "template": {
         "data": {
          "bar": [
           {
            "error_x": {
             "color": "#2a3f5f"
            },
            "error_y": {
             "color": "#2a3f5f"
            },
            "marker": {
             "line": {
              "color": "#E5ECF6",
              "width": 0.5
             },
             "pattern": {
              "fillmode": "overlay",
              "size": 10,
              "solidity": 0.2
             }
            },
            "type": "bar"
           }
          ],
          "barpolar": [
           {
            "marker": {
             "line": {
              "color": "#E5ECF6",
              "width": 0.5
             },
             "pattern": {
              "fillmode": "overlay",
              "size": 10,
              "solidity": 0.2
             }
            },
            "type": "barpolar"
           }
          ],
          "carpet": [
           {
            "aaxis": {
             "endlinecolor": "#2a3f5f",
             "gridcolor": "white",
             "linecolor": "white",
             "minorgridcolor": "white",
             "startlinecolor": "#2a3f5f"
            },
            "baxis": {
             "endlinecolor": "#2a3f5f",
             "gridcolor": "white",
             "linecolor": "white",
             "minorgridcolor": "white",
             "startlinecolor": "#2a3f5f"
            },
            "type": "carpet"
           }
          ],
          "choropleth": [
           {
            "colorbar": {
             "outlinewidth": 0,
             "ticks": ""
            },
            "type": "choropleth"
           }
          ],
          "contour": [
           {
            "colorbar": {
             "outlinewidth": 0,
             "ticks": ""
            },
            "colorscale": [
             [
              0,
              "#0d0887"
             ],
             [
              0.1111111111111111,
              "#46039f"
             ],
             [
              0.2222222222222222,
              "#7201a8"
             ],
             [
              0.3333333333333333,
              "#9c179e"
             ],
             [
              0.4444444444444444,
              "#bd3786"
             ],
             [
              0.5555555555555556,
              "#d8576b"
             ],
             [
              0.6666666666666666,
              "#ed7953"
             ],
             [
              0.7777777777777778,
              "#fb9f3a"
             ],
             [
              0.8888888888888888,
              "#fdca26"
             ],
             [
              1,
              "#f0f921"
             ]
            ],
            "type": "contour"
           }
          ],
          "contourcarpet": [
           {
            "colorbar": {
             "outlinewidth": 0,
             "ticks": ""
            },
            "type": "contourcarpet"
           }
          ],
          "heatmap": [
           {
            "colorbar": {
             "outlinewidth": 0,
             "ticks": ""
            },
            "colorscale": [
             [
              0,
              "#0d0887"
             ],
             [
              0.1111111111111111,
              "#46039f"
             ],
             [
              0.2222222222222222,
              "#7201a8"
             ],
             [
              0.3333333333333333,
              "#9c179e"
             ],
             [
              0.4444444444444444,
              "#bd3786"
             ],
             [
              0.5555555555555556,
              "#d8576b"
             ],
             [
              0.6666666666666666,
              "#ed7953"
             ],
             [
              0.7777777777777778,
              "#fb9f3a"
             ],
             [
              0.8888888888888888,
              "#fdca26"
             ],
             [
              1,
              "#f0f921"
             ]
            ],
            "type": "heatmap"
           }
          ],
          "heatmapgl": [
           {
            "colorbar": {
             "outlinewidth": 0,
             "ticks": ""
            },
            "colorscale": [
             [
              0,
              "#0d0887"
             ],
             [
              0.1111111111111111,
              "#46039f"
             ],
             [
              0.2222222222222222,
              "#7201a8"
             ],
             [
              0.3333333333333333,
              "#9c179e"
             ],
             [
              0.4444444444444444,
              "#bd3786"
             ],
             [
              0.5555555555555556,
              "#d8576b"
             ],
             [
              0.6666666666666666,
              "#ed7953"
             ],
             [
              0.7777777777777778,
              "#fb9f3a"
             ],
             [
              0.8888888888888888,
              "#fdca26"
             ],
             [
              1,
              "#f0f921"
             ]
            ],
            "type": "heatmapgl"
           }
          ],
          "histogram": [
           {
            "marker": {
             "pattern": {
              "fillmode": "overlay",
              "size": 10,
              "solidity": 0.2
             }
            },
            "type": "histogram"
           }
          ],
          "histogram2d": [
           {
            "colorbar": {
             "outlinewidth": 0,
             "ticks": ""
            },
            "colorscale": [
             [
              0,
              "#0d0887"
             ],
             [
              0.1111111111111111,
              "#46039f"
             ],
             [
              0.2222222222222222,
              "#7201a8"
             ],
             [
              0.3333333333333333,
              "#9c179e"
             ],
             [
              0.4444444444444444,
              "#bd3786"
             ],
             [
              0.5555555555555556,
              "#d8576b"
             ],
             [
              0.6666666666666666,
              "#ed7953"
             ],
             [
              0.7777777777777778,
              "#fb9f3a"
             ],
             [
              0.8888888888888888,
              "#fdca26"
             ],
             [
              1,
              "#f0f921"
             ]
            ],
            "type": "histogram2d"
           }
          ],
          "histogram2dcontour": [
           {
            "colorbar": {
             "outlinewidth": 0,
             "ticks": ""
            },
            "colorscale": [
             [
              0,
              "#0d0887"
             ],
             [
              0.1111111111111111,
              "#46039f"
             ],
             [
              0.2222222222222222,
              "#7201a8"
             ],
             [
              0.3333333333333333,
              "#9c179e"
             ],
             [
              0.4444444444444444,
              "#bd3786"
             ],
             [
              0.5555555555555556,
              "#d8576b"
             ],
             [
              0.6666666666666666,
              "#ed7953"
             ],
             [
              0.7777777777777778,
              "#fb9f3a"
             ],
             [
              0.8888888888888888,
              "#fdca26"
             ],
             [
              1,
              "#f0f921"
             ]
            ],
            "type": "histogram2dcontour"
           }
          ],
          "mesh3d": [
           {
            "colorbar": {
             "outlinewidth": 0,
             "ticks": ""
            },
            "type": "mesh3d"
           }
          ],
          "parcoords": [
           {
            "line": {
             "colorbar": {
              "outlinewidth": 0,
              "ticks": ""
             }
            },
            "type": "parcoords"
           }
          ],
          "pie": [
           {
            "automargin": true,
            "type": "pie"
           }
          ],
          "scatter": [
           {
            "marker": {
             "colorbar": {
              "outlinewidth": 0,
              "ticks": ""
             }
            },
            "type": "scatter"
           }
          ],
          "scatter3d": [
           {
            "line": {
             "colorbar": {
              "outlinewidth": 0,
              "ticks": ""
             }
            },
            "marker": {
             "colorbar": {
              "outlinewidth": 0,
              "ticks": ""
             }
            },
            "type": "scatter3d"
           }
          ],
          "scattercarpet": [
           {
            "marker": {
             "colorbar": {
              "outlinewidth": 0,
              "ticks": ""
             }
            },
            "type": "scattercarpet"
           }
          ],
          "scattergeo": [
           {
            "marker": {
             "colorbar": {
              "outlinewidth": 0,
              "ticks": ""
             }
            },
            "type": "scattergeo"
           }
          ],
          "scattergl": [
           {
            "marker": {
             "colorbar": {
              "outlinewidth": 0,
              "ticks": ""
             }
            },
            "type": "scattergl"
           }
          ],
          "scattermapbox": [
           {
            "marker": {
             "colorbar": {
              "outlinewidth": 0,
              "ticks": ""
             }
            },
            "type": "scattermapbox"
           }
          ],
          "scatterpolar": [
           {
            "marker": {
             "colorbar": {
              "outlinewidth": 0,
              "ticks": ""
             }
            },
            "type": "scatterpolar"
           }
          ],
          "scatterpolargl": [
           {
            "marker": {
             "colorbar": {
              "outlinewidth": 0,
              "ticks": ""
             }
            },
            "type": "scatterpolargl"
           }
          ],
          "scatterternary": [
           {
            "marker": {
             "colorbar": {
              "outlinewidth": 0,
              "ticks": ""
             }
            },
            "type": "scatterternary"
           }
          ],
          "surface": [
           {
            "colorbar": {
             "outlinewidth": 0,
             "ticks": ""
            },
            "colorscale": [
             [
              0,
              "#0d0887"
             ],
             [
              0.1111111111111111,
              "#46039f"
             ],
             [
              0.2222222222222222,
              "#7201a8"
             ],
             [
              0.3333333333333333,
              "#9c179e"
             ],
             [
              0.4444444444444444,
              "#bd3786"
             ],
             [
              0.5555555555555556,
              "#d8576b"
             ],
             [
              0.6666666666666666,
              "#ed7953"
             ],
             [
              0.7777777777777778,
              "#fb9f3a"
             ],
             [
              0.8888888888888888,
              "#fdca26"
             ],
             [
              1,
              "#f0f921"
             ]
            ],
            "type": "surface"
           }
          ],
          "table": [
           {
            "cells": {
             "fill": {
              "color": "#EBF0F8"
             },
             "line": {
              "color": "white"
             }
            },
            "header": {
             "fill": {
              "color": "#C8D4E3"
             },
             "line": {
              "color": "white"
             }
            },
            "type": "table"
           }
          ]
         },
         "layout": {
          "annotationdefaults": {
           "arrowcolor": "#2a3f5f",
           "arrowhead": 0,
           "arrowwidth": 1
          },
          "autotypenumbers": "strict",
          "coloraxis": {
           "colorbar": {
            "outlinewidth": 0,
            "ticks": ""
           }
          },
          "colorscale": {
           "diverging": [
            [
             0,
             "#8e0152"
            ],
            [
             0.1,
             "#c51b7d"
            ],
            [
             0.2,
             "#de77ae"
            ],
            [
             0.3,
             "#f1b6da"
            ],
            [
             0.4,
             "#fde0ef"
            ],
            [
             0.5,
             "#f7f7f7"
            ],
            [
             0.6,
             "#e6f5d0"
            ],
            [
             0.7,
             "#b8e186"
            ],
            [
             0.8,
             "#7fbc41"
            ],
            [
             0.9,
             "#4d9221"
            ],
            [
             1,
             "#276419"
            ]
           ],
           "sequential": [
            [
             0,
             "#0d0887"
            ],
            [
             0.1111111111111111,
             "#46039f"
            ],
            [
             0.2222222222222222,
             "#7201a8"
            ],
            [
             0.3333333333333333,
             "#9c179e"
            ],
            [
             0.4444444444444444,
             "#bd3786"
            ],
            [
             0.5555555555555556,
             "#d8576b"
            ],
            [
             0.6666666666666666,
             "#ed7953"
            ],
            [
             0.7777777777777778,
             "#fb9f3a"
            ],
            [
             0.8888888888888888,
             "#fdca26"
            ],
            [
             1,
             "#f0f921"
            ]
           ],
           "sequentialminus": [
            [
             0,
             "#0d0887"
            ],
            [
             0.1111111111111111,
             "#46039f"
            ],
            [
             0.2222222222222222,
             "#7201a8"
            ],
            [
             0.3333333333333333,
             "#9c179e"
            ],
            [
             0.4444444444444444,
             "#bd3786"
            ],
            [
             0.5555555555555556,
             "#d8576b"
            ],
            [
             0.6666666666666666,
             "#ed7953"
            ],
            [
             0.7777777777777778,
             "#fb9f3a"
            ],
            [
             0.8888888888888888,
             "#fdca26"
            ],
            [
             1,
             "#f0f921"
            ]
           ]
          },
          "colorway": [
           "#636efa",
           "#EF553B",
           "#00cc96",
           "#ab63fa",
           "#FFA15A",
           "#19d3f3",
           "#FF6692",
           "#B6E880",
           "#FF97FF",
           "#FECB52"
          ],
          "font": {
           "color": "#2a3f5f"
          },
          "geo": {
           "bgcolor": "white",
           "lakecolor": "white",
           "landcolor": "#E5ECF6",
           "showlakes": true,
           "showland": true,
           "subunitcolor": "white"
          },
          "hoverlabel": {
           "align": "left"
          },
          "hovermode": "closest",
          "mapbox": {
           "style": "light"
          },
          "paper_bgcolor": "white",
          "plot_bgcolor": "#E5ECF6",
          "polar": {
           "angularaxis": {
            "gridcolor": "white",
            "linecolor": "white",
            "ticks": ""
           },
           "bgcolor": "#E5ECF6",
           "radialaxis": {
            "gridcolor": "white",
            "linecolor": "white",
            "ticks": ""
           }
          },
          "scene": {
           "xaxis": {
            "backgroundcolor": "#E5ECF6",
            "gridcolor": "white",
            "gridwidth": 2,
            "linecolor": "white",
            "showbackground": true,
            "ticks": "",
            "zerolinecolor": "white"
           },
           "yaxis": {
            "backgroundcolor": "#E5ECF6",
            "gridcolor": "white",
            "gridwidth": 2,
            "linecolor": "white",
            "showbackground": true,
            "ticks": "",
            "zerolinecolor": "white"
           },
           "zaxis": {
            "backgroundcolor": "#E5ECF6",
            "gridcolor": "white",
            "gridwidth": 2,
            "linecolor": "white",
            "showbackground": true,
            "ticks": "",
            "zerolinecolor": "white"
           }
          },
          "shapedefaults": {
           "line": {
            "color": "#2a3f5f"
           }
          },
          "ternary": {
           "aaxis": {
            "gridcolor": "white",
            "linecolor": "white",
            "ticks": ""
           },
           "baxis": {
            "gridcolor": "white",
            "linecolor": "white",
            "ticks": ""
           },
           "bgcolor": "#E5ECF6",
           "caxis": {
            "gridcolor": "white",
            "linecolor": "white",
            "ticks": ""
           }
          },
          "title": {
           "x": 0.05
          },
          "xaxis": {
           "automargin": true,
           "gridcolor": "white",
           "linecolor": "white",
           "ticks": "",
           "title": {
            "standoff": 15
           },
           "zerolinecolor": "white",
           "zerolinewidth": 2
          },
          "yaxis": {
           "automargin": true,
           "gridcolor": "white",
           "linecolor": "white",
           "ticks": "",
           "title": {
            "standoff": 15
           },
           "zerolinecolor": "white",
           "zerolinewidth": 2
          }
         }
        },
        "title": {
         "text": "(13:10) (Shotgun) Aa.Rodgers sacked at GB 15 for -8 yards (sack split by N.Williams and T.Flowers).<br><br><br><br><br><br><br><br><br><br><br><br><br><br><br><br><br><br><br><br>Game Clock: 13:10<br>2Quarter"
        },
        "updatemenus": [
         {
          "buttons": [
           {
            "args": [
             null,
             {
              "frame": {
               "duration": 100,
               "redraw": false
              },
              "fromcurrent": true,
              "transition": {
               "duration": 0
              }
             }
            ],
            "label": "Play",
            "method": "animate"
           },
           {
            "args": [
             [
              null
             ],
             {
              "frame": {
               "duration": 0,
               "redraw": false
              },
              "mode": "immediate",
              "transition": {
               "duration": 0
              }
             }
            ],
            "label": "Pause",
            "method": "animate"
           }
          ],
          "direction": "left",
          "pad": {
           "r": 10,
           "t": 87
          },
          "showactive": false,
          "type": "buttons",
          "x": 0.1,
          "xanchor": "right",
          "y": 0,
          "yanchor": "top"
         }
        ],
        "width": 1200,
        "xaxis": {
         "autorange": false,
         "range": [
          0,
          120
         ],
         "showticklabels": false,
         "tickmode": "array",
         "tickvals": [
          10,
          15,
          20,
          25,
          30,
          35,
          40,
          45,
          50,
          55,
          60,
          65,
          70,
          75,
          80,
          85,
          90,
          95,
          100,
          105,
          110
         ]
        },
        "yaxis": {
         "autorange": false,
         "range": [
          0,
          53.3
         ],
         "showgrid": false,
         "showticklabels": false
        }
       }
      }
     },
     "metadata": {},
     "output_type": "display_data"
    }
   ],
   "source": [
    "# This function is designed for the user to pick specific plays to analyze\n",
    "\n",
    "def pickingAnimatedPlay(df):\n",
    "    # do work\n",
    "    return userInputs(df)\n",
    "\n",
    "# User input on selecting a play \n",
    "# Select Team, Formation, Pass Result\n",
    "def userInputs(df):\n",
    "\n",
    "    # Colors for each NFL team and Color for Football\n",
    "    colors = {\n",
    "    'ARI':\"#97233F\", \n",
    "    'ATL':\"#A71930\", \n",
    "    'BAL':'#241773', \n",
    "    'BUF':\"#00338D\", \n",
    "    'CAR':\"#0085CA\", \n",
    "    'CHI':\"#C83803\", \n",
    "    'CIN':\"#FB4F14\", \n",
    "    'CLE':\"#311D00\", \n",
    "    'DAL':'#003594',\n",
    "    'DEN':\"#FB4F14\", \n",
    "    'DET':\"#0076B6\", \n",
    "    'GB':\"#203731\", \n",
    "    'HOU':\"#03202F\", \n",
    "    'IND':\"#002C5F\", \n",
    "    'JAX':\"#9F792C\", \n",
    "    'KC':\"#E31837\", \n",
    "    'LA':\"#003594\", \n",
    "    'LAC':\"#0080C6\", \n",
    "    'LV':\"#000000\",\n",
    "    'MIA':\"#008E97\", \n",
    "    'MIN':\"#4F2683\", \n",
    "    'NE':\"#002244\", \n",
    "    'NO':\"#D3BC8D\", \n",
    "    'NYG':\"#0B2265\", \n",
    "    'NYJ':\"#125740\", \n",
    "    'PHI':\"#004C54\", \n",
    "    'PIT':\"#FFB612\", \n",
    "    'SEA':\"#69BE28\", \n",
    "    'SF':\"#AA0000\",\n",
    "    'TB':'#D50A0A', \n",
    "    'TEN':\"#4B92DB\", \n",
    "    'WAS':\"#5A1414\", \n",
    "    'football':'#CBB67C'}\n",
    "\n",
    "    \n",
    "    # load data here\n",
    "    df = joined_all\n",
    "    # An empty Pandas DataFrame is created to hold and return all user inputs\n",
    "    gameList = pd.DataFrame()\n",
    "\n",
    "    # Create a while loop to return incorrect user inputs\n",
    "    # Choosing an offensive team\n",
    "    while True:       \n",
    "        try:\n",
    "            offTeam = df['possessionTeam'].unique()\n",
    "            teams = offTeam\n",
    "            teamOff_Input = input(f'Pick an Offensive Team: {teams}')\n",
    "            off_team = teamOff_Input.upper()\n",
    "\n",
    "        except ValueError:\n",
    "            print(f'Choose a team from the list: {teams}')\n",
    "            continue\n",
    "\n",
    "        if off_team not in offTeam:\n",
    "            print(f'{off_team} does not exist. Input Valid Team Abbreviation')\n",
    "            continue\n",
    "        \n",
    "        elif off_team in offTeam:\n",
    "            team = df.loc[df['possessionTeam']==teamOff_Input.upper()] \n",
    "            next\n",
    "            \n",
    "        # Choosing a defensive team\n",
    "        while True:\n",
    "            try:\n",
    "                teamPlayed = team['defensiveTeam'].unique()\n",
    "                teamsDE = teamPlayed    \n",
    "                teamDEF_Input = input(f'Chose a Defensive Team: {teamsDE}')\n",
    "                def_team = teamDEF_Input.upper()\n",
    "\n",
    "            except ValueError:\n",
    "                print(f'Choose a team from the list: {def_team}')\n",
    "                continue\n",
    "\n",
    "            if teamDEF_Input.upper() not in teamPlayed:\n",
    "                print(f\"{def_team} did not play {off_team} \" + \"\\n\" + \"choose another Defensive Team\")\n",
    "                continue\n",
    "\n",
    "            elif teamDEF_Input.upper() in teamPlayed:\n",
    "                team_defense = team.loc[team['defensiveTeam']==teamDEF_Input.upper()]\n",
    "                next\n",
    "\n",
    "        # Choosing specific game if multiple games against the defense exist\n",
    "            while True:\n",
    "                try:\n",
    "                    gamePlayed = team_defense['gameDate'].unique()\n",
    "                    uniqueGame = gamePlayed\n",
    "                    game_input = input(f'Choose which game to analyze: {uniqueGame}')\n",
    "\n",
    "                except ValueError:\n",
    "                    print(f'Choose a date from the list: {uniqueGame}')\n",
    "                    continue\n",
    "\n",
    "                if game_input not in gamePlayed:\n",
    "                    print(f'Choose a date from the list: {uniqueGame}')\n",
    "                    continue\n",
    "\n",
    "                elif game_input in gamePlayed:\n",
    "                    unique_Game = team_defense.loc[team_defense['gameDate'] == game_input]\n",
    "                    next\n",
    "\n",
    "\n",
    "        # Choosing a pass play result\n",
    "                while True:\n",
    "                    try:\n",
    "                        passPlayResult = unique_Game['passResult'].unique()\n",
    "                        playResult = passPlayResult\n",
    "                        passPlay_Input = input(f'Choose a pass play result: {playResult}')\n",
    "                        passInput = passPlay_Input.upper()\n",
    "                        playResult = unique_Game['passResult'].tolist()\n",
    "                    \n",
    "                    except ValueError:\n",
    "                        print(f'{off_team} did not have any {passInput} against {def_team}')\n",
    "                        continue\n",
    "\n",
    "                    if passInput not in playResult:\n",
    "                        print(f\"There were no {passInput} plays found\" + \"\\n\" + \"choose another play result\")\n",
    "                        continue\n",
    "\n",
    "                    elif passInput.upper() in playResult:\n",
    "                        pass_play_result = unique_Game.loc[unique_Game['passResult']==passInput.upper()]   \n",
    "                        next\n",
    "\n",
    "        # Choosing where play happened on field\n",
    "                    while True:\n",
    "                        try:\n",
    "                            yardLine = pass_play_result['absoluteYardlineNumber'].unique()\n",
    "                            ydLine = yardLine\n",
    "                            ydLine_Input = int(input(f'Which part of the field do you want to analyzie? {ydLine}'))\n",
    "                            side_of_field = ydLine_Input\n",
    "                        \n",
    "                        except ValueError:\n",
    "                            print(f'{off_team} did not play at that {ydLine_Input}')\n",
    "                            continue\n",
    "\n",
    "                        if ydLine_Input not in yardLine:\n",
    "                            print(f'{off_team} did not play on {ydLine_Input}. Choose another {yardLine}')\n",
    "                            continue\n",
    "\n",
    "                        elif ydLine_Input in yardLine:\n",
    "                            field_of_play = pass_play_result.loc[pass_play_result['absoluteYardlineNumber']==side_of_field]\n",
    "                \n",
    "                \n",
    "        # Chosing an offensive formation\n",
    "                        while True:\n",
    "                            try:\n",
    "                                OFF_formation = field_of_play['offenseFormation'].unique()\n",
    "                                team_formation = OFF_formation\n",
    "                                offFormation_Input = input(f'Choose an Offensive Formation: {team_formation}')\n",
    "                                formation = offFormation_Input.upper()\n",
    "                                offFormation = field_of_play['offenseFormation'].tolist()\n",
    "\n",
    "                            except ValueError:\n",
    "                                print(f'{off_team} did not play any {formation} this game')\n",
    "                                continue\n",
    "\n",
    "                            if offFormation_Input.upper() not in offFormation:\n",
    "                                print(f\"No {formation} plays against {def_team} found\" + \"\\n\" + \"choose another formation\")\n",
    "                                continue\n",
    "\n",
    "                            elif offFormation_Input.upper() in offFormation:\n",
    "                                off_formation = field_of_play.loc[field_of_play['offenseFormation']==offFormation_Input.upper()]       \n",
    "                                gameList = gameList.append(off_formation)\n",
    "\n",
    "\n",
    "        # Creating Animation from selected play\n",
    "                                \n",
    "\n",
    "\n",
    "                                selected_play_df = gameList\n",
    "                                selected_tracking_df = gameList\n",
    "\n",
    "                                sorted_frame_list = selected_tracking_df.frameId.unique()\n",
    "                                sorted_frame_list.sort()\n",
    "\n",
    "                                # get play General information \n",
    "                                line_of_scrimmage = selected_play_df.absoluteYardlineNumber.values[0]\n",
    "                                first_down_marker = line_of_scrimmage + selected_play_df.yardsToGo.values[0]\n",
    "                                down = selected_play_df.down.values[0]\n",
    "                                quarter = selected_play_df.quarter.values[0]\n",
    "                                gameClock = selected_play_df.gameClock.values[0]\n",
    "                                playDescription = selected_play_df.playDescription.values[0]\n",
    "\n",
    "                                # Handle case where we have a really long Play Description and want to split it into two lines\n",
    "                                if len(playDescription.split(\" \"))>15 and len(playDescription)>115:\n",
    "                                    playDescription = \" \".join(playDescription.split(\" \")[0:16]) + \"<br>\" + \" \".join(playDescription.split(\" \")[16:])\n",
    "\n",
    "                                # initialize plotly start and stop buttons for animation\n",
    "                                updatemenus_dict = [\n",
    "                                    {\n",
    "                                        \"buttons\": [\n",
    "                                            {\n",
    "                                                \"args\": [None, {\"frame\": {\"duration\": 100, \"redraw\": False},\n",
    "                                                            \"fromcurrent\": True, \"transition\": {\"duration\": 0}}],\n",
    "                                                \"label\": \"Play\",\n",
    "                                                \"method\": \"animate\"\n",
    "                                            },\n",
    "                                            {\n",
    "                                                \"args\": [[None], {\"frame\": {\"duration\": 0, \"redraw\": False},\n",
    "                                                                \"mode\": \"immediate\",\n",
    "                                                                \"transition\": {\"duration\": 0}}],\n",
    "                                                \"label\": \"Pause\",\n",
    "                                                \"method\": \"animate\"\n",
    "                                            }\n",
    "                                        ],\n",
    "                                        \"direction\": \"left\",\n",
    "                                        \"pad\": {\"r\": 10, \"t\": 87},\n",
    "                                        \"showactive\": False,\n",
    "                                        \"type\": \"buttons\",\n",
    "                                        \"x\": 0.1,\n",
    "                                        \"xanchor\": \"right\",\n",
    "                                        \"y\": 0,\n",
    "                                        \"yanchor\": \"top\"\n",
    "                                    }\n",
    "                                ]\n",
    "                                # initialize plotly slider to show frame position in animation\n",
    "                                sliders_dict = {\n",
    "                                    \"active\": 0,\n",
    "                                    \"yanchor\": \"top\",\n",
    "                                    \"xanchor\": \"left\",\n",
    "                                    \"currentvalue\": {\n",
    "                                        \"font\": {\"size\": 20},\n",
    "                                        \"prefix\": \"Frame:\",\n",
    "                                        \"visible\": True,\n",
    "                                        \"xanchor\": \"right\"\n",
    "                                    },\n",
    "                                    \"transition\": {\"duration\": 300, \"easing\": \"cubic-in-out\"},\n",
    "                                    \"pad\": {\"b\": 10, \"t\": 50},\n",
    "                                    \"len\": 0.9,\n",
    "                                    \"x\": 0.1,\n",
    "                                    \"y\": 0,\n",
    "                                    \"steps\": []\n",
    "                                }\n",
    "\n",
    "\n",
    "                                frames = []\n",
    "                                for frameId in sorted_frame_list:\n",
    "                                    data = []\n",
    "                                    # Add Numbers to Field \n",
    "                                    data.append(\n",
    "                                        go.Scatter(\n",
    "                                            x=np.arange(20,110,10), \n",
    "                                            y=[5]*len(np.arange(20,110,10)),\n",
    "                                            mode='text',\n",
    "                                            text=list(map(str,list(np.arange(20, 61, 10)-10)+list(np.arange(40, 9, -10)))),\n",
    "                                            textfont_size = 30,\n",
    "                                            textfont_family = \"Courier New, monospace\",\n",
    "                                            textfont_color = \"#ffffff\",\n",
    "                                            showlegend=False,\n",
    "                                            hoverinfo='none'\n",
    "                                        )\n",
    "                                    )\n",
    "                                    data.append(\n",
    "                                        go.Scatter(\n",
    "                                            x=np.arange(20,110,10), \n",
    "                                            y=[53.5-5]*len(np.arange(20,110,10)),\n",
    "                                            mode='text',\n",
    "                                            text=list(map(str,list(np.arange(20, 61, 10)-10)+list(np.arange(40, 9, -10)))),\n",
    "                                            textfont_size = 30,\n",
    "                                            textfont_family = \"Courier New, monospace\",\n",
    "                                            textfont_color = \"#ffffff\",\n",
    "                                            showlegend=False,\n",
    "                                            hoverinfo='none'\n",
    "                                        )\n",
    "                                    )\n",
    "                                    # Add line of scrimage \n",
    "                                    data.append(\n",
    "                                        go.Scatter(\n",
    "                                            x=[line_of_scrimmage,line_of_scrimmage], \n",
    "                                            y=[0,53.5],\n",
    "                                            line_dash='dash',\n",
    "                                            line_color='blue',\n",
    "                                            showlegend=False,\n",
    "                                            hoverinfo='none'\n",
    "                                        )\n",
    "                                    )\n",
    "                                    # Add First down line \n",
    "                                    data.append(\n",
    "                                        go.Scatter(\n",
    "                                            x=[first_down_marker,first_down_marker], \n",
    "                                            y=[0,53.5],\n",
    "                                            line_dash='dash',\n",
    "                                            line_color='yellow',\n",
    "                                            showlegend=False,\n",
    "                                            hoverinfo='none'\n",
    "                                        )\n",
    "                                    )\n",
    "                                    # Plot Players\n",
    "                                    for team in selected_tracking_df.team.unique():\n",
    "                                        plot_df = selected_tracking_df[(selected_tracking_df.team==team)&(selected_tracking_df.frameId==frameId)].copy()\n",
    "                                        if team != \"football\":\n",
    "                                            hover_text_array=[]\n",
    "                                            for nflId in plot_df.nflId:\n",
    "                                                selected_player_df = plot_df[plot_df.nflId==nflId]\n",
    "                                                hover_text_array.append(\"nflId:{}<br>displayName:{}<br>Position:{}<br>Role:{}\".format(selected_player_df[\"nflId\"].values[0],\n",
    "                                                                                                                selected_player_df[\"displayName\"].values[0],\n",
    "                                                                                                                selected_player_df[\"pff_positionLinedUp\"].values[0],\n",
    "                                                                                                                selected_player_df[\"pff_role\"].values[0]))\n",
    "                                            data.append(go.Scatter(x=plot_df[\"x\"], y=plot_df[\"y\"],mode = 'markers',marker_color=colors[team],name=team,hovertext=hover_text_array,hoverinfo=\"text\"))\n",
    "                                        else:\n",
    "                                            data.append(go.Scatter(x=plot_df[\"x\"], y=plot_df[\"y\"],mode = 'markers',marker_color=colors[team],name=team,hoverinfo='none'))\n",
    "                                    # add frame to slider\n",
    "                                    slider_step = {\"args\": [\n",
    "                                        [frameId],\n",
    "                                        {\"frame\": {\"duration\": 100, \"redraw\": False},\n",
    "                                        \"mode\": \"immediate\",\n",
    "                                        \"transition\": {\"duration\": 0}}\n",
    "                                    ],\n",
    "                                        \"label\": str(frameId),\n",
    "                                        \"method\": \"animate\"}\n",
    "                                    sliders_dict[\"steps\"].append(slider_step)\n",
    "                                    frames.append(go.Frame(data=data, name=str(frameId)))\n",
    "                                    \n",
    "\n",
    "                                scale=10\n",
    "                                layout = go.Layout(\n",
    "                                    autosize=False,\n",
    "                                    width=120*scale,\n",
    "                                    height=60*scale,\n",
    "                                    xaxis=dict(range=[0, 120], autorange=False, tickmode='array',tickvals=np.arange(10, 111, 5).tolist(),showticklabels=False),\n",
    "                                    yaxis=dict(range=[0, 53.3], autorange=False,showgrid=False,showticklabels=False),\n",
    "\n",
    "                                    plot_bgcolor='#00B140',\n",
    "                                    # Create title and add play description at the bottom of the chart for better visual appeal\n",
    "                                    title=f\"{playDescription}\"+\"<br>\"*19+ f\"<br>\"f\"Game Clock: {gameClock}\"+\"<br>\"f\"{quarter}Quarter\",\n",
    "                                    updatemenus=updatemenus_dict,\n",
    "                                    sliders = [sliders_dict]\n",
    "                                )\n",
    "\n",
    "                                fig = go.Figure(\n",
    "                                    data=frames[0][\"data\"],\n",
    "                                    layout= layout,\n",
    "                                    frames=frames[1:]\n",
    "                                )\n",
    "                                # Create First Down Markers \n",
    "                                for y_val in [0,53]:\n",
    "                                    fig.add_annotation(\n",
    "                                            x=first_down_marker,\n",
    "                                            y=y_val,\n",
    "                                            text=str(down),\n",
    "                                            showarrow=False,\n",
    "                                            font=dict(\n",
    "                                                family=\"Courier New, monospace\",\n",
    "                                                size=16,\n",
    "                                                color=\"black\"\n",
    "                                                ),\n",
    "                                            align=\"center\",\n",
    "                                            bordercolor=\"black\",\n",
    "                                            borderwidth=2,\n",
    "                                            borderpad=4,\n",
    "                                            bgcolor=\"#ff7f0e\",\n",
    "                                            opacity=1\n",
    "                                            )\n",
    "\n",
    "                                return fig\n",
    "\n",
    "pickingAnimatedPlay(joined_all)"
   ]
  }
 ],
 "metadata": {
  "kernelspec": {
   "display_name": "Python 3.9.13 64-bit (microsoft store)",
   "language": "python",
   "name": "python3"
  },
  "language_info": {
   "codemirror_mode": {
    "name": "ipython",
    "version": 3
   },
   "file_extension": ".py",
   "mimetype": "text/x-python",
   "name": "python",
   "nbconvert_exporter": "python",
   "pygments_lexer": "ipython3",
   "version": "3.9.13"
  },
  "orig_nbformat": 4,
  "vscode": {
   "interpreter": {
    "hash": "139bbdc7f9965fcbdc609bb167bfbc091b7d8cf85e7676405ff3381793a51f7f"
   }
  }
 },
 "nbformat": 4,
 "nbformat_minor": 2
}
