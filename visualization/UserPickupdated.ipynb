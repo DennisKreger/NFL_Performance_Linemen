{
 "cells": [
  {
   "cell_type": "code",
   "execution_count": 10,
   "metadata": {},
   "outputs": [],
   "source": [
    "# Import dependencies \n",
    "import pandas as pd\n",
    "import numpy as np\n",
    "import json\n",
    "import plotly.express as px\n",
    "import plotly\n",
    "\n",
    "import plotly.graph_objects as go\n",
    "\n",
    "from raceplotly.plots import barplot\n",
    "\n",
    "pd.options.mode.chained_assignment = None \n",
    "pd.set_option('display.max_columns', None)\n",
    "\n",
    "\n",
    "import warnings \n",
    "warnings.filterwarnings(\"ignore\")"
   ]
  },
  {
   "cell_type": "code",
   "execution_count": 7,
   "metadata": {},
   "outputs": [],
   "source": [
    "# Import Data\n",
    "games = pd.read_csv(\"https://storage.googleapis.com/big-data-bowl/games.csv\")\n",
    "plays = pd.read_csv(\"https://storage.googleapis.com/big-data-bowl/plays.csv\")\n",
    "players = pd.read_csv(\"https://storage.googleapis.com/big-data-bowl/players.csv\")\n",
    "week1 = pd.read_csv(\"https://storage.googleapis.com/big-data-bowl/week1.csv\", low_memory=False)\n",
    "week2 = pd.read_csv(\"https://storage.googleapis.com/big-data-bowl/week2.csv\", low_memory=False)\n",
    "week3 = pd.read_csv(\"https://storage.googleapis.com/big-data-bowl/week3.csv\", low_memory=False)\n",
    "week4 = pd.read_csv(\"https://storage.googleapis.com/big-data-bowl/week4.csv\", low_memory=False)\n",
    "week5 = pd.read_csv(\"https://storage.googleapis.com/big-data-bowl/week5.csv\", low_memory=False)\n",
    "week6 = pd.read_csv(\"https://storage.googleapis.com/big-data-bowl/week6.csv\", low_memory=False)\n",
    "week7 = pd.read_csv(\"https://storage.googleapis.com/big-data-bowl/week7.csv\", low_memory=False)\n",
    "week8 = pd.read_csv(\"https://storage.googleapis.com/big-data-bowl/week8.csv\", low_memory=False)\n",
    "\n",
    "pffScoutingData = pd.read_csv(\"https://storage.googleapis.com/big-data-bowl/pffScoutingData.csv\")\n",
    "\n",
    "tracking = week1.append([\n",
    "    week2,\n",
    "    week3,\n",
    "    week4,\n",
    "    week5,\n",
    "    week6,\n",
    "    week7,\n",
    "    week8,])\n",
    "\n",
    "joined_all = pd.merge(games,plays,how=\"inner\",on = \"gameId\")\n",
    "joined_all = pd.merge(joined_all,tracking,how=\"inner\",on=[\"gameId\",\"playId\"])\n",
    "# left join on players to keep football records\n",
    "joined_all = pd.merge(joined_all,players,how=\"left\",on = \"nflId\")\n",
    "joined_all = pd.merge(joined_all,pffScoutingData,how=\"left\",on=[\"gameId\",\"playId\",'nflId'])"
   ]
  },
  {
   "cell_type": "code",
   "execution_count": 8,
   "metadata": {},
   "outputs": [
    {
     "name": "stdout",
     "output_type": "stream",
     "text": [
      "Pick an Offensive Team: ['TB' 'DAL' 'ATL' 'PHI' 'BUF' 'PIT' 'NYJ' 'CAR' 'MIN' 'CIN' 'DET' 'SF'\n",
      " 'HOU' 'JAX' 'IND' 'SEA' 'TEN' 'ARI' 'LAC' 'WAS' 'CLE' 'KC' 'NE' 'MIA'\n",
      " 'NO' 'GB' 'NYG' 'DEN' 'CHI' 'LA' 'LV' 'BAL']GB\n",
      "Chose a Defensive Team: ['NO' 'DET' 'SF' 'PIT' 'CIN' 'CHI' 'WAS' 'ARI']DET\n",
      "Choose which game to analyze: ['09/20/2021']09/20/2021\n",
      "Choose a pass play result: ['C' 'R' 'I' 'S']C\n",
      "Which part of the field do you want to analyzie? [51. 92. 42. 11. 26. 34. 88. 31. 63. 77. 99. 95. 72.]92\n",
      "Choose an Offensive Formation: ['EMPTY']EMPTY\n"
     ]
    },
    {
     "data": {
      "application/vnd.plotly.v1+json": {
       "config": {
        "plotlyServerURL": "https://plot.ly"
       },
       "data": [
        {
         "hoverinfo": "none",
         "mode": "text",
         "showlegend": false,
         "text": [
          "10",
          "20",
          "30",
          "40",
          "50",
          "40",
          "30",
          "20",
          "10"
         ],
         "textfont": {
          "color": "#ffffff",
          "family": "Courier New, monospace",
          "size": 30
         },
         "type": "scatter",
         "x": [
          20,
          30,
          40,
          50,
          60,
          70,
          80,
          90,
          100
         ],
         "y": [
          5,
          5,
          5,
          5,
          5,
          5,
          5,
          5,
          5
         ]
        },
        {
         "hoverinfo": "none",
         "mode": "text",
         "showlegend": false,
         "text": [
          "10",
          "20",
          "30",
          "40",
          "50",
          "40",
          "30",
          "20",
          "10"
         ],
         "textfont": {
          "color": "#ffffff",
          "family": "Courier New, monospace",
          "size": 30
         },
         "type": "scatter",
         "x": [
          20,
          30,
          40,
          50,
          60,
          70,
          80,
          90,
          100
         ],
         "y": [
          48.5,
          48.5,
          48.5,
          48.5,
          48.5,
          48.5,
          48.5,
          48.5,
          48.5
         ]
        },
        {
         "hoverinfo": "none",
         "line": {
          "color": "blue",
          "dash": "dash"
         },
         "showlegend": false,
         "type": "scatter",
         "x": [
          92,
          92
         ],
         "y": [
          0,
          53.5
         ]
        },
        {
         "hoverinfo": "none",
         "line": {
          "color": "yellow",
          "dash": "dash"
         },
         "showlegend": false,
         "type": "scatter",
         "x": [
          102,
          102
         ],
         "y": [
          0,
          53.5
         ]
        },
        {
         "hoverinfo": "text",
         "hovertext": [
          "nflId:29851.0<br>displayName:Aaron Rodgers<br>Position:QB<br>Role:Pass",
          "nflId:41282.0<br>displayName:Davante Adams<br>Position:SRoWR<br>Role:Pass Route",
          "nflId:41296.0<br>displayName:Billy Turner<br>Position:RT<br>Role:Pass Block",
          "nflId:45635.0<br>displayName:Robert Tonyan<br>Position:LWR<br>Role:Pass Route",
          "nflId:46705.0<br>displayName:Allen Lazard<br>Position:SLWR<br>Role:Pass Route",
          "nflId:47827.0<br>displayName:Elgton Jenkins<br>Position:LT<br>Role:Pass Block",
          "nflId:52470.0<br>displayName:A.J. Dillon<br>Position:RWR<br>Role:Pass Route",
          "nflId:52600.0<br>displayName:Jon Runyan<br>Position:LG<br>Role:Pass Block",
          "nflId:53172.0<br>displayName:Dominique Dafney<br>Position:SRiWR<br>Role:Pass Route",
          "nflId:53491.0<br>displayName:Josh Myers<br>Position:C<br>Role:Pass Block",
          "nflId:53571.0<br>displayName:Royce Newman<br>Position:RG<br>Role:Pass Block"
         ],
         "marker": {
          "color": "#203731"
         },
         "mode": "markers",
         "name": "GB",
         "type": "scatter",
         "x": [
          96.86,
          93.57,
          94.07,
          94.11,
          92.94,
          93.86,
          93.72,
          93.32,
          92.91,
          92.89,
          93.61
         ],
         "y": [
          23.64,
          35.81,
          26.95,
          7.82,
          14.98,
          20.24,
          43.5,
          21.73,
          31.07,
          23.75,
          25.43
         ]
        },
        {
         "hoverinfo": "text",
         "hovertext": [
          "nflId:38544.0<br>displayName:Michael Brockers<br>Position:REO<br>Role:Pass Rush",
          "nflId:40000.0<br>displayName:Jamie Collins<br>Position:LLB<br>Role:Coverage",
          "nflId:40171.0<br>displayName:Nicholas Williams<br>Position:NT<br>Role:Pass Rush",
          "nflId:42444.0<br>displayName:Trey Flowers<br>Position:RLB<br>Role:Coverage",
          "nflId:43775.0<br>displayName:Romeo Okwara<br>Position:LEO<br>Role:Pass Rush",
          "nflId:44888.0<br>displayName:Alex Anzalone<br>Position:SCBR<br>Role:Coverage",
          "nflId:46151.0<br>displayName:Tracy Walker<br>Position:FSL<br>Role:Coverage",
          "nflId:47864.0<br>displayName:Will Harris<br>Position:FSR<br>Role:Coverage",
          "nflId:47929.0<br>displayName:Amani Oruwariye<br>Position:RCB<br>Role:Coverage",
          "nflId:53530.0<br>displayName:Ifeatu Melifonwu<br>Position:LCB<br>Role:Coverage",
          "nflId:53957.0<br>displayName:A.J. Parker<br>Position:SCBoL<br>Role:Coverage"
         ],
         "marker": {
          "color": "#0076B6"
         },
         "mode": "markers",
         "name": "DET",
         "type": "scatter",
         "x": [
          91.36,
          87.05,
          91.22,
          88.87,
          92.24,
          87.01,
          75.5,
          75.2,
          91,
          89.67,
          89.18
         ],
         "y": [
          18.93,
          28.16,
          23.61,
          18.36,
          29.16,
          14.58,
          33.8,
          14.99,
          7.5,
          44.08,
          35.76
         ]
        },
        {
         "hoverinfo": "none",
         "marker": {
          "color": "#CBB67C"
         },
         "mode": "markers",
         "name": "football",
         "type": "scatter",
         "x": [
          92.2
         ],
         "y": [
          23.77
         ]
        }
       ],
       "frames": [
        {
         "data": [
          {
           "hoverinfo": "none",
           "mode": "text",
           "showlegend": false,
           "text": [
            "10",
            "20",
            "30",
            "40",
            "50",
            "40",
            "30",
            "20",
            "10"
           ],
           "textfont": {
            "color": "#ffffff",
            "family": "Courier New, monospace",
            "size": 30
           },
           "type": "scatter",
           "x": [
            20,
            30,
            40,
            50,
            60,
            70,
            80,
            90,
            100
           ],
           "y": [
            5,
            5,
            5,
            5,
            5,
            5,
            5,
            5,
            5
           ]
          },
          {
           "hoverinfo": "none",
           "mode": "text",
           "showlegend": false,
           "text": [
            "10",
            "20",
            "30",
            "40",
            "50",
            "40",
            "30",
            "20",
            "10"
           ],
           "textfont": {
            "color": "#ffffff",
            "family": "Courier New, monospace",
            "size": 30
           },
           "type": "scatter",
           "x": [
            20,
            30,
            40,
            50,
            60,
            70,
            80,
            90,
            100
           ],
           "y": [
            48.5,
            48.5,
            48.5,
            48.5,
            48.5,
            48.5,
            48.5,
            48.5,
            48.5
           ]
          },
          {
           "hoverinfo": "none",
           "line": {
            "color": "blue",
            "dash": "dash"
           },
           "showlegend": false,
           "type": "scatter",
           "x": [
            92,
            92
           ],
           "y": [
            0,
            53.5
           ]
          },
          {
           "hoverinfo": "none",
           "line": {
            "color": "yellow",
            "dash": "dash"
           },
           "showlegend": false,
           "type": "scatter",
           "x": [
            102,
            102
           ],
           "y": [
            0,
            53.5
           ]
          },
          {
           "hoverinfo": "text",
           "hovertext": [
            "nflId:29851.0<br>displayName:Aaron Rodgers<br>Position:QB<br>Role:Pass",
            "nflId:41282.0<br>displayName:Davante Adams<br>Position:SRoWR<br>Role:Pass Route",
            "nflId:41296.0<br>displayName:Billy Turner<br>Position:RT<br>Role:Pass Block",
            "nflId:45635.0<br>displayName:Robert Tonyan<br>Position:LWR<br>Role:Pass Route",
            "nflId:46705.0<br>displayName:Allen Lazard<br>Position:SLWR<br>Role:Pass Route",
            "nflId:47827.0<br>displayName:Elgton Jenkins<br>Position:LT<br>Role:Pass Block",
            "nflId:52470.0<br>displayName:A.J. Dillon<br>Position:RWR<br>Role:Pass Route",
            "nflId:52600.0<br>displayName:Jon Runyan<br>Position:LG<br>Role:Pass Block",
            "nflId:53172.0<br>displayName:Dominique Dafney<br>Position:SRiWR<br>Role:Pass Route",
            "nflId:53491.0<br>displayName:Josh Myers<br>Position:C<br>Role:Pass Block",
            "nflId:53571.0<br>displayName:Royce Newman<br>Position:RG<br>Role:Pass Block"
           ],
           "marker": {
            "color": "#203731"
           },
           "mode": "markers",
           "name": "GB",
           "type": "scatter",
           "x": [
            96.85,
            93.57,
            94.06,
            94.11,
            92.94,
            93.86,
            93.72,
            93.32,
            92.91,
            92.89,
            93.61
           ],
           "y": [
            23.63,
            35.81,
            26.95,
            7.82,
            14.98,
            20.25,
            43.5,
            21.73,
            31.07,
            23.75,
            25.43
           ]
          },
          {
           "hoverinfo": "text",
           "hovertext": [
            "nflId:38544.0<br>displayName:Michael Brockers<br>Position:REO<br>Role:Pass Rush",
            "nflId:40000.0<br>displayName:Jamie Collins<br>Position:LLB<br>Role:Coverage",
            "nflId:40171.0<br>displayName:Nicholas Williams<br>Position:NT<br>Role:Pass Rush",
            "nflId:42444.0<br>displayName:Trey Flowers<br>Position:RLB<br>Role:Coverage",
            "nflId:43775.0<br>displayName:Romeo Okwara<br>Position:LEO<br>Role:Pass Rush",
            "nflId:44888.0<br>displayName:Alex Anzalone<br>Position:SCBR<br>Role:Coverage",
            "nflId:46151.0<br>displayName:Tracy Walker<br>Position:FSL<br>Role:Coverage",
            "nflId:47864.0<br>displayName:Will Harris<br>Position:FSR<br>Role:Coverage",
            "nflId:47929.0<br>displayName:Amani Oruwariye<br>Position:RCB<br>Role:Coverage",
            "nflId:53530.0<br>displayName:Ifeatu Melifonwu<br>Position:LCB<br>Role:Coverage",
            "nflId:53957.0<br>displayName:A.J. Parker<br>Position:SCBoL<br>Role:Coverage"
           ],
           "marker": {
            "color": "#0076B6"
           },
           "mode": "markers",
           "name": "DET",
           "type": "scatter",
           "x": [
            91.36,
            87.05,
            91.22,
            88.87,
            92.24,
            87.02,
            75.48,
            75.2,
            91.01,
            89.67,
            89.16
           ],
           "y": [
            18.93,
            28.16,
            23.62,
            18.36,
            29.17,
            14.58,
            33.81,
            15.04,
            7.48,
            44.08,
            35.74
           ]
          },
          {
           "hoverinfo": "none",
           "marker": {
            "color": "#CBB67C"
           },
           "mode": "markers",
           "name": "football",
           "type": "scatter",
           "x": [
            92.2
           ],
           "y": [
            23.77
           ]
          }
         ],
         "name": "2"
        },
        {
         "data": [
          {
           "hoverinfo": "none",
           "mode": "text",
           "showlegend": false,
           "text": [
            "10",
            "20",
            "30",
            "40",
            "50",
            "40",
            "30",
            "20",
            "10"
           ],
           "textfont": {
            "color": "#ffffff",
            "family": "Courier New, monospace",
            "size": 30
           },
           "type": "scatter",
           "x": [
            20,
            30,
            40,
            50,
            60,
            70,
            80,
            90,
            100
           ],
           "y": [
            5,
            5,
            5,
            5,
            5,
            5,
            5,
            5,
            5
           ]
          },
          {
           "hoverinfo": "none",
           "mode": "text",
           "showlegend": false,
           "text": [
            "10",
            "20",
            "30",
            "40",
            "50",
            "40",
            "30",
            "20",
            "10"
           ],
           "textfont": {
            "color": "#ffffff",
            "family": "Courier New, monospace",
            "size": 30
           },
           "type": "scatter",
           "x": [
            20,
            30,
            40,
            50,
            60,
            70,
            80,
            90,
            100
           ],
           "y": [
            48.5,
            48.5,
            48.5,
            48.5,
            48.5,
            48.5,
            48.5,
            48.5,
            48.5
           ]
          },
          {
           "hoverinfo": "none",
           "line": {
            "color": "blue",
            "dash": "dash"
           },
           "showlegend": false,
           "type": "scatter",
           "x": [
            92,
            92
           ],
           "y": [
            0,
            53.5
           ]
          },
          {
           "hoverinfo": "none",
           "line": {
            "color": "yellow",
            "dash": "dash"
           },
           "showlegend": false,
           "type": "scatter",
           "x": [
            102,
            102
           ],
           "y": [
            0,
            53.5
           ]
          },
          {
           "hoverinfo": "text",
           "hovertext": [
            "nflId:29851.0<br>displayName:Aaron Rodgers<br>Position:QB<br>Role:Pass",
            "nflId:41282.0<br>displayName:Davante Adams<br>Position:SRoWR<br>Role:Pass Route",
            "nflId:41296.0<br>displayName:Billy Turner<br>Position:RT<br>Role:Pass Block",
            "nflId:45635.0<br>displayName:Robert Tonyan<br>Position:LWR<br>Role:Pass Route",
            "nflId:46705.0<br>displayName:Allen Lazard<br>Position:SLWR<br>Role:Pass Route",
            "nflId:47827.0<br>displayName:Elgton Jenkins<br>Position:LT<br>Role:Pass Block",
            "nflId:52470.0<br>displayName:A.J. Dillon<br>Position:RWR<br>Role:Pass Route",
            "nflId:52600.0<br>displayName:Jon Runyan<br>Position:LG<br>Role:Pass Block",
            "nflId:53172.0<br>displayName:Dominique Dafney<br>Position:SRiWR<br>Role:Pass Route",
            "nflId:53491.0<br>displayName:Josh Myers<br>Position:C<br>Role:Pass Block",
            "nflId:53571.0<br>displayName:Royce Newman<br>Position:RG<br>Role:Pass Block"
           ],
           "marker": {
            "color": "#203731"
           },
           "mode": "markers",
           "name": "GB",
           "type": "scatter",
           "x": [
            96.83,
            93.57,
            94.06,
            94.11,
            92.94,
            93.86,
            93.72,
            93.33,
            92.91,
            92.89,
            93.61
           ],
           "y": [
            23.62,
            35.81,
            26.95,
            7.82,
            14.98,
            20.25,
            43.5,
            21.73,
            31.07,
            23.74,
            25.43
           ]
          },
          {
           "hoverinfo": "text",
           "hovertext": [
            "nflId:38544.0<br>displayName:Michael Brockers<br>Position:REO<br>Role:Pass Rush",
            "nflId:40000.0<br>displayName:Jamie Collins<br>Position:LLB<br>Role:Coverage",
            "nflId:40171.0<br>displayName:Nicholas Williams<br>Position:NT<br>Role:Pass Rush",
            "nflId:42444.0<br>displayName:Trey Flowers<br>Position:RLB<br>Role:Coverage",
            "nflId:43775.0<br>displayName:Romeo Okwara<br>Position:LEO<br>Role:Pass Rush",
            "nflId:44888.0<br>displayName:Alex Anzalone<br>Position:SCBR<br>Role:Coverage",
            "nflId:46151.0<br>displayName:Tracy Walker<br>Position:FSL<br>Role:Coverage",
            "nflId:47864.0<br>displayName:Will Harris<br>Position:FSR<br>Role:Coverage",
            "nflId:47929.0<br>displayName:Amani Oruwariye<br>Position:RCB<br>Role:Coverage",
            "nflId:53530.0<br>displayName:Ifeatu Melifonwu<br>Position:LCB<br>Role:Coverage",
            "nflId:53957.0<br>displayName:A.J. Parker<br>Position:SCBoL<br>Role:Coverage"
           ],
           "marker": {
            "color": "#0076B6"
           },
           "mode": "markers",
           "name": "DET",
           "type": "scatter",
           "x": [
            91.37,
            87.05,
            91.22,
            88.87,
            92.24,
            87.02,
            75.45,
            75.19,
            91.02,
            89.66,
            89.14
           ],
           "y": [
            18.92,
            28.16,
            23.62,
            18.36,
            29.17,
            14.57,
            33.83,
            15.05,
            7.48,
            44.09,
            35.72
           ]
          },
          {
           "hoverinfo": "none",
           "marker": {
            "color": "#CBB67C"
           },
           "mode": "markers",
           "name": "football",
           "type": "scatter",
           "x": [
            92.2
           ],
           "y": [
            23.77
           ]
          }
         ],
         "name": "3"
        },
        {
         "data": [
          {
           "hoverinfo": "none",
           "mode": "text",
           "showlegend": false,
           "text": [
            "10",
            "20",
            "30",
            "40",
            "50",
            "40",
            "30",
            "20",
            "10"
           ],
           "textfont": {
            "color": "#ffffff",
            "family": "Courier New, monospace",
            "size": 30
           },
           "type": "scatter",
           "x": [
            20,
            30,
            40,
            50,
            60,
            70,
            80,
            90,
            100
           ],
           "y": [
            5,
            5,
            5,
            5,
            5,
            5,
            5,
            5,
            5
           ]
          },
          {
           "hoverinfo": "none",
           "mode": "text",
           "showlegend": false,
           "text": [
            "10",
            "20",
            "30",
            "40",
            "50",
            "40",
            "30",
            "20",
            "10"
           ],
           "textfont": {
            "color": "#ffffff",
            "family": "Courier New, monospace",
            "size": 30
           },
           "type": "scatter",
           "x": [
            20,
            30,
            40,
            50,
            60,
            70,
            80,
            90,
            100
           ],
           "y": [
            48.5,
            48.5,
            48.5,
            48.5,
            48.5,
            48.5,
            48.5,
            48.5,
            48.5
           ]
          },
          {
           "hoverinfo": "none",
           "line": {
            "color": "blue",
            "dash": "dash"
           },
           "showlegend": false,
           "type": "scatter",
           "x": [
            92,
            92
           ],
           "y": [
            0,
            53.5
           ]
          },
          {
           "hoverinfo": "none",
           "line": {
            "color": "yellow",
            "dash": "dash"
           },
           "showlegend": false,
           "type": "scatter",
           "x": [
            102,
            102
           ],
           "y": [
            0,
            53.5
           ]
          },
          {
           "hoverinfo": "text",
           "hovertext": [
            "nflId:29851.0<br>displayName:Aaron Rodgers<br>Position:QB<br>Role:Pass",
            "nflId:41282.0<br>displayName:Davante Adams<br>Position:SRoWR<br>Role:Pass Route",
            "nflId:41296.0<br>displayName:Billy Turner<br>Position:RT<br>Role:Pass Block",
            "nflId:45635.0<br>displayName:Robert Tonyan<br>Position:LWR<br>Role:Pass Route",
            "nflId:46705.0<br>displayName:Allen Lazard<br>Position:SLWR<br>Role:Pass Route",
            "nflId:47827.0<br>displayName:Elgton Jenkins<br>Position:LT<br>Role:Pass Block",
            "nflId:52470.0<br>displayName:A.J. Dillon<br>Position:RWR<br>Role:Pass Route",
            "nflId:52600.0<br>displayName:Jon Runyan<br>Position:LG<br>Role:Pass Block",
            "nflId:53172.0<br>displayName:Dominique Dafney<br>Position:SRiWR<br>Role:Pass Route",
            "nflId:53491.0<br>displayName:Josh Myers<br>Position:C<br>Role:Pass Block",
            "nflId:53571.0<br>displayName:Royce Newman<br>Position:RG<br>Role:Pass Block"
           ],
           "marker": {
            "color": "#203731"
           },
           "mode": "markers",
           "name": "GB",
           "type": "scatter",
           "x": [
            96.8,
            93.57,
            94.07,
            94.11,
            92.94,
            93.86,
            93.72,
            93.33,
            92.91,
            92.9,
            93.61
           ],
           "y": [
            23.61,
            35.81,
            26.95,
            7.82,
            14.98,
            20.25,
            43.5,
            21.74,
            31.07,
            23.74,
            25.44
           ]
          },
          {
           "hoverinfo": "text",
           "hovertext": [
            "nflId:38544.0<br>displayName:Michael Brockers<br>Position:REO<br>Role:Pass Rush",
            "nflId:40000.0<br>displayName:Jamie Collins<br>Position:LLB<br>Role:Coverage",
            "nflId:40171.0<br>displayName:Nicholas Williams<br>Position:NT<br>Role:Pass Rush",
            "nflId:42444.0<br>displayName:Trey Flowers<br>Position:RLB<br>Role:Coverage",
            "nflId:43775.0<br>displayName:Romeo Okwara<br>Position:LEO<br>Role:Pass Rush",
            "nflId:44888.0<br>displayName:Alex Anzalone<br>Position:SCBR<br>Role:Coverage",
            "nflId:46151.0<br>displayName:Tracy Walker<br>Position:FSL<br>Role:Coverage",
            "nflId:47864.0<br>displayName:Will Harris<br>Position:FSR<br>Role:Coverage",
            "nflId:47929.0<br>displayName:Amani Oruwariye<br>Position:RCB<br>Role:Coverage",
            "nflId:53530.0<br>displayName:Ifeatu Melifonwu<br>Position:LCB<br>Role:Coverage",
            "nflId:53957.0<br>displayName:A.J. Parker<br>Position:SCBoL<br>Role:Coverage"
           ],
           "marker": {
            "color": "#0076B6"
           },
           "mode": "markers",
           "name": "DET",
           "type": "scatter",
           "x": [
            91.37,
            87.05,
            91.23,
            88.88,
            92.22,
            87.02,
            75.41,
            75.19,
            91,
            89.67,
            89.11
           ],
           "y": [
            18.92,
            28.16,
            23.63,
            18.36,
            29.18,
            14.58,
            33.87,
            15.06,
            7.47,
            44.08,
            35.7
           ]
          },
          {
           "hoverinfo": "none",
           "marker": {
            "color": "#CBB67C"
           },
           "mode": "markers",
           "name": "football",
           "type": "scatter",
           "x": [
            92.2
           ],
           "y": [
            23.77
           ]
          }
         ],
         "name": "4"
        },
        {
         "data": [
          {
           "hoverinfo": "none",
           "mode": "text",
           "showlegend": false,
           "text": [
            "10",
            "20",
            "30",
            "40",
            "50",
            "40",
            "30",
            "20",
            "10"
           ],
           "textfont": {
            "color": "#ffffff",
            "family": "Courier New, monospace",
            "size": 30
           },
           "type": "scatter",
           "x": [
            20,
            30,
            40,
            50,
            60,
            70,
            80,
            90,
            100
           ],
           "y": [
            5,
            5,
            5,
            5,
            5,
            5,
            5,
            5,
            5
           ]
          },
          {
           "hoverinfo": "none",
           "mode": "text",
           "showlegend": false,
           "text": [
            "10",
            "20",
            "30",
            "40",
            "50",
            "40",
            "30",
            "20",
            "10"
           ],
           "textfont": {
            "color": "#ffffff",
            "family": "Courier New, monospace",
            "size": 30
           },
           "type": "scatter",
           "x": [
            20,
            30,
            40,
            50,
            60,
            70,
            80,
            90,
            100
           ],
           "y": [
            48.5,
            48.5,
            48.5,
            48.5,
            48.5,
            48.5,
            48.5,
            48.5,
            48.5
           ]
          },
          {
           "hoverinfo": "none",
           "line": {
            "color": "blue",
            "dash": "dash"
           },
           "showlegend": false,
           "type": "scatter",
           "x": [
            92,
            92
           ],
           "y": [
            0,
            53.5
           ]
          },
          {
           "hoverinfo": "none",
           "line": {
            "color": "yellow",
            "dash": "dash"
           },
           "showlegend": false,
           "type": "scatter",
           "x": [
            102,
            102
           ],
           "y": [
            0,
            53.5
           ]
          },
          {
           "hoverinfo": "text",
           "hovertext": [
            "nflId:29851.0<br>displayName:Aaron Rodgers<br>Position:QB<br>Role:Pass",
            "nflId:41282.0<br>displayName:Davante Adams<br>Position:SRoWR<br>Role:Pass Route",
            "nflId:41296.0<br>displayName:Billy Turner<br>Position:RT<br>Role:Pass Block",
            "nflId:45635.0<br>displayName:Robert Tonyan<br>Position:LWR<br>Role:Pass Route",
            "nflId:46705.0<br>displayName:Allen Lazard<br>Position:SLWR<br>Role:Pass Route",
            "nflId:47827.0<br>displayName:Elgton Jenkins<br>Position:LT<br>Role:Pass Block",
            "nflId:52470.0<br>displayName:A.J. Dillon<br>Position:RWR<br>Role:Pass Route",
            "nflId:52600.0<br>displayName:Jon Runyan<br>Position:LG<br>Role:Pass Block",
            "nflId:53172.0<br>displayName:Dominique Dafney<br>Position:SRiWR<br>Role:Pass Route",
            "nflId:53491.0<br>displayName:Josh Myers<br>Position:C<br>Role:Pass Block",
            "nflId:53571.0<br>displayName:Royce Newman<br>Position:RG<br>Role:Pass Block"
           ],
           "marker": {
            "color": "#203731"
           },
           "mode": "markers",
           "name": "GB",
           "type": "scatter",
           "x": [
            96.78,
            93.57,
            94.07,
            94.1,
            92.94,
            93.86,
            93.72,
            93.33,
            92.91,
            92.92,
            93.61
           ],
           "y": [
            23.6,
            35.81,
            26.96,
            7.81,
            14.98,
            20.25,
            43.5,
            21.74,
            31.07,
            23.74,
            25.45
           ]
          },
          {
           "hoverinfo": "text",
           "hovertext": [
            "nflId:38544.0<br>displayName:Michael Brockers<br>Position:REO<br>Role:Pass Rush",
            "nflId:40000.0<br>displayName:Jamie Collins<br>Position:LLB<br>Role:Coverage",
            "nflId:40171.0<br>displayName:Nicholas Williams<br>Position:NT<br>Role:Pass Rush",
            "nflId:42444.0<br>displayName:Trey Flowers<br>Position:RLB<br>Role:Coverage",
            "nflId:43775.0<br>displayName:Romeo Okwara<br>Position:LEO<br>Role:Pass Rush",
            "nflId:44888.0<br>displayName:Alex Anzalone<br>Position:SCBR<br>Role:Coverage",
            "nflId:46151.0<br>displayName:Tracy Walker<br>Position:FSL<br>Role:Coverage",
            "nflId:47864.0<br>displayName:Will Harris<br>Position:FSR<br>Role:Coverage",
            "nflId:47929.0<br>displayName:Amani Oruwariye<br>Position:RCB<br>Role:Coverage",
            "nflId:53530.0<br>displayName:Ifeatu Melifonwu<br>Position:LCB<br>Role:Coverage",
            "nflId:53957.0<br>displayName:A.J. Parker<br>Position:SCBoL<br>Role:Coverage"
           ],
           "marker": {
            "color": "#0076B6"
           },
           "mode": "markers",
           "name": "DET",
           "type": "scatter",
           "x": [
            91.37,
            87.05,
            91.26,
            88.88,
            92.22,
            87.03,
            75.39,
            75.18,
            91,
            89.66,
            89.07
           ],
           "y": [
            18.91,
            28.16,
            23.65,
            18.36,
            29.18,
            14.58,
            33.89,
            15.06,
            7.42,
            44.08,
            35.68
           ]
          },
          {
           "hoverinfo": "none",
           "marker": {
            "color": "#CBB67C"
           },
           "mode": "markers",
           "name": "football",
           "type": "scatter",
           "x": [
            92.2
           ],
           "y": [
            23.77
           ]
          }
         ],
         "name": "5"
        },
        {
         "data": [
          {
           "hoverinfo": "none",
           "mode": "text",
           "showlegend": false,
           "text": [
            "10",
            "20",
            "30",
            "40",
            "50",
            "40",
            "30",
            "20",
            "10"
           ],
           "textfont": {
            "color": "#ffffff",
            "family": "Courier New, monospace",
            "size": 30
           },
           "type": "scatter",
           "x": [
            20,
            30,
            40,
            50,
            60,
            70,
            80,
            90,
            100
           ],
           "y": [
            5,
            5,
            5,
            5,
            5,
            5,
            5,
            5,
            5
           ]
          },
          {
           "hoverinfo": "none",
           "mode": "text",
           "showlegend": false,
           "text": [
            "10",
            "20",
            "30",
            "40",
            "50",
            "40",
            "30",
            "20",
            "10"
           ],
           "textfont": {
            "color": "#ffffff",
            "family": "Courier New, monospace",
            "size": 30
           },
           "type": "scatter",
           "x": [
            20,
            30,
            40,
            50,
            60,
            70,
            80,
            90,
            100
           ],
           "y": [
            48.5,
            48.5,
            48.5,
            48.5,
            48.5,
            48.5,
            48.5,
            48.5,
            48.5
           ]
          },
          {
           "hoverinfo": "none",
           "line": {
            "color": "blue",
            "dash": "dash"
           },
           "showlegend": false,
           "type": "scatter",
           "x": [
            92,
            92
           ],
           "y": [
            0,
            53.5
           ]
          },
          {
           "hoverinfo": "none",
           "line": {
            "color": "yellow",
            "dash": "dash"
           },
           "showlegend": false,
           "type": "scatter",
           "x": [
            102,
            102
           ],
           "y": [
            0,
            53.5
           ]
          },
          {
           "hoverinfo": "text",
           "hovertext": [
            "nflId:29851.0<br>displayName:Aaron Rodgers<br>Position:QB<br>Role:Pass",
            "nflId:41282.0<br>displayName:Davante Adams<br>Position:SRoWR<br>Role:Pass Route",
            "nflId:41296.0<br>displayName:Billy Turner<br>Position:RT<br>Role:Pass Block",
            "nflId:45635.0<br>displayName:Robert Tonyan<br>Position:LWR<br>Role:Pass Route",
            "nflId:46705.0<br>displayName:Allen Lazard<br>Position:SLWR<br>Role:Pass Route",
            "nflId:47827.0<br>displayName:Elgton Jenkins<br>Position:LT<br>Role:Pass Block",
            "nflId:52470.0<br>displayName:A.J. Dillon<br>Position:RWR<br>Role:Pass Route",
            "nflId:52600.0<br>displayName:Jon Runyan<br>Position:LG<br>Role:Pass Block",
            "nflId:53172.0<br>displayName:Dominique Dafney<br>Position:SRiWR<br>Role:Pass Route",
            "nflId:53491.0<br>displayName:Josh Myers<br>Position:C<br>Role:Pass Block",
            "nflId:53571.0<br>displayName:Royce Newman<br>Position:RG<br>Role:Pass Block"
           ],
           "marker": {
            "color": "#203731"
           },
           "mode": "markers",
           "name": "GB",
           "type": "scatter",
           "x": [
            96.78,
            93.57,
            94.07,
            94.1,
            92.94,
            93.86,
            93.72,
            93.35,
            92.91,
            92.95,
            93.62
           ],
           "y": [
            23.59,
            35.81,
            26.97,
            7.81,
            14.98,
            20.25,
            43.5,
            21.73,
            31.07,
            23.73,
            25.47
           ]
          },
          {
           "hoverinfo": "text",
           "hovertext": [
            "nflId:38544.0<br>displayName:Michael Brockers<br>Position:REO<br>Role:Pass Rush",
            "nflId:40000.0<br>displayName:Jamie Collins<br>Position:LLB<br>Role:Coverage",
            "nflId:40171.0<br>displayName:Nicholas Williams<br>Position:NT<br>Role:Pass Rush",
            "nflId:42444.0<br>displayName:Trey Flowers<br>Position:RLB<br>Role:Coverage",
            "nflId:43775.0<br>displayName:Romeo Okwara<br>Position:LEO<br>Role:Pass Rush",
            "nflId:44888.0<br>displayName:Alex Anzalone<br>Position:SCBR<br>Role:Coverage",
            "nflId:46151.0<br>displayName:Tracy Walker<br>Position:FSL<br>Role:Coverage",
            "nflId:47864.0<br>displayName:Will Harris<br>Position:FSR<br>Role:Coverage",
            "nflId:47929.0<br>displayName:Amani Oruwariye<br>Position:RCB<br>Role:Coverage",
            "nflId:53530.0<br>displayName:Ifeatu Melifonwu<br>Position:LCB<br>Role:Coverage",
            "nflId:53957.0<br>displayName:A.J. Parker<br>Position:SCBoL<br>Role:Coverage"
           ],
           "marker": {
            "color": "#0076B6"
           },
           "mode": "markers",
           "name": "DET",
           "type": "scatter",
           "x": [
            91.39,
            87.04,
            91.3,
            88.89,
            92.23,
            87.03,
            75.34,
            75.17,
            90.98,
            89.66,
            88.99
           ],
           "y": [
            18.89,
            28.17,
            23.67,
            18.36,
            29.18,
            14.59,
            33.91,
            15.05,
            7.42,
            44.08,
            35.63
           ]
          },
          {
           "hoverinfo": "none",
           "marker": {
            "color": "#CBB67C"
           },
           "mode": "markers",
           "name": "football",
           "type": "scatter",
           "x": [
            92.2
           ],
           "y": [
            23.77
           ]
          }
         ],
         "name": "6"
        },
        {
         "data": [
          {
           "hoverinfo": "none",
           "mode": "text",
           "showlegend": false,
           "text": [
            "10",
            "20",
            "30",
            "40",
            "50",
            "40",
            "30",
            "20",
            "10"
           ],
           "textfont": {
            "color": "#ffffff",
            "family": "Courier New, monospace",
            "size": 30
           },
           "type": "scatter",
           "x": [
            20,
            30,
            40,
            50,
            60,
            70,
            80,
            90,
            100
           ],
           "y": [
            5,
            5,
            5,
            5,
            5,
            5,
            5,
            5,
            5
           ]
          },
          {
           "hoverinfo": "none",
           "mode": "text",
           "showlegend": false,
           "text": [
            "10",
            "20",
            "30",
            "40",
            "50",
            "40",
            "30",
            "20",
            "10"
           ],
           "textfont": {
            "color": "#ffffff",
            "family": "Courier New, monospace",
            "size": 30
           },
           "type": "scatter",
           "x": [
            20,
            30,
            40,
            50,
            60,
            70,
            80,
            90,
            100
           ],
           "y": [
            48.5,
            48.5,
            48.5,
            48.5,
            48.5,
            48.5,
            48.5,
            48.5,
            48.5
           ]
          },
          {
           "hoverinfo": "none",
           "line": {
            "color": "blue",
            "dash": "dash"
           },
           "showlegend": false,
           "type": "scatter",
           "x": [
            92,
            92
           ],
           "y": [
            0,
            53.5
           ]
          },
          {
           "hoverinfo": "none",
           "line": {
            "color": "yellow",
            "dash": "dash"
           },
           "showlegend": false,
           "type": "scatter",
           "x": [
            102,
            102
           ],
           "y": [
            0,
            53.5
           ]
          },
          {
           "hoverinfo": "text",
           "hovertext": [
            "nflId:29851.0<br>displayName:Aaron Rodgers<br>Position:QB<br>Role:Pass",
            "nflId:41282.0<br>displayName:Davante Adams<br>Position:SRoWR<br>Role:Pass Route",
            "nflId:41296.0<br>displayName:Billy Turner<br>Position:RT<br>Role:Pass Block",
            "nflId:45635.0<br>displayName:Robert Tonyan<br>Position:LWR<br>Role:Pass Route",
            "nflId:46705.0<br>displayName:Allen Lazard<br>Position:SLWR<br>Role:Pass Route",
            "nflId:47827.0<br>displayName:Elgton Jenkins<br>Position:LT<br>Role:Pass Block",
            "nflId:52470.0<br>displayName:A.J. Dillon<br>Position:RWR<br>Role:Pass Route",
            "nflId:52600.0<br>displayName:Jon Runyan<br>Position:LG<br>Role:Pass Block",
            "nflId:53172.0<br>displayName:Dominique Dafney<br>Position:SRiWR<br>Role:Pass Route",
            "nflId:53491.0<br>displayName:Josh Myers<br>Position:C<br>Role:Pass Block",
            "nflId:53571.0<br>displayName:Royce Newman<br>Position:RG<br>Role:Pass Block"
           ],
           "marker": {
            "color": "#203731"
           },
           "mode": "markers",
           "name": "GB",
           "type": "scatter",
           "x": [
            96.79,
            93.57,
            94.08,
            94.09,
            92.93,
            93.87,
            93.71,
            93.37,
            92.89,
            93.02,
            93.65
           ],
           "y": [
            23.59,
            35.81,
            27,
            7.81,
            14.98,
            20.24,
            43.5,
            21.73,
            31.07,
            23.72,
            25.52
           ]
          },
          {
           "hoverinfo": "text",
           "hovertext": [
            "nflId:38544.0<br>displayName:Michael Brockers<br>Position:REO<br>Role:Pass Rush",
            "nflId:40000.0<br>displayName:Jamie Collins<br>Position:LLB<br>Role:Coverage",
            "nflId:40171.0<br>displayName:Nicholas Williams<br>Position:NT<br>Role:Pass Rush",
            "nflId:42444.0<br>displayName:Trey Flowers<br>Position:RLB<br>Role:Coverage",
            "nflId:43775.0<br>displayName:Romeo Okwara<br>Position:LEO<br>Role:Pass Rush",
            "nflId:44888.0<br>displayName:Alex Anzalone<br>Position:SCBR<br>Role:Coverage",
            "nflId:46151.0<br>displayName:Tracy Walker<br>Position:FSL<br>Role:Coverage",
            "nflId:47864.0<br>displayName:Will Harris<br>Position:FSR<br>Role:Coverage",
            "nflId:47929.0<br>displayName:Amani Oruwariye<br>Position:RCB<br>Role:Coverage",
            "nflId:53530.0<br>displayName:Ifeatu Melifonwu<br>Position:LCB<br>Role:Coverage",
            "nflId:53957.0<br>displayName:A.J. Parker<br>Position:SCBoL<br>Role:Coverage"
           ],
           "marker": {
            "color": "#0076B6"
           },
           "mode": "markers",
           "name": "DET",
           "type": "scatter",
           "x": [
            91.41,
            87.04,
            91.38,
            88.89,
            92.25,
            87.03,
            75.27,
            75.16,
            90.97,
            89.66,
            88.85
           ],
           "y": [
            18.88,
            28.17,
            23.71,
            18.37,
            29.18,
            14.59,
            33.95,
            15.04,
            7.4,
            44.09,
            35.55
           ]
          },
          {
           "hoverinfo": "none",
           "marker": {
            "color": "#CBB67C"
           },
           "mode": "markers",
           "name": "football",
           "type": "scatter",
           "x": [
            92.2
           ],
           "y": [
            23.77
           ]
          }
         ],
         "name": "7"
        },
        {
         "data": [
          {
           "hoverinfo": "none",
           "mode": "text",
           "showlegend": false,
           "text": [
            "10",
            "20",
            "30",
            "40",
            "50",
            "40",
            "30",
            "20",
            "10"
           ],
           "textfont": {
            "color": "#ffffff",
            "family": "Courier New, monospace",
            "size": 30
           },
           "type": "scatter",
           "x": [
            20,
            30,
            40,
            50,
            60,
            70,
            80,
            90,
            100
           ],
           "y": [
            5,
            5,
            5,
            5,
            5,
            5,
            5,
            5,
            5
           ]
          },
          {
           "hoverinfo": "none",
           "mode": "text",
           "showlegend": false,
           "text": [
            "10",
            "20",
            "30",
            "40",
            "50",
            "40",
            "30",
            "20",
            "10"
           ],
           "textfont": {
            "color": "#ffffff",
            "family": "Courier New, monospace",
            "size": 30
           },
           "type": "scatter",
           "x": [
            20,
            30,
            40,
            50,
            60,
            70,
            80,
            90,
            100
           ],
           "y": [
            48.5,
            48.5,
            48.5,
            48.5,
            48.5,
            48.5,
            48.5,
            48.5,
            48.5
           ]
          },
          {
           "hoverinfo": "none",
           "line": {
            "color": "blue",
            "dash": "dash"
           },
           "showlegend": false,
           "type": "scatter",
           "x": [
            92,
            92
           ],
           "y": [
            0,
            53.5
           ]
          },
          {
           "hoverinfo": "none",
           "line": {
            "color": "yellow",
            "dash": "dash"
           },
           "showlegend": false,
           "type": "scatter",
           "x": [
            102,
            102
           ],
           "y": [
            0,
            53.5
           ]
          },
          {
           "hoverinfo": "text",
           "hovertext": [
            "nflId:29851.0<br>displayName:Aaron Rodgers<br>Position:QB<br>Role:Pass",
            "nflId:41282.0<br>displayName:Davante Adams<br>Position:SRoWR<br>Role:Pass Route",
            "nflId:41296.0<br>displayName:Billy Turner<br>Position:RT<br>Role:Pass Block",
            "nflId:45635.0<br>displayName:Robert Tonyan<br>Position:LWR<br>Role:Pass Route",
            "nflId:46705.0<br>displayName:Allen Lazard<br>Position:SLWR<br>Role:Pass Route",
            "nflId:47827.0<br>displayName:Elgton Jenkins<br>Position:LT<br>Role:Pass Block",
            "nflId:52470.0<br>displayName:A.J. Dillon<br>Position:RWR<br>Role:Pass Route",
            "nflId:52600.0<br>displayName:Jon Runyan<br>Position:LG<br>Role:Pass Block",
            "nflId:53172.0<br>displayName:Dominique Dafney<br>Position:SRiWR<br>Role:Pass Route",
            "nflId:53491.0<br>displayName:Josh Myers<br>Position:C<br>Role:Pass Block",
            "nflId:53571.0<br>displayName:Royce Newman<br>Position:RG<br>Role:Pass Block"
           ],
           "marker": {
            "color": "#203731"
           },
           "mode": "markers",
           "name": "GB",
           "type": "scatter",
           "x": [
            96.83,
            93.55,
            94.13,
            94.07,
            92.92,
            93.87,
            93.7,
            93.43,
            92.86,
            93.11,
            93.71
           ],
           "y": [
            23.61,
            35.81,
            27.06,
            7.8,
            14.99,
            20.24,
            43.5,
            21.71,
            31.06,
            23.72,
            25.57
           ]
          },
          {
           "hoverinfo": "text",
           "hovertext": [
            "nflId:38544.0<br>displayName:Michael Brockers<br>Position:REO<br>Role:Pass Rush",
            "nflId:40000.0<br>displayName:Jamie Collins<br>Position:LLB<br>Role:Coverage",
            "nflId:40171.0<br>displayName:Nicholas Williams<br>Position:NT<br>Role:Pass Rush",
            "nflId:42444.0<br>displayName:Trey Flowers<br>Position:RLB<br>Role:Coverage",
            "nflId:43775.0<br>displayName:Romeo Okwara<br>Position:LEO<br>Role:Pass Rush",
            "nflId:44888.0<br>displayName:Alex Anzalone<br>Position:SCBR<br>Role:Coverage",
            "nflId:46151.0<br>displayName:Tracy Walker<br>Position:FSL<br>Role:Coverage",
            "nflId:47864.0<br>displayName:Will Harris<br>Position:FSR<br>Role:Coverage",
            "nflId:47929.0<br>displayName:Amani Oruwariye<br>Position:RCB<br>Role:Coverage",
            "nflId:53530.0<br>displayName:Ifeatu Melifonwu<br>Position:LCB<br>Role:Coverage",
            "nflId:53957.0<br>displayName:A.J. Parker<br>Position:SCBoL<br>Role:Coverage"
           ],
           "marker": {
            "color": "#0076B6"
           },
           "mode": "markers",
           "name": "DET",
           "type": "scatter",
           "x": [
            91.45,
            87.04,
            91.48,
            88.89,
            92.29,
            87.04,
            75.16,
            75.16,
            90.96,
            89.66,
            88.65
           ],
           "y": [
            18.85,
            28.17,
            23.75,
            18.38,
            29.18,
            14.58,
            34,
            15.04,
            7.38,
            44.1,
            35.43
           ]
          },
          {
           "hoverinfo": "none",
           "marker": {
            "color": "#CBB67C"
           },
           "mode": "markers",
           "name": "football",
           "type": "scatter",
           "x": [
            94.1
           ],
           "y": [
            23.71
           ]
          }
         ],
         "name": "8"
        },
        {
         "data": [
          {
           "hoverinfo": "none",
           "mode": "text",
           "showlegend": false,
           "text": [
            "10",
            "20",
            "30",
            "40",
            "50",
            "40",
            "30",
            "20",
            "10"
           ],
           "textfont": {
            "color": "#ffffff",
            "family": "Courier New, monospace",
            "size": 30
           },
           "type": "scatter",
           "x": [
            20,
            30,
            40,
            50,
            60,
            70,
            80,
            90,
            100
           ],
           "y": [
            5,
            5,
            5,
            5,
            5,
            5,
            5,
            5,
            5
           ]
          },
          {
           "hoverinfo": "none",
           "mode": "text",
           "showlegend": false,
           "text": [
            "10",
            "20",
            "30",
            "40",
            "50",
            "40",
            "30",
            "20",
            "10"
           ],
           "textfont": {
            "color": "#ffffff",
            "family": "Courier New, monospace",
            "size": 30
           },
           "type": "scatter",
           "x": [
            20,
            30,
            40,
            50,
            60,
            70,
            80,
            90,
            100
           ],
           "y": [
            48.5,
            48.5,
            48.5,
            48.5,
            48.5,
            48.5,
            48.5,
            48.5,
            48.5
           ]
          },
          {
           "hoverinfo": "none",
           "line": {
            "color": "blue",
            "dash": "dash"
           },
           "showlegend": false,
           "type": "scatter",
           "x": [
            92,
            92
           ],
           "y": [
            0,
            53.5
           ]
          },
          {
           "hoverinfo": "none",
           "line": {
            "color": "yellow",
            "dash": "dash"
           },
           "showlegend": false,
           "type": "scatter",
           "x": [
            102,
            102
           ],
           "y": [
            0,
            53.5
           ]
          },
          {
           "hoverinfo": "text",
           "hovertext": [
            "nflId:29851.0<br>displayName:Aaron Rodgers<br>Position:QB<br>Role:Pass",
            "nflId:41282.0<br>displayName:Davante Adams<br>Position:SRoWR<br>Role:Pass Route",
            "nflId:41296.0<br>displayName:Billy Turner<br>Position:RT<br>Role:Pass Block",
            "nflId:45635.0<br>displayName:Robert Tonyan<br>Position:LWR<br>Role:Pass Route",
            "nflId:46705.0<br>displayName:Allen Lazard<br>Position:SLWR<br>Role:Pass Route",
            "nflId:47827.0<br>displayName:Elgton Jenkins<br>Position:LT<br>Role:Pass Block",
            "nflId:52470.0<br>displayName:A.J. Dillon<br>Position:RWR<br>Role:Pass Route",
            "nflId:52600.0<br>displayName:Jon Runyan<br>Position:LG<br>Role:Pass Block",
            "nflId:53172.0<br>displayName:Dominique Dafney<br>Position:SRiWR<br>Role:Pass Route",
            "nflId:53491.0<br>displayName:Josh Myers<br>Position:C<br>Role:Pass Block",
            "nflId:53571.0<br>displayName:Royce Newman<br>Position:RG<br>Role:Pass Block"
           ],
           "marker": {
            "color": "#203731"
           },
           "mode": "markers",
           "name": "GB",
           "type": "scatter",
           "x": [
            96.9,
            93.54,
            94.19,
            94.02,
            92.9,
            93.89,
            93.67,
            93.51,
            92.8,
            93.21,
            93.79
           ],
           "y": [
            23.63,
            35.81,
            27.14,
            7.78,
            14.98,
            20.23,
            43.5,
            21.68,
            31.05,
            23.72,
            25.65
           ]
          },
          {
           "hoverinfo": "text",
           "hovertext": [
            "nflId:38544.0<br>displayName:Michael Brockers<br>Position:REO<br>Role:Pass Rush",
            "nflId:40000.0<br>displayName:Jamie Collins<br>Position:LLB<br>Role:Coverage",
            "nflId:40171.0<br>displayName:Nicholas Williams<br>Position:NT<br>Role:Pass Rush",
            "nflId:42444.0<br>displayName:Trey Flowers<br>Position:RLB<br>Role:Coverage",
            "nflId:43775.0<br>displayName:Romeo Okwara<br>Position:LEO<br>Role:Pass Rush",
            "nflId:44888.0<br>displayName:Alex Anzalone<br>Position:SCBR<br>Role:Coverage",
            "nflId:46151.0<br>displayName:Tracy Walker<br>Position:FSL<br>Role:Coverage",
            "nflId:47864.0<br>displayName:Will Harris<br>Position:FSR<br>Role:Coverage",
            "nflId:47929.0<br>displayName:Amani Oruwariye<br>Position:RCB<br>Role:Coverage",
            "nflId:53530.0<br>displayName:Ifeatu Melifonwu<br>Position:LCB<br>Role:Coverage",
            "nflId:53957.0<br>displayName:A.J. Parker<br>Position:SCBoL<br>Role:Coverage"
           ],
           "marker": {
            "color": "#0076B6"
           },
           "mode": "markers",
           "name": "DET",
           "type": "scatter",
           "x": [
            91.55,
            87.03,
            91.64,
            88.9,
            92.38,
            87.04,
            75.02,
            75.13,
            90.95,
            89.66,
            88.41
           ],
           "y": [
            18.82,
            28.17,
            23.8,
            18.39,
            29.17,
            14.58,
            34.08,
            15.05,
            7.37,
            44.12,
            35.3
           ]
          },
          {
           "hoverinfo": "none",
           "marker": {
            "color": "#CBB67C"
           },
           "mode": "markers",
           "name": "football",
           "type": "scatter",
           "x": [
            94.7
           ],
           "y": [
            23.73
           ]
          }
         ],
         "name": "9"
        },
        {
         "data": [
          {
           "hoverinfo": "none",
           "mode": "text",
           "showlegend": false,
           "text": [
            "10",
            "20",
            "30",
            "40",
            "50",
            "40",
            "30",
            "20",
            "10"
           ],
           "textfont": {
            "color": "#ffffff",
            "family": "Courier New, monospace",
            "size": 30
           },
           "type": "scatter",
           "x": [
            20,
            30,
            40,
            50,
            60,
            70,
            80,
            90,
            100
           ],
           "y": [
            5,
            5,
            5,
            5,
            5,
            5,
            5,
            5,
            5
           ]
          },
          {
           "hoverinfo": "none",
           "mode": "text",
           "showlegend": false,
           "text": [
            "10",
            "20",
            "30",
            "40",
            "50",
            "40",
            "30",
            "20",
            "10"
           ],
           "textfont": {
            "color": "#ffffff",
            "family": "Courier New, monospace",
            "size": 30
           },
           "type": "scatter",
           "x": [
            20,
            30,
            40,
            50,
            60,
            70,
            80,
            90,
            100
           ],
           "y": [
            48.5,
            48.5,
            48.5,
            48.5,
            48.5,
            48.5,
            48.5,
            48.5,
            48.5
           ]
          },
          {
           "hoverinfo": "none",
           "line": {
            "color": "blue",
            "dash": "dash"
           },
           "showlegend": false,
           "type": "scatter",
           "x": [
            92,
            92
           ],
           "y": [
            0,
            53.5
           ]
          },
          {
           "hoverinfo": "none",
           "line": {
            "color": "yellow",
            "dash": "dash"
           },
           "showlegend": false,
           "type": "scatter",
           "x": [
            102,
            102
           ],
           "y": [
            0,
            53.5
           ]
          },
          {
           "hoverinfo": "text",
           "hovertext": [
            "nflId:29851.0<br>displayName:Aaron Rodgers<br>Position:QB<br>Role:Pass",
            "nflId:41282.0<br>displayName:Davante Adams<br>Position:SRoWR<br>Role:Pass Route",
            "nflId:41296.0<br>displayName:Billy Turner<br>Position:RT<br>Role:Pass Block",
            "nflId:45635.0<br>displayName:Robert Tonyan<br>Position:LWR<br>Role:Pass Route",
            "nflId:46705.0<br>displayName:Allen Lazard<br>Position:SLWR<br>Role:Pass Route",
            "nflId:47827.0<br>displayName:Elgton Jenkins<br>Position:LT<br>Role:Pass Block",
            "nflId:52470.0<br>displayName:A.J. Dillon<br>Position:RWR<br>Role:Pass Route",
            "nflId:52600.0<br>displayName:Jon Runyan<br>Position:LG<br>Role:Pass Block",
            "nflId:53172.0<br>displayName:Dominique Dafney<br>Position:SRiWR<br>Role:Pass Route",
            "nflId:53491.0<br>displayName:Josh Myers<br>Position:C<br>Role:Pass Block",
            "nflId:53571.0<br>displayName:Royce Newman<br>Position:RG<br>Role:Pass Block"
           ],
           "marker": {
            "color": "#203731"
           },
           "mode": "markers",
           "name": "GB",
           "type": "scatter",
           "x": [
            96.98,
            93.48,
            94.27,
            93.93,
            92.83,
            93.94,
            93.62,
            93.62,
            92.69,
            93.35,
            93.89
           ],
           "y": [
            23.66,
            35.82,
            27.23,
            7.75,
            14.97,
            20.2,
            43.5,
            21.64,
            31.03,
            23.73,
            25.74
           ]
          },
          {
           "hoverinfo": "text",
           "hovertext": [
            "nflId:38544.0<br>displayName:Michael Brockers<br>Position:REO<br>Role:Pass Rush",
            "nflId:40000.0<br>displayName:Jamie Collins<br>Position:LLB<br>Role:Coverage",
            "nflId:40171.0<br>displayName:Nicholas Williams<br>Position:NT<br>Role:Pass Rush",
            "nflId:42444.0<br>displayName:Trey Flowers<br>Position:RLB<br>Role:Coverage",
            "nflId:43775.0<br>displayName:Romeo Okwara<br>Position:LEO<br>Role:Pass Rush",
            "nflId:44888.0<br>displayName:Alex Anzalone<br>Position:SCBR<br>Role:Coverage",
            "nflId:46151.0<br>displayName:Tracy Walker<br>Position:FSL<br>Role:Coverage",
            "nflId:47864.0<br>displayName:Will Harris<br>Position:FSR<br>Role:Coverage",
            "nflId:47929.0<br>displayName:Amani Oruwariye<br>Position:RCB<br>Role:Coverage",
            "nflId:53530.0<br>displayName:Ifeatu Melifonwu<br>Position:LCB<br>Role:Coverage",
            "nflId:53957.0<br>displayName:A.J. Parker<br>Position:SCBoL<br>Role:Coverage"
           ],
           "marker": {
            "color": "#0076B6"
           },
           "mode": "markers",
           "name": "DET",
           "type": "scatter",
           "x": [
            91.69,
            87.02,
            91.83,
            88.91,
            92.52,
            87.04,
            74.84,
            75.12,
            90.93,
            89.66,
            88.11
           ],
           "y": [
            18.79,
            28.18,
            23.87,
            18.42,
            29.15,
            14.57,
            34.17,
            15.05,
            7.33,
            44.12,
            35.17
           ]
          },
          {
           "hoverinfo": "none",
           "marker": {
            "color": "#CBB67C"
           },
           "mode": "markers",
           "name": "football",
           "type": "scatter",
           "x": [
            95.31
           ],
           "y": [
            23.75
           ]
          }
         ],
         "name": "10"
        },
        {
         "data": [
          {
           "hoverinfo": "none",
           "mode": "text",
           "showlegend": false,
           "text": [
            "10",
            "20",
            "30",
            "40",
            "50",
            "40",
            "30",
            "20",
            "10"
           ],
           "textfont": {
            "color": "#ffffff",
            "family": "Courier New, monospace",
            "size": 30
           },
           "type": "scatter",
           "x": [
            20,
            30,
            40,
            50,
            60,
            70,
            80,
            90,
            100
           ],
           "y": [
            5,
            5,
            5,
            5,
            5,
            5,
            5,
            5,
            5
           ]
          },
          {
           "hoverinfo": "none",
           "mode": "text",
           "showlegend": false,
           "text": [
            "10",
            "20",
            "30",
            "40",
            "50",
            "40",
            "30",
            "20",
            "10"
           ],
           "textfont": {
            "color": "#ffffff",
            "family": "Courier New, monospace",
            "size": 30
           },
           "type": "scatter",
           "x": [
            20,
            30,
            40,
            50,
            60,
            70,
            80,
            90,
            100
           ],
           "y": [
            48.5,
            48.5,
            48.5,
            48.5,
            48.5,
            48.5,
            48.5,
            48.5,
            48.5
           ]
          },
          {
           "hoverinfo": "none",
           "line": {
            "color": "blue",
            "dash": "dash"
           },
           "showlegend": false,
           "type": "scatter",
           "x": [
            92,
            92
           ],
           "y": [
            0,
            53.5
           ]
          },
          {
           "hoverinfo": "none",
           "line": {
            "color": "yellow",
            "dash": "dash"
           },
           "showlegend": false,
           "type": "scatter",
           "x": [
            102,
            102
           ],
           "y": [
            0,
            53.5
           ]
          },
          {
           "hoverinfo": "text",
           "hovertext": [
            "nflId:29851.0<br>displayName:Aaron Rodgers<br>Position:QB<br>Role:Pass",
            "nflId:41282.0<br>displayName:Davante Adams<br>Position:SRoWR<br>Role:Pass Route",
            "nflId:41296.0<br>displayName:Billy Turner<br>Position:RT<br>Role:Pass Block",
            "nflId:45635.0<br>displayName:Robert Tonyan<br>Position:LWR<br>Role:Pass Route",
            "nflId:46705.0<br>displayName:Allen Lazard<br>Position:SLWR<br>Role:Pass Route",
            "nflId:47827.0<br>displayName:Elgton Jenkins<br>Position:LT<br>Role:Pass Block",
            "nflId:52470.0<br>displayName:A.J. Dillon<br>Position:RWR<br>Role:Pass Route",
            "nflId:52600.0<br>displayName:Jon Runyan<br>Position:LG<br>Role:Pass Block",
            "nflId:53172.0<br>displayName:Dominique Dafney<br>Position:SRiWR<br>Role:Pass Route",
            "nflId:53491.0<br>displayName:Josh Myers<br>Position:C<br>Role:Pass Block",
            "nflId:53571.0<br>displayName:Royce Newman<br>Position:RG<br>Role:Pass Block"
           ],
           "marker": {
            "color": "#203731"
           },
           "mode": "markers",
           "name": "GB",
           "type": "scatter",
           "x": [
            97.08,
            93.37,
            94.4,
            93.81,
            92.7,
            94.02,
            93.53,
            93.75,
            92.54,
            93.5,
            94.02
           ],
           "y": [
            23.68,
            35.83,
            27.35,
            7.68,
            14.94,
            20.15,
            43.5,
            21.62,
            31,
            23.75,
            25.83
           ]
          },
          {
           "hoverinfo": "text",
           "hovertext": [
            "nflId:38544.0<br>displayName:Michael Brockers<br>Position:REO<br>Role:Pass Rush",
            "nflId:40000.0<br>displayName:Jamie Collins<br>Position:LLB<br>Role:Coverage",
            "nflId:40171.0<br>displayName:Nicholas Williams<br>Position:NT<br>Role:Pass Rush",
            "nflId:42444.0<br>displayName:Trey Flowers<br>Position:RLB<br>Role:Coverage",
            "nflId:43775.0<br>displayName:Romeo Okwara<br>Position:LEO<br>Role:Pass Rush",
            "nflId:44888.0<br>displayName:Alex Anzalone<br>Position:SCBR<br>Role:Coverage",
            "nflId:46151.0<br>displayName:Tracy Walker<br>Position:FSL<br>Role:Coverage",
            "nflId:47864.0<br>displayName:Will Harris<br>Position:FSR<br>Role:Coverage",
            "nflId:47929.0<br>displayName:Amani Oruwariye<br>Position:RCB<br>Role:Coverage",
            "nflId:53530.0<br>displayName:Ifeatu Melifonwu<br>Position:LCB<br>Role:Coverage",
            "nflId:53957.0<br>displayName:A.J. Parker<br>Position:SCBoL<br>Role:Coverage"
           ],
           "marker": {
            "color": "#0076B6"
           },
           "mode": "markers",
           "name": "DET",
           "type": "scatter",
           "x": [
            91.87,
            87.02,
            92.06,
            88.91,
            92.72,
            87.04,
            74.63,
            75.1,
            90.9,
            89.66,
            87.78
           ],
           "y": [
            18.75,
            28.18,
            23.93,
            18.45,
            29.13,
            14.56,
            34.29,
            15.06,
            7.28,
            44.12,
            35.04
           ]
          },
          {
           "hoverinfo": "none",
           "marker": {
            "color": "#CBB67C"
           },
           "mode": "markers",
           "name": "football",
           "type": "scatter",
           "x": [
            95.9
           ],
           "y": [
            23.76
           ]
          }
         ],
         "name": "11"
        },
        {
         "data": [
          {
           "hoverinfo": "none",
           "mode": "text",
           "showlegend": false,
           "text": [
            "10",
            "20",
            "30",
            "40",
            "50",
            "40",
            "30",
            "20",
            "10"
           ],
           "textfont": {
            "color": "#ffffff",
            "family": "Courier New, monospace",
            "size": 30
           },
           "type": "scatter",
           "x": [
            20,
            30,
            40,
            50,
            60,
            70,
            80,
            90,
            100
           ],
           "y": [
            5,
            5,
            5,
            5,
            5,
            5,
            5,
            5,
            5
           ]
          },
          {
           "hoverinfo": "none",
           "mode": "text",
           "showlegend": false,
           "text": [
            "10",
            "20",
            "30",
            "40",
            "50",
            "40",
            "30",
            "20",
            "10"
           ],
           "textfont": {
            "color": "#ffffff",
            "family": "Courier New, monospace",
            "size": 30
           },
           "type": "scatter",
           "x": [
            20,
            30,
            40,
            50,
            60,
            70,
            80,
            90,
            100
           ],
           "y": [
            48.5,
            48.5,
            48.5,
            48.5,
            48.5,
            48.5,
            48.5,
            48.5,
            48.5
           ]
          },
          {
           "hoverinfo": "none",
           "line": {
            "color": "blue",
            "dash": "dash"
           },
           "showlegend": false,
           "type": "scatter",
           "x": [
            92,
            92
           ],
           "y": [
            0,
            53.5
           ]
          },
          {
           "hoverinfo": "none",
           "line": {
            "color": "yellow",
            "dash": "dash"
           },
           "showlegend": false,
           "type": "scatter",
           "x": [
            102,
            102
           ],
           "y": [
            0,
            53.5
           ]
          },
          {
           "hoverinfo": "text",
           "hovertext": [
            "nflId:29851.0<br>displayName:Aaron Rodgers<br>Position:QB<br>Role:Pass",
            "nflId:41282.0<br>displayName:Davante Adams<br>Position:SRoWR<br>Role:Pass Route",
            "nflId:41296.0<br>displayName:Billy Turner<br>Position:RT<br>Role:Pass Block",
            "nflId:45635.0<br>displayName:Robert Tonyan<br>Position:LWR<br>Role:Pass Route",
            "nflId:46705.0<br>displayName:Allen Lazard<br>Position:SLWR<br>Role:Pass Route",
            "nflId:47827.0<br>displayName:Elgton Jenkins<br>Position:LT<br>Role:Pass Block",
            "nflId:52470.0<br>displayName:A.J. Dillon<br>Position:RWR<br>Role:Pass Route",
            "nflId:52600.0<br>displayName:Jon Runyan<br>Position:LG<br>Role:Pass Block",
            "nflId:53172.0<br>displayName:Dominique Dafney<br>Position:SRiWR<br>Role:Pass Route",
            "nflId:53491.0<br>displayName:Josh Myers<br>Position:C<br>Role:Pass Block",
            "nflId:53571.0<br>displayName:Royce Newman<br>Position:RG<br>Role:Pass Block"
           ],
           "marker": {
            "color": "#203731"
           },
           "mode": "markers",
           "name": "GB",
           "type": "scatter",
           "x": [
            97.18,
            93.2,
            94.55,
            93.65,
            92.52,
            94.15,
            93.36,
            93.9,
            92.36,
            93.68,
            94.18
           ],
           "y": [
            23.71,
            35.85,
            27.47,
            7.59,
            14.91,
            20.08,
            43.5,
            21.6,
            30.97,
            23.76,
            25.92
           ]
          },
          {
           "hoverinfo": "text",
           "hovertext": [
            "nflId:38544.0<br>displayName:Michael Brockers<br>Position:REO<br>Role:Pass Rush",
            "nflId:40000.0<br>displayName:Jamie Collins<br>Position:LLB<br>Role:Coverage",
            "nflId:40171.0<br>displayName:Nicholas Williams<br>Position:NT<br>Role:Pass Rush",
            "nflId:42444.0<br>displayName:Trey Flowers<br>Position:RLB<br>Role:Coverage",
            "nflId:43775.0<br>displayName:Romeo Okwara<br>Position:LEO<br>Role:Pass Rush",
            "nflId:44888.0<br>displayName:Alex Anzalone<br>Position:SCBR<br>Role:Coverage",
            "nflId:46151.0<br>displayName:Tracy Walker<br>Position:FSL<br>Role:Coverage",
            "nflId:47864.0<br>displayName:Will Harris<br>Position:FSR<br>Role:Coverage",
            "nflId:47929.0<br>displayName:Amani Oruwariye<br>Position:RCB<br>Role:Coverage",
            "nflId:53530.0<br>displayName:Ifeatu Melifonwu<br>Position:LCB<br>Role:Coverage",
            "nflId:53957.0<br>displayName:A.J. Parker<br>Position:SCBoL<br>Role:Coverage"
           ],
           "marker": {
            "color": "#0076B6"
           },
           "mode": "markers",
           "name": "DET",
           "type": "scatter",
           "x": [
            92.11,
            87.01,
            92.31,
            88.9,
            92.97,
            87.04,
            74.39,
            75.1,
            90.88,
            89.66,
            87.43
           ],
           "y": [
            18.71,
            28.18,
            24.02,
            18.5,
            29.11,
            14.53,
            34.42,
            15.05,
            7.25,
            44.12,
            34.92
           ]
          },
          {
           "hoverinfo": "none",
           "marker": {
            "color": "#CBB67C"
           },
           "mode": "markers",
           "name": "football",
           "type": "scatter",
           "x": [
            96.42
           ],
           "y": [
            23.78
           ]
          }
         ],
         "name": "12"
        },
        {
         "data": [
          {
           "hoverinfo": "none",
           "mode": "text",
           "showlegend": false,
           "text": [
            "10",
            "20",
            "30",
            "40",
            "50",
            "40",
            "30",
            "20",
            "10"
           ],
           "textfont": {
            "color": "#ffffff",
            "family": "Courier New, monospace",
            "size": 30
           },
           "type": "scatter",
           "x": [
            20,
            30,
            40,
            50,
            60,
            70,
            80,
            90,
            100
           ],
           "y": [
            5,
            5,
            5,
            5,
            5,
            5,
            5,
            5,
            5
           ]
          },
          {
           "hoverinfo": "none",
           "mode": "text",
           "showlegend": false,
           "text": [
            "10",
            "20",
            "30",
            "40",
            "50",
            "40",
            "30",
            "20",
            "10"
           ],
           "textfont": {
            "color": "#ffffff",
            "family": "Courier New, monospace",
            "size": 30
           },
           "type": "scatter",
           "x": [
            20,
            30,
            40,
            50,
            60,
            70,
            80,
            90,
            100
           ],
           "y": [
            48.5,
            48.5,
            48.5,
            48.5,
            48.5,
            48.5,
            48.5,
            48.5,
            48.5
           ]
          },
          {
           "hoverinfo": "none",
           "line": {
            "color": "blue",
            "dash": "dash"
           },
           "showlegend": false,
           "type": "scatter",
           "x": [
            92,
            92
           ],
           "y": [
            0,
            53.5
           ]
          },
          {
           "hoverinfo": "none",
           "line": {
            "color": "yellow",
            "dash": "dash"
           },
           "showlegend": false,
           "type": "scatter",
           "x": [
            102,
            102
           ],
           "y": [
            0,
            53.5
           ]
          },
          {
           "hoverinfo": "text",
           "hovertext": [
            "nflId:29851.0<br>displayName:Aaron Rodgers<br>Position:QB<br>Role:Pass",
            "nflId:41282.0<br>displayName:Davante Adams<br>Position:SRoWR<br>Role:Pass Route",
            "nflId:41296.0<br>displayName:Billy Turner<br>Position:RT<br>Role:Pass Block",
            "nflId:45635.0<br>displayName:Robert Tonyan<br>Position:LWR<br>Role:Pass Route",
            "nflId:46705.0<br>displayName:Allen Lazard<br>Position:SLWR<br>Role:Pass Route",
            "nflId:47827.0<br>displayName:Elgton Jenkins<br>Position:LT<br>Role:Pass Block",
            "nflId:52470.0<br>displayName:A.J. Dillon<br>Position:RWR<br>Role:Pass Route",
            "nflId:52600.0<br>displayName:Jon Runyan<br>Position:LG<br>Role:Pass Block",
            "nflId:53172.0<br>displayName:Dominique Dafney<br>Position:SRiWR<br>Role:Pass Route",
            "nflId:53491.0<br>displayName:Josh Myers<br>Position:C<br>Role:Pass Block",
            "nflId:53571.0<br>displayName:Royce Newman<br>Position:RG<br>Role:Pass Block"
           ],
           "marker": {
            "color": "#203731"
           },
           "mode": "markers",
           "name": "GB",
           "type": "scatter",
           "x": [
            97.28,
            92.94,
            94.74,
            93.47,
            92.28,
            94.31,
            93.11,
            94.06,
            92.14,
            93.89,
            94.35
           ],
           "y": [
            23.73,
            35.86,
            27.6,
            7.48,
            14.87,
            19.99,
            43.5,
            21.57,
            30.94,
            23.78,
            26.03
           ]
          },
          {
           "hoverinfo": "text",
           "hovertext": [
            "nflId:38544.0<br>displayName:Michael Brockers<br>Position:REO<br>Role:Pass Rush",
            "nflId:40000.0<br>displayName:Jamie Collins<br>Position:LLB<br>Role:Coverage",
            "nflId:40171.0<br>displayName:Nicholas Williams<br>Position:NT<br>Role:Pass Rush",
            "nflId:42444.0<br>displayName:Trey Flowers<br>Position:RLB<br>Role:Coverage",
            "nflId:43775.0<br>displayName:Romeo Okwara<br>Position:LEO<br>Role:Pass Rush",
            "nflId:44888.0<br>displayName:Alex Anzalone<br>Position:SCBR<br>Role:Coverage",
            "nflId:46151.0<br>displayName:Tracy Walker<br>Position:FSL<br>Role:Coverage",
            "nflId:47864.0<br>displayName:Will Harris<br>Position:FSR<br>Role:Coverage",
            "nflId:47929.0<br>displayName:Amani Oruwariye<br>Position:RCB<br>Role:Coverage",
            "nflId:53530.0<br>displayName:Ifeatu Melifonwu<br>Position:LCB<br>Role:Coverage",
            "nflId:53957.0<br>displayName:A.J. Parker<br>Position:SCBoL<br>Role:Coverage"
           ],
           "marker": {
            "color": "#0076B6"
           },
           "mode": "markers",
           "name": "DET",
           "type": "scatter",
           "x": [
            92.41,
            86.98,
            92.57,
            88.87,
            93.28,
            87.04,
            74.11,
            75.08,
            90.86,
            89.64,
            87.07
           ],
           "y": [
            18.68,
            28.19,
            24.1,
            18.53,
            29.08,
            14.52,
            34.56,
            15.05,
            7.21,
            44.12,
            34.82
           ]
          },
          {
           "hoverinfo": "none",
           "marker": {
            "color": "#CBB67C"
           },
           "mode": "markers",
           "name": "football",
           "type": "scatter",
           "x": [
            96.92
           ],
           "y": [
            23.81
           ]
          }
         ],
         "name": "13"
        },
        {
         "data": [
          {
           "hoverinfo": "none",
           "mode": "text",
           "showlegend": false,
           "text": [
            "10",
            "20",
            "30",
            "40",
            "50",
            "40",
            "30",
            "20",
            "10"
           ],
           "textfont": {
            "color": "#ffffff",
            "family": "Courier New, monospace",
            "size": 30
           },
           "type": "scatter",
           "x": [
            20,
            30,
            40,
            50,
            60,
            70,
            80,
            90,
            100
           ],
           "y": [
            5,
            5,
            5,
            5,
            5,
            5,
            5,
            5,
            5
           ]
          },
          {
           "hoverinfo": "none",
           "mode": "text",
           "showlegend": false,
           "text": [
            "10",
            "20",
            "30",
            "40",
            "50",
            "40",
            "30",
            "20",
            "10"
           ],
           "textfont": {
            "color": "#ffffff",
            "family": "Courier New, monospace",
            "size": 30
           },
           "type": "scatter",
           "x": [
            20,
            30,
            40,
            50,
            60,
            70,
            80,
            90,
            100
           ],
           "y": [
            48.5,
            48.5,
            48.5,
            48.5,
            48.5,
            48.5,
            48.5,
            48.5,
            48.5
           ]
          },
          {
           "hoverinfo": "none",
           "line": {
            "color": "blue",
            "dash": "dash"
           },
           "showlegend": false,
           "type": "scatter",
           "x": [
            92,
            92
           ],
           "y": [
            0,
            53.5
           ]
          },
          {
           "hoverinfo": "none",
           "line": {
            "color": "yellow",
            "dash": "dash"
           },
           "showlegend": false,
           "type": "scatter",
           "x": [
            102,
            102
           ],
           "y": [
            0,
            53.5
           ]
          },
          {
           "hoverinfo": "text",
           "hovertext": [
            "nflId:29851.0<br>displayName:Aaron Rodgers<br>Position:QB<br>Role:Pass",
            "nflId:41282.0<br>displayName:Davante Adams<br>Position:SRoWR<br>Role:Pass Route",
            "nflId:41296.0<br>displayName:Billy Turner<br>Position:RT<br>Role:Pass Block",
            "nflId:45635.0<br>displayName:Robert Tonyan<br>Position:LWR<br>Role:Pass Route",
            "nflId:46705.0<br>displayName:Allen Lazard<br>Position:SLWR<br>Role:Pass Route",
            "nflId:47827.0<br>displayName:Elgton Jenkins<br>Position:LT<br>Role:Pass Block",
            "nflId:52470.0<br>displayName:A.J. Dillon<br>Position:RWR<br>Role:Pass Route",
            "nflId:52600.0<br>displayName:Jon Runyan<br>Position:LG<br>Role:Pass Block",
            "nflId:53172.0<br>displayName:Dominique Dafney<br>Position:SRiWR<br>Role:Pass Route",
            "nflId:53491.0<br>displayName:Josh Myers<br>Position:C<br>Role:Pass Block",
            "nflId:53571.0<br>displayName:Royce Newman<br>Position:RG<br>Role:Pass Block"
           ],
           "marker": {
            "color": "#203731"
           },
           "mode": "markers",
           "name": "GB",
           "type": "scatter",
           "x": [
            97.4,
            92.63,
            94.95,
            93.27,
            91.98,
            94.49,
            92.84,
            94.23,
            91.85,
            94.12,
            94.56
           ],
           "y": [
            23.77,
            35.87,
            27.72,
            7.33,
            14.8,
            19.89,
            43.5,
            21.55,
            30.9,
            23.79,
            26.12
           ]
          },
          {
           "hoverinfo": "text",
           "hovertext": [
            "nflId:38544.0<br>displayName:Michael Brockers<br>Position:REO<br>Role:Pass Rush",
            "nflId:40000.0<br>displayName:Jamie Collins<br>Position:LLB<br>Role:Coverage",
            "nflId:40171.0<br>displayName:Nicholas Williams<br>Position:NT<br>Role:Pass Rush",
            "nflId:42444.0<br>displayName:Trey Flowers<br>Position:RLB<br>Role:Coverage",
            "nflId:43775.0<br>displayName:Romeo Okwara<br>Position:LEO<br>Role:Pass Rush",
            "nflId:44888.0<br>displayName:Alex Anzalone<br>Position:SCBR<br>Role:Coverage",
            "nflId:46151.0<br>displayName:Tracy Walker<br>Position:FSL<br>Role:Coverage",
            "nflId:47864.0<br>displayName:Will Harris<br>Position:FSR<br>Role:Coverage",
            "nflId:47929.0<br>displayName:Amani Oruwariye<br>Position:RCB<br>Role:Coverage",
            "nflId:53530.0<br>displayName:Ifeatu Melifonwu<br>Position:LCB<br>Role:Coverage",
            "nflId:53957.0<br>displayName:A.J. Parker<br>Position:SCBoL<br>Role:Coverage"
           ],
           "marker": {
            "color": "#0076B6"
           },
           "mode": "markers",
           "name": "DET",
           "type": "scatter",
           "x": [
            92.73,
            86.92,
            92.85,
            88.82,
            93.63,
            87.04,
            73.82,
            75.05,
            90.83,
            89.63,
            86.69
           ],
           "y": [
            18.65,
            28.21,
            24.18,
            18.56,
            29.06,
            14.48,
            34.71,
            15.05,
            7.17,
            44.12,
            34.73
           ]
          },
          {
           "hoverinfo": "none",
           "marker": {
            "color": "#CBB67C"
           },
           "mode": "markers",
           "name": "football",
           "type": "scatter",
           "x": [
            97.33
           ],
           "y": [
            23.85
           ]
          }
         ],
         "name": "14"
        },
        {
         "data": [
          {
           "hoverinfo": "none",
           "mode": "text",
           "showlegend": false,
           "text": [
            "10",
            "20",
            "30",
            "40",
            "50",
            "40",
            "30",
            "20",
            "10"
           ],
           "textfont": {
            "color": "#ffffff",
            "family": "Courier New, monospace",
            "size": 30
           },
           "type": "scatter",
           "x": [
            20,
            30,
            40,
            50,
            60,
            70,
            80,
            90,
            100
           ],
           "y": [
            5,
            5,
            5,
            5,
            5,
            5,
            5,
            5,
            5
           ]
          },
          {
           "hoverinfo": "none",
           "mode": "text",
           "showlegend": false,
           "text": [
            "10",
            "20",
            "30",
            "40",
            "50",
            "40",
            "30",
            "20",
            "10"
           ],
           "textfont": {
            "color": "#ffffff",
            "family": "Courier New, monospace",
            "size": 30
           },
           "type": "scatter",
           "x": [
            20,
            30,
            40,
            50,
            60,
            70,
            80,
            90,
            100
           ],
           "y": [
            48.5,
            48.5,
            48.5,
            48.5,
            48.5,
            48.5,
            48.5,
            48.5,
            48.5
           ]
          },
          {
           "hoverinfo": "none",
           "line": {
            "color": "blue",
            "dash": "dash"
           },
           "showlegend": false,
           "type": "scatter",
           "x": [
            92,
            92
           ],
           "y": [
            0,
            53.5
           ]
          },
          {
           "hoverinfo": "none",
           "line": {
            "color": "yellow",
            "dash": "dash"
           },
           "showlegend": false,
           "type": "scatter",
           "x": [
            102,
            102
           ],
           "y": [
            0,
            53.5
           ]
          },
          {
           "hoverinfo": "text",
           "hovertext": [
            "nflId:29851.0<br>displayName:Aaron Rodgers<br>Position:QB<br>Role:Pass",
            "nflId:41282.0<br>displayName:Davante Adams<br>Position:SRoWR<br>Role:Pass Route",
            "nflId:41296.0<br>displayName:Billy Turner<br>Position:RT<br>Role:Pass Block",
            "nflId:45635.0<br>displayName:Robert Tonyan<br>Position:LWR<br>Role:Pass Route",
            "nflId:46705.0<br>displayName:Allen Lazard<br>Position:SLWR<br>Role:Pass Route",
            "nflId:47827.0<br>displayName:Elgton Jenkins<br>Position:LT<br>Role:Pass Block",
            "nflId:52470.0<br>displayName:A.J. Dillon<br>Position:RWR<br>Role:Pass Route",
            "nflId:52600.0<br>displayName:Jon Runyan<br>Position:LG<br>Role:Pass Block",
            "nflId:53172.0<br>displayName:Dominique Dafney<br>Position:SRiWR<br>Role:Pass Route",
            "nflId:53491.0<br>displayName:Josh Myers<br>Position:C<br>Role:Pass Block",
            "nflId:53571.0<br>displayName:Royce Newman<br>Position:RG<br>Role:Pass Block"
           ],
           "marker": {
            "color": "#203731"
           },
           "mode": "markers",
           "name": "GB",
           "type": "scatter",
           "x": [
            97.53,
            92.27,
            95.2,
            93.04,
            91.64,
            94.72,
            92.51,
            94.41,
            91.54,
            94.35,
            94.76
           ],
           "y": [
            23.8,
            35.89,
            27.84,
            7.14,
            14.74,
            19.79,
            43.51,
            21.52,
            30.86,
            23.81,
            26.22
           ]
          },
          {
           "hoverinfo": "text",
           "hovertext": [
            "nflId:38544.0<br>displayName:Michael Brockers<br>Position:REO<br>Role:Pass Rush",
            "nflId:40000.0<br>displayName:Jamie Collins<br>Position:LLB<br>Role:Coverage",
            "nflId:40171.0<br>displayName:Nicholas Williams<br>Position:NT<br>Role:Pass Rush",
            "nflId:42444.0<br>displayName:Trey Flowers<br>Position:RLB<br>Role:Coverage",
            "nflId:43775.0<br>displayName:Romeo Okwara<br>Position:LEO<br>Role:Pass Rush",
            "nflId:44888.0<br>displayName:Alex Anzalone<br>Position:SCBR<br>Role:Coverage",
            "nflId:46151.0<br>displayName:Tracy Walker<br>Position:FSL<br>Role:Coverage",
            "nflId:47864.0<br>displayName:Will Harris<br>Position:FSR<br>Role:Coverage",
            "nflId:47929.0<br>displayName:Amani Oruwariye<br>Position:RCB<br>Role:Coverage",
            "nflId:53530.0<br>displayName:Ifeatu Melifonwu<br>Position:LCB<br>Role:Coverage",
            "nflId:53957.0<br>displayName:A.J. Parker<br>Position:SCBoL<br>Role:Coverage"
           ],
           "marker": {
            "color": "#0076B6"
           },
           "mode": "markers",
           "name": "DET",
           "type": "scatter",
           "x": [
            93.07,
            86.81,
            93.12,
            88.75,
            94.02,
            87.04,
            73.5,
            75,
            90.78,
            89.6,
            86.31
           ],
           "y": [
            18.64,
            28.25,
            24.26,
            18.59,
            29.04,
            14.41,
            34.87,
            15.05,
            7.09,
            44.12,
            34.67
           ]
          },
          {
           "hoverinfo": "none",
           "marker": {
            "color": "#CBB67C"
           },
           "mode": "markers",
           "name": "football",
           "type": "scatter",
           "x": [
            97.69
           ],
           "y": [
            23.93
           ]
          }
         ],
         "name": "15"
        },
        {
         "data": [
          {
           "hoverinfo": "none",
           "mode": "text",
           "showlegend": false,
           "text": [
            "10",
            "20",
            "30",
            "40",
            "50",
            "40",
            "30",
            "20",
            "10"
           ],
           "textfont": {
            "color": "#ffffff",
            "family": "Courier New, monospace",
            "size": 30
           },
           "type": "scatter",
           "x": [
            20,
            30,
            40,
            50,
            60,
            70,
            80,
            90,
            100
           ],
           "y": [
            5,
            5,
            5,
            5,
            5,
            5,
            5,
            5,
            5
           ]
          },
          {
           "hoverinfo": "none",
           "mode": "text",
           "showlegend": false,
           "text": [
            "10",
            "20",
            "30",
            "40",
            "50",
            "40",
            "30",
            "20",
            "10"
           ],
           "textfont": {
            "color": "#ffffff",
            "family": "Courier New, monospace",
            "size": 30
           },
           "type": "scatter",
           "x": [
            20,
            30,
            40,
            50,
            60,
            70,
            80,
            90,
            100
           ],
           "y": [
            48.5,
            48.5,
            48.5,
            48.5,
            48.5,
            48.5,
            48.5,
            48.5,
            48.5
           ]
          },
          {
           "hoverinfo": "none",
           "line": {
            "color": "blue",
            "dash": "dash"
           },
           "showlegend": false,
           "type": "scatter",
           "x": [
            92,
            92
           ],
           "y": [
            0,
            53.5
           ]
          },
          {
           "hoverinfo": "none",
           "line": {
            "color": "yellow",
            "dash": "dash"
           },
           "showlegend": false,
           "type": "scatter",
           "x": [
            102,
            102
           ],
           "y": [
            0,
            53.5
           ]
          },
          {
           "hoverinfo": "text",
           "hovertext": [
            "nflId:29851.0<br>displayName:Aaron Rodgers<br>Position:QB<br>Role:Pass",
            "nflId:41282.0<br>displayName:Davante Adams<br>Position:SRoWR<br>Role:Pass Route",
            "nflId:41296.0<br>displayName:Billy Turner<br>Position:RT<br>Role:Pass Block",
            "nflId:45635.0<br>displayName:Robert Tonyan<br>Position:LWR<br>Role:Pass Route",
            "nflId:46705.0<br>displayName:Allen Lazard<br>Position:SLWR<br>Role:Pass Route",
            "nflId:47827.0<br>displayName:Elgton Jenkins<br>Position:LT<br>Role:Pass Block",
            "nflId:52470.0<br>displayName:A.J. Dillon<br>Position:RWR<br>Role:Pass Route",
            "nflId:52600.0<br>displayName:Jon Runyan<br>Position:LG<br>Role:Pass Block",
            "nflId:53172.0<br>displayName:Dominique Dafney<br>Position:SRiWR<br>Role:Pass Route",
            "nflId:53491.0<br>displayName:Josh Myers<br>Position:C<br>Role:Pass Block",
            "nflId:53571.0<br>displayName:Royce Newman<br>Position:RG<br>Role:Pass Block"
           ],
           "marker": {
            "color": "#203731"
           },
           "mode": "markers",
           "name": "GB",
           "type": "scatter",
           "x": [
            97.68,
            91.86,
            95.46,
            92.78,
            91.27,
            94.97,
            92.12,
            94.61,
            91.18,
            94.59,
            94.99
           ],
           "y": [
            23.84,
            35.9,
            27.95,
            6.91,
            14.66,
            19.68,
            43.52,
            21.51,
            30.83,
            23.82,
            26.32
           ]
          },
          {
           "hoverinfo": "text",
           "hovertext": [
            "nflId:38544.0<br>displayName:Michael Brockers<br>Position:REO<br>Role:Pass Rush",
            "nflId:40000.0<br>displayName:Jamie Collins<br>Position:LLB<br>Role:Coverage",
            "nflId:40171.0<br>displayName:Nicholas Williams<br>Position:NT<br>Role:Pass Rush",
            "nflId:42444.0<br>displayName:Trey Flowers<br>Position:RLB<br>Role:Coverage",
            "nflId:43775.0<br>displayName:Romeo Okwara<br>Position:LEO<br>Role:Pass Rush",
            "nflId:44888.0<br>displayName:Alex Anzalone<br>Position:SCBR<br>Role:Coverage",
            "nflId:46151.0<br>displayName:Tracy Walker<br>Position:FSL<br>Role:Coverage",
            "nflId:47864.0<br>displayName:Will Harris<br>Position:FSR<br>Role:Coverage",
            "nflId:47929.0<br>displayName:Amani Oruwariye<br>Position:RCB<br>Role:Coverage",
            "nflId:53530.0<br>displayName:Ifeatu Melifonwu<br>Position:LCB<br>Role:Coverage",
            "nflId:53957.0<br>displayName:A.J. Parker<br>Position:SCBoL<br>Role:Coverage"
           ],
           "marker": {
            "color": "#0076B6"
           },
           "mode": "markers",
           "name": "DET",
           "type": "scatter",
           "x": [
            93.41,
            86.65,
            93.4,
            88.65,
            94.44,
            87.03,
            73.16,
            74.93,
            90.69,
            89.56,
            85.93
           ],
           "y": [
            18.62,
            28.29,
            24.37,
            18.59,
            29.03,
            14.31,
            35.04,
            15.04,
            6.98,
            44.12,
            34.63
           ]
          },
          {
           "hoverinfo": "none",
           "marker": {
            "color": "#CBB67C"
           },
           "mode": "markers",
           "name": "football",
           "type": "scatter",
           "x": [
            98.04
           ],
           "y": [
            23.98
           ]
          }
         ],
         "name": "16"
        },
        {
         "data": [
          {
           "hoverinfo": "none",
           "mode": "text",
           "showlegend": false,
           "text": [
            "10",
            "20",
            "30",
            "40",
            "50",
            "40",
            "30",
            "20",
            "10"
           ],
           "textfont": {
            "color": "#ffffff",
            "family": "Courier New, monospace",
            "size": 30
           },
           "type": "scatter",
           "x": [
            20,
            30,
            40,
            50,
            60,
            70,
            80,
            90,
            100
           ],
           "y": [
            5,
            5,
            5,
            5,
            5,
            5,
            5,
            5,
            5
           ]
          },
          {
           "hoverinfo": "none",
           "mode": "text",
           "showlegend": false,
           "text": [
            "10",
            "20",
            "30",
            "40",
            "50",
            "40",
            "30",
            "20",
            "10"
           ],
           "textfont": {
            "color": "#ffffff",
            "family": "Courier New, monospace",
            "size": 30
           },
           "type": "scatter",
           "x": [
            20,
            30,
            40,
            50,
            60,
            70,
            80,
            90,
            100
           ],
           "y": [
            48.5,
            48.5,
            48.5,
            48.5,
            48.5,
            48.5,
            48.5,
            48.5,
            48.5
           ]
          },
          {
           "hoverinfo": "none",
           "line": {
            "color": "blue",
            "dash": "dash"
           },
           "showlegend": false,
           "type": "scatter",
           "x": [
            92,
            92
           ],
           "y": [
            0,
            53.5
           ]
          },
          {
           "hoverinfo": "none",
           "line": {
            "color": "yellow",
            "dash": "dash"
           },
           "showlegend": false,
           "type": "scatter",
           "x": [
            102,
            102
           ],
           "y": [
            0,
            53.5
           ]
          },
          {
           "hoverinfo": "text",
           "hovertext": [
            "nflId:29851.0<br>displayName:Aaron Rodgers<br>Position:QB<br>Role:Pass",
            "nflId:41282.0<br>displayName:Davante Adams<br>Position:SRoWR<br>Role:Pass Route",
            "nflId:41296.0<br>displayName:Billy Turner<br>Position:RT<br>Role:Pass Block",
            "nflId:45635.0<br>displayName:Robert Tonyan<br>Position:LWR<br>Role:Pass Route",
            "nflId:46705.0<br>displayName:Allen Lazard<br>Position:SLWR<br>Role:Pass Route",
            "nflId:47827.0<br>displayName:Elgton Jenkins<br>Position:LT<br>Role:Pass Block",
            "nflId:52470.0<br>displayName:A.J. Dillon<br>Position:RWR<br>Role:Pass Route",
            "nflId:52600.0<br>displayName:Jon Runyan<br>Position:LG<br>Role:Pass Block",
            "nflId:53172.0<br>displayName:Dominique Dafney<br>Position:SRiWR<br>Role:Pass Route",
            "nflId:53491.0<br>displayName:Josh Myers<br>Position:C<br>Role:Pass Block",
            "nflId:53571.0<br>displayName:Royce Newman<br>Position:RG<br>Role:Pass Block"
           ],
           "marker": {
            "color": "#203731"
           },
           "mode": "markers",
           "name": "GB",
           "type": "scatter",
           "x": [
            97.82,
            91.43,
            95.74,
            92.5,
            90.88,
            95.24,
            91.69,
            94.81,
            90.79,
            94.84,
            95.23
           ],
           "y": [
            23.89,
            35.92,
            28.05,
            6.65,
            14.59,
            19.6,
            43.52,
            21.49,
            30.79,
            23.84,
            26.43
           ]
          },
          {
           "hoverinfo": "text",
           "hovertext": [
            "nflId:38544.0<br>displayName:Michael Brockers<br>Position:REO<br>Role:Pass Rush",
            "nflId:40000.0<br>displayName:Jamie Collins<br>Position:LLB<br>Role:Coverage",
            "nflId:40171.0<br>displayName:Nicholas Williams<br>Position:NT<br>Role:Pass Rush",
            "nflId:42444.0<br>displayName:Trey Flowers<br>Position:RLB<br>Role:Coverage",
            "nflId:43775.0<br>displayName:Romeo Okwara<br>Position:LEO<br>Role:Pass Rush",
            "nflId:44888.0<br>displayName:Alex Anzalone<br>Position:SCBR<br>Role:Coverage",
            "nflId:46151.0<br>displayName:Tracy Walker<br>Position:FSL<br>Role:Coverage",
            "nflId:47864.0<br>displayName:Will Harris<br>Position:FSR<br>Role:Coverage",
            "nflId:47929.0<br>displayName:Amani Oruwariye<br>Position:RCB<br>Role:Coverage",
            "nflId:53530.0<br>displayName:Ifeatu Melifonwu<br>Position:LCB<br>Role:Coverage",
            "nflId:53957.0<br>displayName:A.J. Parker<br>Position:SCBoL<br>Role:Coverage"
           ],
           "marker": {
            "color": "#0076B6"
           },
           "mode": "markers",
           "name": "DET",
           "type": "scatter",
           "x": [
            93.77,
            86.46,
            93.68,
            88.53,
            94.9,
            87,
            72.81,
            74.83,
            90.56,
            89.47,
            85.56
           ],
           "y": [
            18.64,
            28.35,
            24.47,
            18.6,
            29.02,
            14.19,
            35.21,
            15.03,
            6.83,
            44.11,
            34.62
           ]
          },
          {
           "hoverinfo": "none",
           "marker": {
            "color": "#CBB67C"
           },
           "mode": "markers",
           "name": "football",
           "type": "scatter",
           "x": [
            98.35
           ],
           "y": [
            24.01
           ]
          }
         ],
         "name": "17"
        },
        {
         "data": [
          {
           "hoverinfo": "none",
           "mode": "text",
           "showlegend": false,
           "text": [
            "10",
            "20",
            "30",
            "40",
            "50",
            "40",
            "30",
            "20",
            "10"
           ],
           "textfont": {
            "color": "#ffffff",
            "family": "Courier New, monospace",
            "size": 30
           },
           "type": "scatter",
           "x": [
            20,
            30,
            40,
            50,
            60,
            70,
            80,
            90,
            100
           ],
           "y": [
            5,
            5,
            5,
            5,
            5,
            5,
            5,
            5,
            5
           ]
          },
          {
           "hoverinfo": "none",
           "mode": "text",
           "showlegend": false,
           "text": [
            "10",
            "20",
            "30",
            "40",
            "50",
            "40",
            "30",
            "20",
            "10"
           ],
           "textfont": {
            "color": "#ffffff",
            "family": "Courier New, monospace",
            "size": 30
           },
           "type": "scatter",
           "x": [
            20,
            30,
            40,
            50,
            60,
            70,
            80,
            90,
            100
           ],
           "y": [
            48.5,
            48.5,
            48.5,
            48.5,
            48.5,
            48.5,
            48.5,
            48.5,
            48.5
           ]
          },
          {
           "hoverinfo": "none",
           "line": {
            "color": "blue",
            "dash": "dash"
           },
           "showlegend": false,
           "type": "scatter",
           "x": [
            92,
            92
           ],
           "y": [
            0,
            53.5
           ]
          },
          {
           "hoverinfo": "none",
           "line": {
            "color": "yellow",
            "dash": "dash"
           },
           "showlegend": false,
           "type": "scatter",
           "x": [
            102,
            102
           ],
           "y": [
            0,
            53.5
           ]
          },
          {
           "hoverinfo": "text",
           "hovertext": [
            "nflId:29851.0<br>displayName:Aaron Rodgers<br>Position:QB<br>Role:Pass",
            "nflId:41282.0<br>displayName:Davante Adams<br>Position:SRoWR<br>Role:Pass Route",
            "nflId:41296.0<br>displayName:Billy Turner<br>Position:RT<br>Role:Pass Block",
            "nflId:45635.0<br>displayName:Robert Tonyan<br>Position:LWR<br>Role:Pass Route",
            "nflId:46705.0<br>displayName:Allen Lazard<br>Position:SLWR<br>Role:Pass Route",
            "nflId:47827.0<br>displayName:Elgton Jenkins<br>Position:LT<br>Role:Pass Block",
            "nflId:52470.0<br>displayName:A.J. Dillon<br>Position:RWR<br>Role:Pass Route",
            "nflId:52600.0<br>displayName:Jon Runyan<br>Position:LG<br>Role:Pass Block",
            "nflId:53172.0<br>displayName:Dominique Dafney<br>Position:SRiWR<br>Role:Pass Route",
            "nflId:53491.0<br>displayName:Josh Myers<br>Position:C<br>Role:Pass Block",
            "nflId:53571.0<br>displayName:Royce Newman<br>Position:RG<br>Role:Pass Block"
           ],
           "marker": {
            "color": "#203731"
           },
           "mode": "markers",
           "name": "GB",
           "type": "scatter",
           "x": [
            97.96,
            90.97,
            96.05,
            92.19,
            90.48,
            95.49,
            91.23,
            95.03,
            90.37,
            95.09,
            95.51
           ],
           "y": [
            23.94,
            35.96,
            28.13,
            6.35,
            14.51,
            19.53,
            43.52,
            21.47,
            30.76,
            23.86,
            26.55
           ]
          },
          {
           "hoverinfo": "text",
           "hovertext": [
            "nflId:38544.0<br>displayName:Michael Brockers<br>Position:REO<br>Role:Pass Rush",
            "nflId:40000.0<br>displayName:Jamie Collins<br>Position:LLB<br>Role:Coverage",
            "nflId:40171.0<br>displayName:Nicholas Williams<br>Position:NT<br>Role:Pass Rush",
            "nflId:42444.0<br>displayName:Trey Flowers<br>Position:RLB<br>Role:Coverage",
            "nflId:43775.0<br>displayName:Romeo Okwara<br>Position:LEO<br>Role:Pass Rush",
            "nflId:44888.0<br>displayName:Alex Anzalone<br>Position:SCBR<br>Role:Coverage",
            "nflId:46151.0<br>displayName:Tracy Walker<br>Position:FSL<br>Role:Coverage",
            "nflId:47864.0<br>displayName:Will Harris<br>Position:FSR<br>Role:Coverage",
            "nflId:47929.0<br>displayName:Amani Oruwariye<br>Position:RCB<br>Role:Coverage",
            "nflId:53530.0<br>displayName:Ifeatu Melifonwu<br>Position:LCB<br>Role:Coverage",
            "nflId:53957.0<br>displayName:A.J. Parker<br>Position:SCBoL<br>Role:Coverage"
           ],
           "marker": {
            "color": "#0076B6"
           },
           "mode": "markers",
           "name": "DET",
           "type": "scatter",
           "x": [
            94.13,
            86.23,
            93.96,
            88.4,
            95.36,
            86.97,
            72.45,
            74.71,
            90.37,
            89.34,
            85.22
           ],
           "y": [
            18.67,
            28.41,
            24.57,
            18.6,
            29.02,
            14.07,
            35.38,
            15.02,
            6.63,
            44.09,
            34.65
           ]
          },
          {
           "hoverinfo": "none",
           "marker": {
            "color": "#CBB67C"
           },
           "mode": "markers",
           "name": "football",
           "type": "scatter",
           "x": [
            98.59
           ],
           "y": [
            24.05
           ]
          }
         ],
         "name": "18"
        },
        {
         "data": [
          {
           "hoverinfo": "none",
           "mode": "text",
           "showlegend": false,
           "text": [
            "10",
            "20",
            "30",
            "40",
            "50",
            "40",
            "30",
            "20",
            "10"
           ],
           "textfont": {
            "color": "#ffffff",
            "family": "Courier New, monospace",
            "size": 30
           },
           "type": "scatter",
           "x": [
            20,
            30,
            40,
            50,
            60,
            70,
            80,
            90,
            100
           ],
           "y": [
            5,
            5,
            5,
            5,
            5,
            5,
            5,
            5,
            5
           ]
          },
          {
           "hoverinfo": "none",
           "mode": "text",
           "showlegend": false,
           "text": [
            "10",
            "20",
            "30",
            "40",
            "50",
            "40",
            "30",
            "20",
            "10"
           ],
           "textfont": {
            "color": "#ffffff",
            "family": "Courier New, monospace",
            "size": 30
           },
           "type": "scatter",
           "x": [
            20,
            30,
            40,
            50,
            60,
            70,
            80,
            90,
            100
           ],
           "y": [
            48.5,
            48.5,
            48.5,
            48.5,
            48.5,
            48.5,
            48.5,
            48.5,
            48.5
           ]
          },
          {
           "hoverinfo": "none",
           "line": {
            "color": "blue",
            "dash": "dash"
           },
           "showlegend": false,
           "type": "scatter",
           "x": [
            92,
            92
           ],
           "y": [
            0,
            53.5
           ]
          },
          {
           "hoverinfo": "none",
           "line": {
            "color": "yellow",
            "dash": "dash"
           },
           "showlegend": false,
           "type": "scatter",
           "x": [
            102,
            102
           ],
           "y": [
            0,
            53.5
           ]
          },
          {
           "hoverinfo": "text",
           "hovertext": [
            "nflId:29851.0<br>displayName:Aaron Rodgers<br>Position:QB<br>Role:Pass",
            "nflId:41282.0<br>displayName:Davante Adams<br>Position:SRoWR<br>Role:Pass Route",
            "nflId:41296.0<br>displayName:Billy Turner<br>Position:RT<br>Role:Pass Block",
            "nflId:45635.0<br>displayName:Robert Tonyan<br>Position:LWR<br>Role:Pass Route",
            "nflId:46705.0<br>displayName:Allen Lazard<br>Position:SLWR<br>Role:Pass Route",
            "nflId:47827.0<br>displayName:Elgton Jenkins<br>Position:LT<br>Role:Pass Block",
            "nflId:52470.0<br>displayName:A.J. Dillon<br>Position:RWR<br>Role:Pass Route",
            "nflId:52600.0<br>displayName:Jon Runyan<br>Position:LG<br>Role:Pass Block",
            "nflId:53172.0<br>displayName:Dominique Dafney<br>Position:SRiWR<br>Role:Pass Route",
            "nflId:53491.0<br>displayName:Josh Myers<br>Position:C<br>Role:Pass Block",
            "nflId:53571.0<br>displayName:Royce Newman<br>Position:RG<br>Role:Pass Block"
           ],
           "marker": {
            "color": "#203731"
           },
           "mode": "markers",
           "name": "GB",
           "type": "scatter",
           "x": [
            98.09,
            90.51,
            96.37,
            91.86,
            90.1,
            95.77,
            90.75,
            95.23,
            89.94,
            95.34,
            95.79
           ],
           "y": [
            23.98,
            36.01,
            28.19,
            6.02,
            14.45,
            19.49,
            43.52,
            21.45,
            30.73,
            23.91,
            26.68
           ]
          },
          {
           "hoverinfo": "text",
           "hovertext": [
            "nflId:38544.0<br>displayName:Michael Brockers<br>Position:REO<br>Role:Pass Rush",
            "nflId:40000.0<br>displayName:Jamie Collins<br>Position:LLB<br>Role:Coverage",
            "nflId:40171.0<br>displayName:Nicholas Williams<br>Position:NT<br>Role:Pass Rush",
            "nflId:42444.0<br>displayName:Trey Flowers<br>Position:RLB<br>Role:Coverage",
            "nflId:43775.0<br>displayName:Romeo Okwara<br>Position:LEO<br>Role:Pass Rush",
            "nflId:44888.0<br>displayName:Alex Anzalone<br>Position:SCBR<br>Role:Coverage",
            "nflId:46151.0<br>displayName:Tracy Walker<br>Position:FSL<br>Role:Coverage",
            "nflId:47864.0<br>displayName:Will Harris<br>Position:FSR<br>Role:Coverage",
            "nflId:47929.0<br>displayName:Amani Oruwariye<br>Position:RCB<br>Role:Coverage",
            "nflId:53530.0<br>displayName:Ifeatu Melifonwu<br>Position:LCB<br>Role:Coverage",
            "nflId:53957.0<br>displayName:A.J. Parker<br>Position:SCBoL<br>Role:Coverage"
           ],
           "marker": {
            "color": "#0076B6"
           },
           "mode": "markers",
           "name": "DET",
           "type": "scatter",
           "x": [
            94.47,
            85.99,
            94.24,
            88.24,
            95.81,
            86.92,
            72.07,
            74.55,
            90.15,
            89.19,
            84.9
           ],
           "y": [
            18.71,
            28.47,
            24.67,
            18.59,
            29.04,
            13.94,
            35.56,
            15.01,
            6.39,
            44.09,
            34.73
           ]
          },
          {
           "hoverinfo": "none",
           "marker": {
            "color": "#CBB67C"
           },
           "mode": "markers",
           "name": "football",
           "type": "scatter",
           "x": [
            98.78
           ],
           "y": [
            24.11
           ]
          }
         ],
         "name": "19"
        },
        {
         "data": [
          {
           "hoverinfo": "none",
           "mode": "text",
           "showlegend": false,
           "text": [
            "10",
            "20",
            "30",
            "40",
            "50",
            "40",
            "30",
            "20",
            "10"
           ],
           "textfont": {
            "color": "#ffffff",
            "family": "Courier New, monospace",
            "size": 30
           },
           "type": "scatter",
           "x": [
            20,
            30,
            40,
            50,
            60,
            70,
            80,
            90,
            100
           ],
           "y": [
            5,
            5,
            5,
            5,
            5,
            5,
            5,
            5,
            5
           ]
          },
          {
           "hoverinfo": "none",
           "mode": "text",
           "showlegend": false,
           "text": [
            "10",
            "20",
            "30",
            "40",
            "50",
            "40",
            "30",
            "20",
            "10"
           ],
           "textfont": {
            "color": "#ffffff",
            "family": "Courier New, monospace",
            "size": 30
           },
           "type": "scatter",
           "x": [
            20,
            30,
            40,
            50,
            60,
            70,
            80,
            90,
            100
           ],
           "y": [
            48.5,
            48.5,
            48.5,
            48.5,
            48.5,
            48.5,
            48.5,
            48.5,
            48.5
           ]
          },
          {
           "hoverinfo": "none",
           "line": {
            "color": "blue",
            "dash": "dash"
           },
           "showlegend": false,
           "type": "scatter",
           "x": [
            92,
            92
           ],
           "y": [
            0,
            53.5
           ]
          },
          {
           "hoverinfo": "none",
           "line": {
            "color": "yellow",
            "dash": "dash"
           },
           "showlegend": false,
           "type": "scatter",
           "x": [
            102,
            102
           ],
           "y": [
            0,
            53.5
           ]
          },
          {
           "hoverinfo": "text",
           "hovertext": [
            "nflId:29851.0<br>displayName:Aaron Rodgers<br>Position:QB<br>Role:Pass",
            "nflId:41282.0<br>displayName:Davante Adams<br>Position:SRoWR<br>Role:Pass Route",
            "nflId:41296.0<br>displayName:Billy Turner<br>Position:RT<br>Role:Pass Block",
            "nflId:45635.0<br>displayName:Robert Tonyan<br>Position:LWR<br>Role:Pass Route",
            "nflId:46705.0<br>displayName:Allen Lazard<br>Position:SLWR<br>Role:Pass Route",
            "nflId:47827.0<br>displayName:Elgton Jenkins<br>Position:LT<br>Role:Pass Block",
            "nflId:52470.0<br>displayName:A.J. Dillon<br>Position:RWR<br>Role:Pass Route",
            "nflId:52600.0<br>displayName:Jon Runyan<br>Position:LG<br>Role:Pass Block",
            "nflId:53172.0<br>displayName:Dominique Dafney<br>Position:SRiWR<br>Role:Pass Route",
            "nflId:53491.0<br>displayName:Josh Myers<br>Position:C<br>Role:Pass Block",
            "nflId:53571.0<br>displayName:Royce Newman<br>Position:RG<br>Role:Pass Block"
           ],
           "marker": {
            "color": "#203731"
           },
           "mode": "markers",
           "name": "GB",
           "type": "scatter",
           "x": [
            98.21,
            90.05,
            96.7,
            91.5,
            89.74,
            96.04,
            90.25,
            95.45,
            89.5,
            95.6,
            96.07
           ],
           "y": [
            24.03,
            36.09,
            28.24,
            5.66,
            14.41,
            19.47,
            43.51,
            21.41,
            30.71,
            23.97,
            26.8
           ]
          },
          {
           "hoverinfo": "text",
           "hovertext": [
            "nflId:38544.0<br>displayName:Michael Brockers<br>Position:REO<br>Role:Pass Rush",
            "nflId:40000.0<br>displayName:Jamie Collins<br>Position:LLB<br>Role:Coverage",
            "nflId:40171.0<br>displayName:Nicholas Williams<br>Position:NT<br>Role:Pass Rush",
            "nflId:42444.0<br>displayName:Trey Flowers<br>Position:RLB<br>Role:Coverage",
            "nflId:43775.0<br>displayName:Romeo Okwara<br>Position:LEO<br>Role:Pass Rush",
            "nflId:44888.0<br>displayName:Alex Anzalone<br>Position:SCBR<br>Role:Coverage",
            "nflId:46151.0<br>displayName:Tracy Walker<br>Position:FSL<br>Role:Coverage",
            "nflId:47864.0<br>displayName:Will Harris<br>Position:FSR<br>Role:Coverage",
            "nflId:47929.0<br>displayName:Amani Oruwariye<br>Position:RCB<br>Role:Coverage",
            "nflId:53530.0<br>displayName:Ifeatu Melifonwu<br>Position:LCB<br>Role:Coverage",
            "nflId:53957.0<br>displayName:A.J. Parker<br>Position:SCBoL<br>Role:Coverage"
           ],
           "marker": {
            "color": "#0076B6"
           },
           "mode": "markers",
           "name": "DET",
           "type": "scatter",
           "x": [
            94.8,
            85.74,
            94.52,
            88.08,
            96.26,
            86.88,
            71.7,
            74.38,
            89.89,
            88.99,
            84.61
           ],
           "y": [
            18.77,
            28.53,
            24.77,
            18.57,
            29.06,
            13.85,
            35.74,
            15,
            6.13,
            44.08,
            34.83
           ]
          },
          {
           "hoverinfo": "none",
           "marker": {
            "color": "#CBB67C"
           },
           "mode": "markers",
           "name": "football",
           "type": "scatter",
           "x": [
            98.92
           ],
           "y": [
            24.19
           ]
          }
         ],
         "name": "20"
        },
        {
         "data": [
          {
           "hoverinfo": "none",
           "mode": "text",
           "showlegend": false,
           "text": [
            "10",
            "20",
            "30",
            "40",
            "50",
            "40",
            "30",
            "20",
            "10"
           ],
           "textfont": {
            "color": "#ffffff",
            "family": "Courier New, monospace",
            "size": 30
           },
           "type": "scatter",
           "x": [
            20,
            30,
            40,
            50,
            60,
            70,
            80,
            90,
            100
           ],
           "y": [
            5,
            5,
            5,
            5,
            5,
            5,
            5,
            5,
            5
           ]
          },
          {
           "hoverinfo": "none",
           "mode": "text",
           "showlegend": false,
           "text": [
            "10",
            "20",
            "30",
            "40",
            "50",
            "40",
            "30",
            "20",
            "10"
           ],
           "textfont": {
            "color": "#ffffff",
            "family": "Courier New, monospace",
            "size": 30
           },
           "type": "scatter",
           "x": [
            20,
            30,
            40,
            50,
            60,
            70,
            80,
            90,
            100
           ],
           "y": [
            48.5,
            48.5,
            48.5,
            48.5,
            48.5,
            48.5,
            48.5,
            48.5,
            48.5
           ]
          },
          {
           "hoverinfo": "none",
           "line": {
            "color": "blue",
            "dash": "dash"
           },
           "showlegend": false,
           "type": "scatter",
           "x": [
            92,
            92
           ],
           "y": [
            0,
            53.5
           ]
          },
          {
           "hoverinfo": "none",
           "line": {
            "color": "yellow",
            "dash": "dash"
           },
           "showlegend": false,
           "type": "scatter",
           "x": [
            102,
            102
           ],
           "y": [
            0,
            53.5
           ]
          },
          {
           "hoverinfo": "text",
           "hovertext": [
            "nflId:29851.0<br>displayName:Aaron Rodgers<br>Position:QB<br>Role:Pass",
            "nflId:41282.0<br>displayName:Davante Adams<br>Position:SRoWR<br>Role:Pass Route",
            "nflId:41296.0<br>displayName:Billy Turner<br>Position:RT<br>Role:Pass Block",
            "nflId:45635.0<br>displayName:Robert Tonyan<br>Position:LWR<br>Role:Pass Route",
            "nflId:46705.0<br>displayName:Allen Lazard<br>Position:SLWR<br>Role:Pass Route",
            "nflId:47827.0<br>displayName:Elgton Jenkins<br>Position:LT<br>Role:Pass Block",
            "nflId:52470.0<br>displayName:A.J. Dillon<br>Position:RWR<br>Role:Pass Route",
            "nflId:52600.0<br>displayName:Jon Runyan<br>Position:LG<br>Role:Pass Block",
            "nflId:53172.0<br>displayName:Dominique Dafney<br>Position:SRiWR<br>Role:Pass Route",
            "nflId:53491.0<br>displayName:Josh Myers<br>Position:C<br>Role:Pass Block",
            "nflId:53571.0<br>displayName:Royce Newman<br>Position:RG<br>Role:Pass Block"
           ],
           "marker": {
            "color": "#203731"
           },
           "mode": "markers",
           "name": "GB",
           "type": "scatter",
           "x": [
            98.31,
            89.6,
            97.04,
            91.1,
            89.4,
            96.3,
            89.76,
            95.66,
            89.07,
            95.85,
            96.34
           ],
           "y": [
            24.07,
            36.2,
            28.26,
            5.3,
            14.39,
            19.47,
            43.48,
            21.37,
            30.71,
            24.06,
            26.92
           ]
          },
          {
           "hoverinfo": "text",
           "hovertext": [
            "nflId:38544.0<br>displayName:Michael Brockers<br>Position:REO<br>Role:Pass Rush",
            "nflId:40000.0<br>displayName:Jamie Collins<br>Position:LLB<br>Role:Coverage",
            "nflId:40171.0<br>displayName:Nicholas Williams<br>Position:NT<br>Role:Pass Rush",
            "nflId:42444.0<br>displayName:Trey Flowers<br>Position:RLB<br>Role:Coverage",
            "nflId:43775.0<br>displayName:Romeo Okwara<br>Position:LEO<br>Role:Pass Rush",
            "nflId:44888.0<br>displayName:Alex Anzalone<br>Position:SCBR<br>Role:Coverage",
            "nflId:46151.0<br>displayName:Tracy Walker<br>Position:FSL<br>Role:Coverage",
            "nflId:47864.0<br>displayName:Will Harris<br>Position:FSR<br>Role:Coverage",
            "nflId:47929.0<br>displayName:Amani Oruwariye<br>Position:RCB<br>Role:Coverage",
            "nflId:53530.0<br>displayName:Ifeatu Melifonwu<br>Position:LCB<br>Role:Coverage",
            "nflId:53957.0<br>displayName:A.J. Parker<br>Position:SCBoL<br>Role:Coverage"
           ],
           "marker": {
            "color": "#0076B6"
           },
           "mode": "markers",
           "name": "DET",
           "type": "scatter",
           "x": [
            95.1,
            85.49,
            94.8,
            87.91,
            96.67,
            86.82,
            71.32,
            74.19,
            89.58,
            88.75,
            84.36
           ],
           "y": [
            18.88,
            28.58,
            24.87,
            18.54,
            29.09,
            13.76,
            35.92,
            14.99,
            5.85,
            44.07,
            34.97
           ]
          },
          {
           "hoverinfo": "none",
           "marker": {
            "color": "#CBB67C"
           },
           "mode": "markers",
           "name": "football",
           "type": "scatter",
           "x": [
            99.01
           ],
           "y": [
            24.29
           ]
          }
         ],
         "name": "21"
        },
        {
         "data": [
          {
           "hoverinfo": "none",
           "mode": "text",
           "showlegend": false,
           "text": [
            "10",
            "20",
            "30",
            "40",
            "50",
            "40",
            "30",
            "20",
            "10"
           ],
           "textfont": {
            "color": "#ffffff",
            "family": "Courier New, monospace",
            "size": 30
           },
           "type": "scatter",
           "x": [
            20,
            30,
            40,
            50,
            60,
            70,
            80,
            90,
            100
           ],
           "y": [
            5,
            5,
            5,
            5,
            5,
            5,
            5,
            5,
            5
           ]
          },
          {
           "hoverinfo": "none",
           "mode": "text",
           "showlegend": false,
           "text": [
            "10",
            "20",
            "30",
            "40",
            "50",
            "40",
            "30",
            "20",
            "10"
           ],
           "textfont": {
            "color": "#ffffff",
            "family": "Courier New, monospace",
            "size": 30
           },
           "type": "scatter",
           "x": [
            20,
            30,
            40,
            50,
            60,
            70,
            80,
            90,
            100
           ],
           "y": [
            48.5,
            48.5,
            48.5,
            48.5,
            48.5,
            48.5,
            48.5,
            48.5,
            48.5
           ]
          },
          {
           "hoverinfo": "none",
           "line": {
            "color": "blue",
            "dash": "dash"
           },
           "showlegend": false,
           "type": "scatter",
           "x": [
            92,
            92
           ],
           "y": [
            0,
            53.5
           ]
          },
          {
           "hoverinfo": "none",
           "line": {
            "color": "yellow",
            "dash": "dash"
           },
           "showlegend": false,
           "type": "scatter",
           "x": [
            102,
            102
           ],
           "y": [
            0,
            53.5
           ]
          },
          {
           "hoverinfo": "text",
           "hovertext": [
            "nflId:29851.0<br>displayName:Aaron Rodgers<br>Position:QB<br>Role:Pass",
            "nflId:41282.0<br>displayName:Davante Adams<br>Position:SRoWR<br>Role:Pass Route",
            "nflId:41296.0<br>displayName:Billy Turner<br>Position:RT<br>Role:Pass Block",
            "nflId:45635.0<br>displayName:Robert Tonyan<br>Position:LWR<br>Role:Pass Route",
            "nflId:46705.0<br>displayName:Allen Lazard<br>Position:SLWR<br>Role:Pass Route",
            "nflId:47827.0<br>displayName:Elgton Jenkins<br>Position:LT<br>Role:Pass Block",
            "nflId:52470.0<br>displayName:A.J. Dillon<br>Position:RWR<br>Role:Pass Route",
            "nflId:52600.0<br>displayName:Jon Runyan<br>Position:LG<br>Role:Pass Block",
            "nflId:53172.0<br>displayName:Dominique Dafney<br>Position:SRiWR<br>Role:Pass Route",
            "nflId:53491.0<br>displayName:Josh Myers<br>Position:C<br>Role:Pass Block",
            "nflId:53571.0<br>displayName:Royce Newman<br>Position:RG<br>Role:Pass Block"
           ],
           "marker": {
            "color": "#203731"
           },
           "mode": "markers",
           "name": "GB",
           "type": "scatter",
           "x": [
            98.4,
            89.18,
            97.38,
            90.66,
            89.09,
            96.54,
            89.27,
            95.85,
            88.65,
            96.09,
            96.62
           ],
           "y": [
            24.1,
            36.35,
            28.26,
            4.92,
            14.4,
            19.49,
            43.44,
            21.32,
            30.74,
            24.15,
            27.06
           ]
          },
          {
           "hoverinfo": "text",
           "hovertext": [
            "nflId:38544.0<br>displayName:Michael Brockers<br>Position:REO<br>Role:Pass Rush",
            "nflId:40000.0<br>displayName:Jamie Collins<br>Position:LLB<br>Role:Coverage",
            "nflId:40171.0<br>displayName:Nicholas Williams<br>Position:NT<br>Role:Pass Rush",
            "nflId:42444.0<br>displayName:Trey Flowers<br>Position:RLB<br>Role:Coverage",
            "nflId:43775.0<br>displayName:Romeo Okwara<br>Position:LEO<br>Role:Pass Rush",
            "nflId:44888.0<br>displayName:Alex Anzalone<br>Position:SCBR<br>Role:Coverage",
            "nflId:46151.0<br>displayName:Tracy Walker<br>Position:FSL<br>Role:Coverage",
            "nflId:47864.0<br>displayName:Will Harris<br>Position:FSR<br>Role:Coverage",
            "nflId:47929.0<br>displayName:Amani Oruwariye<br>Position:RCB<br>Role:Coverage",
            "nflId:53530.0<br>displayName:Ifeatu Melifonwu<br>Position:LCB<br>Role:Coverage",
            "nflId:53957.0<br>displayName:A.J. Parker<br>Position:SCBoL<br>Role:Coverage"
           ],
           "marker": {
            "color": "#0076B6"
           },
           "mode": "markers",
           "name": "DET",
           "type": "scatter",
           "x": [
            95.37,
            85.25,
            95.11,
            87.74,
            97.03,
            86.76,
            70.96,
            74,
            89.25,
            88.46,
            84.15
           ],
           "y": [
            19.01,
            28.63,
            24.98,
            18.5,
            29.13,
            13.7,
            36.11,
            14.98,
            5.55,
            44.07,
            35.14
           ]
          },
          {
           "hoverinfo": "none",
           "marker": {
            "color": "#CBB67C"
           },
           "mode": "markers",
           "name": "football",
           "type": "scatter",
           "x": [
            99.05
           ],
           "y": [
            24.41
           ]
          }
         ],
         "name": "22"
        },
        {
         "data": [
          {
           "hoverinfo": "none",
           "mode": "text",
           "showlegend": false,
           "text": [
            "10",
            "20",
            "30",
            "40",
            "50",
            "40",
            "30",
            "20",
            "10"
           ],
           "textfont": {
            "color": "#ffffff",
            "family": "Courier New, monospace",
            "size": 30
           },
           "type": "scatter",
           "x": [
            20,
            30,
            40,
            50,
            60,
            70,
            80,
            90,
            100
           ],
           "y": [
            5,
            5,
            5,
            5,
            5,
            5,
            5,
            5,
            5
           ]
          },
          {
           "hoverinfo": "none",
           "mode": "text",
           "showlegend": false,
           "text": [
            "10",
            "20",
            "30",
            "40",
            "50",
            "40",
            "30",
            "20",
            "10"
           ],
           "textfont": {
            "color": "#ffffff",
            "family": "Courier New, monospace",
            "size": 30
           },
           "type": "scatter",
           "x": [
            20,
            30,
            40,
            50,
            60,
            70,
            80,
            90,
            100
           ],
           "y": [
            48.5,
            48.5,
            48.5,
            48.5,
            48.5,
            48.5,
            48.5,
            48.5,
            48.5
           ]
          },
          {
           "hoverinfo": "none",
           "line": {
            "color": "blue",
            "dash": "dash"
           },
           "showlegend": false,
           "type": "scatter",
           "x": [
            92,
            92
           ],
           "y": [
            0,
            53.5
           ]
          },
          {
           "hoverinfo": "none",
           "line": {
            "color": "yellow",
            "dash": "dash"
           },
           "showlegend": false,
           "type": "scatter",
           "x": [
            102,
            102
           ],
           "y": [
            0,
            53.5
           ]
          },
          {
           "hoverinfo": "text",
           "hovertext": [
            "nflId:29851.0<br>displayName:Aaron Rodgers<br>Position:QB<br>Role:Pass",
            "nflId:41282.0<br>displayName:Davante Adams<br>Position:SRoWR<br>Role:Pass Route",
            "nflId:41296.0<br>displayName:Billy Turner<br>Position:RT<br>Role:Pass Block",
            "nflId:45635.0<br>displayName:Robert Tonyan<br>Position:LWR<br>Role:Pass Route",
            "nflId:46705.0<br>displayName:Allen Lazard<br>Position:SLWR<br>Role:Pass Route",
            "nflId:47827.0<br>displayName:Elgton Jenkins<br>Position:LT<br>Role:Pass Block",
            "nflId:52470.0<br>displayName:A.J. Dillon<br>Position:RWR<br>Role:Pass Route",
            "nflId:52600.0<br>displayName:Jon Runyan<br>Position:LG<br>Role:Pass Block",
            "nflId:53172.0<br>displayName:Dominique Dafney<br>Position:SRiWR<br>Role:Pass Route",
            "nflId:53491.0<br>displayName:Josh Myers<br>Position:C<br>Role:Pass Block",
            "nflId:53571.0<br>displayName:Royce Newman<br>Position:RG<br>Role:Pass Block"
           ],
           "marker": {
            "color": "#203731"
           },
           "mode": "markers",
           "name": "GB",
           "type": "scatter",
           "x": [
            98.48,
            88.8,
            97.7,
            90.19,
            88.82,
            96.77,
            88.78,
            96.02,
            88.26,
            96.32,
            96.87
           ],
           "y": [
            24.13,
            36.54,
            28.25,
            4.56,
            14.42,
            19.56,
            43.37,
            21.26,
            30.78,
            24.26,
            27.22
           ]
          },
          {
           "hoverinfo": "text",
           "hovertext": [
            "nflId:38544.0<br>displayName:Michael Brockers<br>Position:REO<br>Role:Pass Rush",
            "nflId:40000.0<br>displayName:Jamie Collins<br>Position:LLB<br>Role:Coverage",
            "nflId:40171.0<br>displayName:Nicholas Williams<br>Position:NT<br>Role:Pass Rush",
            "nflId:42444.0<br>displayName:Trey Flowers<br>Position:RLB<br>Role:Coverage",
            "nflId:43775.0<br>displayName:Romeo Okwara<br>Position:LEO<br>Role:Pass Rush",
            "nflId:44888.0<br>displayName:Alex Anzalone<br>Position:SCBR<br>Role:Coverage",
            "nflId:46151.0<br>displayName:Tracy Walker<br>Position:FSL<br>Role:Coverage",
            "nflId:47864.0<br>displayName:Will Harris<br>Position:FSR<br>Role:Coverage",
            "nflId:47929.0<br>displayName:Amani Oruwariye<br>Position:RCB<br>Role:Coverage",
            "nflId:53530.0<br>displayName:Ifeatu Melifonwu<br>Position:LCB<br>Role:Coverage",
            "nflId:53957.0<br>displayName:A.J. Parker<br>Position:SCBoL<br>Role:Coverage"
           ],
           "marker": {
            "color": "#0076B6"
           },
           "mode": "markers",
           "name": "DET",
           "type": "scatter",
           "x": [
            95.61,
            85.03,
            95.4,
            87.58,
            97.35,
            86.69,
            70.62,
            73.79,
            88.88,
            88.16,
            84.01
           ],
           "y": [
            19.17,
            28.69,
            25.09,
            18.47,
            29.16,
            13.67,
            36.32,
            14.97,
            5.24,
            44.08,
            35.36
           ]
          },
          {
           "hoverinfo": "none",
           "marker": {
            "color": "#CBB67C"
           },
           "mode": "markers",
           "name": "football",
           "type": "scatter",
           "x": [
            99.04
           ],
           "y": [
            24.54
           ]
          }
         ],
         "name": "23"
        },
        {
         "data": [
          {
           "hoverinfo": "none",
           "mode": "text",
           "showlegend": false,
           "text": [
            "10",
            "20",
            "30",
            "40",
            "50",
            "40",
            "30",
            "20",
            "10"
           ],
           "textfont": {
            "color": "#ffffff",
            "family": "Courier New, monospace",
            "size": 30
           },
           "type": "scatter",
           "x": [
            20,
            30,
            40,
            50,
            60,
            70,
            80,
            90,
            100
           ],
           "y": [
            5,
            5,
            5,
            5,
            5,
            5,
            5,
            5,
            5
           ]
          },
          {
           "hoverinfo": "none",
           "mode": "text",
           "showlegend": false,
           "text": [
            "10",
            "20",
            "30",
            "40",
            "50",
            "40",
            "30",
            "20",
            "10"
           ],
           "textfont": {
            "color": "#ffffff",
            "family": "Courier New, monospace",
            "size": 30
           },
           "type": "scatter",
           "x": [
            20,
            30,
            40,
            50,
            60,
            70,
            80,
            90,
            100
           ],
           "y": [
            48.5,
            48.5,
            48.5,
            48.5,
            48.5,
            48.5,
            48.5,
            48.5,
            48.5
           ]
          },
          {
           "hoverinfo": "none",
           "line": {
            "color": "blue",
            "dash": "dash"
           },
           "showlegend": false,
           "type": "scatter",
           "x": [
            92,
            92
           ],
           "y": [
            0,
            53.5
           ]
          },
          {
           "hoverinfo": "none",
           "line": {
            "color": "yellow",
            "dash": "dash"
           },
           "showlegend": false,
           "type": "scatter",
           "x": [
            102,
            102
           ],
           "y": [
            0,
            53.5
           ]
          },
          {
           "hoverinfo": "text",
           "hovertext": [
            "nflId:29851.0<br>displayName:Aaron Rodgers<br>Position:QB<br>Role:Pass",
            "nflId:41282.0<br>displayName:Davante Adams<br>Position:SRoWR<br>Role:Pass Route",
            "nflId:41296.0<br>displayName:Billy Turner<br>Position:RT<br>Role:Pass Block",
            "nflId:45635.0<br>displayName:Robert Tonyan<br>Position:LWR<br>Role:Pass Route",
            "nflId:46705.0<br>displayName:Allen Lazard<br>Position:SLWR<br>Role:Pass Route",
            "nflId:47827.0<br>displayName:Elgton Jenkins<br>Position:LT<br>Role:Pass Block",
            "nflId:52470.0<br>displayName:A.J. Dillon<br>Position:RWR<br>Role:Pass Route",
            "nflId:52600.0<br>displayName:Jon Runyan<br>Position:LG<br>Role:Pass Block",
            "nflId:53172.0<br>displayName:Dominique Dafney<br>Position:SRiWR<br>Role:Pass Route",
            "nflId:53491.0<br>displayName:Josh Myers<br>Position:C<br>Role:Pass Block",
            "nflId:53571.0<br>displayName:Royce Newman<br>Position:RG<br>Role:Pass Block"
           ],
           "marker": {
            "color": "#203731"
           },
           "mode": "markers",
           "name": "GB",
           "type": "scatter",
           "x": [
            98.54,
            88.48,
            98,
            89.68,
            88.59,
            96.99,
            88.31,
            96.18,
            87.9,
            96.55,
            97.11
           ],
           "y": [
            24.15,
            36.8,
            28.22,
            4.2,
            14.47,
            19.67,
            43.29,
            21.2,
            30.86,
            24.39,
            27.4
           ]
          },
          {
           "hoverinfo": "text",
           "hovertext": [
            "nflId:38544.0<br>displayName:Michael Brockers<br>Position:REO<br>Role:Pass Rush",
            "nflId:40000.0<br>displayName:Jamie Collins<br>Position:LLB<br>Role:Coverage",
            "nflId:40171.0<br>displayName:Nicholas Williams<br>Position:NT<br>Role:Pass Rush",
            "nflId:42444.0<br>displayName:Trey Flowers<br>Position:RLB<br>Role:Coverage",
            "nflId:43775.0<br>displayName:Romeo Okwara<br>Position:LEO<br>Role:Pass Rush",
            "nflId:44888.0<br>displayName:Alex Anzalone<br>Position:SCBR<br>Role:Coverage",
            "nflId:46151.0<br>displayName:Tracy Walker<br>Position:FSL<br>Role:Coverage",
            "nflId:47864.0<br>displayName:Will Harris<br>Position:FSR<br>Role:Coverage",
            "nflId:47929.0<br>displayName:Amani Oruwariye<br>Position:RCB<br>Role:Coverage",
            "nflId:53530.0<br>displayName:Ifeatu Melifonwu<br>Position:LCB<br>Role:Coverage",
            "nflId:53957.0<br>displayName:A.J. Parker<br>Position:SCBoL<br>Role:Coverage"
           ],
           "marker": {
            "color": "#0076B6"
           },
           "mode": "markers",
           "name": "DET",
           "type": "scatter",
           "x": [
            95.82,
            84.85,
            95.68,
            87.44,
            97.62,
            86.62,
            70.33,
            73.58,
            88.48,
            87.82,
            83.93
           ],
           "y": [
            19.34,
            28.75,
            25.21,
            18.45,
            29.21,
            13.69,
            36.56,
            14.98,
            4.94,
            44.09,
            35.6
           ]
          },
          {
           "hoverinfo": "none",
           "marker": {
            "color": "#CBB67C"
           },
           "mode": "markers",
           "name": "football",
           "type": "scatter",
           "x": [
            99
           ],
           "y": [
            24.68
           ]
          }
         ],
         "name": "24"
        },
        {
         "data": [
          {
           "hoverinfo": "none",
           "mode": "text",
           "showlegend": false,
           "text": [
            "10",
            "20",
            "30",
            "40",
            "50",
            "40",
            "30",
            "20",
            "10"
           ],
           "textfont": {
            "color": "#ffffff",
            "family": "Courier New, monospace",
            "size": 30
           },
           "type": "scatter",
           "x": [
            20,
            30,
            40,
            50,
            60,
            70,
            80,
            90,
            100
           ],
           "y": [
            5,
            5,
            5,
            5,
            5,
            5,
            5,
            5,
            5
           ]
          },
          {
           "hoverinfo": "none",
           "mode": "text",
           "showlegend": false,
           "text": [
            "10",
            "20",
            "30",
            "40",
            "50",
            "40",
            "30",
            "20",
            "10"
           ],
           "textfont": {
            "color": "#ffffff",
            "family": "Courier New, monospace",
            "size": 30
           },
           "type": "scatter",
           "x": [
            20,
            30,
            40,
            50,
            60,
            70,
            80,
            90,
            100
           ],
           "y": [
            48.5,
            48.5,
            48.5,
            48.5,
            48.5,
            48.5,
            48.5,
            48.5,
            48.5
           ]
          },
          {
           "hoverinfo": "none",
           "line": {
            "color": "blue",
            "dash": "dash"
           },
           "showlegend": false,
           "type": "scatter",
           "x": [
            92,
            92
           ],
           "y": [
            0,
            53.5
           ]
          },
          {
           "hoverinfo": "none",
           "line": {
            "color": "yellow",
            "dash": "dash"
           },
           "showlegend": false,
           "type": "scatter",
           "x": [
            102,
            102
           ],
           "y": [
            0,
            53.5
           ]
          },
          {
           "hoverinfo": "text",
           "hovertext": [
            "nflId:29851.0<br>displayName:Aaron Rodgers<br>Position:QB<br>Role:Pass",
            "nflId:41282.0<br>displayName:Davante Adams<br>Position:SRoWR<br>Role:Pass Route",
            "nflId:41296.0<br>displayName:Billy Turner<br>Position:RT<br>Role:Pass Block",
            "nflId:45635.0<br>displayName:Robert Tonyan<br>Position:LWR<br>Role:Pass Route",
            "nflId:46705.0<br>displayName:Allen Lazard<br>Position:SLWR<br>Role:Pass Route",
            "nflId:47827.0<br>displayName:Elgton Jenkins<br>Position:LT<br>Role:Pass Block",
            "nflId:52470.0<br>displayName:A.J. Dillon<br>Position:RWR<br>Role:Pass Route",
            "nflId:52600.0<br>displayName:Jon Runyan<br>Position:LG<br>Role:Pass Block",
            "nflId:53172.0<br>displayName:Dominique Dafney<br>Position:SRiWR<br>Role:Pass Route",
            "nflId:53491.0<br>displayName:Josh Myers<br>Position:C<br>Role:Pass Block",
            "nflId:53571.0<br>displayName:Royce Newman<br>Position:RG<br>Role:Pass Block"
           ],
           "marker": {
            "color": "#203731"
           },
           "mode": "markers",
           "name": "GB",
           "type": "scatter",
           "x": [
            98.6,
            88.2,
            98.27,
            89.12,
            88.4,
            97.18,
            87.84,
            96.32,
            87.57,
            96.75,
            97.34
           ],
           "y": [
            24.17,
            37.1,
            28.18,
            3.86,
            14.54,
            19.79,
            43.19,
            21.14,
            30.98,
            24.56,
            27.57
           ]
          },
          {
           "hoverinfo": "text",
           "hovertext": [
            "nflId:38544.0<br>displayName:Michael Brockers<br>Position:REO<br>Role:Pass Rush",
            "nflId:40000.0<br>displayName:Jamie Collins<br>Position:LLB<br>Role:Coverage",
            "nflId:40171.0<br>displayName:Nicholas Williams<br>Position:NT<br>Role:Pass Rush",
            "nflId:42444.0<br>displayName:Trey Flowers<br>Position:RLB<br>Role:Coverage",
            "nflId:43775.0<br>displayName:Romeo Okwara<br>Position:LEO<br>Role:Pass Rush",
            "nflId:44888.0<br>displayName:Alex Anzalone<br>Position:SCBR<br>Role:Coverage",
            "nflId:46151.0<br>displayName:Tracy Walker<br>Position:FSL<br>Role:Coverage",
            "nflId:47864.0<br>displayName:Will Harris<br>Position:FSR<br>Role:Coverage",
            "nflId:47929.0<br>displayName:Amani Oruwariye<br>Position:RCB<br>Role:Coverage",
            "nflId:53530.0<br>displayName:Ifeatu Melifonwu<br>Position:LCB<br>Role:Coverage",
            "nflId:53957.0<br>displayName:A.J. Parker<br>Position:SCBoL<br>Role:Coverage"
           ],
           "marker": {
            "color": "#0076B6"
           },
           "mode": "markers",
           "name": "DET",
           "type": "scatter",
           "x": [
            96,
            84.7,
            95.94,
            87.32,
            97.83,
            86.54,
            70.07,
            73.36,
            88.05,
            87.47,
            83.9
           ],
           "y": [
            19.51,
            28.84,
            25.38,
            18.45,
            29.25,
            13.75,
            36.8,
            14.99,
            4.64,
            44.1,
            35.87
           ]
          },
          {
           "hoverinfo": "none",
           "marker": {
            "color": "#CBB67C"
           },
           "mode": "markers",
           "name": "football",
           "type": "scatter",
           "x": [
            98.92
           ],
           "y": [
            24.89
           ]
          }
         ],
         "name": "25"
        },
        {
         "data": [
          {
           "hoverinfo": "none",
           "mode": "text",
           "showlegend": false,
           "text": [
            "10",
            "20",
            "30",
            "40",
            "50",
            "40",
            "30",
            "20",
            "10"
           ],
           "textfont": {
            "color": "#ffffff",
            "family": "Courier New, monospace",
            "size": 30
           },
           "type": "scatter",
           "x": [
            20,
            30,
            40,
            50,
            60,
            70,
            80,
            90,
            100
           ],
           "y": [
            5,
            5,
            5,
            5,
            5,
            5,
            5,
            5,
            5
           ]
          },
          {
           "hoverinfo": "none",
           "mode": "text",
           "showlegend": false,
           "text": [
            "10",
            "20",
            "30",
            "40",
            "50",
            "40",
            "30",
            "20",
            "10"
           ],
           "textfont": {
            "color": "#ffffff",
            "family": "Courier New, monospace",
            "size": 30
           },
           "type": "scatter",
           "x": [
            20,
            30,
            40,
            50,
            60,
            70,
            80,
            90,
            100
           ],
           "y": [
            48.5,
            48.5,
            48.5,
            48.5,
            48.5,
            48.5,
            48.5,
            48.5,
            48.5
           ]
          },
          {
           "hoverinfo": "none",
           "line": {
            "color": "blue",
            "dash": "dash"
           },
           "showlegend": false,
           "type": "scatter",
           "x": [
            92,
            92
           ],
           "y": [
            0,
            53.5
           ]
          },
          {
           "hoverinfo": "none",
           "line": {
            "color": "yellow",
            "dash": "dash"
           },
           "showlegend": false,
           "type": "scatter",
           "x": [
            102,
            102
           ],
           "y": [
            0,
            53.5
           ]
          },
          {
           "hoverinfo": "text",
           "hovertext": [
            "nflId:29851.0<br>displayName:Aaron Rodgers<br>Position:QB<br>Role:Pass",
            "nflId:41282.0<br>displayName:Davante Adams<br>Position:SRoWR<br>Role:Pass Route",
            "nflId:41296.0<br>displayName:Billy Turner<br>Position:RT<br>Role:Pass Block",
            "nflId:45635.0<br>displayName:Robert Tonyan<br>Position:LWR<br>Role:Pass Route",
            "nflId:46705.0<br>displayName:Allen Lazard<br>Position:SLWR<br>Role:Pass Route",
            "nflId:47827.0<br>displayName:Elgton Jenkins<br>Position:LT<br>Role:Pass Block",
            "nflId:52470.0<br>displayName:A.J. Dillon<br>Position:RWR<br>Role:Pass Route",
            "nflId:52600.0<br>displayName:Jon Runyan<br>Position:LG<br>Role:Pass Block",
            "nflId:53172.0<br>displayName:Dominique Dafney<br>Position:SRiWR<br>Role:Pass Route",
            "nflId:53491.0<br>displayName:Josh Myers<br>Position:C<br>Role:Pass Block",
            "nflId:53571.0<br>displayName:Royce Newman<br>Position:RG<br>Role:Pass Block"
           ],
           "marker": {
            "color": "#203731"
           },
           "mode": "markers",
           "name": "GB",
           "type": "scatter",
           "x": [
            98.64,
            87.98,
            98.53,
            88.54,
            88.26,
            97.35,
            87.38,
            96.45,
            87.29,
            96.94,
            97.54
           ],
           "y": [
            24.18,
            37.45,
            28.14,
            3.54,
            14.63,
            19.94,
            43.08,
            21.09,
            31.14,
            24.73,
            27.75
           ]
          },
          {
           "hoverinfo": "text",
           "hovertext": [
            "nflId:38544.0<br>displayName:Michael Brockers<br>Position:REO<br>Role:Pass Rush",
            "nflId:40000.0<br>displayName:Jamie Collins<br>Position:LLB<br>Role:Coverage",
            "nflId:40171.0<br>displayName:Nicholas Williams<br>Position:NT<br>Role:Pass Rush",
            "nflId:42444.0<br>displayName:Trey Flowers<br>Position:RLB<br>Role:Coverage",
            "nflId:43775.0<br>displayName:Romeo Okwara<br>Position:LEO<br>Role:Pass Rush",
            "nflId:44888.0<br>displayName:Alex Anzalone<br>Position:SCBR<br>Role:Coverage",
            "nflId:46151.0<br>displayName:Tracy Walker<br>Position:FSL<br>Role:Coverage",
            "nflId:47864.0<br>displayName:Will Harris<br>Position:FSR<br>Role:Coverage",
            "nflId:47929.0<br>displayName:Amani Oruwariye<br>Position:RCB<br>Role:Coverage",
            "nflId:53530.0<br>displayName:Ifeatu Melifonwu<br>Position:LCB<br>Role:Coverage",
            "nflId:53957.0<br>displayName:A.J. Parker<br>Position:SCBoL<br>Role:Coverage"
           ],
           "marker": {
            "color": "#0076B6"
           },
           "mode": "markers",
           "name": "DET",
           "type": "scatter",
           "x": [
            96.14,
            84.59,
            96.18,
            87.21,
            97.95,
            86.48,
            69.88,
            73.14,
            87.58,
            87.16,
            83.92
           ],
           "y": [
            19.67,
            28.97,
            25.54,
            18.47,
            29.3,
            13.84,
            37.07,
            15.04,
            4.35,
            44.11,
            36.16
           ]
          },
          {
           "hoverinfo": "none",
           "marker": {
            "color": "#CBB67C"
           },
           "mode": "markers",
           "name": "football",
           "type": "scatter",
           "x": [
            96.11
           ],
           "y": [
            28.63
           ]
          }
         ],
         "name": "26"
        },
        {
         "data": [
          {
           "hoverinfo": "none",
           "mode": "text",
           "showlegend": false,
           "text": [
            "10",
            "20",
            "30",
            "40",
            "50",
            "40",
            "30",
            "20",
            "10"
           ],
           "textfont": {
            "color": "#ffffff",
            "family": "Courier New, monospace",
            "size": 30
           },
           "type": "scatter",
           "x": [
            20,
            30,
            40,
            50,
            60,
            70,
            80,
            90,
            100
           ],
           "y": [
            5,
            5,
            5,
            5,
            5,
            5,
            5,
            5,
            5
           ]
          },
          {
           "hoverinfo": "none",
           "mode": "text",
           "showlegend": false,
           "text": [
            "10",
            "20",
            "30",
            "40",
            "50",
            "40",
            "30",
            "20",
            "10"
           ],
           "textfont": {
            "color": "#ffffff",
            "family": "Courier New, monospace",
            "size": 30
           },
           "type": "scatter",
           "x": [
            20,
            30,
            40,
            50,
            60,
            70,
            80,
            90,
            100
           ],
           "y": [
            48.5,
            48.5,
            48.5,
            48.5,
            48.5,
            48.5,
            48.5,
            48.5,
            48.5
           ]
          },
          {
           "hoverinfo": "none",
           "line": {
            "color": "blue",
            "dash": "dash"
           },
           "showlegend": false,
           "type": "scatter",
           "x": [
            92,
            92
           ],
           "y": [
            0,
            53.5
           ]
          },
          {
           "hoverinfo": "none",
           "line": {
            "color": "yellow",
            "dash": "dash"
           },
           "showlegend": false,
           "type": "scatter",
           "x": [
            102,
            102
           ],
           "y": [
            0,
            53.5
           ]
          },
          {
           "hoverinfo": "text",
           "hovertext": [
            "nflId:29851.0<br>displayName:Aaron Rodgers<br>Position:QB<br>Role:Pass",
            "nflId:41282.0<br>displayName:Davante Adams<br>Position:SRoWR<br>Role:Pass Route",
            "nflId:41296.0<br>displayName:Billy Turner<br>Position:RT<br>Role:Pass Block",
            "nflId:45635.0<br>displayName:Robert Tonyan<br>Position:LWR<br>Role:Pass Route",
            "nflId:46705.0<br>displayName:Allen Lazard<br>Position:SLWR<br>Role:Pass Route",
            "nflId:47827.0<br>displayName:Elgton Jenkins<br>Position:LT<br>Role:Pass Block",
            "nflId:52470.0<br>displayName:A.J. Dillon<br>Position:RWR<br>Role:Pass Route",
            "nflId:52600.0<br>displayName:Jon Runyan<br>Position:LG<br>Role:Pass Block",
            "nflId:53172.0<br>displayName:Dominique Dafney<br>Position:SRiWR<br>Role:Pass Route",
            "nflId:53491.0<br>displayName:Josh Myers<br>Position:C<br>Role:Pass Block",
            "nflId:53571.0<br>displayName:Royce Newman<br>Position:RG<br>Role:Pass Block"
           ],
           "marker": {
            "color": "#203731"
           },
           "mode": "markers",
           "name": "GB",
           "type": "scatter",
           "x": [
            98.67,
            87.82,
            98.75,
            87.93,
            88.13,
            97.49,
            86.91,
            96.55,
            87.05,
            97.1,
            97.7
           ],
           "y": [
            24.19,
            37.85,
            28.09,
            3.23,
            14.75,
            20.09,
            42.98,
            21.06,
            31.34,
            24.91,
            27.92
           ]
          },
          {
           "hoverinfo": "text",
           "hovertext": [
            "nflId:38544.0<br>displayName:Michael Brockers<br>Position:REO<br>Role:Pass Rush",
            "nflId:40000.0<br>displayName:Jamie Collins<br>Position:LLB<br>Role:Coverage",
            "nflId:40171.0<br>displayName:Nicholas Williams<br>Position:NT<br>Role:Pass Rush",
            "nflId:42444.0<br>displayName:Trey Flowers<br>Position:RLB<br>Role:Coverage",
            "nflId:43775.0<br>displayName:Romeo Okwara<br>Position:LEO<br>Role:Pass Rush",
            "nflId:44888.0<br>displayName:Alex Anzalone<br>Position:SCBR<br>Role:Coverage",
            "nflId:46151.0<br>displayName:Tracy Walker<br>Position:FSL<br>Role:Coverage",
            "nflId:47864.0<br>displayName:Will Harris<br>Position:FSR<br>Role:Coverage",
            "nflId:47929.0<br>displayName:Amani Oruwariye<br>Position:RCB<br>Role:Coverage",
            "nflId:53530.0<br>displayName:Ifeatu Melifonwu<br>Position:LCB<br>Role:Coverage",
            "nflId:53957.0<br>displayName:A.J. Parker<br>Position:SCBoL<br>Role:Coverage"
           ],
           "marker": {
            "color": "#0076B6"
           },
           "mode": "markers",
           "name": "DET",
           "type": "scatter",
           "x": [
            96.26,
            84.53,
            96.41,
            87.13,
            98.03,
            86.41,
            69.74,
            72.95,
            87.1,
            86.88,
            83.99
           ],
           "y": [
            19.82,
            29.13,
            25.71,
            18.52,
            29.36,
            13.98,
            37.36,
            15.13,
            4.07,
            44.1,
            36.5
           ]
          },
          {
           "hoverinfo": "none",
           "marker": {
            "color": "#CBB67C"
           },
           "mode": "markers",
           "name": "football",
           "type": "scatter",
           "x": [
            94.86
           ],
           "y": [
            30.54
           ]
          }
         ],
         "name": "27"
        },
        {
         "data": [
          {
           "hoverinfo": "none",
           "mode": "text",
           "showlegend": false,
           "text": [
            "10",
            "20",
            "30",
            "40",
            "50",
            "40",
            "30",
            "20",
            "10"
           ],
           "textfont": {
            "color": "#ffffff",
            "family": "Courier New, monospace",
            "size": 30
           },
           "type": "scatter",
           "x": [
            20,
            30,
            40,
            50,
            60,
            70,
            80,
            90,
            100
           ],
           "y": [
            5,
            5,
            5,
            5,
            5,
            5,
            5,
            5,
            5
           ]
          },
          {
           "hoverinfo": "none",
           "mode": "text",
           "showlegend": false,
           "text": [
            "10",
            "20",
            "30",
            "40",
            "50",
            "40",
            "30",
            "20",
            "10"
           ],
           "textfont": {
            "color": "#ffffff",
            "family": "Courier New, monospace",
            "size": 30
           },
           "type": "scatter",
           "x": [
            20,
            30,
            40,
            50,
            60,
            70,
            80,
            90,
            100
           ],
           "y": [
            48.5,
            48.5,
            48.5,
            48.5,
            48.5,
            48.5,
            48.5,
            48.5,
            48.5
           ]
          },
          {
           "hoverinfo": "none",
           "line": {
            "color": "blue",
            "dash": "dash"
           },
           "showlegend": false,
           "type": "scatter",
           "x": [
            92,
            92
           ],
           "y": [
            0,
            53.5
           ]
          },
          {
           "hoverinfo": "none",
           "line": {
            "color": "yellow",
            "dash": "dash"
           },
           "showlegend": false,
           "type": "scatter",
           "x": [
            102,
            102
           ],
           "y": [
            0,
            53.5
           ]
          },
          {
           "hoverinfo": "text",
           "hovertext": [
            "nflId:29851.0<br>displayName:Aaron Rodgers<br>Position:QB<br>Role:Pass",
            "nflId:41282.0<br>displayName:Davante Adams<br>Position:SRoWR<br>Role:Pass Route",
            "nflId:41296.0<br>displayName:Billy Turner<br>Position:RT<br>Role:Pass Block",
            "nflId:45635.0<br>displayName:Robert Tonyan<br>Position:LWR<br>Role:Pass Route",
            "nflId:46705.0<br>displayName:Allen Lazard<br>Position:SLWR<br>Role:Pass Route",
            "nflId:47827.0<br>displayName:Elgton Jenkins<br>Position:LT<br>Role:Pass Block",
            "nflId:52470.0<br>displayName:A.J. Dillon<br>Position:RWR<br>Role:Pass Route",
            "nflId:52600.0<br>displayName:Jon Runyan<br>Position:LG<br>Role:Pass Block",
            "nflId:53172.0<br>displayName:Dominique Dafney<br>Position:SRiWR<br>Role:Pass Route",
            "nflId:53491.0<br>displayName:Josh Myers<br>Position:C<br>Role:Pass Block",
            "nflId:53571.0<br>displayName:Royce Newman<br>Position:RG<br>Role:Pass Block"
           ],
           "marker": {
            "color": "#203731"
           },
           "mode": "markers",
           "name": "GB",
           "type": "scatter",
           "x": [
            98.68,
            87.71,
            98.95,
            87.32,
            88.03,
            97.63,
            86.44,
            96.64,
            86.85,
            97.26,
            97.83
           ],
           "y": [
            24.19,
            38.28,
            28.03,
            2.94,
            14.9,
            20.25,
            42.9,
            21.04,
            31.58,
            25.09,
            28.08
           ]
          },
          {
           "hoverinfo": "text",
           "hovertext": [
            "nflId:38544.0<br>displayName:Michael Brockers<br>Position:REO<br>Role:Pass Rush",
            "nflId:40000.0<br>displayName:Jamie Collins<br>Position:LLB<br>Role:Coverage",
            "nflId:40171.0<br>displayName:Nicholas Williams<br>Position:NT<br>Role:Pass Rush",
            "nflId:42444.0<br>displayName:Trey Flowers<br>Position:RLB<br>Role:Coverage",
            "nflId:43775.0<br>displayName:Romeo Okwara<br>Position:LEO<br>Role:Pass Rush",
            "nflId:44888.0<br>displayName:Alex Anzalone<br>Position:SCBR<br>Role:Coverage",
            "nflId:46151.0<br>displayName:Tracy Walker<br>Position:FSL<br>Role:Coverage",
            "nflId:47864.0<br>displayName:Will Harris<br>Position:FSR<br>Role:Coverage",
            "nflId:47929.0<br>displayName:Amani Oruwariye<br>Position:RCB<br>Role:Coverage",
            "nflId:53530.0<br>displayName:Ifeatu Melifonwu<br>Position:LCB<br>Role:Coverage",
            "nflId:53957.0<br>displayName:A.J. Parker<br>Position:SCBoL<br>Role:Coverage"
           ],
           "marker": {
            "color": "#0076B6"
           },
           "mode": "markers",
           "name": "DET",
           "type": "scatter",
           "x": [
            96.34,
            84.5,
            96.63,
            87.05,
            98.06,
            86.34,
            69.67,
            72.76,
            86.58,
            86.65,
            84.12
           ],
           "y": [
            19.98,
            29.34,
            25.92,
            18.62,
            29.42,
            14.16,
            37.68,
            15.25,
            3.8,
            44.09,
            36.86
           ]
          },
          {
           "hoverinfo": "none",
           "marker": {
            "color": "#CBB67C"
           },
           "mode": "markers",
           "name": "football",
           "type": "scatter",
           "x": [
            93.62
           ],
           "y": [
            32.44
           ]
          }
         ],
         "name": "28"
        },
        {
         "data": [
          {
           "hoverinfo": "none",
           "mode": "text",
           "showlegend": false,
           "text": [
            "10",
            "20",
            "30",
            "40",
            "50",
            "40",
            "30",
            "20",
            "10"
           ],
           "textfont": {
            "color": "#ffffff",
            "family": "Courier New, monospace",
            "size": 30
           },
           "type": "scatter",
           "x": [
            20,
            30,
            40,
            50,
            60,
            70,
            80,
            90,
            100
           ],
           "y": [
            5,
            5,
            5,
            5,
            5,
            5,
            5,
            5,
            5
           ]
          },
          {
           "hoverinfo": "none",
           "mode": "text",
           "showlegend": false,
           "text": [
            "10",
            "20",
            "30",
            "40",
            "50",
            "40",
            "30",
            "20",
            "10"
           ],
           "textfont": {
            "color": "#ffffff",
            "family": "Courier New, monospace",
            "size": 30
           },
           "type": "scatter",
           "x": [
            20,
            30,
            40,
            50,
            60,
            70,
            80,
            90,
            100
           ],
           "y": [
            48.5,
            48.5,
            48.5,
            48.5,
            48.5,
            48.5,
            48.5,
            48.5,
            48.5
           ]
          },
          {
           "hoverinfo": "none",
           "line": {
            "color": "blue",
            "dash": "dash"
           },
           "showlegend": false,
           "type": "scatter",
           "x": [
            92,
            92
           ],
           "y": [
            0,
            53.5
           ]
          },
          {
           "hoverinfo": "none",
           "line": {
            "color": "yellow",
            "dash": "dash"
           },
           "showlegend": false,
           "type": "scatter",
           "x": [
            102,
            102
           ],
           "y": [
            0,
            53.5
           ]
          },
          {
           "hoverinfo": "text",
           "hovertext": [
            "nflId:29851.0<br>displayName:Aaron Rodgers<br>Position:QB<br>Role:Pass",
            "nflId:41282.0<br>displayName:Davante Adams<br>Position:SRoWR<br>Role:Pass Route",
            "nflId:41296.0<br>displayName:Billy Turner<br>Position:RT<br>Role:Pass Block",
            "nflId:45635.0<br>displayName:Robert Tonyan<br>Position:LWR<br>Role:Pass Route",
            "nflId:46705.0<br>displayName:Allen Lazard<br>Position:SLWR<br>Role:Pass Route",
            "nflId:47827.0<br>displayName:Elgton Jenkins<br>Position:LT<br>Role:Pass Block",
            "nflId:52470.0<br>displayName:A.J. Dillon<br>Position:RWR<br>Role:Pass Route",
            "nflId:52600.0<br>displayName:Jon Runyan<br>Position:LG<br>Role:Pass Block",
            "nflId:53172.0<br>displayName:Dominique Dafney<br>Position:SRiWR<br>Role:Pass Route",
            "nflId:53491.0<br>displayName:Josh Myers<br>Position:C<br>Role:Pass Block",
            "nflId:53571.0<br>displayName:Royce Newman<br>Position:RG<br>Role:Pass Block"
           ],
           "marker": {
            "color": "#203731"
           },
           "mode": "markers",
           "name": "GB",
           "type": "scatter",
           "x": [
            98.68,
            87.65,
            99.12,
            86.67,
            87.95,
            97.75,
            85.96,
            96.71,
            86.69,
            97.39,
            97.91
           ],
           "y": [
            24.19,
            38.75,
            27.99,
            2.65,
            15.06,
            20.4,
            42.83,
            21.04,
            31.86,
            25.29,
            28.24
           ]
          },
          {
           "hoverinfo": "text",
           "hovertext": [
            "nflId:38544.0<br>displayName:Michael Brockers<br>Position:REO<br>Role:Pass Rush",
            "nflId:40000.0<br>displayName:Jamie Collins<br>Position:LLB<br>Role:Coverage",
            "nflId:40171.0<br>displayName:Nicholas Williams<br>Position:NT<br>Role:Pass Rush",
            "nflId:42444.0<br>displayName:Trey Flowers<br>Position:RLB<br>Role:Coverage",
            "nflId:43775.0<br>displayName:Romeo Okwara<br>Position:LEO<br>Role:Pass Rush",
            "nflId:44888.0<br>displayName:Alex Anzalone<br>Position:SCBR<br>Role:Coverage",
            "nflId:46151.0<br>displayName:Tracy Walker<br>Position:FSL<br>Role:Coverage",
            "nflId:47864.0<br>displayName:Will Harris<br>Position:FSR<br>Role:Coverage",
            "nflId:47929.0<br>displayName:Amani Oruwariye<br>Position:RCB<br>Role:Coverage",
            "nflId:53530.0<br>displayName:Ifeatu Melifonwu<br>Position:LCB<br>Role:Coverage",
            "nflId:53957.0<br>displayName:A.J. Parker<br>Position:SCBoL<br>Role:Coverage"
           ],
           "marker": {
            "color": "#0076B6"
           },
           "mode": "markers",
           "name": "DET",
           "type": "scatter",
           "x": [
            96.4,
            84.49,
            96.81,
            86.99,
            98.03,
            86.26,
            69.66,
            72.58,
            86.03,
            86.45,
            84.29
           ],
           "y": [
            20.13,
            29.59,
            26.15,
            18.76,
            29.49,
            14.37,
            38,
            15.43,
            3.55,
            44.08,
            37.26
           ]
          },
          {
           "hoverinfo": "none",
           "marker": {
            "color": "#CBB67C"
           },
           "mode": "markers",
           "name": "football",
           "type": "scatter",
           "x": [
            92.39
           ],
           "y": [
            34.31
           ]
          }
         ],
         "name": "29"
        }
       ],
       "layout": {
        "annotations": [
         {
          "align": "center",
          "bgcolor": "#ff7f0e",
          "bordercolor": "black",
          "borderpad": 4,
          "borderwidth": 2,
          "font": {
           "color": "black",
           "family": "Courier New, monospace",
           "size": 16
          },
          "opacity": 1,
          "showarrow": false,
          "text": "2",
          "x": 102,
          "y": 0
         },
         {
          "align": "center",
          "bgcolor": "#ff7f0e",
          "bordercolor": "black",
          "borderpad": 4,
          "borderwidth": 2,
          "font": {
           "color": "black",
           "family": "Courier New, monospace",
           "size": 16
          },
          "opacity": 1,
          "showarrow": false,
          "text": "2",
          "x": 102,
          "y": 53
         }
        ],
        "autosize": false,
        "height": 600,
        "plot_bgcolor": "#00B140",
        "sliders": [
         {
          "active": 0,
          "currentvalue": {
           "font": {
            "size": 20
           },
           "prefix": "Frame:",
           "visible": true,
           "xanchor": "right"
          },
          "len": 0.9,
          "pad": {
           "b": 10,
           "t": 50
          },
          "steps": [
           {
            "args": [
             [
              1
             ],
             {
              "frame": {
               "duration": 100,
               "redraw": false
              },
              "mode": "immediate",
              "transition": {
               "duration": 0
              }
             }
            ],
            "label": "1",
            "method": "animate"
           },
           {
            "args": [
             [
              2
             ],
             {
              "frame": {
               "duration": 100,
               "redraw": false
              },
              "mode": "immediate",
              "transition": {
               "duration": 0
              }
             }
            ],
            "label": "2",
            "method": "animate"
           },
           {
            "args": [
             [
              3
             ],
             {
              "frame": {
               "duration": 100,
               "redraw": false
              },
              "mode": "immediate",
              "transition": {
               "duration": 0
              }
             }
            ],
            "label": "3",
            "method": "animate"
           },
           {
            "args": [
             [
              4
             ],
             {
              "frame": {
               "duration": 100,
               "redraw": false
              },
              "mode": "immediate",
              "transition": {
               "duration": 0
              }
             }
            ],
            "label": "4",
            "method": "animate"
           },
           {
            "args": [
             [
              5
             ],
             {
              "frame": {
               "duration": 100,
               "redraw": false
              },
              "mode": "immediate",
              "transition": {
               "duration": 0
              }
             }
            ],
            "label": "5",
            "method": "animate"
           },
           {
            "args": [
             [
              6
             ],
             {
              "frame": {
               "duration": 100,
               "redraw": false
              },
              "mode": "immediate",
              "transition": {
               "duration": 0
              }
             }
            ],
            "label": "6",
            "method": "animate"
           },
           {
            "args": [
             [
              7
             ],
             {
              "frame": {
               "duration": 100,
               "redraw": false
              },
              "mode": "immediate",
              "transition": {
               "duration": 0
              }
             }
            ],
            "label": "7",
            "method": "animate"
           },
           {
            "args": [
             [
              8
             ],
             {
              "frame": {
               "duration": 100,
               "redraw": false
              },
              "mode": "immediate",
              "transition": {
               "duration": 0
              }
             }
            ],
            "label": "8",
            "method": "animate"
           },
           {
            "args": [
             [
              9
             ],
             {
              "frame": {
               "duration": 100,
               "redraw": false
              },
              "mode": "immediate",
              "transition": {
               "duration": 0
              }
             }
            ],
            "label": "9",
            "method": "animate"
           },
           {
            "args": [
             [
              10
             ],
             {
              "frame": {
               "duration": 100,
               "redraw": false
              },
              "mode": "immediate",
              "transition": {
               "duration": 0
              }
             }
            ],
            "label": "10",
            "method": "animate"
           },
           {
            "args": [
             [
              11
             ],
             {
              "frame": {
               "duration": 100,
               "redraw": false
              },
              "mode": "immediate",
              "transition": {
               "duration": 0
              }
             }
            ],
            "label": "11",
            "method": "animate"
           },
           {
            "args": [
             [
              12
             ],
             {
              "frame": {
               "duration": 100,
               "redraw": false
              },
              "mode": "immediate",
              "transition": {
               "duration": 0
              }
             }
            ],
            "label": "12",
            "method": "animate"
           },
           {
            "args": [
             [
              13
             ],
             {
              "frame": {
               "duration": 100,
               "redraw": false
              },
              "mode": "immediate",
              "transition": {
               "duration": 0
              }
             }
            ],
            "label": "13",
            "method": "animate"
           },
           {
            "args": [
             [
              14
             ],
             {
              "frame": {
               "duration": 100,
               "redraw": false
              },
              "mode": "immediate",
              "transition": {
               "duration": 0
              }
             }
            ],
            "label": "14",
            "method": "animate"
           },
           {
            "args": [
             [
              15
             ],
             {
              "frame": {
               "duration": 100,
               "redraw": false
              },
              "mode": "immediate",
              "transition": {
               "duration": 0
              }
             }
            ],
            "label": "15",
            "method": "animate"
           },
           {
            "args": [
             [
              16
             ],
             {
              "frame": {
               "duration": 100,
               "redraw": false
              },
              "mode": "immediate",
              "transition": {
               "duration": 0
              }
             }
            ],
            "label": "16",
            "method": "animate"
           },
           {
            "args": [
             [
              17
             ],
             {
              "frame": {
               "duration": 100,
               "redraw": false
              },
              "mode": "immediate",
              "transition": {
               "duration": 0
              }
             }
            ],
            "label": "17",
            "method": "animate"
           },
           {
            "args": [
             [
              18
             ],
             {
              "frame": {
               "duration": 100,
               "redraw": false
              },
              "mode": "immediate",
              "transition": {
               "duration": 0
              }
             }
            ],
            "label": "18",
            "method": "animate"
           },
           {
            "args": [
             [
              19
             ],
             {
              "frame": {
               "duration": 100,
               "redraw": false
              },
              "mode": "immediate",
              "transition": {
               "duration": 0
              }
             }
            ],
            "label": "19",
            "method": "animate"
           },
           {
            "args": [
             [
              20
             ],
             {
              "frame": {
               "duration": 100,
               "redraw": false
              },
              "mode": "immediate",
              "transition": {
               "duration": 0
              }
             }
            ],
            "label": "20",
            "method": "animate"
           },
           {
            "args": [
             [
              21
             ],
             {
              "frame": {
               "duration": 100,
               "redraw": false
              },
              "mode": "immediate",
              "transition": {
               "duration": 0
              }
             }
            ],
            "label": "21",
            "method": "animate"
           },
           {
            "args": [
             [
              22
             ],
             {
              "frame": {
               "duration": 100,
               "redraw": false
              },
              "mode": "immediate",
              "transition": {
               "duration": 0
              }
             }
            ],
            "label": "22",
            "method": "animate"
           },
           {
            "args": [
             [
              23
             ],
             {
              "frame": {
               "duration": 100,
               "redraw": false
              },
              "mode": "immediate",
              "transition": {
               "duration": 0
              }
             }
            ],
            "label": "23",
            "method": "animate"
           },
           {
            "args": [
             [
              24
             ],
             {
              "frame": {
               "duration": 100,
               "redraw": false
              },
              "mode": "immediate",
              "transition": {
               "duration": 0
              }
             }
            ],
            "label": "24",
            "method": "animate"
           },
           {
            "args": [
             [
              25
             ],
             {
              "frame": {
               "duration": 100,
               "redraw": false
              },
              "mode": "immediate",
              "transition": {
               "duration": 0
              }
             }
            ],
            "label": "25",
            "method": "animate"
           },
           {
            "args": [
             [
              26
             ],
             {
              "frame": {
               "duration": 100,
               "redraw": false
              },
              "mode": "immediate",
              "transition": {
               "duration": 0
              }
             }
            ],
            "label": "26",
            "method": "animate"
           },
           {
            "args": [
             [
              27
             ],
             {
              "frame": {
               "duration": 100,
               "redraw": false
              },
              "mode": "immediate",
              "transition": {
               "duration": 0
              }
             }
            ],
            "label": "27",
            "method": "animate"
           },
           {
            "args": [
             [
              28
             ],
             {
              "frame": {
               "duration": 100,
               "redraw": false
              },
              "mode": "immediate",
              "transition": {
               "duration": 0
              }
             }
            ],
            "label": "28",
            "method": "animate"
           },
           {
            "args": [
             [
              29
             ],
             {
              "frame": {
               "duration": 100,
               "redraw": false
              },
              "mode": "immediate",
              "transition": {
               "duration": 0
              }
             }
            ],
            "label": "29",
            "method": "animate"
           }
          ],
          "transition": {
           "duration": 300,
           "easing": "cubic-in-out"
          },
          "x": 0.1,
          "xanchor": "left",
          "y": 0,
          "yanchor": "top"
         }
        ],
        "template": {
         "data": {
          "bar": [
           {
            "error_x": {
             "color": "#2a3f5f"
            },
            "error_y": {
             "color": "#2a3f5f"
            },
            "marker": {
             "line": {
              "color": "#E5ECF6",
              "width": 0.5
             },
             "pattern": {
              "fillmode": "overlay",
              "size": 10,
              "solidity": 0.2
             }
            },
            "type": "bar"
           }
          ],
          "barpolar": [
           {
            "marker": {
             "line": {
              "color": "#E5ECF6",
              "width": 0.5
             },
             "pattern": {
              "fillmode": "overlay",
              "size": 10,
              "solidity": 0.2
             }
            },
            "type": "barpolar"
           }
          ],
          "carpet": [
           {
            "aaxis": {
             "endlinecolor": "#2a3f5f",
             "gridcolor": "white",
             "linecolor": "white",
             "minorgridcolor": "white",
             "startlinecolor": "#2a3f5f"
            },
            "baxis": {
             "endlinecolor": "#2a3f5f",
             "gridcolor": "white",
             "linecolor": "white",
             "minorgridcolor": "white",
             "startlinecolor": "#2a3f5f"
            },
            "type": "carpet"
           }
          ],
          "choropleth": [
           {
            "colorbar": {
             "outlinewidth": 0,
             "ticks": ""
            },
            "type": "choropleth"
           }
          ],
          "contour": [
           {
            "colorbar": {
             "outlinewidth": 0,
             "ticks": ""
            },
            "colorscale": [
             [
              0,
              "#0d0887"
             ],
             [
              0.1111111111111111,
              "#46039f"
             ],
             [
              0.2222222222222222,
              "#7201a8"
             ],
             [
              0.3333333333333333,
              "#9c179e"
             ],
             [
              0.4444444444444444,
              "#bd3786"
             ],
             [
              0.5555555555555556,
              "#d8576b"
             ],
             [
              0.6666666666666666,
              "#ed7953"
             ],
             [
              0.7777777777777778,
              "#fb9f3a"
             ],
             [
              0.8888888888888888,
              "#fdca26"
             ],
             [
              1,
              "#f0f921"
             ]
            ],
            "type": "contour"
           }
          ],
          "contourcarpet": [
           {
            "colorbar": {
             "outlinewidth": 0,
             "ticks": ""
            },
            "type": "contourcarpet"
           }
          ],
          "heatmap": [
           {
            "colorbar": {
             "outlinewidth": 0,
             "ticks": ""
            },
            "colorscale": [
             [
              0,
              "#0d0887"
             ],
             [
              0.1111111111111111,
              "#46039f"
             ],
             [
              0.2222222222222222,
              "#7201a8"
             ],
             [
              0.3333333333333333,
              "#9c179e"
             ],
             [
              0.4444444444444444,
              "#bd3786"
             ],
             [
              0.5555555555555556,
              "#d8576b"
             ],
             [
              0.6666666666666666,
              "#ed7953"
             ],
             [
              0.7777777777777778,
              "#fb9f3a"
             ],
             [
              0.8888888888888888,
              "#fdca26"
             ],
             [
              1,
              "#f0f921"
             ]
            ],
            "type": "heatmap"
           }
          ],
          "heatmapgl": [
           {
            "colorbar": {
             "outlinewidth": 0,
             "ticks": ""
            },
            "colorscale": [
             [
              0,
              "#0d0887"
             ],
             [
              0.1111111111111111,
              "#46039f"
             ],
             [
              0.2222222222222222,
              "#7201a8"
             ],
             [
              0.3333333333333333,
              "#9c179e"
             ],
             [
              0.4444444444444444,
              "#bd3786"
             ],
             [
              0.5555555555555556,
              "#d8576b"
             ],
             [
              0.6666666666666666,
              "#ed7953"
             ],
             [
              0.7777777777777778,
              "#fb9f3a"
             ],
             [
              0.8888888888888888,
              "#fdca26"
             ],
             [
              1,
              "#f0f921"
             ]
            ],
            "type": "heatmapgl"
           }
          ],
          "histogram": [
           {
            "marker": {
             "pattern": {
              "fillmode": "overlay",
              "size": 10,
              "solidity": 0.2
             }
            },
            "type": "histogram"
           }
          ],
          "histogram2d": [
           {
            "colorbar": {
             "outlinewidth": 0,
             "ticks": ""
            },
            "colorscale": [
             [
              0,
              "#0d0887"
             ],
             [
              0.1111111111111111,
              "#46039f"
             ],
             [
              0.2222222222222222,
              "#7201a8"
             ],
             [
              0.3333333333333333,
              "#9c179e"
             ],
             [
              0.4444444444444444,
              "#bd3786"
             ],
             [
              0.5555555555555556,
              "#d8576b"
             ],
             [
              0.6666666666666666,
              "#ed7953"
             ],
             [
              0.7777777777777778,
              "#fb9f3a"
             ],
             [
              0.8888888888888888,
              "#fdca26"
             ],
             [
              1,
              "#f0f921"
             ]
            ],
            "type": "histogram2d"
           }
          ],
          "histogram2dcontour": [
           {
            "colorbar": {
             "outlinewidth": 0,
             "ticks": ""
            },
            "colorscale": [
             [
              0,
              "#0d0887"
             ],
             [
              0.1111111111111111,
              "#46039f"
             ],
             [
              0.2222222222222222,
              "#7201a8"
             ],
             [
              0.3333333333333333,
              "#9c179e"
             ],
             [
              0.4444444444444444,
              "#bd3786"
             ],
             [
              0.5555555555555556,
              "#d8576b"
             ],
             [
              0.6666666666666666,
              "#ed7953"
             ],
             [
              0.7777777777777778,
              "#fb9f3a"
             ],
             [
              0.8888888888888888,
              "#fdca26"
             ],
             [
              1,
              "#f0f921"
             ]
            ],
            "type": "histogram2dcontour"
           }
          ],
          "mesh3d": [
           {
            "colorbar": {
             "outlinewidth": 0,
             "ticks": ""
            },
            "type": "mesh3d"
           }
          ],
          "parcoords": [
           {
            "line": {
             "colorbar": {
              "outlinewidth": 0,
              "ticks": ""
             }
            },
            "type": "parcoords"
           }
          ],
          "pie": [
           {
            "automargin": true,
            "type": "pie"
           }
          ],
          "scatter": [
           {
            "fillpattern": {
             "fillmode": "overlay",
             "size": 10,
             "solidity": 0.2
            },
            "type": "scatter"
           }
          ],
          "scatter3d": [
           {
            "line": {
             "colorbar": {
              "outlinewidth": 0,
              "ticks": ""
             }
            },
            "marker": {
             "colorbar": {
              "outlinewidth": 0,
              "ticks": ""
             }
            },
            "type": "scatter3d"
           }
          ],
          "scattercarpet": [
           {
            "marker": {
             "colorbar": {
              "outlinewidth": 0,
              "ticks": ""
             }
            },
            "type": "scattercarpet"
           }
          ],
          "scattergeo": [
           {
            "marker": {
             "colorbar": {
              "outlinewidth": 0,
              "ticks": ""
             }
            },
            "type": "scattergeo"
           }
          ],
          "scattergl": [
           {
            "marker": {
             "colorbar": {
              "outlinewidth": 0,
              "ticks": ""
             }
            },
            "type": "scattergl"
           }
          ],
          "scattermapbox": [
           {
            "marker": {
             "colorbar": {
              "outlinewidth": 0,
              "ticks": ""
             }
            },
            "type": "scattermapbox"
           }
          ],
          "scatterpolar": [
           {
            "marker": {
             "colorbar": {
              "outlinewidth": 0,
              "ticks": ""
             }
            },
            "type": "scatterpolar"
           }
          ],
          "scatterpolargl": [
           {
            "marker": {
             "colorbar": {
              "outlinewidth": 0,
              "ticks": ""
             }
            },
            "type": "scatterpolargl"
           }
          ],
          "scatterternary": [
           {
            "marker": {
             "colorbar": {
              "outlinewidth": 0,
              "ticks": ""
             }
            },
            "type": "scatterternary"
           }
          ],
          "surface": [
           {
            "colorbar": {
             "outlinewidth": 0,
             "ticks": ""
            },
            "colorscale": [
             [
              0,
              "#0d0887"
             ],
             [
              0.1111111111111111,
              "#46039f"
             ],
             [
              0.2222222222222222,
              "#7201a8"
             ],
             [
              0.3333333333333333,
              "#9c179e"
             ],
             [
              0.4444444444444444,
              "#bd3786"
             ],
             [
              0.5555555555555556,
              "#d8576b"
             ],
             [
              0.6666666666666666,
              "#ed7953"
             ],
             [
              0.7777777777777778,
              "#fb9f3a"
             ],
             [
              0.8888888888888888,
              "#fdca26"
             ],
             [
              1,
              "#f0f921"
             ]
            ],
            "type": "surface"
           }
          ],
          "table": [
           {
            "cells": {
             "fill": {
              "color": "#EBF0F8"
             },
             "line": {
              "color": "white"
             }
            },
            "header": {
             "fill": {
              "color": "#C8D4E3"
             },
             "line": {
              "color": "white"
             }
            },
            "type": "table"
           }
          ]
         },
         "layout": {
          "annotationdefaults": {
           "arrowcolor": "#2a3f5f",
           "arrowhead": 0,
           "arrowwidth": 1
          },
          "autotypenumbers": "strict",
          "coloraxis": {
           "colorbar": {
            "outlinewidth": 0,
            "ticks": ""
           }
          },
          "colorscale": {
           "diverging": [
            [
             0,
             "#8e0152"
            ],
            [
             0.1,
             "#c51b7d"
            ],
            [
             0.2,
             "#de77ae"
            ],
            [
             0.3,
             "#f1b6da"
            ],
            [
             0.4,
             "#fde0ef"
            ],
            [
             0.5,
             "#f7f7f7"
            ],
            [
             0.6,
             "#e6f5d0"
            ],
            [
             0.7,
             "#b8e186"
            ],
            [
             0.8,
             "#7fbc41"
            ],
            [
             0.9,
             "#4d9221"
            ],
            [
             1,
             "#276419"
            ]
           ],
           "sequential": [
            [
             0,
             "#0d0887"
            ],
            [
             0.1111111111111111,
             "#46039f"
            ],
            [
             0.2222222222222222,
             "#7201a8"
            ],
            [
             0.3333333333333333,
             "#9c179e"
            ],
            [
             0.4444444444444444,
             "#bd3786"
            ],
            [
             0.5555555555555556,
             "#d8576b"
            ],
            [
             0.6666666666666666,
             "#ed7953"
            ],
            [
             0.7777777777777778,
             "#fb9f3a"
            ],
            [
             0.8888888888888888,
             "#fdca26"
            ],
            [
             1,
             "#f0f921"
            ]
           ],
           "sequentialminus": [
            [
             0,
             "#0d0887"
            ],
            [
             0.1111111111111111,
             "#46039f"
            ],
            [
             0.2222222222222222,
             "#7201a8"
            ],
            [
             0.3333333333333333,
             "#9c179e"
            ],
            [
             0.4444444444444444,
             "#bd3786"
            ],
            [
             0.5555555555555556,
             "#d8576b"
            ],
            [
             0.6666666666666666,
             "#ed7953"
            ],
            [
             0.7777777777777778,
             "#fb9f3a"
            ],
            [
             0.8888888888888888,
             "#fdca26"
            ],
            [
             1,
             "#f0f921"
            ]
           ]
          },
          "colorway": [
           "#636efa",
           "#EF553B",
           "#00cc96",
           "#ab63fa",
           "#FFA15A",
           "#19d3f3",
           "#FF6692",
           "#B6E880",
           "#FF97FF",
           "#FECB52"
          ],
          "font": {
           "color": "#2a3f5f"
          },
          "geo": {
           "bgcolor": "white",
           "lakecolor": "white",
           "landcolor": "#E5ECF6",
           "showlakes": true,
           "showland": true,
           "subunitcolor": "white"
          },
          "hoverlabel": {
           "align": "left"
          },
          "hovermode": "closest",
          "mapbox": {
           "style": "light"
          },
          "paper_bgcolor": "white",
          "plot_bgcolor": "#E5ECF6",
          "polar": {
           "angularaxis": {
            "gridcolor": "white",
            "linecolor": "white",
            "ticks": ""
           },
           "bgcolor": "#E5ECF6",
           "radialaxis": {
            "gridcolor": "white",
            "linecolor": "white",
            "ticks": ""
           }
          },
          "scene": {
           "xaxis": {
            "backgroundcolor": "#E5ECF6",
            "gridcolor": "white",
            "gridwidth": 2,
            "linecolor": "white",
            "showbackground": true,
            "ticks": "",
            "zerolinecolor": "white"
           },
           "yaxis": {
            "backgroundcolor": "#E5ECF6",
            "gridcolor": "white",
            "gridwidth": 2,
            "linecolor": "white",
            "showbackground": true,
            "ticks": "",
            "zerolinecolor": "white"
           },
           "zaxis": {
            "backgroundcolor": "#E5ECF6",
            "gridcolor": "white",
            "gridwidth": 2,
            "linecolor": "white",
            "showbackground": true,
            "ticks": "",
            "zerolinecolor": "white"
           }
          },
          "shapedefaults": {
           "line": {
            "color": "#2a3f5f"
           }
          },
          "ternary": {
           "aaxis": {
            "gridcolor": "white",
            "linecolor": "white",
            "ticks": ""
           },
           "baxis": {
            "gridcolor": "white",
            "linecolor": "white",
            "ticks": ""
           },
           "bgcolor": "#E5ECF6",
           "caxis": {
            "gridcolor": "white",
            "linecolor": "white",
            "ticks": ""
           }
          },
          "title": {
           "x": 0.05
          },
          "xaxis": {
           "automargin": true,
           "gridcolor": "white",
           "linecolor": "white",
           "ticks": "",
           "title": {
            "standoff": 15
           },
           "zerolinecolor": "white",
           "zerolinewidth": 2
          },
          "yaxis": {
           "automargin": true,
           "gridcolor": "white",
           "linecolor": "white",
           "ticks": "",
           "title": {
            "standoff": 15
           },
           "zerolinecolor": "white",
           "zerolinewidth": 2
          }
         }
        },
        "title": {
         "text": "(13:55) (Shotgun) Aa.Rodgers pass short right to D.Adams to GB 23 for 5 yards (I.Melifonwu).<br><br><br><br><br><br><br><br><br><br><br><br><br><br><br><br><br><br><br><br>Game Clock: 13:55<br>2Quarter"
        },
        "updatemenus": [
         {
          "buttons": [
           {
            "args": [
             null,
             {
              "frame": {
               "duration": 100,
               "redraw": false
              },
              "fromcurrent": true,
              "transition": {
               "duration": 0
              }
             }
            ],
            "label": "Play",
            "method": "animate"
           },
           {
            "args": [
             [
              null
             ],
             {
              "frame": {
               "duration": 0,
               "redraw": false
              },
              "mode": "immediate",
              "transition": {
               "duration": 0
              }
             }
            ],
            "label": "Pause",
            "method": "animate"
           }
          ],
          "direction": "left",
          "pad": {
           "r": 10,
           "t": 87
          },
          "showactive": false,
          "type": "buttons",
          "x": 0.1,
          "xanchor": "right",
          "y": 0,
          "yanchor": "top"
         }
        ],
        "width": 1200,
        "xaxis": {
         "autorange": false,
         "range": [
          0,
          120
         ],
         "showticklabels": false,
         "tickmode": "array",
         "tickvals": [
          10,
          15,
          20,
          25,
          30,
          35,
          40,
          45,
          50,
          55,
          60,
          65,
          70,
          75,
          80,
          85,
          90,
          95,
          100,
          105,
          110
         ]
        },
        "yaxis": {
         "autorange": false,
         "range": [
          0,
          53.3
         ],
         "showgrid": false,
         "showticklabels": false
        }
       }
      },
      "text/html": [
       "<div>                            <div id=\"fcd53e32-8cd7-43a7-991d-b50773b4d4fb\" class=\"plotly-graph-div\" style=\"height:600px; width:1200px;\"></div>            <script type=\"text/javascript\">                require([\"plotly\"], function(Plotly) {                    window.PLOTLYENV=window.PLOTLYENV || {};                                    if (document.getElementById(\"fcd53e32-8cd7-43a7-991d-b50773b4d4fb\")) {                    Plotly.newPlot(                        \"fcd53e32-8cd7-43a7-991d-b50773b4d4fb\",                        [{\"hoverinfo\":\"none\",\"mode\":\"text\",\"showlegend\":false,\"text\":[\"10\",\"20\",\"30\",\"40\",\"50\",\"40\",\"30\",\"20\",\"10\"],\"textfont\":{\"color\":\"#ffffff\",\"family\":\"Courier New, monospace\",\"size\":30},\"x\":[20,30,40,50,60,70,80,90,100],\"y\":[5,5,5,5,5,5,5,5,5],\"type\":\"scatter\"},{\"hoverinfo\":\"none\",\"mode\":\"text\",\"showlegend\":false,\"text\":[\"10\",\"20\",\"30\",\"40\",\"50\",\"40\",\"30\",\"20\",\"10\"],\"textfont\":{\"color\":\"#ffffff\",\"family\":\"Courier New, monospace\",\"size\":30},\"x\":[20,30,40,50,60,70,80,90,100],\"y\":[48.5,48.5,48.5,48.5,48.5,48.5,48.5,48.5,48.5],\"type\":\"scatter\"},{\"hoverinfo\":\"none\",\"line\":{\"color\":\"blue\",\"dash\":\"dash\"},\"showlegend\":false,\"x\":[92.0,92.0],\"y\":[0,53.5],\"type\":\"scatter\"},{\"hoverinfo\":\"none\",\"line\":{\"color\":\"yellow\",\"dash\":\"dash\"},\"showlegend\":false,\"x\":[102.0,102.0],\"y\":[0,53.5],\"type\":\"scatter\"},{\"hoverinfo\":\"text\",\"hovertext\":[\"nflId:29851.0<br>displayName:Aaron Rodgers<br>Position:QB<br>Role:Pass\",\"nflId:41282.0<br>displayName:Davante Adams<br>Position:SRoWR<br>Role:Pass Route\",\"nflId:41296.0<br>displayName:Billy Turner<br>Position:RT<br>Role:Pass Block\",\"nflId:45635.0<br>displayName:Robert Tonyan<br>Position:LWR<br>Role:Pass Route\",\"nflId:46705.0<br>displayName:Allen Lazard<br>Position:SLWR<br>Role:Pass Route\",\"nflId:47827.0<br>displayName:Elgton Jenkins<br>Position:LT<br>Role:Pass Block\",\"nflId:52470.0<br>displayName:A.J. Dillon<br>Position:RWR<br>Role:Pass Route\",\"nflId:52600.0<br>displayName:Jon Runyan<br>Position:LG<br>Role:Pass Block\",\"nflId:53172.0<br>displayName:Dominique Dafney<br>Position:SRiWR<br>Role:Pass Route\",\"nflId:53491.0<br>displayName:Josh Myers<br>Position:C<br>Role:Pass Block\",\"nflId:53571.0<br>displayName:Royce Newman<br>Position:RG<br>Role:Pass Block\"],\"marker\":{\"color\":\"#203731\"},\"mode\":\"markers\",\"name\":\"GB\",\"x\":[96.86,93.57,94.07,94.11,92.94,93.86,93.72,93.32,92.91,92.89,93.61],\"y\":[23.64,35.81,26.95,7.82,14.98,20.24,43.5,21.73,31.07,23.75,25.43],\"type\":\"scatter\"},{\"hoverinfo\":\"text\",\"hovertext\":[\"nflId:38544.0<br>displayName:Michael Brockers<br>Position:REO<br>Role:Pass Rush\",\"nflId:40000.0<br>displayName:Jamie Collins<br>Position:LLB<br>Role:Coverage\",\"nflId:40171.0<br>displayName:Nicholas Williams<br>Position:NT<br>Role:Pass Rush\",\"nflId:42444.0<br>displayName:Trey Flowers<br>Position:RLB<br>Role:Coverage\",\"nflId:43775.0<br>displayName:Romeo Okwara<br>Position:LEO<br>Role:Pass Rush\",\"nflId:44888.0<br>displayName:Alex Anzalone<br>Position:SCBR<br>Role:Coverage\",\"nflId:46151.0<br>displayName:Tracy Walker<br>Position:FSL<br>Role:Coverage\",\"nflId:47864.0<br>displayName:Will Harris<br>Position:FSR<br>Role:Coverage\",\"nflId:47929.0<br>displayName:Amani Oruwariye<br>Position:RCB<br>Role:Coverage\",\"nflId:53530.0<br>displayName:Ifeatu Melifonwu<br>Position:LCB<br>Role:Coverage\",\"nflId:53957.0<br>displayName:A.J. Parker<br>Position:SCBoL<br>Role:Coverage\"],\"marker\":{\"color\":\"#0076B6\"},\"mode\":\"markers\",\"name\":\"DET\",\"x\":[91.36,87.05,91.22,88.87,92.24,87.01,75.5,75.2,91.0,89.67,89.18],\"y\":[18.93,28.16,23.61,18.36,29.16,14.58,33.8,14.99,7.5,44.08,35.76],\"type\":\"scatter\"},{\"hoverinfo\":\"none\",\"marker\":{\"color\":\"#CBB67C\"},\"mode\":\"markers\",\"name\":\"football\",\"x\":[92.2],\"y\":[23.77],\"type\":\"scatter\"}],                        {\"autosize\":false,\"height\":600,\"plot_bgcolor\":\"#00B140\",\"sliders\":[{\"active\":0,\"currentvalue\":{\"font\":{\"size\":20},\"prefix\":\"Frame:\",\"visible\":true,\"xanchor\":\"right\"},\"len\":0.9,\"pad\":{\"b\":10,\"t\":50},\"steps\":[{\"args\":[[1],{\"frame\":{\"duration\":100,\"redraw\":false},\"mode\":\"immediate\",\"transition\":{\"duration\":0}}],\"label\":\"1\",\"method\":\"animate\"},{\"args\":[[2],{\"frame\":{\"duration\":100,\"redraw\":false},\"mode\":\"immediate\",\"transition\":{\"duration\":0}}],\"label\":\"2\",\"method\":\"animate\"},{\"args\":[[3],{\"frame\":{\"duration\":100,\"redraw\":false},\"mode\":\"immediate\",\"transition\":{\"duration\":0}}],\"label\":\"3\",\"method\":\"animate\"},{\"args\":[[4],{\"frame\":{\"duration\":100,\"redraw\":false},\"mode\":\"immediate\",\"transition\":{\"duration\":0}}],\"label\":\"4\",\"method\":\"animate\"},{\"args\":[[5],{\"frame\":{\"duration\":100,\"redraw\":false},\"mode\":\"immediate\",\"transition\":{\"duration\":0}}],\"label\":\"5\",\"method\":\"animate\"},{\"args\":[[6],{\"frame\":{\"duration\":100,\"redraw\":false},\"mode\":\"immediate\",\"transition\":{\"duration\":0}}],\"label\":\"6\",\"method\":\"animate\"},{\"args\":[[7],{\"frame\":{\"duration\":100,\"redraw\":false},\"mode\":\"immediate\",\"transition\":{\"duration\":0}}],\"label\":\"7\",\"method\":\"animate\"},{\"args\":[[8],{\"frame\":{\"duration\":100,\"redraw\":false},\"mode\":\"immediate\",\"transition\":{\"duration\":0}}],\"label\":\"8\",\"method\":\"animate\"},{\"args\":[[9],{\"frame\":{\"duration\":100,\"redraw\":false},\"mode\":\"immediate\",\"transition\":{\"duration\":0}}],\"label\":\"9\",\"method\":\"animate\"},{\"args\":[[10],{\"frame\":{\"duration\":100,\"redraw\":false},\"mode\":\"immediate\",\"transition\":{\"duration\":0}}],\"label\":\"10\",\"method\":\"animate\"},{\"args\":[[11],{\"frame\":{\"duration\":100,\"redraw\":false},\"mode\":\"immediate\",\"transition\":{\"duration\":0}}],\"label\":\"11\",\"method\":\"animate\"},{\"args\":[[12],{\"frame\":{\"duration\":100,\"redraw\":false},\"mode\":\"immediate\",\"transition\":{\"duration\":0}}],\"label\":\"12\",\"method\":\"animate\"},{\"args\":[[13],{\"frame\":{\"duration\":100,\"redraw\":false},\"mode\":\"immediate\",\"transition\":{\"duration\":0}}],\"label\":\"13\",\"method\":\"animate\"},{\"args\":[[14],{\"frame\":{\"duration\":100,\"redraw\":false},\"mode\":\"immediate\",\"transition\":{\"duration\":0}}],\"label\":\"14\",\"method\":\"animate\"},{\"args\":[[15],{\"frame\":{\"duration\":100,\"redraw\":false},\"mode\":\"immediate\",\"transition\":{\"duration\":0}}],\"label\":\"15\",\"method\":\"animate\"},{\"args\":[[16],{\"frame\":{\"duration\":100,\"redraw\":false},\"mode\":\"immediate\",\"transition\":{\"duration\":0}}],\"label\":\"16\",\"method\":\"animate\"},{\"args\":[[17],{\"frame\":{\"duration\":100,\"redraw\":false},\"mode\":\"immediate\",\"transition\":{\"duration\":0}}],\"label\":\"17\",\"method\":\"animate\"},{\"args\":[[18],{\"frame\":{\"duration\":100,\"redraw\":false},\"mode\":\"immediate\",\"transition\":{\"duration\":0}}],\"label\":\"18\",\"method\":\"animate\"},{\"args\":[[19],{\"frame\":{\"duration\":100,\"redraw\":false},\"mode\":\"immediate\",\"transition\":{\"duration\":0}}],\"label\":\"19\",\"method\":\"animate\"},{\"args\":[[20],{\"frame\":{\"duration\":100,\"redraw\":false},\"mode\":\"immediate\",\"transition\":{\"duration\":0}}],\"label\":\"20\",\"method\":\"animate\"},{\"args\":[[21],{\"frame\":{\"duration\":100,\"redraw\":false},\"mode\":\"immediate\",\"transition\":{\"duration\":0}}],\"label\":\"21\",\"method\":\"animate\"},{\"args\":[[22],{\"frame\":{\"duration\":100,\"redraw\":false},\"mode\":\"immediate\",\"transition\":{\"duration\":0}}],\"label\":\"22\",\"method\":\"animate\"},{\"args\":[[23],{\"frame\":{\"duration\":100,\"redraw\":false},\"mode\":\"immediate\",\"transition\":{\"duration\":0}}],\"label\":\"23\",\"method\":\"animate\"},{\"args\":[[24],{\"frame\":{\"duration\":100,\"redraw\":false},\"mode\":\"immediate\",\"transition\":{\"duration\":0}}],\"label\":\"24\",\"method\":\"animate\"},{\"args\":[[25],{\"frame\":{\"duration\":100,\"redraw\":false},\"mode\":\"immediate\",\"transition\":{\"duration\":0}}],\"label\":\"25\",\"method\":\"animate\"},{\"args\":[[26],{\"frame\":{\"duration\":100,\"redraw\":false},\"mode\":\"immediate\",\"transition\":{\"duration\":0}}],\"label\":\"26\",\"method\":\"animate\"},{\"args\":[[27],{\"frame\":{\"duration\":100,\"redraw\":false},\"mode\":\"immediate\",\"transition\":{\"duration\":0}}],\"label\":\"27\",\"method\":\"animate\"},{\"args\":[[28],{\"frame\":{\"duration\":100,\"redraw\":false},\"mode\":\"immediate\",\"transition\":{\"duration\":0}}],\"label\":\"28\",\"method\":\"animate\"},{\"args\":[[29],{\"frame\":{\"duration\":100,\"redraw\":false},\"mode\":\"immediate\",\"transition\":{\"duration\":0}}],\"label\":\"29\",\"method\":\"animate\"}],\"transition\":{\"duration\":300,\"easing\":\"cubic-in-out\"},\"x\":0.1,\"xanchor\":\"left\",\"y\":0,\"yanchor\":\"top\"}],\"title\":{\"text\":\"(13:55) (Shotgun) Aa.Rodgers pass short right to D.Adams to GB 23 for 5 yards (I.Melifonwu).<br><br><br><br><br><br><br><br><br><br><br><br><br><br><br><br><br><br><br><br>Game Clock: 13:55<br>2Quarter\"},\"updatemenus\":[{\"buttons\":[{\"args\":[null,{\"frame\":{\"duration\":100,\"redraw\":false},\"fromcurrent\":true,\"transition\":{\"duration\":0}}],\"label\":\"Play\",\"method\":\"animate\"},{\"args\":[[null],{\"frame\":{\"duration\":0,\"redraw\":false},\"mode\":\"immediate\",\"transition\":{\"duration\":0}}],\"label\":\"Pause\",\"method\":\"animate\"}],\"direction\":\"left\",\"pad\":{\"r\":10,\"t\":87},\"showactive\":false,\"type\":\"buttons\",\"x\":0.1,\"xanchor\":\"right\",\"y\":0,\"yanchor\":\"top\"}],\"width\":1200,\"xaxis\":{\"autorange\":false,\"range\":[0,120],\"showticklabels\":false,\"tickmode\":\"array\",\"tickvals\":[10,15,20,25,30,35,40,45,50,55,60,65,70,75,80,85,90,95,100,105,110]},\"yaxis\":{\"autorange\":false,\"range\":[0,53.3],\"showgrid\":false,\"showticklabels\":false},\"template\":{\"data\":{\"histogram2dcontour\":[{\"type\":\"histogram2dcontour\",\"colorbar\":{\"outlinewidth\":0,\"ticks\":\"\"},\"colorscale\":[[0.0,\"#0d0887\"],[0.1111111111111111,\"#46039f\"],[0.2222222222222222,\"#7201a8\"],[0.3333333333333333,\"#9c179e\"],[0.4444444444444444,\"#bd3786\"],[0.5555555555555556,\"#d8576b\"],[0.6666666666666666,\"#ed7953\"],[0.7777777777777778,\"#fb9f3a\"],[0.8888888888888888,\"#fdca26\"],[1.0,\"#f0f921\"]]}],\"choropleth\":[{\"type\":\"choropleth\",\"colorbar\":{\"outlinewidth\":0,\"ticks\":\"\"}}],\"histogram2d\":[{\"type\":\"histogram2d\",\"colorbar\":{\"outlinewidth\":0,\"ticks\":\"\"},\"colorscale\":[[0.0,\"#0d0887\"],[0.1111111111111111,\"#46039f\"],[0.2222222222222222,\"#7201a8\"],[0.3333333333333333,\"#9c179e\"],[0.4444444444444444,\"#bd3786\"],[0.5555555555555556,\"#d8576b\"],[0.6666666666666666,\"#ed7953\"],[0.7777777777777778,\"#fb9f3a\"],[0.8888888888888888,\"#fdca26\"],[1.0,\"#f0f921\"]]}],\"heatmap\":[{\"type\":\"heatmap\",\"colorbar\":{\"outlinewidth\":0,\"ticks\":\"\"},\"colorscale\":[[0.0,\"#0d0887\"],[0.1111111111111111,\"#46039f\"],[0.2222222222222222,\"#7201a8\"],[0.3333333333333333,\"#9c179e\"],[0.4444444444444444,\"#bd3786\"],[0.5555555555555556,\"#d8576b\"],[0.6666666666666666,\"#ed7953\"],[0.7777777777777778,\"#fb9f3a\"],[0.8888888888888888,\"#fdca26\"],[1.0,\"#f0f921\"]]}],\"heatmapgl\":[{\"type\":\"heatmapgl\",\"colorbar\":{\"outlinewidth\":0,\"ticks\":\"\"},\"colorscale\":[[0.0,\"#0d0887\"],[0.1111111111111111,\"#46039f\"],[0.2222222222222222,\"#7201a8\"],[0.3333333333333333,\"#9c179e\"],[0.4444444444444444,\"#bd3786\"],[0.5555555555555556,\"#d8576b\"],[0.6666666666666666,\"#ed7953\"],[0.7777777777777778,\"#fb9f3a\"],[0.8888888888888888,\"#fdca26\"],[1.0,\"#f0f921\"]]}],\"contourcarpet\":[{\"type\":\"contourcarpet\",\"colorbar\":{\"outlinewidth\":0,\"ticks\":\"\"}}],\"contour\":[{\"type\":\"contour\",\"colorbar\":{\"outlinewidth\":0,\"ticks\":\"\"},\"colorscale\":[[0.0,\"#0d0887\"],[0.1111111111111111,\"#46039f\"],[0.2222222222222222,\"#7201a8\"],[0.3333333333333333,\"#9c179e\"],[0.4444444444444444,\"#bd3786\"],[0.5555555555555556,\"#d8576b\"],[0.6666666666666666,\"#ed7953\"],[0.7777777777777778,\"#fb9f3a\"],[0.8888888888888888,\"#fdca26\"],[1.0,\"#f0f921\"]]}],\"surface\":[{\"type\":\"surface\",\"colorbar\":{\"outlinewidth\":0,\"ticks\":\"\"},\"colorscale\":[[0.0,\"#0d0887\"],[0.1111111111111111,\"#46039f\"],[0.2222222222222222,\"#7201a8\"],[0.3333333333333333,\"#9c179e\"],[0.4444444444444444,\"#bd3786\"],[0.5555555555555556,\"#d8576b\"],[0.6666666666666666,\"#ed7953\"],[0.7777777777777778,\"#fb9f3a\"],[0.8888888888888888,\"#fdca26\"],[1.0,\"#f0f921\"]]}],\"mesh3d\":[{\"type\":\"mesh3d\",\"colorbar\":{\"outlinewidth\":0,\"ticks\":\"\"}}],\"scatter\":[{\"fillpattern\":{\"fillmode\":\"overlay\",\"size\":10,\"solidity\":0.2},\"type\":\"scatter\"}],\"parcoords\":[{\"type\":\"parcoords\",\"line\":{\"colorbar\":{\"outlinewidth\":0,\"ticks\":\"\"}}}],\"scatterpolargl\":[{\"type\":\"scatterpolargl\",\"marker\":{\"colorbar\":{\"outlinewidth\":0,\"ticks\":\"\"}}}],\"bar\":[{\"error_x\":{\"color\":\"#2a3f5f\"},\"error_y\":{\"color\":\"#2a3f5f\"},\"marker\":{\"line\":{\"color\":\"#E5ECF6\",\"width\":0.5},\"pattern\":{\"fillmode\":\"overlay\",\"size\":10,\"solidity\":0.2}},\"type\":\"bar\"}],\"scattergeo\":[{\"type\":\"scattergeo\",\"marker\":{\"colorbar\":{\"outlinewidth\":0,\"ticks\":\"\"}}}],\"scatterpolar\":[{\"type\":\"scatterpolar\",\"marker\":{\"colorbar\":{\"outlinewidth\":0,\"ticks\":\"\"}}}],\"histogram\":[{\"marker\":{\"pattern\":{\"fillmode\":\"overlay\",\"size\":10,\"solidity\":0.2}},\"type\":\"histogram\"}],\"scattergl\":[{\"type\":\"scattergl\",\"marker\":{\"colorbar\":{\"outlinewidth\":0,\"ticks\":\"\"}}}],\"scatter3d\":[{\"type\":\"scatter3d\",\"line\":{\"colorbar\":{\"outlinewidth\":0,\"ticks\":\"\"}},\"marker\":{\"colorbar\":{\"outlinewidth\":0,\"ticks\":\"\"}}}],\"scattermapbox\":[{\"type\":\"scattermapbox\",\"marker\":{\"colorbar\":{\"outlinewidth\":0,\"ticks\":\"\"}}}],\"scatterternary\":[{\"type\":\"scatterternary\",\"marker\":{\"colorbar\":{\"outlinewidth\":0,\"ticks\":\"\"}}}],\"scattercarpet\":[{\"type\":\"scattercarpet\",\"marker\":{\"colorbar\":{\"outlinewidth\":0,\"ticks\":\"\"}}}],\"carpet\":[{\"aaxis\":{\"endlinecolor\":\"#2a3f5f\",\"gridcolor\":\"white\",\"linecolor\":\"white\",\"minorgridcolor\":\"white\",\"startlinecolor\":\"#2a3f5f\"},\"baxis\":{\"endlinecolor\":\"#2a3f5f\",\"gridcolor\":\"white\",\"linecolor\":\"white\",\"minorgridcolor\":\"white\",\"startlinecolor\":\"#2a3f5f\"},\"type\":\"carpet\"}],\"table\":[{\"cells\":{\"fill\":{\"color\":\"#EBF0F8\"},\"line\":{\"color\":\"white\"}},\"header\":{\"fill\":{\"color\":\"#C8D4E3\"},\"line\":{\"color\":\"white\"}},\"type\":\"table\"}],\"barpolar\":[{\"marker\":{\"line\":{\"color\":\"#E5ECF6\",\"width\":0.5},\"pattern\":{\"fillmode\":\"overlay\",\"size\":10,\"solidity\":0.2}},\"type\":\"barpolar\"}],\"pie\":[{\"automargin\":true,\"type\":\"pie\"}]},\"layout\":{\"autotypenumbers\":\"strict\",\"colorway\":[\"#636efa\",\"#EF553B\",\"#00cc96\",\"#ab63fa\",\"#FFA15A\",\"#19d3f3\",\"#FF6692\",\"#B6E880\",\"#FF97FF\",\"#FECB52\"],\"font\":{\"color\":\"#2a3f5f\"},\"hovermode\":\"closest\",\"hoverlabel\":{\"align\":\"left\"},\"paper_bgcolor\":\"white\",\"plot_bgcolor\":\"#E5ECF6\",\"polar\":{\"bgcolor\":\"#E5ECF6\",\"angularaxis\":{\"gridcolor\":\"white\",\"linecolor\":\"white\",\"ticks\":\"\"},\"radialaxis\":{\"gridcolor\":\"white\",\"linecolor\":\"white\",\"ticks\":\"\"}},\"ternary\":{\"bgcolor\":\"#E5ECF6\",\"aaxis\":{\"gridcolor\":\"white\",\"linecolor\":\"white\",\"ticks\":\"\"},\"baxis\":{\"gridcolor\":\"white\",\"linecolor\":\"white\",\"ticks\":\"\"},\"caxis\":{\"gridcolor\":\"white\",\"linecolor\":\"white\",\"ticks\":\"\"}},\"coloraxis\":{\"colorbar\":{\"outlinewidth\":0,\"ticks\":\"\"}},\"colorscale\":{\"sequential\":[[0.0,\"#0d0887\"],[0.1111111111111111,\"#46039f\"],[0.2222222222222222,\"#7201a8\"],[0.3333333333333333,\"#9c179e\"],[0.4444444444444444,\"#bd3786\"],[0.5555555555555556,\"#d8576b\"],[0.6666666666666666,\"#ed7953\"],[0.7777777777777778,\"#fb9f3a\"],[0.8888888888888888,\"#fdca26\"],[1.0,\"#f0f921\"]],\"sequentialminus\":[[0.0,\"#0d0887\"],[0.1111111111111111,\"#46039f\"],[0.2222222222222222,\"#7201a8\"],[0.3333333333333333,\"#9c179e\"],[0.4444444444444444,\"#bd3786\"],[0.5555555555555556,\"#d8576b\"],[0.6666666666666666,\"#ed7953\"],[0.7777777777777778,\"#fb9f3a\"],[0.8888888888888888,\"#fdca26\"],[1.0,\"#f0f921\"]],\"diverging\":[[0,\"#8e0152\"],[0.1,\"#c51b7d\"],[0.2,\"#de77ae\"],[0.3,\"#f1b6da\"],[0.4,\"#fde0ef\"],[0.5,\"#f7f7f7\"],[0.6,\"#e6f5d0\"],[0.7,\"#b8e186\"],[0.8,\"#7fbc41\"],[0.9,\"#4d9221\"],[1,\"#276419\"]]},\"xaxis\":{\"gridcolor\":\"white\",\"linecolor\":\"white\",\"ticks\":\"\",\"title\":{\"standoff\":15},\"zerolinecolor\":\"white\",\"automargin\":true,\"zerolinewidth\":2},\"yaxis\":{\"gridcolor\":\"white\",\"linecolor\":\"white\",\"ticks\":\"\",\"title\":{\"standoff\":15},\"zerolinecolor\":\"white\",\"automargin\":true,\"zerolinewidth\":2},\"scene\":{\"xaxis\":{\"backgroundcolor\":\"#E5ECF6\",\"gridcolor\":\"white\",\"linecolor\":\"white\",\"showbackground\":true,\"ticks\":\"\",\"zerolinecolor\":\"white\",\"gridwidth\":2},\"yaxis\":{\"backgroundcolor\":\"#E5ECF6\",\"gridcolor\":\"white\",\"linecolor\":\"white\",\"showbackground\":true,\"ticks\":\"\",\"zerolinecolor\":\"white\",\"gridwidth\":2},\"zaxis\":{\"backgroundcolor\":\"#E5ECF6\",\"gridcolor\":\"white\",\"linecolor\":\"white\",\"showbackground\":true,\"ticks\":\"\",\"zerolinecolor\":\"white\",\"gridwidth\":2}},\"shapedefaults\":{\"line\":{\"color\":\"#2a3f5f\"}},\"annotationdefaults\":{\"arrowcolor\":\"#2a3f5f\",\"arrowhead\":0,\"arrowwidth\":1},\"geo\":{\"bgcolor\":\"white\",\"landcolor\":\"#E5ECF6\",\"subunitcolor\":\"white\",\"showland\":true,\"showlakes\":true,\"lakecolor\":\"white\"},\"title\":{\"x\":0.05},\"mapbox\":{\"style\":\"light\"}}},\"annotations\":[{\"align\":\"center\",\"bgcolor\":\"#ff7f0e\",\"bordercolor\":\"black\",\"borderpad\":4,\"borderwidth\":2,\"font\":{\"color\":\"black\",\"family\":\"Courier New, monospace\",\"size\":16},\"opacity\":1,\"showarrow\":false,\"text\":\"2\",\"x\":102.0,\"y\":0},{\"align\":\"center\",\"bgcolor\":\"#ff7f0e\",\"bordercolor\":\"black\",\"borderpad\":4,\"borderwidth\":2,\"font\":{\"color\":\"black\",\"family\":\"Courier New, monospace\",\"size\":16},\"opacity\":1,\"showarrow\":false,\"text\":\"2\",\"x\":102.0,\"y\":53}]},                        {\"responsive\": true}                    ).then(function(){\n",
       "                            Plotly.addFrames('fcd53e32-8cd7-43a7-991d-b50773b4d4fb', [{\"data\":[{\"hoverinfo\":\"none\",\"mode\":\"text\",\"showlegend\":false,\"text\":[\"10\",\"20\",\"30\",\"40\",\"50\",\"40\",\"30\",\"20\",\"10\"],\"textfont\":{\"color\":\"#ffffff\",\"family\":\"Courier New, monospace\",\"size\":30},\"x\":[20,30,40,50,60,70,80,90,100],\"y\":[5,5,5,5,5,5,5,5,5],\"type\":\"scatter\"},{\"hoverinfo\":\"none\",\"mode\":\"text\",\"showlegend\":false,\"text\":[\"10\",\"20\",\"30\",\"40\",\"50\",\"40\",\"30\",\"20\",\"10\"],\"textfont\":{\"color\":\"#ffffff\",\"family\":\"Courier New, monospace\",\"size\":30},\"x\":[20,30,40,50,60,70,80,90,100],\"y\":[48.5,48.5,48.5,48.5,48.5,48.5,48.5,48.5,48.5],\"type\":\"scatter\"},{\"hoverinfo\":\"none\",\"line\":{\"color\":\"blue\",\"dash\":\"dash\"},\"showlegend\":false,\"x\":[92.0,92.0],\"y\":[0,53.5],\"type\":\"scatter\"},{\"hoverinfo\":\"none\",\"line\":{\"color\":\"yellow\",\"dash\":\"dash\"},\"showlegend\":false,\"x\":[102.0,102.0],\"y\":[0,53.5],\"type\":\"scatter\"},{\"hoverinfo\":\"text\",\"hovertext\":[\"nflId:29851.0<br>displayName:Aaron Rodgers<br>Position:QB<br>Role:Pass\",\"nflId:41282.0<br>displayName:Davante Adams<br>Position:SRoWR<br>Role:Pass Route\",\"nflId:41296.0<br>displayName:Billy Turner<br>Position:RT<br>Role:Pass Block\",\"nflId:45635.0<br>displayName:Robert Tonyan<br>Position:LWR<br>Role:Pass Route\",\"nflId:46705.0<br>displayName:Allen Lazard<br>Position:SLWR<br>Role:Pass Route\",\"nflId:47827.0<br>displayName:Elgton Jenkins<br>Position:LT<br>Role:Pass Block\",\"nflId:52470.0<br>displayName:A.J. Dillon<br>Position:RWR<br>Role:Pass Route\",\"nflId:52600.0<br>displayName:Jon Runyan<br>Position:LG<br>Role:Pass Block\",\"nflId:53172.0<br>displayName:Dominique Dafney<br>Position:SRiWR<br>Role:Pass Route\",\"nflId:53491.0<br>displayName:Josh Myers<br>Position:C<br>Role:Pass Block\",\"nflId:53571.0<br>displayName:Royce Newman<br>Position:RG<br>Role:Pass Block\"],\"marker\":{\"color\":\"#203731\"},\"mode\":\"markers\",\"name\":\"GB\",\"x\":[96.85,93.57,94.06,94.11,92.94,93.86,93.72,93.32,92.91,92.89,93.61],\"y\":[23.63,35.81,26.95,7.82,14.98,20.25,43.5,21.73,31.07,23.75,25.43],\"type\":\"scatter\"},{\"hoverinfo\":\"text\",\"hovertext\":[\"nflId:38544.0<br>displayName:Michael Brockers<br>Position:REO<br>Role:Pass Rush\",\"nflId:40000.0<br>displayName:Jamie Collins<br>Position:LLB<br>Role:Coverage\",\"nflId:40171.0<br>displayName:Nicholas Williams<br>Position:NT<br>Role:Pass Rush\",\"nflId:42444.0<br>displayName:Trey Flowers<br>Position:RLB<br>Role:Coverage\",\"nflId:43775.0<br>displayName:Romeo Okwara<br>Position:LEO<br>Role:Pass Rush\",\"nflId:44888.0<br>displayName:Alex Anzalone<br>Position:SCBR<br>Role:Coverage\",\"nflId:46151.0<br>displayName:Tracy Walker<br>Position:FSL<br>Role:Coverage\",\"nflId:47864.0<br>displayName:Will Harris<br>Position:FSR<br>Role:Coverage\",\"nflId:47929.0<br>displayName:Amani Oruwariye<br>Position:RCB<br>Role:Coverage\",\"nflId:53530.0<br>displayName:Ifeatu Melifonwu<br>Position:LCB<br>Role:Coverage\",\"nflId:53957.0<br>displayName:A.J. Parker<br>Position:SCBoL<br>Role:Coverage\"],\"marker\":{\"color\":\"#0076B6\"},\"mode\":\"markers\",\"name\":\"DET\",\"x\":[91.36,87.05,91.22,88.87,92.24,87.02,75.48,75.2,91.01,89.67,89.16],\"y\":[18.93,28.16,23.62,18.36,29.17,14.58,33.81,15.04,7.48,44.08,35.74],\"type\":\"scatter\"},{\"hoverinfo\":\"none\",\"marker\":{\"color\":\"#CBB67C\"},\"mode\":\"markers\",\"name\":\"football\",\"x\":[92.2],\"y\":[23.77],\"type\":\"scatter\"}],\"name\":\"2\"},{\"data\":[{\"hoverinfo\":\"none\",\"mode\":\"text\",\"showlegend\":false,\"text\":[\"10\",\"20\",\"30\",\"40\",\"50\",\"40\",\"30\",\"20\",\"10\"],\"textfont\":{\"color\":\"#ffffff\",\"family\":\"Courier New, monospace\",\"size\":30},\"x\":[20,30,40,50,60,70,80,90,100],\"y\":[5,5,5,5,5,5,5,5,5],\"type\":\"scatter\"},{\"hoverinfo\":\"none\",\"mode\":\"text\",\"showlegend\":false,\"text\":[\"10\",\"20\",\"30\",\"40\",\"50\",\"40\",\"30\",\"20\",\"10\"],\"textfont\":{\"color\":\"#ffffff\",\"family\":\"Courier New, monospace\",\"size\":30},\"x\":[20,30,40,50,60,70,80,90,100],\"y\":[48.5,48.5,48.5,48.5,48.5,48.5,48.5,48.5,48.5],\"type\":\"scatter\"},{\"hoverinfo\":\"none\",\"line\":{\"color\":\"blue\",\"dash\":\"dash\"},\"showlegend\":false,\"x\":[92.0,92.0],\"y\":[0,53.5],\"type\":\"scatter\"},{\"hoverinfo\":\"none\",\"line\":{\"color\":\"yellow\",\"dash\":\"dash\"},\"showlegend\":false,\"x\":[102.0,102.0],\"y\":[0,53.5],\"type\":\"scatter\"},{\"hoverinfo\":\"text\",\"hovertext\":[\"nflId:29851.0<br>displayName:Aaron Rodgers<br>Position:QB<br>Role:Pass\",\"nflId:41282.0<br>displayName:Davante Adams<br>Position:SRoWR<br>Role:Pass Route\",\"nflId:41296.0<br>displayName:Billy Turner<br>Position:RT<br>Role:Pass Block\",\"nflId:45635.0<br>displayName:Robert Tonyan<br>Position:LWR<br>Role:Pass Route\",\"nflId:46705.0<br>displayName:Allen Lazard<br>Position:SLWR<br>Role:Pass Route\",\"nflId:47827.0<br>displayName:Elgton Jenkins<br>Position:LT<br>Role:Pass Block\",\"nflId:52470.0<br>displayName:A.J. Dillon<br>Position:RWR<br>Role:Pass Route\",\"nflId:52600.0<br>displayName:Jon Runyan<br>Position:LG<br>Role:Pass Block\",\"nflId:53172.0<br>displayName:Dominique Dafney<br>Position:SRiWR<br>Role:Pass Route\",\"nflId:53491.0<br>displayName:Josh Myers<br>Position:C<br>Role:Pass Block\",\"nflId:53571.0<br>displayName:Royce Newman<br>Position:RG<br>Role:Pass Block\"],\"marker\":{\"color\":\"#203731\"},\"mode\":\"markers\",\"name\":\"GB\",\"x\":[96.83,93.57,94.06,94.11,92.94,93.86,93.72,93.33,92.91,92.89,93.61],\"y\":[23.62,35.81,26.95,7.82,14.98,20.25,43.5,21.73,31.07,23.74,25.43],\"type\":\"scatter\"},{\"hoverinfo\":\"text\",\"hovertext\":[\"nflId:38544.0<br>displayName:Michael Brockers<br>Position:REO<br>Role:Pass Rush\",\"nflId:40000.0<br>displayName:Jamie Collins<br>Position:LLB<br>Role:Coverage\",\"nflId:40171.0<br>displayName:Nicholas Williams<br>Position:NT<br>Role:Pass Rush\",\"nflId:42444.0<br>displayName:Trey Flowers<br>Position:RLB<br>Role:Coverage\",\"nflId:43775.0<br>displayName:Romeo Okwara<br>Position:LEO<br>Role:Pass Rush\",\"nflId:44888.0<br>displayName:Alex Anzalone<br>Position:SCBR<br>Role:Coverage\",\"nflId:46151.0<br>displayName:Tracy Walker<br>Position:FSL<br>Role:Coverage\",\"nflId:47864.0<br>displayName:Will Harris<br>Position:FSR<br>Role:Coverage\",\"nflId:47929.0<br>displayName:Amani Oruwariye<br>Position:RCB<br>Role:Coverage\",\"nflId:53530.0<br>displayName:Ifeatu Melifonwu<br>Position:LCB<br>Role:Coverage\",\"nflId:53957.0<br>displayName:A.J. Parker<br>Position:SCBoL<br>Role:Coverage\"],\"marker\":{\"color\":\"#0076B6\"},\"mode\":\"markers\",\"name\":\"DET\",\"x\":[91.37,87.05,91.22,88.87,92.24,87.02,75.45,75.19,91.02,89.66,89.14],\"y\":[18.92,28.16,23.62,18.36,29.17,14.57,33.83,15.05,7.48,44.09,35.72],\"type\":\"scatter\"},{\"hoverinfo\":\"none\",\"marker\":{\"color\":\"#CBB67C\"},\"mode\":\"markers\",\"name\":\"football\",\"x\":[92.2],\"y\":[23.77],\"type\":\"scatter\"}],\"name\":\"3\"},{\"data\":[{\"hoverinfo\":\"none\",\"mode\":\"text\",\"showlegend\":false,\"text\":[\"10\",\"20\",\"30\",\"40\",\"50\",\"40\",\"30\",\"20\",\"10\"],\"textfont\":{\"color\":\"#ffffff\",\"family\":\"Courier New, monospace\",\"size\":30},\"x\":[20,30,40,50,60,70,80,90,100],\"y\":[5,5,5,5,5,5,5,5,5],\"type\":\"scatter\"},{\"hoverinfo\":\"none\",\"mode\":\"text\",\"showlegend\":false,\"text\":[\"10\",\"20\",\"30\",\"40\",\"50\",\"40\",\"30\",\"20\",\"10\"],\"textfont\":{\"color\":\"#ffffff\",\"family\":\"Courier New, monospace\",\"size\":30},\"x\":[20,30,40,50,60,70,80,90,100],\"y\":[48.5,48.5,48.5,48.5,48.5,48.5,48.5,48.5,48.5],\"type\":\"scatter\"},{\"hoverinfo\":\"none\",\"line\":{\"color\":\"blue\",\"dash\":\"dash\"},\"showlegend\":false,\"x\":[92.0,92.0],\"y\":[0,53.5],\"type\":\"scatter\"},{\"hoverinfo\":\"none\",\"line\":{\"color\":\"yellow\",\"dash\":\"dash\"},\"showlegend\":false,\"x\":[102.0,102.0],\"y\":[0,53.5],\"type\":\"scatter\"},{\"hoverinfo\":\"text\",\"hovertext\":[\"nflId:29851.0<br>displayName:Aaron Rodgers<br>Position:QB<br>Role:Pass\",\"nflId:41282.0<br>displayName:Davante Adams<br>Position:SRoWR<br>Role:Pass Route\",\"nflId:41296.0<br>displayName:Billy Turner<br>Position:RT<br>Role:Pass Block\",\"nflId:45635.0<br>displayName:Robert Tonyan<br>Position:LWR<br>Role:Pass Route\",\"nflId:46705.0<br>displayName:Allen Lazard<br>Position:SLWR<br>Role:Pass Route\",\"nflId:47827.0<br>displayName:Elgton Jenkins<br>Position:LT<br>Role:Pass Block\",\"nflId:52470.0<br>displayName:A.J. Dillon<br>Position:RWR<br>Role:Pass Route\",\"nflId:52600.0<br>displayName:Jon Runyan<br>Position:LG<br>Role:Pass Block\",\"nflId:53172.0<br>displayName:Dominique Dafney<br>Position:SRiWR<br>Role:Pass Route\",\"nflId:53491.0<br>displayName:Josh Myers<br>Position:C<br>Role:Pass Block\",\"nflId:53571.0<br>displayName:Royce Newman<br>Position:RG<br>Role:Pass Block\"],\"marker\":{\"color\":\"#203731\"},\"mode\":\"markers\",\"name\":\"GB\",\"x\":[96.8,93.57,94.07,94.11,92.94,93.86,93.72,93.33,92.91,92.9,93.61],\"y\":[23.61,35.81,26.95,7.82,14.98,20.25,43.5,21.74,31.07,23.74,25.44],\"type\":\"scatter\"},{\"hoverinfo\":\"text\",\"hovertext\":[\"nflId:38544.0<br>displayName:Michael Brockers<br>Position:REO<br>Role:Pass Rush\",\"nflId:40000.0<br>displayName:Jamie Collins<br>Position:LLB<br>Role:Coverage\",\"nflId:40171.0<br>displayName:Nicholas Williams<br>Position:NT<br>Role:Pass Rush\",\"nflId:42444.0<br>displayName:Trey Flowers<br>Position:RLB<br>Role:Coverage\",\"nflId:43775.0<br>displayName:Romeo Okwara<br>Position:LEO<br>Role:Pass Rush\",\"nflId:44888.0<br>displayName:Alex Anzalone<br>Position:SCBR<br>Role:Coverage\",\"nflId:46151.0<br>displayName:Tracy Walker<br>Position:FSL<br>Role:Coverage\",\"nflId:47864.0<br>displayName:Will Harris<br>Position:FSR<br>Role:Coverage\",\"nflId:47929.0<br>displayName:Amani Oruwariye<br>Position:RCB<br>Role:Coverage\",\"nflId:53530.0<br>displayName:Ifeatu Melifonwu<br>Position:LCB<br>Role:Coverage\",\"nflId:53957.0<br>displayName:A.J. Parker<br>Position:SCBoL<br>Role:Coverage\"],\"marker\":{\"color\":\"#0076B6\"},\"mode\":\"markers\",\"name\":\"DET\",\"x\":[91.37,87.05,91.23,88.88,92.22,87.02,75.41,75.19,91.0,89.67,89.11],\"y\":[18.92,28.16,23.63,18.36,29.18,14.58,33.87,15.06,7.47,44.08,35.7],\"type\":\"scatter\"},{\"hoverinfo\":\"none\",\"marker\":{\"color\":\"#CBB67C\"},\"mode\":\"markers\",\"name\":\"football\",\"x\":[92.2],\"y\":[23.77],\"type\":\"scatter\"}],\"name\":\"4\"},{\"data\":[{\"hoverinfo\":\"none\",\"mode\":\"text\",\"showlegend\":false,\"text\":[\"10\",\"20\",\"30\",\"40\",\"50\",\"40\",\"30\",\"20\",\"10\"],\"textfont\":{\"color\":\"#ffffff\",\"family\":\"Courier New, monospace\",\"size\":30},\"x\":[20,30,40,50,60,70,80,90,100],\"y\":[5,5,5,5,5,5,5,5,5],\"type\":\"scatter\"},{\"hoverinfo\":\"none\",\"mode\":\"text\",\"showlegend\":false,\"text\":[\"10\",\"20\",\"30\",\"40\",\"50\",\"40\",\"30\",\"20\",\"10\"],\"textfont\":{\"color\":\"#ffffff\",\"family\":\"Courier New, monospace\",\"size\":30},\"x\":[20,30,40,50,60,70,80,90,100],\"y\":[48.5,48.5,48.5,48.5,48.5,48.5,48.5,48.5,48.5],\"type\":\"scatter\"},{\"hoverinfo\":\"none\",\"line\":{\"color\":\"blue\",\"dash\":\"dash\"},\"showlegend\":false,\"x\":[92.0,92.0],\"y\":[0,53.5],\"type\":\"scatter\"},{\"hoverinfo\":\"none\",\"line\":{\"color\":\"yellow\",\"dash\":\"dash\"},\"showlegend\":false,\"x\":[102.0,102.0],\"y\":[0,53.5],\"type\":\"scatter\"},{\"hoverinfo\":\"text\",\"hovertext\":[\"nflId:29851.0<br>displayName:Aaron Rodgers<br>Position:QB<br>Role:Pass\",\"nflId:41282.0<br>displayName:Davante Adams<br>Position:SRoWR<br>Role:Pass Route\",\"nflId:41296.0<br>displayName:Billy Turner<br>Position:RT<br>Role:Pass Block\",\"nflId:45635.0<br>displayName:Robert Tonyan<br>Position:LWR<br>Role:Pass Route\",\"nflId:46705.0<br>displayName:Allen Lazard<br>Position:SLWR<br>Role:Pass Route\",\"nflId:47827.0<br>displayName:Elgton Jenkins<br>Position:LT<br>Role:Pass Block\",\"nflId:52470.0<br>displayName:A.J. Dillon<br>Position:RWR<br>Role:Pass Route\",\"nflId:52600.0<br>displayName:Jon Runyan<br>Position:LG<br>Role:Pass Block\",\"nflId:53172.0<br>displayName:Dominique Dafney<br>Position:SRiWR<br>Role:Pass Route\",\"nflId:53491.0<br>displayName:Josh Myers<br>Position:C<br>Role:Pass Block\",\"nflId:53571.0<br>displayName:Royce Newman<br>Position:RG<br>Role:Pass Block\"],\"marker\":{\"color\":\"#203731\"},\"mode\":\"markers\",\"name\":\"GB\",\"x\":[96.78,93.57,94.07,94.1,92.94,93.86,93.72,93.33,92.91,92.92,93.61],\"y\":[23.6,35.81,26.96,7.81,14.98,20.25,43.5,21.74,31.07,23.74,25.45],\"type\":\"scatter\"},{\"hoverinfo\":\"text\",\"hovertext\":[\"nflId:38544.0<br>displayName:Michael Brockers<br>Position:REO<br>Role:Pass Rush\",\"nflId:40000.0<br>displayName:Jamie Collins<br>Position:LLB<br>Role:Coverage\",\"nflId:40171.0<br>displayName:Nicholas Williams<br>Position:NT<br>Role:Pass Rush\",\"nflId:42444.0<br>displayName:Trey Flowers<br>Position:RLB<br>Role:Coverage\",\"nflId:43775.0<br>displayName:Romeo Okwara<br>Position:LEO<br>Role:Pass Rush\",\"nflId:44888.0<br>displayName:Alex Anzalone<br>Position:SCBR<br>Role:Coverage\",\"nflId:46151.0<br>displayName:Tracy Walker<br>Position:FSL<br>Role:Coverage\",\"nflId:47864.0<br>displayName:Will Harris<br>Position:FSR<br>Role:Coverage\",\"nflId:47929.0<br>displayName:Amani Oruwariye<br>Position:RCB<br>Role:Coverage\",\"nflId:53530.0<br>displayName:Ifeatu Melifonwu<br>Position:LCB<br>Role:Coverage\",\"nflId:53957.0<br>displayName:A.J. Parker<br>Position:SCBoL<br>Role:Coverage\"],\"marker\":{\"color\":\"#0076B6\"},\"mode\":\"markers\",\"name\":\"DET\",\"x\":[91.37,87.05,91.26,88.88,92.22,87.03,75.39,75.18,91.0,89.66,89.07],\"y\":[18.91,28.16,23.65,18.36,29.18,14.58,33.89,15.06,7.42,44.08,35.68],\"type\":\"scatter\"},{\"hoverinfo\":\"none\",\"marker\":{\"color\":\"#CBB67C\"},\"mode\":\"markers\",\"name\":\"football\",\"x\":[92.2],\"y\":[23.77],\"type\":\"scatter\"}],\"name\":\"5\"},{\"data\":[{\"hoverinfo\":\"none\",\"mode\":\"text\",\"showlegend\":false,\"text\":[\"10\",\"20\",\"30\",\"40\",\"50\",\"40\",\"30\",\"20\",\"10\"],\"textfont\":{\"color\":\"#ffffff\",\"family\":\"Courier New, monospace\",\"size\":30},\"x\":[20,30,40,50,60,70,80,90,100],\"y\":[5,5,5,5,5,5,5,5,5],\"type\":\"scatter\"},{\"hoverinfo\":\"none\",\"mode\":\"text\",\"showlegend\":false,\"text\":[\"10\",\"20\",\"30\",\"40\",\"50\",\"40\",\"30\",\"20\",\"10\"],\"textfont\":{\"color\":\"#ffffff\",\"family\":\"Courier New, monospace\",\"size\":30},\"x\":[20,30,40,50,60,70,80,90,100],\"y\":[48.5,48.5,48.5,48.5,48.5,48.5,48.5,48.5,48.5],\"type\":\"scatter\"},{\"hoverinfo\":\"none\",\"line\":{\"color\":\"blue\",\"dash\":\"dash\"},\"showlegend\":false,\"x\":[92.0,92.0],\"y\":[0,53.5],\"type\":\"scatter\"},{\"hoverinfo\":\"none\",\"line\":{\"color\":\"yellow\",\"dash\":\"dash\"},\"showlegend\":false,\"x\":[102.0,102.0],\"y\":[0,53.5],\"type\":\"scatter\"},{\"hoverinfo\":\"text\",\"hovertext\":[\"nflId:29851.0<br>displayName:Aaron Rodgers<br>Position:QB<br>Role:Pass\",\"nflId:41282.0<br>displayName:Davante Adams<br>Position:SRoWR<br>Role:Pass Route\",\"nflId:41296.0<br>displayName:Billy Turner<br>Position:RT<br>Role:Pass Block\",\"nflId:45635.0<br>displayName:Robert Tonyan<br>Position:LWR<br>Role:Pass Route\",\"nflId:46705.0<br>displayName:Allen Lazard<br>Position:SLWR<br>Role:Pass Route\",\"nflId:47827.0<br>displayName:Elgton Jenkins<br>Position:LT<br>Role:Pass Block\",\"nflId:52470.0<br>displayName:A.J. Dillon<br>Position:RWR<br>Role:Pass Route\",\"nflId:52600.0<br>displayName:Jon Runyan<br>Position:LG<br>Role:Pass Block\",\"nflId:53172.0<br>displayName:Dominique Dafney<br>Position:SRiWR<br>Role:Pass Route\",\"nflId:53491.0<br>displayName:Josh Myers<br>Position:C<br>Role:Pass Block\",\"nflId:53571.0<br>displayName:Royce Newman<br>Position:RG<br>Role:Pass Block\"],\"marker\":{\"color\":\"#203731\"},\"mode\":\"markers\",\"name\":\"GB\",\"x\":[96.78,93.57,94.07,94.1,92.94,93.86,93.72,93.35,92.91,92.95,93.62],\"y\":[23.59,35.81,26.97,7.81,14.98,20.25,43.5,21.73,31.07,23.73,25.47],\"type\":\"scatter\"},{\"hoverinfo\":\"text\",\"hovertext\":[\"nflId:38544.0<br>displayName:Michael Brockers<br>Position:REO<br>Role:Pass Rush\",\"nflId:40000.0<br>displayName:Jamie Collins<br>Position:LLB<br>Role:Coverage\",\"nflId:40171.0<br>displayName:Nicholas Williams<br>Position:NT<br>Role:Pass Rush\",\"nflId:42444.0<br>displayName:Trey Flowers<br>Position:RLB<br>Role:Coverage\",\"nflId:43775.0<br>displayName:Romeo Okwara<br>Position:LEO<br>Role:Pass Rush\",\"nflId:44888.0<br>displayName:Alex Anzalone<br>Position:SCBR<br>Role:Coverage\",\"nflId:46151.0<br>displayName:Tracy Walker<br>Position:FSL<br>Role:Coverage\",\"nflId:47864.0<br>displayName:Will Harris<br>Position:FSR<br>Role:Coverage\",\"nflId:47929.0<br>displayName:Amani Oruwariye<br>Position:RCB<br>Role:Coverage\",\"nflId:53530.0<br>displayName:Ifeatu Melifonwu<br>Position:LCB<br>Role:Coverage\",\"nflId:53957.0<br>displayName:A.J. Parker<br>Position:SCBoL<br>Role:Coverage\"],\"marker\":{\"color\":\"#0076B6\"},\"mode\":\"markers\",\"name\":\"DET\",\"x\":[91.39,87.04,91.3,88.89,92.23,87.03,75.34,75.17,90.98,89.66,88.99],\"y\":[18.89,28.17,23.67,18.36,29.18,14.59,33.91,15.05,7.42,44.08,35.63],\"type\":\"scatter\"},{\"hoverinfo\":\"none\",\"marker\":{\"color\":\"#CBB67C\"},\"mode\":\"markers\",\"name\":\"football\",\"x\":[92.2],\"y\":[23.77],\"type\":\"scatter\"}],\"name\":\"6\"},{\"data\":[{\"hoverinfo\":\"none\",\"mode\":\"text\",\"showlegend\":false,\"text\":[\"10\",\"20\",\"30\",\"40\",\"50\",\"40\",\"30\",\"20\",\"10\"],\"textfont\":{\"color\":\"#ffffff\",\"family\":\"Courier New, monospace\",\"size\":30},\"x\":[20,30,40,50,60,70,80,90,100],\"y\":[5,5,5,5,5,5,5,5,5],\"type\":\"scatter\"},{\"hoverinfo\":\"none\",\"mode\":\"text\",\"showlegend\":false,\"text\":[\"10\",\"20\",\"30\",\"40\",\"50\",\"40\",\"30\",\"20\",\"10\"],\"textfont\":{\"color\":\"#ffffff\",\"family\":\"Courier New, monospace\",\"size\":30},\"x\":[20,30,40,50,60,70,80,90,100],\"y\":[48.5,48.5,48.5,48.5,48.5,48.5,48.5,48.5,48.5],\"type\":\"scatter\"},{\"hoverinfo\":\"none\",\"line\":{\"color\":\"blue\",\"dash\":\"dash\"},\"showlegend\":false,\"x\":[92.0,92.0],\"y\":[0,53.5],\"type\":\"scatter\"},{\"hoverinfo\":\"none\",\"line\":{\"color\":\"yellow\",\"dash\":\"dash\"},\"showlegend\":false,\"x\":[102.0,102.0],\"y\":[0,53.5],\"type\":\"scatter\"},{\"hoverinfo\":\"text\",\"hovertext\":[\"nflId:29851.0<br>displayName:Aaron Rodgers<br>Position:QB<br>Role:Pass\",\"nflId:41282.0<br>displayName:Davante Adams<br>Position:SRoWR<br>Role:Pass Route\",\"nflId:41296.0<br>displayName:Billy Turner<br>Position:RT<br>Role:Pass Block\",\"nflId:45635.0<br>displayName:Robert Tonyan<br>Position:LWR<br>Role:Pass Route\",\"nflId:46705.0<br>displayName:Allen Lazard<br>Position:SLWR<br>Role:Pass Route\",\"nflId:47827.0<br>displayName:Elgton Jenkins<br>Position:LT<br>Role:Pass Block\",\"nflId:52470.0<br>displayName:A.J. Dillon<br>Position:RWR<br>Role:Pass Route\",\"nflId:52600.0<br>displayName:Jon Runyan<br>Position:LG<br>Role:Pass Block\",\"nflId:53172.0<br>displayName:Dominique Dafney<br>Position:SRiWR<br>Role:Pass Route\",\"nflId:53491.0<br>displayName:Josh Myers<br>Position:C<br>Role:Pass Block\",\"nflId:53571.0<br>displayName:Royce Newman<br>Position:RG<br>Role:Pass Block\"],\"marker\":{\"color\":\"#203731\"},\"mode\":\"markers\",\"name\":\"GB\",\"x\":[96.79,93.57,94.08,94.09,92.93,93.87,93.71,93.37,92.89,93.02,93.65],\"y\":[23.59,35.81,27.0,7.81,14.98,20.24,43.5,21.73,31.07,23.72,25.52],\"type\":\"scatter\"},{\"hoverinfo\":\"text\",\"hovertext\":[\"nflId:38544.0<br>displayName:Michael Brockers<br>Position:REO<br>Role:Pass Rush\",\"nflId:40000.0<br>displayName:Jamie Collins<br>Position:LLB<br>Role:Coverage\",\"nflId:40171.0<br>displayName:Nicholas Williams<br>Position:NT<br>Role:Pass Rush\",\"nflId:42444.0<br>displayName:Trey Flowers<br>Position:RLB<br>Role:Coverage\",\"nflId:43775.0<br>displayName:Romeo Okwara<br>Position:LEO<br>Role:Pass Rush\",\"nflId:44888.0<br>displayName:Alex Anzalone<br>Position:SCBR<br>Role:Coverage\",\"nflId:46151.0<br>displayName:Tracy Walker<br>Position:FSL<br>Role:Coverage\",\"nflId:47864.0<br>displayName:Will Harris<br>Position:FSR<br>Role:Coverage\",\"nflId:47929.0<br>displayName:Amani Oruwariye<br>Position:RCB<br>Role:Coverage\",\"nflId:53530.0<br>displayName:Ifeatu Melifonwu<br>Position:LCB<br>Role:Coverage\",\"nflId:53957.0<br>displayName:A.J. Parker<br>Position:SCBoL<br>Role:Coverage\"],\"marker\":{\"color\":\"#0076B6\"},\"mode\":\"markers\",\"name\":\"DET\",\"x\":[91.41,87.04,91.38,88.89,92.25,87.03,75.27,75.16,90.97,89.66,88.85],\"y\":[18.88,28.17,23.71,18.37,29.18,14.59,33.95,15.04,7.4,44.09,35.55],\"type\":\"scatter\"},{\"hoverinfo\":\"none\",\"marker\":{\"color\":\"#CBB67C\"},\"mode\":\"markers\",\"name\":\"football\",\"x\":[92.2],\"y\":[23.77],\"type\":\"scatter\"}],\"name\":\"7\"},{\"data\":[{\"hoverinfo\":\"none\",\"mode\":\"text\",\"showlegend\":false,\"text\":[\"10\",\"20\",\"30\",\"40\",\"50\",\"40\",\"30\",\"20\",\"10\"],\"textfont\":{\"color\":\"#ffffff\",\"family\":\"Courier New, monospace\",\"size\":30},\"x\":[20,30,40,50,60,70,80,90,100],\"y\":[5,5,5,5,5,5,5,5,5],\"type\":\"scatter\"},{\"hoverinfo\":\"none\",\"mode\":\"text\",\"showlegend\":false,\"text\":[\"10\",\"20\",\"30\",\"40\",\"50\",\"40\",\"30\",\"20\",\"10\"],\"textfont\":{\"color\":\"#ffffff\",\"family\":\"Courier New, monospace\",\"size\":30},\"x\":[20,30,40,50,60,70,80,90,100],\"y\":[48.5,48.5,48.5,48.5,48.5,48.5,48.5,48.5,48.5],\"type\":\"scatter\"},{\"hoverinfo\":\"none\",\"line\":{\"color\":\"blue\",\"dash\":\"dash\"},\"showlegend\":false,\"x\":[92.0,92.0],\"y\":[0,53.5],\"type\":\"scatter\"},{\"hoverinfo\":\"none\",\"line\":{\"color\":\"yellow\",\"dash\":\"dash\"},\"showlegend\":false,\"x\":[102.0,102.0],\"y\":[0,53.5],\"type\":\"scatter\"},{\"hoverinfo\":\"text\",\"hovertext\":[\"nflId:29851.0<br>displayName:Aaron Rodgers<br>Position:QB<br>Role:Pass\",\"nflId:41282.0<br>displayName:Davante Adams<br>Position:SRoWR<br>Role:Pass Route\",\"nflId:41296.0<br>displayName:Billy Turner<br>Position:RT<br>Role:Pass Block\",\"nflId:45635.0<br>displayName:Robert Tonyan<br>Position:LWR<br>Role:Pass Route\",\"nflId:46705.0<br>displayName:Allen Lazard<br>Position:SLWR<br>Role:Pass Route\",\"nflId:47827.0<br>displayName:Elgton Jenkins<br>Position:LT<br>Role:Pass Block\",\"nflId:52470.0<br>displayName:A.J. Dillon<br>Position:RWR<br>Role:Pass Route\",\"nflId:52600.0<br>displayName:Jon Runyan<br>Position:LG<br>Role:Pass Block\",\"nflId:53172.0<br>displayName:Dominique Dafney<br>Position:SRiWR<br>Role:Pass Route\",\"nflId:53491.0<br>displayName:Josh Myers<br>Position:C<br>Role:Pass Block\",\"nflId:53571.0<br>displayName:Royce Newman<br>Position:RG<br>Role:Pass Block\"],\"marker\":{\"color\":\"#203731\"},\"mode\":\"markers\",\"name\":\"GB\",\"x\":[96.83,93.55,94.13,94.07,92.92,93.87,93.7,93.43,92.86,93.11,93.71],\"y\":[23.61,35.81,27.06,7.8,14.99,20.24,43.5,21.71,31.06,23.72,25.57],\"type\":\"scatter\"},{\"hoverinfo\":\"text\",\"hovertext\":[\"nflId:38544.0<br>displayName:Michael Brockers<br>Position:REO<br>Role:Pass Rush\",\"nflId:40000.0<br>displayName:Jamie Collins<br>Position:LLB<br>Role:Coverage\",\"nflId:40171.0<br>displayName:Nicholas Williams<br>Position:NT<br>Role:Pass Rush\",\"nflId:42444.0<br>displayName:Trey Flowers<br>Position:RLB<br>Role:Coverage\",\"nflId:43775.0<br>displayName:Romeo Okwara<br>Position:LEO<br>Role:Pass Rush\",\"nflId:44888.0<br>displayName:Alex Anzalone<br>Position:SCBR<br>Role:Coverage\",\"nflId:46151.0<br>displayName:Tracy Walker<br>Position:FSL<br>Role:Coverage\",\"nflId:47864.0<br>displayName:Will Harris<br>Position:FSR<br>Role:Coverage\",\"nflId:47929.0<br>displayName:Amani Oruwariye<br>Position:RCB<br>Role:Coverage\",\"nflId:53530.0<br>displayName:Ifeatu Melifonwu<br>Position:LCB<br>Role:Coverage\",\"nflId:53957.0<br>displayName:A.J. Parker<br>Position:SCBoL<br>Role:Coverage\"],\"marker\":{\"color\":\"#0076B6\"},\"mode\":\"markers\",\"name\":\"DET\",\"x\":[91.45,87.04,91.48,88.89,92.29,87.04,75.16,75.16,90.96,89.66,88.65],\"y\":[18.85,28.17,23.75,18.38,29.18,14.58,34.0,15.04,7.38,44.1,35.43],\"type\":\"scatter\"},{\"hoverinfo\":\"none\",\"marker\":{\"color\":\"#CBB67C\"},\"mode\":\"markers\",\"name\":\"football\",\"x\":[94.1],\"y\":[23.71],\"type\":\"scatter\"}],\"name\":\"8\"},{\"data\":[{\"hoverinfo\":\"none\",\"mode\":\"text\",\"showlegend\":false,\"text\":[\"10\",\"20\",\"30\",\"40\",\"50\",\"40\",\"30\",\"20\",\"10\"],\"textfont\":{\"color\":\"#ffffff\",\"family\":\"Courier New, monospace\",\"size\":30},\"x\":[20,30,40,50,60,70,80,90,100],\"y\":[5,5,5,5,5,5,5,5,5],\"type\":\"scatter\"},{\"hoverinfo\":\"none\",\"mode\":\"text\",\"showlegend\":false,\"text\":[\"10\",\"20\",\"30\",\"40\",\"50\",\"40\",\"30\",\"20\",\"10\"],\"textfont\":{\"color\":\"#ffffff\",\"family\":\"Courier New, monospace\",\"size\":30},\"x\":[20,30,40,50,60,70,80,90,100],\"y\":[48.5,48.5,48.5,48.5,48.5,48.5,48.5,48.5,48.5],\"type\":\"scatter\"},{\"hoverinfo\":\"none\",\"line\":{\"color\":\"blue\",\"dash\":\"dash\"},\"showlegend\":false,\"x\":[92.0,92.0],\"y\":[0,53.5],\"type\":\"scatter\"},{\"hoverinfo\":\"none\",\"line\":{\"color\":\"yellow\",\"dash\":\"dash\"},\"showlegend\":false,\"x\":[102.0,102.0],\"y\":[0,53.5],\"type\":\"scatter\"},{\"hoverinfo\":\"text\",\"hovertext\":[\"nflId:29851.0<br>displayName:Aaron Rodgers<br>Position:QB<br>Role:Pass\",\"nflId:41282.0<br>displayName:Davante Adams<br>Position:SRoWR<br>Role:Pass Route\",\"nflId:41296.0<br>displayName:Billy Turner<br>Position:RT<br>Role:Pass Block\",\"nflId:45635.0<br>displayName:Robert Tonyan<br>Position:LWR<br>Role:Pass Route\",\"nflId:46705.0<br>displayName:Allen Lazard<br>Position:SLWR<br>Role:Pass Route\",\"nflId:47827.0<br>displayName:Elgton Jenkins<br>Position:LT<br>Role:Pass Block\",\"nflId:52470.0<br>displayName:A.J. Dillon<br>Position:RWR<br>Role:Pass Route\",\"nflId:52600.0<br>displayName:Jon Runyan<br>Position:LG<br>Role:Pass Block\",\"nflId:53172.0<br>displayName:Dominique Dafney<br>Position:SRiWR<br>Role:Pass Route\",\"nflId:53491.0<br>displayName:Josh Myers<br>Position:C<br>Role:Pass Block\",\"nflId:53571.0<br>displayName:Royce Newman<br>Position:RG<br>Role:Pass Block\"],\"marker\":{\"color\":\"#203731\"},\"mode\":\"markers\",\"name\":\"GB\",\"x\":[96.9,93.54,94.19,94.02,92.9,93.89,93.67,93.51,92.8,93.21,93.79],\"y\":[23.63,35.81,27.14,7.78,14.98,20.23,43.5,21.68,31.05,23.72,25.65],\"type\":\"scatter\"},{\"hoverinfo\":\"text\",\"hovertext\":[\"nflId:38544.0<br>displayName:Michael Brockers<br>Position:REO<br>Role:Pass Rush\",\"nflId:40000.0<br>displayName:Jamie Collins<br>Position:LLB<br>Role:Coverage\",\"nflId:40171.0<br>displayName:Nicholas Williams<br>Position:NT<br>Role:Pass Rush\",\"nflId:42444.0<br>displayName:Trey Flowers<br>Position:RLB<br>Role:Coverage\",\"nflId:43775.0<br>displayName:Romeo Okwara<br>Position:LEO<br>Role:Pass Rush\",\"nflId:44888.0<br>displayName:Alex Anzalone<br>Position:SCBR<br>Role:Coverage\",\"nflId:46151.0<br>displayName:Tracy Walker<br>Position:FSL<br>Role:Coverage\",\"nflId:47864.0<br>displayName:Will Harris<br>Position:FSR<br>Role:Coverage\",\"nflId:47929.0<br>displayName:Amani Oruwariye<br>Position:RCB<br>Role:Coverage\",\"nflId:53530.0<br>displayName:Ifeatu Melifonwu<br>Position:LCB<br>Role:Coverage\",\"nflId:53957.0<br>displayName:A.J. Parker<br>Position:SCBoL<br>Role:Coverage\"],\"marker\":{\"color\":\"#0076B6\"},\"mode\":\"markers\",\"name\":\"DET\",\"x\":[91.55,87.03,91.64,88.9,92.38,87.04,75.02,75.13,90.95,89.66,88.41],\"y\":[18.82,28.17,23.8,18.39,29.17,14.58,34.08,15.05,7.37,44.12,35.3],\"type\":\"scatter\"},{\"hoverinfo\":\"none\",\"marker\":{\"color\":\"#CBB67C\"},\"mode\":\"markers\",\"name\":\"football\",\"x\":[94.7],\"y\":[23.73],\"type\":\"scatter\"}],\"name\":\"9\"},{\"data\":[{\"hoverinfo\":\"none\",\"mode\":\"text\",\"showlegend\":false,\"text\":[\"10\",\"20\",\"30\",\"40\",\"50\",\"40\",\"30\",\"20\",\"10\"],\"textfont\":{\"color\":\"#ffffff\",\"family\":\"Courier New, monospace\",\"size\":30},\"x\":[20,30,40,50,60,70,80,90,100],\"y\":[5,5,5,5,5,5,5,5,5],\"type\":\"scatter\"},{\"hoverinfo\":\"none\",\"mode\":\"text\",\"showlegend\":false,\"text\":[\"10\",\"20\",\"30\",\"40\",\"50\",\"40\",\"30\",\"20\",\"10\"],\"textfont\":{\"color\":\"#ffffff\",\"family\":\"Courier New, monospace\",\"size\":30},\"x\":[20,30,40,50,60,70,80,90,100],\"y\":[48.5,48.5,48.5,48.5,48.5,48.5,48.5,48.5,48.5],\"type\":\"scatter\"},{\"hoverinfo\":\"none\",\"line\":{\"color\":\"blue\",\"dash\":\"dash\"},\"showlegend\":false,\"x\":[92.0,92.0],\"y\":[0,53.5],\"type\":\"scatter\"},{\"hoverinfo\":\"none\",\"line\":{\"color\":\"yellow\",\"dash\":\"dash\"},\"showlegend\":false,\"x\":[102.0,102.0],\"y\":[0,53.5],\"type\":\"scatter\"},{\"hoverinfo\":\"text\",\"hovertext\":[\"nflId:29851.0<br>displayName:Aaron Rodgers<br>Position:QB<br>Role:Pass\",\"nflId:41282.0<br>displayName:Davante Adams<br>Position:SRoWR<br>Role:Pass Route\",\"nflId:41296.0<br>displayName:Billy Turner<br>Position:RT<br>Role:Pass Block\",\"nflId:45635.0<br>displayName:Robert Tonyan<br>Position:LWR<br>Role:Pass Route\",\"nflId:46705.0<br>displayName:Allen Lazard<br>Position:SLWR<br>Role:Pass Route\",\"nflId:47827.0<br>displayName:Elgton Jenkins<br>Position:LT<br>Role:Pass Block\",\"nflId:52470.0<br>displayName:A.J. Dillon<br>Position:RWR<br>Role:Pass Route\",\"nflId:52600.0<br>displayName:Jon Runyan<br>Position:LG<br>Role:Pass Block\",\"nflId:53172.0<br>displayName:Dominique Dafney<br>Position:SRiWR<br>Role:Pass Route\",\"nflId:53491.0<br>displayName:Josh Myers<br>Position:C<br>Role:Pass Block\",\"nflId:53571.0<br>displayName:Royce Newman<br>Position:RG<br>Role:Pass Block\"],\"marker\":{\"color\":\"#203731\"},\"mode\":\"markers\",\"name\":\"GB\",\"x\":[96.98,93.48,94.27,93.93,92.83,93.94,93.62,93.62,92.69,93.35,93.89],\"y\":[23.66,35.82,27.23,7.75,14.97,20.2,43.5,21.64,31.03,23.73,25.74],\"type\":\"scatter\"},{\"hoverinfo\":\"text\",\"hovertext\":[\"nflId:38544.0<br>displayName:Michael Brockers<br>Position:REO<br>Role:Pass Rush\",\"nflId:40000.0<br>displayName:Jamie Collins<br>Position:LLB<br>Role:Coverage\",\"nflId:40171.0<br>displayName:Nicholas Williams<br>Position:NT<br>Role:Pass Rush\",\"nflId:42444.0<br>displayName:Trey Flowers<br>Position:RLB<br>Role:Coverage\",\"nflId:43775.0<br>displayName:Romeo Okwara<br>Position:LEO<br>Role:Pass Rush\",\"nflId:44888.0<br>displayName:Alex Anzalone<br>Position:SCBR<br>Role:Coverage\",\"nflId:46151.0<br>displayName:Tracy Walker<br>Position:FSL<br>Role:Coverage\",\"nflId:47864.0<br>displayName:Will Harris<br>Position:FSR<br>Role:Coverage\",\"nflId:47929.0<br>displayName:Amani Oruwariye<br>Position:RCB<br>Role:Coverage\",\"nflId:53530.0<br>displayName:Ifeatu Melifonwu<br>Position:LCB<br>Role:Coverage\",\"nflId:53957.0<br>displayName:A.J. Parker<br>Position:SCBoL<br>Role:Coverage\"],\"marker\":{\"color\":\"#0076B6\"},\"mode\":\"markers\",\"name\":\"DET\",\"x\":[91.69,87.02,91.83,88.91,92.52,87.04,74.84,75.12,90.93,89.66,88.11],\"y\":[18.79,28.18,23.87,18.42,29.15,14.57,34.17,15.05,7.33,44.12,35.17],\"type\":\"scatter\"},{\"hoverinfo\":\"none\",\"marker\":{\"color\":\"#CBB67C\"},\"mode\":\"markers\",\"name\":\"football\",\"x\":[95.31],\"y\":[23.75],\"type\":\"scatter\"}],\"name\":\"10\"},{\"data\":[{\"hoverinfo\":\"none\",\"mode\":\"text\",\"showlegend\":false,\"text\":[\"10\",\"20\",\"30\",\"40\",\"50\",\"40\",\"30\",\"20\",\"10\"],\"textfont\":{\"color\":\"#ffffff\",\"family\":\"Courier New, monospace\",\"size\":30},\"x\":[20,30,40,50,60,70,80,90,100],\"y\":[5,5,5,5,5,5,5,5,5],\"type\":\"scatter\"},{\"hoverinfo\":\"none\",\"mode\":\"text\",\"showlegend\":false,\"text\":[\"10\",\"20\",\"30\",\"40\",\"50\",\"40\",\"30\",\"20\",\"10\"],\"textfont\":{\"color\":\"#ffffff\",\"family\":\"Courier New, monospace\",\"size\":30},\"x\":[20,30,40,50,60,70,80,90,100],\"y\":[48.5,48.5,48.5,48.5,48.5,48.5,48.5,48.5,48.5],\"type\":\"scatter\"},{\"hoverinfo\":\"none\",\"line\":{\"color\":\"blue\",\"dash\":\"dash\"},\"showlegend\":false,\"x\":[92.0,92.0],\"y\":[0,53.5],\"type\":\"scatter\"},{\"hoverinfo\":\"none\",\"line\":{\"color\":\"yellow\",\"dash\":\"dash\"},\"showlegend\":false,\"x\":[102.0,102.0],\"y\":[0,53.5],\"type\":\"scatter\"},{\"hoverinfo\":\"text\",\"hovertext\":[\"nflId:29851.0<br>displayName:Aaron Rodgers<br>Position:QB<br>Role:Pass\",\"nflId:41282.0<br>displayName:Davante Adams<br>Position:SRoWR<br>Role:Pass Route\",\"nflId:41296.0<br>displayName:Billy Turner<br>Position:RT<br>Role:Pass Block\",\"nflId:45635.0<br>displayName:Robert Tonyan<br>Position:LWR<br>Role:Pass Route\",\"nflId:46705.0<br>displayName:Allen Lazard<br>Position:SLWR<br>Role:Pass Route\",\"nflId:47827.0<br>displayName:Elgton Jenkins<br>Position:LT<br>Role:Pass Block\",\"nflId:52470.0<br>displayName:A.J. Dillon<br>Position:RWR<br>Role:Pass Route\",\"nflId:52600.0<br>displayName:Jon Runyan<br>Position:LG<br>Role:Pass Block\",\"nflId:53172.0<br>displayName:Dominique Dafney<br>Position:SRiWR<br>Role:Pass Route\",\"nflId:53491.0<br>displayName:Josh Myers<br>Position:C<br>Role:Pass Block\",\"nflId:53571.0<br>displayName:Royce Newman<br>Position:RG<br>Role:Pass Block\"],\"marker\":{\"color\":\"#203731\"},\"mode\":\"markers\",\"name\":\"GB\",\"x\":[97.08,93.37,94.4,93.81,92.7,94.02,93.53,93.75,92.54,93.5,94.02],\"y\":[23.68,35.83,27.35,7.68,14.94,20.15,43.5,21.62,31.0,23.75,25.83],\"type\":\"scatter\"},{\"hoverinfo\":\"text\",\"hovertext\":[\"nflId:38544.0<br>displayName:Michael Brockers<br>Position:REO<br>Role:Pass Rush\",\"nflId:40000.0<br>displayName:Jamie Collins<br>Position:LLB<br>Role:Coverage\",\"nflId:40171.0<br>displayName:Nicholas Williams<br>Position:NT<br>Role:Pass Rush\",\"nflId:42444.0<br>displayName:Trey Flowers<br>Position:RLB<br>Role:Coverage\",\"nflId:43775.0<br>displayName:Romeo Okwara<br>Position:LEO<br>Role:Pass Rush\",\"nflId:44888.0<br>displayName:Alex Anzalone<br>Position:SCBR<br>Role:Coverage\",\"nflId:46151.0<br>displayName:Tracy Walker<br>Position:FSL<br>Role:Coverage\",\"nflId:47864.0<br>displayName:Will Harris<br>Position:FSR<br>Role:Coverage\",\"nflId:47929.0<br>displayName:Amani Oruwariye<br>Position:RCB<br>Role:Coverage\",\"nflId:53530.0<br>displayName:Ifeatu Melifonwu<br>Position:LCB<br>Role:Coverage\",\"nflId:53957.0<br>displayName:A.J. Parker<br>Position:SCBoL<br>Role:Coverage\"],\"marker\":{\"color\":\"#0076B6\"},\"mode\":\"markers\",\"name\":\"DET\",\"x\":[91.87,87.02,92.06,88.91,92.72,87.04,74.63,75.1,90.9,89.66,87.78],\"y\":[18.75,28.18,23.93,18.45,29.13,14.56,34.29,15.06,7.28,44.12,35.04],\"type\":\"scatter\"},{\"hoverinfo\":\"none\",\"marker\":{\"color\":\"#CBB67C\"},\"mode\":\"markers\",\"name\":\"football\",\"x\":[95.9],\"y\":[23.76],\"type\":\"scatter\"}],\"name\":\"11\"},{\"data\":[{\"hoverinfo\":\"none\",\"mode\":\"text\",\"showlegend\":false,\"text\":[\"10\",\"20\",\"30\",\"40\",\"50\",\"40\",\"30\",\"20\",\"10\"],\"textfont\":{\"color\":\"#ffffff\",\"family\":\"Courier New, monospace\",\"size\":30},\"x\":[20,30,40,50,60,70,80,90,100],\"y\":[5,5,5,5,5,5,5,5,5],\"type\":\"scatter\"},{\"hoverinfo\":\"none\",\"mode\":\"text\",\"showlegend\":false,\"text\":[\"10\",\"20\",\"30\",\"40\",\"50\",\"40\",\"30\",\"20\",\"10\"],\"textfont\":{\"color\":\"#ffffff\",\"family\":\"Courier New, monospace\",\"size\":30},\"x\":[20,30,40,50,60,70,80,90,100],\"y\":[48.5,48.5,48.5,48.5,48.5,48.5,48.5,48.5,48.5],\"type\":\"scatter\"},{\"hoverinfo\":\"none\",\"line\":{\"color\":\"blue\",\"dash\":\"dash\"},\"showlegend\":false,\"x\":[92.0,92.0],\"y\":[0,53.5],\"type\":\"scatter\"},{\"hoverinfo\":\"none\",\"line\":{\"color\":\"yellow\",\"dash\":\"dash\"},\"showlegend\":false,\"x\":[102.0,102.0],\"y\":[0,53.5],\"type\":\"scatter\"},{\"hoverinfo\":\"text\",\"hovertext\":[\"nflId:29851.0<br>displayName:Aaron Rodgers<br>Position:QB<br>Role:Pass\",\"nflId:41282.0<br>displayName:Davante Adams<br>Position:SRoWR<br>Role:Pass Route\",\"nflId:41296.0<br>displayName:Billy Turner<br>Position:RT<br>Role:Pass Block\",\"nflId:45635.0<br>displayName:Robert Tonyan<br>Position:LWR<br>Role:Pass Route\",\"nflId:46705.0<br>displayName:Allen Lazard<br>Position:SLWR<br>Role:Pass Route\",\"nflId:47827.0<br>displayName:Elgton Jenkins<br>Position:LT<br>Role:Pass Block\",\"nflId:52470.0<br>displayName:A.J. Dillon<br>Position:RWR<br>Role:Pass Route\",\"nflId:52600.0<br>displayName:Jon Runyan<br>Position:LG<br>Role:Pass Block\",\"nflId:53172.0<br>displayName:Dominique Dafney<br>Position:SRiWR<br>Role:Pass Route\",\"nflId:53491.0<br>displayName:Josh Myers<br>Position:C<br>Role:Pass Block\",\"nflId:53571.0<br>displayName:Royce Newman<br>Position:RG<br>Role:Pass Block\"],\"marker\":{\"color\":\"#203731\"},\"mode\":\"markers\",\"name\":\"GB\",\"x\":[97.18,93.2,94.55,93.65,92.52,94.15,93.36,93.9,92.36,93.68,94.18],\"y\":[23.71,35.85,27.47,7.59,14.91,20.08,43.5,21.6,30.97,23.76,25.92],\"type\":\"scatter\"},{\"hoverinfo\":\"text\",\"hovertext\":[\"nflId:38544.0<br>displayName:Michael Brockers<br>Position:REO<br>Role:Pass Rush\",\"nflId:40000.0<br>displayName:Jamie Collins<br>Position:LLB<br>Role:Coverage\",\"nflId:40171.0<br>displayName:Nicholas Williams<br>Position:NT<br>Role:Pass Rush\",\"nflId:42444.0<br>displayName:Trey Flowers<br>Position:RLB<br>Role:Coverage\",\"nflId:43775.0<br>displayName:Romeo Okwara<br>Position:LEO<br>Role:Pass Rush\",\"nflId:44888.0<br>displayName:Alex Anzalone<br>Position:SCBR<br>Role:Coverage\",\"nflId:46151.0<br>displayName:Tracy Walker<br>Position:FSL<br>Role:Coverage\",\"nflId:47864.0<br>displayName:Will Harris<br>Position:FSR<br>Role:Coverage\",\"nflId:47929.0<br>displayName:Amani Oruwariye<br>Position:RCB<br>Role:Coverage\",\"nflId:53530.0<br>displayName:Ifeatu Melifonwu<br>Position:LCB<br>Role:Coverage\",\"nflId:53957.0<br>displayName:A.J. Parker<br>Position:SCBoL<br>Role:Coverage\"],\"marker\":{\"color\":\"#0076B6\"},\"mode\":\"markers\",\"name\":\"DET\",\"x\":[92.11,87.01,92.31,88.9,92.97,87.04,74.39,75.1,90.88,89.66,87.43],\"y\":[18.71,28.18,24.02,18.5,29.11,14.53,34.42,15.05,7.25,44.12,34.92],\"type\":\"scatter\"},{\"hoverinfo\":\"none\",\"marker\":{\"color\":\"#CBB67C\"},\"mode\":\"markers\",\"name\":\"football\",\"x\":[96.42],\"y\":[23.78],\"type\":\"scatter\"}],\"name\":\"12\"},{\"data\":[{\"hoverinfo\":\"none\",\"mode\":\"text\",\"showlegend\":false,\"text\":[\"10\",\"20\",\"30\",\"40\",\"50\",\"40\",\"30\",\"20\",\"10\"],\"textfont\":{\"color\":\"#ffffff\",\"family\":\"Courier New, monospace\",\"size\":30},\"x\":[20,30,40,50,60,70,80,90,100],\"y\":[5,5,5,5,5,5,5,5,5],\"type\":\"scatter\"},{\"hoverinfo\":\"none\",\"mode\":\"text\",\"showlegend\":false,\"text\":[\"10\",\"20\",\"30\",\"40\",\"50\",\"40\",\"30\",\"20\",\"10\"],\"textfont\":{\"color\":\"#ffffff\",\"family\":\"Courier New, monospace\",\"size\":30},\"x\":[20,30,40,50,60,70,80,90,100],\"y\":[48.5,48.5,48.5,48.5,48.5,48.5,48.5,48.5,48.5],\"type\":\"scatter\"},{\"hoverinfo\":\"none\",\"line\":{\"color\":\"blue\",\"dash\":\"dash\"},\"showlegend\":false,\"x\":[92.0,92.0],\"y\":[0,53.5],\"type\":\"scatter\"},{\"hoverinfo\":\"none\",\"line\":{\"color\":\"yellow\",\"dash\":\"dash\"},\"showlegend\":false,\"x\":[102.0,102.0],\"y\":[0,53.5],\"type\":\"scatter\"},{\"hoverinfo\":\"text\",\"hovertext\":[\"nflId:29851.0<br>displayName:Aaron Rodgers<br>Position:QB<br>Role:Pass\",\"nflId:41282.0<br>displayName:Davante Adams<br>Position:SRoWR<br>Role:Pass Route\",\"nflId:41296.0<br>displayName:Billy Turner<br>Position:RT<br>Role:Pass Block\",\"nflId:45635.0<br>displayName:Robert Tonyan<br>Position:LWR<br>Role:Pass Route\",\"nflId:46705.0<br>displayName:Allen Lazard<br>Position:SLWR<br>Role:Pass Route\",\"nflId:47827.0<br>displayName:Elgton Jenkins<br>Position:LT<br>Role:Pass Block\",\"nflId:52470.0<br>displayName:A.J. Dillon<br>Position:RWR<br>Role:Pass Route\",\"nflId:52600.0<br>displayName:Jon Runyan<br>Position:LG<br>Role:Pass Block\",\"nflId:53172.0<br>displayName:Dominique Dafney<br>Position:SRiWR<br>Role:Pass Route\",\"nflId:53491.0<br>displayName:Josh Myers<br>Position:C<br>Role:Pass Block\",\"nflId:53571.0<br>displayName:Royce Newman<br>Position:RG<br>Role:Pass Block\"],\"marker\":{\"color\":\"#203731\"},\"mode\":\"markers\",\"name\":\"GB\",\"x\":[97.28,92.94,94.74,93.47,92.28,94.31,93.11,94.06,92.14,93.89,94.35],\"y\":[23.73,35.86,27.6,7.48,14.87,19.99,43.5,21.57,30.94,23.78,26.03],\"type\":\"scatter\"},{\"hoverinfo\":\"text\",\"hovertext\":[\"nflId:38544.0<br>displayName:Michael Brockers<br>Position:REO<br>Role:Pass Rush\",\"nflId:40000.0<br>displayName:Jamie Collins<br>Position:LLB<br>Role:Coverage\",\"nflId:40171.0<br>displayName:Nicholas Williams<br>Position:NT<br>Role:Pass Rush\",\"nflId:42444.0<br>displayName:Trey Flowers<br>Position:RLB<br>Role:Coverage\",\"nflId:43775.0<br>displayName:Romeo Okwara<br>Position:LEO<br>Role:Pass Rush\",\"nflId:44888.0<br>displayName:Alex Anzalone<br>Position:SCBR<br>Role:Coverage\",\"nflId:46151.0<br>displayName:Tracy Walker<br>Position:FSL<br>Role:Coverage\",\"nflId:47864.0<br>displayName:Will Harris<br>Position:FSR<br>Role:Coverage\",\"nflId:47929.0<br>displayName:Amani Oruwariye<br>Position:RCB<br>Role:Coverage\",\"nflId:53530.0<br>displayName:Ifeatu Melifonwu<br>Position:LCB<br>Role:Coverage\",\"nflId:53957.0<br>displayName:A.J. Parker<br>Position:SCBoL<br>Role:Coverage\"],\"marker\":{\"color\":\"#0076B6\"},\"mode\":\"markers\",\"name\":\"DET\",\"x\":[92.41,86.98,92.57,88.87,93.28,87.04,74.11,75.08,90.86,89.64,87.07],\"y\":[18.68,28.19,24.1,18.53,29.08,14.52,34.56,15.05,7.21,44.12,34.82],\"type\":\"scatter\"},{\"hoverinfo\":\"none\",\"marker\":{\"color\":\"#CBB67C\"},\"mode\":\"markers\",\"name\":\"football\",\"x\":[96.92],\"y\":[23.81],\"type\":\"scatter\"}],\"name\":\"13\"},{\"data\":[{\"hoverinfo\":\"none\",\"mode\":\"text\",\"showlegend\":false,\"text\":[\"10\",\"20\",\"30\",\"40\",\"50\",\"40\",\"30\",\"20\",\"10\"],\"textfont\":{\"color\":\"#ffffff\",\"family\":\"Courier New, monospace\",\"size\":30},\"x\":[20,30,40,50,60,70,80,90,100],\"y\":[5,5,5,5,5,5,5,5,5],\"type\":\"scatter\"},{\"hoverinfo\":\"none\",\"mode\":\"text\",\"showlegend\":false,\"text\":[\"10\",\"20\",\"30\",\"40\",\"50\",\"40\",\"30\",\"20\",\"10\"],\"textfont\":{\"color\":\"#ffffff\",\"family\":\"Courier New, monospace\",\"size\":30},\"x\":[20,30,40,50,60,70,80,90,100],\"y\":[48.5,48.5,48.5,48.5,48.5,48.5,48.5,48.5,48.5],\"type\":\"scatter\"},{\"hoverinfo\":\"none\",\"line\":{\"color\":\"blue\",\"dash\":\"dash\"},\"showlegend\":false,\"x\":[92.0,92.0],\"y\":[0,53.5],\"type\":\"scatter\"},{\"hoverinfo\":\"none\",\"line\":{\"color\":\"yellow\",\"dash\":\"dash\"},\"showlegend\":false,\"x\":[102.0,102.0],\"y\":[0,53.5],\"type\":\"scatter\"},{\"hoverinfo\":\"text\",\"hovertext\":[\"nflId:29851.0<br>displayName:Aaron Rodgers<br>Position:QB<br>Role:Pass\",\"nflId:41282.0<br>displayName:Davante Adams<br>Position:SRoWR<br>Role:Pass Route\",\"nflId:41296.0<br>displayName:Billy Turner<br>Position:RT<br>Role:Pass Block\",\"nflId:45635.0<br>displayName:Robert Tonyan<br>Position:LWR<br>Role:Pass Route\",\"nflId:46705.0<br>displayName:Allen Lazard<br>Position:SLWR<br>Role:Pass Route\",\"nflId:47827.0<br>displayName:Elgton Jenkins<br>Position:LT<br>Role:Pass Block\",\"nflId:52470.0<br>displayName:A.J. Dillon<br>Position:RWR<br>Role:Pass Route\",\"nflId:52600.0<br>displayName:Jon Runyan<br>Position:LG<br>Role:Pass Block\",\"nflId:53172.0<br>displayName:Dominique Dafney<br>Position:SRiWR<br>Role:Pass Route\",\"nflId:53491.0<br>displayName:Josh Myers<br>Position:C<br>Role:Pass Block\",\"nflId:53571.0<br>displayName:Royce Newman<br>Position:RG<br>Role:Pass Block\"],\"marker\":{\"color\":\"#203731\"},\"mode\":\"markers\",\"name\":\"GB\",\"x\":[97.4,92.63,94.95,93.27,91.98,94.49,92.84,94.23,91.85,94.12,94.56],\"y\":[23.77,35.87,27.72,7.33,14.8,19.89,43.5,21.55,30.9,23.79,26.12],\"type\":\"scatter\"},{\"hoverinfo\":\"text\",\"hovertext\":[\"nflId:38544.0<br>displayName:Michael Brockers<br>Position:REO<br>Role:Pass Rush\",\"nflId:40000.0<br>displayName:Jamie Collins<br>Position:LLB<br>Role:Coverage\",\"nflId:40171.0<br>displayName:Nicholas Williams<br>Position:NT<br>Role:Pass Rush\",\"nflId:42444.0<br>displayName:Trey Flowers<br>Position:RLB<br>Role:Coverage\",\"nflId:43775.0<br>displayName:Romeo Okwara<br>Position:LEO<br>Role:Pass Rush\",\"nflId:44888.0<br>displayName:Alex Anzalone<br>Position:SCBR<br>Role:Coverage\",\"nflId:46151.0<br>displayName:Tracy Walker<br>Position:FSL<br>Role:Coverage\",\"nflId:47864.0<br>displayName:Will Harris<br>Position:FSR<br>Role:Coverage\",\"nflId:47929.0<br>displayName:Amani Oruwariye<br>Position:RCB<br>Role:Coverage\",\"nflId:53530.0<br>displayName:Ifeatu Melifonwu<br>Position:LCB<br>Role:Coverage\",\"nflId:53957.0<br>displayName:A.J. Parker<br>Position:SCBoL<br>Role:Coverage\"],\"marker\":{\"color\":\"#0076B6\"},\"mode\":\"markers\",\"name\":\"DET\",\"x\":[92.73,86.92,92.85,88.82,93.63,87.04,73.82,75.05,90.83,89.63,86.69],\"y\":[18.65,28.21,24.18,18.56,29.06,14.48,34.71,15.05,7.17,44.12,34.73],\"type\":\"scatter\"},{\"hoverinfo\":\"none\",\"marker\":{\"color\":\"#CBB67C\"},\"mode\":\"markers\",\"name\":\"football\",\"x\":[97.33],\"y\":[23.85],\"type\":\"scatter\"}],\"name\":\"14\"},{\"data\":[{\"hoverinfo\":\"none\",\"mode\":\"text\",\"showlegend\":false,\"text\":[\"10\",\"20\",\"30\",\"40\",\"50\",\"40\",\"30\",\"20\",\"10\"],\"textfont\":{\"color\":\"#ffffff\",\"family\":\"Courier New, monospace\",\"size\":30},\"x\":[20,30,40,50,60,70,80,90,100],\"y\":[5,5,5,5,5,5,5,5,5],\"type\":\"scatter\"},{\"hoverinfo\":\"none\",\"mode\":\"text\",\"showlegend\":false,\"text\":[\"10\",\"20\",\"30\",\"40\",\"50\",\"40\",\"30\",\"20\",\"10\"],\"textfont\":{\"color\":\"#ffffff\",\"family\":\"Courier New, monospace\",\"size\":30},\"x\":[20,30,40,50,60,70,80,90,100],\"y\":[48.5,48.5,48.5,48.5,48.5,48.5,48.5,48.5,48.5],\"type\":\"scatter\"},{\"hoverinfo\":\"none\",\"line\":{\"color\":\"blue\",\"dash\":\"dash\"},\"showlegend\":false,\"x\":[92.0,92.0],\"y\":[0,53.5],\"type\":\"scatter\"},{\"hoverinfo\":\"none\",\"line\":{\"color\":\"yellow\",\"dash\":\"dash\"},\"showlegend\":false,\"x\":[102.0,102.0],\"y\":[0,53.5],\"type\":\"scatter\"},{\"hoverinfo\":\"text\",\"hovertext\":[\"nflId:29851.0<br>displayName:Aaron Rodgers<br>Position:QB<br>Role:Pass\",\"nflId:41282.0<br>displayName:Davante Adams<br>Position:SRoWR<br>Role:Pass Route\",\"nflId:41296.0<br>displayName:Billy Turner<br>Position:RT<br>Role:Pass Block\",\"nflId:45635.0<br>displayName:Robert Tonyan<br>Position:LWR<br>Role:Pass Route\",\"nflId:46705.0<br>displayName:Allen Lazard<br>Position:SLWR<br>Role:Pass Route\",\"nflId:47827.0<br>displayName:Elgton Jenkins<br>Position:LT<br>Role:Pass Block\",\"nflId:52470.0<br>displayName:A.J. Dillon<br>Position:RWR<br>Role:Pass Route\",\"nflId:52600.0<br>displayName:Jon Runyan<br>Position:LG<br>Role:Pass Block\",\"nflId:53172.0<br>displayName:Dominique Dafney<br>Position:SRiWR<br>Role:Pass Route\",\"nflId:53491.0<br>displayName:Josh Myers<br>Position:C<br>Role:Pass Block\",\"nflId:53571.0<br>displayName:Royce Newman<br>Position:RG<br>Role:Pass Block\"],\"marker\":{\"color\":\"#203731\"},\"mode\":\"markers\",\"name\":\"GB\",\"x\":[97.53,92.27,95.2,93.04,91.64,94.72,92.51,94.41,91.54,94.35,94.76],\"y\":[23.8,35.89,27.84,7.14,14.74,19.79,43.51,21.52,30.86,23.81,26.22],\"type\":\"scatter\"},{\"hoverinfo\":\"text\",\"hovertext\":[\"nflId:38544.0<br>displayName:Michael Brockers<br>Position:REO<br>Role:Pass Rush\",\"nflId:40000.0<br>displayName:Jamie Collins<br>Position:LLB<br>Role:Coverage\",\"nflId:40171.0<br>displayName:Nicholas Williams<br>Position:NT<br>Role:Pass Rush\",\"nflId:42444.0<br>displayName:Trey Flowers<br>Position:RLB<br>Role:Coverage\",\"nflId:43775.0<br>displayName:Romeo Okwara<br>Position:LEO<br>Role:Pass Rush\",\"nflId:44888.0<br>displayName:Alex Anzalone<br>Position:SCBR<br>Role:Coverage\",\"nflId:46151.0<br>displayName:Tracy Walker<br>Position:FSL<br>Role:Coverage\",\"nflId:47864.0<br>displayName:Will Harris<br>Position:FSR<br>Role:Coverage\",\"nflId:47929.0<br>displayName:Amani Oruwariye<br>Position:RCB<br>Role:Coverage\",\"nflId:53530.0<br>displayName:Ifeatu Melifonwu<br>Position:LCB<br>Role:Coverage\",\"nflId:53957.0<br>displayName:A.J. Parker<br>Position:SCBoL<br>Role:Coverage\"],\"marker\":{\"color\":\"#0076B6\"},\"mode\":\"markers\",\"name\":\"DET\",\"x\":[93.07,86.81,93.12,88.75,94.02,87.04,73.5,75.0,90.78,89.6,86.31],\"y\":[18.64,28.25,24.26,18.59,29.04,14.41,34.87,15.05,7.09,44.12,34.67],\"type\":\"scatter\"},{\"hoverinfo\":\"none\",\"marker\":{\"color\":\"#CBB67C\"},\"mode\":\"markers\",\"name\":\"football\",\"x\":[97.69],\"y\":[23.93],\"type\":\"scatter\"}],\"name\":\"15\"},{\"data\":[{\"hoverinfo\":\"none\",\"mode\":\"text\",\"showlegend\":false,\"text\":[\"10\",\"20\",\"30\",\"40\",\"50\",\"40\",\"30\",\"20\",\"10\"],\"textfont\":{\"color\":\"#ffffff\",\"family\":\"Courier New, monospace\",\"size\":30},\"x\":[20,30,40,50,60,70,80,90,100],\"y\":[5,5,5,5,5,5,5,5,5],\"type\":\"scatter\"},{\"hoverinfo\":\"none\",\"mode\":\"text\",\"showlegend\":false,\"text\":[\"10\",\"20\",\"30\",\"40\",\"50\",\"40\",\"30\",\"20\",\"10\"],\"textfont\":{\"color\":\"#ffffff\",\"family\":\"Courier New, monospace\",\"size\":30},\"x\":[20,30,40,50,60,70,80,90,100],\"y\":[48.5,48.5,48.5,48.5,48.5,48.5,48.5,48.5,48.5],\"type\":\"scatter\"},{\"hoverinfo\":\"none\",\"line\":{\"color\":\"blue\",\"dash\":\"dash\"},\"showlegend\":false,\"x\":[92.0,92.0],\"y\":[0,53.5],\"type\":\"scatter\"},{\"hoverinfo\":\"none\",\"line\":{\"color\":\"yellow\",\"dash\":\"dash\"},\"showlegend\":false,\"x\":[102.0,102.0],\"y\":[0,53.5],\"type\":\"scatter\"},{\"hoverinfo\":\"text\",\"hovertext\":[\"nflId:29851.0<br>displayName:Aaron Rodgers<br>Position:QB<br>Role:Pass\",\"nflId:41282.0<br>displayName:Davante Adams<br>Position:SRoWR<br>Role:Pass Route\",\"nflId:41296.0<br>displayName:Billy Turner<br>Position:RT<br>Role:Pass Block\",\"nflId:45635.0<br>displayName:Robert Tonyan<br>Position:LWR<br>Role:Pass Route\",\"nflId:46705.0<br>displayName:Allen Lazard<br>Position:SLWR<br>Role:Pass Route\",\"nflId:47827.0<br>displayName:Elgton Jenkins<br>Position:LT<br>Role:Pass Block\",\"nflId:52470.0<br>displayName:A.J. Dillon<br>Position:RWR<br>Role:Pass Route\",\"nflId:52600.0<br>displayName:Jon Runyan<br>Position:LG<br>Role:Pass Block\",\"nflId:53172.0<br>displayName:Dominique Dafney<br>Position:SRiWR<br>Role:Pass Route\",\"nflId:53491.0<br>displayName:Josh Myers<br>Position:C<br>Role:Pass Block\",\"nflId:53571.0<br>displayName:Royce Newman<br>Position:RG<br>Role:Pass Block\"],\"marker\":{\"color\":\"#203731\"},\"mode\":\"markers\",\"name\":\"GB\",\"x\":[97.68,91.86,95.46,92.78,91.27,94.97,92.12,94.61,91.18,94.59,94.99],\"y\":[23.84,35.9,27.95,6.91,14.66,19.68,43.52,21.51,30.83,23.82,26.32],\"type\":\"scatter\"},{\"hoverinfo\":\"text\",\"hovertext\":[\"nflId:38544.0<br>displayName:Michael Brockers<br>Position:REO<br>Role:Pass Rush\",\"nflId:40000.0<br>displayName:Jamie Collins<br>Position:LLB<br>Role:Coverage\",\"nflId:40171.0<br>displayName:Nicholas Williams<br>Position:NT<br>Role:Pass Rush\",\"nflId:42444.0<br>displayName:Trey Flowers<br>Position:RLB<br>Role:Coverage\",\"nflId:43775.0<br>displayName:Romeo Okwara<br>Position:LEO<br>Role:Pass Rush\",\"nflId:44888.0<br>displayName:Alex Anzalone<br>Position:SCBR<br>Role:Coverage\",\"nflId:46151.0<br>displayName:Tracy Walker<br>Position:FSL<br>Role:Coverage\",\"nflId:47864.0<br>displayName:Will Harris<br>Position:FSR<br>Role:Coverage\",\"nflId:47929.0<br>displayName:Amani Oruwariye<br>Position:RCB<br>Role:Coverage\",\"nflId:53530.0<br>displayName:Ifeatu Melifonwu<br>Position:LCB<br>Role:Coverage\",\"nflId:53957.0<br>displayName:A.J. Parker<br>Position:SCBoL<br>Role:Coverage\"],\"marker\":{\"color\":\"#0076B6\"},\"mode\":\"markers\",\"name\":\"DET\",\"x\":[93.41,86.65,93.4,88.65,94.44,87.03,73.16,74.93,90.69,89.56,85.93],\"y\":[18.62,28.29,24.37,18.59,29.03,14.31,35.04,15.04,6.98,44.12,34.63],\"type\":\"scatter\"},{\"hoverinfo\":\"none\",\"marker\":{\"color\":\"#CBB67C\"},\"mode\":\"markers\",\"name\":\"football\",\"x\":[98.04],\"y\":[23.98],\"type\":\"scatter\"}],\"name\":\"16\"},{\"data\":[{\"hoverinfo\":\"none\",\"mode\":\"text\",\"showlegend\":false,\"text\":[\"10\",\"20\",\"30\",\"40\",\"50\",\"40\",\"30\",\"20\",\"10\"],\"textfont\":{\"color\":\"#ffffff\",\"family\":\"Courier New, monospace\",\"size\":30},\"x\":[20,30,40,50,60,70,80,90,100],\"y\":[5,5,5,5,5,5,5,5,5],\"type\":\"scatter\"},{\"hoverinfo\":\"none\",\"mode\":\"text\",\"showlegend\":false,\"text\":[\"10\",\"20\",\"30\",\"40\",\"50\",\"40\",\"30\",\"20\",\"10\"],\"textfont\":{\"color\":\"#ffffff\",\"family\":\"Courier New, monospace\",\"size\":30},\"x\":[20,30,40,50,60,70,80,90,100],\"y\":[48.5,48.5,48.5,48.5,48.5,48.5,48.5,48.5,48.5],\"type\":\"scatter\"},{\"hoverinfo\":\"none\",\"line\":{\"color\":\"blue\",\"dash\":\"dash\"},\"showlegend\":false,\"x\":[92.0,92.0],\"y\":[0,53.5],\"type\":\"scatter\"},{\"hoverinfo\":\"none\",\"line\":{\"color\":\"yellow\",\"dash\":\"dash\"},\"showlegend\":false,\"x\":[102.0,102.0],\"y\":[0,53.5],\"type\":\"scatter\"},{\"hoverinfo\":\"text\",\"hovertext\":[\"nflId:29851.0<br>displayName:Aaron Rodgers<br>Position:QB<br>Role:Pass\",\"nflId:41282.0<br>displayName:Davante Adams<br>Position:SRoWR<br>Role:Pass Route\",\"nflId:41296.0<br>displayName:Billy Turner<br>Position:RT<br>Role:Pass Block\",\"nflId:45635.0<br>displayName:Robert Tonyan<br>Position:LWR<br>Role:Pass Route\",\"nflId:46705.0<br>displayName:Allen Lazard<br>Position:SLWR<br>Role:Pass Route\",\"nflId:47827.0<br>displayName:Elgton Jenkins<br>Position:LT<br>Role:Pass Block\",\"nflId:52470.0<br>displayName:A.J. Dillon<br>Position:RWR<br>Role:Pass Route\",\"nflId:52600.0<br>displayName:Jon Runyan<br>Position:LG<br>Role:Pass Block\",\"nflId:53172.0<br>displayName:Dominique Dafney<br>Position:SRiWR<br>Role:Pass Route\",\"nflId:53491.0<br>displayName:Josh Myers<br>Position:C<br>Role:Pass Block\",\"nflId:53571.0<br>displayName:Royce Newman<br>Position:RG<br>Role:Pass Block\"],\"marker\":{\"color\":\"#203731\"},\"mode\":\"markers\",\"name\":\"GB\",\"x\":[97.82,91.43,95.74,92.5,90.88,95.24,91.69,94.81,90.79,94.84,95.23],\"y\":[23.89,35.92,28.05,6.65,14.59,19.6,43.52,21.49,30.79,23.84,26.43],\"type\":\"scatter\"},{\"hoverinfo\":\"text\",\"hovertext\":[\"nflId:38544.0<br>displayName:Michael Brockers<br>Position:REO<br>Role:Pass Rush\",\"nflId:40000.0<br>displayName:Jamie Collins<br>Position:LLB<br>Role:Coverage\",\"nflId:40171.0<br>displayName:Nicholas Williams<br>Position:NT<br>Role:Pass Rush\",\"nflId:42444.0<br>displayName:Trey Flowers<br>Position:RLB<br>Role:Coverage\",\"nflId:43775.0<br>displayName:Romeo Okwara<br>Position:LEO<br>Role:Pass Rush\",\"nflId:44888.0<br>displayName:Alex Anzalone<br>Position:SCBR<br>Role:Coverage\",\"nflId:46151.0<br>displayName:Tracy Walker<br>Position:FSL<br>Role:Coverage\",\"nflId:47864.0<br>displayName:Will Harris<br>Position:FSR<br>Role:Coverage\",\"nflId:47929.0<br>displayName:Amani Oruwariye<br>Position:RCB<br>Role:Coverage\",\"nflId:53530.0<br>displayName:Ifeatu Melifonwu<br>Position:LCB<br>Role:Coverage\",\"nflId:53957.0<br>displayName:A.J. Parker<br>Position:SCBoL<br>Role:Coverage\"],\"marker\":{\"color\":\"#0076B6\"},\"mode\":\"markers\",\"name\":\"DET\",\"x\":[93.77,86.46,93.68,88.53,94.9,87.0,72.81,74.83,90.56,89.47,85.56],\"y\":[18.64,28.35,24.47,18.6,29.02,14.19,35.21,15.03,6.83,44.11,34.62],\"type\":\"scatter\"},{\"hoverinfo\":\"none\",\"marker\":{\"color\":\"#CBB67C\"},\"mode\":\"markers\",\"name\":\"football\",\"x\":[98.35],\"y\":[24.01],\"type\":\"scatter\"}],\"name\":\"17\"},{\"data\":[{\"hoverinfo\":\"none\",\"mode\":\"text\",\"showlegend\":false,\"text\":[\"10\",\"20\",\"30\",\"40\",\"50\",\"40\",\"30\",\"20\",\"10\"],\"textfont\":{\"color\":\"#ffffff\",\"family\":\"Courier New, monospace\",\"size\":30},\"x\":[20,30,40,50,60,70,80,90,100],\"y\":[5,5,5,5,5,5,5,5,5],\"type\":\"scatter\"},{\"hoverinfo\":\"none\",\"mode\":\"text\",\"showlegend\":false,\"text\":[\"10\",\"20\",\"30\",\"40\",\"50\",\"40\",\"30\",\"20\",\"10\"],\"textfont\":{\"color\":\"#ffffff\",\"family\":\"Courier New, monospace\",\"size\":30},\"x\":[20,30,40,50,60,70,80,90,100],\"y\":[48.5,48.5,48.5,48.5,48.5,48.5,48.5,48.5,48.5],\"type\":\"scatter\"},{\"hoverinfo\":\"none\",\"line\":{\"color\":\"blue\",\"dash\":\"dash\"},\"showlegend\":false,\"x\":[92.0,92.0],\"y\":[0,53.5],\"type\":\"scatter\"},{\"hoverinfo\":\"none\",\"line\":{\"color\":\"yellow\",\"dash\":\"dash\"},\"showlegend\":false,\"x\":[102.0,102.0],\"y\":[0,53.5],\"type\":\"scatter\"},{\"hoverinfo\":\"text\",\"hovertext\":[\"nflId:29851.0<br>displayName:Aaron Rodgers<br>Position:QB<br>Role:Pass\",\"nflId:41282.0<br>displayName:Davante Adams<br>Position:SRoWR<br>Role:Pass Route\",\"nflId:41296.0<br>displayName:Billy Turner<br>Position:RT<br>Role:Pass Block\",\"nflId:45635.0<br>displayName:Robert Tonyan<br>Position:LWR<br>Role:Pass Route\",\"nflId:46705.0<br>displayName:Allen Lazard<br>Position:SLWR<br>Role:Pass Route\",\"nflId:47827.0<br>displayName:Elgton Jenkins<br>Position:LT<br>Role:Pass Block\",\"nflId:52470.0<br>displayName:A.J. Dillon<br>Position:RWR<br>Role:Pass Route\",\"nflId:52600.0<br>displayName:Jon Runyan<br>Position:LG<br>Role:Pass Block\",\"nflId:53172.0<br>displayName:Dominique Dafney<br>Position:SRiWR<br>Role:Pass Route\",\"nflId:53491.0<br>displayName:Josh Myers<br>Position:C<br>Role:Pass Block\",\"nflId:53571.0<br>displayName:Royce Newman<br>Position:RG<br>Role:Pass Block\"],\"marker\":{\"color\":\"#203731\"},\"mode\":\"markers\",\"name\":\"GB\",\"x\":[97.96,90.97,96.05,92.19,90.48,95.49,91.23,95.03,90.37,95.09,95.51],\"y\":[23.94,35.96,28.13,6.35,14.51,19.53,43.52,21.47,30.76,23.86,26.55],\"type\":\"scatter\"},{\"hoverinfo\":\"text\",\"hovertext\":[\"nflId:38544.0<br>displayName:Michael Brockers<br>Position:REO<br>Role:Pass Rush\",\"nflId:40000.0<br>displayName:Jamie Collins<br>Position:LLB<br>Role:Coverage\",\"nflId:40171.0<br>displayName:Nicholas Williams<br>Position:NT<br>Role:Pass Rush\",\"nflId:42444.0<br>displayName:Trey Flowers<br>Position:RLB<br>Role:Coverage\",\"nflId:43775.0<br>displayName:Romeo Okwara<br>Position:LEO<br>Role:Pass Rush\",\"nflId:44888.0<br>displayName:Alex Anzalone<br>Position:SCBR<br>Role:Coverage\",\"nflId:46151.0<br>displayName:Tracy Walker<br>Position:FSL<br>Role:Coverage\",\"nflId:47864.0<br>displayName:Will Harris<br>Position:FSR<br>Role:Coverage\",\"nflId:47929.0<br>displayName:Amani Oruwariye<br>Position:RCB<br>Role:Coverage\",\"nflId:53530.0<br>displayName:Ifeatu Melifonwu<br>Position:LCB<br>Role:Coverage\",\"nflId:53957.0<br>displayName:A.J. Parker<br>Position:SCBoL<br>Role:Coverage\"],\"marker\":{\"color\":\"#0076B6\"},\"mode\":\"markers\",\"name\":\"DET\",\"x\":[94.13,86.23,93.96,88.4,95.36,86.97,72.45,74.71,90.37,89.34,85.22],\"y\":[18.67,28.41,24.57,18.6,29.02,14.07,35.38,15.02,6.63,44.09,34.65],\"type\":\"scatter\"},{\"hoverinfo\":\"none\",\"marker\":{\"color\":\"#CBB67C\"},\"mode\":\"markers\",\"name\":\"football\",\"x\":[98.59],\"y\":[24.05],\"type\":\"scatter\"}],\"name\":\"18\"},{\"data\":[{\"hoverinfo\":\"none\",\"mode\":\"text\",\"showlegend\":false,\"text\":[\"10\",\"20\",\"30\",\"40\",\"50\",\"40\",\"30\",\"20\",\"10\"],\"textfont\":{\"color\":\"#ffffff\",\"family\":\"Courier New, monospace\",\"size\":30},\"x\":[20,30,40,50,60,70,80,90,100],\"y\":[5,5,5,5,5,5,5,5,5],\"type\":\"scatter\"},{\"hoverinfo\":\"none\",\"mode\":\"text\",\"showlegend\":false,\"text\":[\"10\",\"20\",\"30\",\"40\",\"50\",\"40\",\"30\",\"20\",\"10\"],\"textfont\":{\"color\":\"#ffffff\",\"family\":\"Courier New, monospace\",\"size\":30},\"x\":[20,30,40,50,60,70,80,90,100],\"y\":[48.5,48.5,48.5,48.5,48.5,48.5,48.5,48.5,48.5],\"type\":\"scatter\"},{\"hoverinfo\":\"none\",\"line\":{\"color\":\"blue\",\"dash\":\"dash\"},\"showlegend\":false,\"x\":[92.0,92.0],\"y\":[0,53.5],\"type\":\"scatter\"},{\"hoverinfo\":\"none\",\"line\":{\"color\":\"yellow\",\"dash\":\"dash\"},\"showlegend\":false,\"x\":[102.0,102.0],\"y\":[0,53.5],\"type\":\"scatter\"},{\"hoverinfo\":\"text\",\"hovertext\":[\"nflId:29851.0<br>displayName:Aaron Rodgers<br>Position:QB<br>Role:Pass\",\"nflId:41282.0<br>displayName:Davante Adams<br>Position:SRoWR<br>Role:Pass Route\",\"nflId:41296.0<br>displayName:Billy Turner<br>Position:RT<br>Role:Pass Block\",\"nflId:45635.0<br>displayName:Robert Tonyan<br>Position:LWR<br>Role:Pass Route\",\"nflId:46705.0<br>displayName:Allen Lazard<br>Position:SLWR<br>Role:Pass Route\",\"nflId:47827.0<br>displayName:Elgton Jenkins<br>Position:LT<br>Role:Pass Block\",\"nflId:52470.0<br>displayName:A.J. Dillon<br>Position:RWR<br>Role:Pass Route\",\"nflId:52600.0<br>displayName:Jon Runyan<br>Position:LG<br>Role:Pass Block\",\"nflId:53172.0<br>displayName:Dominique Dafney<br>Position:SRiWR<br>Role:Pass Route\",\"nflId:53491.0<br>displayName:Josh Myers<br>Position:C<br>Role:Pass Block\",\"nflId:53571.0<br>displayName:Royce Newman<br>Position:RG<br>Role:Pass Block\"],\"marker\":{\"color\":\"#203731\"},\"mode\":\"markers\",\"name\":\"GB\",\"x\":[98.09,90.51,96.37,91.86,90.1,95.77,90.75,95.23,89.94,95.34,95.79],\"y\":[23.98,36.01,28.19,6.02,14.45,19.49,43.52,21.45,30.73,23.91,26.68],\"type\":\"scatter\"},{\"hoverinfo\":\"text\",\"hovertext\":[\"nflId:38544.0<br>displayName:Michael Brockers<br>Position:REO<br>Role:Pass Rush\",\"nflId:40000.0<br>displayName:Jamie Collins<br>Position:LLB<br>Role:Coverage\",\"nflId:40171.0<br>displayName:Nicholas Williams<br>Position:NT<br>Role:Pass Rush\",\"nflId:42444.0<br>displayName:Trey Flowers<br>Position:RLB<br>Role:Coverage\",\"nflId:43775.0<br>displayName:Romeo Okwara<br>Position:LEO<br>Role:Pass Rush\",\"nflId:44888.0<br>displayName:Alex Anzalone<br>Position:SCBR<br>Role:Coverage\",\"nflId:46151.0<br>displayName:Tracy Walker<br>Position:FSL<br>Role:Coverage\",\"nflId:47864.0<br>displayName:Will Harris<br>Position:FSR<br>Role:Coverage\",\"nflId:47929.0<br>displayName:Amani Oruwariye<br>Position:RCB<br>Role:Coverage\",\"nflId:53530.0<br>displayName:Ifeatu Melifonwu<br>Position:LCB<br>Role:Coverage\",\"nflId:53957.0<br>displayName:A.J. Parker<br>Position:SCBoL<br>Role:Coverage\"],\"marker\":{\"color\":\"#0076B6\"},\"mode\":\"markers\",\"name\":\"DET\",\"x\":[94.47,85.99,94.24,88.24,95.81,86.92,72.07,74.55,90.15,89.19,84.9],\"y\":[18.71,28.47,24.67,18.59,29.04,13.94,35.56,15.01,6.39,44.09,34.73],\"type\":\"scatter\"},{\"hoverinfo\":\"none\",\"marker\":{\"color\":\"#CBB67C\"},\"mode\":\"markers\",\"name\":\"football\",\"x\":[98.78],\"y\":[24.11],\"type\":\"scatter\"}],\"name\":\"19\"},{\"data\":[{\"hoverinfo\":\"none\",\"mode\":\"text\",\"showlegend\":false,\"text\":[\"10\",\"20\",\"30\",\"40\",\"50\",\"40\",\"30\",\"20\",\"10\"],\"textfont\":{\"color\":\"#ffffff\",\"family\":\"Courier New, monospace\",\"size\":30},\"x\":[20,30,40,50,60,70,80,90,100],\"y\":[5,5,5,5,5,5,5,5,5],\"type\":\"scatter\"},{\"hoverinfo\":\"none\",\"mode\":\"text\",\"showlegend\":false,\"text\":[\"10\",\"20\",\"30\",\"40\",\"50\",\"40\",\"30\",\"20\",\"10\"],\"textfont\":{\"color\":\"#ffffff\",\"family\":\"Courier New, monospace\",\"size\":30},\"x\":[20,30,40,50,60,70,80,90,100],\"y\":[48.5,48.5,48.5,48.5,48.5,48.5,48.5,48.5,48.5],\"type\":\"scatter\"},{\"hoverinfo\":\"none\",\"line\":{\"color\":\"blue\",\"dash\":\"dash\"},\"showlegend\":false,\"x\":[92.0,92.0],\"y\":[0,53.5],\"type\":\"scatter\"},{\"hoverinfo\":\"none\",\"line\":{\"color\":\"yellow\",\"dash\":\"dash\"},\"showlegend\":false,\"x\":[102.0,102.0],\"y\":[0,53.5],\"type\":\"scatter\"},{\"hoverinfo\":\"text\",\"hovertext\":[\"nflId:29851.0<br>displayName:Aaron Rodgers<br>Position:QB<br>Role:Pass\",\"nflId:41282.0<br>displayName:Davante Adams<br>Position:SRoWR<br>Role:Pass Route\",\"nflId:41296.0<br>displayName:Billy Turner<br>Position:RT<br>Role:Pass Block\",\"nflId:45635.0<br>displayName:Robert Tonyan<br>Position:LWR<br>Role:Pass Route\",\"nflId:46705.0<br>displayName:Allen Lazard<br>Position:SLWR<br>Role:Pass Route\",\"nflId:47827.0<br>displayName:Elgton Jenkins<br>Position:LT<br>Role:Pass Block\",\"nflId:52470.0<br>displayName:A.J. Dillon<br>Position:RWR<br>Role:Pass Route\",\"nflId:52600.0<br>displayName:Jon Runyan<br>Position:LG<br>Role:Pass Block\",\"nflId:53172.0<br>displayName:Dominique Dafney<br>Position:SRiWR<br>Role:Pass Route\",\"nflId:53491.0<br>displayName:Josh Myers<br>Position:C<br>Role:Pass Block\",\"nflId:53571.0<br>displayName:Royce Newman<br>Position:RG<br>Role:Pass Block\"],\"marker\":{\"color\":\"#203731\"},\"mode\":\"markers\",\"name\":\"GB\",\"x\":[98.21,90.05,96.7,91.5,89.74,96.04,90.25,95.45,89.5,95.6,96.07],\"y\":[24.03,36.09,28.24,5.66,14.41,19.47,43.51,21.41,30.71,23.97,26.8],\"type\":\"scatter\"},{\"hoverinfo\":\"text\",\"hovertext\":[\"nflId:38544.0<br>displayName:Michael Brockers<br>Position:REO<br>Role:Pass Rush\",\"nflId:40000.0<br>displayName:Jamie Collins<br>Position:LLB<br>Role:Coverage\",\"nflId:40171.0<br>displayName:Nicholas Williams<br>Position:NT<br>Role:Pass Rush\",\"nflId:42444.0<br>displayName:Trey Flowers<br>Position:RLB<br>Role:Coverage\",\"nflId:43775.0<br>displayName:Romeo Okwara<br>Position:LEO<br>Role:Pass Rush\",\"nflId:44888.0<br>displayName:Alex Anzalone<br>Position:SCBR<br>Role:Coverage\",\"nflId:46151.0<br>displayName:Tracy Walker<br>Position:FSL<br>Role:Coverage\",\"nflId:47864.0<br>displayName:Will Harris<br>Position:FSR<br>Role:Coverage\",\"nflId:47929.0<br>displayName:Amani Oruwariye<br>Position:RCB<br>Role:Coverage\",\"nflId:53530.0<br>displayName:Ifeatu Melifonwu<br>Position:LCB<br>Role:Coverage\",\"nflId:53957.0<br>displayName:A.J. Parker<br>Position:SCBoL<br>Role:Coverage\"],\"marker\":{\"color\":\"#0076B6\"},\"mode\":\"markers\",\"name\":\"DET\",\"x\":[94.8,85.74,94.52,88.08,96.26,86.88,71.7,74.38,89.89,88.99,84.61],\"y\":[18.77,28.53,24.77,18.57,29.06,13.85,35.74,15.0,6.13,44.08,34.83],\"type\":\"scatter\"},{\"hoverinfo\":\"none\",\"marker\":{\"color\":\"#CBB67C\"},\"mode\":\"markers\",\"name\":\"football\",\"x\":[98.92],\"y\":[24.19],\"type\":\"scatter\"}],\"name\":\"20\"},{\"data\":[{\"hoverinfo\":\"none\",\"mode\":\"text\",\"showlegend\":false,\"text\":[\"10\",\"20\",\"30\",\"40\",\"50\",\"40\",\"30\",\"20\",\"10\"],\"textfont\":{\"color\":\"#ffffff\",\"family\":\"Courier New, monospace\",\"size\":30},\"x\":[20,30,40,50,60,70,80,90,100],\"y\":[5,5,5,5,5,5,5,5,5],\"type\":\"scatter\"},{\"hoverinfo\":\"none\",\"mode\":\"text\",\"showlegend\":false,\"text\":[\"10\",\"20\",\"30\",\"40\",\"50\",\"40\",\"30\",\"20\",\"10\"],\"textfont\":{\"color\":\"#ffffff\",\"family\":\"Courier New, monospace\",\"size\":30},\"x\":[20,30,40,50,60,70,80,90,100],\"y\":[48.5,48.5,48.5,48.5,48.5,48.5,48.5,48.5,48.5],\"type\":\"scatter\"},{\"hoverinfo\":\"none\",\"line\":{\"color\":\"blue\",\"dash\":\"dash\"},\"showlegend\":false,\"x\":[92.0,92.0],\"y\":[0,53.5],\"type\":\"scatter\"},{\"hoverinfo\":\"none\",\"line\":{\"color\":\"yellow\",\"dash\":\"dash\"},\"showlegend\":false,\"x\":[102.0,102.0],\"y\":[0,53.5],\"type\":\"scatter\"},{\"hoverinfo\":\"text\",\"hovertext\":[\"nflId:29851.0<br>displayName:Aaron Rodgers<br>Position:QB<br>Role:Pass\",\"nflId:41282.0<br>displayName:Davante Adams<br>Position:SRoWR<br>Role:Pass Route\",\"nflId:41296.0<br>displayName:Billy Turner<br>Position:RT<br>Role:Pass Block\",\"nflId:45635.0<br>displayName:Robert Tonyan<br>Position:LWR<br>Role:Pass Route\",\"nflId:46705.0<br>displayName:Allen Lazard<br>Position:SLWR<br>Role:Pass Route\",\"nflId:47827.0<br>displayName:Elgton Jenkins<br>Position:LT<br>Role:Pass Block\",\"nflId:52470.0<br>displayName:A.J. Dillon<br>Position:RWR<br>Role:Pass Route\",\"nflId:52600.0<br>displayName:Jon Runyan<br>Position:LG<br>Role:Pass Block\",\"nflId:53172.0<br>displayName:Dominique Dafney<br>Position:SRiWR<br>Role:Pass Route\",\"nflId:53491.0<br>displayName:Josh Myers<br>Position:C<br>Role:Pass Block\",\"nflId:53571.0<br>displayName:Royce Newman<br>Position:RG<br>Role:Pass Block\"],\"marker\":{\"color\":\"#203731\"},\"mode\":\"markers\",\"name\":\"GB\",\"x\":[98.31,89.6,97.04,91.1,89.4,96.3,89.76,95.66,89.07,95.85,96.34],\"y\":[24.07,36.2,28.26,5.3,14.39,19.47,43.48,21.37,30.71,24.06,26.92],\"type\":\"scatter\"},{\"hoverinfo\":\"text\",\"hovertext\":[\"nflId:38544.0<br>displayName:Michael Brockers<br>Position:REO<br>Role:Pass Rush\",\"nflId:40000.0<br>displayName:Jamie Collins<br>Position:LLB<br>Role:Coverage\",\"nflId:40171.0<br>displayName:Nicholas Williams<br>Position:NT<br>Role:Pass Rush\",\"nflId:42444.0<br>displayName:Trey Flowers<br>Position:RLB<br>Role:Coverage\",\"nflId:43775.0<br>displayName:Romeo Okwara<br>Position:LEO<br>Role:Pass Rush\",\"nflId:44888.0<br>displayName:Alex Anzalone<br>Position:SCBR<br>Role:Coverage\",\"nflId:46151.0<br>displayName:Tracy Walker<br>Position:FSL<br>Role:Coverage\",\"nflId:47864.0<br>displayName:Will Harris<br>Position:FSR<br>Role:Coverage\",\"nflId:47929.0<br>displayName:Amani Oruwariye<br>Position:RCB<br>Role:Coverage\",\"nflId:53530.0<br>displayName:Ifeatu Melifonwu<br>Position:LCB<br>Role:Coverage\",\"nflId:53957.0<br>displayName:A.J. Parker<br>Position:SCBoL<br>Role:Coverage\"],\"marker\":{\"color\":\"#0076B6\"},\"mode\":\"markers\",\"name\":\"DET\",\"x\":[95.1,85.49,94.8,87.91,96.67,86.82,71.32,74.19,89.58,88.75,84.36],\"y\":[18.88,28.58,24.87,18.54,29.09,13.76,35.92,14.99,5.85,44.07,34.97],\"type\":\"scatter\"},{\"hoverinfo\":\"none\",\"marker\":{\"color\":\"#CBB67C\"},\"mode\":\"markers\",\"name\":\"football\",\"x\":[99.01],\"y\":[24.29],\"type\":\"scatter\"}],\"name\":\"21\"},{\"data\":[{\"hoverinfo\":\"none\",\"mode\":\"text\",\"showlegend\":false,\"text\":[\"10\",\"20\",\"30\",\"40\",\"50\",\"40\",\"30\",\"20\",\"10\"],\"textfont\":{\"color\":\"#ffffff\",\"family\":\"Courier New, monospace\",\"size\":30},\"x\":[20,30,40,50,60,70,80,90,100],\"y\":[5,5,5,5,5,5,5,5,5],\"type\":\"scatter\"},{\"hoverinfo\":\"none\",\"mode\":\"text\",\"showlegend\":false,\"text\":[\"10\",\"20\",\"30\",\"40\",\"50\",\"40\",\"30\",\"20\",\"10\"],\"textfont\":{\"color\":\"#ffffff\",\"family\":\"Courier New, monospace\",\"size\":30},\"x\":[20,30,40,50,60,70,80,90,100],\"y\":[48.5,48.5,48.5,48.5,48.5,48.5,48.5,48.5,48.5],\"type\":\"scatter\"},{\"hoverinfo\":\"none\",\"line\":{\"color\":\"blue\",\"dash\":\"dash\"},\"showlegend\":false,\"x\":[92.0,92.0],\"y\":[0,53.5],\"type\":\"scatter\"},{\"hoverinfo\":\"none\",\"line\":{\"color\":\"yellow\",\"dash\":\"dash\"},\"showlegend\":false,\"x\":[102.0,102.0],\"y\":[0,53.5],\"type\":\"scatter\"},{\"hoverinfo\":\"text\",\"hovertext\":[\"nflId:29851.0<br>displayName:Aaron Rodgers<br>Position:QB<br>Role:Pass\",\"nflId:41282.0<br>displayName:Davante Adams<br>Position:SRoWR<br>Role:Pass Route\",\"nflId:41296.0<br>displayName:Billy Turner<br>Position:RT<br>Role:Pass Block\",\"nflId:45635.0<br>displayName:Robert Tonyan<br>Position:LWR<br>Role:Pass Route\",\"nflId:46705.0<br>displayName:Allen Lazard<br>Position:SLWR<br>Role:Pass Route\",\"nflId:47827.0<br>displayName:Elgton Jenkins<br>Position:LT<br>Role:Pass Block\",\"nflId:52470.0<br>displayName:A.J. Dillon<br>Position:RWR<br>Role:Pass Route\",\"nflId:52600.0<br>displayName:Jon Runyan<br>Position:LG<br>Role:Pass Block\",\"nflId:53172.0<br>displayName:Dominique Dafney<br>Position:SRiWR<br>Role:Pass Route\",\"nflId:53491.0<br>displayName:Josh Myers<br>Position:C<br>Role:Pass Block\",\"nflId:53571.0<br>displayName:Royce Newman<br>Position:RG<br>Role:Pass Block\"],\"marker\":{\"color\":\"#203731\"},\"mode\":\"markers\",\"name\":\"GB\",\"x\":[98.4,89.18,97.38,90.66,89.09,96.54,89.27,95.85,88.65,96.09,96.62],\"y\":[24.1,36.35,28.26,4.92,14.4,19.49,43.44,21.32,30.74,24.15,27.06],\"type\":\"scatter\"},{\"hoverinfo\":\"text\",\"hovertext\":[\"nflId:38544.0<br>displayName:Michael Brockers<br>Position:REO<br>Role:Pass Rush\",\"nflId:40000.0<br>displayName:Jamie Collins<br>Position:LLB<br>Role:Coverage\",\"nflId:40171.0<br>displayName:Nicholas Williams<br>Position:NT<br>Role:Pass Rush\",\"nflId:42444.0<br>displayName:Trey Flowers<br>Position:RLB<br>Role:Coverage\",\"nflId:43775.0<br>displayName:Romeo Okwara<br>Position:LEO<br>Role:Pass Rush\",\"nflId:44888.0<br>displayName:Alex Anzalone<br>Position:SCBR<br>Role:Coverage\",\"nflId:46151.0<br>displayName:Tracy Walker<br>Position:FSL<br>Role:Coverage\",\"nflId:47864.0<br>displayName:Will Harris<br>Position:FSR<br>Role:Coverage\",\"nflId:47929.0<br>displayName:Amani Oruwariye<br>Position:RCB<br>Role:Coverage\",\"nflId:53530.0<br>displayName:Ifeatu Melifonwu<br>Position:LCB<br>Role:Coverage\",\"nflId:53957.0<br>displayName:A.J. Parker<br>Position:SCBoL<br>Role:Coverage\"],\"marker\":{\"color\":\"#0076B6\"},\"mode\":\"markers\",\"name\":\"DET\",\"x\":[95.37,85.25,95.11,87.74,97.03,86.76,70.96,74.0,89.25,88.46,84.15],\"y\":[19.01,28.63,24.98,18.5,29.13,13.7,36.11,14.98,5.55,44.07,35.14],\"type\":\"scatter\"},{\"hoverinfo\":\"none\",\"marker\":{\"color\":\"#CBB67C\"},\"mode\":\"markers\",\"name\":\"football\",\"x\":[99.05],\"y\":[24.41],\"type\":\"scatter\"}],\"name\":\"22\"},{\"data\":[{\"hoverinfo\":\"none\",\"mode\":\"text\",\"showlegend\":false,\"text\":[\"10\",\"20\",\"30\",\"40\",\"50\",\"40\",\"30\",\"20\",\"10\"],\"textfont\":{\"color\":\"#ffffff\",\"family\":\"Courier New, monospace\",\"size\":30},\"x\":[20,30,40,50,60,70,80,90,100],\"y\":[5,5,5,5,5,5,5,5,5],\"type\":\"scatter\"},{\"hoverinfo\":\"none\",\"mode\":\"text\",\"showlegend\":false,\"text\":[\"10\",\"20\",\"30\",\"40\",\"50\",\"40\",\"30\",\"20\",\"10\"],\"textfont\":{\"color\":\"#ffffff\",\"family\":\"Courier New, monospace\",\"size\":30},\"x\":[20,30,40,50,60,70,80,90,100],\"y\":[48.5,48.5,48.5,48.5,48.5,48.5,48.5,48.5,48.5],\"type\":\"scatter\"},{\"hoverinfo\":\"none\",\"line\":{\"color\":\"blue\",\"dash\":\"dash\"},\"showlegend\":false,\"x\":[92.0,92.0],\"y\":[0,53.5],\"type\":\"scatter\"},{\"hoverinfo\":\"none\",\"line\":{\"color\":\"yellow\",\"dash\":\"dash\"},\"showlegend\":false,\"x\":[102.0,102.0],\"y\":[0,53.5],\"type\":\"scatter\"},{\"hoverinfo\":\"text\",\"hovertext\":[\"nflId:29851.0<br>displayName:Aaron Rodgers<br>Position:QB<br>Role:Pass\",\"nflId:41282.0<br>displayName:Davante Adams<br>Position:SRoWR<br>Role:Pass Route\",\"nflId:41296.0<br>displayName:Billy Turner<br>Position:RT<br>Role:Pass Block\",\"nflId:45635.0<br>displayName:Robert Tonyan<br>Position:LWR<br>Role:Pass Route\",\"nflId:46705.0<br>displayName:Allen Lazard<br>Position:SLWR<br>Role:Pass Route\",\"nflId:47827.0<br>displayName:Elgton Jenkins<br>Position:LT<br>Role:Pass Block\",\"nflId:52470.0<br>displayName:A.J. Dillon<br>Position:RWR<br>Role:Pass Route\",\"nflId:52600.0<br>displayName:Jon Runyan<br>Position:LG<br>Role:Pass Block\",\"nflId:53172.0<br>displayName:Dominique Dafney<br>Position:SRiWR<br>Role:Pass Route\",\"nflId:53491.0<br>displayName:Josh Myers<br>Position:C<br>Role:Pass Block\",\"nflId:53571.0<br>displayName:Royce Newman<br>Position:RG<br>Role:Pass Block\"],\"marker\":{\"color\":\"#203731\"},\"mode\":\"markers\",\"name\":\"GB\",\"x\":[98.48,88.8,97.7,90.19,88.82,96.77,88.78,96.02,88.26,96.32,96.87],\"y\":[24.13,36.54,28.25,4.56,14.42,19.56,43.37,21.26,30.78,24.26,27.22],\"type\":\"scatter\"},{\"hoverinfo\":\"text\",\"hovertext\":[\"nflId:38544.0<br>displayName:Michael Brockers<br>Position:REO<br>Role:Pass Rush\",\"nflId:40000.0<br>displayName:Jamie Collins<br>Position:LLB<br>Role:Coverage\",\"nflId:40171.0<br>displayName:Nicholas Williams<br>Position:NT<br>Role:Pass Rush\",\"nflId:42444.0<br>displayName:Trey Flowers<br>Position:RLB<br>Role:Coverage\",\"nflId:43775.0<br>displayName:Romeo Okwara<br>Position:LEO<br>Role:Pass Rush\",\"nflId:44888.0<br>displayName:Alex Anzalone<br>Position:SCBR<br>Role:Coverage\",\"nflId:46151.0<br>displayName:Tracy Walker<br>Position:FSL<br>Role:Coverage\",\"nflId:47864.0<br>displayName:Will Harris<br>Position:FSR<br>Role:Coverage\",\"nflId:47929.0<br>displayName:Amani Oruwariye<br>Position:RCB<br>Role:Coverage\",\"nflId:53530.0<br>displayName:Ifeatu Melifonwu<br>Position:LCB<br>Role:Coverage\",\"nflId:53957.0<br>displayName:A.J. Parker<br>Position:SCBoL<br>Role:Coverage\"],\"marker\":{\"color\":\"#0076B6\"},\"mode\":\"markers\",\"name\":\"DET\",\"x\":[95.61,85.03,95.4,87.58,97.35,86.69,70.62,73.79,88.88,88.16,84.01],\"y\":[19.17,28.69,25.09,18.47,29.16,13.67,36.32,14.97,5.24,44.08,35.36],\"type\":\"scatter\"},{\"hoverinfo\":\"none\",\"marker\":{\"color\":\"#CBB67C\"},\"mode\":\"markers\",\"name\":\"football\",\"x\":[99.04],\"y\":[24.54],\"type\":\"scatter\"}],\"name\":\"23\"},{\"data\":[{\"hoverinfo\":\"none\",\"mode\":\"text\",\"showlegend\":false,\"text\":[\"10\",\"20\",\"30\",\"40\",\"50\",\"40\",\"30\",\"20\",\"10\"],\"textfont\":{\"color\":\"#ffffff\",\"family\":\"Courier New, monospace\",\"size\":30},\"x\":[20,30,40,50,60,70,80,90,100],\"y\":[5,5,5,5,5,5,5,5,5],\"type\":\"scatter\"},{\"hoverinfo\":\"none\",\"mode\":\"text\",\"showlegend\":false,\"text\":[\"10\",\"20\",\"30\",\"40\",\"50\",\"40\",\"30\",\"20\",\"10\"],\"textfont\":{\"color\":\"#ffffff\",\"family\":\"Courier New, monospace\",\"size\":30},\"x\":[20,30,40,50,60,70,80,90,100],\"y\":[48.5,48.5,48.5,48.5,48.5,48.5,48.5,48.5,48.5],\"type\":\"scatter\"},{\"hoverinfo\":\"none\",\"line\":{\"color\":\"blue\",\"dash\":\"dash\"},\"showlegend\":false,\"x\":[92.0,92.0],\"y\":[0,53.5],\"type\":\"scatter\"},{\"hoverinfo\":\"none\",\"line\":{\"color\":\"yellow\",\"dash\":\"dash\"},\"showlegend\":false,\"x\":[102.0,102.0],\"y\":[0,53.5],\"type\":\"scatter\"},{\"hoverinfo\":\"text\",\"hovertext\":[\"nflId:29851.0<br>displayName:Aaron Rodgers<br>Position:QB<br>Role:Pass\",\"nflId:41282.0<br>displayName:Davante Adams<br>Position:SRoWR<br>Role:Pass Route\",\"nflId:41296.0<br>displayName:Billy Turner<br>Position:RT<br>Role:Pass Block\",\"nflId:45635.0<br>displayName:Robert Tonyan<br>Position:LWR<br>Role:Pass Route\",\"nflId:46705.0<br>displayName:Allen Lazard<br>Position:SLWR<br>Role:Pass Route\",\"nflId:47827.0<br>displayName:Elgton Jenkins<br>Position:LT<br>Role:Pass Block\",\"nflId:52470.0<br>displayName:A.J. Dillon<br>Position:RWR<br>Role:Pass Route\",\"nflId:52600.0<br>displayName:Jon Runyan<br>Position:LG<br>Role:Pass Block\",\"nflId:53172.0<br>displayName:Dominique Dafney<br>Position:SRiWR<br>Role:Pass Route\",\"nflId:53491.0<br>displayName:Josh Myers<br>Position:C<br>Role:Pass Block\",\"nflId:53571.0<br>displayName:Royce Newman<br>Position:RG<br>Role:Pass Block\"],\"marker\":{\"color\":\"#203731\"},\"mode\":\"markers\",\"name\":\"GB\",\"x\":[98.54,88.48,98.0,89.68,88.59,96.99,88.31,96.18,87.9,96.55,97.11],\"y\":[24.15,36.8,28.22,4.2,14.47,19.67,43.29,21.2,30.86,24.39,27.4],\"type\":\"scatter\"},{\"hoverinfo\":\"text\",\"hovertext\":[\"nflId:38544.0<br>displayName:Michael Brockers<br>Position:REO<br>Role:Pass Rush\",\"nflId:40000.0<br>displayName:Jamie Collins<br>Position:LLB<br>Role:Coverage\",\"nflId:40171.0<br>displayName:Nicholas Williams<br>Position:NT<br>Role:Pass Rush\",\"nflId:42444.0<br>displayName:Trey Flowers<br>Position:RLB<br>Role:Coverage\",\"nflId:43775.0<br>displayName:Romeo Okwara<br>Position:LEO<br>Role:Pass Rush\",\"nflId:44888.0<br>displayName:Alex Anzalone<br>Position:SCBR<br>Role:Coverage\",\"nflId:46151.0<br>displayName:Tracy Walker<br>Position:FSL<br>Role:Coverage\",\"nflId:47864.0<br>displayName:Will Harris<br>Position:FSR<br>Role:Coverage\",\"nflId:47929.0<br>displayName:Amani Oruwariye<br>Position:RCB<br>Role:Coverage\",\"nflId:53530.0<br>displayName:Ifeatu Melifonwu<br>Position:LCB<br>Role:Coverage\",\"nflId:53957.0<br>displayName:A.J. Parker<br>Position:SCBoL<br>Role:Coverage\"],\"marker\":{\"color\":\"#0076B6\"},\"mode\":\"markers\",\"name\":\"DET\",\"x\":[95.82,84.85,95.68,87.44,97.62,86.62,70.33,73.58,88.48,87.82,83.93],\"y\":[19.34,28.75,25.21,18.45,29.21,13.69,36.56,14.98,4.94,44.09,35.6],\"type\":\"scatter\"},{\"hoverinfo\":\"none\",\"marker\":{\"color\":\"#CBB67C\"},\"mode\":\"markers\",\"name\":\"football\",\"x\":[99.0],\"y\":[24.68],\"type\":\"scatter\"}],\"name\":\"24\"},{\"data\":[{\"hoverinfo\":\"none\",\"mode\":\"text\",\"showlegend\":false,\"text\":[\"10\",\"20\",\"30\",\"40\",\"50\",\"40\",\"30\",\"20\",\"10\"],\"textfont\":{\"color\":\"#ffffff\",\"family\":\"Courier New, monospace\",\"size\":30},\"x\":[20,30,40,50,60,70,80,90,100],\"y\":[5,5,5,5,5,5,5,5,5],\"type\":\"scatter\"},{\"hoverinfo\":\"none\",\"mode\":\"text\",\"showlegend\":false,\"text\":[\"10\",\"20\",\"30\",\"40\",\"50\",\"40\",\"30\",\"20\",\"10\"],\"textfont\":{\"color\":\"#ffffff\",\"family\":\"Courier New, monospace\",\"size\":30},\"x\":[20,30,40,50,60,70,80,90,100],\"y\":[48.5,48.5,48.5,48.5,48.5,48.5,48.5,48.5,48.5],\"type\":\"scatter\"},{\"hoverinfo\":\"none\",\"line\":{\"color\":\"blue\",\"dash\":\"dash\"},\"showlegend\":false,\"x\":[92.0,92.0],\"y\":[0,53.5],\"type\":\"scatter\"},{\"hoverinfo\":\"none\",\"line\":{\"color\":\"yellow\",\"dash\":\"dash\"},\"showlegend\":false,\"x\":[102.0,102.0],\"y\":[0,53.5],\"type\":\"scatter\"},{\"hoverinfo\":\"text\",\"hovertext\":[\"nflId:29851.0<br>displayName:Aaron Rodgers<br>Position:QB<br>Role:Pass\",\"nflId:41282.0<br>displayName:Davante Adams<br>Position:SRoWR<br>Role:Pass Route\",\"nflId:41296.0<br>displayName:Billy Turner<br>Position:RT<br>Role:Pass Block\",\"nflId:45635.0<br>displayName:Robert Tonyan<br>Position:LWR<br>Role:Pass Route\",\"nflId:46705.0<br>displayName:Allen Lazard<br>Position:SLWR<br>Role:Pass Route\",\"nflId:47827.0<br>displayName:Elgton Jenkins<br>Position:LT<br>Role:Pass Block\",\"nflId:52470.0<br>displayName:A.J. Dillon<br>Position:RWR<br>Role:Pass Route\",\"nflId:52600.0<br>displayName:Jon Runyan<br>Position:LG<br>Role:Pass Block\",\"nflId:53172.0<br>displayName:Dominique Dafney<br>Position:SRiWR<br>Role:Pass Route\",\"nflId:53491.0<br>displayName:Josh Myers<br>Position:C<br>Role:Pass Block\",\"nflId:53571.0<br>displayName:Royce Newman<br>Position:RG<br>Role:Pass Block\"],\"marker\":{\"color\":\"#203731\"},\"mode\":\"markers\",\"name\":\"GB\",\"x\":[98.6,88.2,98.27,89.12,88.4,97.18,87.84,96.32,87.57,96.75,97.34],\"y\":[24.17,37.1,28.18,3.86,14.54,19.79,43.19,21.14,30.98,24.56,27.57],\"type\":\"scatter\"},{\"hoverinfo\":\"text\",\"hovertext\":[\"nflId:38544.0<br>displayName:Michael Brockers<br>Position:REO<br>Role:Pass Rush\",\"nflId:40000.0<br>displayName:Jamie Collins<br>Position:LLB<br>Role:Coverage\",\"nflId:40171.0<br>displayName:Nicholas Williams<br>Position:NT<br>Role:Pass Rush\",\"nflId:42444.0<br>displayName:Trey Flowers<br>Position:RLB<br>Role:Coverage\",\"nflId:43775.0<br>displayName:Romeo Okwara<br>Position:LEO<br>Role:Pass Rush\",\"nflId:44888.0<br>displayName:Alex Anzalone<br>Position:SCBR<br>Role:Coverage\",\"nflId:46151.0<br>displayName:Tracy Walker<br>Position:FSL<br>Role:Coverage\",\"nflId:47864.0<br>displayName:Will Harris<br>Position:FSR<br>Role:Coverage\",\"nflId:47929.0<br>displayName:Amani Oruwariye<br>Position:RCB<br>Role:Coverage\",\"nflId:53530.0<br>displayName:Ifeatu Melifonwu<br>Position:LCB<br>Role:Coverage\",\"nflId:53957.0<br>displayName:A.J. Parker<br>Position:SCBoL<br>Role:Coverage\"],\"marker\":{\"color\":\"#0076B6\"},\"mode\":\"markers\",\"name\":\"DET\",\"x\":[96.0,84.7,95.94,87.32,97.83,86.54,70.07,73.36,88.05,87.47,83.9],\"y\":[19.51,28.84,25.38,18.45,29.25,13.75,36.8,14.99,4.64,44.1,35.87],\"type\":\"scatter\"},{\"hoverinfo\":\"none\",\"marker\":{\"color\":\"#CBB67C\"},\"mode\":\"markers\",\"name\":\"football\",\"x\":[98.92],\"y\":[24.89],\"type\":\"scatter\"}],\"name\":\"25\"},{\"data\":[{\"hoverinfo\":\"none\",\"mode\":\"text\",\"showlegend\":false,\"text\":[\"10\",\"20\",\"30\",\"40\",\"50\",\"40\",\"30\",\"20\",\"10\"],\"textfont\":{\"color\":\"#ffffff\",\"family\":\"Courier New, monospace\",\"size\":30},\"x\":[20,30,40,50,60,70,80,90,100],\"y\":[5,5,5,5,5,5,5,5,5],\"type\":\"scatter\"},{\"hoverinfo\":\"none\",\"mode\":\"text\",\"showlegend\":false,\"text\":[\"10\",\"20\",\"30\",\"40\",\"50\",\"40\",\"30\",\"20\",\"10\"],\"textfont\":{\"color\":\"#ffffff\",\"family\":\"Courier New, monospace\",\"size\":30},\"x\":[20,30,40,50,60,70,80,90,100],\"y\":[48.5,48.5,48.5,48.5,48.5,48.5,48.5,48.5,48.5],\"type\":\"scatter\"},{\"hoverinfo\":\"none\",\"line\":{\"color\":\"blue\",\"dash\":\"dash\"},\"showlegend\":false,\"x\":[92.0,92.0],\"y\":[0,53.5],\"type\":\"scatter\"},{\"hoverinfo\":\"none\",\"line\":{\"color\":\"yellow\",\"dash\":\"dash\"},\"showlegend\":false,\"x\":[102.0,102.0],\"y\":[0,53.5],\"type\":\"scatter\"},{\"hoverinfo\":\"text\",\"hovertext\":[\"nflId:29851.0<br>displayName:Aaron Rodgers<br>Position:QB<br>Role:Pass\",\"nflId:41282.0<br>displayName:Davante Adams<br>Position:SRoWR<br>Role:Pass Route\",\"nflId:41296.0<br>displayName:Billy Turner<br>Position:RT<br>Role:Pass Block\",\"nflId:45635.0<br>displayName:Robert Tonyan<br>Position:LWR<br>Role:Pass Route\",\"nflId:46705.0<br>displayName:Allen Lazard<br>Position:SLWR<br>Role:Pass Route\",\"nflId:47827.0<br>displayName:Elgton Jenkins<br>Position:LT<br>Role:Pass Block\",\"nflId:52470.0<br>displayName:A.J. Dillon<br>Position:RWR<br>Role:Pass Route\",\"nflId:52600.0<br>displayName:Jon Runyan<br>Position:LG<br>Role:Pass Block\",\"nflId:53172.0<br>displayName:Dominique Dafney<br>Position:SRiWR<br>Role:Pass Route\",\"nflId:53491.0<br>displayName:Josh Myers<br>Position:C<br>Role:Pass Block\",\"nflId:53571.0<br>displayName:Royce Newman<br>Position:RG<br>Role:Pass Block\"],\"marker\":{\"color\":\"#203731\"},\"mode\":\"markers\",\"name\":\"GB\",\"x\":[98.64,87.98,98.53,88.54,88.26,97.35,87.38,96.45,87.29,96.94,97.54],\"y\":[24.18,37.45,28.14,3.54,14.63,19.94,43.08,21.09,31.14,24.73,27.75],\"type\":\"scatter\"},{\"hoverinfo\":\"text\",\"hovertext\":[\"nflId:38544.0<br>displayName:Michael Brockers<br>Position:REO<br>Role:Pass Rush\",\"nflId:40000.0<br>displayName:Jamie Collins<br>Position:LLB<br>Role:Coverage\",\"nflId:40171.0<br>displayName:Nicholas Williams<br>Position:NT<br>Role:Pass Rush\",\"nflId:42444.0<br>displayName:Trey Flowers<br>Position:RLB<br>Role:Coverage\",\"nflId:43775.0<br>displayName:Romeo Okwara<br>Position:LEO<br>Role:Pass Rush\",\"nflId:44888.0<br>displayName:Alex Anzalone<br>Position:SCBR<br>Role:Coverage\",\"nflId:46151.0<br>displayName:Tracy Walker<br>Position:FSL<br>Role:Coverage\",\"nflId:47864.0<br>displayName:Will Harris<br>Position:FSR<br>Role:Coverage\",\"nflId:47929.0<br>displayName:Amani Oruwariye<br>Position:RCB<br>Role:Coverage\",\"nflId:53530.0<br>displayName:Ifeatu Melifonwu<br>Position:LCB<br>Role:Coverage\",\"nflId:53957.0<br>displayName:A.J. Parker<br>Position:SCBoL<br>Role:Coverage\"],\"marker\":{\"color\":\"#0076B6\"},\"mode\":\"markers\",\"name\":\"DET\",\"x\":[96.14,84.59,96.18,87.21,97.95,86.48,69.88,73.14,87.58,87.16,83.92],\"y\":[19.67,28.97,25.54,18.47,29.3,13.84,37.07,15.04,4.35,44.11,36.16],\"type\":\"scatter\"},{\"hoverinfo\":\"none\",\"marker\":{\"color\":\"#CBB67C\"},\"mode\":\"markers\",\"name\":\"football\",\"x\":[96.11],\"y\":[28.63],\"type\":\"scatter\"}],\"name\":\"26\"},{\"data\":[{\"hoverinfo\":\"none\",\"mode\":\"text\",\"showlegend\":false,\"text\":[\"10\",\"20\",\"30\",\"40\",\"50\",\"40\",\"30\",\"20\",\"10\"],\"textfont\":{\"color\":\"#ffffff\",\"family\":\"Courier New, monospace\",\"size\":30},\"x\":[20,30,40,50,60,70,80,90,100],\"y\":[5,5,5,5,5,5,5,5,5],\"type\":\"scatter\"},{\"hoverinfo\":\"none\",\"mode\":\"text\",\"showlegend\":false,\"text\":[\"10\",\"20\",\"30\",\"40\",\"50\",\"40\",\"30\",\"20\",\"10\"],\"textfont\":{\"color\":\"#ffffff\",\"family\":\"Courier New, monospace\",\"size\":30},\"x\":[20,30,40,50,60,70,80,90,100],\"y\":[48.5,48.5,48.5,48.5,48.5,48.5,48.5,48.5,48.5],\"type\":\"scatter\"},{\"hoverinfo\":\"none\",\"line\":{\"color\":\"blue\",\"dash\":\"dash\"},\"showlegend\":false,\"x\":[92.0,92.0],\"y\":[0,53.5],\"type\":\"scatter\"},{\"hoverinfo\":\"none\",\"line\":{\"color\":\"yellow\",\"dash\":\"dash\"},\"showlegend\":false,\"x\":[102.0,102.0],\"y\":[0,53.5],\"type\":\"scatter\"},{\"hoverinfo\":\"text\",\"hovertext\":[\"nflId:29851.0<br>displayName:Aaron Rodgers<br>Position:QB<br>Role:Pass\",\"nflId:41282.0<br>displayName:Davante Adams<br>Position:SRoWR<br>Role:Pass Route\",\"nflId:41296.0<br>displayName:Billy Turner<br>Position:RT<br>Role:Pass Block\",\"nflId:45635.0<br>displayName:Robert Tonyan<br>Position:LWR<br>Role:Pass Route\",\"nflId:46705.0<br>displayName:Allen Lazard<br>Position:SLWR<br>Role:Pass Route\",\"nflId:47827.0<br>displayName:Elgton Jenkins<br>Position:LT<br>Role:Pass Block\",\"nflId:52470.0<br>displayName:A.J. Dillon<br>Position:RWR<br>Role:Pass Route\",\"nflId:52600.0<br>displayName:Jon Runyan<br>Position:LG<br>Role:Pass Block\",\"nflId:53172.0<br>displayName:Dominique Dafney<br>Position:SRiWR<br>Role:Pass Route\",\"nflId:53491.0<br>displayName:Josh Myers<br>Position:C<br>Role:Pass Block\",\"nflId:53571.0<br>displayName:Royce Newman<br>Position:RG<br>Role:Pass Block\"],\"marker\":{\"color\":\"#203731\"},\"mode\":\"markers\",\"name\":\"GB\",\"x\":[98.67,87.82,98.75,87.93,88.13,97.49,86.91,96.55,87.05,97.1,97.7],\"y\":[24.19,37.85,28.09,3.23,14.75,20.09,42.98,21.06,31.34,24.91,27.92],\"type\":\"scatter\"},{\"hoverinfo\":\"text\",\"hovertext\":[\"nflId:38544.0<br>displayName:Michael Brockers<br>Position:REO<br>Role:Pass Rush\",\"nflId:40000.0<br>displayName:Jamie Collins<br>Position:LLB<br>Role:Coverage\",\"nflId:40171.0<br>displayName:Nicholas Williams<br>Position:NT<br>Role:Pass Rush\",\"nflId:42444.0<br>displayName:Trey Flowers<br>Position:RLB<br>Role:Coverage\",\"nflId:43775.0<br>displayName:Romeo Okwara<br>Position:LEO<br>Role:Pass Rush\",\"nflId:44888.0<br>displayName:Alex Anzalone<br>Position:SCBR<br>Role:Coverage\",\"nflId:46151.0<br>displayName:Tracy Walker<br>Position:FSL<br>Role:Coverage\",\"nflId:47864.0<br>displayName:Will Harris<br>Position:FSR<br>Role:Coverage\",\"nflId:47929.0<br>displayName:Amani Oruwariye<br>Position:RCB<br>Role:Coverage\",\"nflId:53530.0<br>displayName:Ifeatu Melifonwu<br>Position:LCB<br>Role:Coverage\",\"nflId:53957.0<br>displayName:A.J. Parker<br>Position:SCBoL<br>Role:Coverage\"],\"marker\":{\"color\":\"#0076B6\"},\"mode\":\"markers\",\"name\":\"DET\",\"x\":[96.26,84.53,96.41,87.13,98.03,86.41,69.74,72.95,87.1,86.88,83.99],\"y\":[19.82,29.13,25.71,18.52,29.36,13.98,37.36,15.13,4.07,44.1,36.5],\"type\":\"scatter\"},{\"hoverinfo\":\"none\",\"marker\":{\"color\":\"#CBB67C\"},\"mode\":\"markers\",\"name\":\"football\",\"x\":[94.86],\"y\":[30.54],\"type\":\"scatter\"}],\"name\":\"27\"},{\"data\":[{\"hoverinfo\":\"none\",\"mode\":\"text\",\"showlegend\":false,\"text\":[\"10\",\"20\",\"30\",\"40\",\"50\",\"40\",\"30\",\"20\",\"10\"],\"textfont\":{\"color\":\"#ffffff\",\"family\":\"Courier New, monospace\",\"size\":30},\"x\":[20,30,40,50,60,70,80,90,100],\"y\":[5,5,5,5,5,5,5,5,5],\"type\":\"scatter\"},{\"hoverinfo\":\"none\",\"mode\":\"text\",\"showlegend\":false,\"text\":[\"10\",\"20\",\"30\",\"40\",\"50\",\"40\",\"30\",\"20\",\"10\"],\"textfont\":{\"color\":\"#ffffff\",\"family\":\"Courier New, monospace\",\"size\":30},\"x\":[20,30,40,50,60,70,80,90,100],\"y\":[48.5,48.5,48.5,48.5,48.5,48.5,48.5,48.5,48.5],\"type\":\"scatter\"},{\"hoverinfo\":\"none\",\"line\":{\"color\":\"blue\",\"dash\":\"dash\"},\"showlegend\":false,\"x\":[92.0,92.0],\"y\":[0,53.5],\"type\":\"scatter\"},{\"hoverinfo\":\"none\",\"line\":{\"color\":\"yellow\",\"dash\":\"dash\"},\"showlegend\":false,\"x\":[102.0,102.0],\"y\":[0,53.5],\"type\":\"scatter\"},{\"hoverinfo\":\"text\",\"hovertext\":[\"nflId:29851.0<br>displayName:Aaron Rodgers<br>Position:QB<br>Role:Pass\",\"nflId:41282.0<br>displayName:Davante Adams<br>Position:SRoWR<br>Role:Pass Route\",\"nflId:41296.0<br>displayName:Billy Turner<br>Position:RT<br>Role:Pass Block\",\"nflId:45635.0<br>displayName:Robert Tonyan<br>Position:LWR<br>Role:Pass Route\",\"nflId:46705.0<br>displayName:Allen Lazard<br>Position:SLWR<br>Role:Pass Route\",\"nflId:47827.0<br>displayName:Elgton Jenkins<br>Position:LT<br>Role:Pass Block\",\"nflId:52470.0<br>displayName:A.J. Dillon<br>Position:RWR<br>Role:Pass Route\",\"nflId:52600.0<br>displayName:Jon Runyan<br>Position:LG<br>Role:Pass Block\",\"nflId:53172.0<br>displayName:Dominique Dafney<br>Position:SRiWR<br>Role:Pass Route\",\"nflId:53491.0<br>displayName:Josh Myers<br>Position:C<br>Role:Pass Block\",\"nflId:53571.0<br>displayName:Royce Newman<br>Position:RG<br>Role:Pass Block\"],\"marker\":{\"color\":\"#203731\"},\"mode\":\"markers\",\"name\":\"GB\",\"x\":[98.68,87.71,98.95,87.32,88.03,97.63,86.44,96.64,86.85,97.26,97.83],\"y\":[24.19,38.28,28.03,2.94,14.9,20.25,42.9,21.04,31.58,25.09,28.08],\"type\":\"scatter\"},{\"hoverinfo\":\"text\",\"hovertext\":[\"nflId:38544.0<br>displayName:Michael Brockers<br>Position:REO<br>Role:Pass Rush\",\"nflId:40000.0<br>displayName:Jamie Collins<br>Position:LLB<br>Role:Coverage\",\"nflId:40171.0<br>displayName:Nicholas Williams<br>Position:NT<br>Role:Pass Rush\",\"nflId:42444.0<br>displayName:Trey Flowers<br>Position:RLB<br>Role:Coverage\",\"nflId:43775.0<br>displayName:Romeo Okwara<br>Position:LEO<br>Role:Pass Rush\",\"nflId:44888.0<br>displayName:Alex Anzalone<br>Position:SCBR<br>Role:Coverage\",\"nflId:46151.0<br>displayName:Tracy Walker<br>Position:FSL<br>Role:Coverage\",\"nflId:47864.0<br>displayName:Will Harris<br>Position:FSR<br>Role:Coverage\",\"nflId:47929.0<br>displayName:Amani Oruwariye<br>Position:RCB<br>Role:Coverage\",\"nflId:53530.0<br>displayName:Ifeatu Melifonwu<br>Position:LCB<br>Role:Coverage\",\"nflId:53957.0<br>displayName:A.J. Parker<br>Position:SCBoL<br>Role:Coverage\"],\"marker\":{\"color\":\"#0076B6\"},\"mode\":\"markers\",\"name\":\"DET\",\"x\":[96.34,84.5,96.63,87.05,98.06,86.34,69.67,72.76,86.58,86.65,84.12],\"y\":[19.98,29.34,25.92,18.62,29.42,14.16,37.68,15.25,3.8,44.09,36.86],\"type\":\"scatter\"},{\"hoverinfo\":\"none\",\"marker\":{\"color\":\"#CBB67C\"},\"mode\":\"markers\",\"name\":\"football\",\"x\":[93.62],\"y\":[32.44],\"type\":\"scatter\"}],\"name\":\"28\"},{\"data\":[{\"hoverinfo\":\"none\",\"mode\":\"text\",\"showlegend\":false,\"text\":[\"10\",\"20\",\"30\",\"40\",\"50\",\"40\",\"30\",\"20\",\"10\"],\"textfont\":{\"color\":\"#ffffff\",\"family\":\"Courier New, monospace\",\"size\":30},\"x\":[20,30,40,50,60,70,80,90,100],\"y\":[5,5,5,5,5,5,5,5,5],\"type\":\"scatter\"},{\"hoverinfo\":\"none\",\"mode\":\"text\",\"showlegend\":false,\"text\":[\"10\",\"20\",\"30\",\"40\",\"50\",\"40\",\"30\",\"20\",\"10\"],\"textfont\":{\"color\":\"#ffffff\",\"family\":\"Courier New, monospace\",\"size\":30},\"x\":[20,30,40,50,60,70,80,90,100],\"y\":[48.5,48.5,48.5,48.5,48.5,48.5,48.5,48.5,48.5],\"type\":\"scatter\"},{\"hoverinfo\":\"none\",\"line\":{\"color\":\"blue\",\"dash\":\"dash\"},\"showlegend\":false,\"x\":[92.0,92.0],\"y\":[0,53.5],\"type\":\"scatter\"},{\"hoverinfo\":\"none\",\"line\":{\"color\":\"yellow\",\"dash\":\"dash\"},\"showlegend\":false,\"x\":[102.0,102.0],\"y\":[0,53.5],\"type\":\"scatter\"},{\"hoverinfo\":\"text\",\"hovertext\":[\"nflId:29851.0<br>displayName:Aaron Rodgers<br>Position:QB<br>Role:Pass\",\"nflId:41282.0<br>displayName:Davante Adams<br>Position:SRoWR<br>Role:Pass Route\",\"nflId:41296.0<br>displayName:Billy Turner<br>Position:RT<br>Role:Pass Block\",\"nflId:45635.0<br>displayName:Robert Tonyan<br>Position:LWR<br>Role:Pass Route\",\"nflId:46705.0<br>displayName:Allen Lazard<br>Position:SLWR<br>Role:Pass Route\",\"nflId:47827.0<br>displayName:Elgton Jenkins<br>Position:LT<br>Role:Pass Block\",\"nflId:52470.0<br>displayName:A.J. Dillon<br>Position:RWR<br>Role:Pass Route\",\"nflId:52600.0<br>displayName:Jon Runyan<br>Position:LG<br>Role:Pass Block\",\"nflId:53172.0<br>displayName:Dominique Dafney<br>Position:SRiWR<br>Role:Pass Route\",\"nflId:53491.0<br>displayName:Josh Myers<br>Position:C<br>Role:Pass Block\",\"nflId:53571.0<br>displayName:Royce Newman<br>Position:RG<br>Role:Pass Block\"],\"marker\":{\"color\":\"#203731\"},\"mode\":\"markers\",\"name\":\"GB\",\"x\":[98.68,87.65,99.12,86.67,87.95,97.75,85.96,96.71,86.69,97.39,97.91],\"y\":[24.19,38.75,27.99,2.65,15.06,20.4,42.83,21.04,31.86,25.29,28.24],\"type\":\"scatter\"},{\"hoverinfo\":\"text\",\"hovertext\":[\"nflId:38544.0<br>displayName:Michael Brockers<br>Position:REO<br>Role:Pass Rush\",\"nflId:40000.0<br>displayName:Jamie Collins<br>Position:LLB<br>Role:Coverage\",\"nflId:40171.0<br>displayName:Nicholas Williams<br>Position:NT<br>Role:Pass Rush\",\"nflId:42444.0<br>displayName:Trey Flowers<br>Position:RLB<br>Role:Coverage\",\"nflId:43775.0<br>displayName:Romeo Okwara<br>Position:LEO<br>Role:Pass Rush\",\"nflId:44888.0<br>displayName:Alex Anzalone<br>Position:SCBR<br>Role:Coverage\",\"nflId:46151.0<br>displayName:Tracy Walker<br>Position:FSL<br>Role:Coverage\",\"nflId:47864.0<br>displayName:Will Harris<br>Position:FSR<br>Role:Coverage\",\"nflId:47929.0<br>displayName:Amani Oruwariye<br>Position:RCB<br>Role:Coverage\",\"nflId:53530.0<br>displayName:Ifeatu Melifonwu<br>Position:LCB<br>Role:Coverage\",\"nflId:53957.0<br>displayName:A.J. Parker<br>Position:SCBoL<br>Role:Coverage\"],\"marker\":{\"color\":\"#0076B6\"},\"mode\":\"markers\",\"name\":\"DET\",\"x\":[96.4,84.49,96.81,86.99,98.03,86.26,69.66,72.58,86.03,86.45,84.29],\"y\":[20.13,29.59,26.15,18.76,29.49,14.37,38.0,15.43,3.55,44.08,37.26],\"type\":\"scatter\"},{\"hoverinfo\":\"none\",\"marker\":{\"color\":\"#CBB67C\"},\"mode\":\"markers\",\"name\":\"football\",\"x\":[92.39],\"y\":[34.31],\"type\":\"scatter\"}],\"name\":\"29\"}]);\n",
       "                        }).then(function(){\n",
       "                            \n",
       "var gd = document.getElementById('fcd53e32-8cd7-43a7-991d-b50773b4d4fb');\n",
       "var x = new MutationObserver(function (mutations, observer) {{\n",
       "        var display = window.getComputedStyle(gd).display;\n",
       "        if (!display || display === 'none') {{\n",
       "            console.log([gd, 'removed!']);\n",
       "            Plotly.purge(gd);\n",
       "            observer.disconnect();\n",
       "        }}\n",
       "}});\n",
       "\n",
       "// Listen for the removal of the full notebook cells\n",
       "var notebookContainer = gd.closest('#notebook-container');\n",
       "if (notebookContainer) {{\n",
       "    x.observe(notebookContainer, {childList: true});\n",
       "}}\n",
       "\n",
       "// Listen for the clearing of the current output cell\n",
       "var outputEl = gd.closest('.output');\n",
       "if (outputEl) {{\n",
       "    x.observe(outputEl, {childList: true});\n",
       "}}\n",
       "\n",
       "                        })                };                });            </script>        </div>"
      ]
     },
     "metadata": {},
     "output_type": "display_data"
    }
   ],
   "source": [
    "# This function is designed for the user to pick specific plays to analyze\n",
    "\n",
    "def pickingAnimatedPlay(df):\n",
    "    # do work\n",
    "    return userInputs(df)\n",
    "\n",
    "# User input on selecting a play \n",
    "# Select Team, Formation, Pass Result\n",
    "def userInputs(df):\n",
    "\n",
    "    # Colors for each NFL team and Color for Football\n",
    "    colors = {\n",
    "    'ARI':\"#97233F\", \n",
    "    'ATL':\"#A71930\", \n",
    "    'BAL':'#241773', \n",
    "    'BUF':\"#00338D\", \n",
    "    'CAR':\"#0085CA\", \n",
    "    'CHI':\"#C83803\", \n",
    "    'CIN':\"#FB4F14\", \n",
    "    'CLE':\"#311D00\", \n",
    "    'DAL':'#003594',\n",
    "    'DEN':\"#FB4F14\", \n",
    "    'DET':\"#0076B6\", \n",
    "    'GB':\"#203731\", \n",
    "    'HOU':\"#03202F\", \n",
    "    'IND':\"#002C5F\", \n",
    "    'JAX':\"#9F792C\", \n",
    "    'KC':\"#E31837\", \n",
    "    'LA':\"#003594\", \n",
    "    'LAC':\"#0080C6\", \n",
    "    'LV':\"#000000\",\n",
    "    'MIA':\"#008E97\", \n",
    "    'MIN':\"#4F2683\", \n",
    "    'NE':\"#002244\", \n",
    "    'NO':\"#D3BC8D\", \n",
    "    'NYG':\"#0B2265\", \n",
    "    'NYJ':\"#125740\", \n",
    "    'PHI':\"#004C54\", \n",
    "    'PIT':\"#FFB612\", \n",
    "    'SEA':\"#69BE28\", \n",
    "    'SF':\"#AA0000\",\n",
    "    'TB':'#D50A0A', \n",
    "    'TEN':\"#4B92DB\", \n",
    "    'WAS':\"#5A1414\", \n",
    "    'football':'#CBB67C'}\n",
    "\n",
    "    \n",
    "    # load data here\n",
    "    df = joined_all\n",
    "    # An empty Pandas DataFrame is created to hold and return all user inputs\n",
    "    gameList = pd.DataFrame()\n",
    "\n",
    "    # Create a while loop to return incorrect user inputs\n",
    "    # Choosing an offensive team\n",
    "    while True:       \n",
    "        try:\n",
    "            offTeam = df['possessionTeam'].unique()\n",
    "            teams = offTeam\n",
    "            teamOff_Input = input(f'Pick an Offensive Team: {teams}')\n",
    "            off_team = teamOff_Input.upper()\n",
    "\n",
    "        except ValueError:\n",
    "            print(f'Choose a team from the list: {teams}')\n",
    "            continue\n",
    "\n",
    "        if off_team not in offTeam:\n",
    "            print(f'{off_team} does not exist. Input Valid Team Abbreviation')\n",
    "            continue\n",
    "        \n",
    "        elif off_team in offTeam:\n",
    "            team = df.loc[df['possessionTeam']==teamOff_Input.upper()] \n",
    "            next\n",
    "            \n",
    "        # Choosing a defensive team\n",
    "        while True:\n",
    "            try:\n",
    "                teamPlayed = team['defensiveTeam'].unique()\n",
    "                teamsDE = teamPlayed    \n",
    "                teamDEF_Input = input(f'Chose a Defensive Team: {teamsDE}')\n",
    "                def_team = teamDEF_Input.upper()\n",
    "\n",
    "            except ValueError:\n",
    "                print(f'Choose a team from the list: {def_team}')\n",
    "                continue\n",
    "\n",
    "            if teamDEF_Input.upper() not in teamPlayed:\n",
    "                print(f\"{def_team} did not play {off_team} \" + \"\\n\" + \"choose another Defensive Team\")\n",
    "                continue\n",
    "\n",
    "            elif teamDEF_Input.upper() in teamPlayed:\n",
    "                team_defense = team.loc[team['defensiveTeam']==teamDEF_Input.upper()]\n",
    "                next\n",
    "\n",
    "        # Choosing specific game if multiple games against the defense exist\n",
    "            while True:\n",
    "                try:\n",
    "                    gamePlayed = team_defense['gameDate'].unique()\n",
    "                    uniqueGame = gamePlayed\n",
    "                    game_input = input(f'Choose which game to analyze: {uniqueGame}')\n",
    "\n",
    "                except ValueError:\n",
    "                    print(f'Choose a date from the list: {uniqueGame}')\n",
    "                    continue\n",
    "\n",
    "                if game_input not in gamePlayed:\n",
    "                    print(f'Choose a date from the list: {uniqueGame}')\n",
    "                    continue\n",
    "\n",
    "                elif game_input in gamePlayed:\n",
    "                    unique_Game = team_defense.loc[team_defense['gameDate'] == game_input]\n",
    "                    next\n",
    "\n",
    "\n",
    "        # Choosing a pass play result\n",
    "                while True:\n",
    "                    try:\n",
    "                        passPlayResult = unique_Game['passResult'].unique()\n",
    "                        playResult = passPlayResult\n",
    "                        passPlay_Input = input(f'Choose a pass play result: {playResult}')\n",
    "                        passInput = passPlay_Input.upper()\n",
    "                        playResult = unique_Game['passResult'].tolist()\n",
    "                    \n",
    "                    except ValueError:\n",
    "                        print(f'{off_team} did not have any {passInput} against {def_team}')\n",
    "                        continue\n",
    "\n",
    "                    if passInput not in playResult:\n",
    "                        print(f\"There were no {passInput} plays found\" + \"\\n\" + \"choose another play result\")\n",
    "                        continue\n",
    "\n",
    "                    elif passInput.upper() in playResult:\n",
    "                        pass_play_result = unique_Game.loc[unique_Game['passResult']==passInput.upper()]   \n",
    "                        next\n",
    "\n",
    "        # Choosing where play happened on field\n",
    "                    while True:\n",
    "                        try:\n",
    "                            yardLine = pass_play_result['absoluteYardlineNumber'].unique()\n",
    "                            ydLine = yardLine\n",
    "                            ydLine_Input = int(input(f'Which part of the field do you want to analyzie? {ydLine}'))\n",
    "                            side_of_field = ydLine_Input\n",
    "                        \n",
    "                        except ValueError:\n",
    "                            print(f'{off_team} did not play at that {ydLine_Input}')\n",
    "                            continue\n",
    "\n",
    "                        if ydLine_Input not in yardLine:\n",
    "                            print(f'{off_team} did not play on {ydLine_Input}. Choose another {yardLine}')\n",
    "                            continue\n",
    "\n",
    "                        elif ydLine_Input in yardLine:\n",
    "                            field_of_play = pass_play_result.loc[pass_play_result['absoluteYardlineNumber']==side_of_field]\n",
    "                \n",
    "                \n",
    "        # Chosing an offensive formation\n",
    "                        while True:\n",
    "                            try:\n",
    "                                OFF_formation = field_of_play['offenseFormation'].unique()\n",
    "                                team_formation = OFF_formation\n",
    "                                offFormation_Input = input(f'Choose an Offensive Formation: {team_formation}')\n",
    "                                formation = offFormation_Input.upper()\n",
    "                                offFormation = field_of_play['offenseFormation'].tolist()\n",
    "\n",
    "                            except ValueError:\n",
    "                                print(f'{off_team} did not play any {formation} this game')\n",
    "                                continue\n",
    "\n",
    "                            if offFormation_Input.upper() not in offFormation:\n",
    "                                print(f\"No {formation} plays against {def_team} found\" + \"\\n\" + \"choose another formation\")\n",
    "                                continue\n",
    "\n",
    "                            elif offFormation_Input.upper() in offFormation:\n",
    "                                off_formation = field_of_play.loc[field_of_play['offenseFormation']==offFormation_Input.upper()]       \n",
    "                                gameList = gameList.append(off_formation)\n",
    "\n",
    "\n",
    "        # Creating Animation from selected play\n",
    "                                \n",
    "\n",
    "\n",
    "                                selected_play_df = gameList\n",
    "                                selected_tracking_df = gameList\n",
    "\n",
    "                                sorted_frame_list = selected_tracking_df.frameId.unique()\n",
    "                                sorted_frame_list.sort()\n",
    "\n",
    "                                # get play General information \n",
    "                                line_of_scrimmage = selected_play_df.absoluteYardlineNumber.values[0]\n",
    "                                first_down_marker = line_of_scrimmage + selected_play_df.yardsToGo.values[0]\n",
    "                                down = selected_play_df.down.values[0]\n",
    "                                quarter = selected_play_df.quarter.values[0]\n",
    "                                gameClock = selected_play_df.gameClock.values[0]\n",
    "                                playDescription = selected_play_df.playDescription.values[0]\n",
    "\n",
    "                                # Handle case where we have a really long Play Description and want to split it into two lines\n",
    "                                if len(playDescription.split(\" \"))>15 and len(playDescription)>115:\n",
    "                                    playDescription = \" \".join(playDescription.split(\" \")[0:16]) + \"<br>\" + \" \".join(playDescription.split(\" \")[16:])\n",
    "\n",
    "                                # initialize plotly start and stop buttons for animation\n",
    "                                updatemenus_dict = [\n",
    "                                    {\n",
    "                                        \"buttons\": [\n",
    "                                            {\n",
    "                                                \"args\": [None, {\"frame\": {\"duration\": 100, \"redraw\": False},\n",
    "                                                            \"fromcurrent\": True, \"transition\": {\"duration\": 0}}],\n",
    "                                                \"label\": \"Play\",\n",
    "                                                \"method\": \"animate\"\n",
    "                                            },\n",
    "                                            {\n",
    "                                                \"args\": [[None], {\"frame\": {\"duration\": 0, \"redraw\": False},\n",
    "                                                                \"mode\": \"immediate\",\n",
    "                                                                \"transition\": {\"duration\": 0}}],\n",
    "                                                \"label\": \"Pause\",\n",
    "                                                \"method\": \"animate\"\n",
    "                                            }\n",
    "                                        ],\n",
    "                                        \"direction\": \"left\",\n",
    "                                        \"pad\": {\"r\": 10, \"t\": 87},\n",
    "                                        \"showactive\": False,\n",
    "                                        \"type\": \"buttons\",\n",
    "                                        \"x\": 0.1,\n",
    "                                        \"xanchor\": \"right\",\n",
    "                                        \"y\": 0,\n",
    "                                        \"yanchor\": \"top\"\n",
    "                                    }\n",
    "                                ]\n",
    "                                # initialize plotly slider to show frame position in animation\n",
    "                                sliders_dict = {\n",
    "                                    \"active\": 0,\n",
    "                                    \"yanchor\": \"top\",\n",
    "                                    \"xanchor\": \"left\",\n",
    "                                    \"currentvalue\": {\n",
    "                                        \"font\": {\"size\": 20},\n",
    "                                        \"prefix\": \"Frame:\",\n",
    "                                        \"visible\": True,\n",
    "                                        \"xanchor\": \"right\"\n",
    "                                    },\n",
    "                                    \"transition\": {\"duration\": 300, \"easing\": \"cubic-in-out\"},\n",
    "                                    \"pad\": {\"b\": 10, \"t\": 50},\n",
    "                                    \"len\": 0.9,\n",
    "                                    \"x\": 0.1,\n",
    "                                    \"y\": 0,\n",
    "                                    \"steps\": []\n",
    "                                }\n",
    "\n",
    "\n",
    "                                frames = []\n",
    "                                for frameId in sorted_frame_list:\n",
    "                                    data = []\n",
    "                                    # Add Numbers to Field \n",
    "                                    data.append(\n",
    "                                        go.Scatter(\n",
    "                                            x=np.arange(20,110,10), \n",
    "                                            y=[5]*len(np.arange(20,110,10)),\n",
    "                                            mode='text',\n",
    "                                            text=list(map(str,list(np.arange(20, 61, 10)-10)+list(np.arange(40, 9, -10)))),\n",
    "                                            textfont_size = 30,\n",
    "                                            textfont_family = \"Courier New, monospace\",\n",
    "                                            textfont_color = \"#ffffff\",\n",
    "                                            showlegend=False,\n",
    "                                            hoverinfo='none'\n",
    "                                        )\n",
    "                                    )\n",
    "                                    data.append(\n",
    "                                        go.Scatter(\n",
    "                                            x=np.arange(20,110,10), \n",
    "                                            y=[53.5-5]*len(np.arange(20,110,10)),\n",
    "                                            mode='text',\n",
    "                                            text=list(map(str,list(np.arange(20, 61, 10)-10)+list(np.arange(40, 9, -10)))),\n",
    "                                            textfont_size = 30,\n",
    "                                            textfont_family = \"Courier New, monospace\",\n",
    "                                            textfont_color = \"#ffffff\",\n",
    "                                            showlegend=False,\n",
    "                                            hoverinfo='none'\n",
    "                                        )\n",
    "                                    )\n",
    "                                    # Add line of scrimage \n",
    "                                    data.append(\n",
    "                                        go.Scatter(\n",
    "                                            x=[line_of_scrimmage,line_of_scrimmage], \n",
    "                                            y=[0,53.5],\n",
    "                                            line_dash='dash',\n",
    "                                            line_color='blue',\n",
    "                                            showlegend=False,\n",
    "                                            hoverinfo='none'\n",
    "                                        )\n",
    "                                    )\n",
    "                                    # Add First down line \n",
    "                                    data.append(\n",
    "                                        go.Scatter(\n",
    "                                            x=[first_down_marker,first_down_marker], \n",
    "                                            y=[0,53.5],\n",
    "                                            line_dash='dash',\n",
    "                                            line_color='yellow',\n",
    "                                            showlegend=False,\n",
    "                                            hoverinfo='none'\n",
    "                                        )\n",
    "                                    )\n",
    "                                    # Plot Players\n",
    "                                    for team in selected_tracking_df.team.unique():\n",
    "                                        plot_df = selected_tracking_df[(selected_tracking_df.team==team)&(selected_tracking_df.frameId==frameId)].copy()\n",
    "                                        if team != \"football\":\n",
    "                                            hover_text_array=[]\n",
    "                                            for nflId in plot_df.nflId:\n",
    "                                                selected_player_df = plot_df[plot_df.nflId==nflId]\n",
    "                                                hover_text_array.append(\"nflId:{}<br>displayName:{}<br>Position:{}<br>Role:{}\".format(selected_player_df[\"nflId\"].values[0],\n",
    "                                                                                                                selected_player_df[\"displayName\"].values[0],\n",
    "                                                                                                                selected_player_df[\"pff_positionLinedUp\"].values[0],\n",
    "                                                                                                                selected_player_df[\"pff_role\"].values[0]))\n",
    "                                            data.append(go.Scatter(x=plot_df[\"x\"], y=plot_df[\"y\"],mode = 'markers',marker_color=colors[team],name=team,hovertext=hover_text_array,hoverinfo=\"text\"))\n",
    "                                        else:\n",
    "                                            data.append(go.Scatter(x=plot_df[\"x\"], y=plot_df[\"y\"],mode = 'markers',marker_color=colors[team],name=team,hoverinfo='none'))\n",
    "                                    # add frame to slider\n",
    "                                    slider_step = {\"args\": [\n",
    "                                        [frameId],\n",
    "                                        {\"frame\": {\"duration\": 100, \"redraw\": False},\n",
    "                                        \"mode\": \"immediate\",\n",
    "                                        \"transition\": {\"duration\": 0}}\n",
    "                                    ],\n",
    "                                        \"label\": str(frameId),\n",
    "                                        \"method\": \"animate\"}\n",
    "                                    sliders_dict[\"steps\"].append(slider_step)\n",
    "                                    frames.append(go.Frame(data=data, name=str(frameId)))\n",
    "                                    \n",
    "\n",
    "                                scale=10\n",
    "                                layout = go.Layout(\n",
    "                                    autosize=False,\n",
    "                                    width=120*scale,\n",
    "                                    height=60*scale,\n",
    "                                    xaxis=dict(range=[0, 120], autorange=False, tickmode='array',tickvals=np.arange(10, 111, 5).tolist(),showticklabels=False),\n",
    "                                    yaxis=dict(range=[0, 53.3], autorange=False,showgrid=False,showticklabels=False),\n",
    "\n",
    "                                    plot_bgcolor='#00B140',\n",
    "                                    # Create title and add play description at the bottom of the chart for better visual appeal\n",
    "                                    title=f\"{playDescription}\"+\"<br>\"*19+ f\"<br>\"f\"Game Clock: {gameClock}\"+\"<br>\"f\"{quarter}Quarter\",\n",
    "                                    updatemenus=updatemenus_dict,\n",
    "                                    sliders = [sliders_dict]\n",
    "                                )\n",
    "\n",
    "                                fig = go.Figure(\n",
    "                                    data=frames[0][\"data\"],\n",
    "                                    layout= layout,\n",
    "                                    frames=frames[1:]\n",
    "                                )\n",
    "                                # Create First Down Markers \n",
    "                                for y_val in [0,53]:\n",
    "                                    fig.add_annotation(\n",
    "                                            x=first_down_marker,\n",
    "                                            y=y_val,\n",
    "                                            text=str(down),\n",
    "                                            showarrow=False,\n",
    "                                            font=dict(\n",
    "                                                family=\"Courier New, monospace\",\n",
    "                                                size=16,\n",
    "                                                color=\"black\"\n",
    "                                                ),\n",
    "                                            align=\"center\",\n",
    "                                            bordercolor=\"black\",\n",
    "                                            borderwidth=2,\n",
    "                                            borderpad=4,\n",
    "                                            bgcolor=\"#ff7f0e\",\n",
    "                                            opacity=1\n",
    "                                            )\n",
    "\n",
    "                                return fig\n",
    "                                \n",
    "                                \n",
    "fig = pickingAnimatedPlay(joined_all)\n",
    "fig"
   ]
  },
  {
   "cell_type": "code",
   "execution_count": 11,
   "metadata": {},
   "outputs": [
    {
     "data": {
      "text/plain": [
       "'{\"data\": [{\"hoverinfo\": \"none\", \"mode\": \"text\", \"showlegend\": false, \"text\": [\"10\", \"20\", \"30\", \"40\", \"50\", \"40\", \"30\", \"20\", \"10\"], \"textfont\": {\"color\": \"#ffffff\", \"family\": \"Courier New, monospace\", \"size\": 30}, \"x\": [20, 30, 40, 50, 60, 70, 80, 90, 100], \"y\": [5, 5, 5, 5, 5, 5, 5, 5, 5], \"type\": \"scatter\"}, {\"hoverinfo\": \"none\", \"mode\": \"text\", \"showlegend\": false, \"text\": [\"10\", \"20\", \"30\", \"40\", \"50\", \"40\", \"30\", \"20\", \"10\"], \"textfont\": {\"color\": \"#ffffff\", \"family\": \"Courier New, monospace\", \"size\": 30}, \"x\": [20, 30, 40, 50, 60, 70, 80, 90, 100], \"y\": [48.5, 48.5, 48.5, 48.5, 48.5, 48.5, 48.5, 48.5, 48.5], \"type\": \"scatter\"}, {\"hoverinfo\": \"none\", \"line\": {\"color\": \"blue\", \"dash\": \"dash\"}, \"showlegend\": false, \"x\": [92.0, 92.0], \"y\": [0, 53.5], \"type\": \"scatter\"}, {\"hoverinfo\": \"none\", \"line\": {\"color\": \"yellow\", \"dash\": \"dash\"}, \"showlegend\": false, \"x\": [102.0, 102.0], \"y\": [0, 53.5], \"type\": \"scatter\"}, {\"hoverinfo\": \"text\", \"hovertext\": [\"nflId:29851.0<br>displayName:Aaron Rodgers<br>Position:QB<br>Role:Pass\", \"nflId:41282.0<br>displayName:Davante Adams<br>Position:SRoWR<br>Role:Pass Route\", \"nflId:41296.0<br>displayName:Billy Turner<br>Position:RT<br>Role:Pass Block\", \"nflId:45635.0<br>displayName:Robert Tonyan<br>Position:LWR<br>Role:Pass Route\", \"nflId:46705.0<br>displayName:Allen Lazard<br>Position:SLWR<br>Role:Pass Route\", \"nflId:47827.0<br>displayName:Elgton Jenkins<br>Position:LT<br>Role:Pass Block\", \"nflId:52470.0<br>displayName:A.J. Dillon<br>Position:RWR<br>Role:Pass Route\", \"nflId:52600.0<br>displayName:Jon Runyan<br>Position:LG<br>Role:Pass Block\", \"nflId:53172.0<br>displayName:Dominique Dafney<br>Position:SRiWR<br>Role:Pass Route\", \"nflId:53491.0<br>displayName:Josh Myers<br>Position:C<br>Role:Pass Block\", \"nflId:53571.0<br>displayName:Royce Newman<br>Position:RG<br>Role:Pass Block\"], \"marker\": {\"color\": \"#203731\"}, \"mode\": \"markers\", \"name\": \"GB\", \"x\": [96.86, 93.57, 94.07, 94.11, 92.94, 93.86, 93.72, 93.32, 92.91, 92.89, 93.61], \"y\": [23.64, 35.81, 26.95, 7.82, 14.98, 20.24, 43.5, 21.73, 31.07, 23.75, 25.43], \"type\": \"scatter\"}, {\"hoverinfo\": \"text\", \"hovertext\": [\"nflId:38544.0<br>displayName:Michael Brockers<br>Position:REO<br>Role:Pass Rush\", \"nflId:40000.0<br>displayName:Jamie Collins<br>Position:LLB<br>Role:Coverage\", \"nflId:40171.0<br>displayName:Nicholas Williams<br>Position:NT<br>Role:Pass Rush\", \"nflId:42444.0<br>displayName:Trey Flowers<br>Position:RLB<br>Role:Coverage\", \"nflId:43775.0<br>displayName:Romeo Okwara<br>Position:LEO<br>Role:Pass Rush\", \"nflId:44888.0<br>displayName:Alex Anzalone<br>Position:SCBR<br>Role:Coverage\", \"nflId:46151.0<br>displayName:Tracy Walker<br>Position:FSL<br>Role:Coverage\", \"nflId:47864.0<br>displayName:Will Harris<br>Position:FSR<br>Role:Coverage\", \"nflId:47929.0<br>displayName:Amani Oruwariye<br>Position:RCB<br>Role:Coverage\", \"nflId:53530.0<br>displayName:Ifeatu Melifonwu<br>Position:LCB<br>Role:Coverage\", \"nflId:53957.0<br>displayName:A.J. Parker<br>Position:SCBoL<br>Role:Coverage\"], \"marker\": {\"color\": \"#0076B6\"}, \"mode\": \"markers\", \"name\": \"DET\", \"x\": [91.36, 87.05, 91.22, 88.87, 92.24, 87.01, 75.5, 75.2, 91.0, 89.67, 89.18], \"y\": [18.93, 28.16, 23.61, 18.36, 29.16, 14.58, 33.8, 14.99, 7.5, 44.08, 35.76], \"type\": \"scatter\"}, {\"hoverinfo\": \"none\", \"marker\": {\"color\": \"#CBB67C\"}, \"mode\": \"markers\", \"name\": \"football\", \"x\": [92.2], \"y\": [23.77], \"type\": \"scatter\"}], \"layout\": {\"autosize\": false, \"height\": 600, \"plot_bgcolor\": \"#00B140\", \"sliders\": [{\"active\": 0, \"currentvalue\": {\"font\": {\"size\": 20}, \"prefix\": \"Frame:\", \"visible\": true, \"xanchor\": \"right\"}, \"len\": 0.9, \"pad\": {\"b\": 10, \"t\": 50}, \"steps\": [{\"args\": [[1], {\"frame\": {\"duration\": 100, \"redraw\": false}, \"mode\": \"immediate\", \"transition\": {\"duration\": 0}}], \"label\": \"1\", \"method\": \"animate\"}, {\"args\": [[2], {\"frame\": {\"duration\": 100, \"redraw\": false}, \"mode\": \"immediate\", \"transition\": {\"duration\": 0}}], \"label\": \"2\", \"method\": \"animate\"}, {\"args\": [[3], {\"frame\": {\"duration\": 100, \"redraw\": false}, \"mode\": \"immediate\", \"transition\": {\"duration\": 0}}], \"label\": \"3\", \"method\": \"animate\"}, {\"args\": [[4], {\"frame\": {\"duration\": 100, \"redraw\": false}, \"mode\": \"immediate\", \"transition\": {\"duration\": 0}}], \"label\": \"4\", \"method\": \"animate\"}, {\"args\": [[5], {\"frame\": {\"duration\": 100, \"redraw\": false}, \"mode\": \"immediate\", \"transition\": {\"duration\": 0}}], \"label\": \"5\", \"method\": \"animate\"}, {\"args\": [[6], {\"frame\": {\"duration\": 100, \"redraw\": false}, \"mode\": \"immediate\", \"transition\": {\"duration\": 0}}], \"label\": \"6\", \"method\": \"animate\"}, {\"args\": [[7], {\"frame\": {\"duration\": 100, \"redraw\": false}, \"mode\": \"immediate\", \"transition\": {\"duration\": 0}}], \"label\": \"7\", \"method\": \"animate\"}, {\"args\": [[8], {\"frame\": {\"duration\": 100, \"redraw\": false}, \"mode\": \"immediate\", \"transition\": {\"duration\": 0}}], \"label\": \"8\", \"method\": \"animate\"}, {\"args\": [[9], {\"frame\": {\"duration\": 100, \"redraw\": false}, \"mode\": \"immediate\", \"transition\": {\"duration\": 0}}], \"label\": \"9\", \"method\": \"animate\"}, {\"args\": [[10], {\"frame\": {\"duration\": 100, \"redraw\": false}, \"mode\": \"immediate\", \"transition\": {\"duration\": 0}}], \"label\": \"10\", \"method\": \"animate\"}, {\"args\": [[11], {\"frame\": {\"duration\": 100, \"redraw\": false}, \"mode\": \"immediate\", \"transition\": {\"duration\": 0}}], \"label\": \"11\", \"method\": \"animate\"}, {\"args\": [[12], {\"frame\": {\"duration\": 100, \"redraw\": false}, \"mode\": \"immediate\", \"transition\": {\"duration\": 0}}], \"label\": \"12\", \"method\": \"animate\"}, {\"args\": [[13], {\"frame\": {\"duration\": 100, \"redraw\": false}, \"mode\": \"immediate\", \"transition\": {\"duration\": 0}}], \"label\": \"13\", \"method\": \"animate\"}, {\"args\": [[14], {\"frame\": {\"duration\": 100, \"redraw\": false}, \"mode\": \"immediate\", \"transition\": {\"duration\": 0}}], \"label\": \"14\", \"method\": \"animate\"}, {\"args\": [[15], {\"frame\": {\"duration\": 100, \"redraw\": false}, \"mode\": \"immediate\", \"transition\": {\"duration\": 0}}], \"label\": \"15\", \"method\": \"animate\"}, {\"args\": [[16], {\"frame\": {\"duration\": 100, \"redraw\": false}, \"mode\": \"immediate\", \"transition\": {\"duration\": 0}}], \"label\": \"16\", \"method\": \"animate\"}, {\"args\": [[17], {\"frame\": {\"duration\": 100, \"redraw\": false}, \"mode\": \"immediate\", \"transition\": {\"duration\": 0}}], \"label\": \"17\", \"method\": \"animate\"}, {\"args\": [[18], {\"frame\": {\"duration\": 100, \"redraw\": false}, \"mode\": \"immediate\", \"transition\": {\"duration\": 0}}], \"label\": \"18\", \"method\": \"animate\"}, {\"args\": [[19], {\"frame\": {\"duration\": 100, \"redraw\": false}, \"mode\": \"immediate\", \"transition\": {\"duration\": 0}}], \"label\": \"19\", \"method\": \"animate\"}, {\"args\": [[20], {\"frame\": {\"duration\": 100, \"redraw\": false}, \"mode\": \"immediate\", \"transition\": {\"duration\": 0}}], \"label\": \"20\", \"method\": \"animate\"}, {\"args\": [[21], {\"frame\": {\"duration\": 100, \"redraw\": false}, \"mode\": \"immediate\", \"transition\": {\"duration\": 0}}], \"label\": \"21\", \"method\": \"animate\"}, {\"args\": [[22], {\"frame\": {\"duration\": 100, \"redraw\": false}, \"mode\": \"immediate\", \"transition\": {\"duration\": 0}}], \"label\": \"22\", \"method\": \"animate\"}, {\"args\": [[23], {\"frame\": {\"duration\": 100, \"redraw\": false}, \"mode\": \"immediate\", \"transition\": {\"duration\": 0}}], \"label\": \"23\", \"method\": \"animate\"}, {\"args\": [[24], {\"frame\": {\"duration\": 100, \"redraw\": false}, \"mode\": \"immediate\", \"transition\": {\"duration\": 0}}], \"label\": \"24\", \"method\": \"animate\"}, {\"args\": [[25], {\"frame\": {\"duration\": 100, \"redraw\": false}, \"mode\": \"immediate\", \"transition\": {\"duration\": 0}}], \"label\": \"25\", \"method\": \"animate\"}, {\"args\": [[26], {\"frame\": {\"duration\": 100, \"redraw\": false}, \"mode\": \"immediate\", \"transition\": {\"duration\": 0}}], \"label\": \"26\", \"method\": \"animate\"}, {\"args\": [[27], {\"frame\": {\"duration\": 100, \"redraw\": false}, \"mode\": \"immediate\", \"transition\": {\"duration\": 0}}], \"label\": \"27\", \"method\": \"animate\"}, {\"args\": [[28], {\"frame\": {\"duration\": 100, \"redraw\": false}, \"mode\": \"immediate\", \"transition\": {\"duration\": 0}}], \"label\": \"28\", \"method\": \"animate\"}, {\"args\": [[29], {\"frame\": {\"duration\": 100, \"redraw\": false}, \"mode\": \"immediate\", \"transition\": {\"duration\": 0}}], \"label\": \"29\", \"method\": \"animate\"}], \"transition\": {\"duration\": 300, \"easing\": \"cubic-in-out\"}, \"x\": 0.1, \"xanchor\": \"left\", \"y\": 0, \"yanchor\": \"top\"}], \"title\": {\"text\": \"(13:55) (Shotgun) Aa.Rodgers pass short right to D.Adams to GB 23 for 5 yards (I.Melifonwu).<br><br><br><br><br><br><br><br><br><br><br><br><br><br><br><br><br><br><br><br>Game Clock: 13:55<br>2Quarter\"}, \"updatemenus\": [{\"buttons\": [{\"args\": [null, {\"frame\": {\"duration\": 100, \"redraw\": false}, \"fromcurrent\": true, \"transition\": {\"duration\": 0}}], \"label\": \"Play\", \"method\": \"animate\"}, {\"args\": [[null], {\"frame\": {\"duration\": 0, \"redraw\": false}, \"mode\": \"immediate\", \"transition\": {\"duration\": 0}}], \"label\": \"Pause\", \"method\": \"animate\"}], \"direction\": \"left\", \"pad\": {\"r\": 10, \"t\": 87}, \"showactive\": false, \"type\": \"buttons\", \"x\": 0.1, \"xanchor\": \"right\", \"y\": 0, \"yanchor\": \"top\"}], \"width\": 1200, \"xaxis\": {\"autorange\": false, \"range\": [0, 120], \"showticklabels\": false, \"tickmode\": \"array\", \"tickvals\": [10, 15, 20, 25, 30, 35, 40, 45, 50, 55, 60, 65, 70, 75, 80, 85, 90, 95, 100, 105, 110]}, \"yaxis\": {\"autorange\": false, \"range\": [0, 53.3], \"showgrid\": false, \"showticklabels\": false}, \"template\": {\"data\": {\"histogram2dcontour\": [{\"type\": \"histogram2dcontour\", \"colorbar\": {\"outlinewidth\": 0, \"ticks\": \"\"}, \"colorscale\": [[0.0, \"#0d0887\"], [0.1111111111111111, \"#46039f\"], [0.2222222222222222, \"#7201a8\"], [0.3333333333333333, \"#9c179e\"], [0.4444444444444444, \"#bd3786\"], [0.5555555555555556, \"#d8576b\"], [0.6666666666666666, \"#ed7953\"], [0.7777777777777778, \"#fb9f3a\"], [0.8888888888888888, \"#fdca26\"], [1.0, \"#f0f921\"]]}], \"choropleth\": [{\"type\": \"choropleth\", \"colorbar\": {\"outlinewidth\": 0, \"ticks\": \"\"}}], \"histogram2d\": [{\"type\": \"histogram2d\", \"colorbar\": {\"outlinewidth\": 0, \"ticks\": \"\"}, \"colorscale\": [[0.0, \"#0d0887\"], [0.1111111111111111, \"#46039f\"], [0.2222222222222222, \"#7201a8\"], [0.3333333333333333, \"#9c179e\"], [0.4444444444444444, \"#bd3786\"], [0.5555555555555556, \"#d8576b\"], [0.6666666666666666, \"#ed7953\"], [0.7777777777777778, \"#fb9f3a\"], [0.8888888888888888, \"#fdca26\"], [1.0, \"#f0f921\"]]}], \"heatmap\": [{\"type\": \"heatmap\", \"colorbar\": {\"outlinewidth\": 0, \"ticks\": \"\"}, \"colorscale\": [[0.0, \"#0d0887\"], [0.1111111111111111, \"#46039f\"], [0.2222222222222222, \"#7201a8\"], [0.3333333333333333, \"#9c179e\"], [0.4444444444444444, \"#bd3786\"], [0.5555555555555556, \"#d8576b\"], [0.6666666666666666, \"#ed7953\"], [0.7777777777777778, \"#fb9f3a\"], [0.8888888888888888, \"#fdca26\"], [1.0, \"#f0f921\"]]}], \"heatmapgl\": [{\"type\": \"heatmapgl\", \"colorbar\": {\"outlinewidth\": 0, \"ticks\": \"\"}, \"colorscale\": [[0.0, \"#0d0887\"], [0.1111111111111111, \"#46039f\"], [0.2222222222222222, \"#7201a8\"], [0.3333333333333333, \"#9c179e\"], [0.4444444444444444, \"#bd3786\"], [0.5555555555555556, \"#d8576b\"], [0.6666666666666666, \"#ed7953\"], [0.7777777777777778, \"#fb9f3a\"], [0.8888888888888888, \"#fdca26\"], [1.0, \"#f0f921\"]]}], \"contourcarpet\": [{\"type\": \"contourcarpet\", \"colorbar\": {\"outlinewidth\": 0, \"ticks\": \"\"}}], \"contour\": [{\"type\": \"contour\", \"colorbar\": {\"outlinewidth\": 0, \"ticks\": \"\"}, \"colorscale\": [[0.0, \"#0d0887\"], [0.1111111111111111, \"#46039f\"], [0.2222222222222222, \"#7201a8\"], [0.3333333333333333, \"#9c179e\"], [0.4444444444444444, \"#bd3786\"], [0.5555555555555556, \"#d8576b\"], [0.6666666666666666, \"#ed7953\"], [0.7777777777777778, \"#fb9f3a\"], [0.8888888888888888, \"#fdca26\"], [1.0, \"#f0f921\"]]}], \"surface\": [{\"type\": \"surface\", \"colorbar\": {\"outlinewidth\": 0, \"ticks\": \"\"}, \"colorscale\": [[0.0, \"#0d0887\"], [0.1111111111111111, \"#46039f\"], [0.2222222222222222, \"#7201a8\"], [0.3333333333333333, \"#9c179e\"], [0.4444444444444444, \"#bd3786\"], [0.5555555555555556, \"#d8576b\"], [0.6666666666666666, \"#ed7953\"], [0.7777777777777778, \"#fb9f3a\"], [0.8888888888888888, \"#fdca26\"], [1.0, \"#f0f921\"]]}], \"mesh3d\": [{\"type\": \"mesh3d\", \"colorbar\": {\"outlinewidth\": 0, \"ticks\": \"\"}}], \"scatter\": [{\"fillpattern\": {\"fillmode\": \"overlay\", \"size\": 10, \"solidity\": 0.2}, \"type\": \"scatter\"}], \"parcoords\": [{\"type\": \"parcoords\", \"line\": {\"colorbar\": {\"outlinewidth\": 0, \"ticks\": \"\"}}}], \"scatterpolargl\": [{\"type\": \"scatterpolargl\", \"marker\": {\"colorbar\": {\"outlinewidth\": 0, \"ticks\": \"\"}}}], \"bar\": [{\"error_x\": {\"color\": \"#2a3f5f\"}, \"error_y\": {\"color\": \"#2a3f5f\"}, \"marker\": {\"line\": {\"color\": \"#E5ECF6\", \"width\": 0.5}, \"pattern\": {\"fillmode\": \"overlay\", \"size\": 10, \"solidity\": 0.2}}, \"type\": \"bar\"}], \"scattergeo\": [{\"type\": \"scattergeo\", \"marker\": {\"colorbar\": {\"outlinewidth\": 0, \"ticks\": \"\"}}}], \"scatterpolar\": [{\"type\": \"scatterpolar\", \"marker\": {\"colorbar\": {\"outlinewidth\": 0, \"ticks\": \"\"}}}], \"histogram\": [{\"marker\": {\"pattern\": {\"fillmode\": \"overlay\", \"size\": 10, \"solidity\": 0.2}}, \"type\": \"histogram\"}], \"scattergl\": [{\"type\": \"scattergl\", \"marker\": {\"colorbar\": {\"outlinewidth\": 0, \"ticks\": \"\"}}}], \"scatter3d\": [{\"type\": \"scatter3d\", \"line\": {\"colorbar\": {\"outlinewidth\": 0, \"ticks\": \"\"}}, \"marker\": {\"colorbar\": {\"outlinewidth\": 0, \"ticks\": \"\"}}}], \"scattermapbox\": [{\"type\": \"scattermapbox\", \"marker\": {\"colorbar\": {\"outlinewidth\": 0, \"ticks\": \"\"}}}], \"scatterternary\": [{\"type\": \"scatterternary\", \"marker\": {\"colorbar\": {\"outlinewidth\": 0, \"ticks\": \"\"}}}], \"scattercarpet\": [{\"type\": \"scattercarpet\", \"marker\": {\"colorbar\": {\"outlinewidth\": 0, \"ticks\": \"\"}}}], \"carpet\": [{\"aaxis\": {\"endlinecolor\": \"#2a3f5f\", \"gridcolor\": \"white\", \"linecolor\": \"white\", \"minorgridcolor\": \"white\", \"startlinecolor\": \"#2a3f5f\"}, \"baxis\": {\"endlinecolor\": \"#2a3f5f\", \"gridcolor\": \"white\", \"linecolor\": \"white\", \"minorgridcolor\": \"white\", \"startlinecolor\": \"#2a3f5f\"}, \"type\": \"carpet\"}], \"table\": [{\"cells\": {\"fill\": {\"color\": \"#EBF0F8\"}, \"line\": {\"color\": \"white\"}}, \"header\": {\"fill\": {\"color\": \"#C8D4E3\"}, \"line\": {\"color\": \"white\"}}, \"type\": \"table\"}], \"barpolar\": [{\"marker\": {\"line\": {\"color\": \"#E5ECF6\", \"width\": 0.5}, \"pattern\": {\"fillmode\": \"overlay\", \"size\": 10, \"solidity\": 0.2}}, \"type\": \"barpolar\"}], \"pie\": [{\"automargin\": true, \"type\": \"pie\"}]}, \"layout\": {\"autotypenumbers\": \"strict\", \"colorway\": [\"#636efa\", \"#EF553B\", \"#00cc96\", \"#ab63fa\", \"#FFA15A\", \"#19d3f3\", \"#FF6692\", \"#B6E880\", \"#FF97FF\", \"#FECB52\"], \"font\": {\"color\": \"#2a3f5f\"}, \"hovermode\": \"closest\", \"hoverlabel\": {\"align\": \"left\"}, \"paper_bgcolor\": \"white\", \"plot_bgcolor\": \"#E5ECF6\", \"polar\": {\"bgcolor\": \"#E5ECF6\", \"angularaxis\": {\"gridcolor\": \"white\", \"linecolor\": \"white\", \"ticks\": \"\"}, \"radialaxis\": {\"gridcolor\": \"white\", \"linecolor\": \"white\", \"ticks\": \"\"}}, \"ternary\": {\"bgcolor\": \"#E5ECF6\", \"aaxis\": {\"gridcolor\": \"white\", \"linecolor\": \"white\", \"ticks\": \"\"}, \"baxis\": {\"gridcolor\": \"white\", \"linecolor\": \"white\", \"ticks\": \"\"}, \"caxis\": {\"gridcolor\": \"white\", \"linecolor\": \"white\", \"ticks\": \"\"}}, \"coloraxis\": {\"colorbar\": {\"outlinewidth\": 0, \"ticks\": \"\"}}, \"colorscale\": {\"sequential\": [[0.0, \"#0d0887\"], [0.1111111111111111, \"#46039f\"], [0.2222222222222222, \"#7201a8\"], [0.3333333333333333, \"#9c179e\"], [0.4444444444444444, \"#bd3786\"], [0.5555555555555556, \"#d8576b\"], [0.6666666666666666, \"#ed7953\"], [0.7777777777777778, \"#fb9f3a\"], [0.8888888888888888, \"#fdca26\"], [1.0, \"#f0f921\"]], \"sequentialminus\": [[0.0, \"#0d0887\"], [0.1111111111111111, \"#46039f\"], [0.2222222222222222, \"#7201a8\"], [0.3333333333333333, \"#9c179e\"], [0.4444444444444444, \"#bd3786\"], [0.5555555555555556, \"#d8576b\"], [0.6666666666666666, \"#ed7953\"], [0.7777777777777778, \"#fb9f3a\"], [0.8888888888888888, \"#fdca26\"], [1.0, \"#f0f921\"]], \"diverging\": [[0, \"#8e0152\"], [0.1, \"#c51b7d\"], [0.2, \"#de77ae\"], [0.3, \"#f1b6da\"], [0.4, \"#fde0ef\"], [0.5, \"#f7f7f7\"], [0.6, \"#e6f5d0\"], [0.7, \"#b8e186\"], [0.8, \"#7fbc41\"], [0.9, \"#4d9221\"], [1, \"#276419\"]]}, \"xaxis\": {\"gridcolor\": \"white\", \"linecolor\": \"white\", \"ticks\": \"\", \"title\": {\"standoff\": 15}, \"zerolinecolor\": \"white\", \"automargin\": true, \"zerolinewidth\": 2}, \"yaxis\": {\"gridcolor\": \"white\", \"linecolor\": \"white\", \"ticks\": \"\", \"title\": {\"standoff\": 15}, \"zerolinecolor\": \"white\", \"automargin\": true, \"zerolinewidth\": 2}, \"scene\": {\"xaxis\": {\"backgroundcolor\": \"#E5ECF6\", \"gridcolor\": \"white\", \"linecolor\": \"white\", \"showbackground\": true, \"ticks\": \"\", \"zerolinecolor\": \"white\", \"gridwidth\": 2}, \"yaxis\": {\"backgroundcolor\": \"#E5ECF6\", \"gridcolor\": \"white\", \"linecolor\": \"white\", \"showbackground\": true, \"ticks\": \"\", \"zerolinecolor\": \"white\", \"gridwidth\": 2}, \"zaxis\": {\"backgroundcolor\": \"#E5ECF6\", \"gridcolor\": \"white\", \"linecolor\": \"white\", \"showbackground\": true, \"ticks\": \"\", \"zerolinecolor\": \"white\", \"gridwidth\": 2}}, \"shapedefaults\": {\"line\": {\"color\": \"#2a3f5f\"}}, \"annotationdefaults\": {\"arrowcolor\": \"#2a3f5f\", \"arrowhead\": 0, \"arrowwidth\": 1}, \"geo\": {\"bgcolor\": \"white\", \"landcolor\": \"#E5ECF6\", \"subunitcolor\": \"white\", \"showland\": true, \"showlakes\": true, \"lakecolor\": \"white\"}, \"title\": {\"x\": 0.05}, \"mapbox\": {\"style\": \"light\"}}}, \"annotations\": [{\"align\": \"center\", \"bgcolor\": \"#ff7f0e\", \"bordercolor\": \"black\", \"borderpad\": 4, \"borderwidth\": 2, \"font\": {\"color\": \"black\", \"family\": \"Courier New, monospace\", \"size\": 16}, \"opacity\": 1, \"showarrow\": false, \"text\": \"2\", \"x\": 102.0, \"y\": 0}, {\"align\": \"center\", \"bgcolor\": \"#ff7f0e\", \"bordercolor\": \"black\", \"borderpad\": 4, \"borderwidth\": 2, \"font\": {\"color\": \"black\", \"family\": \"Courier New, monospace\", \"size\": 16}, \"opacity\": 1, \"showarrow\": false, \"text\": \"2\", \"x\": 102.0, \"y\": 53}]}, \"frames\": [{\"data\": [{\"hoverinfo\": \"none\", \"mode\": \"text\", \"showlegend\": false, \"text\": [\"10\", \"20\", \"30\", \"40\", \"50\", \"40\", \"30\", \"20\", \"10\"], \"textfont\": {\"color\": \"#ffffff\", \"family\": \"Courier New, monospace\", \"size\": 30}, \"x\": [20, 30, 40, 50, 60, 70, 80, 90, 100], \"y\": [5, 5, 5, 5, 5, 5, 5, 5, 5], \"type\": \"scatter\"}, {\"hoverinfo\": \"none\", \"mode\": \"text\", \"showlegend\": false, \"text\": [\"10\", \"20\", \"30\", \"40\", \"50\", \"40\", \"30\", \"20\", \"10\"], \"textfont\": {\"color\": \"#ffffff\", \"family\": \"Courier New, monospace\", \"size\": 30}, \"x\": [20, 30, 40, 50, 60, 70, 80, 90, 100], \"y\": [48.5, 48.5, 48.5, 48.5, 48.5, 48.5, 48.5, 48.5, 48.5], \"type\": \"scatter\"}, {\"hoverinfo\": \"none\", \"line\": {\"color\": \"blue\", \"dash\": \"dash\"}, \"showlegend\": false, \"x\": [92.0, 92.0], \"y\": [0, 53.5], \"type\": \"scatter\"}, {\"hoverinfo\": \"none\", \"line\": {\"color\": \"yellow\", \"dash\": \"dash\"}, \"showlegend\": false, \"x\": [102.0, 102.0], \"y\": [0, 53.5], \"type\": \"scatter\"}, {\"hoverinfo\": \"text\", \"hovertext\": [\"nflId:29851.0<br>displayName:Aaron Rodgers<br>Position:QB<br>Role:Pass\", \"nflId:41282.0<br>displayName:Davante Adams<br>Position:SRoWR<br>Role:Pass Route\", \"nflId:41296.0<br>displayName:Billy Turner<br>Position:RT<br>Role:Pass Block\", \"nflId:45635.0<br>displayName:Robert Tonyan<br>Position:LWR<br>Role:Pass Route\", \"nflId:46705.0<br>displayName:Allen Lazard<br>Position:SLWR<br>Role:Pass Route\", \"nflId:47827.0<br>displayName:Elgton Jenkins<br>Position:LT<br>Role:Pass Block\", \"nflId:52470.0<br>displayName:A.J. Dillon<br>Position:RWR<br>Role:Pass Route\", \"nflId:52600.0<br>displayName:Jon Runyan<br>Position:LG<br>Role:Pass Block\", \"nflId:53172.0<br>displayName:Dominique Dafney<br>Position:SRiWR<br>Role:Pass Route\", \"nflId:53491.0<br>displayName:Josh Myers<br>Position:C<br>Role:Pass Block\", \"nflId:53571.0<br>displayName:Royce Newman<br>Position:RG<br>Role:Pass Block\"], \"marker\": {\"color\": \"#203731\"}, \"mode\": \"markers\", \"name\": \"GB\", \"x\": [96.85, 93.57, 94.06, 94.11, 92.94, 93.86, 93.72, 93.32, 92.91, 92.89, 93.61], \"y\": [23.63, 35.81, 26.95, 7.82, 14.98, 20.25, 43.5, 21.73, 31.07, 23.75, 25.43], \"type\": \"scatter\"}, {\"hoverinfo\": \"text\", \"hovertext\": [\"nflId:38544.0<br>displayName:Michael Brockers<br>Position:REO<br>Role:Pass Rush\", \"nflId:40000.0<br>displayName:Jamie Collins<br>Position:LLB<br>Role:Coverage\", \"nflId:40171.0<br>displayName:Nicholas Williams<br>Position:NT<br>Role:Pass Rush\", \"nflId:42444.0<br>displayName:Trey Flowers<br>Position:RLB<br>Role:Coverage\", \"nflId:43775.0<br>displayName:Romeo Okwara<br>Position:LEO<br>Role:Pass Rush\", \"nflId:44888.0<br>displayName:Alex Anzalone<br>Position:SCBR<br>Role:Coverage\", \"nflId:46151.0<br>displayName:Tracy Walker<br>Position:FSL<br>Role:Coverage\", \"nflId:47864.0<br>displayName:Will Harris<br>Position:FSR<br>Role:Coverage\", \"nflId:47929.0<br>displayName:Amani Oruwariye<br>Position:RCB<br>Role:Coverage\", \"nflId:53530.0<br>displayName:Ifeatu Melifonwu<br>Position:LCB<br>Role:Coverage\", \"nflId:53957.0<br>displayName:A.J. Parker<br>Position:SCBoL<br>Role:Coverage\"], \"marker\": {\"color\": \"#0076B6\"}, \"mode\": \"markers\", \"name\": \"DET\", \"x\": [91.36, 87.05, 91.22, 88.87, 92.24, 87.02, 75.48, 75.2, 91.01, 89.67, 89.16], \"y\": [18.93, 28.16, 23.62, 18.36, 29.17, 14.58, 33.81, 15.04, 7.48, 44.08, 35.74], \"type\": \"scatter\"}, {\"hoverinfo\": \"none\", \"marker\": {\"color\": \"#CBB67C\"}, \"mode\": \"markers\", \"name\": \"football\", \"x\": [92.2], \"y\": [23.77], \"type\": \"scatter\"}], \"name\": \"2\"}, {\"data\": [{\"hoverinfo\": \"none\", \"mode\": \"text\", \"showlegend\": false, \"text\": [\"10\", \"20\", \"30\", \"40\", \"50\", \"40\", \"30\", \"20\", \"10\"], \"textfont\": {\"color\": \"#ffffff\", \"family\": \"Courier New, monospace\", \"size\": 30}, \"x\": [20, 30, 40, 50, 60, 70, 80, 90, 100], \"y\": [5, 5, 5, 5, 5, 5, 5, 5, 5], \"type\": \"scatter\"}, {\"hoverinfo\": \"none\", \"mode\": \"text\", \"showlegend\": false, \"text\": [\"10\", \"20\", \"30\", \"40\", \"50\", \"40\", \"30\", \"20\", \"10\"], \"textfont\": {\"color\": \"#ffffff\", \"family\": \"Courier New, monospace\", \"size\": 30}, \"x\": [20, 30, 40, 50, 60, 70, 80, 90, 100], \"y\": [48.5, 48.5, 48.5, 48.5, 48.5, 48.5, 48.5, 48.5, 48.5], \"type\": \"scatter\"}, {\"hoverinfo\": \"none\", \"line\": {\"color\": \"blue\", \"dash\": \"dash\"}, \"showlegend\": false, \"x\": [92.0, 92.0], \"y\": [0, 53.5], \"type\": \"scatter\"}, {\"hoverinfo\": \"none\", \"line\": {\"color\": \"yellow\", \"dash\": \"dash\"}, \"showlegend\": false, \"x\": [102.0, 102.0], \"y\": [0, 53.5], \"type\": \"scatter\"}, {\"hoverinfo\": \"text\", \"hovertext\": [\"nflId:29851.0<br>displayName:Aaron Rodgers<br>Position:QB<br>Role:Pass\", \"nflId:41282.0<br>displayName:Davante Adams<br>Position:SRoWR<br>Role:Pass Route\", \"nflId:41296.0<br>displayName:Billy Turner<br>Position:RT<br>Role:Pass Block\", \"nflId:45635.0<br>displayName:Robert Tonyan<br>Position:LWR<br>Role:Pass Route\", \"nflId:46705.0<br>displayName:Allen Lazard<br>Position:SLWR<br>Role:Pass Route\", \"nflId:47827.0<br>displayName:Elgton Jenkins<br>Position:LT<br>Role:Pass Block\", \"nflId:52470.0<br>displayName:A.J. Dillon<br>Position:RWR<br>Role:Pass Route\", \"nflId:52600.0<br>displayName:Jon Runyan<br>Position:LG<br>Role:Pass Block\", \"nflId:53172.0<br>displayName:Dominique Dafney<br>Position:SRiWR<br>Role:Pass Route\", \"nflId:53491.0<br>displayName:Josh Myers<br>Position:C<br>Role:Pass Block\", \"nflId:53571.0<br>displayName:Royce Newman<br>Position:RG<br>Role:Pass Block\"], \"marker\": {\"color\": \"#203731\"}, \"mode\": \"markers\", \"name\": \"GB\", \"x\": [96.83, 93.57, 94.06, 94.11, 92.94, 93.86, 93.72, 93.33, 92.91, 92.89, 93.61], \"y\": [23.62, 35.81, 26.95, 7.82, 14.98, 20.25, 43.5, 21.73, 31.07, 23.74, 25.43], \"type\": \"scatter\"}, {\"hoverinfo\": \"text\", \"hovertext\": [\"nflId:38544.0<br>displayName:Michael Brockers<br>Position:REO<br>Role:Pass Rush\", \"nflId:40000.0<br>displayName:Jamie Collins<br>Position:LLB<br>Role:Coverage\", \"nflId:40171.0<br>displayName:Nicholas Williams<br>Position:NT<br>Role:Pass Rush\", \"nflId:42444.0<br>displayName:Trey Flowers<br>Position:RLB<br>Role:Coverage\", \"nflId:43775.0<br>displayName:Romeo Okwara<br>Position:LEO<br>Role:Pass Rush\", \"nflId:44888.0<br>displayName:Alex Anzalone<br>Position:SCBR<br>Role:Coverage\", \"nflId:46151.0<br>displayName:Tracy Walker<br>Position:FSL<br>Role:Coverage\", \"nflId:47864.0<br>displayName:Will Harris<br>Position:FSR<br>Role:Coverage\", \"nflId:47929.0<br>displayName:Amani Oruwariye<br>Position:RCB<br>Role:Coverage\", \"nflId:53530.0<br>displayName:Ifeatu Melifonwu<br>Position:LCB<br>Role:Coverage\", \"nflId:53957.0<br>displayName:A.J. Parker<br>Position:SCBoL<br>Role:Coverage\"], \"marker\": {\"color\": \"#0076B6\"}, \"mode\": \"markers\", \"name\": \"DET\", \"x\": [91.37, 87.05, 91.22, 88.87, 92.24, 87.02, 75.45, 75.19, 91.02, 89.66, 89.14], \"y\": [18.92, 28.16, 23.62, 18.36, 29.17, 14.57, 33.83, 15.05, 7.48, 44.09, 35.72], \"type\": \"scatter\"}, {\"hoverinfo\": \"none\", \"marker\": {\"color\": \"#CBB67C\"}, \"mode\": \"markers\", \"name\": \"football\", \"x\": [92.2], \"y\": [23.77], \"type\": \"scatter\"}], \"name\": \"3\"}, {\"data\": [{\"hoverinfo\": \"none\", \"mode\": \"text\", \"showlegend\": false, \"text\": [\"10\", \"20\", \"30\", \"40\", \"50\", \"40\", \"30\", \"20\", \"10\"], \"textfont\": {\"color\": \"#ffffff\", \"family\": \"Courier New, monospace\", \"size\": 30}, \"x\": [20, 30, 40, 50, 60, 70, 80, 90, 100], \"y\": [5, 5, 5, 5, 5, 5, 5, 5, 5], \"type\": \"scatter\"}, {\"hoverinfo\": \"none\", \"mode\": \"text\", \"showlegend\": false, \"text\": [\"10\", \"20\", \"30\", \"40\", \"50\", \"40\", \"30\", \"20\", \"10\"], \"textfont\": {\"color\": \"#ffffff\", \"family\": \"Courier New, monospace\", \"size\": 30}, \"x\": [20, 30, 40, 50, 60, 70, 80, 90, 100], \"y\": [48.5, 48.5, 48.5, 48.5, 48.5, 48.5, 48.5, 48.5, 48.5], \"type\": \"scatter\"}, {\"hoverinfo\": \"none\", \"line\": {\"color\": \"blue\", \"dash\": \"dash\"}, \"showlegend\": false, \"x\": [92.0, 92.0], \"y\": [0, 53.5], \"type\": \"scatter\"}, {\"hoverinfo\": \"none\", \"line\": {\"color\": \"yellow\", \"dash\": \"dash\"}, \"showlegend\": false, \"x\": [102.0, 102.0], \"y\": [0, 53.5], \"type\": \"scatter\"}, {\"hoverinfo\": \"text\", \"hovertext\": [\"nflId:29851.0<br>displayName:Aaron Rodgers<br>Position:QB<br>Role:Pass\", \"nflId:41282.0<br>displayName:Davante Adams<br>Position:SRoWR<br>Role:Pass Route\", \"nflId:41296.0<br>displayName:Billy Turner<br>Position:RT<br>Role:Pass Block\", \"nflId:45635.0<br>displayName:Robert Tonyan<br>Position:LWR<br>Role:Pass Route\", \"nflId:46705.0<br>displayName:Allen Lazard<br>Position:SLWR<br>Role:Pass Route\", \"nflId:47827.0<br>displayName:Elgton Jenkins<br>Position:LT<br>Role:Pass Block\", \"nflId:52470.0<br>displayName:A.J. Dillon<br>Position:RWR<br>Role:Pass Route\", \"nflId:52600.0<br>displayName:Jon Runyan<br>Position:LG<br>Role:Pass Block\", \"nflId:53172.0<br>displayName:Dominique Dafney<br>Position:SRiWR<br>Role:Pass Route\", \"nflId:53491.0<br>displayName:Josh Myers<br>Position:C<br>Role:Pass Block\", \"nflId:53571.0<br>displayName:Royce Newman<br>Position:RG<br>Role:Pass Block\"], \"marker\": {\"color\": \"#203731\"}, \"mode\": \"markers\", \"name\": \"GB\", \"x\": [96.8, 93.57, 94.07, 94.11, 92.94, 93.86, 93.72, 93.33, 92.91, 92.9, 93.61], \"y\": [23.61, 35.81, 26.95, 7.82, 14.98, 20.25, 43.5, 21.74, 31.07, 23.74, 25.44], \"type\": \"scatter\"}, {\"hoverinfo\": \"text\", \"hovertext\": [\"nflId:38544.0<br>displayName:Michael Brockers<br>Position:REO<br>Role:Pass Rush\", \"nflId:40000.0<br>displayName:Jamie Collins<br>Position:LLB<br>Role:Coverage\", \"nflId:40171.0<br>displayName:Nicholas Williams<br>Position:NT<br>Role:Pass Rush\", \"nflId:42444.0<br>displayName:Trey Flowers<br>Position:RLB<br>Role:Coverage\", \"nflId:43775.0<br>displayName:Romeo Okwara<br>Position:LEO<br>Role:Pass Rush\", \"nflId:44888.0<br>displayName:Alex Anzalone<br>Position:SCBR<br>Role:Coverage\", \"nflId:46151.0<br>displayName:Tracy Walker<br>Position:FSL<br>Role:Coverage\", \"nflId:47864.0<br>displayName:Will Harris<br>Position:FSR<br>Role:Coverage\", \"nflId:47929.0<br>displayName:Amani Oruwariye<br>Position:RCB<br>Role:Coverage\", \"nflId:53530.0<br>displayName:Ifeatu Melifonwu<br>Position:LCB<br>Role:Coverage\", \"nflId:53957.0<br>displayName:A.J. Parker<br>Position:SCBoL<br>Role:Coverage\"], \"marker\": {\"color\": \"#0076B6\"}, \"mode\": \"markers\", \"name\": \"DET\", \"x\": [91.37, 87.05, 91.23, 88.88, 92.22, 87.02, 75.41, 75.19, 91.0, 89.67, 89.11], \"y\": [18.92, 28.16, 23.63, 18.36, 29.18, 14.58, 33.87, 15.06, 7.47, 44.08, 35.7], \"type\": \"scatter\"}, {\"hoverinfo\": \"none\", \"marker\": {\"color\": \"#CBB67C\"}, \"mode\": \"markers\", \"name\": \"football\", \"x\": [92.2], \"y\": [23.77], \"type\": \"scatter\"}], \"name\": \"4\"}, {\"data\": [{\"hoverinfo\": \"none\", \"mode\": \"text\", \"showlegend\": false, \"text\": [\"10\", \"20\", \"30\", \"40\", \"50\", \"40\", \"30\", \"20\", \"10\"], \"textfont\": {\"color\": \"#ffffff\", \"family\": \"Courier New, monospace\", \"size\": 30}, \"x\": [20, 30, 40, 50, 60, 70, 80, 90, 100], \"y\": [5, 5, 5, 5, 5, 5, 5, 5, 5], \"type\": \"scatter\"}, {\"hoverinfo\": \"none\", \"mode\": \"text\", \"showlegend\": false, \"text\": [\"10\", \"20\", \"30\", \"40\", \"50\", \"40\", \"30\", \"20\", \"10\"], \"textfont\": {\"color\": \"#ffffff\", \"family\": \"Courier New, monospace\", \"size\": 30}, \"x\": [20, 30, 40, 50, 60, 70, 80, 90, 100], \"y\": [48.5, 48.5, 48.5, 48.5, 48.5, 48.5, 48.5, 48.5, 48.5], \"type\": \"scatter\"}, {\"hoverinfo\": \"none\", \"line\": {\"color\": \"blue\", \"dash\": \"dash\"}, \"showlegend\": false, \"x\": [92.0, 92.0], \"y\": [0, 53.5], \"type\": \"scatter\"}, {\"hoverinfo\": \"none\", \"line\": {\"color\": \"yellow\", \"dash\": \"dash\"}, \"showlegend\": false, \"x\": [102.0, 102.0], \"y\": [0, 53.5], \"type\": \"scatter\"}, {\"hoverinfo\": \"text\", \"hovertext\": [\"nflId:29851.0<br>displayName:Aaron Rodgers<br>Position:QB<br>Role:Pass\", \"nflId:41282.0<br>displayName:Davante Adams<br>Position:SRoWR<br>Role:Pass Route\", \"nflId:41296.0<br>displayName:Billy Turner<br>Position:RT<br>Role:Pass Block\", \"nflId:45635.0<br>displayName:Robert Tonyan<br>Position:LWR<br>Role:Pass Route\", \"nflId:46705.0<br>displayName:Allen Lazard<br>Position:SLWR<br>Role:Pass Route\", \"nflId:47827.0<br>displayName:Elgton Jenkins<br>Position:LT<br>Role:Pass Block\", \"nflId:52470.0<br>displayName:A.J. Dillon<br>Position:RWR<br>Role:Pass Route\", \"nflId:52600.0<br>displayName:Jon Runyan<br>Position:LG<br>Role:Pass Block\", \"nflId:53172.0<br>displayName:Dominique Dafney<br>Position:SRiWR<br>Role:Pass Route\", \"nflId:53491.0<br>displayName:Josh Myers<br>Position:C<br>Role:Pass Block\", \"nflId:53571.0<br>displayName:Royce Newman<br>Position:RG<br>Role:Pass Block\"], \"marker\": {\"color\": \"#203731\"}, \"mode\": \"markers\", \"name\": \"GB\", \"x\": [96.78, 93.57, 94.07, 94.1, 92.94, 93.86, 93.72, 93.33, 92.91, 92.92, 93.61], \"y\": [23.6, 35.81, 26.96, 7.81, 14.98, 20.25, 43.5, 21.74, 31.07, 23.74, 25.45], \"type\": \"scatter\"}, {\"hoverinfo\": \"text\", \"hovertext\": [\"nflId:38544.0<br>displayName:Michael Brockers<br>Position:REO<br>Role:Pass Rush\", \"nflId:40000.0<br>displayName:Jamie Collins<br>Position:LLB<br>Role:Coverage\", \"nflId:40171.0<br>displayName:Nicholas Williams<br>Position:NT<br>Role:Pass Rush\", \"nflId:42444.0<br>displayName:Trey Flowers<br>Position:RLB<br>Role:Coverage\", \"nflId:43775.0<br>displayName:Romeo Okwara<br>Position:LEO<br>Role:Pass Rush\", \"nflId:44888.0<br>displayName:Alex Anzalone<br>Position:SCBR<br>Role:Coverage\", \"nflId:46151.0<br>displayName:Tracy Walker<br>Position:FSL<br>Role:Coverage\", \"nflId:47864.0<br>displayName:Will Harris<br>Position:FSR<br>Role:Coverage\", \"nflId:47929.0<br>displayName:Amani Oruwariye<br>Position:RCB<br>Role:Coverage\", \"nflId:53530.0<br>displayName:Ifeatu Melifonwu<br>Position:LCB<br>Role:Coverage\", \"nflId:53957.0<br>displayName:A.J. Parker<br>Position:SCBoL<br>Role:Coverage\"], \"marker\": {\"color\": \"#0076B6\"}, \"mode\": \"markers\", \"name\": \"DET\", \"x\": [91.37, 87.05, 91.26, 88.88, 92.22, 87.03, 75.39, 75.18, 91.0, 89.66, 89.07], \"y\": [18.91, 28.16, 23.65, 18.36, 29.18, 14.58, 33.89, 15.06, 7.42, 44.08, 35.68], \"type\": \"scatter\"}, {\"hoverinfo\": \"none\", \"marker\": {\"color\": \"#CBB67C\"}, \"mode\": \"markers\", \"name\": \"football\", \"x\": [92.2], \"y\": [23.77], \"type\": \"scatter\"}], \"name\": \"5\"}, {\"data\": [{\"hoverinfo\": \"none\", \"mode\": \"text\", \"showlegend\": false, \"text\": [\"10\", \"20\", \"30\", \"40\", \"50\", \"40\", \"30\", \"20\", \"10\"], \"textfont\": {\"color\": \"#ffffff\", \"family\": \"Courier New, monospace\", \"size\": 30}, \"x\": [20, 30, 40, 50, 60, 70, 80, 90, 100], \"y\": [5, 5, 5, 5, 5, 5, 5, 5, 5], \"type\": \"scatter\"}, {\"hoverinfo\": \"none\", \"mode\": \"text\", \"showlegend\": false, \"text\": [\"10\", \"20\", \"30\", \"40\", \"50\", \"40\", \"30\", \"20\", \"10\"], \"textfont\": {\"color\": \"#ffffff\", \"family\": \"Courier New, monospace\", \"size\": 30}, \"x\": [20, 30, 40, 50, 60, 70, 80, 90, 100], \"y\": [48.5, 48.5, 48.5, 48.5, 48.5, 48.5, 48.5, 48.5, 48.5], \"type\": \"scatter\"}, {\"hoverinfo\": \"none\", \"line\": {\"color\": \"blue\", \"dash\": \"dash\"}, \"showlegend\": false, \"x\": [92.0, 92.0], \"y\": [0, 53.5], \"type\": \"scatter\"}, {\"hoverinfo\": \"none\", \"line\": {\"color\": \"yellow\", \"dash\": \"dash\"}, \"showlegend\": false, \"x\": [102.0, 102.0], \"y\": [0, 53.5], \"type\": \"scatter\"}, {\"hoverinfo\": \"text\", \"hovertext\": [\"nflId:29851.0<br>displayName:Aaron Rodgers<br>Position:QB<br>Role:Pass\", \"nflId:41282.0<br>displayName:Davante Adams<br>Position:SRoWR<br>Role:Pass Route\", \"nflId:41296.0<br>displayName:Billy Turner<br>Position:RT<br>Role:Pass Block\", \"nflId:45635.0<br>displayName:Robert Tonyan<br>Position:LWR<br>Role:Pass Route\", \"nflId:46705.0<br>displayName:Allen Lazard<br>Position:SLWR<br>Role:Pass Route\", \"nflId:47827.0<br>displayName:Elgton Jenkins<br>Position:LT<br>Role:Pass Block\", \"nflId:52470.0<br>displayName:A.J. Dillon<br>Position:RWR<br>Role:Pass Route\", \"nflId:52600.0<br>displayName:Jon Runyan<br>Position:LG<br>Role:Pass Block\", \"nflId:53172.0<br>displayName:Dominique Dafney<br>Position:SRiWR<br>Role:Pass Route\", \"nflId:53491.0<br>displayName:Josh Myers<br>Position:C<br>Role:Pass Block\", \"nflId:53571.0<br>displayName:Royce Newman<br>Position:RG<br>Role:Pass Block\"], \"marker\": {\"color\": \"#203731\"}, \"mode\": \"markers\", \"name\": \"GB\", \"x\": [96.78, 93.57, 94.07, 94.1, 92.94, 93.86, 93.72, 93.35, 92.91, 92.95, 93.62], \"y\": [23.59, 35.81, 26.97, 7.81, 14.98, 20.25, 43.5, 21.73, 31.07, 23.73, 25.47], \"type\": \"scatter\"}, {\"hoverinfo\": \"text\", \"hovertext\": [\"nflId:38544.0<br>displayName:Michael Brockers<br>Position:REO<br>Role:Pass Rush\", \"nflId:40000.0<br>displayName:Jamie Collins<br>Position:LLB<br>Role:Coverage\", \"nflId:40171.0<br>displayName:Nicholas Williams<br>Position:NT<br>Role:Pass Rush\", \"nflId:42444.0<br>displayName:Trey Flowers<br>Position:RLB<br>Role:Coverage\", \"nflId:43775.0<br>displayName:Romeo Okwara<br>Position:LEO<br>Role:Pass Rush\", \"nflId:44888.0<br>displayName:Alex Anzalone<br>Position:SCBR<br>Role:Coverage\", \"nflId:46151.0<br>displayName:Tracy Walker<br>Position:FSL<br>Role:Coverage\", \"nflId:47864.0<br>displayName:Will Harris<br>Position:FSR<br>Role:Coverage\", \"nflId:47929.0<br>displayName:Amani Oruwariye<br>Position:RCB<br>Role:Coverage\", \"nflId:53530.0<br>displayName:Ifeatu Melifonwu<br>Position:LCB<br>Role:Coverage\", \"nflId:53957.0<br>displayName:A.J. Parker<br>Position:SCBoL<br>Role:Coverage\"], \"marker\": {\"color\": \"#0076B6\"}, \"mode\": \"markers\", \"name\": \"DET\", \"x\": [91.39, 87.04, 91.3, 88.89, 92.23, 87.03, 75.34, 75.17, 90.98, 89.66, 88.99], \"y\": [18.89, 28.17, 23.67, 18.36, 29.18, 14.59, 33.91, 15.05, 7.42, 44.08, 35.63], \"type\": \"scatter\"}, {\"hoverinfo\": \"none\", \"marker\": {\"color\": \"#CBB67C\"}, \"mode\": \"markers\", \"name\": \"football\", \"x\": [92.2], \"y\": [23.77], \"type\": \"scatter\"}], \"name\": \"6\"}, {\"data\": [{\"hoverinfo\": \"none\", \"mode\": \"text\", \"showlegend\": false, \"text\": [\"10\", \"20\", \"30\", \"40\", \"50\", \"40\", \"30\", \"20\", \"10\"], \"textfont\": {\"color\": \"#ffffff\", \"family\": \"Courier New, monospace\", \"size\": 30}, \"x\": [20, 30, 40, 50, 60, 70, 80, 90, 100], \"y\": [5, 5, 5, 5, 5, 5, 5, 5, 5], \"type\": \"scatter\"}, {\"hoverinfo\": \"none\", \"mode\": \"text\", \"showlegend\": false, \"text\": [\"10\", \"20\", \"30\", \"40\", \"50\", \"40\", \"30\", \"20\", \"10\"], \"textfont\": {\"color\": \"#ffffff\", \"family\": \"Courier New, monospace\", \"size\": 30}, \"x\": [20, 30, 40, 50, 60, 70, 80, 90, 100], \"y\": [48.5, 48.5, 48.5, 48.5, 48.5, 48.5, 48.5, 48.5, 48.5], \"type\": \"scatter\"}, {\"hoverinfo\": \"none\", \"line\": {\"color\": \"blue\", \"dash\": \"dash\"}, \"showlegend\": false, \"x\": [92.0, 92.0], \"y\": [0, 53.5], \"type\": \"scatter\"}, {\"hoverinfo\": \"none\", \"line\": {\"color\": \"yellow\", \"dash\": \"dash\"}, \"showlegend\": false, \"x\": [102.0, 102.0], \"y\": [0, 53.5], \"type\": \"scatter\"}, {\"hoverinfo\": \"text\", \"hovertext\": [\"nflId:29851.0<br>displayName:Aaron Rodgers<br>Position:QB<br>Role:Pass\", \"nflId:41282.0<br>displayName:Davante Adams<br>Position:SRoWR<br>Role:Pass Route\", \"nflId:41296.0<br>displayName:Billy Turner<br>Position:RT<br>Role:Pass Block\", \"nflId:45635.0<br>displayName:Robert Tonyan<br>Position:LWR<br>Role:Pass Route\", \"nflId:46705.0<br>displayName:Allen Lazard<br>Position:SLWR<br>Role:Pass Route\", \"nflId:47827.0<br>displayName:Elgton Jenkins<br>Position:LT<br>Role:Pass Block\", \"nflId:52470.0<br>displayName:A.J. Dillon<br>Position:RWR<br>Role:Pass Route\", \"nflId:52600.0<br>displayName:Jon Runyan<br>Position:LG<br>Role:Pass Block\", \"nflId:53172.0<br>displayName:Dominique Dafney<br>Position:SRiWR<br>Role:Pass Route\", \"nflId:53491.0<br>displayName:Josh Myers<br>Position:C<br>Role:Pass Block\", \"nflId:53571.0<br>displayName:Royce Newman<br>Position:RG<br>Role:Pass Block\"], \"marker\": {\"color\": \"#203731\"}, \"mode\": \"markers\", \"name\": \"GB\", \"x\": [96.79, 93.57, 94.08, 94.09, 92.93, 93.87, 93.71, 93.37, 92.89, 93.02, 93.65], \"y\": [23.59, 35.81, 27.0, 7.81, 14.98, 20.24, 43.5, 21.73, 31.07, 23.72, 25.52], \"type\": \"scatter\"}, {\"hoverinfo\": \"text\", \"hovertext\": [\"nflId:38544.0<br>displayName:Michael Brockers<br>Position:REO<br>Role:Pass Rush\", \"nflId:40000.0<br>displayName:Jamie Collins<br>Position:LLB<br>Role:Coverage\", \"nflId:40171.0<br>displayName:Nicholas Williams<br>Position:NT<br>Role:Pass Rush\", \"nflId:42444.0<br>displayName:Trey Flowers<br>Position:RLB<br>Role:Coverage\", \"nflId:43775.0<br>displayName:Romeo Okwara<br>Position:LEO<br>Role:Pass Rush\", \"nflId:44888.0<br>displayName:Alex Anzalone<br>Position:SCBR<br>Role:Coverage\", \"nflId:46151.0<br>displayName:Tracy Walker<br>Position:FSL<br>Role:Coverage\", \"nflId:47864.0<br>displayName:Will Harris<br>Position:FSR<br>Role:Coverage\", \"nflId:47929.0<br>displayName:Amani Oruwariye<br>Position:RCB<br>Role:Coverage\", \"nflId:53530.0<br>displayName:Ifeatu Melifonwu<br>Position:LCB<br>Role:Coverage\", \"nflId:53957.0<br>displayName:A.J. Parker<br>Position:SCBoL<br>Role:Coverage\"], \"marker\": {\"color\": \"#0076B6\"}, \"mode\": \"markers\", \"name\": \"DET\", \"x\": [91.41, 87.04, 91.38, 88.89, 92.25, 87.03, 75.27, 75.16, 90.97, 89.66, 88.85], \"y\": [18.88, 28.17, 23.71, 18.37, 29.18, 14.59, 33.95, 15.04, 7.4, 44.09, 35.55], \"type\": \"scatter\"}, {\"hoverinfo\": \"none\", \"marker\": {\"color\": \"#CBB67C\"}, \"mode\": \"markers\", \"name\": \"football\", \"x\": [92.2], \"y\": [23.77], \"type\": \"scatter\"}], \"name\": \"7\"}, {\"data\": [{\"hoverinfo\": \"none\", \"mode\": \"text\", \"showlegend\": false, \"text\": [\"10\", \"20\", \"30\", \"40\", \"50\", \"40\", \"30\", \"20\", \"10\"], \"textfont\": {\"color\": \"#ffffff\", \"family\": \"Courier New, monospace\", \"size\": 30}, \"x\": [20, 30, 40, 50, 60, 70, 80, 90, 100], \"y\": [5, 5, 5, 5, 5, 5, 5, 5, 5], \"type\": \"scatter\"}, {\"hoverinfo\": \"none\", \"mode\": \"text\", \"showlegend\": false, \"text\": [\"10\", \"20\", \"30\", \"40\", \"50\", \"40\", \"30\", \"20\", \"10\"], \"textfont\": {\"color\": \"#ffffff\", \"family\": \"Courier New, monospace\", \"size\": 30}, \"x\": [20, 30, 40, 50, 60, 70, 80, 90, 100], \"y\": [48.5, 48.5, 48.5, 48.5, 48.5, 48.5, 48.5, 48.5, 48.5], \"type\": \"scatter\"}, {\"hoverinfo\": \"none\", \"line\": {\"color\": \"blue\", \"dash\": \"dash\"}, \"showlegend\": false, \"x\": [92.0, 92.0], \"y\": [0, 53.5], \"type\": \"scatter\"}, {\"hoverinfo\": \"none\", \"line\": {\"color\": \"yellow\", \"dash\": \"dash\"}, \"showlegend\": false, \"x\": [102.0, 102.0], \"y\": [0, 53.5], \"type\": \"scatter\"}, {\"hoverinfo\": \"text\", \"hovertext\": [\"nflId:29851.0<br>displayName:Aaron Rodgers<br>Position:QB<br>Role:Pass\", \"nflId:41282.0<br>displayName:Davante Adams<br>Position:SRoWR<br>Role:Pass Route\", \"nflId:41296.0<br>displayName:Billy Turner<br>Position:RT<br>Role:Pass Block\", \"nflId:45635.0<br>displayName:Robert Tonyan<br>Position:LWR<br>Role:Pass Route\", \"nflId:46705.0<br>displayName:Allen Lazard<br>Position:SLWR<br>Role:Pass Route\", \"nflId:47827.0<br>displayName:Elgton Jenkins<br>Position:LT<br>Role:Pass Block\", \"nflId:52470.0<br>displayName:A.J. Dillon<br>Position:RWR<br>Role:Pass Route\", \"nflId:52600.0<br>displayName:Jon Runyan<br>Position:LG<br>Role:Pass Block\", \"nflId:53172.0<br>displayName:Dominique Dafney<br>Position:SRiWR<br>Role:Pass Route\", \"nflId:53491.0<br>displayName:Josh Myers<br>Position:C<br>Role:Pass Block\", \"nflId:53571.0<br>displayName:Royce Newman<br>Position:RG<br>Role:Pass Block\"], \"marker\": {\"color\": \"#203731\"}, \"mode\": \"markers\", \"name\": \"GB\", \"x\": [96.83, 93.55, 94.13, 94.07, 92.92, 93.87, 93.7, 93.43, 92.86, 93.11, 93.71], \"y\": [23.61, 35.81, 27.06, 7.8, 14.99, 20.24, 43.5, 21.71, 31.06, 23.72, 25.57], \"type\": \"scatter\"}, {\"hoverinfo\": \"text\", \"hovertext\": [\"nflId:38544.0<br>displayName:Michael Brockers<br>Position:REO<br>Role:Pass Rush\", \"nflId:40000.0<br>displayName:Jamie Collins<br>Position:LLB<br>Role:Coverage\", \"nflId:40171.0<br>displayName:Nicholas Williams<br>Position:NT<br>Role:Pass Rush\", \"nflId:42444.0<br>displayName:Trey Flowers<br>Position:RLB<br>Role:Coverage\", \"nflId:43775.0<br>displayName:Romeo Okwara<br>Position:LEO<br>Role:Pass Rush\", \"nflId:44888.0<br>displayName:Alex Anzalone<br>Position:SCBR<br>Role:Coverage\", \"nflId:46151.0<br>displayName:Tracy Walker<br>Position:FSL<br>Role:Coverage\", \"nflId:47864.0<br>displayName:Will Harris<br>Position:FSR<br>Role:Coverage\", \"nflId:47929.0<br>displayName:Amani Oruwariye<br>Position:RCB<br>Role:Coverage\", \"nflId:53530.0<br>displayName:Ifeatu Melifonwu<br>Position:LCB<br>Role:Coverage\", \"nflId:53957.0<br>displayName:A.J. Parker<br>Position:SCBoL<br>Role:Coverage\"], \"marker\": {\"color\": \"#0076B6\"}, \"mode\": \"markers\", \"name\": \"DET\", \"x\": [91.45, 87.04, 91.48, 88.89, 92.29, 87.04, 75.16, 75.16, 90.96, 89.66, 88.65], \"y\": [18.85, 28.17, 23.75, 18.38, 29.18, 14.58, 34.0, 15.04, 7.38, 44.1, 35.43], \"type\": \"scatter\"}, {\"hoverinfo\": \"none\", \"marker\": {\"color\": \"#CBB67C\"}, \"mode\": \"markers\", \"name\": \"football\", \"x\": [94.1], \"y\": [23.71], \"type\": \"scatter\"}], \"name\": \"8\"}, {\"data\": [{\"hoverinfo\": \"none\", \"mode\": \"text\", \"showlegend\": false, \"text\": [\"10\", \"20\", \"30\", \"40\", \"50\", \"40\", \"30\", \"20\", \"10\"], \"textfont\": {\"color\": \"#ffffff\", \"family\": \"Courier New, monospace\", \"size\": 30}, \"x\": [20, 30, 40, 50, 60, 70, 80, 90, 100], \"y\": [5, 5, 5, 5, 5, 5, 5, 5, 5], \"type\": \"scatter\"}, {\"hoverinfo\": \"none\", \"mode\": \"text\", \"showlegend\": false, \"text\": [\"10\", \"20\", \"30\", \"40\", \"50\", \"40\", \"30\", \"20\", \"10\"], \"textfont\": {\"color\": \"#ffffff\", \"family\": \"Courier New, monospace\", \"size\": 30}, \"x\": [20, 30, 40, 50, 60, 70, 80, 90, 100], \"y\": [48.5, 48.5, 48.5, 48.5, 48.5, 48.5, 48.5, 48.5, 48.5], \"type\": \"scatter\"}, {\"hoverinfo\": \"none\", \"line\": {\"color\": \"blue\", \"dash\": \"dash\"}, \"showlegend\": false, \"x\": [92.0, 92.0], \"y\": [0, 53.5], \"type\": \"scatter\"}, {\"hoverinfo\": \"none\", \"line\": {\"color\": \"yellow\", \"dash\": \"dash\"}, \"showlegend\": false, \"x\": [102.0, 102.0], \"y\": [0, 53.5], \"type\": \"scatter\"}, {\"hoverinfo\": \"text\", \"hovertext\": [\"nflId:29851.0<br>displayName:Aaron Rodgers<br>Position:QB<br>Role:Pass\", \"nflId:41282.0<br>displayName:Davante Adams<br>Position:SRoWR<br>Role:Pass Route\", \"nflId:41296.0<br>displayName:Billy Turner<br>Position:RT<br>Role:Pass Block\", \"nflId:45635.0<br>displayName:Robert Tonyan<br>Position:LWR<br>Role:Pass Route\", \"nflId:46705.0<br>displayName:Allen Lazard<br>Position:SLWR<br>Role:Pass Route\", \"nflId:47827.0<br>displayName:Elgton Jenkins<br>Position:LT<br>Role:Pass Block\", \"nflId:52470.0<br>displayName:A.J. Dillon<br>Position:RWR<br>Role:Pass Route\", \"nflId:52600.0<br>displayName:Jon Runyan<br>Position:LG<br>Role:Pass Block\", \"nflId:53172.0<br>displayName:Dominique Dafney<br>Position:SRiWR<br>Role:Pass Route\", \"nflId:53491.0<br>displayName:Josh Myers<br>Position:C<br>Role:Pass Block\", \"nflId:53571.0<br>displayName:Royce Newman<br>Position:RG<br>Role:Pass Block\"], \"marker\": {\"color\": \"#203731\"}, \"mode\": \"markers\", \"name\": \"GB\", \"x\": [96.9, 93.54, 94.19, 94.02, 92.9, 93.89, 93.67, 93.51, 92.8, 93.21, 93.79], \"y\": [23.63, 35.81, 27.14, 7.78, 14.98, 20.23, 43.5, 21.68, 31.05, 23.72, 25.65], \"type\": \"scatter\"}, {\"hoverinfo\": \"text\", \"hovertext\": [\"nflId:38544.0<br>displayName:Michael Brockers<br>Position:REO<br>Role:Pass Rush\", \"nflId:40000.0<br>displayName:Jamie Collins<br>Position:LLB<br>Role:Coverage\", \"nflId:40171.0<br>displayName:Nicholas Williams<br>Position:NT<br>Role:Pass Rush\", \"nflId:42444.0<br>displayName:Trey Flowers<br>Position:RLB<br>Role:Coverage\", \"nflId:43775.0<br>displayName:Romeo Okwara<br>Position:LEO<br>Role:Pass Rush\", \"nflId:44888.0<br>displayName:Alex Anzalone<br>Position:SCBR<br>Role:Coverage\", \"nflId:46151.0<br>displayName:Tracy Walker<br>Position:FSL<br>Role:Coverage\", \"nflId:47864.0<br>displayName:Will Harris<br>Position:FSR<br>Role:Coverage\", \"nflId:47929.0<br>displayName:Amani Oruwariye<br>Position:RCB<br>Role:Coverage\", \"nflId:53530.0<br>displayName:Ifeatu Melifonwu<br>Position:LCB<br>Role:Coverage\", \"nflId:53957.0<br>displayName:A.J. Parker<br>Position:SCBoL<br>Role:Coverage\"], \"marker\": {\"color\": \"#0076B6\"}, \"mode\": \"markers\", \"name\": \"DET\", \"x\": [91.55, 87.03, 91.64, 88.9, 92.38, 87.04, 75.02, 75.13, 90.95, 89.66, 88.41], \"y\": [18.82, 28.17, 23.8, 18.39, 29.17, 14.58, 34.08, 15.05, 7.37, 44.12, 35.3], \"type\": \"scatter\"}, {\"hoverinfo\": \"none\", \"marker\": {\"color\": \"#CBB67C\"}, \"mode\": \"markers\", \"name\": \"football\", \"x\": [94.7], \"y\": [23.73], \"type\": \"scatter\"}], \"name\": \"9\"}, {\"data\": [{\"hoverinfo\": \"none\", \"mode\": \"text\", \"showlegend\": false, \"text\": [\"10\", \"20\", \"30\", \"40\", \"50\", \"40\", \"30\", \"20\", \"10\"], \"textfont\": {\"color\": \"#ffffff\", \"family\": \"Courier New, monospace\", \"size\": 30}, \"x\": [20, 30, 40, 50, 60, 70, 80, 90, 100], \"y\": [5, 5, 5, 5, 5, 5, 5, 5, 5], \"type\": \"scatter\"}, {\"hoverinfo\": \"none\", \"mode\": \"text\", \"showlegend\": false, \"text\": [\"10\", \"20\", \"30\", \"40\", \"50\", \"40\", \"30\", \"20\", \"10\"], \"textfont\": {\"color\": \"#ffffff\", \"family\": \"Courier New, monospace\", \"size\": 30}, \"x\": [20, 30, 40, 50, 60, 70, 80, 90, 100], \"y\": [48.5, 48.5, 48.5, 48.5, 48.5, 48.5, 48.5, 48.5, 48.5], \"type\": \"scatter\"}, {\"hoverinfo\": \"none\", \"line\": {\"color\": \"blue\", \"dash\": \"dash\"}, \"showlegend\": false, \"x\": [92.0, 92.0], \"y\": [0, 53.5], \"type\": \"scatter\"}, {\"hoverinfo\": \"none\", \"line\": {\"color\": \"yellow\", \"dash\": \"dash\"}, \"showlegend\": false, \"x\": [102.0, 102.0], \"y\": [0, 53.5], \"type\": \"scatter\"}, {\"hoverinfo\": \"text\", \"hovertext\": [\"nflId:29851.0<br>displayName:Aaron Rodgers<br>Position:QB<br>Role:Pass\", \"nflId:41282.0<br>displayName:Davante Adams<br>Position:SRoWR<br>Role:Pass Route\", \"nflId:41296.0<br>displayName:Billy Turner<br>Position:RT<br>Role:Pass Block\", \"nflId:45635.0<br>displayName:Robert Tonyan<br>Position:LWR<br>Role:Pass Route\", \"nflId:46705.0<br>displayName:Allen Lazard<br>Position:SLWR<br>Role:Pass Route\", \"nflId:47827.0<br>displayName:Elgton Jenkins<br>Position:LT<br>Role:Pass Block\", \"nflId:52470.0<br>displayName:A.J. Dillon<br>Position:RWR<br>Role:Pass Route\", \"nflId:52600.0<br>displayName:Jon Runyan<br>Position:LG<br>Role:Pass Block\", \"nflId:53172.0<br>displayName:Dominique Dafney<br>Position:SRiWR<br>Role:Pass Route\", \"nflId:53491.0<br>displayName:Josh Myers<br>Position:C<br>Role:Pass Block\", \"nflId:53571.0<br>displayName:Royce Newman<br>Position:RG<br>Role:Pass Block\"], \"marker\": {\"color\": \"#203731\"}, \"mode\": \"markers\", \"name\": \"GB\", \"x\": [96.98, 93.48, 94.27, 93.93, 92.83, 93.94, 93.62, 93.62, 92.69, 93.35, 93.89], \"y\": [23.66, 35.82, 27.23, 7.75, 14.97, 20.2, 43.5, 21.64, 31.03, 23.73, 25.74], \"type\": \"scatter\"}, {\"hoverinfo\": \"text\", \"hovertext\": [\"nflId:38544.0<br>displayName:Michael Brockers<br>Position:REO<br>Role:Pass Rush\", \"nflId:40000.0<br>displayName:Jamie Collins<br>Position:LLB<br>Role:Coverage\", \"nflId:40171.0<br>displayName:Nicholas Williams<br>Position:NT<br>Role:Pass Rush\", \"nflId:42444.0<br>displayName:Trey Flowers<br>Position:RLB<br>Role:Coverage\", \"nflId:43775.0<br>displayName:Romeo Okwara<br>Position:LEO<br>Role:Pass Rush\", \"nflId:44888.0<br>displayName:Alex Anzalone<br>Position:SCBR<br>Role:Coverage\", \"nflId:46151.0<br>displayName:Tracy Walker<br>Position:FSL<br>Role:Coverage\", \"nflId:47864.0<br>displayName:Will Harris<br>Position:FSR<br>Role:Coverage\", \"nflId:47929.0<br>displayName:Amani Oruwariye<br>Position:RCB<br>Role:Coverage\", \"nflId:53530.0<br>displayName:Ifeatu Melifonwu<br>Position:LCB<br>Role:Coverage\", \"nflId:53957.0<br>displayName:A.J. Parker<br>Position:SCBoL<br>Role:Coverage\"], \"marker\": {\"color\": \"#0076B6\"}, \"mode\": \"markers\", \"name\": \"DET\", \"x\": [91.69, 87.02, 91.83, 88.91, 92.52, 87.04, 74.84, 75.12, 90.93, 89.66, 88.11], \"y\": [18.79, 28.18, 23.87, 18.42, 29.15, 14.57, 34.17, 15.05, 7.33, 44.12, 35.17], \"type\": \"scatter\"}, {\"hoverinfo\": \"none\", \"marker\": {\"color\": \"#CBB67C\"}, \"mode\": \"markers\", \"name\": \"football\", \"x\": [95.31], \"y\": [23.75], \"type\": \"scatter\"}], \"name\": \"10\"}, {\"data\": [{\"hoverinfo\": \"none\", \"mode\": \"text\", \"showlegend\": false, \"text\": [\"10\", \"20\", \"30\", \"40\", \"50\", \"40\", \"30\", \"20\", \"10\"], \"textfont\": {\"color\": \"#ffffff\", \"family\": \"Courier New, monospace\", \"size\": 30}, \"x\": [20, 30, 40, 50, 60, 70, 80, 90, 100], \"y\": [5, 5, 5, 5, 5, 5, 5, 5, 5], \"type\": \"scatter\"}, {\"hoverinfo\": \"none\", \"mode\": \"text\", \"showlegend\": false, \"text\": [\"10\", \"20\", \"30\", \"40\", \"50\", \"40\", \"30\", \"20\", \"10\"], \"textfont\": {\"color\": \"#ffffff\", \"family\": \"Courier New, monospace\", \"size\": 30}, \"x\": [20, 30, 40, 50, 60, 70, 80, 90, 100], \"y\": [48.5, 48.5, 48.5, 48.5, 48.5, 48.5, 48.5, 48.5, 48.5], \"type\": \"scatter\"}, {\"hoverinfo\": \"none\", \"line\": {\"color\": \"blue\", \"dash\": \"dash\"}, \"showlegend\": false, \"x\": [92.0, 92.0], \"y\": [0, 53.5], \"type\": \"scatter\"}, {\"hoverinfo\": \"none\", \"line\": {\"color\": \"yellow\", \"dash\": \"dash\"}, \"showlegend\": false, \"x\": [102.0, 102.0], \"y\": [0, 53.5], \"type\": \"scatter\"}, {\"hoverinfo\": \"text\", \"hovertext\": [\"nflId:29851.0<br>displayName:Aaron Rodgers<br>Position:QB<br>Role:Pass\", \"nflId:41282.0<br>displayName:Davante Adams<br>Position:SRoWR<br>Role:Pass Route\", \"nflId:41296.0<br>displayName:Billy Turner<br>Position:RT<br>Role:Pass Block\", \"nflId:45635.0<br>displayName:Robert Tonyan<br>Position:LWR<br>Role:Pass Route\", \"nflId:46705.0<br>displayName:Allen Lazard<br>Position:SLWR<br>Role:Pass Route\", \"nflId:47827.0<br>displayName:Elgton Jenkins<br>Position:LT<br>Role:Pass Block\", \"nflId:52470.0<br>displayName:A.J. Dillon<br>Position:RWR<br>Role:Pass Route\", \"nflId:52600.0<br>displayName:Jon Runyan<br>Position:LG<br>Role:Pass Block\", \"nflId:53172.0<br>displayName:Dominique Dafney<br>Position:SRiWR<br>Role:Pass Route\", \"nflId:53491.0<br>displayName:Josh Myers<br>Position:C<br>Role:Pass Block\", \"nflId:53571.0<br>displayName:Royce Newman<br>Position:RG<br>Role:Pass Block\"], \"marker\": {\"color\": \"#203731\"}, \"mode\": \"markers\", \"name\": \"GB\", \"x\": [97.08, 93.37, 94.4, 93.81, 92.7, 94.02, 93.53, 93.75, 92.54, 93.5, 94.02], \"y\": [23.68, 35.83, 27.35, 7.68, 14.94, 20.15, 43.5, 21.62, 31.0, 23.75, 25.83], \"type\": \"scatter\"}, {\"hoverinfo\": \"text\", \"hovertext\": [\"nflId:38544.0<br>displayName:Michael Brockers<br>Position:REO<br>Role:Pass Rush\", \"nflId:40000.0<br>displayName:Jamie Collins<br>Position:LLB<br>Role:Coverage\", \"nflId:40171.0<br>displayName:Nicholas Williams<br>Position:NT<br>Role:Pass Rush\", \"nflId:42444.0<br>displayName:Trey Flowers<br>Position:RLB<br>Role:Coverage\", \"nflId:43775.0<br>displayName:Romeo Okwara<br>Position:LEO<br>Role:Pass Rush\", \"nflId:44888.0<br>displayName:Alex Anzalone<br>Position:SCBR<br>Role:Coverage\", \"nflId:46151.0<br>displayName:Tracy Walker<br>Position:FSL<br>Role:Coverage\", \"nflId:47864.0<br>displayName:Will Harris<br>Position:FSR<br>Role:Coverage\", \"nflId:47929.0<br>displayName:Amani Oruwariye<br>Position:RCB<br>Role:Coverage\", \"nflId:53530.0<br>displayName:Ifeatu Melifonwu<br>Position:LCB<br>Role:Coverage\", \"nflId:53957.0<br>displayName:A.J. Parker<br>Position:SCBoL<br>Role:Coverage\"], \"marker\": {\"color\": \"#0076B6\"}, \"mode\": \"markers\", \"name\": \"DET\", \"x\": [91.87, 87.02, 92.06, 88.91, 92.72, 87.04, 74.63, 75.1, 90.9, 89.66, 87.78], \"y\": [18.75, 28.18, 23.93, 18.45, 29.13, 14.56, 34.29, 15.06, 7.28, 44.12, 35.04], \"type\": \"scatter\"}, {\"hoverinfo\": \"none\", \"marker\": {\"color\": \"#CBB67C\"}, \"mode\": \"markers\", \"name\": \"football\", \"x\": [95.9], \"y\": [23.76], \"type\": \"scatter\"}], \"name\": \"11\"}, {\"data\": [{\"hoverinfo\": \"none\", \"mode\": \"text\", \"showlegend\": false, \"text\": [\"10\", \"20\", \"30\", \"40\", \"50\", \"40\", \"30\", \"20\", \"10\"], \"textfont\": {\"color\": \"#ffffff\", \"family\": \"Courier New, monospace\", \"size\": 30}, \"x\": [20, 30, 40, 50, 60, 70, 80, 90, 100], \"y\": [5, 5, 5, 5, 5, 5, 5, 5, 5], \"type\": \"scatter\"}, {\"hoverinfo\": \"none\", \"mode\": \"text\", \"showlegend\": false, \"text\": [\"10\", \"20\", \"30\", \"40\", \"50\", \"40\", \"30\", \"20\", \"10\"], \"textfont\": {\"color\": \"#ffffff\", \"family\": \"Courier New, monospace\", \"size\": 30}, \"x\": [20, 30, 40, 50, 60, 70, 80, 90, 100], \"y\": [48.5, 48.5, 48.5, 48.5, 48.5, 48.5, 48.5, 48.5, 48.5], \"type\": \"scatter\"}, {\"hoverinfo\": \"none\", \"line\": {\"color\": \"blue\", \"dash\": \"dash\"}, \"showlegend\": false, \"x\": [92.0, 92.0], \"y\": [0, 53.5], \"type\": \"scatter\"}, {\"hoverinfo\": \"none\", \"line\": {\"color\": \"yellow\", \"dash\": \"dash\"}, \"showlegend\": false, \"x\": [102.0, 102.0], \"y\": [0, 53.5], \"type\": \"scatter\"}, {\"hoverinfo\": \"text\", \"hovertext\": [\"nflId:29851.0<br>displayName:Aaron Rodgers<br>Position:QB<br>Role:Pass\", \"nflId:41282.0<br>displayName:Davante Adams<br>Position:SRoWR<br>Role:Pass Route\", \"nflId:41296.0<br>displayName:Billy Turner<br>Position:RT<br>Role:Pass Block\", \"nflId:45635.0<br>displayName:Robert Tonyan<br>Position:LWR<br>Role:Pass Route\", \"nflId:46705.0<br>displayName:Allen Lazard<br>Position:SLWR<br>Role:Pass Route\", \"nflId:47827.0<br>displayName:Elgton Jenkins<br>Position:LT<br>Role:Pass Block\", \"nflId:52470.0<br>displayName:A.J. Dillon<br>Position:RWR<br>Role:Pass Route\", \"nflId:52600.0<br>displayName:Jon Runyan<br>Position:LG<br>Role:Pass Block\", \"nflId:53172.0<br>displayName:Dominique Dafney<br>Position:SRiWR<br>Role:Pass Route\", \"nflId:53491.0<br>displayName:Josh Myers<br>Position:C<br>Role:Pass Block\", \"nflId:53571.0<br>displayName:Royce Newman<br>Position:RG<br>Role:Pass Block\"], \"marker\": {\"color\": \"#203731\"}, \"mode\": \"markers\", \"name\": \"GB\", \"x\": [97.18, 93.2, 94.55, 93.65, 92.52, 94.15, 93.36, 93.9, 92.36, 93.68, 94.18], \"y\": [23.71, 35.85, 27.47, 7.59, 14.91, 20.08, 43.5, 21.6, 30.97, 23.76, 25.92], \"type\": \"scatter\"}, {\"hoverinfo\": \"text\", \"hovertext\": [\"nflId:38544.0<br>displayName:Michael Brockers<br>Position:REO<br>Role:Pass Rush\", \"nflId:40000.0<br>displayName:Jamie Collins<br>Position:LLB<br>Role:Coverage\", \"nflId:40171.0<br>displayName:Nicholas Williams<br>Position:NT<br>Role:Pass Rush\", \"nflId:42444.0<br>displayName:Trey Flowers<br>Position:RLB<br>Role:Coverage\", \"nflId:43775.0<br>displayName:Romeo Okwara<br>Position:LEO<br>Role:Pass Rush\", \"nflId:44888.0<br>displayName:Alex Anzalone<br>Position:SCBR<br>Role:Coverage\", \"nflId:46151.0<br>displayName:Tracy Walker<br>Position:FSL<br>Role:Coverage\", \"nflId:47864.0<br>displayName:Will Harris<br>Position:FSR<br>Role:Coverage\", \"nflId:47929.0<br>displayName:Amani Oruwariye<br>Position:RCB<br>Role:Coverage\", \"nflId:53530.0<br>displayName:Ifeatu Melifonwu<br>Position:LCB<br>Role:Coverage\", \"nflId:53957.0<br>displayName:A.J. Parker<br>Position:SCBoL<br>Role:Coverage\"], \"marker\": {\"color\": \"#0076B6\"}, \"mode\": \"markers\", \"name\": \"DET\", \"x\": [92.11, 87.01, 92.31, 88.9, 92.97, 87.04, 74.39, 75.1, 90.88, 89.66, 87.43], \"y\": [18.71, 28.18, 24.02, 18.5, 29.11, 14.53, 34.42, 15.05, 7.25, 44.12, 34.92], \"type\": \"scatter\"}, {\"hoverinfo\": \"none\", \"marker\": {\"color\": \"#CBB67C\"}, \"mode\": \"markers\", \"name\": \"football\", \"x\": [96.42], \"y\": [23.78], \"type\": \"scatter\"}], \"name\": \"12\"}, {\"data\": [{\"hoverinfo\": \"none\", \"mode\": \"text\", \"showlegend\": false, \"text\": [\"10\", \"20\", \"30\", \"40\", \"50\", \"40\", \"30\", \"20\", \"10\"], \"textfont\": {\"color\": \"#ffffff\", \"family\": \"Courier New, monospace\", \"size\": 30}, \"x\": [20, 30, 40, 50, 60, 70, 80, 90, 100], \"y\": [5, 5, 5, 5, 5, 5, 5, 5, 5], \"type\": \"scatter\"}, {\"hoverinfo\": \"none\", \"mode\": \"text\", \"showlegend\": false, \"text\": [\"10\", \"20\", \"30\", \"40\", \"50\", \"40\", \"30\", \"20\", \"10\"], \"textfont\": {\"color\": \"#ffffff\", \"family\": \"Courier New, monospace\", \"size\": 30}, \"x\": [20, 30, 40, 50, 60, 70, 80, 90, 100], \"y\": [48.5, 48.5, 48.5, 48.5, 48.5, 48.5, 48.5, 48.5, 48.5], \"type\": \"scatter\"}, {\"hoverinfo\": \"none\", \"line\": {\"color\": \"blue\", \"dash\": \"dash\"}, \"showlegend\": false, \"x\": [92.0, 92.0], \"y\": [0, 53.5], \"type\": \"scatter\"}, {\"hoverinfo\": \"none\", \"line\": {\"color\": \"yellow\", \"dash\": \"dash\"}, \"showlegend\": false, \"x\": [102.0, 102.0], \"y\": [0, 53.5], \"type\": \"scatter\"}, {\"hoverinfo\": \"text\", \"hovertext\": [\"nflId:29851.0<br>displayName:Aaron Rodgers<br>Position:QB<br>Role:Pass\", \"nflId:41282.0<br>displayName:Davante Adams<br>Position:SRoWR<br>Role:Pass Route\", \"nflId:41296.0<br>displayName:Billy Turner<br>Position:RT<br>Role:Pass Block\", \"nflId:45635.0<br>displayName:Robert Tonyan<br>Position:LWR<br>Role:Pass Route\", \"nflId:46705.0<br>displayName:Allen Lazard<br>Position:SLWR<br>Role:Pass Route\", \"nflId:47827.0<br>displayName:Elgton Jenkins<br>Position:LT<br>Role:Pass Block\", \"nflId:52470.0<br>displayName:A.J. Dillon<br>Position:RWR<br>Role:Pass Route\", \"nflId:52600.0<br>displayName:Jon Runyan<br>Position:LG<br>Role:Pass Block\", \"nflId:53172.0<br>displayName:Dominique Dafney<br>Position:SRiWR<br>Role:Pass Route\", \"nflId:53491.0<br>displayName:Josh Myers<br>Position:C<br>Role:Pass Block\", \"nflId:53571.0<br>displayName:Royce Newman<br>Position:RG<br>Role:Pass Block\"], \"marker\": {\"color\": \"#203731\"}, \"mode\": \"markers\", \"name\": \"GB\", \"x\": [97.28, 92.94, 94.74, 93.47, 92.28, 94.31, 93.11, 94.06, 92.14, 93.89, 94.35], \"y\": [23.73, 35.86, 27.6, 7.48, 14.87, 19.99, 43.5, 21.57, 30.94, 23.78, 26.03], \"type\": \"scatter\"}, {\"hoverinfo\": \"text\", \"hovertext\": [\"nflId:38544.0<br>displayName:Michael Brockers<br>Position:REO<br>Role:Pass Rush\", \"nflId:40000.0<br>displayName:Jamie Collins<br>Position:LLB<br>Role:Coverage\", \"nflId:40171.0<br>displayName:Nicholas Williams<br>Position:NT<br>Role:Pass Rush\", \"nflId:42444.0<br>displayName:Trey Flowers<br>Position:RLB<br>Role:Coverage\", \"nflId:43775.0<br>displayName:Romeo Okwara<br>Position:LEO<br>Role:Pass Rush\", \"nflId:44888.0<br>displayName:Alex Anzalone<br>Position:SCBR<br>Role:Coverage\", \"nflId:46151.0<br>displayName:Tracy Walker<br>Position:FSL<br>Role:Coverage\", \"nflId:47864.0<br>displayName:Will Harris<br>Position:FSR<br>Role:Coverage\", \"nflId:47929.0<br>displayName:Amani Oruwariye<br>Position:RCB<br>Role:Coverage\", \"nflId:53530.0<br>displayName:Ifeatu Melifonwu<br>Position:LCB<br>Role:Coverage\", \"nflId:53957.0<br>displayName:A.J. Parker<br>Position:SCBoL<br>Role:Coverage\"], \"marker\": {\"color\": \"#0076B6\"}, \"mode\": \"markers\", \"name\": \"DET\", \"x\": [92.41, 86.98, 92.57, 88.87, 93.28, 87.04, 74.11, 75.08, 90.86, 89.64, 87.07], \"y\": [18.68, 28.19, 24.1, 18.53, 29.08, 14.52, 34.56, 15.05, 7.21, 44.12, 34.82], \"type\": \"scatter\"}, {\"hoverinfo\": \"none\", \"marker\": {\"color\": \"#CBB67C\"}, \"mode\": \"markers\", \"name\": \"football\", \"x\": [96.92], \"y\": [23.81], \"type\": \"scatter\"}], \"name\": \"13\"}, {\"data\": [{\"hoverinfo\": \"none\", \"mode\": \"text\", \"showlegend\": false, \"text\": [\"10\", \"20\", \"30\", \"40\", \"50\", \"40\", \"30\", \"20\", \"10\"], \"textfont\": {\"color\": \"#ffffff\", \"family\": \"Courier New, monospace\", \"size\": 30}, \"x\": [20, 30, 40, 50, 60, 70, 80, 90, 100], \"y\": [5, 5, 5, 5, 5, 5, 5, 5, 5], \"type\": \"scatter\"}, {\"hoverinfo\": \"none\", \"mode\": \"text\", \"showlegend\": false, \"text\": [\"10\", \"20\", \"30\", \"40\", \"50\", \"40\", \"30\", \"20\", \"10\"], \"textfont\": {\"color\": \"#ffffff\", \"family\": \"Courier New, monospace\", \"size\": 30}, \"x\": [20, 30, 40, 50, 60, 70, 80, 90, 100], \"y\": [48.5, 48.5, 48.5, 48.5, 48.5, 48.5, 48.5, 48.5, 48.5], \"type\": \"scatter\"}, {\"hoverinfo\": \"none\", \"line\": {\"color\": \"blue\", \"dash\": \"dash\"}, \"showlegend\": false, \"x\": [92.0, 92.0], \"y\": [0, 53.5], \"type\": \"scatter\"}, {\"hoverinfo\": \"none\", \"line\": {\"color\": \"yellow\", \"dash\": \"dash\"}, \"showlegend\": false, \"x\": [102.0, 102.0], \"y\": [0, 53.5], \"type\": \"scatter\"}, {\"hoverinfo\": \"text\", \"hovertext\": [\"nflId:29851.0<br>displayName:Aaron Rodgers<br>Position:QB<br>Role:Pass\", \"nflId:41282.0<br>displayName:Davante Adams<br>Position:SRoWR<br>Role:Pass Route\", \"nflId:41296.0<br>displayName:Billy Turner<br>Position:RT<br>Role:Pass Block\", \"nflId:45635.0<br>displayName:Robert Tonyan<br>Position:LWR<br>Role:Pass Route\", \"nflId:46705.0<br>displayName:Allen Lazard<br>Position:SLWR<br>Role:Pass Route\", \"nflId:47827.0<br>displayName:Elgton Jenkins<br>Position:LT<br>Role:Pass Block\", \"nflId:52470.0<br>displayName:A.J. Dillon<br>Position:RWR<br>Role:Pass Route\", \"nflId:52600.0<br>displayName:Jon Runyan<br>Position:LG<br>Role:Pass Block\", \"nflId:53172.0<br>displayName:Dominique Dafney<br>Position:SRiWR<br>Role:Pass Route\", \"nflId:53491.0<br>displayName:Josh Myers<br>Position:C<br>Role:Pass Block\", \"nflId:53571.0<br>displayName:Royce Newman<br>Position:RG<br>Role:Pass Block\"], \"marker\": {\"color\": \"#203731\"}, \"mode\": \"markers\", \"name\": \"GB\", \"x\": [97.4, 92.63, 94.95, 93.27, 91.98, 94.49, 92.84, 94.23, 91.85, 94.12, 94.56], \"y\": [23.77, 35.87, 27.72, 7.33, 14.8, 19.89, 43.5, 21.55, 30.9, 23.79, 26.12], \"type\": \"scatter\"}, {\"hoverinfo\": \"text\", \"hovertext\": [\"nflId:38544.0<br>displayName:Michael Brockers<br>Position:REO<br>Role:Pass Rush\", \"nflId:40000.0<br>displayName:Jamie Collins<br>Position:LLB<br>Role:Coverage\", \"nflId:40171.0<br>displayName:Nicholas Williams<br>Position:NT<br>Role:Pass Rush\", \"nflId:42444.0<br>displayName:Trey Flowers<br>Position:RLB<br>Role:Coverage\", \"nflId:43775.0<br>displayName:Romeo Okwara<br>Position:LEO<br>Role:Pass Rush\", \"nflId:44888.0<br>displayName:Alex Anzalone<br>Position:SCBR<br>Role:Coverage\", \"nflId:46151.0<br>displayName:Tracy Walker<br>Position:FSL<br>Role:Coverage\", \"nflId:47864.0<br>displayName:Will Harris<br>Position:FSR<br>Role:Coverage\", \"nflId:47929.0<br>displayName:Amani Oruwariye<br>Position:RCB<br>Role:Coverage\", \"nflId:53530.0<br>displayName:Ifeatu Melifonwu<br>Position:LCB<br>Role:Coverage\", \"nflId:53957.0<br>displayName:A.J. Parker<br>Position:SCBoL<br>Role:Coverage\"], \"marker\": {\"color\": \"#0076B6\"}, \"mode\": \"markers\", \"name\": \"DET\", \"x\": [92.73, 86.92, 92.85, 88.82, 93.63, 87.04, 73.82, 75.05, 90.83, 89.63, 86.69], \"y\": [18.65, 28.21, 24.18, 18.56, 29.06, 14.48, 34.71, 15.05, 7.17, 44.12, 34.73], \"type\": \"scatter\"}, {\"hoverinfo\": \"none\", \"marker\": {\"color\": \"#CBB67C\"}, \"mode\": \"markers\", \"name\": \"football\", \"x\": [97.33], \"y\": [23.85], \"type\": \"scatter\"}], \"name\": \"14\"}, {\"data\": [{\"hoverinfo\": \"none\", \"mode\": \"text\", \"showlegend\": false, \"text\": [\"10\", \"20\", \"30\", \"40\", \"50\", \"40\", \"30\", \"20\", \"10\"], \"textfont\": {\"color\": \"#ffffff\", \"family\": \"Courier New, monospace\", \"size\": 30}, \"x\": [20, 30, 40, 50, 60, 70, 80, 90, 100], \"y\": [5, 5, 5, 5, 5, 5, 5, 5, 5], \"type\": \"scatter\"}, {\"hoverinfo\": \"none\", \"mode\": \"text\", \"showlegend\": false, \"text\": [\"10\", \"20\", \"30\", \"40\", \"50\", \"40\", \"30\", \"20\", \"10\"], \"textfont\": {\"color\": \"#ffffff\", \"family\": \"Courier New, monospace\", \"size\": 30}, \"x\": [20, 30, 40, 50, 60, 70, 80, 90, 100], \"y\": [48.5, 48.5, 48.5, 48.5, 48.5, 48.5, 48.5, 48.5, 48.5], \"type\": \"scatter\"}, {\"hoverinfo\": \"none\", \"line\": {\"color\": \"blue\", \"dash\": \"dash\"}, \"showlegend\": false, \"x\": [92.0, 92.0], \"y\": [0, 53.5], \"type\": \"scatter\"}, {\"hoverinfo\": \"none\", \"line\": {\"color\": \"yellow\", \"dash\": \"dash\"}, \"showlegend\": false, \"x\": [102.0, 102.0], \"y\": [0, 53.5], \"type\": \"scatter\"}, {\"hoverinfo\": \"text\", \"hovertext\": [\"nflId:29851.0<br>displayName:Aaron Rodgers<br>Position:QB<br>Role:Pass\", \"nflId:41282.0<br>displayName:Davante Adams<br>Position:SRoWR<br>Role:Pass Route\", \"nflId:41296.0<br>displayName:Billy Turner<br>Position:RT<br>Role:Pass Block\", \"nflId:45635.0<br>displayName:Robert Tonyan<br>Position:LWR<br>Role:Pass Route\", \"nflId:46705.0<br>displayName:Allen Lazard<br>Position:SLWR<br>Role:Pass Route\", \"nflId:47827.0<br>displayName:Elgton Jenkins<br>Position:LT<br>Role:Pass Block\", \"nflId:52470.0<br>displayName:A.J. Dillon<br>Position:RWR<br>Role:Pass Route\", \"nflId:52600.0<br>displayName:Jon Runyan<br>Position:LG<br>Role:Pass Block\", \"nflId:53172.0<br>displayName:Dominique Dafney<br>Position:SRiWR<br>Role:Pass Route\", \"nflId:53491.0<br>displayName:Josh Myers<br>Position:C<br>Role:Pass Block\", \"nflId:53571.0<br>displayName:Royce Newman<br>Position:RG<br>Role:Pass Block\"], \"marker\": {\"color\": \"#203731\"}, \"mode\": \"markers\", \"name\": \"GB\", \"x\": [97.53, 92.27, 95.2, 93.04, 91.64, 94.72, 92.51, 94.41, 91.54, 94.35, 94.76], \"y\": [23.8, 35.89, 27.84, 7.14, 14.74, 19.79, 43.51, 21.52, 30.86, 23.81, 26.22], \"type\": \"scatter\"}, {\"hoverinfo\": \"text\", \"hovertext\": [\"nflId:38544.0<br>displayName:Michael Brockers<br>Position:REO<br>Role:Pass Rush\", \"nflId:40000.0<br>displayName:Jamie Collins<br>Position:LLB<br>Role:Coverage\", \"nflId:40171.0<br>displayName:Nicholas Williams<br>Position:NT<br>Role:Pass Rush\", \"nflId:42444.0<br>displayName:Trey Flowers<br>Position:RLB<br>Role:Coverage\", \"nflId:43775.0<br>displayName:Romeo Okwara<br>Position:LEO<br>Role:Pass Rush\", \"nflId:44888.0<br>displayName:Alex Anzalone<br>Position:SCBR<br>Role:Coverage\", \"nflId:46151.0<br>displayName:Tracy Walker<br>Position:FSL<br>Role:Coverage\", \"nflId:47864.0<br>displayName:Will Harris<br>Position:FSR<br>Role:Coverage\", \"nflId:47929.0<br>displayName:Amani Oruwariye<br>Position:RCB<br>Role:Coverage\", \"nflId:53530.0<br>displayName:Ifeatu Melifonwu<br>Position:LCB<br>Role:Coverage\", \"nflId:53957.0<br>displayName:A.J. Parker<br>Position:SCBoL<br>Role:Coverage\"], \"marker\": {\"color\": \"#0076B6\"}, \"mode\": \"markers\", \"name\": \"DET\", \"x\": [93.07, 86.81, 93.12, 88.75, 94.02, 87.04, 73.5, 75.0, 90.78, 89.6, 86.31], \"y\": [18.64, 28.25, 24.26, 18.59, 29.04, 14.41, 34.87, 15.05, 7.09, 44.12, 34.67], \"type\": \"scatter\"}, {\"hoverinfo\": \"none\", \"marker\": {\"color\": \"#CBB67C\"}, \"mode\": \"markers\", \"name\": \"football\", \"x\": [97.69], \"y\": [23.93], \"type\": \"scatter\"}], \"name\": \"15\"}, {\"data\": [{\"hoverinfo\": \"none\", \"mode\": \"text\", \"showlegend\": false, \"text\": [\"10\", \"20\", \"30\", \"40\", \"50\", \"40\", \"30\", \"20\", \"10\"], \"textfont\": {\"color\": \"#ffffff\", \"family\": \"Courier New, monospace\", \"size\": 30}, \"x\": [20, 30, 40, 50, 60, 70, 80, 90, 100], \"y\": [5, 5, 5, 5, 5, 5, 5, 5, 5], \"type\": \"scatter\"}, {\"hoverinfo\": \"none\", \"mode\": \"text\", \"showlegend\": false, \"text\": [\"10\", \"20\", \"30\", \"40\", \"50\", \"40\", \"30\", \"20\", \"10\"], \"textfont\": {\"color\": \"#ffffff\", \"family\": \"Courier New, monospace\", \"size\": 30}, \"x\": [20, 30, 40, 50, 60, 70, 80, 90, 100], \"y\": [48.5, 48.5, 48.5, 48.5, 48.5, 48.5, 48.5, 48.5, 48.5], \"type\": \"scatter\"}, {\"hoverinfo\": \"none\", \"line\": {\"color\": \"blue\", \"dash\": \"dash\"}, \"showlegend\": false, \"x\": [92.0, 92.0], \"y\": [0, 53.5], \"type\": \"scatter\"}, {\"hoverinfo\": \"none\", \"line\": {\"color\": \"yellow\", \"dash\": \"dash\"}, \"showlegend\": false, \"x\": [102.0, 102.0], \"y\": [0, 53.5], \"type\": \"scatter\"}, {\"hoverinfo\": \"text\", \"hovertext\": [\"nflId:29851.0<br>displayName:Aaron Rodgers<br>Position:QB<br>Role:Pass\", \"nflId:41282.0<br>displayName:Davante Adams<br>Position:SRoWR<br>Role:Pass Route\", \"nflId:41296.0<br>displayName:Billy Turner<br>Position:RT<br>Role:Pass Block\", \"nflId:45635.0<br>displayName:Robert Tonyan<br>Position:LWR<br>Role:Pass Route\", \"nflId:46705.0<br>displayName:Allen Lazard<br>Position:SLWR<br>Role:Pass Route\", \"nflId:47827.0<br>displayName:Elgton Jenkins<br>Position:LT<br>Role:Pass Block\", \"nflId:52470.0<br>displayName:A.J. Dillon<br>Position:RWR<br>Role:Pass Route\", \"nflId:52600.0<br>displayName:Jon Runyan<br>Position:LG<br>Role:Pass Block\", \"nflId:53172.0<br>displayName:Dominique Dafney<br>Position:SRiWR<br>Role:Pass Route\", \"nflId:53491.0<br>displayName:Josh Myers<br>Position:C<br>Role:Pass Block\", \"nflId:53571.0<br>displayName:Royce Newman<br>Position:RG<br>Role:Pass Block\"], \"marker\": {\"color\": \"#203731\"}, \"mode\": \"markers\", \"name\": \"GB\", \"x\": [97.68, 91.86, 95.46, 92.78, 91.27, 94.97, 92.12, 94.61, 91.18, 94.59, 94.99], \"y\": [23.84, 35.9, 27.95, 6.91, 14.66, 19.68, 43.52, 21.51, 30.83, 23.82, 26.32], \"type\": \"scatter\"}, {\"hoverinfo\": \"text\", \"hovertext\": [\"nflId:38544.0<br>displayName:Michael Brockers<br>Position:REO<br>Role:Pass Rush\", \"nflId:40000.0<br>displayName:Jamie Collins<br>Position:LLB<br>Role:Coverage\", \"nflId:40171.0<br>displayName:Nicholas Williams<br>Position:NT<br>Role:Pass Rush\", \"nflId:42444.0<br>displayName:Trey Flowers<br>Position:RLB<br>Role:Coverage\", \"nflId:43775.0<br>displayName:Romeo Okwara<br>Position:LEO<br>Role:Pass Rush\", \"nflId:44888.0<br>displayName:Alex Anzalone<br>Position:SCBR<br>Role:Coverage\", \"nflId:46151.0<br>displayName:Tracy Walker<br>Position:FSL<br>Role:Coverage\", \"nflId:47864.0<br>displayName:Will Harris<br>Position:FSR<br>Role:Coverage\", \"nflId:47929.0<br>displayName:Amani Oruwariye<br>Position:RCB<br>Role:Coverage\", \"nflId:53530.0<br>displayName:Ifeatu Melifonwu<br>Position:LCB<br>Role:Coverage\", \"nflId:53957.0<br>displayName:A.J. Parker<br>Position:SCBoL<br>Role:Coverage\"], \"marker\": {\"color\": \"#0076B6\"}, \"mode\": \"markers\", \"name\": \"DET\", \"x\": [93.41, 86.65, 93.4, 88.65, 94.44, 87.03, 73.16, 74.93, 90.69, 89.56, 85.93], \"y\": [18.62, 28.29, 24.37, 18.59, 29.03, 14.31, 35.04, 15.04, 6.98, 44.12, 34.63], \"type\": \"scatter\"}, {\"hoverinfo\": \"none\", \"marker\": {\"color\": \"#CBB67C\"}, \"mode\": \"markers\", \"name\": \"football\", \"x\": [98.04], \"y\": [23.98], \"type\": \"scatter\"}], \"name\": \"16\"}, {\"data\": [{\"hoverinfo\": \"none\", \"mode\": \"text\", \"showlegend\": false, \"text\": [\"10\", \"20\", \"30\", \"40\", \"50\", \"40\", \"30\", \"20\", \"10\"], \"textfont\": {\"color\": \"#ffffff\", \"family\": \"Courier New, monospace\", \"size\": 30}, \"x\": [20, 30, 40, 50, 60, 70, 80, 90, 100], \"y\": [5, 5, 5, 5, 5, 5, 5, 5, 5], \"type\": \"scatter\"}, {\"hoverinfo\": \"none\", \"mode\": \"text\", \"showlegend\": false, \"text\": [\"10\", \"20\", \"30\", \"40\", \"50\", \"40\", \"30\", \"20\", \"10\"], \"textfont\": {\"color\": \"#ffffff\", \"family\": \"Courier New, monospace\", \"size\": 30}, \"x\": [20, 30, 40, 50, 60, 70, 80, 90, 100], \"y\": [48.5, 48.5, 48.5, 48.5, 48.5, 48.5, 48.5, 48.5, 48.5], \"type\": \"scatter\"}, {\"hoverinfo\": \"none\", \"line\": {\"color\": \"blue\", \"dash\": \"dash\"}, \"showlegend\": false, \"x\": [92.0, 92.0], \"y\": [0, 53.5], \"type\": \"scatter\"}, {\"hoverinfo\": \"none\", \"line\": {\"color\": \"yellow\", \"dash\": \"dash\"}, \"showlegend\": false, \"x\": [102.0, 102.0], \"y\": [0, 53.5], \"type\": \"scatter\"}, {\"hoverinfo\": \"text\", \"hovertext\": [\"nflId:29851.0<br>displayName:Aaron Rodgers<br>Position:QB<br>Role:Pass\", \"nflId:41282.0<br>displayName:Davante Adams<br>Position:SRoWR<br>Role:Pass Route\", \"nflId:41296.0<br>displayName:Billy Turner<br>Position:RT<br>Role:Pass Block\", \"nflId:45635.0<br>displayName:Robert Tonyan<br>Position:LWR<br>Role:Pass Route\", \"nflId:46705.0<br>displayName:Allen Lazard<br>Position:SLWR<br>Role:Pass Route\", \"nflId:47827.0<br>displayName:Elgton Jenkins<br>Position:LT<br>Role:Pass Block\", \"nflId:52470.0<br>displayName:A.J. Dillon<br>Position:RWR<br>Role:Pass Route\", \"nflId:52600.0<br>displayName:Jon Runyan<br>Position:LG<br>Role:Pass Block\", \"nflId:53172.0<br>displayName:Dominique Dafney<br>Position:SRiWR<br>Role:Pass Route\", \"nflId:53491.0<br>displayName:Josh Myers<br>Position:C<br>Role:Pass Block\", \"nflId:53571.0<br>displayName:Royce Newman<br>Position:RG<br>Role:Pass Block\"], \"marker\": {\"color\": \"#203731\"}, \"mode\": \"markers\", \"name\": \"GB\", \"x\": [97.82, 91.43, 95.74, 92.5, 90.88, 95.24, 91.69, 94.81, 90.79, 94.84, 95.23], \"y\": [23.89, 35.92, 28.05, 6.65, 14.59, 19.6, 43.52, 21.49, 30.79, 23.84, 26.43], \"type\": \"scatter\"}, {\"hoverinfo\": \"text\", \"hovertext\": [\"nflId:38544.0<br>displayName:Michael Brockers<br>Position:REO<br>Role:Pass Rush\", \"nflId:40000.0<br>displayName:Jamie Collins<br>Position:LLB<br>Role:Coverage\", \"nflId:40171.0<br>displayName:Nicholas Williams<br>Position:NT<br>Role:Pass Rush\", \"nflId:42444.0<br>displayName:Trey Flowers<br>Position:RLB<br>Role:Coverage\", \"nflId:43775.0<br>displayName:Romeo Okwara<br>Position:LEO<br>Role:Pass Rush\", \"nflId:44888.0<br>displayName:Alex Anzalone<br>Position:SCBR<br>Role:Coverage\", \"nflId:46151.0<br>displayName:Tracy Walker<br>Position:FSL<br>Role:Coverage\", \"nflId:47864.0<br>displayName:Will Harris<br>Position:FSR<br>Role:Coverage\", \"nflId:47929.0<br>displayName:Amani Oruwariye<br>Position:RCB<br>Role:Coverage\", \"nflId:53530.0<br>displayName:Ifeatu Melifonwu<br>Position:LCB<br>Role:Coverage\", \"nflId:53957.0<br>displayName:A.J. Parker<br>Position:SCBoL<br>Role:Coverage\"], \"marker\": {\"color\": \"#0076B6\"}, \"mode\": \"markers\", \"name\": \"DET\", \"x\": [93.77, 86.46, 93.68, 88.53, 94.9, 87.0, 72.81, 74.83, 90.56, 89.47, 85.56], \"y\": [18.64, 28.35, 24.47, 18.6, 29.02, 14.19, 35.21, 15.03, 6.83, 44.11, 34.62], \"type\": \"scatter\"}, {\"hoverinfo\": \"none\", \"marker\": {\"color\": \"#CBB67C\"}, \"mode\": \"markers\", \"name\": \"football\", \"x\": [98.35], \"y\": [24.01], \"type\": \"scatter\"}], \"name\": \"17\"}, {\"data\": [{\"hoverinfo\": \"none\", \"mode\": \"text\", \"showlegend\": false, \"text\": [\"10\", \"20\", \"30\", \"40\", \"50\", \"40\", \"30\", \"20\", \"10\"], \"textfont\": {\"color\": \"#ffffff\", \"family\": \"Courier New, monospace\", \"size\": 30}, \"x\": [20, 30, 40, 50, 60, 70, 80, 90, 100], \"y\": [5, 5, 5, 5, 5, 5, 5, 5, 5], \"type\": \"scatter\"}, {\"hoverinfo\": \"none\", \"mode\": \"text\", \"showlegend\": false, \"text\": [\"10\", \"20\", \"30\", \"40\", \"50\", \"40\", \"30\", \"20\", \"10\"], \"textfont\": {\"color\": \"#ffffff\", \"family\": \"Courier New, monospace\", \"size\": 30}, \"x\": [20, 30, 40, 50, 60, 70, 80, 90, 100], \"y\": [48.5, 48.5, 48.5, 48.5, 48.5, 48.5, 48.5, 48.5, 48.5], \"type\": \"scatter\"}, {\"hoverinfo\": \"none\", \"line\": {\"color\": \"blue\", \"dash\": \"dash\"}, \"showlegend\": false, \"x\": [92.0, 92.0], \"y\": [0, 53.5], \"type\": \"scatter\"}, {\"hoverinfo\": \"none\", \"line\": {\"color\": \"yellow\", \"dash\": \"dash\"}, \"showlegend\": false, \"x\": [102.0, 102.0], \"y\": [0, 53.5], \"type\": \"scatter\"}, {\"hoverinfo\": \"text\", \"hovertext\": [\"nflId:29851.0<br>displayName:Aaron Rodgers<br>Position:QB<br>Role:Pass\", \"nflId:41282.0<br>displayName:Davante Adams<br>Position:SRoWR<br>Role:Pass Route\", \"nflId:41296.0<br>displayName:Billy Turner<br>Position:RT<br>Role:Pass Block\", \"nflId:45635.0<br>displayName:Robert Tonyan<br>Position:LWR<br>Role:Pass Route\", \"nflId:46705.0<br>displayName:Allen Lazard<br>Position:SLWR<br>Role:Pass Route\", \"nflId:47827.0<br>displayName:Elgton Jenkins<br>Position:LT<br>Role:Pass Block\", \"nflId:52470.0<br>displayName:A.J. Dillon<br>Position:RWR<br>Role:Pass Route\", \"nflId:52600.0<br>displayName:Jon Runyan<br>Position:LG<br>Role:Pass Block\", \"nflId:53172.0<br>displayName:Dominique Dafney<br>Position:SRiWR<br>Role:Pass Route\", \"nflId:53491.0<br>displayName:Josh Myers<br>Position:C<br>Role:Pass Block\", \"nflId:53571.0<br>displayName:Royce Newman<br>Position:RG<br>Role:Pass Block\"], \"marker\": {\"color\": \"#203731\"}, \"mode\": \"markers\", \"name\": \"GB\", \"x\": [97.96, 90.97, 96.05, 92.19, 90.48, 95.49, 91.23, 95.03, 90.37, 95.09, 95.51], \"y\": [23.94, 35.96, 28.13, 6.35, 14.51, 19.53, 43.52, 21.47, 30.76, 23.86, 26.55], \"type\": \"scatter\"}, {\"hoverinfo\": \"text\", \"hovertext\": [\"nflId:38544.0<br>displayName:Michael Brockers<br>Position:REO<br>Role:Pass Rush\", \"nflId:40000.0<br>displayName:Jamie Collins<br>Position:LLB<br>Role:Coverage\", \"nflId:40171.0<br>displayName:Nicholas Williams<br>Position:NT<br>Role:Pass Rush\", \"nflId:42444.0<br>displayName:Trey Flowers<br>Position:RLB<br>Role:Coverage\", \"nflId:43775.0<br>displayName:Romeo Okwara<br>Position:LEO<br>Role:Pass Rush\", \"nflId:44888.0<br>displayName:Alex Anzalone<br>Position:SCBR<br>Role:Coverage\", \"nflId:46151.0<br>displayName:Tracy Walker<br>Position:FSL<br>Role:Coverage\", \"nflId:47864.0<br>displayName:Will Harris<br>Position:FSR<br>Role:Coverage\", \"nflId:47929.0<br>displayName:Amani Oruwariye<br>Position:RCB<br>Role:Coverage\", \"nflId:53530.0<br>displayName:Ifeatu Melifonwu<br>Position:LCB<br>Role:Coverage\", \"nflId:53957.0<br>displayName:A.J. Parker<br>Position:SCBoL<br>Role:Coverage\"], \"marker\": {\"color\": \"#0076B6\"}, \"mode\": \"markers\", \"name\": \"DET\", \"x\": [94.13, 86.23, 93.96, 88.4, 95.36, 86.97, 72.45, 74.71, 90.37, 89.34, 85.22], \"y\": [18.67, 28.41, 24.57, 18.6, 29.02, 14.07, 35.38, 15.02, 6.63, 44.09, 34.65], \"type\": \"scatter\"}, {\"hoverinfo\": \"none\", \"marker\": {\"color\": \"#CBB67C\"}, \"mode\": \"markers\", \"name\": \"football\", \"x\": [98.59], \"y\": [24.05], \"type\": \"scatter\"}], \"name\": \"18\"}, {\"data\": [{\"hoverinfo\": \"none\", \"mode\": \"text\", \"showlegend\": false, \"text\": [\"10\", \"20\", \"30\", \"40\", \"50\", \"40\", \"30\", \"20\", \"10\"], \"textfont\": {\"color\": \"#ffffff\", \"family\": \"Courier New, monospace\", \"size\": 30}, \"x\": [20, 30, 40, 50, 60, 70, 80, 90, 100], \"y\": [5, 5, 5, 5, 5, 5, 5, 5, 5], \"type\": \"scatter\"}, {\"hoverinfo\": \"none\", \"mode\": \"text\", \"showlegend\": false, \"text\": [\"10\", \"20\", \"30\", \"40\", \"50\", \"40\", \"30\", \"20\", \"10\"], \"textfont\": {\"color\": \"#ffffff\", \"family\": \"Courier New, monospace\", \"size\": 30}, \"x\": [20, 30, 40, 50, 60, 70, 80, 90, 100], \"y\": [48.5, 48.5, 48.5, 48.5, 48.5, 48.5, 48.5, 48.5, 48.5], \"type\": \"scatter\"}, {\"hoverinfo\": \"none\", \"line\": {\"color\": \"blue\", \"dash\": \"dash\"}, \"showlegend\": false, \"x\": [92.0, 92.0], \"y\": [0, 53.5], \"type\": \"scatter\"}, {\"hoverinfo\": \"none\", \"line\": {\"color\": \"yellow\", \"dash\": \"dash\"}, \"showlegend\": false, \"x\": [102.0, 102.0], \"y\": [0, 53.5], \"type\": \"scatter\"}, {\"hoverinfo\": \"text\", \"hovertext\": [\"nflId:29851.0<br>displayName:Aaron Rodgers<br>Position:QB<br>Role:Pass\", \"nflId:41282.0<br>displayName:Davante Adams<br>Position:SRoWR<br>Role:Pass Route\", \"nflId:41296.0<br>displayName:Billy Turner<br>Position:RT<br>Role:Pass Block\", \"nflId:45635.0<br>displayName:Robert Tonyan<br>Position:LWR<br>Role:Pass Route\", \"nflId:46705.0<br>displayName:Allen Lazard<br>Position:SLWR<br>Role:Pass Route\", \"nflId:47827.0<br>displayName:Elgton Jenkins<br>Position:LT<br>Role:Pass Block\", \"nflId:52470.0<br>displayName:A.J. Dillon<br>Position:RWR<br>Role:Pass Route\", \"nflId:52600.0<br>displayName:Jon Runyan<br>Position:LG<br>Role:Pass Block\", \"nflId:53172.0<br>displayName:Dominique Dafney<br>Position:SRiWR<br>Role:Pass Route\", \"nflId:53491.0<br>displayName:Josh Myers<br>Position:C<br>Role:Pass Block\", \"nflId:53571.0<br>displayName:Royce Newman<br>Position:RG<br>Role:Pass Block\"], \"marker\": {\"color\": \"#203731\"}, \"mode\": \"markers\", \"name\": \"GB\", \"x\": [98.09, 90.51, 96.37, 91.86, 90.1, 95.77, 90.75, 95.23, 89.94, 95.34, 95.79], \"y\": [23.98, 36.01, 28.19, 6.02, 14.45, 19.49, 43.52, 21.45, 30.73, 23.91, 26.68], \"type\": \"scatter\"}, {\"hoverinfo\": \"text\", \"hovertext\": [\"nflId:38544.0<br>displayName:Michael Brockers<br>Position:REO<br>Role:Pass Rush\", \"nflId:40000.0<br>displayName:Jamie Collins<br>Position:LLB<br>Role:Coverage\", \"nflId:40171.0<br>displayName:Nicholas Williams<br>Position:NT<br>Role:Pass Rush\", \"nflId:42444.0<br>displayName:Trey Flowers<br>Position:RLB<br>Role:Coverage\", \"nflId:43775.0<br>displayName:Romeo Okwara<br>Position:LEO<br>Role:Pass Rush\", \"nflId:44888.0<br>displayName:Alex Anzalone<br>Position:SCBR<br>Role:Coverage\", \"nflId:46151.0<br>displayName:Tracy Walker<br>Position:FSL<br>Role:Coverage\", \"nflId:47864.0<br>displayName:Will Harris<br>Position:FSR<br>Role:Coverage\", \"nflId:47929.0<br>displayName:Amani Oruwariye<br>Position:RCB<br>Role:Coverage\", \"nflId:53530.0<br>displayName:Ifeatu Melifonwu<br>Position:LCB<br>Role:Coverage\", \"nflId:53957.0<br>displayName:A.J. Parker<br>Position:SCBoL<br>Role:Coverage\"], \"marker\": {\"color\": \"#0076B6\"}, \"mode\": \"markers\", \"name\": \"DET\", \"x\": [94.47, 85.99, 94.24, 88.24, 95.81, 86.92, 72.07, 74.55, 90.15, 89.19, 84.9], \"y\": [18.71, 28.47, 24.67, 18.59, 29.04, 13.94, 35.56, 15.01, 6.39, 44.09, 34.73], \"type\": \"scatter\"}, {\"hoverinfo\": \"none\", \"marker\": {\"color\": \"#CBB67C\"}, \"mode\": \"markers\", \"name\": \"football\", \"x\": [98.78], \"y\": [24.11], \"type\": \"scatter\"}], \"name\": \"19\"}, {\"data\": [{\"hoverinfo\": \"none\", \"mode\": \"text\", \"showlegend\": false, \"text\": [\"10\", \"20\", \"30\", \"40\", \"50\", \"40\", \"30\", \"20\", \"10\"], \"textfont\": {\"color\": \"#ffffff\", \"family\": \"Courier New, monospace\", \"size\": 30}, \"x\": [20, 30, 40, 50, 60, 70, 80, 90, 100], \"y\": [5, 5, 5, 5, 5, 5, 5, 5, 5], \"type\": \"scatter\"}, {\"hoverinfo\": \"none\", \"mode\": \"text\", \"showlegend\": false, \"text\": [\"10\", \"20\", \"30\", \"40\", \"50\", \"40\", \"30\", \"20\", \"10\"], \"textfont\": {\"color\": \"#ffffff\", \"family\": \"Courier New, monospace\", \"size\": 30}, \"x\": [20, 30, 40, 50, 60, 70, 80, 90, 100], \"y\": [48.5, 48.5, 48.5, 48.5, 48.5, 48.5, 48.5, 48.5, 48.5], \"type\": \"scatter\"}, {\"hoverinfo\": \"none\", \"line\": {\"color\": \"blue\", \"dash\": \"dash\"}, \"showlegend\": false, \"x\": [92.0, 92.0], \"y\": [0, 53.5], \"type\": \"scatter\"}, {\"hoverinfo\": \"none\", \"line\": {\"color\": \"yellow\", \"dash\": \"dash\"}, \"showlegend\": false, \"x\": [102.0, 102.0], \"y\": [0, 53.5], \"type\": \"scatter\"}, {\"hoverinfo\": \"text\", \"hovertext\": [\"nflId:29851.0<br>displayName:Aaron Rodgers<br>Position:QB<br>Role:Pass\", \"nflId:41282.0<br>displayName:Davante Adams<br>Position:SRoWR<br>Role:Pass Route\", \"nflId:41296.0<br>displayName:Billy Turner<br>Position:RT<br>Role:Pass Block\", \"nflId:45635.0<br>displayName:Robert Tonyan<br>Position:LWR<br>Role:Pass Route\", \"nflId:46705.0<br>displayName:Allen Lazard<br>Position:SLWR<br>Role:Pass Route\", \"nflId:47827.0<br>displayName:Elgton Jenkins<br>Position:LT<br>Role:Pass Block\", \"nflId:52470.0<br>displayName:A.J. Dillon<br>Position:RWR<br>Role:Pass Route\", \"nflId:52600.0<br>displayName:Jon Runyan<br>Position:LG<br>Role:Pass Block\", \"nflId:53172.0<br>displayName:Dominique Dafney<br>Position:SRiWR<br>Role:Pass Route\", \"nflId:53491.0<br>displayName:Josh Myers<br>Position:C<br>Role:Pass Block\", \"nflId:53571.0<br>displayName:Royce Newman<br>Position:RG<br>Role:Pass Block\"], \"marker\": {\"color\": \"#203731\"}, \"mode\": \"markers\", \"name\": \"GB\", \"x\": [98.21, 90.05, 96.7, 91.5, 89.74, 96.04, 90.25, 95.45, 89.5, 95.6, 96.07], \"y\": [24.03, 36.09, 28.24, 5.66, 14.41, 19.47, 43.51, 21.41, 30.71, 23.97, 26.8], \"type\": \"scatter\"}, {\"hoverinfo\": \"text\", \"hovertext\": [\"nflId:38544.0<br>displayName:Michael Brockers<br>Position:REO<br>Role:Pass Rush\", \"nflId:40000.0<br>displayName:Jamie Collins<br>Position:LLB<br>Role:Coverage\", \"nflId:40171.0<br>displayName:Nicholas Williams<br>Position:NT<br>Role:Pass Rush\", \"nflId:42444.0<br>displayName:Trey Flowers<br>Position:RLB<br>Role:Coverage\", \"nflId:43775.0<br>displayName:Romeo Okwara<br>Position:LEO<br>Role:Pass Rush\", \"nflId:44888.0<br>displayName:Alex Anzalone<br>Position:SCBR<br>Role:Coverage\", \"nflId:46151.0<br>displayName:Tracy Walker<br>Position:FSL<br>Role:Coverage\", \"nflId:47864.0<br>displayName:Will Harris<br>Position:FSR<br>Role:Coverage\", \"nflId:47929.0<br>displayName:Amani Oruwariye<br>Position:RCB<br>Role:Coverage\", \"nflId:53530.0<br>displayName:Ifeatu Melifonwu<br>Position:LCB<br>Role:Coverage\", \"nflId:53957.0<br>displayName:A.J. Parker<br>Position:SCBoL<br>Role:Coverage\"], \"marker\": {\"color\": \"#0076B6\"}, \"mode\": \"markers\", \"name\": \"DET\", \"x\": [94.8, 85.74, 94.52, 88.08, 96.26, 86.88, 71.7, 74.38, 89.89, 88.99, 84.61], \"y\": [18.77, 28.53, 24.77, 18.57, 29.06, 13.85, 35.74, 15.0, 6.13, 44.08, 34.83], \"type\": \"scatter\"}, {\"hoverinfo\": \"none\", \"marker\": {\"color\": \"#CBB67C\"}, \"mode\": \"markers\", \"name\": \"football\", \"x\": [98.92], \"y\": [24.19], \"type\": \"scatter\"}], \"name\": \"20\"}, {\"data\": [{\"hoverinfo\": \"none\", \"mode\": \"text\", \"showlegend\": false, \"text\": [\"10\", \"20\", \"30\", \"40\", \"50\", \"40\", \"30\", \"20\", \"10\"], \"textfont\": {\"color\": \"#ffffff\", \"family\": \"Courier New, monospace\", \"size\": 30}, \"x\": [20, 30, 40, 50, 60, 70, 80, 90, 100], \"y\": [5, 5, 5, 5, 5, 5, 5, 5, 5], \"type\": \"scatter\"}, {\"hoverinfo\": \"none\", \"mode\": \"text\", \"showlegend\": false, \"text\": [\"10\", \"20\", \"30\", \"40\", \"50\", \"40\", \"30\", \"20\", \"10\"], \"textfont\": {\"color\": \"#ffffff\", \"family\": \"Courier New, monospace\", \"size\": 30}, \"x\": [20, 30, 40, 50, 60, 70, 80, 90, 100], \"y\": [48.5, 48.5, 48.5, 48.5, 48.5, 48.5, 48.5, 48.5, 48.5], \"type\": \"scatter\"}, {\"hoverinfo\": \"none\", \"line\": {\"color\": \"blue\", \"dash\": \"dash\"}, \"showlegend\": false, \"x\": [92.0, 92.0], \"y\": [0, 53.5], \"type\": \"scatter\"}, {\"hoverinfo\": \"none\", \"line\": {\"color\": \"yellow\", \"dash\": \"dash\"}, \"showlegend\": false, \"x\": [102.0, 102.0], \"y\": [0, 53.5], \"type\": \"scatter\"}, {\"hoverinfo\": \"text\", \"hovertext\": [\"nflId:29851.0<br>displayName:Aaron Rodgers<br>Position:QB<br>Role:Pass\", \"nflId:41282.0<br>displayName:Davante Adams<br>Position:SRoWR<br>Role:Pass Route\", \"nflId:41296.0<br>displayName:Billy Turner<br>Position:RT<br>Role:Pass Block\", \"nflId:45635.0<br>displayName:Robert Tonyan<br>Position:LWR<br>Role:Pass Route\", \"nflId:46705.0<br>displayName:Allen Lazard<br>Position:SLWR<br>Role:Pass Route\", \"nflId:47827.0<br>displayName:Elgton Jenkins<br>Position:LT<br>Role:Pass Block\", \"nflId:52470.0<br>displayName:A.J. Dillon<br>Position:RWR<br>Role:Pass Route\", \"nflId:52600.0<br>displayName:Jon Runyan<br>Position:LG<br>Role:Pass Block\", \"nflId:53172.0<br>displayName:Dominique Dafney<br>Position:SRiWR<br>Role:Pass Route\", \"nflId:53491.0<br>displayName:Josh Myers<br>Position:C<br>Role:Pass Block\", \"nflId:53571.0<br>displayName:Royce Newman<br>Position:RG<br>Role:Pass Block\"], \"marker\": {\"color\": \"#203731\"}, \"mode\": \"markers\", \"name\": \"GB\", \"x\": [98.31, 89.6, 97.04, 91.1, 89.4, 96.3, 89.76, 95.66, 89.07, 95.85, 96.34], \"y\": [24.07, 36.2, 28.26, 5.3, 14.39, 19.47, 43.48, 21.37, 30.71, 24.06, 26.92], \"type\": \"scatter\"}, {\"hoverinfo\": \"text\", \"hovertext\": [\"nflId:38544.0<br>displayName:Michael Brockers<br>Position:REO<br>Role:Pass Rush\", \"nflId:40000.0<br>displayName:Jamie Collins<br>Position:LLB<br>Role:Coverage\", \"nflId:40171.0<br>displayName:Nicholas Williams<br>Position:NT<br>Role:Pass Rush\", \"nflId:42444.0<br>displayName:Trey Flowers<br>Position:RLB<br>Role:Coverage\", \"nflId:43775.0<br>displayName:Romeo Okwara<br>Position:LEO<br>Role:Pass Rush\", \"nflId:44888.0<br>displayName:Alex Anzalone<br>Position:SCBR<br>Role:Coverage\", \"nflId:46151.0<br>displayName:Tracy Walker<br>Position:FSL<br>Role:Coverage\", \"nflId:47864.0<br>displayName:Will Harris<br>Position:FSR<br>Role:Coverage\", \"nflId:47929.0<br>displayName:Amani Oruwariye<br>Position:RCB<br>Role:Coverage\", \"nflId:53530.0<br>displayName:Ifeatu Melifonwu<br>Position:LCB<br>Role:Coverage\", \"nflId:53957.0<br>displayName:A.J. Parker<br>Position:SCBoL<br>Role:Coverage\"], \"marker\": {\"color\": \"#0076B6\"}, \"mode\": \"markers\", \"name\": \"DET\", \"x\": [95.1, 85.49, 94.8, 87.91, 96.67, 86.82, 71.32, 74.19, 89.58, 88.75, 84.36], \"y\": [18.88, 28.58, 24.87, 18.54, 29.09, 13.76, 35.92, 14.99, 5.85, 44.07, 34.97], \"type\": \"scatter\"}, {\"hoverinfo\": \"none\", \"marker\": {\"color\": \"#CBB67C\"}, \"mode\": \"markers\", \"name\": \"football\", \"x\": [99.01], \"y\": [24.29], \"type\": \"scatter\"}], \"name\": \"21\"}, {\"data\": [{\"hoverinfo\": \"none\", \"mode\": \"text\", \"showlegend\": false, \"text\": [\"10\", \"20\", \"30\", \"40\", \"50\", \"40\", \"30\", \"20\", \"10\"], \"textfont\": {\"color\": \"#ffffff\", \"family\": \"Courier New, monospace\", \"size\": 30}, \"x\": [20, 30, 40, 50, 60, 70, 80, 90, 100], \"y\": [5, 5, 5, 5, 5, 5, 5, 5, 5], \"type\": \"scatter\"}, {\"hoverinfo\": \"none\", \"mode\": \"text\", \"showlegend\": false, \"text\": [\"10\", \"20\", \"30\", \"40\", \"50\", \"40\", \"30\", \"20\", \"10\"], \"textfont\": {\"color\": \"#ffffff\", \"family\": \"Courier New, monospace\", \"size\": 30}, \"x\": [20, 30, 40, 50, 60, 70, 80, 90, 100], \"y\": [48.5, 48.5, 48.5, 48.5, 48.5, 48.5, 48.5, 48.5, 48.5], \"type\": \"scatter\"}, {\"hoverinfo\": \"none\", \"line\": {\"color\": \"blue\", \"dash\": \"dash\"}, \"showlegend\": false, \"x\": [92.0, 92.0], \"y\": [0, 53.5], \"type\": \"scatter\"}, {\"hoverinfo\": \"none\", \"line\": {\"color\": \"yellow\", \"dash\": \"dash\"}, \"showlegend\": false, \"x\": [102.0, 102.0], \"y\": [0, 53.5], \"type\": \"scatter\"}, {\"hoverinfo\": \"text\", \"hovertext\": [\"nflId:29851.0<br>displayName:Aaron Rodgers<br>Position:QB<br>Role:Pass\", \"nflId:41282.0<br>displayName:Davante Adams<br>Position:SRoWR<br>Role:Pass Route\", \"nflId:41296.0<br>displayName:Billy Turner<br>Position:RT<br>Role:Pass Block\", \"nflId:45635.0<br>displayName:Robert Tonyan<br>Position:LWR<br>Role:Pass Route\", \"nflId:46705.0<br>displayName:Allen Lazard<br>Position:SLWR<br>Role:Pass Route\", \"nflId:47827.0<br>displayName:Elgton Jenkins<br>Position:LT<br>Role:Pass Block\", \"nflId:52470.0<br>displayName:A.J. Dillon<br>Position:RWR<br>Role:Pass Route\", \"nflId:52600.0<br>displayName:Jon Runyan<br>Position:LG<br>Role:Pass Block\", \"nflId:53172.0<br>displayName:Dominique Dafney<br>Position:SRiWR<br>Role:Pass Route\", \"nflId:53491.0<br>displayName:Josh Myers<br>Position:C<br>Role:Pass Block\", \"nflId:53571.0<br>displayName:Royce Newman<br>Position:RG<br>Role:Pass Block\"], \"marker\": {\"color\": \"#203731\"}, \"mode\": \"markers\", \"name\": \"GB\", \"x\": [98.4, 89.18, 97.38, 90.66, 89.09, 96.54, 89.27, 95.85, 88.65, 96.09, 96.62], \"y\": [24.1, 36.35, 28.26, 4.92, 14.4, 19.49, 43.44, 21.32, 30.74, 24.15, 27.06], \"type\": \"scatter\"}, {\"hoverinfo\": \"text\", \"hovertext\": [\"nflId:38544.0<br>displayName:Michael Brockers<br>Position:REO<br>Role:Pass Rush\", \"nflId:40000.0<br>displayName:Jamie Collins<br>Position:LLB<br>Role:Coverage\", \"nflId:40171.0<br>displayName:Nicholas Williams<br>Position:NT<br>Role:Pass Rush\", \"nflId:42444.0<br>displayName:Trey Flowers<br>Position:RLB<br>Role:Coverage\", \"nflId:43775.0<br>displayName:Romeo Okwara<br>Position:LEO<br>Role:Pass Rush\", \"nflId:44888.0<br>displayName:Alex Anzalone<br>Position:SCBR<br>Role:Coverage\", \"nflId:46151.0<br>displayName:Tracy Walker<br>Position:FSL<br>Role:Coverage\", \"nflId:47864.0<br>displayName:Will Harris<br>Position:FSR<br>Role:Coverage\", \"nflId:47929.0<br>displayName:Amani Oruwariye<br>Position:RCB<br>Role:Coverage\", \"nflId:53530.0<br>displayName:Ifeatu Melifonwu<br>Position:LCB<br>Role:Coverage\", \"nflId:53957.0<br>displayName:A.J. Parker<br>Position:SCBoL<br>Role:Coverage\"], \"marker\": {\"color\": \"#0076B6\"}, \"mode\": \"markers\", \"name\": \"DET\", \"x\": [95.37, 85.25, 95.11, 87.74, 97.03, 86.76, 70.96, 74.0, 89.25, 88.46, 84.15], \"y\": [19.01, 28.63, 24.98, 18.5, 29.13, 13.7, 36.11, 14.98, 5.55, 44.07, 35.14], \"type\": \"scatter\"}, {\"hoverinfo\": \"none\", \"marker\": {\"color\": \"#CBB67C\"}, \"mode\": \"markers\", \"name\": \"football\", \"x\": [99.05], \"y\": [24.41], \"type\": \"scatter\"}], \"name\": \"22\"}, {\"data\": [{\"hoverinfo\": \"none\", \"mode\": \"text\", \"showlegend\": false, \"text\": [\"10\", \"20\", \"30\", \"40\", \"50\", \"40\", \"30\", \"20\", \"10\"], \"textfont\": {\"color\": \"#ffffff\", \"family\": \"Courier New, monospace\", \"size\": 30}, \"x\": [20, 30, 40, 50, 60, 70, 80, 90, 100], \"y\": [5, 5, 5, 5, 5, 5, 5, 5, 5], \"type\": \"scatter\"}, {\"hoverinfo\": \"none\", \"mode\": \"text\", \"showlegend\": false, \"text\": [\"10\", \"20\", \"30\", \"40\", \"50\", \"40\", \"30\", \"20\", \"10\"], \"textfont\": {\"color\": \"#ffffff\", \"family\": \"Courier New, monospace\", \"size\": 30}, \"x\": [20, 30, 40, 50, 60, 70, 80, 90, 100], \"y\": [48.5, 48.5, 48.5, 48.5, 48.5, 48.5, 48.5, 48.5, 48.5], \"type\": \"scatter\"}, {\"hoverinfo\": \"none\", \"line\": {\"color\": \"blue\", \"dash\": \"dash\"}, \"showlegend\": false, \"x\": [92.0, 92.0], \"y\": [0, 53.5], \"type\": \"scatter\"}, {\"hoverinfo\": \"none\", \"line\": {\"color\": \"yellow\", \"dash\": \"dash\"}, \"showlegend\": false, \"x\": [102.0, 102.0], \"y\": [0, 53.5], \"type\": \"scatter\"}, {\"hoverinfo\": \"text\", \"hovertext\": [\"nflId:29851.0<br>displayName:Aaron Rodgers<br>Position:QB<br>Role:Pass\", \"nflId:41282.0<br>displayName:Davante Adams<br>Position:SRoWR<br>Role:Pass Route\", \"nflId:41296.0<br>displayName:Billy Turner<br>Position:RT<br>Role:Pass Block\", \"nflId:45635.0<br>displayName:Robert Tonyan<br>Position:LWR<br>Role:Pass Route\", \"nflId:46705.0<br>displayName:Allen Lazard<br>Position:SLWR<br>Role:Pass Route\", \"nflId:47827.0<br>displayName:Elgton Jenkins<br>Position:LT<br>Role:Pass Block\", \"nflId:52470.0<br>displayName:A.J. Dillon<br>Position:RWR<br>Role:Pass Route\", \"nflId:52600.0<br>displayName:Jon Runyan<br>Position:LG<br>Role:Pass Block\", \"nflId:53172.0<br>displayName:Dominique Dafney<br>Position:SRiWR<br>Role:Pass Route\", \"nflId:53491.0<br>displayName:Josh Myers<br>Position:C<br>Role:Pass Block\", \"nflId:53571.0<br>displayName:Royce Newman<br>Position:RG<br>Role:Pass Block\"], \"marker\": {\"color\": \"#203731\"}, \"mode\": \"markers\", \"name\": \"GB\", \"x\": [98.48, 88.8, 97.7, 90.19, 88.82, 96.77, 88.78, 96.02, 88.26, 96.32, 96.87], \"y\": [24.13, 36.54, 28.25, 4.56, 14.42, 19.56, 43.37, 21.26, 30.78, 24.26, 27.22], \"type\": \"scatter\"}, {\"hoverinfo\": \"text\", \"hovertext\": [\"nflId:38544.0<br>displayName:Michael Brockers<br>Position:REO<br>Role:Pass Rush\", \"nflId:40000.0<br>displayName:Jamie Collins<br>Position:LLB<br>Role:Coverage\", \"nflId:40171.0<br>displayName:Nicholas Williams<br>Position:NT<br>Role:Pass Rush\", \"nflId:42444.0<br>displayName:Trey Flowers<br>Position:RLB<br>Role:Coverage\", \"nflId:43775.0<br>displayName:Romeo Okwara<br>Position:LEO<br>Role:Pass Rush\", \"nflId:44888.0<br>displayName:Alex Anzalone<br>Position:SCBR<br>Role:Coverage\", \"nflId:46151.0<br>displayName:Tracy Walker<br>Position:FSL<br>Role:Coverage\", \"nflId:47864.0<br>displayName:Will Harris<br>Position:FSR<br>Role:Coverage\", \"nflId:47929.0<br>displayName:Amani Oruwariye<br>Position:RCB<br>Role:Coverage\", \"nflId:53530.0<br>displayName:Ifeatu Melifonwu<br>Position:LCB<br>Role:Coverage\", \"nflId:53957.0<br>displayName:A.J. Parker<br>Position:SCBoL<br>Role:Coverage\"], \"marker\": {\"color\": \"#0076B6\"}, \"mode\": \"markers\", \"name\": \"DET\", \"x\": [95.61, 85.03, 95.4, 87.58, 97.35, 86.69, 70.62, 73.79, 88.88, 88.16, 84.01], \"y\": [19.17, 28.69, 25.09, 18.47, 29.16, 13.67, 36.32, 14.97, 5.24, 44.08, 35.36], \"type\": \"scatter\"}, {\"hoverinfo\": \"none\", \"marker\": {\"color\": \"#CBB67C\"}, \"mode\": \"markers\", \"name\": \"football\", \"x\": [99.04], \"y\": [24.54], \"type\": \"scatter\"}], \"name\": \"23\"}, {\"data\": [{\"hoverinfo\": \"none\", \"mode\": \"text\", \"showlegend\": false, \"text\": [\"10\", \"20\", \"30\", \"40\", \"50\", \"40\", \"30\", \"20\", \"10\"], \"textfont\": {\"color\": \"#ffffff\", \"family\": \"Courier New, monospace\", \"size\": 30}, \"x\": [20, 30, 40, 50, 60, 70, 80, 90, 100], \"y\": [5, 5, 5, 5, 5, 5, 5, 5, 5], \"type\": \"scatter\"}, {\"hoverinfo\": \"none\", \"mode\": \"text\", \"showlegend\": false, \"text\": [\"10\", \"20\", \"30\", \"40\", \"50\", \"40\", \"30\", \"20\", \"10\"], \"textfont\": {\"color\": \"#ffffff\", \"family\": \"Courier New, monospace\", \"size\": 30}, \"x\": [20, 30, 40, 50, 60, 70, 80, 90, 100], \"y\": [48.5, 48.5, 48.5, 48.5, 48.5, 48.5, 48.5, 48.5, 48.5], \"type\": \"scatter\"}, {\"hoverinfo\": \"none\", \"line\": {\"color\": \"blue\", \"dash\": \"dash\"}, \"showlegend\": false, \"x\": [92.0, 92.0], \"y\": [0, 53.5], \"type\": \"scatter\"}, {\"hoverinfo\": \"none\", \"line\": {\"color\": \"yellow\", \"dash\": \"dash\"}, \"showlegend\": false, \"x\": [102.0, 102.0], \"y\": [0, 53.5], \"type\": \"scatter\"}, {\"hoverinfo\": \"text\", \"hovertext\": [\"nflId:29851.0<br>displayName:Aaron Rodgers<br>Position:QB<br>Role:Pass\", \"nflId:41282.0<br>displayName:Davante Adams<br>Position:SRoWR<br>Role:Pass Route\", \"nflId:41296.0<br>displayName:Billy Turner<br>Position:RT<br>Role:Pass Block\", \"nflId:45635.0<br>displayName:Robert Tonyan<br>Position:LWR<br>Role:Pass Route\", \"nflId:46705.0<br>displayName:Allen Lazard<br>Position:SLWR<br>Role:Pass Route\", \"nflId:47827.0<br>displayName:Elgton Jenkins<br>Position:LT<br>Role:Pass Block\", \"nflId:52470.0<br>displayName:A.J. Dillon<br>Position:RWR<br>Role:Pass Route\", \"nflId:52600.0<br>displayName:Jon Runyan<br>Position:LG<br>Role:Pass Block\", \"nflId:53172.0<br>displayName:Dominique Dafney<br>Position:SRiWR<br>Role:Pass Route\", \"nflId:53491.0<br>displayName:Josh Myers<br>Position:C<br>Role:Pass Block\", \"nflId:53571.0<br>displayName:Royce Newman<br>Position:RG<br>Role:Pass Block\"], \"marker\": {\"color\": \"#203731\"}, \"mode\": \"markers\", \"name\": \"GB\", \"x\": [98.54, 88.48, 98.0, 89.68, 88.59, 96.99, 88.31, 96.18, 87.9, 96.55, 97.11], \"y\": [24.15, 36.8, 28.22, 4.2, 14.47, 19.67, 43.29, 21.2, 30.86, 24.39, 27.4], \"type\": \"scatter\"}, {\"hoverinfo\": \"text\", \"hovertext\": [\"nflId:38544.0<br>displayName:Michael Brockers<br>Position:REO<br>Role:Pass Rush\", \"nflId:40000.0<br>displayName:Jamie Collins<br>Position:LLB<br>Role:Coverage\", \"nflId:40171.0<br>displayName:Nicholas Williams<br>Position:NT<br>Role:Pass Rush\", \"nflId:42444.0<br>displayName:Trey Flowers<br>Position:RLB<br>Role:Coverage\", \"nflId:43775.0<br>displayName:Romeo Okwara<br>Position:LEO<br>Role:Pass Rush\", \"nflId:44888.0<br>displayName:Alex Anzalone<br>Position:SCBR<br>Role:Coverage\", \"nflId:46151.0<br>displayName:Tracy Walker<br>Position:FSL<br>Role:Coverage\", \"nflId:47864.0<br>displayName:Will Harris<br>Position:FSR<br>Role:Coverage\", \"nflId:47929.0<br>displayName:Amani Oruwariye<br>Position:RCB<br>Role:Coverage\", \"nflId:53530.0<br>displayName:Ifeatu Melifonwu<br>Position:LCB<br>Role:Coverage\", \"nflId:53957.0<br>displayName:A.J. Parker<br>Position:SCBoL<br>Role:Coverage\"], \"marker\": {\"color\": \"#0076B6\"}, \"mode\": \"markers\", \"name\": \"DET\", \"x\": [95.82, 84.85, 95.68, 87.44, 97.62, 86.62, 70.33, 73.58, 88.48, 87.82, 83.93], \"y\": [19.34, 28.75, 25.21, 18.45, 29.21, 13.69, 36.56, 14.98, 4.94, 44.09, 35.6], \"type\": \"scatter\"}, {\"hoverinfo\": \"none\", \"marker\": {\"color\": \"#CBB67C\"}, \"mode\": \"markers\", \"name\": \"football\", \"x\": [99.0], \"y\": [24.68], \"type\": \"scatter\"}], \"name\": \"24\"}, {\"data\": [{\"hoverinfo\": \"none\", \"mode\": \"text\", \"showlegend\": false, \"text\": [\"10\", \"20\", \"30\", \"40\", \"50\", \"40\", \"30\", \"20\", \"10\"], \"textfont\": {\"color\": \"#ffffff\", \"family\": \"Courier New, monospace\", \"size\": 30}, \"x\": [20, 30, 40, 50, 60, 70, 80, 90, 100], \"y\": [5, 5, 5, 5, 5, 5, 5, 5, 5], \"type\": \"scatter\"}, {\"hoverinfo\": \"none\", \"mode\": \"text\", \"showlegend\": false, \"text\": [\"10\", \"20\", \"30\", \"40\", \"50\", \"40\", \"30\", \"20\", \"10\"], \"textfont\": {\"color\": \"#ffffff\", \"family\": \"Courier New, monospace\", \"size\": 30}, \"x\": [20, 30, 40, 50, 60, 70, 80, 90, 100], \"y\": [48.5, 48.5, 48.5, 48.5, 48.5, 48.5, 48.5, 48.5, 48.5], \"type\": \"scatter\"}, {\"hoverinfo\": \"none\", \"line\": {\"color\": \"blue\", \"dash\": \"dash\"}, \"showlegend\": false, \"x\": [92.0, 92.0], \"y\": [0, 53.5], \"type\": \"scatter\"}, {\"hoverinfo\": \"none\", \"line\": {\"color\": \"yellow\", \"dash\": \"dash\"}, \"showlegend\": false, \"x\": [102.0, 102.0], \"y\": [0, 53.5], \"type\": \"scatter\"}, {\"hoverinfo\": \"text\", \"hovertext\": [\"nflId:29851.0<br>displayName:Aaron Rodgers<br>Position:QB<br>Role:Pass\", \"nflId:41282.0<br>displayName:Davante Adams<br>Position:SRoWR<br>Role:Pass Route\", \"nflId:41296.0<br>displayName:Billy Turner<br>Position:RT<br>Role:Pass Block\", \"nflId:45635.0<br>displayName:Robert Tonyan<br>Position:LWR<br>Role:Pass Route\", \"nflId:46705.0<br>displayName:Allen Lazard<br>Position:SLWR<br>Role:Pass Route\", \"nflId:47827.0<br>displayName:Elgton Jenkins<br>Position:LT<br>Role:Pass Block\", \"nflId:52470.0<br>displayName:A.J. Dillon<br>Position:RWR<br>Role:Pass Route\", \"nflId:52600.0<br>displayName:Jon Runyan<br>Position:LG<br>Role:Pass Block\", \"nflId:53172.0<br>displayName:Dominique Dafney<br>Position:SRiWR<br>Role:Pass Route\", \"nflId:53491.0<br>displayName:Josh Myers<br>Position:C<br>Role:Pass Block\", \"nflId:53571.0<br>displayName:Royce Newman<br>Position:RG<br>Role:Pass Block\"], \"marker\": {\"color\": \"#203731\"}, \"mode\": \"markers\", \"name\": \"GB\", \"x\": [98.6, 88.2, 98.27, 89.12, 88.4, 97.18, 87.84, 96.32, 87.57, 96.75, 97.34], \"y\": [24.17, 37.1, 28.18, 3.86, 14.54, 19.79, 43.19, 21.14, 30.98, 24.56, 27.57], \"type\": \"scatter\"}, {\"hoverinfo\": \"text\", \"hovertext\": [\"nflId:38544.0<br>displayName:Michael Brockers<br>Position:REO<br>Role:Pass Rush\", \"nflId:40000.0<br>displayName:Jamie Collins<br>Position:LLB<br>Role:Coverage\", \"nflId:40171.0<br>displayName:Nicholas Williams<br>Position:NT<br>Role:Pass Rush\", \"nflId:42444.0<br>displayName:Trey Flowers<br>Position:RLB<br>Role:Coverage\", \"nflId:43775.0<br>displayName:Romeo Okwara<br>Position:LEO<br>Role:Pass Rush\", \"nflId:44888.0<br>displayName:Alex Anzalone<br>Position:SCBR<br>Role:Coverage\", \"nflId:46151.0<br>displayName:Tracy Walker<br>Position:FSL<br>Role:Coverage\", \"nflId:47864.0<br>displayName:Will Harris<br>Position:FSR<br>Role:Coverage\", \"nflId:47929.0<br>displayName:Amani Oruwariye<br>Position:RCB<br>Role:Coverage\", \"nflId:53530.0<br>displayName:Ifeatu Melifonwu<br>Position:LCB<br>Role:Coverage\", \"nflId:53957.0<br>displayName:A.J. Parker<br>Position:SCBoL<br>Role:Coverage\"], \"marker\": {\"color\": \"#0076B6\"}, \"mode\": \"markers\", \"name\": \"DET\", \"x\": [96.0, 84.7, 95.94, 87.32, 97.83, 86.54, 70.07, 73.36, 88.05, 87.47, 83.9], \"y\": [19.51, 28.84, 25.38, 18.45, 29.25, 13.75, 36.8, 14.99, 4.64, 44.1, 35.87], \"type\": \"scatter\"}, {\"hoverinfo\": \"none\", \"marker\": {\"color\": \"#CBB67C\"}, \"mode\": \"markers\", \"name\": \"football\", \"x\": [98.92], \"y\": [24.89], \"type\": \"scatter\"}], \"name\": \"25\"}, {\"data\": [{\"hoverinfo\": \"none\", \"mode\": \"text\", \"showlegend\": false, \"text\": [\"10\", \"20\", \"30\", \"40\", \"50\", \"40\", \"30\", \"20\", \"10\"], \"textfont\": {\"color\": \"#ffffff\", \"family\": \"Courier New, monospace\", \"size\": 30}, \"x\": [20, 30, 40, 50, 60, 70, 80, 90, 100], \"y\": [5, 5, 5, 5, 5, 5, 5, 5, 5], \"type\": \"scatter\"}, {\"hoverinfo\": \"none\", \"mode\": \"text\", \"showlegend\": false, \"text\": [\"10\", \"20\", \"30\", \"40\", \"50\", \"40\", \"30\", \"20\", \"10\"], \"textfont\": {\"color\": \"#ffffff\", \"family\": \"Courier New, monospace\", \"size\": 30}, \"x\": [20, 30, 40, 50, 60, 70, 80, 90, 100], \"y\": [48.5, 48.5, 48.5, 48.5, 48.5, 48.5, 48.5, 48.5, 48.5], \"type\": \"scatter\"}, {\"hoverinfo\": \"none\", \"line\": {\"color\": \"blue\", \"dash\": \"dash\"}, \"showlegend\": false, \"x\": [92.0, 92.0], \"y\": [0, 53.5], \"type\": \"scatter\"}, {\"hoverinfo\": \"none\", \"line\": {\"color\": \"yellow\", \"dash\": \"dash\"}, \"showlegend\": false, \"x\": [102.0, 102.0], \"y\": [0, 53.5], \"type\": \"scatter\"}, {\"hoverinfo\": \"text\", \"hovertext\": [\"nflId:29851.0<br>displayName:Aaron Rodgers<br>Position:QB<br>Role:Pass\", \"nflId:41282.0<br>displayName:Davante Adams<br>Position:SRoWR<br>Role:Pass Route\", \"nflId:41296.0<br>displayName:Billy Turner<br>Position:RT<br>Role:Pass Block\", \"nflId:45635.0<br>displayName:Robert Tonyan<br>Position:LWR<br>Role:Pass Route\", \"nflId:46705.0<br>displayName:Allen Lazard<br>Position:SLWR<br>Role:Pass Route\", \"nflId:47827.0<br>displayName:Elgton Jenkins<br>Position:LT<br>Role:Pass Block\", \"nflId:52470.0<br>displayName:A.J. Dillon<br>Position:RWR<br>Role:Pass Route\", \"nflId:52600.0<br>displayName:Jon Runyan<br>Position:LG<br>Role:Pass Block\", \"nflId:53172.0<br>displayName:Dominique Dafney<br>Position:SRiWR<br>Role:Pass Route\", \"nflId:53491.0<br>displayName:Josh Myers<br>Position:C<br>Role:Pass Block\", \"nflId:53571.0<br>displayName:Royce Newman<br>Position:RG<br>Role:Pass Block\"], \"marker\": {\"color\": \"#203731\"}, \"mode\": \"markers\", \"name\": \"GB\", \"x\": [98.64, 87.98, 98.53, 88.54, 88.26, 97.35, 87.38, 96.45, 87.29, 96.94, 97.54], \"y\": [24.18, 37.45, 28.14, 3.54, 14.63, 19.94, 43.08, 21.09, 31.14, 24.73, 27.75], \"type\": \"scatter\"}, {\"hoverinfo\": \"text\", \"hovertext\": [\"nflId:38544.0<br>displayName:Michael Brockers<br>Position:REO<br>Role:Pass Rush\", \"nflId:40000.0<br>displayName:Jamie Collins<br>Position:LLB<br>Role:Coverage\", \"nflId:40171.0<br>displayName:Nicholas Williams<br>Position:NT<br>Role:Pass Rush\", \"nflId:42444.0<br>displayName:Trey Flowers<br>Position:RLB<br>Role:Coverage\", \"nflId:43775.0<br>displayName:Romeo Okwara<br>Position:LEO<br>Role:Pass Rush\", \"nflId:44888.0<br>displayName:Alex Anzalone<br>Position:SCBR<br>Role:Coverage\", \"nflId:46151.0<br>displayName:Tracy Walker<br>Position:FSL<br>Role:Coverage\", \"nflId:47864.0<br>displayName:Will Harris<br>Position:FSR<br>Role:Coverage\", \"nflId:47929.0<br>displayName:Amani Oruwariye<br>Position:RCB<br>Role:Coverage\", \"nflId:53530.0<br>displayName:Ifeatu Melifonwu<br>Position:LCB<br>Role:Coverage\", \"nflId:53957.0<br>displayName:A.J. Parker<br>Position:SCBoL<br>Role:Coverage\"], \"marker\": {\"color\": \"#0076B6\"}, \"mode\": \"markers\", \"name\": \"DET\", \"x\": [96.14, 84.59, 96.18, 87.21, 97.95, 86.48, 69.88, 73.14, 87.58, 87.16, 83.92], \"y\": [19.67, 28.97, 25.54, 18.47, 29.3, 13.84, 37.07, 15.04, 4.35, 44.11, 36.16], \"type\": \"scatter\"}, {\"hoverinfo\": \"none\", \"marker\": {\"color\": \"#CBB67C\"}, \"mode\": \"markers\", \"name\": \"football\", \"x\": [96.11], \"y\": [28.63], \"type\": \"scatter\"}], \"name\": \"26\"}, {\"data\": [{\"hoverinfo\": \"none\", \"mode\": \"text\", \"showlegend\": false, \"text\": [\"10\", \"20\", \"30\", \"40\", \"50\", \"40\", \"30\", \"20\", \"10\"], \"textfont\": {\"color\": \"#ffffff\", \"family\": \"Courier New, monospace\", \"size\": 30}, \"x\": [20, 30, 40, 50, 60, 70, 80, 90, 100], \"y\": [5, 5, 5, 5, 5, 5, 5, 5, 5], \"type\": \"scatter\"}, {\"hoverinfo\": \"none\", \"mode\": \"text\", \"showlegend\": false, \"text\": [\"10\", \"20\", \"30\", \"40\", \"50\", \"40\", \"30\", \"20\", \"10\"], \"textfont\": {\"color\": \"#ffffff\", \"family\": \"Courier New, monospace\", \"size\": 30}, \"x\": [20, 30, 40, 50, 60, 70, 80, 90, 100], \"y\": [48.5, 48.5, 48.5, 48.5, 48.5, 48.5, 48.5, 48.5, 48.5], \"type\": \"scatter\"}, {\"hoverinfo\": \"none\", \"line\": {\"color\": \"blue\", \"dash\": \"dash\"}, \"showlegend\": false, \"x\": [92.0, 92.0], \"y\": [0, 53.5], \"type\": \"scatter\"}, {\"hoverinfo\": \"none\", \"line\": {\"color\": \"yellow\", \"dash\": \"dash\"}, \"showlegend\": false, \"x\": [102.0, 102.0], \"y\": [0, 53.5], \"type\": \"scatter\"}, {\"hoverinfo\": \"text\", \"hovertext\": [\"nflId:29851.0<br>displayName:Aaron Rodgers<br>Position:QB<br>Role:Pass\", \"nflId:41282.0<br>displayName:Davante Adams<br>Position:SRoWR<br>Role:Pass Route\", \"nflId:41296.0<br>displayName:Billy Turner<br>Position:RT<br>Role:Pass Block\", \"nflId:45635.0<br>displayName:Robert Tonyan<br>Position:LWR<br>Role:Pass Route\", \"nflId:46705.0<br>displayName:Allen Lazard<br>Position:SLWR<br>Role:Pass Route\", \"nflId:47827.0<br>displayName:Elgton Jenkins<br>Position:LT<br>Role:Pass Block\", \"nflId:52470.0<br>displayName:A.J. Dillon<br>Position:RWR<br>Role:Pass Route\", \"nflId:52600.0<br>displayName:Jon Runyan<br>Position:LG<br>Role:Pass Block\", \"nflId:53172.0<br>displayName:Dominique Dafney<br>Position:SRiWR<br>Role:Pass Route\", \"nflId:53491.0<br>displayName:Josh Myers<br>Position:C<br>Role:Pass Block\", \"nflId:53571.0<br>displayName:Royce Newman<br>Position:RG<br>Role:Pass Block\"], \"marker\": {\"color\": \"#203731\"}, \"mode\": \"markers\", \"name\": \"GB\", \"x\": [98.67, 87.82, 98.75, 87.93, 88.13, 97.49, 86.91, 96.55, 87.05, 97.1, 97.7], \"y\": [24.19, 37.85, 28.09, 3.23, 14.75, 20.09, 42.98, 21.06, 31.34, 24.91, 27.92], \"type\": \"scatter\"}, {\"hoverinfo\": \"text\", \"hovertext\": [\"nflId:38544.0<br>displayName:Michael Brockers<br>Position:REO<br>Role:Pass Rush\", \"nflId:40000.0<br>displayName:Jamie Collins<br>Position:LLB<br>Role:Coverage\", \"nflId:40171.0<br>displayName:Nicholas Williams<br>Position:NT<br>Role:Pass Rush\", \"nflId:42444.0<br>displayName:Trey Flowers<br>Position:RLB<br>Role:Coverage\", \"nflId:43775.0<br>displayName:Romeo Okwara<br>Position:LEO<br>Role:Pass Rush\", \"nflId:44888.0<br>displayName:Alex Anzalone<br>Position:SCBR<br>Role:Coverage\", \"nflId:46151.0<br>displayName:Tracy Walker<br>Position:FSL<br>Role:Coverage\", \"nflId:47864.0<br>displayName:Will Harris<br>Position:FSR<br>Role:Coverage\", \"nflId:47929.0<br>displayName:Amani Oruwariye<br>Position:RCB<br>Role:Coverage\", \"nflId:53530.0<br>displayName:Ifeatu Melifonwu<br>Position:LCB<br>Role:Coverage\", \"nflId:53957.0<br>displayName:A.J. Parker<br>Position:SCBoL<br>Role:Coverage\"], \"marker\": {\"color\": \"#0076B6\"}, \"mode\": \"markers\", \"name\": \"DET\", \"x\": [96.26, 84.53, 96.41, 87.13, 98.03, 86.41, 69.74, 72.95, 87.1, 86.88, 83.99], \"y\": [19.82, 29.13, 25.71, 18.52, 29.36, 13.98, 37.36, 15.13, 4.07, 44.1, 36.5], \"type\": \"scatter\"}, {\"hoverinfo\": \"none\", \"marker\": {\"color\": \"#CBB67C\"}, \"mode\": \"markers\", \"name\": \"football\", \"x\": [94.86], \"y\": [30.54], \"type\": \"scatter\"}], \"name\": \"27\"}, {\"data\": [{\"hoverinfo\": \"none\", \"mode\": \"text\", \"showlegend\": false, \"text\": [\"10\", \"20\", \"30\", \"40\", \"50\", \"40\", \"30\", \"20\", \"10\"], \"textfont\": {\"color\": \"#ffffff\", \"family\": \"Courier New, monospace\", \"size\": 30}, \"x\": [20, 30, 40, 50, 60, 70, 80, 90, 100], \"y\": [5, 5, 5, 5, 5, 5, 5, 5, 5], \"type\": \"scatter\"}, {\"hoverinfo\": \"none\", \"mode\": \"text\", \"showlegend\": false, \"text\": [\"10\", \"20\", \"30\", \"40\", \"50\", \"40\", \"30\", \"20\", \"10\"], \"textfont\": {\"color\": \"#ffffff\", \"family\": \"Courier New, monospace\", \"size\": 30}, \"x\": [20, 30, 40, 50, 60, 70, 80, 90, 100], \"y\": [48.5, 48.5, 48.5, 48.5, 48.5, 48.5, 48.5, 48.5, 48.5], \"type\": \"scatter\"}, {\"hoverinfo\": \"none\", \"line\": {\"color\": \"blue\", \"dash\": \"dash\"}, \"showlegend\": false, \"x\": [92.0, 92.0], \"y\": [0, 53.5], \"type\": \"scatter\"}, {\"hoverinfo\": \"none\", \"line\": {\"color\": \"yellow\", \"dash\": \"dash\"}, \"showlegend\": false, \"x\": [102.0, 102.0], \"y\": [0, 53.5], \"type\": \"scatter\"}, {\"hoverinfo\": \"text\", \"hovertext\": [\"nflId:29851.0<br>displayName:Aaron Rodgers<br>Position:QB<br>Role:Pass\", \"nflId:41282.0<br>displayName:Davante Adams<br>Position:SRoWR<br>Role:Pass Route\", \"nflId:41296.0<br>displayName:Billy Turner<br>Position:RT<br>Role:Pass Block\", \"nflId:45635.0<br>displayName:Robert Tonyan<br>Position:LWR<br>Role:Pass Route\", \"nflId:46705.0<br>displayName:Allen Lazard<br>Position:SLWR<br>Role:Pass Route\", \"nflId:47827.0<br>displayName:Elgton Jenkins<br>Position:LT<br>Role:Pass Block\", \"nflId:52470.0<br>displayName:A.J. Dillon<br>Position:RWR<br>Role:Pass Route\", \"nflId:52600.0<br>displayName:Jon Runyan<br>Position:LG<br>Role:Pass Block\", \"nflId:53172.0<br>displayName:Dominique Dafney<br>Position:SRiWR<br>Role:Pass Route\", \"nflId:53491.0<br>displayName:Josh Myers<br>Position:C<br>Role:Pass Block\", \"nflId:53571.0<br>displayName:Royce Newman<br>Position:RG<br>Role:Pass Block\"], \"marker\": {\"color\": \"#203731\"}, \"mode\": \"markers\", \"name\": \"GB\", \"x\": [98.68, 87.71, 98.95, 87.32, 88.03, 97.63, 86.44, 96.64, 86.85, 97.26, 97.83], \"y\": [24.19, 38.28, 28.03, 2.94, 14.9, 20.25, 42.9, 21.04, 31.58, 25.09, 28.08], \"type\": \"scatter\"}, {\"hoverinfo\": \"text\", \"hovertext\": [\"nflId:38544.0<br>displayName:Michael Brockers<br>Position:REO<br>Role:Pass Rush\", \"nflId:40000.0<br>displayName:Jamie Collins<br>Position:LLB<br>Role:Coverage\", \"nflId:40171.0<br>displayName:Nicholas Williams<br>Position:NT<br>Role:Pass Rush\", \"nflId:42444.0<br>displayName:Trey Flowers<br>Position:RLB<br>Role:Coverage\", \"nflId:43775.0<br>displayName:Romeo Okwara<br>Position:LEO<br>Role:Pass Rush\", \"nflId:44888.0<br>displayName:Alex Anzalone<br>Position:SCBR<br>Role:Coverage\", \"nflId:46151.0<br>displayName:Tracy Walker<br>Position:FSL<br>Role:Coverage\", \"nflId:47864.0<br>displayName:Will Harris<br>Position:FSR<br>Role:Coverage\", \"nflId:47929.0<br>displayName:Amani Oruwariye<br>Position:RCB<br>Role:Coverage\", \"nflId:53530.0<br>displayName:Ifeatu Melifonwu<br>Position:LCB<br>Role:Coverage\", \"nflId:53957.0<br>displayName:A.J. Parker<br>Position:SCBoL<br>Role:Coverage\"], \"marker\": {\"color\": \"#0076B6\"}, \"mode\": \"markers\", \"name\": \"DET\", \"x\": [96.34, 84.5, 96.63, 87.05, 98.06, 86.34, 69.67, 72.76, 86.58, 86.65, 84.12], \"y\": [19.98, 29.34, 25.92, 18.62, 29.42, 14.16, 37.68, 15.25, 3.8, 44.09, 36.86], \"type\": \"scatter\"}, {\"hoverinfo\": \"none\", \"marker\": {\"color\": \"#CBB67C\"}, \"mode\": \"markers\", \"name\": \"football\", \"x\": [93.62], \"y\": [32.44], \"type\": \"scatter\"}], \"name\": \"28\"}, {\"data\": [{\"hoverinfo\": \"none\", \"mode\": \"text\", \"showlegend\": false, \"text\": [\"10\", \"20\", \"30\", \"40\", \"50\", \"40\", \"30\", \"20\", \"10\"], \"textfont\": {\"color\": \"#ffffff\", \"family\": \"Courier New, monospace\", \"size\": 30}, \"x\": [20, 30, 40, 50, 60, 70, 80, 90, 100], \"y\": [5, 5, 5, 5, 5, 5, 5, 5, 5], \"type\": \"scatter\"}, {\"hoverinfo\": \"none\", \"mode\": \"text\", \"showlegend\": false, \"text\": [\"10\", \"20\", \"30\", \"40\", \"50\", \"40\", \"30\", \"20\", \"10\"], \"textfont\": {\"color\": \"#ffffff\", \"family\": \"Courier New, monospace\", \"size\": 30}, \"x\": [20, 30, 40, 50, 60, 70, 80, 90, 100], \"y\": [48.5, 48.5, 48.5, 48.5, 48.5, 48.5, 48.5, 48.5, 48.5], \"type\": \"scatter\"}, {\"hoverinfo\": \"none\", \"line\": {\"color\": \"blue\", \"dash\": \"dash\"}, \"showlegend\": false, \"x\": [92.0, 92.0], \"y\": [0, 53.5], \"type\": \"scatter\"}, {\"hoverinfo\": \"none\", \"line\": {\"color\": \"yellow\", \"dash\": \"dash\"}, \"showlegend\": false, \"x\": [102.0, 102.0], \"y\": [0, 53.5], \"type\": \"scatter\"}, {\"hoverinfo\": \"text\", \"hovertext\": [\"nflId:29851.0<br>displayName:Aaron Rodgers<br>Position:QB<br>Role:Pass\", \"nflId:41282.0<br>displayName:Davante Adams<br>Position:SRoWR<br>Role:Pass Route\", \"nflId:41296.0<br>displayName:Billy Turner<br>Position:RT<br>Role:Pass Block\", \"nflId:45635.0<br>displayName:Robert Tonyan<br>Position:LWR<br>Role:Pass Route\", \"nflId:46705.0<br>displayName:Allen Lazard<br>Position:SLWR<br>Role:Pass Route\", \"nflId:47827.0<br>displayName:Elgton Jenkins<br>Position:LT<br>Role:Pass Block\", \"nflId:52470.0<br>displayName:A.J. Dillon<br>Position:RWR<br>Role:Pass Route\", \"nflId:52600.0<br>displayName:Jon Runyan<br>Position:LG<br>Role:Pass Block\", \"nflId:53172.0<br>displayName:Dominique Dafney<br>Position:SRiWR<br>Role:Pass Route\", \"nflId:53491.0<br>displayName:Josh Myers<br>Position:C<br>Role:Pass Block\", \"nflId:53571.0<br>displayName:Royce Newman<br>Position:RG<br>Role:Pass Block\"], \"marker\": {\"color\": \"#203731\"}, \"mode\": \"markers\", \"name\": \"GB\", \"x\": [98.68, 87.65, 99.12, 86.67, 87.95, 97.75, 85.96, 96.71, 86.69, 97.39, 97.91], \"y\": [24.19, 38.75, 27.99, 2.65, 15.06, 20.4, 42.83, 21.04, 31.86, 25.29, 28.24], \"type\": \"scatter\"}, {\"hoverinfo\": \"text\", \"hovertext\": [\"nflId:38544.0<br>displayName:Michael Brockers<br>Position:REO<br>Role:Pass Rush\", \"nflId:40000.0<br>displayName:Jamie Collins<br>Position:LLB<br>Role:Coverage\", \"nflId:40171.0<br>displayName:Nicholas Williams<br>Position:NT<br>Role:Pass Rush\", \"nflId:42444.0<br>displayName:Trey Flowers<br>Position:RLB<br>Role:Coverage\", \"nflId:43775.0<br>displayName:Romeo Okwara<br>Position:LEO<br>Role:Pass Rush\", \"nflId:44888.0<br>displayName:Alex Anzalone<br>Position:SCBR<br>Role:Coverage\", \"nflId:46151.0<br>displayName:Tracy Walker<br>Position:FSL<br>Role:Coverage\", \"nflId:47864.0<br>displayName:Will Harris<br>Position:FSR<br>Role:Coverage\", \"nflId:47929.0<br>displayName:Amani Oruwariye<br>Position:RCB<br>Role:Coverage\", \"nflId:53530.0<br>displayName:Ifeatu Melifonwu<br>Position:LCB<br>Role:Coverage\", \"nflId:53957.0<br>displayName:A.J. Parker<br>Position:SCBoL<br>Role:Coverage\"], \"marker\": {\"color\": \"#0076B6\"}, \"mode\": \"markers\", \"name\": \"DET\", \"x\": [96.4, 84.49, 96.81, 86.99, 98.03, 86.26, 69.66, 72.58, 86.03, 86.45, 84.29], \"y\": [20.13, 29.59, 26.15, 18.76, 29.49, 14.37, 38.0, 15.43, 3.55, 44.08, 37.26], \"type\": \"scatter\"}, {\"hoverinfo\": \"none\", \"marker\": {\"color\": \"#CBB67C\"}, \"mode\": \"markers\", \"name\": \"football\", \"x\": [92.39], \"y\": [34.31], \"type\": \"scatter\"}], \"name\": \"29\"}]}'"
      ]
     },
     "execution_count": 11,
     "metadata": {},
     "output_type": "execute_result"
    }
   ],
   "source": [
    "json02 = json.dumps(fig, cls=plotly.utils.PlotlyJSONEncoder)\n",
    "\n",
    "json02"
   ]
  },
  {
   "cell_type": "code",
   "execution_count": 14,
   "metadata": {},
   "outputs": [],
   "source": [
    "fig.write_html('../api/templates/field_animation.html')"
   ]
  },
  {
   "cell_type": "code",
   "execution_count": null,
   "metadata": {},
   "outputs": [],
   "source": []
  }
 ],
 "metadata": {
  "kernelspec": {
   "display_name": "Python 3 (ipykernel)",
   "language": "python",
   "name": "python3"
  },
  "language_info": {
   "codemirror_mode": {
    "name": "ipython",
    "version": 3
   },
   "file_extension": ".py",
   "mimetype": "text/x-python",
   "name": "python",
   "nbconvert_exporter": "python",
   "pygments_lexer": "ipython3",
   "version": "3.9.12"
  },
  "vscode": {
   "interpreter": {
    "hash": "139bbdc7f9965fcbdc609bb167bfbc091b7d8cf85e7676405ff3381793a51f7f"
   }
  }
 },
 "nbformat": 4,
 "nbformat_minor": 2
}
