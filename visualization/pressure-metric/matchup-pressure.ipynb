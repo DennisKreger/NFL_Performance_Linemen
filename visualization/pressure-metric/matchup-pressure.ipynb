{
 "cells": [
  {
   "cell_type": "code",
   "execution_count": 99,
   "id": "47855c37",
   "metadata": {},
   "outputs": [],
   "source": [
    "# Import dependencies\n",
    "import pandas as pd\n",
    "import numpy as np\n",
    "from matplotlib import pyplot as plt\n",
    "from scipy.stats import norm\n",
    "from statistics import mean, stdev\n",
    "import math\n",
    "import plotly.graph_objects as go"
   ]
  },
  {
   "cell_type": "code",
   "execution_count": 100,
   "id": "54ff819f",
   "metadata": {},
   "outputs": [],
   "source": [
    "# Read data\n",
    "red_zone_qb_proximity = pd.read_csv('https://storage.googleapis.com/big-data-bowl/redZoneQBProximity.csv')"
   ]
  },
  {
   "cell_type": "code",
   "execution_count": 101,
   "id": "fbe8522d",
   "metadata": {},
   "outputs": [],
   "source": [
    "def pressure_probability(nflId):\n",
    "    player_pressure = red_zone_qb_proximity[red_zone_qb_proximity['nflId2'] == nflId][['gameId', 'playId', 'distance']].groupby(['gameId', 'playId']).min().reset_index()\n",
    "    if len(player_pressure) > 5:\n",
    "        return norm(loc = mean(player_pressure['distance']) , scale = stdev(player_pressure['distance'])).cdf(1)\n",
    "    else:\n",
    "        return np.nan"
   ]
  },
  {
   "cell_type": "code",
   "execution_count": 102,
   "id": "d6c78968",
   "metadata": {},
   "outputs": [],
   "source": [
    "def pressure_allowed_probability(nflId):\n",
    "    plays = red_zone_qb_proximity[red_zone_qb_proximity['nflId2'] == nflId][['gameId', 'playId']].drop_duplicates()\n",
    "    plays_opposing = plays.merge(red_zone_qb_proximity[red_zone_qb_proximity['matchupOpposing'] == 1])\n",
    "    play_pressure = plays_opposing[['gameId', 'playId', 'distance']].groupby(['gameId', 'playId']).min().reset_index()\n",
    "    if len(play_pressure) > 5:\n",
    "        return norm(loc = mean(play_pressure['distance']) , scale = stdev(play_pressure['distance'])).cdf(1)\n",
    "    else:\n",
    "        return np.nan"
   ]
  },
  {
   "cell_type": "code",
   "execution_count": 103,
   "id": "c3dcaa85",
   "metadata": {},
   "outputs": [],
   "source": [
    "def format_pct(dec):\n",
    "    return str(round(dec*100,2)) + '%'"
   ]
  },
  {
   "cell_type": "code",
   "execution_count": 104,
   "id": "cbaeae4d",
   "metadata": {},
   "outputs": [],
   "source": [
    "def player_matchup(nflId_defense, nflId_offense):\n",
    "    pressure_metric_defense = pressure_probability(nflId_defense)\n",
    "    pressure_metric_offense = pressure_allowed_probability(nflId_offense)\n",
    "    matchup_metric = pressure_metric_defense * pressure_metric_offense\n",
    "    \n",
    "    fig = go.Figure(go.Indicator(\n",
    "        domain = {'x': [0, 1], 'y': [0, 1]},\n",
    "        value = 1000*math.pow(matchup_metric,1/4),\n",
    "        mode = \"gauge+number+delta\",\n",
    "        title = {'text': \"Pressure Metric\"},\n",
    "        gauge = {'axis': {'range': [None, 1000]},}))\n",
    "\n",
    "    fig.write_html('player_matchup_temp.html')\n",
    "    with open('player_matchup_temp.html','r') as html_file:\n",
    "        html = html_file.read()\n",
    "    html_file.close()\n",
    "    \n",
    "    return format_pct(pressure_metric_defense), format_pct(pressure_metric_offense), html"
   ]
  },
  {
   "cell_type": "code",
   "execution_count": null,
   "id": "fbef82dd",
   "metadata": {},
   "outputs": [],
   "source": []
  }
 ],
 "metadata": {
  "kernelspec": {
   "display_name": "PythonData",
   "language": "python",
   "name": "pythondata"
  },
  "language_info": {
   "codemirror_mode": {
    "name": "ipython",
    "version": 3
   },
   "file_extension": ".py",
   "mimetype": "text/x-python",
   "name": "python",
   "nbconvert_exporter": "python",
   "pygments_lexer": "ipython3",
   "version": "3.7.13"
  }
 },
 "nbformat": 4,
 "nbformat_minor": 5
}
