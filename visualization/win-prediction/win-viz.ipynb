{
 "cells": [
  {
   "cell_type": "code",
   "execution_count": 1,
   "id": "b32b9cee",
   "metadata": {},
   "outputs": [],
   "source": [
    "import matplotlib.pyplot as plt\n",
    "import mpld3"
   ]
  },
  {
   "cell_type": "code",
   "execution_count": 2,
   "id": "afaa4bb1",
   "metadata": {},
   "outputs": [],
   "source": [
    "team_abbr = {\n",
    "    'TB': 'Tampa Bay Buccaneers',\n",
    "    'ATL': 'Atlanta Falcons',\n",
    "    'BUF': 'Buffalo Bills',\n",
    "    'CAR': 'Carolina Panthers',\n",
    "    'CIN': 'Cincinnati Bengals',\n",
    "    'DET': 'Detroit Lions',\n",
    "    'HOU': 'Houston Texans',\n",
    "    'IND': 'Indianapolis Colts',\n",
    "    'TEN': 'Tennessee Titans',\n",
    "    'WAS': 'Washington Redskins',\n",
    "    'KC': 'Kansas City Chiefs',\n",
    "    'NE': 'New England Patriots',\n",
    "    'NO': 'New Orleans Saints',\n",
    "    'NYG': 'New York Giants',\n",
    "    'LA': 'Los Angeles Rams',\n",
    "    'LV': 'Oakland Raiders',\n",
    "    'CHI': 'Chicago Bears',\n",
    "    'CLE': 'Cleveland Browns',\n",
    "    'JAX': 'Jacksonville Jaguars',\n",
    "    'MIA': 'Miami Dolphins',\n",
    "    'NYJ': 'New York Jets',\n",
    "    'PHI': 'Philadelphia Eagles',\n",
    "    'PIT': 'Pittsburgh Steelers',\n",
    "    'ARI': 'Arizona Cardinals',\n",
    "    'LAC': 'Los Angeles Chargers',\n",
    "    'SEA': 'Seattle Seahawks',\n",
    "    'BAL': 'Baltimore Ravens',\n",
    "    'GB': 'Green Bay Packers',\n",
    "    'DEN': 'Denver Broncos',\n",
    "    'MIN': 'Minnesota Vikings',\n",
    "    'SF': 'San Francisco 49ers',\n",
    "    'DAL': 'Dallas Cowboys'\n",
    "}\n",
    "team_colors_primary = {\n",
    "    'Arizona Cardinals': '#97233f',\n",
    "    'Atlanta Falcons': '#a71930',\n",
    "    'Baltimore Ravens': '#241773',\n",
    "    'Buffalo Bills': '#00338d',\n",
    "    'Carolina Panthers': '#0085ca',\n",
    "    'Chicago Bears': '#0b162a',\n",
    "    'Cincinnati Bengals': '#000000',\n",
    "    'Cleveland Browns': '#311d00',\n",
    "    'Dallas Cowboys': '#002244',\n",
    "    'Denver Broncos': '#fb4f14',\n",
    "    'Detroit Lions': '#0076b6',\n",
    "    'Green Bay Packers': '#203731',\n",
    "    'Houston Texans': '#03202f',\n",
    "    'Indianapolis Colts': '#002c5f',\n",
    "    'Jacksonville Jaguars': '#006778',\n",
    "    'Kansas City Chiefs': '#e31837',\n",
    "    'Los Angeles Chargers': '#002244',\n",
    "    'Los Angeles Rams': '#002244',\n",
    "    'Miami Dolphins': '#008e97',\n",
    "    'Minnesota Vikings': '#4f2683',\n",
    "    'New England Patriots': '#002244',\n",
    "    'New Orleans Saints': '#d3bc8d',\n",
    "    'New York Giants': '#0b2265',\n",
    "    'New York Jets': '#003f2d',\n",
    "    'Oakland Raiders': '#a5acaf',\n",
    "    'Las Vegas Raiders': '#a5acaf',\n",
    "    'Philadelphia Eagles': '#004c54',\n",
    "    'Pittsburgh Steelers': '#000000',\n",
    "    'San Francisco 49ers': '#aa0000',\n",
    "    'Seattle Seahawks': '#002244',\n",
    "    'Tampa Bay Buccaneers': '#d50a0a',\n",
    "    'Tennessee Titans': '#002244',\n",
    "    'Washington Redskins': '#773141',\n",
    "    'Washington Commanders': '#773141'\n",
    "}\n",
    "\n",
    "team_colors_secondary = {\n",
    "    'Arizona Cardinals': '#000000',\n",
    "    'Atlanta Falcons': '#000000',\n",
    "    'Baltimore Ravens': '#9e7c0c',\n",
    "    'Buffalo Bills': '#c60c30',\n",
    "    'Carolina Panthers': '#000000',\n",
    "    'Chicago Bears': '#c83803',\n",
    "    'Cincinnati Bengals': '#fb4f14',\n",
    "    'Cleveland Browns': '#ff3c00',\n",
    "    'Dallas Cowboys': '#869397',\n",
    "    'Denver Broncos': '#002244',\n",
    "    'Detroit Lions': '#b0b7bc',\n",
    "    'Green Bay Packers': '#ffb612',\n",
    "    'Houston Texans': '#a71930',\n",
    "    'Indianapolis Colts': '#a5acaf',\n",
    "    'Jacksonville Jaguars': '#000000',\n",
    "    'Kansas City Chiefs': '#ffb612',\n",
    "    'Los Angeles Chargers': '#0073cf',\n",
    "    'Los Angeles Rams': '#b3995d',\n",
    "    'Miami Dolphins': '#f26a24',\n",
    "    'Minnesota Vikings': '#ffc62f',\n",
    "    'New England Patriots': '#c60c30',\n",
    "    'New Orleans Saints': '#d3bc8d',\n",
    "    'New York Giants': '#a71930',\n",
    "    'New York Jets': '#000000',\n",
    "    'Oakland Raiders': '#000000',\n",
    "    'Las Vegas Raiders': '#000000',\n",
    "    'Philadelphia Eagles': '#a5acaf',\n",
    "    'Pittsburgh Steelers': '#a5acaf',\n",
    "    'San Francisco 49ers': '#b3995d',\n",
    "    'Seattle Seahawks': '#69be28',\n",
    "    'Tampa Bay Buccaneers': '#34302b',\n",
    "    'Tennessee Titans': '#4b92db',\n",
    "    'Washington Redskins': '#ffb612',\n",
    "    'Washington Commanders': '#ffb612'\n",
    "}"
   ]
  },
  {
   "cell_type": "code",
   "execution_count": 7,
   "id": "b46c08e1",
   "metadata": {},
   "outputs": [],
   "source": [
    "def make_plot(home, visitor, home_win, confidence):\n",
    "    if home in team_abbr.keys():\n",
    "        home = team_abbr[home]\n",
    "    if visitor in team_abbr.keys():\n",
    "        visitor = team_abbr[visitor]\n",
    "    plt.plot(\n",
    "        [5,-0.35,-0.35,5],\n",
    "        [0,0,2,2],\n",
    "        color=team_colors_primary[home],\n",
    "        linewidth=9\n",
    "    )\n",
    "    plt.plot(\n",
    "        [5,-0.2,-0.2,5],\n",
    "        [0.15,0.15,1.85,1.85],\n",
    "        color=team_colors_secondary[home],\n",
    "        linewidth=6\n",
    "    )\n",
    "    plt.plot(\n",
    "        [5,10.35,10.35,5],\n",
    "        [0,0,2,2],\n",
    "        color=team_colors_primary[visitor],\n",
    "        linewidth=9\n",
    "    )\n",
    "    plt.plot(\n",
    "        [5,10.2,10.2,5],\n",
    "        [0.15,0.15,1.85,1.85],\n",
    "        color=team_colors_secondary[visitor],\n",
    "        linewidth=6\n",
    "    )\n",
    "    plt.plot(\n",
    "        [5,5],\n",
    "        [-0.1,2.1],\n",
    "        color='white',\n",
    "        linewidth=9\n",
    "    )\n",
    "    plt.plot(\n",
    "        [5+(0.5-home_win)*20*(confidence-0.5),5+(0.5-home_win)*20*(confidence-0.5)],\n",
    "        [0.4,1.6],\n",
    "        color='black',\n",
    "        linewidth=4,\n",
    "        solid_capstyle='round'\n",
    "    )\n",
    "    ax = plt.gca()\n",
    "    ax.set_aspect(1)\n",
    "    ax.set_ylim(-0.5,2.5)\n",
    "    plt.axis('off')\n",
    "    return mpld3.fig_to_html(plt.figure())\n",
    "    plt.show()"
   ]
  },
  {
   "cell_type": "code",
   "execution_count": 8,
   "id": "85e5e52b",
   "metadata": {},
   "outputs": [
    {
     "data": {
      "text/plain": [
       "'\\n\\n<style>\\n\\n</style>\\n\\n<div id=\"fig_el1879220670549142488404498870\"></div>\\n<script>\\nfunction mpld3_load_lib(url, callback){\\n  var s = document.createElement(\\'script\\');\\n  s.src = url;\\n  s.async = true;\\n  s.onreadystatechange = s.onload = callback;\\n  s.onerror = function(){console.warn(\"failed to load library \" + url);};\\n  document.getElementsByTagName(\"head\")[0].appendChild(s);\\n}\\n\\nif(typeof(mpld3) !== \"undefined\" && mpld3._mpld3IsLoaded){\\n   // already loaded: just create the figure\\n   !function(mpld3){\\n       \\n       mpld3.draw_figure(\"fig_el1879220670549142488404498870\", {\"width\": 432.0, \"height\": 288.0, \"axes\": [], \"data\": {}, \"id\": \"el187922067054914248\", \"plugins\": [{\"type\": \"reset\"}, {\"type\": \"zoom\", \"button\": true, \"enabled\": false}, {\"type\": \"boxzoom\", \"button\": true, \"enabled\": false}]});\\n   }(mpld3);\\n}else if(typeof define === \"function\" && define.amd){\\n   // require.js is available: use it to load d3/mpld3\\n   require.config({paths: {d3: \"https://d3js.org/d3.v5\"}});\\n   require([\"d3\"], function(d3){\\n      window.d3 = d3;\\n      mpld3_load_lib(\"https://mpld3.github.io/js/mpld3.v0.5.8.js\", function(){\\n         \\n         mpld3.draw_figure(\"fig_el1879220670549142488404498870\", {\"width\": 432.0, \"height\": 288.0, \"axes\": [], \"data\": {}, \"id\": \"el187922067054914248\", \"plugins\": [{\"type\": \"reset\"}, {\"type\": \"zoom\", \"button\": true, \"enabled\": false}, {\"type\": \"boxzoom\", \"button\": true, \"enabled\": false}]});\\n      });\\n    });\\n}else{\\n    // require.js not available: dynamically load d3 & mpld3\\n    mpld3_load_lib(\"https://d3js.org/d3.v5.js\", function(){\\n         mpld3_load_lib(\"https://mpld3.github.io/js/mpld3.v0.5.8.js\", function(){\\n                 \\n                 mpld3.draw_figure(\"fig_el1879220670549142488404498870\", {\"width\": 432.0, \"height\": 288.0, \"axes\": [], \"data\": {}, \"id\": \"el187922067054914248\", \"plugins\": [{\"type\": \"reset\"}, {\"type\": \"zoom\", \"button\": true, \"enabled\": false}, {\"type\": \"boxzoom\", \"button\": true, \"enabled\": false}]});\\n            })\\n         });\\n}\\n</script>'"
      ]
     },
     "execution_count": 8,
     "metadata": {},
     "output_type": "execute_result"
    },
    {
     "data": {
      "image/png": "[encoded data removed]",
      "text/plain": [
       "<Figure size 432x288 with 1 Axes>"
      ]
     },
     "metadata": {
      "needs_background": "light"
     },
     "output_type": "display_data"
    },
    {
     "data": {
      "text/plain": [
       "<Figure size 432x288 with 0 Axes>"
      ]
     },
     "metadata": {},
     "output_type": "display_data"
    }
   ],
   "source": [
    "# make_plot(home, visitor, home_win, confidence)\n",
    "make_plot('Washington Commanders', 'NYJ', 0, 0.75)"
   ]
  },
  {
   "cell_type": "code",
   "execution_count": null,
   "id": "b6990623",
   "metadata": {},
   "outputs": [],
   "source": []
  }
 ],
 "metadata": {
  "kernelspec": {
   "display_name": "Python 3 (ipykernel)",
   "language": "python",
   "name": "python3"
  },
  "language_info": {
   "codemirror_mode": {
    "name": "ipython",
    "version": 3
   },
   "file_extension": ".py",
   "mimetype": "text/x-python",
   "name": "python",
   "nbconvert_exporter": "python",
   "pygments_lexer": "ipython3",
   "version": "3.7.13"
  }
 },
 "nbformat": 4,
 "nbformat_minor": 5
}
